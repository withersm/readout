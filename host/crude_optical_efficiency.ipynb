{
 "cells": [
  {
   "cell_type": "code",
   "execution_count": 5,
   "id": "64b7c3df-b872-420d-94b5-585781409d98",
   "metadata": {},
   "outputs": [],
   "source": [
    "import numpy as np\n",
    "import matplotlib.pyplot as plt"
   ]
  },
  {
   "cell_type": "code",
   "execution_count": 13,
   "id": "7ad381bf-5f41-434b-8955-51c3c7a9423d",
   "metadata": {},
   "outputs": [
    {
     "name": "stdout",
     "output_type": "stream",
     "text": [
      "(2, 1000, 500)\n",
      "[6.60647282e+09+0.j 6.74888800e+09+0.j 6.75654079e+09+0.j\n",
      " 6.76130358e+09+0.j 6.76306346e+09+0.j 6.76452341e+09+0.j\n",
      " 6.76592134e+09+0.j 6.76827823e+09+0.j 6.76974616e+09+0.j\n",
      " 6.77133209e+09+0.j 6.77289902e+09+0.j 6.77483992e+09+0.j\n",
      " 6.77673283e+09+0.j 6.77814476e+09+0.j 6.78159557e+09+0.j\n",
      " 6.78324250e+09+0.j 6.78515941e+09+0.j 6.78736631e+09+0.j\n",
      " 6.78864724e+09+0.j 6.78985720e+09+0.j 6.79157910e+09+0.j\n",
      " 6.79327103e+09+0.j 6.79483196e+09+0.j 6.79689587e+09+0.j\n",
      " 6.79823880e+09+0.j 6.80014568e+09+0.j 6.80175961e+09+0.j\n",
      " 6.80340954e+09+0.j 6.80509047e+09+0.j 6.80650740e+09+0.j\n",
      " 6.80866128e+09+0.j 6.81806886e+09+0.j 6.81977074e+09+0.j\n",
      " 6.82141767e+09+0.j 6.82305860e+09+0.j 6.82388955e+09+0.j\n",
      " 6.82570546e+09+0.j 6.82715039e+09+0.j 6.82860334e+09+0.j\n",
      " 6.83025025e+09+0.j 6.83194618e+09+0.j 6.83391009e+09+0.j\n",
      " 6.83578699e+09+0.j 6.83738792e+09+0.j 6.83939780e+09+0.j\n",
      " 6.84108873e+09+0.j 6.84287164e+09+0.j 6.84491255e+09+0.j\n",
      " 6.84651848e+09+0.j 6.84825538e+09+0.j 6.85036029e+09+0.j\n",
      " 6.85118827e+09+0.j 6.85260220e+09+0.j 6.85420410e+09+0.j\n",
      " 6.85564405e+09+0.j 6.85705698e+09+0.j 6.85876487e+09+0.j\n",
      " 6.86064080e+09+0.j 6.86263770e+09+0.j 6.86437261e+09+0.j\n",
      " 6.86606454e+09+0.j 6.86774745e+09+0.j 6.86998135e+09+0.j\n",
      " 6.87135628e+09+0.j 6.94423979e+09+0.j 6.94970653e+09+0.j\n",
      " 6.95341334e+09+0.j 6.95812611e+09+0.j 6.95942204e+09+0.j\n",
      " 6.99172452e+09+0.j]\n"
     ]
    },
    {
     "name": "stderr",
     "output_type": "stream",
     "text": [
      "/tmp/ipykernel_23641/898491529.py:19: RuntimeWarning: divide by zero encountered in log10\n",
      "  plt.plot(freq, 20*np.log10(np.abs(z)))\n"
     ]
    }
   ],
   "source": [
    "%matplotlib qt\n",
    "\n",
    "file = '/home/matt/ali_drive_mnt/tone_initializations/fcenter_6750.0_20240513204549/lo_sweep_initial_fcenter_6750.0_20240513204557.npy'\n",
    "file_targeted = '/home/matt/ali_drive_mnt/tone_initializations/fcenter_6750.0_20240513204549/lo_sweep_targeted_2_fcenter_6750.0_20240513204829.npy'\n",
    "freq_list = '/home/matt/ali_drive_mnt/tone_initializations/fcenter_6750.0_20240513204549/freq_list_lo_sweep_initial_fcenter_6750.0_20240513204557.npy'\n",
    "\n",
    "data = np.load(file)\n",
    "data_targeted = np.load(file_targeted)\n",
    "freq_list_data = np.load(freq_list)\n",
    "\n",
    "print(data.shape)\n",
    "\n",
    "freq = np.concatenate(data[0])\n",
    "z = np.concatenate(data[1])\n",
    "\n",
    "freq_targeted = np.concatenate(data_targeted[0])\n",
    "z_targeted = np.concatenate(data_targeted[1])\n",
    "\n",
    "plt.plot(freq, 20*np.log10(np.abs(z)))\n",
    "\n",
    "plt.plot(freq_targeted, 20*np.log10(np.abs(z_targeted)))\n",
    "\n",
    "\n",
    "print(freq_list_data)"
   ]
  }
 ],
 "metadata": {
  "kernelspec": {
   "display_name": "Python 3 (ipykernel)",
   "language": "python",
   "name": "python3"
  },
  "language_info": {
   "codemirror_mode": {
    "name": "ipython",
    "version": 3
   },
   "file_extension": ".py",
   "mimetype": "text/x-python",
   "name": "python",
   "nbconvert_exporter": "python",
   "pygments_lexer": "ipython3",
   "version": "3.10.5"
  }
 },
 "nbformat": 4,
 "nbformat_minor": 5
}
