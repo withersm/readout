{
 "cells": [
  {
   "cell_type": "code",
   "execution_count": 1,
   "id": "d0159b81-638f-4c70-bcc6-935668da51d7",
   "metadata": {
    "collapsed": true,
    "jupyter": {
     "outputs_hidden": true
    },
    "tags": []
   },
   "outputs": [
    {
     "name": "stderr",
     "output_type": "stream",
     "text": [
      "/tmp/ipykernel_560401/1178957044.py:8: DeprecationWarning: the imp module is deprecated in favour of importlib and slated for removal in Python 3.12; see the module's documentation for alternative uses\n",
      "  import imp\n"
     ]
    },
    {
     "data": {
      "text/plain": [
       "<module 'ali_offline_demod' from '/home/matt/readout/host/ali_offline_demod.py'>"
      ]
     },
     "execution_count": 1,
     "metadata": {},
     "output_type": "execute_result"
    }
   ],
   "source": [
    "import matplotlib.pyplot as plt\n",
    "import numpy as np\n",
    "import sys\n",
    "import glob as gl\n",
    "import ali_offline_demod as dm\n",
    "\n",
    "\n",
    "import imp\n",
    "imp.reload(dm)"
   ]
  },
  {
   "cell_type": "code",
   "execution_count": 9,
   "id": "12e04224-0620-48b9-a6d5-f74c23945706",
   "metadata": {},
   "outputs": [],
   "source": [
    "path = '/home/matt/alicpt_data/tone_initializations' #input data path\n",
    "\n",
    "\"\"\"\n",
    "initial_lo_sweep=np.load(dm.find_file(path,'test')) #find initial lo sweep file\n",
    "targeted_lo_sweep=np.load(dm.find_file(path,'target')) #find targeted sweep file\n",
    "tone_freqs=np.load(dm.find_file(path,'freqs')) #find tone freqs\n",
    "ts_fr,Is_fr,Qs_fr=dm.read_data(dm.find_file(path,'ALICPT_RDF')) #find time stream data\n",
    "\"\"\"\n",
    "\n",
    "\"\"\"\n",
    "initial_lo_sweep=np.load('/home/matt/alicpt_data/tone_initializations/fcenter_4399.5_20240129135546/lo_sweep_initial_fcenter_4399.5_20240129135601.npy') #find initial lo sweep file\n",
    "targeted_lo_sweep=np.load('/home/matt/alicpt_data/tone_initializations/fcenter_4399.5_20240129135546/lo_sweep_targeted_2_fcenter_4399.5_20240129140219.npy') #find targeted sweep file\n",
    "tone_freqs=np.load('/home/matt/alicpt_data/tone_initializations/fcenter_4399.5_20240129135546/freq_list_lo_sweep_targeted_1_fcenter_4399.5_20240129140000.npy') #find tone freqs\n",
    "ts_fr,Is_fr,Qs_fr=dm.read_data('/home/matt/alicpt_data/time_streams/ts_toneinit_fcenter_4399.5_20240129135546_t_20240129140535.hd5') #find time stream data\n",
    "\"\"\"\n",
    "\n",
    "\n",
    "initial_lo_sweep=np.load('/home/matt/alicpt_data/tone_initializations/fcenter_4250.0_20240129152847/lo_sweep_initial_fcenter_4250.0_20240129152859.npy') #find initial lo sweep file\n",
    "targeted_lo_sweep=np.load('/home/matt/alicpt_data/tone_initializations/fcenter_4250.0_20240129152847/lo_sweep_targeted_2_fcenter_4250.0_20240129153135.npy') #find targeted sweep file\n",
    "tone_freqs=np.load('/home/matt/alicpt_data/tone_initializations/fcenter_4250.0_20240129152847/freq_list_lo_sweep_targeted_1_fcenter_4250.0_20240129153021.npy') #find tone freqs\n",
    "ts_fr,Is_fr,Qs_fr=dm.read_data('/home/matt/alicpt_data/time_streams/ts_toneinit_fcenter_4250.0_20240129152847_t_20240129160734.hd5') #find time stream data\n",
    "\n"
   ]
  },
  {
   "cell_type": "markdown",
   "id": "2d39f963-0e7f-483a-829e-de34b9ad17d3",
   "metadata": {},
   "source": [
    "## 1) View Initial LO Sweep"
   ]
  },
  {
   "cell_type": "code",
   "execution_count": 17,
   "id": "50dfea5d-67b8-4bae-a92c-2fa9beba1b9a",
   "metadata": {},
   "outputs": [],
   "source": [
    "%matplotlib qt\n",
    "dm.plot_s21([initial_lo_sweep])"
   ]
  },
  {
   "cell_type": "markdown",
   "id": "8de3f27d-f72b-407a-b72e-5490c0a862af",
   "metadata": {},
   "source": [
    "## 2) Enter Frequency Region for Cable Delay Calculation"
   ]
  },
  {
   "cell_type": "code",
   "execution_count": 11,
   "id": "e58e369b-451f-46a2-87ff-c4b57ac0676b",
   "metadata": {},
   "outputs": [],
   "source": [
    "delay_region_start = 4.02e9  #Hz\n",
    "delay_region_stop =  4.03e9 #Hz"
   ]
  },
  {
   "cell_type": "markdown",
   "id": "36e75acc-fd8b-4136-bb20-174464b9c8dc",
   "metadata": {},
   "source": [
    "## 3) Measure Cable Delay"
   ]
  },
  {
   "cell_type": "code",
   "execution_count": 12,
   "id": "e1a53910-a69b-4f10-9c9f-af36fd731f21",
   "metadata": {},
   "outputs": [
    {
     "data": {
      "image/png": "[encoded data removed]",
      "text/plain": [
       "<Figure size 792x576 with 1 Axes>"
      ]
     },
     "metadata": {
      "needs_background": "light"
     },
     "output_type": "display_data"
    }
   ],
   "source": [
    "# Measure\n",
    "delays = dm.measure_delay_test_given_freq(initial_lo_sweep,delay_region_start,delay_region_stop,plot=True)"
   ]
  },
  {
   "cell_type": "markdown",
   "id": "c2f09344-fe03-4f3d-9bd4-d00e6fabdc35",
   "metadata": {},
   "source": [
    "## 4) Remove Cable Delay"
   ]
  },
  {
   "cell_type": "code",
   "execution_count": 13,
   "id": "fc0e825d-c9c1-47cd-a18e-137442e62fa9",
   "metadata": {},
   "outputs": [],
   "source": [
    "#remove cable delay from target sweep and timestream\n",
    "#plot S21 phase -> when there is no resonance it is the cable delay\n",
    "targeted_lo_sweep_rm=dm.remove_delay(targeted_lo_sweep,np.median(delays))\n",
    "IQ_stream_rm=dm.remove_delay_timestream(Is_fr+1j*Qs_fr,tone_freqs,np.median(delays))"
   ]
  },
  {
   "cell_type": "markdown",
   "id": "6fd0cdce-0d47-468b-985f-9a1d51637f1f",
   "metadata": {},
   "source": [
    "## 5) Measure Circle Parameters (per channel)"
   ]
  },
  {
   "cell_type": "code",
   "execution_count": 14,
   "id": "14f6a4c6-9451-4cf3-a3ca-4d73a9c5ee2a",
   "metadata": {},
   "outputs": [],
   "source": [
    "#Jiansong Gao Thesis Method\n",
    "calibration=dm.measure_circle_allch(targeted_lo_sweep_rm,tone_freqs) #finds circle center and initial phase for every channel"
   ]
  },
  {
   "cell_type": "markdown",
   "id": "f6e9062a-8a67-4310-bd86-3ac3fde87652",
   "metadata": {},
   "source": [
    "## 6) Calibrate Time Stream Data (per channel)"
   ]
  },
  {
   "cell_type": "code",
   "execution_count": 15,
   "id": "1db4c43e-bed3-4c8f-8abb-e74b79ae2432",
   "metadata": {},
   "outputs": [],
   "source": [
    "data_cal=dm.get_phase(IQ_stream_rm,calibration)"
   ]
  },
  {
   "cell_type": "markdown",
   "id": "72c7d4c6-1d62-4062-8e0f-f96016cc5daf",
   "metadata": {},
   "source": [
    "## 7) View Time Stream Data (per channel)"
   ]
  },
  {
   "cell_type": "code",
   "execution_count": 16,
   "id": "988248d4-ae45-46dd-afd3-3dc1924ff0de",
   "metadata": {},
   "outputs": [],
   "source": [
    "%matplotlib qt \n",
    "dm.plot_timestream(ts_fr, data_cal, start_time = 0, end_time = 10, channel_nums = [20])"
   ]
  },
  {
   "cell_type": "markdown",
   "id": "d0cbf756-7a88-4cee-aa3c-9b5b22d667c5",
   "metadata": {},
   "source": [
    "## 8) Find nphi_0"
   ]
  },
  {
   "cell_type": "code",
   "execution_count": 95,
   "id": "dacbe5a0-9a56-417b-b93e-262af03b0022",
   "metadata": {},
   "outputs": [
    {
     "name": "stdout",
     "output_type": "stream",
     "text": [
      "n_phi0 = 3.4894811499311555\n"
     ]
    }
   ],
   "source": [
    "%matplotlib qt\n",
    "f_sawtooth = 5 #Hz\n",
    "\n",
    "n_phi0 = dm.find_n_phi0(ts_fr,data_cal[1:20],f_sawtooth,plot=True)\n",
    "\n",
    "print(f'n_phi0 = {n_phi0}')"
   ]
  },
  {
   "cell_type": "markdown",
   "id": "ab5183f3-3a34-4c21-b884-0b759530b2d4",
   "metadata": {},
   "source": [
    "## 9) Find t0 (beginning of first flux ramp)"
   ]
  },
  {
   "cell_type": "code",
   "execution_count": 100,
   "id": "b2e25c27-cba3-47b4-8823-fa70d4c9e6dc",
   "metadata": {},
   "outputs": [
    {
     "name": "stdout",
     "output_type": "stream",
     "text": [
      "[0.10301199 0.11040206 0.1102951  0.11048837 0.11163712        nan\n",
      "        nan 0.11059709 0.11292648        nan 0.08665333        nan\n",
      " 0.10710545        nan 0.11028895 0.11039641 0.11097698 0.1122436\n",
      " 0.11042943 0.10996528]\n",
      "0.11040205955505389\n"
     ]
    }
   ],
   "source": [
    "t0_array = np.array([])\n",
    "for current_channel in range(20):#range(len(data_cal)):\n",
    "    t0 = dm.mea_reset_t0(ts_fr,data_cal[current_channel],f_sawtooth,plot=True)\n",
    "    t0_array = np.append(t0_array,t0)\n",
    "    \n",
    "t0_med = np.nanmedian(t0_array)\n",
    "print(t0_array)\n",
    "print(t0_med)"
   ]
  },
  {
   "cell_type": "markdown",
   "id": "7b3bfc21-50a1-4481-92e9-e32911ec904b",
   "metadata": {},
   "source": [
    "## 9) Demodulate and View Results "
   ]
  },
  {
   "cell_type": "code",
   "execution_count": 107,
   "id": "a7503b3b-e624-4c91-a065-f5dbfb0bdb9e",
   "metadata": {},
   "outputs": [
    {
     "name": "stdout",
     "output_type": "stream",
     "text": [
      "5312\n",
      "10.876849889755249\n",
      "54\n",
      "0\n",
      "0.09856605529785156\n",
      "1\n",
      "0.2991039752960205\n",
      "2\n",
      "0.49988389015197754\n",
      "3\n",
      "0.6984856128692627\n",
      "4\n",
      "0.9483170509338379\n",
      "5\n",
      "1.099963903427124\n",
      "6\n",
      "1.2984082698822021\n",
      "7\n",
      "1.499173641204834\n",
      "8\n",
      "1.700010061264038\n",
      "9\n",
      "1.9247856140136719\n",
      "10\n",
      "2.0993614196777344\n",
      "11\n",
      "2.300100326538086\n",
      "12\n",
      "2.4988479614257812\n",
      "13\n",
      "2.6992897987365723\n",
      "14\n",
      "2.9043383598327637\n",
      "15\n",
      "3.0986268520355225\n",
      "16\n",
      "3.29945707321167\n",
      "17\n",
      "3.5002293586730957\n",
      "18\n",
      "3.698657989501953\n",
      "19\n",
      "3.9010846614837646\n",
      "20\n",
      "4.100270748138428\n",
      "21\n",
      "4.298724889755249\n",
      "22\n",
      "4.499596834182739\n",
      "23\n",
      "4.700167179107666\n",
      "24\n",
      "4.901048421859741\n",
      "25\n",
      "5.099514007568359\n",
      "26\n",
      "5.3004419803619385\n",
      "27\n",
      "5.499092102050781\n",
      "28\n",
      "5.699618101119995\n",
      "29\n",
      "5.901499032974243\n",
      "30\n",
      "6.099027872085571\n",
      "31\n",
      "6.299654245376587\n",
      "32\n",
      "6.5005786418914795\n",
      "33\n",
      "6.699109077453613\n",
      "34\n",
      "6.900200366973877\n",
      "35\n",
      "7.100517511367798\n",
      "36\n",
      "7.299235105514526\n",
      "37\n",
      "7.499925374984741\n",
      "38\n",
      "7.700506925582886\n",
      "39\n",
      "7.901087522506714\n",
      "40\n",
      "8.100058794021606\n",
      "41\n",
      "8.300734043121338\n",
      "42\n",
      "8.501486539840698\n",
      "43\n",
      "8.699893236160278\n",
      "44\n",
      "8.900579690933228\n",
      "45\n",
      "9.101536273956299\n",
      "46\n",
      "9.300187110900879\n",
      "47\n",
      "9.50075078010559\n",
      "48\n",
      "9.701609134674072\n",
      "49\n",
      "9.899924993515015\n",
      "50\n",
      "10.100722789764404\n",
      "51\n",
      "10.301620244979858\n",
      "52\n",
      "10.50031590461731\n",
      "53\n",
      "10.700995445251465\n"
     ]
    }
   ],
   "source": [
    "channel = 1\n",
    "\n",
    "start_idx = dm.find_nearest_idx(ts_fr-ts_fr[0], t0_med)\n",
    "t_demod, data_demod = dm.demodulate(ts_fr[start_idx:]-ts_fr[start_idx], data_cal[channel, start_idx:], n_phi0, f_sawtooth, plot = True, plot_len = None)"
   ]
  },
  {
   "cell_type": "code",
   "execution_count": null,
   "id": "1613323e-e163-4f4a-950b-699d0d0ae07f",
   "metadata": {},
   "outputs": [],
   "source": [
    "def full_demod_routine("
   ]
  }
 ],
 "metadata": {
  "kernelspec": {
   "display_name": "Python 3 (ipykernel)",
   "language": "python",
   "name": "python3"
  },
  "language_info": {
   "codemirror_mode": {
    "name": "ipython",
    "version": 3
   },
   "file_extension": ".py",
   "mimetype": "text/x-python",
   "name": "python",
   "nbconvert_exporter": "python",
   "pygments_lexer": "ipython3",
   "version": "3.10.5"
  }
 },
 "nbformat": 4,
 "nbformat_minor": 5
}
