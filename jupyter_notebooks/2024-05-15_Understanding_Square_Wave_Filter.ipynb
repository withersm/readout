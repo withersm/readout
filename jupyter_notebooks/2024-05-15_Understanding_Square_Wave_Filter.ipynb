{
 "cells": [
  {
   "cell_type": "code",
   "execution_count": 2,
   "id": "2c9083b4-51f8-48fd-85b7-c7c8c45658f9",
   "metadata": {},
   "outputs": [],
   "source": [
    "import matplotlib.pyplot as plt\n",
    "import numpy as np\n",
    "from scipy.signal import square"
   ]
  },
  {
   "cell_type": "code",
   "execution_count": 81,
   "id": "5f713d98-5f8d-49ab-8958-adcad7f5f04e",
   "metadata": {},
   "outputs": [
    {
     "data": {
      "text/plain": [
       "[<matplotlib.lines.Line2D at 0x7f4a22aefc40>]"
      ]
     },
     "execution_count": 81,
     "metadata": {},
     "output_type": "execute_result"
    }
   ],
   "source": [
    "%matplotlib qt\n",
    "t = np.linspace(0,1e-5,1024)\n",
    "f= 125e6/100\n",
    "signal = square(2*np.pi*f*t)\n",
    "plt.plot(t,signal)\n"
   ]
  },
  {
   "cell_type": "code",
   "execution_count": 79,
   "id": "56230b39-c44f-4b60-bf96-aa31739426cd",
   "metadata": {},
   "outputs": [],
   "source": [
    "from scipy.fft import fft, ifft, fftfreq\n",
    "from scipy.signal import iirfilter, lfilter, filtfilt"
   ]
  },
  {
   "cell_type": "code",
   "execution_count": 72,
   "id": "e7d52aca-cc55-43ab-81f9-6a0de9e255ca",
   "metadata": {},
   "outputs": [
    {
     "data": {
      "text/plain": [
       "<StemContainer object of 3 artists>"
      ]
     },
     "execution_count": 72,
     "metadata": {},
     "output_type": "execute_result"
    }
   ],
   "source": [
    "signal_fft = fft(signal)\n",
    "freqs = fftfreq(signal.size, np.average(np.diff(t)))\n",
    "\n",
    "plt.stem(freqs,np.abs(signal_fft))"
   ]
  },
  {
   "cell_type": "code",
   "execution_count": 83,
   "id": "8a8414ca-c602-4092-9cce-edd609d95a68",
   "metadata": {},
   "outputs": [
    {
     "ename": "ValueError",
     "evalue": "Digital filter critical frequencies must be 0 < Wn < fs/2 (fs=102299999.99999997 -> fs/2=51149999.999999985)",
     "output_type": "error",
     "traceback": [
      "\u001b[0;31m---------------------------------------------------------------------------\u001b[0m",
      "\u001b[0;31mValueError\u001b[0m                                Traceback (most recent call last)",
      "Input \u001b[0;32mIn [83]\u001b[0m, in \u001b[0;36m<cell line: 1>\u001b[0;34m()\u001b[0m\n\u001b[0;32m----> 1\u001b[0m b, a \u001b[38;5;241m=\u001b[39m \u001b[43miirfilter\u001b[49m\u001b[43m(\u001b[49m\u001b[38;5;241;43m4\u001b[39;49m\u001b[43m,\u001b[49m\u001b[43m \u001b[49m\u001b[43mWn\u001b[49m\u001b[38;5;241;43m=\u001b[39;49m\u001b[38;5;241;43m126e6\u001b[39;49m\u001b[43m,\u001b[49m\u001b[43m \u001b[49m\u001b[43mfs\u001b[49m\u001b[38;5;241;43m=\u001b[39;49m\u001b[38;5;241;43m1\u001b[39;49m\u001b[38;5;241;43m/\u001b[39;49m\u001b[43mnp\u001b[49m\u001b[38;5;241;43m.\u001b[39;49m\u001b[43maverage\u001b[49m\u001b[43m(\u001b[49m\u001b[43mnp\u001b[49m\u001b[38;5;241;43m.\u001b[39;49m\u001b[43mdiff\u001b[49m\u001b[43m(\u001b[49m\u001b[43mt\u001b[49m\u001b[43m)\u001b[49m\u001b[43m)\u001b[49m\u001b[43m,\u001b[49m\u001b[43m \u001b[49m\u001b[43mbtype\u001b[49m\u001b[38;5;241;43m=\u001b[39;49m\u001b[38;5;124;43m\"\u001b[39;49m\u001b[38;5;124;43mlow\u001b[39;49m\u001b[38;5;124;43m\"\u001b[39;49m\u001b[43m,\u001b[49m\u001b[43m \u001b[49m\u001b[43mftype\u001b[49m\u001b[38;5;241;43m=\u001b[39;49m\u001b[38;5;124;43m\"\u001b[39;49m\u001b[38;5;124;43mbutter\u001b[39;49m\u001b[38;5;124;43m\"\u001b[39;49m\u001b[43m)\u001b[49m\n\u001b[1;32m      2\u001b[0m \u001b[38;5;28mprint\u001b[39m(b, a, sep\u001b[38;5;241m=\u001b[39m\u001b[38;5;124m\"\u001b[39m\u001b[38;5;130;01m\\n\u001b[39;00m\u001b[38;5;124m\"\u001b[39m)\n\u001b[1;32m      3\u001b[0m y_lfilter \u001b[38;5;241m=\u001b[39m filtfilt(b, a, signal)\n",
      "File \u001b[0;32m~/.local/readout/lib/python3.10/site-packages/scipy/signal/_filter_design.py:2516\u001b[0m, in \u001b[0;36miirfilter\u001b[0;34m(N, Wn, rp, rs, btype, analog, ftype, output, fs)\u001b[0m\n\u001b[1;32m   2514\u001b[0m \u001b[38;5;28;01mif\u001b[39;00m numpy\u001b[38;5;241m.\u001b[39many(Wn \u001b[38;5;241m<\u001b[39m\u001b[38;5;241m=\u001b[39m \u001b[38;5;241m0\u001b[39m) \u001b[38;5;129;01mor\u001b[39;00m numpy\u001b[38;5;241m.\u001b[39many(Wn \u001b[38;5;241m>\u001b[39m\u001b[38;5;241m=\u001b[39m \u001b[38;5;241m1\u001b[39m):\n\u001b[1;32m   2515\u001b[0m     \u001b[38;5;28;01mif\u001b[39;00m fs \u001b[38;5;129;01mis\u001b[39;00m \u001b[38;5;129;01mnot\u001b[39;00m \u001b[38;5;28;01mNone\u001b[39;00m:\n\u001b[0;32m-> 2516\u001b[0m         \u001b[38;5;28;01mraise\u001b[39;00m \u001b[38;5;167;01mValueError\u001b[39;00m(\u001b[38;5;124m\"\u001b[39m\u001b[38;5;124mDigital filter critical frequencies \u001b[39m\u001b[38;5;124m\"\u001b[39m\n\u001b[1;32m   2517\u001b[0m                          \u001b[38;5;124m\"\u001b[39m\u001b[38;5;124mmust be 0 < Wn < fs/2 (fs=\u001b[39m\u001b[38;5;132;01m{}\u001b[39;00m\u001b[38;5;124m -> fs/2=\u001b[39m\u001b[38;5;132;01m{}\u001b[39;00m\u001b[38;5;124m)\u001b[39m\u001b[38;5;124m\"\u001b[39m\u001b[38;5;241m.\u001b[39mformat(fs, fs\u001b[38;5;241m/\u001b[39m\u001b[38;5;241m2\u001b[39m))\n\u001b[1;32m   2518\u001b[0m     \u001b[38;5;28;01mraise\u001b[39;00m \u001b[38;5;167;01mValueError\u001b[39;00m(\u001b[38;5;124m\"\u001b[39m\u001b[38;5;124mDigital filter critical frequencies \u001b[39m\u001b[38;5;124m\"\u001b[39m\n\u001b[1;32m   2519\u001b[0m                      \u001b[38;5;124m\"\u001b[39m\u001b[38;5;124mmust be 0 < Wn < 1\u001b[39m\u001b[38;5;124m\"\u001b[39m)\n\u001b[1;32m   2520\u001b[0m fs \u001b[38;5;241m=\u001b[39m \u001b[38;5;241m2.0\u001b[39m\n",
      "\u001b[0;31mValueError\u001b[0m: Digital filter critical frequencies must be 0 < Wn < fs/2 (fs=102299999.99999997 -> fs/2=51149999.999999985)"
     ]
    }
   ],
   "source": [
    "b, a = iirfilter(4, Wn=, fs=1/np.average(np.diff(t)), btype=\"low\", ftype=\"butter\")\n",
    "print(b, a, sep=\"\\n\")\n",
    "y_lfilter = filtfilt(b, a, signal)\n",
    "\n",
    "plt.plot(t,y_lfilter)"
   ]
  },
  {
   "cell_type": "code",
   "execution_count": 53,
   "id": "de4f73ad-7b1a-40d7-82ed-5c8eea4a5767",
   "metadata": {},
   "outputs": [
    {
     "data": {
      "text/plain": [
       "<StemContainer object of 3 artists>"
      ]
     },
     "execution_count": 53,
     "metadata": {},
     "output_type": "execute_result"
    }
   ],
   "source": [
    "filtered_signal_fft = fft(signal)\n",
    "\n",
    "plt.stem(freqs, np.abs(filtered_signal_fft))"
   ]
  },
  {
   "cell_type": "code",
   "execution_count": 52,
   "id": "d352e59b-9117-4fe6-98ce-4795df7cab51",
   "metadata": {},
   "outputs": [
    {
     "data": {
      "text/plain": [
       "1000000.0"
      ]
     },
     "execution_count": 52,
     "metadata": {},
     "output_type": "execute_result"
    }
   ],
   "source": [
    "1/1e-6"
   ]
  }
 ],
 "metadata": {
  "kernelspec": {
   "display_name": "Python 3 (ipykernel)",
   "language": "python",
   "name": "python3"
  },
  "language_info": {
   "codemirror_mode": {
    "name": "ipython",
    "version": 3
   },
   "file_extension": ".py",
   "mimetype": "text/x-python",
   "name": "python",
   "nbconvert_exporter": "python",
   "pygments_lexer": "ipython3",
   "version": "3.10.5"
  }
 },
 "nbformat": 4,
 "nbformat_minor": 5
}
