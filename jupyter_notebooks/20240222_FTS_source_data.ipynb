{
 "cells": [
  {
   "cell_type": "code",
   "execution_count": 200,
   "id": "c99b2b2c-6700-4e9c-a72f-dd8696e6b7c4",
   "metadata": {},
   "outputs": [
    {
     "data": {
      "text/plain": [
       "<module 'ali_offline_demod' from '/home/matt/readout/host/ali_offline_demod.py'>"
      ]
     },
     "execution_count": 200,
     "metadata": {},
     "output_type": "execute_result"
    }
   ],
   "source": [
    "import matplotlib.pyplot as plt\n",
    "import numpy as np\n",
    "import sys\n",
    "sys.path.append('/home/matt/readout/host/')\n",
    "import ali_offline_demod as dm\n",
    "import imp\n",
    "imp.reload(dm)\n"
   ]
  },
  {
   "cell_type": "code",
   "execution_count": 203,
   "id": "89b7808d-0ff7-409d-86ed-29c9d5a7c39c",
   "metadata": {
    "tags": []
   },
   "outputs": [
    {
     "name": "stdout",
     "output_type": "stream",
     "text": [
      "looking for delay region\n",
      "start = 4018292062.5000005\n",
      "stop = 4028312570.3125005\n",
      "3.2332023985618257\n",
      "n_phi0: 3.2332023985618257\n"
     ]
    },
    {
     "data": {
      "application/vnd.jupyter.widget-view+json": {
       "model_id": "1b52fcc2188d4848a022672e52145649",
       "version_major": 2,
       "version_minor": 0
      },
      "text/plain": [
       "  0%|          | 0/230 [00:00<?, ?it/s]"
      ]
     },
     "metadata": {},
     "output_type": "display_data"
    }
   ],
   "source": [
    "data_file = 'ts_toneinit_fcenter_4250.0_20240215160613_t_20240215180615.hd5' #LN2 chop; BL10, 4250GHz LO, 95 GHz TES\n",
    "#data_file = 'ts_toneinit_fcenter_4250.0_20240221163542_t_20240221164021.hd5' #FTS source chop; BL11, 4250GHz LO, 150 GHz TES\n",
    "#data_file = 'ts_toneinit_fcenter_4250.0_20240221163542_t_20240221164159.hd5' #FTS source chop; BL10, 4250GHz LO, 95 GHz TES\n",
    "#data_file = 'ts_toneinit_fcenter_4250.0_20240222170601_t_20240222171117.hd5' #No bias (the FTS source was being chopped above at ~610 deg C while warming up)\n",
    "#data_file = 'ts_toneinit_fcenter_4250.0_20240222170601_t_20240222173401.hd5' #New FTS source chop; BL10, 4250GHz LO, 95 GHz TES\n",
    "\n",
    "result = dm.full_demod_process(data_file, f_sawtooth = 15, n=1)"
   ]
  },
  {
   "cell_type": "code",
   "execution_count": 204,
   "id": "96813a0a-a38e-46d6-a6b1-3923f1883443",
   "metadata": {},
   "outputs": [
    {
     "data": {
      "text/plain": [
       "<matplotlib.legend.Legend at 0x7f3b577601f0>"
      ]
     },
     "execution_count": 204,
     "metadata": {},
     "output_type": "execute_result"
    }
   ],
   "source": [
    "%matplotlib qt\n",
    "for ch in range(len(result['demod data'])):\n",
    "    plt.plot(result['demod t'], result['demod data'][ch],label=ch)\n",
    "    \n",
    "plt.legend()"
   ]
  },
  {
   "cell_type": "code",
   "execution_count": 118,
   "id": "d1ecbc89-8a98-4e84-a6f6-590075f59125",
   "metadata": {
    "collapsed": true,
    "jupyter": {
     "outputs_hidden": true
    },
    "tags": []
   },
   "outputs": [
    {
     "name": "stdout",
     "output_type": "stream",
     "text": [
      "looking for delay region\n",
      "start = 4018292062.5000005\n",
      "stop = 4028312570.3125005\n",
      "3.2332023985618257\n",
      "n_phi0: 3.2332023985618257\n"
     ]
    },
    {
     "data": {
      "application/vnd.jupyter.widget-view+json": {
       "model_id": "7a03b9520df9459b9e5b233e80a4c6b9",
       "version_major": 2,
       "version_minor": 0
      },
      "text/plain": [
       "  0%|          | 0/230 [00:00<?, ?it/s]"
      ]
     },
     "metadata": {},
     "output_type": "display_data"
    },
    {
     "name": "stdout",
     "output_type": "stream",
     "text": [
      "looking for delay region\n",
      "start = 4018292062.5000005\n",
      "stop = 4028312570.3125005\n",
      "3.2332023985618257\n",
      "n_phi0: 3.2332023985618257\n"
     ]
    },
    {
     "data": {
      "application/vnd.jupyter.widget-view+json": {
       "model_id": "42bd76d535bd4e7fab9b1d64a191b567",
       "version_major": 2,
       "version_minor": 0
      },
      "text/plain": [
       "  0%|          | 0/230 [00:00<?, ?it/s]"
      ]
     },
     "metadata": {},
     "output_type": "display_data"
    },
    {
     "name": "stdout",
     "output_type": "stream",
     "text": [
      "looking for delay region\n",
      "start = 4018292062.5000005\n",
      "stop = 4028312570.3125005\n",
      "3.2332023985618257\n",
      "n_phi0: 3.2332023985618257\n"
     ]
    },
    {
     "data": {
      "application/vnd.jupyter.widget-view+json": {
       "model_id": "66ef4040e36446278d6cde73b88645a1",
       "version_major": 2,
       "version_minor": 0
      },
      "text/plain": [
       "  0%|          | 0/230 [00:00<?, ?it/s]"
      ]
     },
     "metadata": {},
     "output_type": "display_data"
    },
    {
     "name": "stdout",
     "output_type": "stream",
     "text": [
      "looking for delay region\n",
      "start = 4018292062.5000005\n",
      "stop = 4028312570.3125005\n",
      "3.2332023985618257\n",
      "n_phi0: 3.2332023985618257\n"
     ]
    },
    {
     "data": {
      "application/vnd.jupyter.widget-view+json": {
       "model_id": "c10684ba1e5046e2b4e3cee96f9b335e",
       "version_major": 2,
       "version_minor": 0
      },
      "text/plain": [
       "  0%|          | 0/230 [00:00<?, ?it/s]"
      ]
     },
     "metadata": {},
     "output_type": "display_data"
    },
    {
     "name": "stdout",
     "output_type": "stream",
     "text": [
      "looking for delay region\n",
      "start = 4018292062.5000005\n",
      "stop = 4028312570.3125005\n",
      "3.2332023985618257\n",
      "n_phi0: 3.2332023985618257\n"
     ]
    },
    {
     "data": {
      "application/vnd.jupyter.widget-view+json": {
       "model_id": "2fcd95e749a94a82b7bde9d16523c3ca",
       "version_major": 2,
       "version_minor": 0
      },
      "text/plain": [
       "  0%|          | 0/230 [00:00<?, ?it/s]"
      ]
     },
     "metadata": {},
     "output_type": "display_data"
    },
    {
     "name": "stdout",
     "output_type": "stream",
     "text": [
      "looking for delay region\n",
      "start = 4018292062.5000005\n",
      "stop = 4028312570.3125005\n",
      "3.2332023985618257\n",
      "n_phi0: 3.2332023985618257\n"
     ]
    },
    {
     "data": {
      "application/vnd.jupyter.widget-view+json": {
       "model_id": "e6b7c0ba0d574b4b804d9f0980d435b5",
       "version_major": 2,
       "version_minor": 0
      },
      "text/plain": [
       "  0%|          | 0/230 [00:00<?, ?it/s]"
      ]
     },
     "metadata": {},
     "output_type": "display_data"
    },
    {
     "name": "stdout",
     "output_type": "stream",
     "text": [
      "looking for delay region\n",
      "start = 4018292062.5000005\n",
      "stop = 4028312570.3125005\n",
      "3.2332023985618257\n",
      "n_phi0: 3.2332023985618257\n"
     ]
    },
    {
     "data": {
      "application/vnd.jupyter.widget-view+json": {
       "model_id": "b40c99d763634469a27a1d108f44a0c2",
       "version_major": 2,
       "version_minor": 0
      },
      "text/plain": [
       "  0%|          | 0/230 [00:00<?, ?it/s]"
      ]
     },
     "metadata": {},
     "output_type": "display_data"
    },
    {
     "name": "stdout",
     "output_type": "stream",
     "text": [
      "looking for delay region\n",
      "start = 4018292062.5000005\n",
      "stop = 4028312570.3125005\n",
      "3.2332023985618257\n",
      "n_phi0: 3.2332023985618257\n"
     ]
    },
    {
     "data": {
      "application/vnd.jupyter.widget-view+json": {
       "model_id": "3365b3fab2514540b60750f2d26e61e9",
       "version_major": 2,
       "version_minor": 0
      },
      "text/plain": [
       "  0%|          | 0/230 [00:00<?, ?it/s]"
      ]
     },
     "metadata": {},
     "output_type": "display_data"
    },
    {
     "name": "stdout",
     "output_type": "stream",
     "text": [
      "looking for delay region\n",
      "start = 4018292062.5000005\n",
      "stop = 4028312570.3125005\n",
      "3.2332023985618257\n",
      "n_phi0: 3.2332023985618257\n"
     ]
    },
    {
     "data": {
      "application/vnd.jupyter.widget-view+json": {
       "model_id": "cf3dc5095372495cbcf181f653ba1b7a",
       "version_major": 2,
       "version_minor": 0
      },
      "text/plain": [
       "  0%|          | 0/230 [00:00<?, ?it/s]"
      ]
     },
     "metadata": {},
     "output_type": "display_data"
    },
    {
     "name": "stdout",
     "output_type": "stream",
     "text": [
      "looking for delay region\n",
      "start = 4018292062.5000005\n",
      "stop = 4028312570.3125005\n",
      "3.2332023985618257\n",
      "n_phi0: 3.2332023985618257\n"
     ]
    },
    {
     "data": {
      "application/vnd.jupyter.widget-view+json": {
       "model_id": "2969778e59984b6aa9c5b24a3f9e7e55",
       "version_major": 2,
       "version_minor": 0
      },
      "text/plain": [
       "  0%|          | 0/230 [00:00<?, ?it/s]"
      ]
     },
     "metadata": {},
     "output_type": "display_data"
    },
    {
     "name": "stdout",
     "output_type": "stream",
     "text": [
      "looking for delay region\n",
      "start = 4018292062.5000005\n",
      "stop = 4028312570.3125005\n",
      "3.2332023985618257\n",
      "n_phi0: 3.2332023985618257\n"
     ]
    },
    {
     "data": {
      "application/vnd.jupyter.widget-view+json": {
       "model_id": "9bc720ec66dc4acaa5b4ca1df7031b78",
       "version_major": 2,
       "version_minor": 0
      },
      "text/plain": [
       "  0%|          | 0/230 [00:00<?, ?it/s]"
      ]
     },
     "metadata": {},
     "output_type": "display_data"
    },
    {
     "name": "stdout",
     "output_type": "stream",
     "text": [
      "looking for delay region\n",
      "start = 4018292062.5000005\n",
      "stop = 4028312570.3125005\n",
      "3.2332023985618257\n",
      "n_phi0: 3.2332023985618257\n"
     ]
    },
    {
     "data": {
      "application/vnd.jupyter.widget-view+json": {
       "model_id": "5d94b97272594c50aee8781541a0b408",
       "version_major": 2,
       "version_minor": 0
      },
      "text/plain": [
       "  0%|          | 0/230 [00:00<?, ?it/s]"
      ]
     },
     "metadata": {},
     "output_type": "display_data"
    },
    {
     "name": "stdout",
     "output_type": "stream",
     "text": [
      "looking for delay region\n",
      "start = 4018292062.5000005\n",
      "stop = 4028312570.3125005\n",
      "3.2332023985618257\n",
      "n_phi0: 3.2332023985618257\n"
     ]
    },
    {
     "data": {
      "application/vnd.jupyter.widget-view+json": {
       "model_id": "3ad032894c9a455c98934ecae017bbe3",
       "version_major": 2,
       "version_minor": 0
      },
      "text/plain": [
       "  0%|          | 0/230 [00:00<?, ?it/s]"
      ]
     },
     "metadata": {},
     "output_type": "display_data"
    },
    {
     "name": "stdout",
     "output_type": "stream",
     "text": [
      "looking for delay region\n",
      "start = 4018292062.5000005\n",
      "stop = 4028312570.3125005\n",
      "3.2332023985618257\n",
      "n_phi0: 3.2332023985618257\n"
     ]
    },
    {
     "data": {
      "application/vnd.jupyter.widget-view+json": {
       "model_id": "af2c7b72bf8c497e93bcce18f3fae9a6",
       "version_major": 2,
       "version_minor": 0
      },
      "text/plain": [
       "  0%|          | 0/230 [00:00<?, ?it/s]"
      ]
     },
     "metadata": {},
     "output_type": "display_data"
    },
    {
     "name": "stdout",
     "output_type": "stream",
     "text": [
      "looking for delay region\n",
      "start = 4018292062.5000005\n",
      "stop = 4028312570.3125005\n",
      "3.2332023985618257\n",
      "n_phi0: 3.2332023985618257\n"
     ]
    },
    {
     "data": {
      "application/vnd.jupyter.widget-view+json": {
       "model_id": "df6561f1d1b64384901b4c1e91d4e0c5",
       "version_major": 2,
       "version_minor": 0
      },
      "text/plain": [
       "  0%|          | 0/230 [00:00<?, ?it/s]"
      ]
     },
     "metadata": {},
     "output_type": "display_data"
    },
    {
     "name": "stdout",
     "output_type": "stream",
     "text": [
      "looking for delay region\n",
      "start = 4018292062.5000005\n",
      "stop = 4028312570.3125005\n",
      "3.2332023985618257\n",
      "n_phi0: 3.2332023985618257\n"
     ]
    },
    {
     "data": {
      "application/vnd.jupyter.widget-view+json": {
       "model_id": "4e2154fe92fe46abbccb7c22bdc733fd",
       "version_major": 2,
       "version_minor": 0
      },
      "text/plain": [
       "  0%|          | 0/230 [00:00<?, ?it/s]"
      ]
     },
     "metadata": {},
     "output_type": "display_data"
    },
    {
     "name": "stdout",
     "output_type": "stream",
     "text": [
      "looking for delay region\n",
      "start = 4018292062.5000005\n",
      "stop = 4028312570.3125005\n",
      "3.2332023985618257\n",
      "n_phi0: 3.2332023985618257\n"
     ]
    },
    {
     "data": {
      "application/vnd.jupyter.widget-view+json": {
       "model_id": "f706ba956281448690969ef7ef969937",
       "version_major": 2,
       "version_minor": 0
      },
      "text/plain": [
       "  0%|          | 0/230 [00:00<?, ?it/s]"
      ]
     },
     "metadata": {},
     "output_type": "display_data"
    },
    {
     "name": "stdout",
     "output_type": "stream",
     "text": [
      "looking for delay region\n",
      "start = 4018292062.5000005\n",
      "stop = 4028312570.3125005\n",
      "3.2332023985618257\n",
      "n_phi0: 3.2332023985618257\n"
     ]
    },
    {
     "data": {
      "application/vnd.jupyter.widget-view+json": {
       "model_id": "75727b42663e4364b24eeb43a1b54f0c",
       "version_major": 2,
       "version_minor": 0
      },
      "text/plain": [
       "  0%|          | 0/230 [00:00<?, ?it/s]"
      ]
     },
     "metadata": {},
     "output_type": "display_data"
    },
    {
     "name": "stdout",
     "output_type": "stream",
     "text": [
      "looking for delay region\n",
      "start = 4018292062.5000005\n",
      "stop = 4028312570.3125005\n",
      "3.2332023985618257\n",
      "n_phi0: 3.2332023985618257\n"
     ]
    },
    {
     "data": {
      "application/vnd.jupyter.widget-view+json": {
       "model_id": "60b5f8325f56445f8cc100d1694beba5",
       "version_major": 2,
       "version_minor": 0
      },
      "text/plain": [
       "  0%|          | 0/230 [00:00<?, ?it/s]"
      ]
     },
     "metadata": {},
     "output_type": "display_data"
    },
    {
     "name": "stdout",
     "output_type": "stream",
     "text": [
      "looking for delay region\n",
      "start = 4018292062.5000005\n",
      "stop = 4028312570.3125005\n",
      "3.2332023985618257\n",
      "n_phi0: 3.2332023985618257\n"
     ]
    },
    {
     "data": {
      "application/vnd.jupyter.widget-view+json": {
       "model_id": "abda537c8c9b45b8a53ce46358bf804d",
       "version_major": 2,
       "version_minor": 0
      },
      "text/plain": [
       "  0%|          | 0/230 [00:00<?, ?it/s]"
      ]
     },
     "metadata": {},
     "output_type": "display_data"
    },
    {
     "name": "stdout",
     "output_type": "stream",
     "text": [
      "looking for delay region\n",
      "start = 4018292062.5000005\n",
      "stop = 4028312570.3125005\n",
      "3.2332023985618257\n",
      "n_phi0: 3.2332023985618257\n"
     ]
    },
    {
     "data": {
      "application/vnd.jupyter.widget-view+json": {
       "model_id": "8ce8c29b679248788b2ad2f6c3f8a8ac",
       "version_major": 2,
       "version_minor": 0
      },
      "text/plain": [
       "  0%|          | 0/230 [00:00<?, ?it/s]"
      ]
     },
     "metadata": {},
     "output_type": "display_data"
    },
    {
     "name": "stdout",
     "output_type": "stream",
     "text": [
      "looking for delay region\n",
      "start = 4018292062.5000005\n",
      "stop = 4028312570.3125005\n",
      "3.2332023985618257\n",
      "n_phi0: 3.2332023985618257\n"
     ]
    },
    {
     "data": {
      "application/vnd.jupyter.widget-view+json": {
       "model_id": "7c82282ffab948cf86d7bd5e9fad5b8e",
       "version_major": 2,
       "version_minor": 0
      },
      "text/plain": [
       "  0%|          | 0/230 [00:00<?, ?it/s]"
      ]
     },
     "metadata": {},
     "output_type": "display_data"
    },
    {
     "name": "stdout",
     "output_type": "stream",
     "text": [
      "looking for delay region\n",
      "start = 4018292062.5000005\n",
      "stop = 4028312570.3125005\n",
      "3.2332023985618257\n",
      "n_phi0: 3.2332023985618257\n"
     ]
    },
    {
     "data": {
      "application/vnd.jupyter.widget-view+json": {
       "model_id": "0892dd66f132436388c2bb183b680a1b",
       "version_major": 2,
       "version_minor": 0
      },
      "text/plain": [
       "  0%|          | 0/230 [00:00<?, ?it/s]"
      ]
     },
     "metadata": {},
     "output_type": "display_data"
    },
    {
     "name": "stdout",
     "output_type": "stream",
     "text": [
      "looking for delay region\n",
      "start = 4018292062.5000005\n",
      "stop = 4028312570.3125005\n",
      "3.2332023985618257\n",
      "n_phi0: 3.2332023985618257\n"
     ]
    },
    {
     "data": {
      "application/vnd.jupyter.widget-view+json": {
       "model_id": "68dc042ad9e24e0cbeb5477a0dd5beb6",
       "version_major": 2,
       "version_minor": 0
      },
      "text/plain": [
       "  0%|          | 0/230 [00:00<?, ?it/s]"
      ]
     },
     "metadata": {},
     "output_type": "display_data"
    },
    {
     "name": "stdout",
     "output_type": "stream",
     "text": [
      "looking for delay region\n",
      "start = 4018292062.5000005\n",
      "stop = 4028312570.3125005\n",
      "3.2332023985618257\n",
      "n_phi0: 3.2332023985618257\n"
     ]
    },
    {
     "data": {
      "application/vnd.jupyter.widget-view+json": {
       "model_id": "989bbbb093a64c2daffcab2e6bad608b",
       "version_major": 2,
       "version_minor": 0
      },
      "text/plain": [
       "  0%|          | 0/230 [00:00<?, ?it/s]"
      ]
     },
     "metadata": {},
     "output_type": "display_data"
    },
    {
     "name": "stdout",
     "output_type": "stream",
     "text": [
      "looking for delay region\n",
      "start = 4018292062.5000005\n",
      "stop = 4028312570.3125005\n",
      "3.2332023985618257\n",
      "n_phi0: 3.2332023985618257\n"
     ]
    },
    {
     "data": {
      "application/vnd.jupyter.widget-view+json": {
       "model_id": "6176f3b73aef4540bfd3c03c3bf45ca5",
       "version_major": 2,
       "version_minor": 0
      },
      "text/plain": [
       "  0%|          | 0/230 [00:00<?, ?it/s]"
      ]
     },
     "metadata": {},
     "output_type": "display_data"
    },
    {
     "name": "stdout",
     "output_type": "stream",
     "text": [
      "looking for delay region\n",
      "start = 4018292062.5000005\n",
      "stop = 4028312570.3125005\n",
      "3.2332023985618257\n",
      "n_phi0: 3.2332023985618257\n"
     ]
    },
    {
     "data": {
      "application/vnd.jupyter.widget-view+json": {
       "model_id": "49c2dbf7b4074f19b1f4b4adc5e54254",
       "version_major": 2,
       "version_minor": 0
      },
      "text/plain": [
       "  0%|          | 0/230 [00:00<?, ?it/s]"
      ]
     },
     "metadata": {},
     "output_type": "display_data"
    },
    {
     "name": "stdout",
     "output_type": "stream",
     "text": [
      "looking for delay region\n",
      "start = 4018292062.5000005\n",
      "stop = 4028312570.3125005\n",
      "3.2332023985618257\n",
      "n_phi0: 3.2332023985618257\n"
     ]
    },
    {
     "data": {
      "application/vnd.jupyter.widget-view+json": {
       "model_id": "cbbc8ceac818442b9d3198c8cfd7ab4a",
       "version_major": 2,
       "version_minor": 0
      },
      "text/plain": [
       "  0%|          | 0/230 [00:00<?, ?it/s]"
      ]
     },
     "metadata": {},
     "output_type": "display_data"
    },
    {
     "name": "stdout",
     "output_type": "stream",
     "text": [
      "looking for delay region\n",
      "start = 4018292062.5000005\n",
      "stop = 4028312570.3125005\n",
      "3.2332023985618257\n",
      "n_phi0: 3.2332023985618257\n"
     ]
    },
    {
     "data": {
      "application/vnd.jupyter.widget-view+json": {
       "model_id": "33f889600adc4acaa5c8dc8ab5816d10",
       "version_major": 2,
       "version_minor": 0
      },
      "text/plain": [
       "  0%|          | 0/230 [00:00<?, ?it/s]"
      ]
     },
     "metadata": {},
     "output_type": "display_data"
    },
    {
     "name": "stdout",
     "output_type": "stream",
     "text": [
      "looking for delay region\n",
      "start = 4018292062.5000005\n",
      "stop = 4028312570.3125005\n",
      "3.2332023985618257\n",
      "n_phi0: 3.2332023985618257\n"
     ]
    },
    {
     "data": {
      "application/vnd.jupyter.widget-view+json": {
       "model_id": "46d60867d665452eb7eb936608b0b545",
       "version_major": 2,
       "version_minor": 0
      },
      "text/plain": [
       "  0%|          | 0/230 [00:00<?, ?it/s]"
      ]
     },
     "metadata": {},
     "output_type": "display_data"
    }
   ],
   "source": [
    "data_file = 'ts_toneinit_fcenter_4250.0_20240215160613_t_20240215180615.hd5' #LN2 chop; BL10, 4250GHz LO, 95 GHz TES\n",
    "#data_file = 'ts_toneinit_fcenter_4250.0_20240221163542_t_20240221164021.hd5' #FTS source chop; BL11, 4250GHz LO, 150 GHz TES\n",
    "#data_file = 'ts_toneinit_fcenter_4250.0_20240221163542_t_20240221164159.hd5' #FTS source chop; BL10, 4250GHz LO, 95 GHz TES\n",
    "\n",
    "for ch in np.arange(1,6):\n",
    "    plt.figure()\n",
    "    for n in [0,1,2,3,4,5]:\n",
    "        result = dm.full_demod_process(data_file, f_sawtooth = 15, n=n)\n",
    "        plt.plot(result['demod t'], result['demod data'][ch]+n/10,label=f'n = {n}')\n",
    "    \n",
    "    plt.legend()\n",
    "    plt.title(f'Ch = {ch}')"
   ]
  },
  {
   "cell_type": "code",
   "execution_count": 168,
   "id": "aa8e8975-cf21-4951-9358-8da1d50dec67",
   "metadata": {},
   "outputs": [
    {
     "data": {
      "text/plain": [
       "[<matplotlib.lines.Line2D at 0x7f3b5a46f580>]"
      ]
     },
     "execution_count": 168,
     "metadata": {},
     "output_type": "execute_result"
    }
   ],
   "source": [
    "from scipy.signal.windows import hann\n",
    "\n",
    "func = hann(10,sym=False)\n",
    "\n",
    "plt.plot(func)"
   ]
  }
 ],
 "metadata": {
  "kernelspec": {
   "display_name": "Python 3 (ipykernel)",
   "language": "python",
   "name": "python3"
  },
  "language_info": {
   "codemirror_mode": {
    "name": "ipython",
    "version": 3
   },
   "file_extension": ".py",
   "mimetype": "text/x-python",
   "name": "python",
   "nbconvert_exporter": "python",
   "pygments_lexer": "ipython3",
   "version": "3.10.5"
  }
 },
 "nbformat": 4,
 "nbformat_minor": 5
}
