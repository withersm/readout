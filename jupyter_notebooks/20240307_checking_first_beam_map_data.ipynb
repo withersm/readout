{
 "cells": [
  {
   "cell_type": "code",
   "execution_count": 2,
   "id": "806b8e01-0ab9-4de8-9be3-9b725edcf798",
   "metadata": {},
   "outputs": [
    {
     "name": "stderr",
     "output_type": "stream",
     "text": [
      "/tmp/ipykernel_417652/2533879047.py:9: DeprecationWarning: the imp module is deprecated in favour of importlib and slated for removal in Python 3.12; see the module's documentation for alternative uses\n",
      "  import imp\n"
     ]
    }
   ],
   "source": [
    "import matplotlib.pyplot as plt\n",
    "import numpy as np\n",
    "import sys\n",
    "sys.path.append('/home/matt/readout/host/')\n",
    "import ali_offline_demod as dm\n",
    "import glob\n",
    "import pandas as pd\n",
    "import pickle\n",
    "import imp\n",
    "imp.reload(dm)\n",
    "import h5py"
   ]
  },
  {
   "cell_type": "code",
   "execution_count": 5,
   "id": "cf4a3b89-5c12-4b19-90b0-3597fa4dff05",
   "metadata": {},
   "outputs": [
    {
     "name": "stdout",
     "output_type": "stream",
     "text": [
      "8.791599605017238\n"
     ]
    }
   ],
   "source": [
    "ts_path = \"/home/matt/alicpt_data/beam_map_data/toneinit_fcenter_4250.0_20240306105515_t_20240306110300/ts_toneinit_fcenter_4250.0_20240306105515_t_20240306110342.hd5\"\n",
    "\n",
    "#ts_fr,Is_fr,Qs_fr=dm.read_data(ts_path)\n",
    "\n",
    "\n",
    "file = h5py.File(ts_path, 'r')\n",
    "\n",
    "list(file['time_ordered_data'].keys())\n",
    "#file.size\n",
    "\n",
    "print((file['time_ordered_data']['timestamp'][-1]-file['time_ordered_data']['timestamp'][0])/3600)"
   ]
  },
  {
   "cell_type": "code",
   "execution_count": 6,
   "id": "4f66166e-74c1-48d7-b357-70ed693ea178",
   "metadata": {},
   "outputs": [
    {
     "name": "stdout",
     "output_type": "stream",
     "text": [
      "8.790974199838109\n"
     ]
    }
   ],
   "source": [
    "start = 1709751824.1538076\n",
    "end = 1709783471.660927\n",
    "\n",
    "time = end-start\n",
    "\n",
    "print(time/3600)"
   ]
  }
 ],
 "metadata": {
  "kernelspec": {
   "display_name": "Python 3 (ipykernel)",
   "language": "python",
   "name": "python3"
  },
  "language_info": {
   "codemirror_mode": {
    "name": "ipython",
    "version": 3
   },
   "file_extension": ".py",
   "mimetype": "text/x-python",
   "name": "python",
   "nbconvert_exporter": "python",
   "pygments_lexer": "ipython3",
   "version": "3.10.5"
  }
 },
 "nbformat": 4,
 "nbformat_minor": 5
}
