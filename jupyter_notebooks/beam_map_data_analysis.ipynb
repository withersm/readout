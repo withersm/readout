{
 "cells": [
  {
   "cell_type": "code",
   "execution_count": 1,
   "id": "0e49ea7d-d1e0-4ed7-8a24-f8b277c06706",
   "metadata": {},
   "outputs": [
    {
     "name": "stderr",
     "output_type": "stream",
     "text": [
      "/tmp/ipykernel_2649/3930659014.py:6: DeprecationWarning: the imp module is deprecated in favour of importlib and slated for removal in Python 3.12; see the module's documentation for alternative uses\n",
      "  import imp\n"
     ]
    }
   ],
   "source": [
    "import matplotlib.pyplot as plt\n",
    "import numpy as np\n",
    "import sys\n",
    "sys.path.append('/home/matt/readout/host/')\n",
    "import ali_offline_demod as dm\n",
    "import imp\n",
    "import glob\n",
    "import pickle\n",
    "from scipy import spatial\n",
    "import h5py"
   ]
  },
  {
   "cell_type": "code",
   "execution_count": 65,
   "id": "456ea852-5bfa-4df5-b5c6-1888fd73aefb",
   "metadata": {},
   "outputs": [
    {
     "name": "stdout",
     "output_type": "stream",
     "text": [
      "/home/matt/ali_drive_mnt/beam_map_data/toneinit_fcenter_4250.0_20240308061355_t_20240308062133/ts_toneinit_fcenter_4250.0_20240308061355_t_20240308062147.hd5\n",
      "['adc_i', 'adc_q', 'timestamp']\n",
      "[-336  121  411 ... -318  118  459]\n"
     ]
    }
   ],
   "source": [
    "#path to beam map data\n",
    "main_folder = '/home/matt/ali_drive_mnt/beam_map_data/'\n",
    "\n",
    "#beam map directory\n",
    "directory = 'toneinit_fcenter_4250.0_20240308061355_t_20240308062133/'\n",
    "\n",
    "#file\n",
    "file = glob.glob(main_folder + directory + '*.hd5')[0]\n",
    "\n",
    "print(file)\n",
    "\n",
    "\n",
    "#open file\n",
    "tes_data = h5py.File(file, 'r')\n",
    "\n",
    "print(list(tes_data['time_ordered_data'].keys()))\n",
    "\n",
    "#channel\n",
    "channel = 100\n",
    "\n",
    "#t = np.array(tes_data['time_ordered_data']['timestamp'])\n",
    "i = np.array(tes_data['time_ordered_data']['adc_i'][100])\n",
    "#q = np.array(tes_data['time_ordered_data']['adc_q'][channel,:])\n",
    "\n",
    "print(i)\n",
    "\n"
   ]
  },
  {
   "cell_type": "code",
   "execution_count": 66,
   "id": "10cf5073-b36c-4550-a31a-eca57d410eff",
   "metadata": {
    "tags": []
   },
   "outputs": [
    {
     "name": "stdout",
     "output_type": "stream",
     "text": [
      "4250.0\n",
      "20240308061355\n",
      "/home/matt/ali_drive_mnt/tone_initializations/fcenter_4250.0_20240308061355/\n"
     ]
    },
    {
     "ename": "MemoryError",
     "evalue": "Unable to allocate 59.4 GiB for an array with shape (1024, 15578912) and data type int32",
     "output_type": "error",
     "traceback": [
      "\u001b[0;31m---------------------------------------------------------------------------\u001b[0m",
      "\u001b[0;31mMemoryError\u001b[0m                               Traceback (most recent call last)",
      "Input \u001b[0;32mIn [66]\u001b[0m, in \u001b[0;36m<cell line: 1>\u001b[0;34m()\u001b[0m\n\u001b[0;32m----> 1\u001b[0m processed_data \u001b[38;5;241m=\u001b[39m \u001b[43mdm\u001b[49m\u001b[38;5;241;43m.\u001b[39;49m\u001b[43mfull_demod_process\u001b[49m\u001b[43m(\u001b[49m\u001b[38;5;124;43m'\u001b[39;49m\u001b[38;5;124;43mts_toneinit_fcenter_4250.0_20240308061355_t_20240308062147.hd5\u001b[39;49m\u001b[38;5;124;43m'\u001b[39;49m\u001b[43m,\u001b[49m\n\u001b[1;32m      2\u001b[0m \u001b[43m                                       \u001b[49m\u001b[43mf_sawtooth\u001b[49m\u001b[38;5;241;43m=\u001b[39;49m\u001b[38;5;241;43m15\u001b[39;49m\u001b[43m,\u001b[49m\n\u001b[1;32m      3\u001b[0m \u001b[43m                                       \u001b[49m\u001b[43mn\u001b[49m\u001b[38;5;241;43m=\u001b[39;49m\u001b[38;5;241;43m1\u001b[39;49m\u001b[43m,\u001b[49m\n\u001b[1;32m      4\u001b[0m \u001b[43m                                       \u001b[49m\u001b[43mtone_init_path\u001b[49m\u001b[43m \u001b[49m\u001b[38;5;241;43m=\u001b[39;49m\u001b[43m \u001b[49m\u001b[38;5;124;43m'\u001b[39;49m\u001b[38;5;124;43m/home/matt/ali_drive_mnt/tone_initializations\u001b[39;49m\u001b[38;5;124;43m'\u001b[39;49m\u001b[43m,\u001b[49m\n\u001b[1;32m      5\u001b[0m \u001b[43m                                       \u001b[49m\u001b[43mts_path\u001b[49m\u001b[43m \u001b[49m\u001b[38;5;241;43m=\u001b[39;49m\u001b[43m \u001b[49m\u001b[38;5;124;43m'\u001b[39;49m\u001b[38;5;124;43m/home/matt/ali_drive_mnt/beam_map_data/toneinit_fcenter_4250.0_20240308061355_t_20240308062133\u001b[39;49m\u001b[38;5;124;43m'\u001b[39;49m\u001b[43m)\u001b[49m\n",
      "File \u001b[0;32m~/readout/host/ali_offline_demod.py:716\u001b[0m, in \u001b[0;36mfull_demod_process\u001b[0;34m(ts_file, f_sawtooth, n, channels, start_channel, stop_channel, tone_init_path, ts_path)\u001b[0m\n\u001b[1;32m    714\u001b[0m     tone_freqs \u001b[38;5;241m=\u001b[39m tone_freqs[start_channel \u001b[38;5;241m+\u001b[39m \u001b[38;5;241m23\u001b[39m:stop_channel \u001b[38;5;241m+\u001b[39m \u001b[38;5;241m23\u001b[39m \u001b[38;5;241m+\u001b[39m \u001b[38;5;241m1\u001b[39m]\n\u001b[1;32m    715\u001b[0m     \u001b[38;5;28mprint\u001b[39m(tone_freqs)\n\u001b[0;32m--> 716\u001b[0m ts_fr,Is_fr,Qs_fr\u001b[38;5;241m=\u001b[39m\u001b[43mread_data\u001b[49m\u001b[43m(\u001b[49m\u001b[43mts_path\u001b[49m\u001b[43m,\u001b[49m\u001b[43mchannels\u001b[49m\u001b[38;5;241;43m=\u001b[39;49m\u001b[43mchannels\u001b[49m\u001b[43m,\u001b[49m\u001b[43mstart_channel\u001b[49m\u001b[38;5;241;43m=\u001b[39;49m\u001b[43mstart_channel\u001b[49m\u001b[43m,\u001b[49m\u001b[43mstop_channel\u001b[49m\u001b[38;5;241;43m=\u001b[39;49m\u001b[43mstop_channel\u001b[49m\u001b[43m)\u001b[49m    \u001b[38;5;66;03m#note to self: limit tone_freqs to actively called channels; need to figure out channel numbering first\u001b[39;00m\n\u001b[1;32m    718\u001b[0m \u001b[38;5;66;03m#testing fixing the time breaks before the demod -- probably don't want to keep this but we'll see\u001b[39;00m\n\u001b[1;32m    719\u001b[0m fs\u001b[38;5;241m=\u001b[39m\u001b[38;5;241m512e6\u001b[39m\u001b[38;5;241m/\u001b[39m(\u001b[38;5;241m2\u001b[39m\u001b[38;5;241m*\u001b[39m\u001b[38;5;241m*\u001b[39m\u001b[38;5;241m20\u001b[39m)    \n",
      "File \u001b[0;32m~/readout/host/ali_offline_demod.py:149\u001b[0m, in \u001b[0;36mread_data\u001b[0;34m(filename, channels, start_channel, stop_channel)\u001b[0m\n\u001b[1;32m    147\u001b[0m \u001b[38;5;28;01mif\u001b[39;00m channels \u001b[38;5;241m==\u001b[39m \u001b[38;5;124m'\u001b[39m\u001b[38;5;124mall\u001b[39m\u001b[38;5;124m'\u001b[39m:\n\u001b[1;32m    148\u001b[0m     file \u001b[38;5;241m=\u001b[39m h5py\u001b[38;5;241m.\u001b[39mFile(filename, \u001b[38;5;124m'\u001b[39m\u001b[38;5;124mr\u001b[39m\u001b[38;5;124m'\u001b[39m)\n\u001b[0;32m--> 149\u001b[0m     adc_i \u001b[38;5;241m=\u001b[39m \u001b[43mnp\u001b[49m\u001b[38;5;241;43m.\u001b[39;49m\u001b[43marray\u001b[49m\u001b[43m(\u001b[49m\u001b[43mfile\u001b[49m\u001b[43m[\u001b[49m\u001b[38;5;124;43m'\u001b[39;49m\u001b[38;5;124;43mtime_ordered_data\u001b[39;49m\u001b[38;5;124;43m'\u001b[39;49m\u001b[43m]\u001b[49m\u001b[43m[\u001b[49m\u001b[38;5;124;43m'\u001b[39;49m\u001b[38;5;124;43madc_i\u001b[39;49m\u001b[38;5;124;43m'\u001b[39;49m\u001b[43m]\u001b[49m\u001b[43m)\u001b[49m\n\u001b[1;32m    150\u001b[0m     adc_i \u001b[38;5;241m=\u001b[39m np\u001b[38;5;241m.\u001b[39mdelete(adc_i, \u001b[38;5;28mslice\u001b[39m(\u001b[38;5;241m0\u001b[39m,\u001b[38;5;241m22\u001b[39m), \u001b[38;5;241m0\u001b[39m)\n\u001b[1;32m    151\u001b[0m     adc_q \u001b[38;5;241m=\u001b[39m file[\u001b[38;5;124m'\u001b[39m\u001b[38;5;124mtime_ordered_data\u001b[39m\u001b[38;5;124m'\u001b[39m][\u001b[38;5;124m'\u001b[39m\u001b[38;5;124madc_q\u001b[39m\u001b[38;5;124m'\u001b[39m]\n",
      "File \u001b[0;32mh5py/_objects.pyx:54\u001b[0m, in \u001b[0;36mh5py._objects.with_phil.wrapper\u001b[0;34m()\u001b[0m\n",
      "File \u001b[0;32mh5py/_objects.pyx:55\u001b[0m, in \u001b[0;36mh5py._objects.with_phil.wrapper\u001b[0;34m()\u001b[0m\n",
      "File \u001b[0;32m~/.local/readout/lib/python3.10/site-packages/h5py/_hl/dataset.py:1040\u001b[0m, in \u001b[0;36mDataset.__array__\u001b[0;34m(self, dtype)\u001b[0m\n\u001b[1;32m   1034\u001b[0m \u001b[38;5;129m@with_phil\u001b[39m\n\u001b[1;32m   1035\u001b[0m \u001b[38;5;28;01mdef\u001b[39;00m \u001b[38;5;21m__array__\u001b[39m(\u001b[38;5;28mself\u001b[39m, dtype\u001b[38;5;241m=\u001b[39m\u001b[38;5;28;01mNone\u001b[39;00m):\n\u001b[1;32m   1036\u001b[0m     \u001b[38;5;124;03m\"\"\" Create a Numpy array containing the whole dataset.  DON'T THINK\u001b[39;00m\n\u001b[1;32m   1037\u001b[0m \u001b[38;5;124;03m    THIS MEANS DATASETS ARE INTERCHANGEABLE WITH ARRAYS.  For one thing,\u001b[39;00m\n\u001b[1;32m   1038\u001b[0m \u001b[38;5;124;03m    you have to read the whole dataset every time this method is called.\u001b[39;00m\n\u001b[1;32m   1039\u001b[0m \u001b[38;5;124;03m    \"\"\"\u001b[39;00m\n\u001b[0;32m-> 1040\u001b[0m     arr \u001b[38;5;241m=\u001b[39m \u001b[43mnumpy\u001b[49m\u001b[38;5;241;43m.\u001b[39;49m\u001b[43mzeros\u001b[49m\u001b[43m(\u001b[49m\u001b[38;5;28;43mself\u001b[39;49m\u001b[38;5;241;43m.\u001b[39;49m\u001b[43mshape\u001b[49m\u001b[43m,\u001b[49m\u001b[43m \u001b[49m\u001b[43mdtype\u001b[49m\u001b[38;5;241;43m=\u001b[39;49m\u001b[38;5;28;43mself\u001b[39;49m\u001b[38;5;241;43m.\u001b[39;49m\u001b[43mdtype\u001b[49m\u001b[43m \u001b[49m\u001b[38;5;28;43;01mif\u001b[39;49;00m\u001b[43m \u001b[49m\u001b[43mdtype\u001b[49m\u001b[43m \u001b[49m\u001b[38;5;129;43;01mis\u001b[39;49;00m\u001b[43m \u001b[49m\u001b[38;5;28;43;01mNone\u001b[39;49;00m\u001b[43m \u001b[49m\u001b[38;5;28;43;01melse\u001b[39;49;00m\u001b[43m \u001b[49m\u001b[43mdtype\u001b[49m\u001b[43m)\u001b[49m\n\u001b[1;32m   1042\u001b[0m     \u001b[38;5;66;03m# Special case for (0,)*-shape datasets\u001b[39;00m\n\u001b[1;32m   1043\u001b[0m     \u001b[38;5;28;01mif\u001b[39;00m numpy\u001b[38;5;241m.\u001b[39mproduct(\u001b[38;5;28mself\u001b[39m\u001b[38;5;241m.\u001b[39mshape, dtype\u001b[38;5;241m=\u001b[39mnumpy\u001b[38;5;241m.\u001b[39mulonglong) \u001b[38;5;241m==\u001b[39m \u001b[38;5;241m0\u001b[39m:\n",
      "\u001b[0;31mMemoryError\u001b[0m: Unable to allocate 59.4 GiB for an array with shape (1024, 15578912) and data type int32"
     ]
    }
   ],
   "source": [
    "processed_data = dm.full_demod_process('ts_toneinit_fcenter_4250.0_20240308061355_t_20240308062147.hd5',\n",
    "                                       f_sawtooth=15,\n",
    "                                       n=1,\n",
    "                                       tone_init_path = '/home/matt/ali_drive_mnt/tone_initializations',\n",
    "                                       ts_path = '/home/matt/ali_drive_mnt/beam_map_data/toneinit_fcenter_4250.0_20240308061355_t_20240308062133')\n",
    "#normal demod process won't work because the datafile is too large; need to look at it in chunks"
   ]
  },
  {
   "cell_type": "code",
   "execution_count": 16,
   "id": "bf595a53-4263-4ce8-9a7d-351b9dc43d32",
   "metadata": {},
   "outputs": [
    {
     "name": "stdout",
     "output_type": "stream",
     "text": [
      "[[-2040 -2937 -2973 ... -2047 -2954 -3003]\n",
      " [-1863 -1730 -2091 ... -1880 -1730 -2032]\n",
      " [  771   991  1765 ...   761   993  1772]\n",
      " ...\n",
      " [-1269 -1332 -1371 ... -1371 -1348 -1341]\n",
      " [  637  -138  -424 ...   126  -356  -512]\n",
      " [  216   -63  -199 ...    51  -180  -200]]\n"
     ]
    }
   ],
   "source": [
    "#how many channels can we load at a time?\n",
    "\n",
    "i = np.array(tes_data['time_ordered_data']['adc_i'][23:253][:])\n",
    "print(i)\n",
    "\n",
    "#python kernel begins to crash at around 200 channels, so let's chunck to 100 channels\n",
    "\n",
    "# all we need to do is add an option to the top of the full demod process which channels to demod"
   ]
  },
  {
   "cell_type": "code",
   "execution_count": 80,
   "id": "7c3dc5b9-af64-4a24-8515-150eb53b0854",
   "metadata": {},
   "outputs": [
    {
     "name": "stdout",
     "output_type": "stream",
     "text": [
      "4250.0\n",
      "20240308061355\n",
      "/home/matt/ali_drive_mnt/tone_initializations/fcenter_4250.0_20240308061355/\n",
      "[4.04455676e+09+0.j 4.04925600e+09+0.j 4.05118850e+09+0.j\n",
      " 4.05330762e+09+0.j 4.05590806e+09+0.j 4.05714651e+09+0.j\n",
      " 4.05850391e+09+0.j 4.06022866e+09+0.j 4.06400279e+09+0.j\n",
      " 4.06518536e+09+0.j 4.06691971e+09+0.j 4.06885077e+09+0.j\n",
      " 4.07034654e+09+0.j 4.07258089e+09+0.j 4.07523714e+09+0.j\n",
      " 4.07763186e+09+0.j 4.07906134e+09+0.j 4.08002344e+09+0.j\n",
      " 4.08284868e+09+0.j 4.08409877e+09+0.j 4.08759989e+09+0.j\n",
      " 4.08895191e+09+0.j 4.09030945e+09+0.j 4.09184880e+09+0.j\n",
      " 4.09499819e+09+0.j 4.09772073e+09+0.j 4.09861800e+09+0.j\n",
      " 4.10045020e+09+0.j 4.10217871e+09+0.j 4.10407520e+09+0.j\n",
      " 4.10644922e+09+0.j 4.10902227e+09+0.j 4.11095010e+09+0.j\n",
      " 4.11852755e+09+0.j 4.12088477e+09+0.j 4.12305392e+09+0.j\n",
      " 4.12532650e+09+0.j 4.12841797e+09+0.j 4.12940020e+09+0.j\n",
      " 4.13167971e+09+0.j 4.13445870e+09+0.j 4.13665958e+09+0.j\n",
      " 4.13860275e+09+0.j 4.14014127e+09+0.j 4.14199198e+09+0.j\n",
      " 4.14425367e+09+0.j 4.14628811e+09+0.j 4.14954797e+09+0.j\n",
      " 4.15219150e+09+0.j 4.15461523e+09+0.j 4.15656469e+09+0.j\n",
      " 4.15939567e+09+0.j 4.16055973e+09+0.j 4.16164748e+09+0.j\n",
      " 4.16318566e+09+0.j 4.16543457e+09+0.j 4.16578985e+09+0.j\n",
      " 4.16817852e+09+0.j 4.16841652e+09+0.j 4.16841997e+09+0.j\n",
      " 4.17021677e+09+0.j 4.17028477e+09+0.j 4.17031211e+09+0.j\n",
      " 4.17161809e+09+0.j 4.17223859e+09+0.j 4.17304702e+09+0.j\n",
      " 4.17340627e+09+0.j 4.17365427e+09+0.j 4.17365725e+09+0.j\n",
      " 4.17574026e+09+0.j 4.17591826e+09+0.j 4.17574678e+09+0.j\n",
      " 4.17593378e+09+0.j 4.17734180e+09+0.j 4.17816506e+09+0.j\n",
      " 4.17992285e+09+0.j 4.18086765e+09+0.j 4.18113865e+09+0.j\n",
      " 4.18114337e+09+0.j 4.18325537e+09+0.j 4.18382341e+09+0.j\n",
      " 4.18528046e+09+0.j 4.18763772e+09+0.j 4.18936719e+09+0.j\n",
      " 4.19156038e+09+0.j 4.19335942e+09+0.j 4.19526155e+09+0.j\n",
      " 4.20035070e+09+0.j 4.20220298e+09+0.j 4.20365237e+09+0.j\n",
      " 4.20516583e+09+0.j 4.20667606e+09+0.j 4.20804592e+09+0.j\n",
      " 4.20960823e+09+0.j 4.21159484e+09+0.j 4.21371596e+09+0.j\n",
      " 4.21510263e+09+0.j 4.21773830e+09+0.j 4.21847268e+09+0.j\n",
      " 4.22139241e+09+0.j 4.22319434e+09+0.j 4.22535552e+09+0.j\n",
      " 4.22706738e+09+0.j 4.23421203e+09+0.j 4.23441903e+09+0.j\n",
      " 4.23421509e+09+0.j 4.23442109e+09+0.j 4.23598730e+09+0.j\n",
      " 4.23742271e+09+0.j 4.23904788e+09+0.j 4.24059161e+09+0.j\n",
      " 4.24219464e+09+0.j 4.24365120e+09+0.j 4.24542290e+09+0.j\n",
      " 4.24778253e+09+0.j 4.25245424e+09+0.j 4.25408017e+09+0.j\n",
      " 4.25551348e+09+0.j 4.25742855e+09+0.j 4.25947949e+09+0.j\n",
      " 4.26225091e+09+0.j 4.26828690e+09+0.j 4.26959989e+09+0.j\n",
      " 4.27118145e+09+0.j 4.27277327e+09+0.j 4.27444434e+09+0.j\n",
      " 4.27607303e+09+0.j 4.27723219e+09+0.j 4.27949816e+09+0.j\n",
      " 4.28204702e+09+0.j 4.28412384e+09+0.j 4.28645529e+09+0.j\n",
      " 4.28802267e+09+0.j 4.28944027e+09+0.j 4.29163772e+09+0.j\n",
      " 4.29284261e+09+0.j 4.30598619e+09+0.j 4.31139416e+09+0.j\n",
      " 4.31276423e+09+0.j 4.31392778e+09+0.j 4.31530471e+09+0.j\n",
      " 4.31703827e+09+0.j 4.31870520e+09+0.j 4.32059377e+09+0.j\n",
      " 4.32360026e+09+0.j 4.32451251e+09+0.j 4.32582441e+09+0.j\n",
      " 4.32770343e+09+0.j 4.32871554e+09+0.j 4.33013825e+09+0.j\n",
      " 4.33269808e+09+0.j 4.33440346e+09+0.j 4.33637698e+09+0.j\n",
      " 4.34328827e+09+0.j 4.34480059e+09+0.j 4.34571096e+09+0.j\n",
      " 4.34719073e+09+0.j 4.34863651e+09+0.j 4.35036426e+09+0.j\n",
      " 4.35236233e+09+0.j 4.35498547e+09+0.j 4.35693427e+09+0.j\n",
      " 4.35757877e+09+0.j 4.35906738e+09+0.j 4.36079020e+09+0.j\n",
      " 4.36211563e+09+0.j 4.36428144e+09+0.j 4.36609670e+09+0.j\n",
      " 4.36816897e+09+0.j 4.37948091e+09+0.j 4.38046561e+09+0.j\n",
      " 4.38161330e+09+0.j 4.38303144e+09+0.j 4.38411054e+09+0.j\n",
      " 4.38602639e+09+0.j 4.38734189e+09+0.j 4.38944552e+09+0.j\n",
      " 4.39117959e+09+0.j 4.39270741e+09+0.j 4.39438734e+09+0.j\n",
      " 4.39611270e+09+0.j 4.39704234e+09+0.j 4.39837072e+09+0.j\n",
      " 4.40096308e+09+0.j 4.40354573e+09+0.j 4.40560268e+09+0.j\n",
      " 4.41306264e+09+0.j 4.41416934e+09+0.j 4.41529597e+09+0.j\n",
      " 4.41640363e+09+0.j 4.41797326e+09+0.j 4.42002365e+09+0.j\n",
      " 4.42130927e+09+0.j 4.42316616e+09+0.j 4.42475558e+09+0.j\n",
      " 4.42639367e+09+0.j 4.42832363e+09+0.j 4.42925721e+09+0.j\n",
      " 4.42998269e+09+0.j 4.43242545e+09+0.j 4.43287067e+09+0.j\n",
      " 4.43524049e+09+0.j 4.43625335e+09+0.j 4.43783275e+09+0.j\n",
      " 4.43834266e+09+0.j 4.43938405e+09+0.j 4.44132601e+09+0.j\n",
      " 4.44348614e+09+0.j 4.44552646e+09+0.j 4.44788295e+09+0.j\n",
      " 4.45072168e+09+0.j 4.45209647e+09+0.j 4.45397138e+09+0.j\n",
      " 4.45611900e+09+0.j 4.45846115e+09+0.j 4.46097594e+09+0.j\n",
      " 4.46417655e+09+0.j 4.46681743e+09+0.j 4.46799368e+09+0.j\n",
      " 4.46888960e+09+0.j 4.47055285e+09+0.j 4.47152760e+09+0.j\n",
      " 4.47317788e+09+0.j 4.47535342e+09+0.j 4.47739420e+09+0.j\n",
      " 4.47965172e+09+0.j 4.48255145e+09+0.j 4.48458727e+09+0.j\n",
      " 4.48581890e+09+0.j 4.48809670e+09+0.j 4.49024577e+09+0.j\n",
      " 4.49248460e+09+0.j]\n",
      "[4.45611900e+09+0.j 4.45846115e+09+0.j 4.46097594e+09+0.j]\n",
      "num of channels: 3\n",
      "num of tones: 3\n",
      "looking for delay region\n",
      "start = 4027769640.6250944\n",
      "stop = 4037790148.4375944\n",
      "2.9779121695909923\n",
      "n_phi0: 2.9779121695909923\n"
     ]
    },
    {
     "data": {
      "application/vnd.jupyter.widget-view+json": {
       "model_id": "055d7b004bfd4f978975e982c54e203e",
       "version_major": 2,
       "version_minor": 0
      },
      "text/plain": [
       "  0%|          | 0/2 [00:00<?, ?it/s]"
      ]
     },
     "metadata": {},
     "output_type": "display_data"
    }
   ],
   "source": [
    "processed_data = dm.full_demod_process('ts_toneinit_fcenter_4250.0_20240308061355_t_20240308062147.hd5',\n",
    "                                       f_sawtooth=15.0,\n",
    "                                       n=2,\n",
    "                                       channels='some',\n",
    "                                       start_channel=190,\n",
    "                                       stop_channel=192,\n",
    "                                       tone_init_path = '/home/matt/ali_drive_mnt/tone_initializations',\n",
    "                                       ts_path = '/home/matt/ali_drive_mnt/beam_map_data/toneinit_fcenter_4250.0_20240308061355_t_20240308062133')"
   ]
  },
  {
   "cell_type": "code",
   "execution_count": 82,
   "id": "d1d9061f-d499-4bbc-a70b-bb3356c3cc2b",
   "metadata": {},
   "outputs": [],
   "source": [
    "%matplotlib qt\n",
    "#print(processed_data)\n",
    "\n",
    "channel = [1]#np.arange(0,10,1)\n",
    "\n",
    "for i in channel:\n",
    "    plt.plot(processed_data['demod t'],processed_data['demod data'][i])"
   ]
  },
  {
   "cell_type": "code",
   "execution_count": 59,
   "id": "e7cf0a68-b19c-4c76-a9d7-16b78d165ada",
   "metadata": {},
   "outputs": [
    {
     "name": "stdout",
     "output_type": "stream",
     "text": [
      "478583\n",
      "15578912\n"
     ]
    }
   ],
   "source": [
    "print(len(processed_data['demod data'][1]))\n",
    "print(len(processed_data['fr data'][1]))"
   ]
  },
  {
   "cell_type": "code",
   "execution_count": 111,
   "id": "14e2e3e9-821a-4575-adb3-7c1ce60c9f8b",
   "metadata": {},
   "outputs": [
    {
     "name": "stdout",
     "output_type": "stream",
     "text": [
      "/home/matt/ali_drive_mnt/beam_map_data/toneinit_fcenter_4250.0_20240308061355_t_20240308062133/ts_toneinit_fcenter_4250.0_20240308061355_t_20240308062147.hd5\n"
     ]
    },
    {
     "data": {
      "text/plain": [
       "\"\\n#determine the number of channels using tone initialization\\nfcenter = beam_map_directory.split('_')[-4]\\ntone_init_t = beam_map_directory.split('_')[-3]\\ntone_init_directory = f'fcenter_{fcenter}_{tone_init_t}'\\ntone_init_freq_list = glob.glob(f'{tone_init_path}/{tone_init_directory}/freq_list_lo_sweep_targeted_1_*.npy')[0]\\ntones = np.load(tone_init_freq_list)\\nnum_tones = len(tones)\\n\\n\\nif num_tones % 10 == 0:\\n    chunks = int(num_tones / 10)\\nelse:\\n    chunks = int(num_tones // 10 + 1)\\n\\nprint(chunks)\\n\\nfor i in range(chunks):\\n    start_channel = start_channel + (stop_channel - start_channel)*i\\n    stop_channel = stop_channel + (stop_channel - start_channel)*i\\n    \\n    #truncated the final chunk if necessary\\n    if stop_channel > num_tones:\\n        stop_channel = num_tones\\n        \\n    processed_data = dm.full_demod_process('ts_toneinit_fcenter_4250.0_20240308061355_t_20240308062147.hd5',\\n                                       f_sawtooth=15.0,\\n                                       n=2,\\n                                       channels='some',\\n                                       start_channel=190,\\n                                       stop_channel=192,\\n                                       tone_init_path = '/home/matt/ali_drive_mnt/tone_initializations',\\n                                       ts_path = '/home/matt/ali_drive_mnt/beam_map_data/toneinit_fcenter_4250.0_20240308061355_t_20240308062133')\\n    \\n    \\n\\n\\n\\n#loop to read out and save to pickle files (need to name the pickle files using the channel ranges)\\n\""
      ]
     },
     "execution_count": 111,
     "metadata": {},
     "output_type": "execute_result"
    }
   ],
   "source": [
    "#processing an entire beam map file\n",
    "\n",
    "beam_map_directory = '/home/matt/ali_drive_mnt/beam_map_data/toneinit_fcenter_4250.0_20240308061355_t_20240308062133'\n",
    "tone_init_path = '/home/matt/ali_drive_mnt/tone_initializations'\n",
    "ts_file = glob.glob(f'{beam_map_directory}/*.hd5')[0]\n",
    "print(ts_file)\n",
    "\n",
    "\n",
    "#determine the number of channels using tone initialization\n",
    "fcenter = beam_map_directory.split('_')[-4]\n",
    "tone_init_t = beam_map_directory.split('_')[-3]\n",
    "tone_init_directory = f'fcenter_{fcenter}_{tone_init_t}'\n",
    "tone_init_freq_list = glob.glob(f'{tone_init_path}/{tone_init_directory}/freq_list_lo_sweep_targeted_1_*.npy')[0]\n",
    "tones = np.load(tone_init_freq_list)\n",
    "num_tones = len(tones)\n",
    "\n",
    "\n",
    "if num_tones % 10 == 0:\n",
    "    chunks = int(num_tones / 10)\n",
    "else:\n",
    "    chunks = int(num_tones // 10 + 1)\n",
    "\n",
    "print(chunks)\n",
    "\n",
    "for i in range(chunks):\n",
    "    start_channel = start_channel + (stop_channel - start_channel)*i\n",
    "    stop_channel = stop_channel + (stop_channel - start_channel)*i\n",
    "    \n",
    "    #truncated the final chunk if necessary\n",
    "    if stop_channel > num_tones:\n",
    "        stop_channel = num_tones\n",
    "        \n",
    "    processed_data = dm.full_demod_process(ts_file,\n",
    "                                           f_sawtooth=15.0,\n",
    "                                           n=2,\n",
    "                                           channels='some',\n",
    "                                           start_channel=start_channel,\n",
    "                                           stop_channel=stop_channel,\n",
    "                                           tone_init_path = tone_init_path,\n",
    "                                           ts_path = beam_map_directory)\n",
    "    \n",
    "    #declare a filename for pickling\n",
    "    file_name = \n",
    "    \n",
    "    #pickle\n",
    "    \n",
    "\n",
    "\n",
    "\n",
    "#loop to read out and save to pickle files (need to name the pickle files using the channel ranges)\n"
   ]
  },
  {
   "cell_type": "code",
   "execution_count": null,
   "id": "a8d4b904-cce2-481e-8acc-4e9aad70b81a",
   "metadata": {},
   "outputs": [],
   "source": [
    "#iv curves for 4250 MHz\n",
    "\n",
    "# BL 9 - 20240212172504\n",
    "iv_curve_file_4250MHz_BL9 = 'toneinit_fcenter_4250.0_20240212164634_t_20240212172504'\n",
    "\n",
    "# BL 10 - 20240212171247\n",
    "iv_curve_file_4250MHz_BL10 = 'toneinit_fcenter_4250.0_20240212164634_t_20240212171247'\n",
    "\n",
    "# BL 11 - 20240212173240\n",
    "iv_curve_file_4250MHz_BL11 = 'toneinit_fcenter_4250.0_20240212164634_t_20240212173240'\n",
    "\n"
   ]
  },
  {
   "cell_type": "markdown",
   "id": "cd3a1f4e-41be-429e-9714-4635448ab3a7",
   "metadata": {},
   "source": [
    "## Start Here"
   ]
  },
  {
   "cell_type": "code",
   "execution_count": 71,
   "id": "c217c6ef-c243-49e3-b42c-34dacabfaf34",
   "metadata": {
    "tags": []
   },
   "outputs": [
    {
     "name": "stdout",
     "output_type": "stream",
     "text": [
      "4250.0\n",
      "20240212164634\n",
      "/home/matt/alicpt_data/tone_initializations/fcenter_4250.0_20240212164634/\n",
      "num of channels: 1002\n",
      "num of tones: 235\n",
      "looking for delay region\n",
      "start = 4047472656.2500253\n",
      "stop = 4057492187.5000253\n",
      "3.2552083333333246\n",
      "n_phi0: 3.2552083333333246\n",
      "start index: 20\n"
     ]
    },
    {
     "data": {
      "application/vnd.jupyter.widget-view+json": {
       "model_id": "574a7d2882fd431d97dfe4157dce236a",
       "version_major": 2,
       "version_minor": 0
      },
      "text/plain": [
       "  0%|          | 0/235 [00:00<?, ?it/s]"
      ]
     },
     "metadata": {},
     "output_type": "display_data"
    },
    {
     "data": {
      "application/vnd.jupyter.widget-view+json": {
       "model_id": "a755290508a0434f837dab9cadfccd32",
       "version_major": 2,
       "version_minor": 0
      },
      "text/plain": [
       "  0%|          | 0/235 [00:00<?, ?it/s]"
      ]
     },
     "metadata": {},
     "output_type": "display_data"
    },
    {
     "data": {
      "application/vnd.jupyter.widget-view+json": {
       "model_id": "9bb232b6997f487e9af70bb22e64d922",
       "version_major": 2,
       "version_minor": 0
      },
      "text/plain": [
       "  0%|          | 0/235 [00:00<?, ?it/s]"
      ]
     },
     "metadata": {},
     "output_type": "display_data"
    },
    {
     "ename": "ValueError",
     "evalue": "cannot convert float NaN to integer",
     "output_type": "error",
     "traceback": [
      "\u001b[0;31m---------------------------------------------------------------------------\u001b[0m",
      "\u001b[0;31mValueError\u001b[0m                                Traceback (most recent call last)",
      "Input \u001b[0;32mIn [71]\u001b[0m, in \u001b[0;36m<cell line: 32>\u001b[0;34m()\u001b[0m\n\u001b[1;32m      2\u001b[0m iv_curves \u001b[38;5;241m=\u001b[39m {\u001b[38;5;124m'\u001b[39m\u001b[38;5;124m4250MHz_BL9_Warm\u001b[39m\u001b[38;5;124m'\u001b[39m:\u001b[38;5;124m'\u001b[39m\u001b[38;5;124mtoneinit_fcenter_4250.0_20240212164634_t_20240212172504\u001b[39m\u001b[38;5;124m'\u001b[39m,\n\u001b[1;32m      3\u001b[0m              \u001b[38;5;124m'\u001b[39m\u001b[38;5;124m4250MHz_BL10_Warm\u001b[39m\u001b[38;5;124m'\u001b[39m:\u001b[38;5;124m'\u001b[39m\u001b[38;5;124mtoneinit_fcenter_4250.0_20240212164634_t_20240212171247\u001b[39m\u001b[38;5;124m'\u001b[39m,\n\u001b[1;32m      4\u001b[0m              \u001b[38;5;124m'\u001b[39m\u001b[38;5;124m4250MHz_BL11_Warm\u001b[39m\u001b[38;5;124m'\u001b[39m:\u001b[38;5;124m'\u001b[39m\u001b[38;5;124mtoneinit_fcenter_4250.0_20240212164634_t_20240212173240\u001b[39m\u001b[38;5;124m'\u001b[39m,\n\u001b[0;32m   (...)\u001b[0m\n\u001b[1;32m     28\u001b[0m              \u001b[38;5;124m'\u001b[39m\u001b[38;5;124m6250MHz_BL8_Cold\u001b[39m\u001b[38;5;124m'\u001b[39m:\u001b[38;5;124m'\u001b[39m\u001b[38;5;124mtoneinit_fcenter_6250.0_20240213120741_t_20240213121138\u001b[39m\u001b[38;5;124m'\u001b[39m,\n\u001b[1;32m     29\u001b[0m              \u001b[38;5;124m'\u001b[39m\u001b[38;5;124m6750MHz_BL12_Cold\u001b[39m\u001b[38;5;124m'\u001b[39m:\u001b[38;5;124m'\u001b[39m\u001b[38;5;124mtoneinit_fcenter_6750.0_20240213121929_t_20240213123317\u001b[39m\u001b[38;5;124m'\u001b[39m}\n\u001b[1;32m     31\u001b[0m \u001b[38;5;66;03m#iv_processed_4250MHz_BL9 = dm.full_iv_process(iv_curves['4250MHz_BL9_Warm'],f_sawtooth=15, filter_Rn_Al=True, plot=None) \u001b[39;00m\n\u001b[0;32m---> 32\u001b[0m iv_processed_4250MHz_BL10 \u001b[38;5;241m=\u001b[39m \u001b[43mdm\u001b[49m\u001b[38;5;241;43m.\u001b[39;49m\u001b[43mfull_iv_process\u001b[49m\u001b[43m(\u001b[49m\u001b[43miv_curves\u001b[49m\u001b[43m[\u001b[49m\u001b[38;5;124;43m'\u001b[39;49m\u001b[38;5;124;43m4250MHz_BL10_Warm\u001b[39;49m\u001b[38;5;124;43m'\u001b[39;49m\u001b[43m]\u001b[49m\u001b[43m,\u001b[49m\u001b[43mf_sawtooth\u001b[49m\u001b[38;5;241;43m=\u001b[39;49m\u001b[38;5;241;43m15\u001b[39;49m\u001b[43m,\u001b[49m\u001b[43m \u001b[49m\u001b[43mfilter_Rn_Al\u001b[49m\u001b[38;5;241;43m=\u001b[39;49m\u001b[38;5;28;43;01mTrue\u001b[39;49;00m\u001b[43m,\u001b[49m\u001b[43m \u001b[49m\u001b[43mplot\u001b[49m\u001b[38;5;241;43m=\u001b[39;49m\u001b[38;5;28;43;01mNone\u001b[39;49;00m\u001b[43m)\u001b[49m\n",
      "File \u001b[0;32m~/readout/host/ali_offline_demod.py:1120\u001b[0m, in \u001b[0;36mfull_iv_process\u001b[0;34m(iv_file, f_sawtooth, Rsh, iv_path, filter_Rn_Al, plot)\u001b[0m\n\u001b[1;32m   1117\u001b[0m peak_sc_median \u001b[38;5;241m=\u001b[39m np\u001b[38;5;241m.\u001b[39mnanmedian(peak_sc_array)\n\u001b[1;32m   1119\u001b[0m \u001b[38;5;28;01mfor\u001b[39;00m ch \u001b[38;5;129;01min\u001b[39;00m tqdm(\u001b[38;5;28mrange\u001b[39m(data_demods_bin\u001b[38;5;241m.\u001b[39mshape[\u001b[38;5;241m0\u001b[39m])):\n\u001b[0;32m-> 1120\u001b[0m     Rn_almn_ch,Rn_al_ch,Rtes_ch,Vtes_ch,Ites_ch,bps_ch,Pbias_ch,resps_correct_ch \u001b[38;5;241m=\u001b[39m \u001b[43mIV_analysis_ch_duo\u001b[49m\u001b[43m(\u001b[49m\u001b[43mbias_currents\u001b[49m\u001b[43m[\u001b[49m\u001b[43m:\u001b[49m\u001b[43m,\u001b[49m\u001b[38;5;241;43m1\u001b[39;49m\u001b[43m]\u001b[49m\u001b[43m,\u001b[49m\n\u001b[1;32m   1121\u001b[0m \u001b[43m                                                                                                      \u001b[49m\u001b[43mdata_demods_bin\u001b[49m\u001b[43m[\u001b[49m\u001b[43mch\u001b[49m\u001b[43m]\u001b[49m\u001b[43m,\u001b[49m\u001b[43m \u001b[49m\n\u001b[1;32m   1122\u001b[0m \u001b[43m                                                                                                      \u001b[49m\u001b[43mpeak_nb\u001b[49m\u001b[38;5;241;43m=\u001b[39;49m\u001b[43mpeak_nb_median\u001b[49m\u001b[43m,\u001b[49m\n\u001b[1;32m   1123\u001b[0m \u001b[43m                                                                                                      \u001b[49m\u001b[43mpeak_sc\u001b[49m\u001b[38;5;241;43m=\u001b[39;49m\u001b[43mpeak_sc_median\u001b[49m\u001b[43m,\u001b[49m\n\u001b[1;32m   1124\u001b[0m \u001b[43m                                                                                                      \u001b[49m\u001b[43mRsh\u001b[49m\u001b[38;5;241;43m=\u001b[39;49m\u001b[38;5;241;43m0.4\u001b[39;49m\u001b[43m,\u001b[49m\n\u001b[1;32m   1125\u001b[0m \u001b[43m                                                                                                      \u001b[49m\u001b[43mfilter_Rn_Al\u001b[49m\u001b[38;5;241;43m=\u001b[39;49m\u001b[43mfilter_Rn_Al\u001b[49m\u001b[43m,\u001b[49m\u001b[43m \u001b[49m\n\u001b[1;32m   1126\u001b[0m \u001b[43m                                                                                                      \u001b[49m\u001b[43mplot\u001b[49m\u001b[38;5;241;43m=\u001b[39;49m\u001b[43mplot\u001b[49m\u001b[43m)\u001b[49m\n\u001b[1;32m   1128\u001b[0m     Rn_almn_list\u001b[38;5;241m.\u001b[39mappend(Rn_almn_ch)\n\u001b[1;32m   1129\u001b[0m     Rn_al_list\u001b[38;5;241m.\u001b[39mappend(Rn_al_ch)\n",
      "File \u001b[0;32m~/readout/host/ali_offline_demod.py:993\u001b[0m, in \u001b[0;36mIV_analysis_ch_duo\u001b[0;34m(bias_currents, resps, peak_nb, peak_sc, Rsh, filter_Rn_Al, plot)\u001b[0m\n\u001b[1;32m    989\u001b[0m     resps_correct\u001b[38;5;241m=\u001b[39mnp\u001b[38;5;241m.\u001b[39mones(bias_currents\u001b[38;5;241m.\u001b[39mshape[\u001b[38;5;241m0\u001b[39m])\u001b[38;5;241m*\u001b[39mnp\u001b[38;5;241m.\u001b[39mnan\n\u001b[1;32m    990\u001b[0m \u001b[38;5;28;01melse\u001b[39;00m:   \n\u001b[1;32m    991\u001b[0m     \u001b[38;5;66;03m#peak_nb=peaks_nb[0]\u001b[39;00m\n\u001b[1;32m    992\u001b[0m     \u001b[38;5;66;03m#resps_correct,peak_sc=IV_correction(resps)\u001b[39;00m\n\u001b[0;32m--> 993\u001b[0m     resps_correct\u001b[38;5;241m=\u001b[39m\u001b[43mIV_correction_median\u001b[49m\u001b[43m(\u001b[49m\u001b[43mresps\u001b[49m\u001b[43m,\u001b[49m\u001b[43mpeak_nb\u001b[49m\u001b[43m,\u001b[49m\u001b[43mpeak_sc\u001b[49m\u001b[43m)\u001b[49m\n\u001b[1;32m    994\u001b[0m     resps_nb\u001b[38;5;241m=\u001b[39mresps_correct[\u001b[38;5;241m2\u001b[39m:\u001b[38;5;28mint\u001b[39m(peak_nb\u001b[38;5;241m-\u001b[39m\u001b[38;5;241m10\u001b[39m)]\n\u001b[1;32m    995\u001b[0m     resps_sc\u001b[38;5;241m=\u001b[39mresps_correct[\u001b[38;5;28mint\u001b[39m(peak_sc\u001b[38;5;241m+\u001b[39m\u001b[38;5;241m20\u001b[39m):\u001b[38;5;241m-\u001b[39m\u001b[38;5;241m10\u001b[39m]\n",
      "File \u001b[0;32m~/readout/host/ali_offline_demod.py:941\u001b[0m, in \u001b[0;36mIV_correction_median\u001b[0;34m(resps, peak_nb, peak_sc)\u001b[0m\n\u001b[1;32m    935\u001b[0m \u001b[38;5;124;03m\"\"\"\u001b[39;00m\n\u001b[1;32m    936\u001b[0m \u001b[38;5;124;03mThis function smooth the IV curve and then find the normal and superconducting point\u001b[39;00m\n\u001b[1;32m    937\u001b[0m \u001b[38;5;124;03mit will then try to correct the jump caused by unwrapping large Ites changes with current Ibias resolution\u001b[39;00m\n\u001b[1;32m    938\u001b[0m \u001b[38;5;124;03m\"\"\"\u001b[39;00m \n\u001b[1;32m    940\u001b[0m \u001b[38;5;66;03m#here we know that before peaks_nb[0] and after peak_sc the Ites is monotonic \u001b[39;00m\n\u001b[0;32m--> 941\u001b[0m resps_nb\u001b[38;5;241m=\u001b[39mresps[\u001b[38;5;241m2\u001b[39m:\u001b[38;5;28;43mint\u001b[39;49m\u001b[43m(\u001b[49m\u001b[43mpeak_nb\u001b[49m\u001b[38;5;241;43m-\u001b[39;49m\u001b[38;5;241;43m10\u001b[39;49m\u001b[43m)\u001b[49m]\n\u001b[1;32m    942\u001b[0m resps_sc\u001b[38;5;241m=\u001b[39mresps[\u001b[38;5;28mint\u001b[39m(peak_sc\u001b[38;5;241m+\u001b[39m\u001b[38;5;241m10\u001b[39m):\u001b[38;5;241m-\u001b[39m\u001b[38;5;241m10\u001b[39m]\n\u001b[1;32m    943\u001b[0m resps_cor\u001b[38;5;241m=\u001b[39mnp\u001b[38;5;241m.\u001b[39mzeros(resps\u001b[38;5;241m.\u001b[39mshape[\u001b[38;5;241m0\u001b[39m])\n",
      "\u001b[0;31mValueError\u001b[0m: cannot convert float NaN to integer"
     ]
    }
   ],
   "source": [
    "#process iv curve\n",
    "iv_curves = {'4250MHz_BL9_Warm':'toneinit_fcenter_4250.0_20240212164634_t_20240212172504',\n",
    "             '4250MHz_BL10_Warm':'toneinit_fcenter_4250.0_20240212164634_t_20240212171247',\n",
    "             '4250MHz_BL11_Warm':'toneinit_fcenter_4250.0_20240212164634_t_20240212173240',\n",
    "             '4750MHz_BL7_Warm':'toneinit_fcenter_4750.0_20240212174427_t_20240212174816',\n",
    "             '4750MHz_BL8_Warm':'toneinit_fcenter_4750.0_20240212174427_t_20240212175959',\n",
    "             '4750MHz_BL9_Warm':'toneinit_fcenter_4750.0_20240212174427_t_20240212180717',\n",
    "             '4750MHz_BL11_Warm':'toneinit_fcenter_4750.0_20240212174427_t_20240212181437',\n",
    "             '5250MHz_BL7_Warm':'toneinit_fcenter_5250.0_20240212182224_t_20240212182634', # -> problem here undiagnosed\n",
    "             '5250MHz_BL9_Warm':'toneinit_fcenter_5250.0_20240212182224_t_20240212183347', # -> problem here\n",
    "             '5250MHz_BL12_Warm':'toneinit_fcenter_5250.0_20240212182224_t_20240212184128',\n",
    "             '5750MHz_BL8_Warm':'toneinit_fcenter_5750.0_20240212190328_t_20240212190721',\n",
    "             '5750MHz_BL11_Warm':'toneinit_fcenter_5750.0_20240212190328_t_20240212191433',\n",
    "             '6250MHz_BL8_Warm':'toneinit_fcenter_6250.0_20240212192226_t_20240212192618',\n",
    "             '6750MHz_BL12_Warm':'toneinit_fcenter_6750.0_20240212193336_t_20240212193745',\n",
    "             '4250MHz_BL9_Cold':'toneinit_fcenter_4250.0_20240213100705_t_20240213101047',\n",
    "             '4250MHz_BL10_Cold':'toneinit_fcenter_4250.0_20240213100705_t_20240213101808',\n",
    "             '4250MHz_BL11_Cold':'toneinit_fcenter_4250.0_20240213100705_t_20240213102551',\n",
    "             '4750MHz_BL7_Cold':'toneinit_fcenter_4750.0_20240213103311_t_20240213103650',\n",
    "             '4750MHz_BL8_Cold':'toneinit_fcenter_4750.0_20240213103311_t_20240213104400',\n",
    "             '4750MHz_BL9_Cold':'toneinit_fcenter_4750.0_20240213103311_t_20240213105157',\n",
    "             '4750MHz_BL11_Cold':'toneinit_fcenter_4750.0_20240213103311_t_20240213105928',\n",
    "             '5250MHz_BL7_Cold':'toneinit_fcenter_5250.0_20240213110651_t_20240213111049',\n",
    "             '5250MHz_BL9_Cold':'toneinit_fcenter_5250.0_20240213110651_t_20240213111823', #> problem here\n",
    "             '5250MHz_BL12_Cold':'toneinit_fcenter_5250.0_20240213110651_t_20240213112541',\n",
    "             '5750MHz_BL8_Cold':'toneinit_fcenter_5750.0_20240213114826_t_20240213115229',\n",
    "             '5750MHz_BL11_Cold':'toneinit_fcenter_5750.0_20240213114826_t_20240213120017',\n",
    "             '6250MHz_BL8_Cold':'toneinit_fcenter_6250.0_20240213120741_t_20240213121138',\n",
    "             '6750MHz_BL12_Cold':'toneinit_fcenter_6750.0_20240213121929_t_20240213123317'}\n",
    "\n",
    "#iv_processed_4250MHz_BL9 = dm.full_iv_process(iv_curves['4250MHz_BL9_Warm'],f_sawtooth=15, filter_Rn_Al=True, plot=None) \n",
    "iv_processed_4250MHz_BL10 = dm.full_iv_process(iv_curves['4250MHz_BL10_Warm'],f_sawtooth=15, filter_Rn_Al=True, plot=None) \n",
    "#iv_processed_4250MHz_BL11 = dm.full_iv_process(iv_curves['4250MHz_BL11_Warm'],f_sawtooth=15, filter_Rn_Al=True, plot=None) "
   ]
  },
  {
   "cell_type": "code",
   "execution_count": 69,
   "id": "c2408863-2142-4693-a113-ba56b0d9cae9",
   "metadata": {},
   "outputs": [
    {
     "ename": "NameError",
     "evalue": "name 'iv_processed_4250MHz_BL10' is not defined",
     "output_type": "error",
     "traceback": [
      "\u001b[0;31m---------------------------------------------------------------------------\u001b[0m",
      "\u001b[0;31mNameError\u001b[0m                                 Traceback (most recent call last)",
      "Input \u001b[0;32mIn [69]\u001b[0m, in \u001b[0;36m<cell line: 5>\u001b[0;34m()\u001b[0m\n\u001b[1;32m      3\u001b[0m active_channel \u001b[38;5;241m=\u001b[39m [\u001b[38;5;241m3\u001b[39m] \u001b[38;5;66;03m#range(len(iv_processed_4250MHz_BL10))\u001b[39;00m\n\u001b[1;32m      5\u001b[0m \u001b[38;5;28;01mfor\u001b[39;00m ch \u001b[38;5;129;01min\u001b[39;00m active_channel:\n\u001b[0;32m----> 6\u001b[0m     plt\u001b[38;5;241m.\u001b[39mplot(\u001b[43miv_processed_4250MHz_BL10\u001b[49m[\u001b[38;5;124m'\u001b[39m\u001b[38;5;124mVtes\u001b[39m\u001b[38;5;124m'\u001b[39m][ch],iv_processed_4250MHz_BL10[\u001b[38;5;124m'\u001b[39m\u001b[38;5;124mItes\u001b[39m\u001b[38;5;124m'\u001b[39m][ch])\n\u001b[1;32m      7\u001b[0m     \u001b[38;5;28mprint\u001b[39m(\u001b[38;5;124mf\u001b[39m\u001b[38;5;124m'\u001b[39m\u001b[38;5;124mChannel: \u001b[39m\u001b[38;5;132;01m{\u001b[39;00mch\u001b[38;5;132;01m}\u001b[39;00m\u001b[38;5;124m Frequency: \u001b[39m\u001b[38;5;132;01m{\u001b[39;00mnp\u001b[38;5;241m.\u001b[39mreal(iv_processed_4250MHz_BL10[\u001b[38;5;124m\"\u001b[39m\u001b[38;5;124mtime series data\u001b[39m\u001b[38;5;124m\"\u001b[39m][\u001b[38;5;124m\"\u001b[39m\u001b[38;5;124mchannel freqs\u001b[39m\u001b[38;5;124m\"\u001b[39m][ch])\u001b[38;5;132;01m}\u001b[39;00m\u001b[38;5;124m'\u001b[39m)\n",
      "\u001b[0;31mNameError\u001b[0m: name 'iv_processed_4250MHz_BL10' is not defined"
     ]
    }
   ],
   "source": [
    "#view IV curves - find a good one to examine\n",
    "\n",
    "active_channel = [3] #range(len(iv_processed_4250MHz_BL10))\n",
    "\n",
    "for ch in active_channel:\n",
    "    plt.plot(iv_processed_4250MHz_BL10['Vtes'][ch],iv_processed_4250MHz_BL10['Ites'][ch])\n",
    "    print(f'Channel: {ch} Frequency: {np.real(iv_processed_4250MHz_BL10[\"time series data\"][\"channel freqs\"][ch])}')"
   ]
  },
  {
   "cell_type": "code",
   "execution_count": 2,
   "id": "d58acc53-6575-46b8-a4e6-3ef9959d5f4a",
   "metadata": {
    "tags": []
   },
   "outputs": [
    {
     "name": "stdout",
     "output_type": "stream",
     "text": [
      "4250.0\n",
      "20240221163542\n",
      "/home/matt/alicpt_data/tone_initializations/fcenter_4250.0_20240221163542/\n",
      "num of channels: 1002\n",
      "num of tones: 230\n",
      "looking for delay region\n"
     ]
    },
    {
     "name": "stderr",
     "output_type": "stream",
     "text": [
      "/home/matt/readout/host/ali_offline_demod.py:679: RuntimeWarning: divide by zero encountered in log10\n",
      "  y=np.append(y,20*np.log10(np.abs(test_sweep[1,:])))\n"
     ]
    },
    {
     "name": "stdout",
     "output_type": "stream",
     "text": [
      "start = 4044848796.8750014\n",
      "stop = 4054869304.6875014\n",
      "3.2552083333333246\n",
      "n_phi0: 3.2552083333333246\n",
      "start index: 28\n"
     ]
    },
    {
     "data": {
      "application/vnd.jupyter.widget-view+json": {
       "model_id": "b69d653ac08942ee8901e6a1df6f633f",
       "version_major": 2,
       "version_minor": 0
      },
      "text/plain": [
       "  0%|          | 0/230 [00:00<?, ?it/s]"
      ]
     },
     "metadata": {},
     "output_type": "display_data"
    }
   ],
   "source": [
    "#look at the good iv curve's ts data\n",
    "imp.reload(dm)\n",
    "\n",
    "#ts_toneinit_fcenter_4250.0_20240221163542_t_20240221164159\n",
    "#ts_toneinit_fcenter_4250.0_20240221163542_t_20240221164021\n",
    "\n",
    "ts_file = 'ts_toneinit_fcenter_4250.0_20240221163542_t_20240221164159.hd5'\n",
    "#ts_file = 'ts_toneinit_fcenter_4250.0_20240221163542_t_20240221164021.hd5'\n",
    "\n",
    "test_ts_processed = dm.full_demod_process(ts_file,\n",
    "                                          f_sawtooth=15.0,\n",
    "                                          n=0,\n",
    "                                          channels='all')"
   ]
  },
  {
   "cell_type": "code",
   "execution_count": 73,
   "id": "8069e28e-7db5-4379-a6cc-f3decdf163ee",
   "metadata": {},
   "outputs": [
    {
     "name": "stdout",
     "output_type": "stream",
     "text": [
      "[3 3]\n"
     ]
    },
    {
     "name": "stderr",
     "output_type": "stream",
     "text": [
      "/home/matt/readout/host/ali_offline_demod.py:1194: ComplexWarning: Casting complex values to real discards the imaginary part\n",
      "  idups_ids=[fall[x,1].astype(int) for x in idups_redu]\n",
      "/home/matt/readout/host/ali_offline_demod.py:1200: ComplexWarning: Casting complex values to real discards the imaginary part\n",
      "  corrected_complex_data = apply_correction(eta_array, adc_i, adc_q)\n",
      "/home/matt/readout/host/ali_offline_demod.py:1202: ComplexWarning: Casting complex values to real discards the imaginary part\n",
      "  print(adc_q[22:25])\n"
     ]
    }
   ],
   "source": [
    "#match channels from IV dataset to channels from TES source ts dataset\n",
    "iv_freqs = iv_processed_4250MHz_BL10[\"time series data\"][\"channel freqs\"]\n",
    "ts_freqs = test_ts_processed[\"channel freqs\"]\n",
    "\n",
    "matched = dm.match_freqs(iv_freqs, ts_freqs)\n",
    "print(matched[3])"
   ]
  },
  {
   "cell_type": "code",
   "execution_count": 3,
   "id": "f34a67cb-abd3-4386-9e72-0ee05a67bdad",
   "metadata": {},
   "outputs": [
    {
     "data": {
      "image/png": "[encoded data removed]",
      "text/plain": [
       "<Figure size 432x288 with 1 Axes>"
      ]
     },
     "metadata": {
      "needs_background": "light"
     },
     "output_type": "display_data"
    }
   ],
   "source": [
    "#view ts raw\n",
    "active_channel = [3]#range(len(test_ts_processed['demod data']))\n",
    "for ch in active_channel:\n",
    "    plt.plot(test_ts_processed['fr t'], test_ts_processed['fr data'][ch],'.-')\n",
    "    for i in test_ts_processed['reset indices']:\n",
    "        plt.plot(test_ts_processed['fr t'][test_ts_processed['start index']+i], test_ts_processed['fr data'][ch][test_ts_processed['start index']+i],'.')\n",
    "    plt.vlines(test_ts_processed['t0']+test_ts_processed['fr t'][0],-2,2,'g')\n",
    "    plt.plot(test_ts_processed['fr t'][test_ts_processed['start index']], test_ts_processed['fr data'][ch][test_ts_processed['start index']],'r*')\n",
    "    "
   ]
  },
  {
   "cell_type": "code",
   "execution_count": 93,
   "id": "9039a0cb-0ab1-49e0-9167-4f9d3e89bc6a",
   "metadata": {},
   "outputs": [],
   "source": [
    "ch = 3\n",
    "\n",
    "\n",
    "for i in range(len(test_ts_processed['reset indices'])-2):\n",
    "    start = test_ts_processed['start index'] + test_ts_processed['reset indices'][i]\n",
    "    stop = test_ts_processed['reset indices'][i+2]\n",
    "    plt.plot(test_ts_processed['fr t'][start:stop]-test_ts_processed['fr t'][start], test_ts_processed['fr data'][ch][start:stop],'.-')\n",
    "    \n",
    "#plt.plot(test_ts_processed['fr t'], test_ts_processed['fr data'][ch],'--')"
   ]
  },
  {
   "cell_type": "code",
   "execution_count": 143,
   "id": "027f4c67-7c35-4039-9700-9c875b5b2279",
   "metadata": {},
   "outputs": [
    {
     "name": "stdout",
     "output_type": "stream",
     "text": [
      "Channel: 3 Frequency: 4053295757.8125496\n"
     ]
    }
   ],
   "source": [
    "#view ts processed\n",
    "active_channel = [3]#range(len(test_ts_processed['demod data']))\n",
    "\n",
    "for ch in active_channel:\n",
    "    plt.plot(test_ts_processed['demod t'], test_ts_processed['demod data'][ch])\n",
    "    print(f'Channel: {ch} Frequency: {np.real(test_ts_processed[\"channel freqs\"][ch])}')"
   ]
  },
  {
   "cell_type": "code",
   "execution_count": 9,
   "id": "6d144990-049d-41aa-993d-5e18d79be999",
   "metadata": {
    "collapsed": true,
    "jupyter": {
     "outputs_hidden": true
    },
    "tags": []
   },
   "outputs": [
    {
     "name": "stdout",
     "output_type": "stream",
     "text": [
      "4250.0\n",
      "20240306105515\n",
      "/home/matt/alicpt_data/tone_initializations/fcenter_4250.0_20240306105515/\n",
      "[4.04455176e+09+0.j 4.04925974e+09+0.j 4.05117271e+09+0.j\n",
      " 4.05331164e+09+0.j 4.05589432e+09+0.j 4.05716406e+09+0.j\n",
      " 4.05847966e+09+0.j 4.06022559e+09+0.j 4.06399505e+09+0.j\n",
      " 4.06523616e+09+0.j 4.06693178e+09+0.j 4.06890058e+09+0.j\n",
      " 4.07040527e+09+0.j 4.07254771e+09+0.j 4.07527160e+09+0.j\n",
      " 4.07761705e+09+0.j 4.07905259e+09+0.j 4.08008008e+09+0.j\n",
      " 4.08285428e+09+0.j 4.08408691e+09+0.j 4.08758208e+09+0.j\n",
      " 4.08896391e+09+0.j 4.09027051e+09+0.j 4.09189751e+09+0.j\n",
      " 4.09497738e+09+0.j 4.09774300e+09+0.j 4.09864544e+09+0.j\n",
      " 4.10049907e+09+0.j 4.10224419e+09+0.j 4.10404204e+09+0.j\n",
      " 4.10646475e+09+0.j 4.10907817e+09+0.j 4.11093922e+09+0.j\n",
      " 4.11852734e+09+0.j 4.12085161e+09+0.j 4.12300848e+09+0.j\n",
      " 4.12528399e+09+0.j 4.12848235e+09+0.j 4.12940746e+09+0.j\n",
      " 4.13168148e+09+0.j 4.13446196e+09+0.j 4.13669413e+09+0.j\n",
      " 4.13855290e+09+0.j 4.14014277e+09+0.j 4.14197168e+09+0.j\n",
      " 4.14430864e+09+0.j 4.14634989e+09+0.j 4.14957298e+09+0.j\n",
      " 4.15219950e+09+0.j 4.15469445e+09+0.j 4.15660156e+09+0.j\n",
      " 4.15938198e+09+0.j 4.16059201e+09+0.j 4.16166113e+09+0.j\n",
      " 4.16326974e+09+0.j 4.16543162e+09+0.j 4.16576341e+09+0.j\n",
      " 4.16821513e+09+0.j 4.16845213e+09+0.j 4.16845898e+09+0.j\n",
      " 4.17022649e+09+0.j 4.17036349e+09+0.j 4.17022514e+09+0.j\n",
      " 4.17035314e+09+0.j 4.17160363e+09+0.j 4.17221094e+09+0.j\n",
      " 4.17302720e+09+0.j 4.17340246e+09+0.j 4.17371047e+09+0.j\n",
      " 4.17577911e+09+0.j 4.17595311e+09+0.j 4.17579694e+09+0.j\n",
      " 4.17596994e+09+0.j 4.17739555e+09+0.j 4.17811645e+09+0.j\n",
      " 4.17995596e+09+0.j 4.18091673e+09+0.j 4.18117073e+09+0.j\n",
      " 4.18117571e+09+0.j 4.18331088e+09+0.j 4.18380750e+09+0.j\n",
      " 4.18531820e+09+0.j 4.18769648e+09+0.j 4.18940806e+09+0.j\n",
      " 4.19157036e+09+0.j 4.19339746e+09+0.j 4.19530190e+09+0.j\n",
      " 4.20032798e+09+0.j 4.20221191e+09+0.j 4.20369329e+09+0.j\n",
      " 4.20520813e+09+0.j 4.20664941e+09+0.j 4.20803618e+09+0.j\n",
      " 4.20965332e+09+0.j 4.21163281e+09+0.j 4.21371205e+09+0.j\n",
      " 4.21509570e+09+0.j 4.21778532e+09+0.j 4.21850000e+09+0.j\n",
      " 4.22139563e+09+0.j 4.22320038e+09+0.j 4.22539358e+09+0.j\n",
      " 4.22708105e+09+0.j 4.23420708e+09+0.j 4.23420215e+09+0.j\n",
      " 4.23444715e+09+0.j 4.23601088e+09+0.j 4.23739181e+09+0.j\n",
      " 4.23903995e+09+0.j 4.24058477e+09+0.j 4.24221463e+09+0.j\n",
      " 4.24369798e+09+0.j 4.24547577e+09+0.j 4.24782129e+09+0.j\n",
      " 4.25247180e+09+0.j 4.25411709e+09+0.j 4.25554009e+09+0.j\n",
      " 4.25744445e+09+0.j 4.25952834e+09+0.j 4.26225093e+09+0.j\n",
      " 4.26830452e+09+0.j 4.26959884e+09+0.j 4.27119022e+09+0.j\n",
      " 4.27273849e+09+0.j 4.27446470e+09+0.j 4.27609154e+09+0.j\n",
      " 4.27727813e+09+0.j 4.27946487e+09+0.j 4.28203227e+09+0.j\n",
      " 4.28412616e+09+0.j 4.28648800e+09+0.j 4.28801381e+09+0.j\n",
      " 4.28942650e+09+0.j 4.29165902e+09+0.j 4.29286400e+09+0.j\n",
      " 4.30599621e+09+0.j 4.31140795e+09+0.j 4.31277699e+09+0.j\n",
      " 4.31399126e+09+0.j 4.31530278e+09+0.j 4.31702539e+09+0.j\n",
      " 4.31871498e+09+0.j 4.32058984e+09+0.j 4.32354999e+09+0.j\n",
      " 4.32451758e+09+0.j 4.32580450e+09+0.j 4.32771801e+09+0.j\n",
      " 4.32878239e+09+0.j 4.33014960e+09+0.j 4.33274721e+09+0.j\n",
      " 4.33439765e+09+0.j 4.33637800e+09+0.j 4.34329718e+09+0.j\n",
      " 4.34481938e+09+0.j 4.34566116e+09+0.j 4.34730216e+09+0.j\n",
      " 4.34862798e+09+0.j 4.35043071e+09+0.j 4.35229704e+09+0.j\n",
      " 4.35498166e+09+0.j 4.35693334e+09+0.j 4.35757184e+09+0.j\n",
      " 4.35907243e+09+0.j 4.36082103e+09+0.j 4.36217909e+09+0.j\n",
      " 4.36426074e+09+0.j 4.36604790e+09+0.j 4.36819141e+09+0.j\n",
      " 4.37946156e+09+0.j 4.38046735e+09+0.j 4.38159375e+09+0.j\n",
      " 4.38310063e+09+0.j 4.38407927e+09+0.j 4.38610938e+09+0.j\n",
      " 4.38734198e+09+0.j 4.38941509e+09+0.j 4.39118766e+09+0.j\n",
      " 4.39270255e+09+0.j 4.39441244e+09+0.j 4.39600637e+09+0.j\n",
      " 4.39713823e+09+0.j 4.39837893e+09+0.j 4.40094320e+09+0.j\n",
      " 4.40353790e+09+0.j 4.40560270e+09+0.j 4.41305027e+09+0.j\n",
      " 4.41417309e+09+0.j 4.41529716e+09+0.j 4.41636886e+09+0.j\n",
      " 4.41808257e+09+0.j 4.42002558e+09+0.j 4.42132943e+09+0.j\n",
      " 4.42316509e+09+0.j 4.42475377e+09+0.j 4.42636779e+09+0.j\n",
      " 4.42834901e+09+0.j 4.42929720e+09+0.j 4.42999083e+09+0.j\n",
      " 4.43244057e+09+0.j 4.43292380e+09+0.j 4.43519298e+09+0.j\n",
      " 4.43622130e+09+0.j 4.43782231e+09+0.j 4.43833763e+09+0.j\n",
      " 4.43936707e+09+0.j 4.44133501e+09+0.j 4.44349626e+09+0.j\n",
      " 4.44552555e+09+0.j 4.44787700e+09+0.j 4.45072673e+09+0.j\n",
      " 4.45210649e+09+0.j 4.45399435e+09+0.j 4.45613281e+09+0.j\n",
      " 4.45846508e+09+0.j 4.46097870e+09+0.j 4.46417055e+09+0.j\n",
      " 4.46683134e+09+0.j 4.46798352e+09+0.j 4.46888565e+09+0.j\n",
      " 4.47055664e+09+0.j 4.47151146e+09+0.j 4.47318071e+09+0.j\n",
      " 4.47536547e+09+0.j 4.47741716e+09+0.j 4.47964670e+09+0.j\n",
      " 4.48257231e+09+0.j 4.48458708e+09+0.j 4.48578959e+09+0.j\n",
      " 4.48810938e+09+0.j 4.49025130e+09+0.j 4.49251239e+09+0.j\n",
      " 4.49543430e+09+0.j]\n",
      "[4.09189751e+09+0.j 4.09497738e+09+0.j 4.09774300e+09+0.j\n",
      " 4.09864544e+09+0.j 4.10049907e+09+0.j 4.10224419e+09+0.j]\n",
      "num of channels: 6\n",
      "num of tones: 6\n",
      "looking for delay region\n",
      "start = 4404106710.937561\n",
      "stop = 4414126242.187561\n",
      "3.2368701718642683\n",
      "n_phi0: 3.2368701718642683\n"
     ]
    },
    {
     "data": {
      "application/vnd.jupyter.widget-view+json": {
       "model_id": "c3d1317444eb4533bbb3fa936dd04eda",
       "version_major": 2,
       "version_minor": 0
      },
      "text/plain": [
       "  0%|          | 0/5 [00:00<?, ?it/s]"
      ]
     },
     "metadata": {},
     "output_type": "display_data"
    }
   ],
   "source": [
    "processed_data = dm.full_demod_process('ts_toneinit_fcenter_4250.0_20240306105515_t_20240306110342.hd5',\n",
    "                                       f_sawtooth=15.0,\n",
    "                                       n=3,\n",
    "                                       channels='some',\n",
    "                                       start_channel=0,\n",
    "                                       stop_channel=5,\n",
    "                                       tone_init_path = '/home/matt/alicpt_data/tone_initializations',\n",
    "                                       ts_path = '/home/matt/alicpt_data/beam_map_data/toneinit_fcenter_4250.0_20240306105515_t_20240306110300')"
   ]
  },
  {
   "cell_type": "code",
   "execution_count": 10,
   "id": "242b0b6d-b36a-48b0-9551-bbfb1bb4a71e",
   "metadata": {},
   "outputs": [
    {
     "name": "stdout",
     "output_type": "stream",
     "text": [
      "[3 3]\n"
     ]
    }
   ],
   "source": [
    "#match channels from IV dataset to channels from beam mapper dataset\n",
    "\n",
    "iv_freqs = iv_processed_4250MHz_BL10[\"time series data\"][\"channel freqs\"]\n",
    "bm_freqs = processed_data[\"channel freqs\"]\n",
    "\n",
    "matched = dm.match_freqs(iv_freqs, ts_freqs)\n",
    "print(matched[3])"
   ]
  },
  {
   "cell_type": "code",
   "execution_count": 12,
   "id": "bffe4af6-b830-4818-a20c-9584b4c1e4d3",
   "metadata": {},
   "outputs": [
    {
     "name": "stdout",
     "output_type": "stream",
     "text": [
      "Channel: 3 Frequency: 4098645437.5000505\n"
     ]
    }
   ],
   "source": [
    "#view beam map raw\n",
    "%matplotlib qt\n",
    "active_channel = [3]#range(len(test_ts_processed['demod data']))\n",
    "\n",
    "for ch in active_channel:\n",
    "    plt.plot(processed_data['fr t'], processed_data['fr data'][ch])\n",
    "    print(f'Channel: {ch} Frequency: {np.real(processed_data[\"channel freqs\"][ch])}')"
   ]
  },
  {
   "cell_type": "code",
   "execution_count": 190,
   "id": "0d17f369-dd13-418e-95e1-0d37913b32ec",
   "metadata": {},
   "outputs": [
    {
     "name": "stdout",
     "output_type": "stream",
     "text": [
      "Channel: 3 Frequency: 4098645437.5000505\n"
     ]
    }
   ],
   "source": [
    "#view beam map processed\n",
    "active_channel = [3]#range(len(test_ts_processed['demod data']))\n",
    "\n",
    "for ch in active_channel:\n",
    "    plt.plot(processed_data['demod t'], processed_data['demod data'][ch])\n",
    "    print(f'Channel: {ch} Frequency: {np.real(processed_data[\"channel freqs\"][ch])}')"
   ]
  },
  {
   "cell_type": "code",
   "execution_count": 7,
   "id": "ad3cab0a-307a-48ae-9977-bb35bc83ec7d",
   "metadata": {},
   "outputs": [],
   "source": [
    "#chao-lin's interpolation idea\n",
    "\n",
    "#generate flux ramp signal that matches the parameters we used during testing (this is for visuals)\n",
    "\n",
    "fig, ax = plt.subplots(1)\n",
    "\n",
    "sample_rate = 1000 #samples/s\n",
    "start_t = 0 #s\n",
    "end_t = 2/15 #s\n",
    "\n",
    "f_sawtooth = 15 #Hz\n",
    "n_Phi0 = 3.2368701718642683\n",
    "\n",
    "t = np.arange(start_t,end_t,1/sample_rate)\n",
    "\n",
    "\n",
    "t_fr, fr = dm.generate_flux_ramp(t, n_Phi0=n_Phi0, f_sawtooth=f_sawtooth, plot = False, plot_len = None)\n",
    "average_fr = np.average(fr)\n",
    "\n",
    "\n",
    "ax.plot(t_fr,fr-average_fr)\n",
    "\n",
    "ch = 3\n",
    "\n",
    "\n",
    "for i in range(len(test_ts_processed['reset indices'])-2):\n",
    "    start = test_ts_processed['start index'] + test_ts_processed['reset indices'][i]\n",
    "    stop = test_ts_processed['reset indices'][i+2]\n",
    "    average = np.average(test_ts_processed['fr data'][ch])\n",
    "    ax.plot(test_ts_processed['fr t'][start:stop]-test_ts_processed['fr t'][start], test_ts_processed['fr data'][ch][start:stop]-average,'.-')\n",
    "    "
   ]
  },
  {
   "cell_type": "code",
   "execution_count": 8,
   "id": "f4c6e563-f0b9-4237-9cec-c96b3f56442f",
   "metadata": {},
   "outputs": [
    {
     "data": {
      "text/plain": [
       "[<matplotlib.lines.Line2D at 0x7fe542b85030>]"
      ]
     },
     "execution_count": 8,
     "metadata": {},
     "output_type": "execute_result"
    }
   ],
   "source": [
    "from scipy.interpolate import CubicSpline, interp1d\n",
    "\n",
    "fig, ax = plt.subplots(1)\n",
    "\n",
    "t_fr, fr = dm.generate_flux_ramp(t, n_Phi0=n_Phi0, f_sawtooth=f_sawtooth, plot = False, plot_len = None)\n",
    "average_fr = np.average(fr)\n",
    "\n",
    "ax.plot(t_fr,fr-average_fr)\n",
    "\n",
    "demod_data = np.array([])\n",
    "demod_t = np.array([])\n",
    "for i in [0]:#range(len(test_ts_processed['reset indices'])-2):\n",
    "    start = test_ts_processed['start index'] + test_ts_processed['reset indices'][i]\n",
    "    stop = test_ts_processed['reset indices'][i+2]\n",
    "    average = np.average(test_ts_processed['fr data'][ch])\n",
    "    \n",
    "    interpolation = CubicSpline(test_ts_processed['fr t'][start:stop]-test_ts_processed['fr t'][start], \n",
    "                                test_ts_processed['fr data'][ch][start:stop]-average)\n",
    "    t_new = np.linspace(0,test_ts_processed['fr t'][stop]-test_ts_processed['fr t'][start],1024)\n",
    "    \n",
    "    ax.plot(test_ts_processed['fr t'][start:stop]-test_ts_processed['fr t'][start], \n",
    "            test_ts_processed['fr data'][ch][start:stop]-average,\n",
    "            '*')\n",
    "    \n",
    "    t_windowed = t_new#t_new[:len(t_new)-200]\n",
    "    interp_windowed = interpolation(t_new)#[:len(t_new)-200]\n",
    "    \n",
    "    ax.plot(t_windowed,interp_windowed,'.-')\n",
    "    \n",
    "    num = np.sum(interp_windowed*np.sin(2*np.pi*n_Phi0*f_sawtooth*t_windowed))\n",
    "    den = np.sum(interp_windowed*np.cos(2*np.pi*n_Phi0*f_sawtooth*t_windowed))\n",
    "    \n",
    "    \n",
    "    #num = np.sum(interpolation(t_new)*np.sin(2*np.pi*n_Phi0*f_sawtooth*t_new))\n",
    "    #den = np.sum(interpolation(t_new)*np.cos(2*np.pi*n_Phi0*f_sawtooth*t_new))\n",
    "    \n",
    "    demod_data = np.append(demod_data, np.arctan2(num, den))\n",
    "    demod_t = np.append(demod_t, np.average(test_ts_processed['fr t'][start:stop])) #simple test is to make time the average time in the chunk\n",
    "\n",
    "fig2, ax2 = plt.subplots(1)\n",
    "ax2.plot(demod_t, demod_data,'.-')\n",
    "    \n",
    "    \n",
    "    "
   ]
  },
  {
   "cell_type": "code",
   "execution_count": 9,
   "id": "b0c21f8e-1299-4652-8d94-9e9c284a5d7e",
   "metadata": {},
   "outputs": [
    {
     "data": {
      "text/plain": [
       "[<matplotlib.lines.Line2D at 0x7fe542c41a50>]"
      ]
     },
     "execution_count": 9,
     "metadata": {},
     "output_type": "execute_result"
    }
   ],
   "source": [
    "\"\"\"\n",
    "next steps:\n",
    "\n",
    "single channel, break down the entire process step by step manually\n",
    "\n",
    "1: define a good t0\n",
    "2: identify all of the flux ramp reset points\n",
    "3: attempt to demodulate on each resulting chunk\n",
    "   a. use 1024 points or a smaller power of 2\n",
    "   b. use actual fft to get first 3 terms\n",
    "   c. reinject phase (try to reproduce the original data exactly)\n",
    "   \n",
    "   add to doc:\n",
    "   synchronize the fr and detector sampling\n",
    "   time spacing\n",
    "\"\"\"\n",
    "\n",
    "#raw data\n",
    "fig, ax = plt.subplots(1)\n",
    "ax.plot(test_ts_processed['fr t'], test_ts_processed['fr data'][3],'.-')\n",
    "\n",
    "#manually setting t0 to the 28th pt\n",
    "t_t0shifted = test_ts_processed['fr t'][28:]\n",
    "fr_t0shifted = test_ts_processed['fr data'][3][28:]\n",
    "fig2, ax2 = plt.subplots(1)\n",
    "ax2.plot(t_t0shifted,fr_t0shifted,'.-')"
   ]
  },
  {
   "cell_type": "code",
   "execution_count": 10,
   "id": "a7863921-201d-40fa-b07e-b5939bad5c95",
   "metadata": {},
   "outputs": [
    {
     "name": "stderr",
     "output_type": "stream",
     "text": [
      "/home/matt/.local/readout/lib/python3.10/site-packages/matplotlib/cbook/__init__.py:1298: ComplexWarning: Casting complex values to real discards the imaginary part\n",
      "  return np.asarray(x, float)\n"
     ]
    },
    {
     "data": {
      "text/plain": [
       "<matplotlib.legend.Legend at 0x7fe542e3ca60>"
      ]
     },
     "execution_count": 10,
     "metadata": {},
     "output_type": "execute_result"
    }
   ],
   "source": [
    "#trying out fft fitting method\n",
    "\n",
    "from scipy.fft import fft, ifft, fftfreq\n",
    "from copy import deepcopy\n",
    "\n",
    "#first an initial test of the fft with a simple sine wave\n",
    "\n",
    "sample_rate = 10 #Hz\n",
    "frequency = 1 #Hz\n",
    "phi = 0 #rad\n",
    "\n",
    "t = np.arange(0,10,1/sample_rate)\n",
    "signal = np.exp(-0.1*t)*np.sin(frequency*t+phi)\n",
    "\n",
    "\n",
    "plt.plot(t,signal,'.')\n",
    "\n",
    "\n",
    "signal_fft = fft(signal)\n",
    "\n",
    "first_term = deepcopy(signal_fft)\n",
    "\n",
    "np.put(first_term, np.arange(1,len(signal_fft),1).astype(int), 0.0)\n",
    "\n",
    "first_term_ifft = ifft(first_term)\n",
    "\n",
    "plt.plot(t, first_term_ifft,label='one term')\n",
    "\n",
    "first_two_terms = deepcopy(signal_fft)\n",
    "np.put(first_two_terms, np.arange(2,len(signal_fft),1).astype(int), 0.0)\n",
    "\n",
    "first_two_terms_ifft = ifft(first_two_terms)\n",
    "\n",
    "plt.plot(t, first_two_terms_ifft,label='two terms')\n",
    "\n",
    "first_three_terms = deepcopy(signal_fft)\n",
    "np.put(first_three_terms, np.arange(3,len(signal_fft),1).astype(int), 0.0)\n",
    "\n",
    "first_three_terms_ifft = ifft(first_three_terms)\n",
    "\n",
    "plt.plot(t, first_three_terms_ifft,label='three terms')\n",
    "\n",
    "all_terms_ifft = ifft(signal_fft)\n",
    "plt.plot(t, all_terms_ifft,label=f'{len(t)} terms (all)')\n",
    "\n",
    "plt.legend()\n",
    "\n"
   ]
  },
  {
   "cell_type": "code",
   "execution_count": 11,
   "id": "fa1c8a61-1ba2-414b-b233-0b0f785b04dd",
   "metadata": {},
   "outputs": [],
   "source": [
    "#fft fitting method on our data\n",
    "%matplotlib qt\n",
    "\n",
    "\n",
    "fig, ax = plt.subplots(1)\n",
    "ch = 3\n",
    "ax.plot(test_ts_processed['fr t'],test_ts_processed['fr data'][ch],'.-')\n",
    "\n",
    "#chunk and overplot\n",
    "fig2, ax2 = plt.subplots(1)\n",
    "for chunk in [0]:#range(len(test_ts_processed['reset indices'])-2):\n",
    "    start = test_ts_processed['start index'] + test_ts_processed['reset indices'][chunk]\n",
    "    stop = test_ts_processed['reset indices'][chunk+2]\n",
    "    average = np.average(test_ts_processed['fr data'][ch])\n",
    "    ax2.plot(test_ts_processed['fr t'][start:stop]-test_ts_processed['fr t'][start], test_ts_processed['fr data'][ch][start:stop]-average,'.-')\n",
    "    \n",
    "#interpolate (i.e., rebin)\n",
    "fig3, ax3 = plt.subplots(1)\n",
    "for chunk in [0]:#range(len(test_ts_processed['reset indices'])-2):\n",
    "    start = test_ts_processed['start index'] + test_ts_processed['reset indices'][chunk]\n",
    "    stop = test_ts_processed['reset indices'][chunk+2]\n",
    "    average = np.average(test_ts_processed['fr data'][ch])\n",
    "    \n",
    "    interpolation = CubicSpline(test_ts_processed['fr t'][start:stop]-test_ts_processed['fr t'][start], \n",
    "                                test_ts_processed['fr data'][ch][start:stop]-average)\n",
    "    t_new = np.linspace(0,test_ts_processed['fr t'][stop]-test_ts_processed['fr t'][start],1024)\n",
    "    \n",
    "    ax3.plot(t_new, interpolation(t_new),'.-')\n",
    "    \n",
    "#fit with fft\n",
    "\n",
    "fig4, ax4 = plt.subplots(1)\n",
    "for chunk in [0]:#range(len(test_ts_processed['reset indices'])-2):\n",
    "    \n",
    "    start = test_ts_processed['start index'] + test_ts_processed['reset indices'][chunk]\n",
    "    stop = test_ts_processed['reset indices'][chunk+2]\n",
    "    average = np.average(test_ts_processed['fr data'][ch])\n",
    "    \n",
    "    interpolation = CubicSpline(test_ts_processed['fr t'][start:stop]-test_ts_processed['fr t'][start], \n",
    "                                test_ts_processed['fr data'][ch][start:stop]-average)\n",
    "    t_new = np.linspace(0,test_ts_processed['fr t'][stop]-test_ts_processed['fr t'][start],1024)\n",
    "    \n",
    "    ax4.plot(t_new, interpolation(t_new),'.')\n",
    "\n",
    "    fft_interpolation = fft(interpolation(t_new))\n",
    "    \n",
    "    first_term = deepcopy(fft_interpolation)\n",
    "    np.put(first_term,np.arange(1,len(fft_interpolation),1),0.0)\n",
    "    first_term_ifft = ifft(first_term)\n",
    "\n",
    "    first_two_terms = deepcopy(fft_interpolation)\n",
    "    np.put(first_two_terms,np.arange(2,len(fft_interpolation),1),0.0)\n",
    "    first_two_terms_ifft = ifft(first_two_terms)\n",
    "\n",
    "    first_three_terms = deepcopy(fft_interpolation)\n",
    "    np.put(first_three_terms,np.arange(3,len(fft_interpolation),1),0.0)\n",
    "    first_three_terms_ifft = ifft(first_three_terms)\n",
    "    \n",
    "    first_ten_terms = deepcopy(fft_interpolation)\n",
    "    np.put(first_ten_terms,np.arange(10,len(fft_interpolation),1),0.0)\n",
    "    first_ten_terms_ifft = ifft(first_ten_terms)\n",
    "    \n",
    "    first_twenty_terms = deepcopy(fft_interpolation)\n",
    "    np.put(first_twenty_terms,np.arange(20,len(fft_interpolation),1),0.0)\n",
    "    first_twenty_terms_ifft = ifft(first_twenty_terms)\n",
    "    \n",
    "    first_onehundred_terms = deepcopy(fft_interpolation)\n",
    "    np.put(first_onehundred_terms,np.arange(100,len(fft_interpolation),1),0.0)\n",
    "    first_onehundred_terms_ifft = ifft(first_onehundred_terms)\n",
    "    \n",
    "    first_onethousand_terms = deepcopy(fft_interpolation)\n",
    "    np.put(first_onethousand_terms,np.arange(1000,len(fft_interpolation),1),0.0)\n",
    "    first_onethousand_terms_ifft = ifft(first_onethousand_terms)\n",
    "           \n",
    "    \n",
    "    all_terms_ifft = ifft(fft_interpolation)\n",
    "    \n",
    "    ax4.plot(t_new, first_term_ifft, label = 'n = 1')\n",
    "    ax4.plot(t_new, first_two_terms_ifft, label = 'n = 2')\n",
    "    ax4.plot(t_new, first_three_terms_ifft, label = 'n = 3')\n",
    "    ax4.plot(t_new, first_ten_terms_ifft, label = 'n = 10')\n",
    "    ax4.plot(t_new, first_twenty_terms_ifft, label = 'n = 20')\n",
    "    ax4.plot(t_new, first_onehundred_terms_ifft, label = 'n = 100')\n",
    "    ax4.plot(t_new, first_onethousand_terms_ifft, label = 'n = 1000')\n",
    "    ax4.plot(t_new, all_terms_ifft, label = f'n = {len(fft_interpolation)} (all)')\n",
    "    ax4.legend()\n"
   ]
  },
  {
   "cell_type": "code",
   "execution_count": 12,
   "id": "18d25149-9ecb-405a-8769-f3770ad03221",
   "metadata": {},
   "outputs": [
    {
     "name": "stdout",
     "output_type": "stream",
     "text": [
      "1024\n",
      "1024\n",
      "2048\n",
      "2048\n",
      "[0.00000000e+00 7.40361505e-05 1.48072301e-04 ... 1.51403928e-01\n",
      " 1.51477964e-01 1.51552000e-01]\n",
      "[-0.33049692 -0.29080747 -0.25174734 ...  0.          0.\n",
      "  0.        ]\n",
      "[ 88.12417917 -0.j         -25.71196238+20.01709101j\n",
      " 139.62498252 +3.9086978j  ... -38.30440106+19.13361391j\n",
      " 139.62498252 -3.9086978j  -25.71196238-20.01709101j]\n",
      "[  0.           6.5951734   13.1903468  ... -19.78552019 -13.1903468\n",
      "  -6.5951734 ]\n",
      "7\n",
      "46.16621378305799\n",
      "92.33242756611598\n"
     ]
    },
    {
     "data": {
      "text/plain": [
       "(0.0, 100.0)"
      ]
     },
     "execution_count": 12,
     "metadata": {},
     "output_type": "execute_result"
    }
   ],
   "source": [
    "\"\"\"\n",
    "After more conversations with Chao-Lin:\n",
    "\n",
    "1. Need to zero pad (same length as original vector)\n",
    "2. Look at the fft in frequency space; keep first 3 real terms\n",
    "\"\"\"\n",
    "\n",
    "fig, ax = plt.subplots(1)\n",
    "fig2, ax2 = plt.subplots(1)\n",
    "fig3, ax3 = plt.subplots(1)\n",
    "for chunk in [0]:#range(len(test_ts_processed['reset indices'])-2):\n",
    "    \n",
    "    start = test_ts_processed['start index'] + test_ts_processed['reset indices'][chunk]\n",
    "    stop = test_ts_processed['reset indices'][chunk+2]\n",
    "    average = np.average(test_ts_processed['fr data'][ch])\n",
    "    \n",
    "    interpolation = CubicSpline(test_ts_processed['fr t'][start:stop]-test_ts_processed['fr t'][start], \n",
    "                                test_ts_processed['fr data'][ch][start:stop]-average)\n",
    "    t_interp = np.linspace(0,test_ts_processed['fr t'][stop]-test_ts_processed['fr t'][start],1024)\n",
    "    sig_interp = interpolation(t_interp)\n",
    "    \n",
    "    t_zero_pad = np.linspace(0,(test_ts_processed['fr t'][stop]-test_ts_processed['fr t'][start])*2,len(t_interp)*2)\n",
    "    sig_zero_pad = np.append(sig_interp, np.zeros(len(sig_interp)))\n",
    "    \n",
    "    print(len(t_interp))\n",
    "    print(len(sig_interp))\n",
    "    print(len(t_zero_pad))\n",
    "    print(len(sig_zero_pad))\n",
    "    print(t_zero_pad)\n",
    "    print(sig_zero_pad)\n",
    "    \n",
    "    ax.plot(t_interp, sig_interp,'.',label='interpolation')\n",
    "    ax.plot(t_zero_pad, sig_zero_pad,'*',label='zero padded')\n",
    "\n",
    "    fft_zero_pad = fft(sig_zero_pad)\n",
    "    \n",
    "    fftfreqs_zero_pad = fftfreq(len(sig_zero_pad), np.median(np.diff(t_zero_pad)))\n",
    "    \n",
    "    print(fft_zero_pad)\n",
    "    \n",
    "    print(fftfreqs_zero_pad)\n",
    "    \n",
    "    ax2.stem(fftfreqs_zero_pad, np.abs(fft_zero_pad))\n",
    "    \n",
    "    print(np.argmax(np.abs(fft_zero_pad)))\n",
    "    \n",
    "    fundamental_index = np.argmax(np.abs(fft_zero_pad))\n",
    "    fundamental_freq = fftfreqs_zero_pad[fundamental_index]\n",
    "    print(fundamental_freq)\n",
    "    \n",
    "    n1_fft = deepcopy(fft_zero_pad)\n",
    "    np.put(n1_fft, np.arange(0,fundamental_index), 0.0)\n",
    "    np.put(n1_fft, np.arange(fundamental_index+1, len(n1_fft)), 0.0)\n",
    "    \n",
    "    n1 = ifft(n1_fft) \n",
    "    \n",
    "    ax.plot(t_zero_pad, n1)\n",
    "    \n",
    "    first_harmonic_index = fundamental_index * 2\n",
    "    first_harmonic_freq = fftfreqs_zero_pad[first_harmonic_index]\n",
    "    print(first_harmonic_freq)\n",
    "    \n",
    "    n2_fft = deepcopy(fft_zero_pad)\n",
    "    np.put(n2_fft, np.arange(0,fundamental_index), 0.0)\n",
    "    np.put(n2_fft, np.arange(fundamental_index+1,first_harmonic_index), 0.0)\n",
    "    np.put(n2_fft, np.arange(first_harmonic_index+1,len(n2_fft)), 0.0)\n",
    "    \n",
    "    n2 = ifft(n2_fft)\n",
    "    \n",
    "    ax.plot(t_zero_pad, n2)\n",
    "    \n",
    "    nall = ifft(fft_zero_pad)\n",
    "    \n",
    "    ax.plot(t_zero_pad, nall)\n",
    "        \n",
    "    \n",
    "\n",
    "ax2.set_xlim([0,100])\n",
    "    \n",
    "    \n",
    "#next build a function that can build up to a desired number of terms and plot them    \n",
    "    "
   ]
  },
  {
   "cell_type": "code",
   "execution_count": 13,
   "id": "09d5e262-6aee-40ad-8552-e7f7b91f306d",
   "metadata": {},
   "outputs": [
    {
     "name": "stdout",
     "output_type": "stream",
     "text": [
      "fundamental index: 7\n",
      "fundamental index: 7\n",
      "fundamental index: 7\n",
      "fundamental index: 7\n",
      "fundamental index: 7\n",
      "fundamental index: 7\n",
      "fundamental index: 7\n",
      "fundamental index: 7\n",
      "fundamental index: 7\n",
      "fundamental index: 7\n",
      "fundamental index: 7\n",
      "fundamental index: 7\n",
      "fundamental index: 7\n",
      "fundamental index: 7\n",
      "fundamental index: 7\n",
      "fundamental index: 7\n",
      "fundamental index: 7\n",
      "fundamental index: 7\n",
      "fundamental index: 7\n",
      "fundamental index: 7\n"
     ]
    },
    {
     "data": {
      "text/plain": [
       "Text(0, 0.5, 'Amplitude (arb.)')"
      ]
     },
     "execution_count": 13,
     "metadata": {},
     "output_type": "execute_result"
    }
   ],
   "source": [
    "def fft_fit(t, data, n):\n",
    "    data_fft = fft(data)\n",
    "    freqs = fftfreq(len(data), np.median(np.diff(t)))\n",
    "    \n",
    "    fundamental_idx = np.argmax(np.abs(data_fft))\n",
    "    print(f'fundamental index: {fundamental_idx}')\n",
    "    \n",
    "    multiplication_factors = np.arange(1,n+1,1)\n",
    "    #print(multiplication_factors)\n",
    "    fundamental_array = np.ones(n)*fundamental_idx\n",
    "    #print(fundamental_array)\n",
    "    preserve_idxs = (multiplication_factors * fundamental_array).astype(int)\n",
    "    #print(preserve_idxs)\n",
    "\n",
    "    mask = np.zeros(len(data_fft))\n",
    "    np.put(mask,preserve_idxs,1.0)\n",
    "    \n",
    "    n_limited_fft = data_fft * mask\n",
    "    \n",
    "    n_limited_fit = ifft(n_limited_fft)\n",
    "    \n",
    "    full_fit = ifft(data_fft)\n",
    "    \n",
    "    return freqs, data_fft, n_limited_fft, t, full_fit, n_limited_fit\n",
    "\n",
    "fig, ax = plt.subplots(1)\n",
    "fig2, (ax2_upper, ax2_lower) = plt.subplots(2)\n",
    "\n",
    "ax.plot(t_zero_pad, sig_zero_pad,'.',label='Raw Data')\n",
    "\n",
    "for n in np.arange(1,21,1):\n",
    "    freqs, data_fft, n_limited_fft, t, full_fit, n_limited_fit = fft_fit(t_zero_pad, sig_zero_pad, n)\n",
    "    ax.plot(t_zero_pad, n_limited_fit,label=f'n = {n}')\n",
    "    ax2_lower.stem(freqs, np.abs(n_limited_fft))\n",
    "    \n",
    "\n",
    "\n",
    "ax.plot(t, full_fit,'-.',label='all fft terms')\n",
    "ax2_upper.stem(freqs, np.abs(data_fft))\n",
    "\n",
    "\n",
    "ax.set_xlabel('t (s)')\n",
    "ax.set_ylabel('Amplitude (arb.)')\n",
    "ax.legend()\n",
    "\n",
    "ax2_lower.set_xlim([-0.01,500])\n",
    "ax2_upper.set_xlim([-0.01,500])\n",
    "ax2_lower.set_xlabel('Frequency (Hz)')\n",
    "ax2_lower.set_ylabel('Amplitude (arb.)')\n",
    "ax2_upper.set_ylabel('Amplitude (arb.)')"
   ]
  },
  {
   "cell_type": "code",
   "execution_count": 14,
   "id": "ad6d0bab-ef78-4d9b-aae2-c809722f0d85",
   "metadata": {},
   "outputs": [
    {
     "name": "stdout",
     "output_type": "stream",
     "text": [
      "[ 10  20  30  40  50  60  70  80  90 100 110 120 130 140 150 160 170 180\n",
      " 190 200]\n"
     ]
    }
   ],
   "source": [
    "fundamental_idx = 10\n",
    "n = 20\n",
    "\n",
    "multiplication_factors = np.arange(1,n+1,1)\n",
    "fundamental_array = np.ones(n)*fundamental_idx\n",
    "preserve_idxs = (multiplication_factors * fundamental_array).astype(int)\n",
    "print(preserve_idxs)\n",
    "\n",
    "#mask = np.zeros(len(data_fft))\n",
    "#np.put(mask,preserve_idxs,1.0)\n",
    "#print(mask)\n",
    "\n",
    "#print(preserve_idxs)"
   ]
  },
  {
   "cell_type": "code",
   "execution_count": 287,
   "id": "d2c9c8c7-071c-409f-a334-1120ed57c76f",
   "metadata": {},
   "outputs": [
    {
     "name": "stdout",
     "output_type": "stream",
     "text": [
      "[0.00000000e+00 6.20606061e-05 1.24121212e-04 ... 6.33638788e-02\n",
      " 6.34259394e-02 6.34880000e-02]\n",
      "[0.00000000e+00 6.20302882e-05 1.24060576e-04 ... 1.26851939e-01\n",
      " 1.26913970e-01 1.26976000e-01]\n",
      "fundamental index: 6\n"
     ]
    },
    {
     "name": "stderr",
     "output_type": "stream",
     "text": [
      "/tmp/ipykernel_2649/1639219603.py:69: MatplotlibDeprecationWarning: Passing the linefmt parameter positionally is deprecated since Matplotlib 3.5; the parameter will become keyword-only two minor releases later.\n",
      "  ax6_upper.stem(freqs, np.abs(n_limited_fft),'b', markerfmt='bo',label='abs')\n",
      "/tmp/ipykernel_2649/1639219603.py:70: MatplotlibDeprecationWarning: Passing the linefmt parameter positionally is deprecated since Matplotlib 3.5; the parameter will become keyword-only two minor releases later.\n",
      "  ax6_upper.stem(freqs, np.real(n_limited_fft),'r', markerfmt='ro',label='real')\n",
      "/tmp/ipykernel_2649/1639219603.py:71: MatplotlibDeprecationWarning: Passing the linefmt parameter positionally is deprecated since Matplotlib 3.5; the parameter will become keyword-only two minor releases later.\n",
      "  ax6_upper.stem(freqs, np.imag(n_limited_fft),'g', markerfmt='go',label='imag')\n",
      "/tmp/ipykernel_2649/1639219603.py:87: MatplotlibDeprecationWarning: Passing the linefmt parameter positionally is deprecated since Matplotlib 3.5; the parameter will become keyword-only two minor releases later.\n",
      "  ax8_upper.stem(freqs_rebinned, np.abs(n_limited_fft_rebinned),'b', markerfmt='bo',label='abs')\n",
      "/tmp/ipykernel_2649/1639219603.py:88: MatplotlibDeprecationWarning: Passing the linefmt parameter positionally is deprecated since Matplotlib 3.5; the parameter will become keyword-only two minor releases later.\n",
      "  ax8_upper.stem(freqs_rebinned, np.real(n_limited_fft_rebinned),'r', markerfmt='ro',label='real')\n",
      "/tmp/ipykernel_2649/1639219603.py:89: MatplotlibDeprecationWarning: Passing the linefmt parameter positionally is deprecated since Matplotlib 3.5; the parameter will become keyword-only two minor releases later.\n",
      "  ax8_upper.stem(freqs_rebinned, np.imag(n_limited_fft_rebinned),'g', markerfmt='go',label='imag')\n",
      "/tmp/ipykernel_2649/1639219603.py:73: MatplotlibDeprecationWarning: Passing the linefmt parameter positionally is deprecated since Matplotlib 3.5; the parameter will become keyword-only two minor releases later.\n",
      "  ax6_upper.stem(freqs, np.abs(n_limited_fft),'b', markerfmt='bo')\n"
     ]
    },
    {
     "name": "stdout",
     "output_type": "stream",
     "text": [
      "fundamental index: 6\n",
      "fundamental index: 6\n"
     ]
    },
    {
     "name": "stderr",
     "output_type": "stream",
     "text": [
      "/tmp/ipykernel_2649/1639219603.py:74: MatplotlibDeprecationWarning: Passing the linefmt parameter positionally is deprecated since Matplotlib 3.5; the parameter will become keyword-only two minor releases later.\n",
      "  ax6_upper.stem(freqs, np.real(n_limited_fft),'r', markerfmt='ro')\n",
      "/tmp/ipykernel_2649/1639219603.py:75: MatplotlibDeprecationWarning: Passing the linefmt parameter positionally is deprecated since Matplotlib 3.5; the parameter will become keyword-only two minor releases later.\n",
      "  ax6_upper.stem(freqs, np.imag(n_limited_fft),'g', markerfmt='go')\n",
      "/tmp/ipykernel_2649/1639219603.py:91: MatplotlibDeprecationWarning: Passing the linefmt parameter positionally is deprecated since Matplotlib 3.5; the parameter will become keyword-only two minor releases later.\n",
      "  ax8_upper.stem(freqs_rebinned, np.abs(n_limited_fft_rebinned),'b', markerfmt='bo')\n",
      "/tmp/ipykernel_2649/1639219603.py:92: MatplotlibDeprecationWarning: Passing the linefmt parameter positionally is deprecated since Matplotlib 3.5; the parameter will become keyword-only two minor releases later.\n",
      "  ax8_upper.stem(freqs_rebinned, np.real(n_limited_fft_rebinned),'r', markerfmt='ro')\n",
      "/tmp/ipykernel_2649/1639219603.py:93: MatplotlibDeprecationWarning: Passing the linefmt parameter positionally is deprecated since Matplotlib 3.5; the parameter will become keyword-only two minor releases later.\n",
      "  ax8_upper.stem(freqs_rebinned, np.imag(n_limited_fft_rebinned),'g', markerfmt='go')\n"
     ]
    },
    {
     "name": "stdout",
     "output_type": "stream",
     "text": [
      "fundamental index: 6\n",
      "fundamental index: 6\n",
      "fundamental index: 6\n",
      "fundamental index: 6\n",
      "fundamental index: 6\n",
      "fundamental index: 6\n",
      "fundamental index: 6\n"
     ]
    },
    {
     "name": "stderr",
     "output_type": "stream",
     "text": [
      "/tmp/ipykernel_2649/1639219603.py:99: MatplotlibDeprecationWarning: Passing the linefmt parameter positionally is deprecated since Matplotlib 3.5; the parameter will become keyword-only two minor releases later.\n",
      "  ax6_lower.stem(freqs, np.abs(data_fft),'b', markerfmt='bo',label='abs')\n",
      "/tmp/ipykernel_2649/1639219603.py:100: MatplotlibDeprecationWarning: Passing the linefmt parameter positionally is deprecated since Matplotlib 3.5; the parameter will become keyword-only two minor releases later.\n",
      "  ax6_lower.stem(freqs, np.real(data_fft),'r', markerfmt='ro',label='real')\n",
      "/tmp/ipykernel_2649/1639219603.py:101: MatplotlibDeprecationWarning: Passing the linefmt parameter positionally is deprecated since Matplotlib 3.5; the parameter will become keyword-only two minor releases later.\n",
      "  ax6_lower.stem(freqs, np.imag(data_fft),'g', markerfmt='go',label='imag')\n",
      "/tmp/ipykernel_2649/1639219603.py:105: MatplotlibDeprecationWarning: Passing the linefmt parameter positionally is deprecated since Matplotlib 3.5; the parameter will become keyword-only two minor releases later.\n",
      "  ax8_lower.stem(freqs_rebinned, np.abs(data_fft_rebinned),'b', markerfmt='bo',label='abs')\n",
      "/tmp/ipykernel_2649/1639219603.py:106: MatplotlibDeprecationWarning: Passing the linefmt parameter positionally is deprecated since Matplotlib 3.5; the parameter will become keyword-only two minor releases later.\n",
      "  ax8_lower.stem(freqs_rebinned, np.real(data_fft_rebinned),'r', markerfmt='ro',label='real')\n",
      "/tmp/ipykernel_2649/1639219603.py:107: MatplotlibDeprecationWarning: Passing the linefmt parameter positionally is deprecated since Matplotlib 3.5; the parameter will become keyword-only two minor releases later.\n",
      "  ax8_lower.stem(freqs_rebinned, np.imag(data_fft_rebinned),'g', markerfmt='go',label='imag')\n"
     ]
    },
    {
     "data": {
      "text/plain": [
       "Text(0, 0.5, 'Amplitude (arb.)')"
      ]
     },
     "execution_count": 287,
     "metadata": {},
     "output_type": "execute_result"
    }
   ],
   "source": [
    "\"\"\"\n",
    "Next steps:\n",
    "1. cut the reset region\n",
    "2. zero pad (2N points)\n",
    "3. fft fit as we have been doing (useful to plot real, imaginary, and abs)\n",
    "4. Bin back to N points\n",
    "\"\"\"\n",
    "chunk = 0\n",
    "zero_pad_multiple = 2\n",
    "\n",
    "start = test_ts_processed['start index'] + test_ts_processed['reset indices'][chunk]\n",
    "stop = test_ts_processed['reset indices'][chunk+2]\n",
    "average = np.average(test_ts_processed['fr data'][ch])\n",
    "\n",
    "t_chunk = test_ts_processed['fr t'][start:stop]-test_ts_processed['fr t'][start]\n",
    "sig_chunk = test_ts_processed['fr data'][ch][start:stop]-average\n",
    "\n",
    "fig, ax = plt.subplots(1)\n",
    "ax.plot(t_chunk,sig_chunk,'.--')\n",
    "ax.set_xlabel('t (s)')\n",
    "ax.set_ylabel('Amplitude (arb.)')\n",
    "ax.set_title('Single FR Raw Data')\n",
    "\n",
    "t_reset_removed = t_chunk[:-5] #just manually removing the reset for right now\n",
    "sig_reset_removed = sig_chunk[:-5]\n",
    "\n",
    "fig2, ax2 = plt.subplots(1)\n",
    "ax2.plot(t_reset_removed,sig_reset_removed,'.--')\n",
    "ax2.set_xlabel('t (s)')\n",
    "ax2.set_ylabel('Amplitude (arb.)')\n",
    "ax2.set_title('Reset Removed')\n",
    "\n",
    "interpolation = CubicSpline(t_reset_removed,sig_reset_removed)\n",
    "\n",
    "t_interp = np.linspace(0,t_reset_removed[-1]-t_reset_removed[0],1024)\n",
    "sig_interp = interpolation(t_interp)\n",
    "\n",
    "fig3, ax3 = plt.subplots(1)\n",
    "ax3.plot(t_interp, sig_interp,'.')\n",
    "ax3.set_xlabel('t (s)')\n",
    "ax3.set_ylabel('Amplitude (arb.)')\n",
    "ax3.set_title('N = 1024 pt. Cubic Spline Interpolation')\n",
    "\n",
    "print(t_interp)\n",
    "t_zero_pad = np.linspace(0,2*(t_interp[-1]-t_interp[0]),2*len(t_interp))#np.linspace(0,(t_interp[-1]-t_interp[0]),len(t_interp)*zero_pad_multiple)\n",
    "print(t_zero_pad)\n",
    "sig_zero_pad = np.append(sig_interp, np.zeros(len(sig_interp)*(zero_pad_multiple-1)))\n",
    "\n",
    "fig4, ax4 = plt.subplots(1)\n",
    "ax4.plot(t_zero_pad,sig_zero_pad,'.')\n",
    "ax4.set_xlabel('t (s)')\n",
    "ax4.set_ylabel('Amplitude (arb.)')\n",
    "ax4.set_title(f'Zero Pad to {zero_pad_multiple}*N = {zero_pad_multiple*1024} pts.')\n",
    "\n",
    "#make and check ffts\n",
    "fig5, ax5 = plt.subplots(1) #fits with 2*N fft\n",
    "fig6, (ax6_upper,ax6_lower) = plt.subplots(2) #2*N fft in freq space\n",
    "fig7, ax7 = plt.subplots(1) #fits with N fft\n",
    "fig8, (ax8_upper,ax8_lower) = plt.subplots(2) #N fft in freq space\n",
    "\n",
    "ax5.plot(t_zero_pad,sig_zero_pad,'.',label='data')\n",
    "ax7.plot(t_interp,sig_interp,'.',label='data')\n",
    "\n",
    "first = 0\n",
    "for n in np.arange(1,11,1):\n",
    "    freqs, data_fft, n_limited_fft, t, full_fit, n_limited_fit = fft_fit(t_zero_pad, sig_zero_pad, n)\n",
    "    ax5.plot(t_zero_pad, n_limited_fit,label=f'n = {n}')\n",
    "    if first == 0:\n",
    "        ax6_upper.stem(freqs, np.abs(n_limited_fft),'b', markerfmt='bo',label='abs')\n",
    "        ax6_upper.stem(freqs, np.real(n_limited_fft),'r', markerfmt='ro',label='real')\n",
    "        ax6_upper.stem(freqs, np.imag(n_limited_fft),'g', markerfmt='go',label='imag')\n",
    "    else:\n",
    "        ax6_upper.stem(freqs, np.abs(n_limited_fft),'b', markerfmt='bo')\n",
    "        ax6_upper.stem(freqs, np.real(n_limited_fft),'r', markerfmt='ro')\n",
    "        ax6_upper.stem(freqs, np.imag(n_limited_fft),'g', markerfmt='go')\n",
    "    \n",
    "    #bin back to n points\n",
    "    freqs_rebinned = [np.average([freqs[i], freqs[i+1]]) for i in np.arange(0,int(len(n_limited_fft)),2)]#range(int(len(n_limited_fft)/zero_pad_multiple))]\n",
    "    data_fft_rebinned = [np.average([data_fft[i], data_fft[i+1]]) for i in np.arange(0,int(len(n_limited_fft)),2)]#range(int(len(n_limited_fft)/zero_pad_multiple))]\n",
    "    full_fit_rebinned = ifft(data_fft_rebinned)\n",
    "    t_rebinned = t_interp#t_zero_pad[:int(len(t_zero_pad)/2)]\n",
    "    n_limited_fft_rebinned = [np.average([n_limited_fft[i], n_limited_fft[i+1]]) for i in np.arange(0,int(len(n_limited_fft)),2)]#range(int(len(n_limited_fft)/zero_pad_multiple))]\n",
    "    n_limited_fit_rebinned = ifft(n_limited_fft_rebinned)\n",
    "    \n",
    "    ax7.plot(t_rebinned, n_limited_fit_rebinned,label=f'n = {n}')\n",
    "    if first == 0:\n",
    "        ax8_upper.stem(freqs_rebinned, np.abs(n_limited_fft_rebinned),'b', markerfmt='bo',label='abs')\n",
    "        ax8_upper.stem(freqs_rebinned, np.real(n_limited_fft_rebinned),'r', markerfmt='ro',label='real')\n",
    "        ax8_upper.stem(freqs_rebinned, np.imag(n_limited_fft_rebinned),'g', markerfmt='go',label='imag')\n",
    "    else:\n",
    "        ax8_upper.stem(freqs_rebinned, np.abs(n_limited_fft_rebinned),'b', markerfmt='bo')\n",
    "        ax8_upper.stem(freqs_rebinned, np.real(n_limited_fft_rebinned),'r', markerfmt='ro')\n",
    "        ax8_upper.stem(freqs_rebinned, np.imag(n_limited_fft_rebinned),'g', markerfmt='go')\n",
    "\n",
    "    first = 1\n",
    "    \n",
    "ax5.plot(t,full_fit,'-.',label='n = all')\n",
    "    \n",
    "ax6_lower.stem(freqs, np.abs(data_fft),'b', markerfmt='bo',label='abs')\n",
    "ax6_lower.stem(freqs, np.real(data_fft),'r', markerfmt='ro',label='real')\n",
    "ax6_lower.stem(freqs, np.imag(data_fft),'g', markerfmt='go',label='imag')\n",
    "    \n",
    "ax7.plot(t_rebinned,full_fit_rebinned,'-.',label='n = all')\n",
    "\n",
    "ax8_lower.stem(freqs_rebinned, np.abs(data_fft_rebinned),'b', markerfmt='bo',label='abs')\n",
    "ax8_lower.stem(freqs_rebinned, np.real(data_fft_rebinned),'r', markerfmt='ro',label='real')\n",
    "ax8_lower.stem(freqs_rebinned, np.imag(data_fft_rebinned),'g', markerfmt='go',label='imag')\n",
    "    \n",
    "    \n",
    "    \n",
    "ax5.legend()\n",
    "ax5.set_xlabel('t (s)')\n",
    "ax5.set_ylabel('Amplitude (arb.)')\n",
    "ax5.set_title('Data Fitting without Rebinning')\n",
    "    \n",
    "ax6_upper.set_xlim([-0.5,500])\n",
    "ax6_lower.set_xlim([-0.5,500])\n",
    "ax6_upper.legend()\n",
    "ax6_lower.legend()\n",
    "ax6_lower.set_xlabel('Frequency (Hz)')\n",
    "ax6_lower.set_ylabel('Amplitude (arb.)')\n",
    "ax6_upper.set_ylabel('Amplitude (arb.)')\n",
    "\n",
    "ax7.legend()\n",
    "ax7.set_xlabel('t (s)')\n",
    "ax7.set_ylabel('Amplitude (arb.)')\n",
    "ax7.set_title('Data Fitting with Rebinning')\n",
    "\n",
    "ax8_upper.set_xlim([-0.5,500])\n",
    "ax8_lower.set_xlim([-0.5,500])\n",
    "ax8_upper.legend()\n",
    "ax8_lower.legend()\n",
    "ax8_lower.set_xlabel('Frequency (Hz)')\n",
    "ax8_lower.set_ylabel('Amplitude (arb.)')\n",
    "ax8_upper.set_ylabel('Amplitude (arb.)')\n",
    "\n",
    "\n",
    "#check fits\n",
    "#fig7, ax7 = plt.subplots(1)\n",
    "\n",
    "\n",
    "\n",
    "#fig7, "
   ]
  },
  {
   "cell_type": "code",
   "execution_count": 286,
   "id": "8d47bc19-75c6-4b5b-b0c6-1f9af1f4f832",
   "metadata": {
    "tags": []
   },
   "outputs": [
    {
     "name": "stdout",
     "output_type": "stream",
     "text": [
      "fundamental index: 6\n"
     ]
    },
    {
     "data": {
      "text/plain": [
       "[<matplotlib.lines.Line2D at 0x7fe4e45389a0>]"
      ]
     },
     "execution_count": 286,
     "metadata": {},
     "output_type": "execute_result"
    }
   ],
   "source": [
    "\"\"\"\n",
    "Now make sure I fold in the complex conjugate\n",
    "adjust to make sure the dc offset is included\n",
    "\"\"\"\n",
    "\n",
    "\n",
    "\n",
    "\n",
    "\n",
    "#full fft\n",
    "fig, ax = plt.subplots(1)\n",
    "ax.stem(freqs, np.abs(data_fft))\n",
    "ax.set_xlim([-500,500])\n",
    "\n",
    "\n",
    "\n",
    "\n",
    "combined = data_fft[1]+data_fft[-1]\n",
    "\n",
    "\n",
    "\n",
    "\n",
    "fundamental_idx = np.argmax(np.abs(data_fft))\n",
    "\n",
    "\n",
    "\n",
    "#produce harmonic limited ffts\n",
    "fixed_fundamental_fft = deepcopy(data_fft)\n",
    "np.put(fixed_fundamental_fft,np.arange(0,fundamental_idx),0.0)\n",
    "np.put(fixed_fundamental_fft,np.arange(fundamental_idx+1,len(data_fft)-fundamental_idx),0.0)\n",
    "np.put(fixed_fundamental_fft,np.arange(len(data_fft)-fundamental_idx+1,len(data_fft)),0.0)\n",
    "\n",
    "fixed_first_harmonic_fft = deepcopy(data_fft)\n",
    "first_harmonic_idx = fundamental_idx*2\n",
    "np.put(fixed_first_harmonic_fft,np.arange(0,fundamental_idx),0.0)\n",
    "np.put(fixed_first_harmonic_fft,np.arange(fundamental_idx+1,first_harmonic_idx),0.0)\n",
    "np.put(fixed_first_harmonic_fft,np.arange(first_harmonic_idx+1,len(data_fft)-first_harmonic_idx),0.0)\n",
    "np.put(fixed_first_harmonic_fft,np.arange(len(data_fft)-first_harmonic_idx+1,len(data_fft)-fundamental_idx),0.0)\n",
    "np.put(fixed_first_harmonic_fft,np.arange(len(data_fft)-fundamental_idx+1,len(data_fft)),0.0)\n",
    "\n",
    "fixed_third_harmonic_fft = deepcopy(data_fft)\n",
    "first_harmonic_idx = fundamental_idx*2\n",
    "second_harmonic_idx = fundamental_idx*3\n",
    "third_harmonic_idx = fundamental_idx*4\n",
    "np.put(fixed_third_harmonic_fft,np.arange(0,fundamental_idx),0.0)\n",
    "np.put(fixed_third_harmonic_fft,np.arange(fundamental_idx+1,first_harmonic_idx),0.0)\n",
    "np.put(fixed_third_harmonic_fft,np.arange(first_harmonic_idx+1,second_harmonic_idx),0.0)\n",
    "np.put(fixed_third_harmonic_fft,np.arange(second_harmonic_idx+1,third_harmonic_idx),0.0)\n",
    "np.put(fixed_third_harmonic_fft,np.arange(third_harmonic_idx+1,len(data_fft)-third_harmonic_idx),0.0)\n",
    "np.put(fixed_third_harmonic_fft,np.arange(len(data_fft)-third_harmonic_idx+1,len(data_fft)-second_harmonic_idx),0.0)\n",
    "np.put(fixed_third_harmonic_fft,np.arange(len(data_fft)-second_harmonic_idx+1,len(data_fft)-first_harmonic_idx),0.0)\n",
    "np.put(fixed_third_harmonic_fft,np.arange(len(data_fft)-first_harmonic_idx+1,len(data_fft)-fundamental_idx),0.0)\n",
    "np.put(fixed_third_harmonic_fft,np.arange(len(data_fft)-fundamental_idx+1,len(data_fft)),0.0)\n",
    "\n",
    "#print(fixed_fundamental_fft)\n",
    "\n",
    "#produce fits\n",
    "full_fit = ifft(data_fft)\n",
    "fixed_fundamental_fit = ifft(fixed_fundamental_fft)\n",
    "fixed_first_harmonic_fit = ifft(fixed_first_harmonic_fft)\n",
    "fixed_third_harmonic_fit = ifft(fixed_third_harmonic_fft)\n",
    "\n",
    "#first harmonic fft\n",
    "fig2, ax2 = plt.subplots(1)\n",
    "ax2.stem(freqs,np.abs(fixed_fundamental_fft))\n",
    "ax2.set_xlim([-500,500])\n",
    "\n",
    "#first harmonic fit\n",
    "fig3, ax3 = plt.subplots(1)\n",
    "ax3.plot(t_zero_pad, sig_zero_pad,'.')\n",
    "ax3.plot(t_zero_pad, fixed_fundamental_fit)\n",
    "ax3.plot(t_zero_pad, fixed_first_harmonic_fit)\n",
    "ax3.plot(t_zero_pad, fixed_third_harmonic_fit)\n",
    "freqs, data_fft, n_limited_fft, t, full_fit, n_limited_fit = fft_fit(t_zero_pad, sig_zero_pad, 1)\n",
    "ax3.plot(t_zero_pad,full_fit,'-.')\n",
    "#ax3.plot(t_zero_pad, n_limited_fit)\n",
    "\n",
    "#third harmonic fft\n",
    "fig4, ax4 = plt.subplots(1)\n",
    "ax4.stem(freqs,np.abs(fixed_first_harmonic_fft))\n",
    "ax4.set_xlim([-500,500])\n",
    "\n",
    "#hird harmonic fit\n",
    "fig5, ax5 = plt.subplots(1)\n",
    "ax5.stem(freqs,np.abs(fixed_third_harmonic_fft))\n",
    "ax5.set_xlim([-500,500])\n",
    "\n",
    "\"\"\"\n",
    "now implementing the rebinning from before [0,1],[1,2],[2,3],...\n",
    "\"\"\"\n",
    "freqs_rebinned = [np.average([freqs[i], freqs[i+1]]) for i in np.arange(0,int(len(n_limited_fft)),2)]#range(int(len(n_limited_fft)/zero_pad_multiple))]\n",
    "data_fft_rebinned = [np.average([data_fft[i], data_fft[i+1]]) for i in np.arange(0,int(len(n_limited_fft)),2)]#range(int(len(n_limited_fft)/zero_pad_multiple))]\n",
    "full_fit_rebinned = ifft(data_fft_rebinned)\n",
    "t_rebinned = t_interp#t_zero_pad[:int(len(t_zero_pad)/2)]\n",
    "\n",
    "\n",
    "\n",
    "fig6, ax6 = plt.subplots(1)\n",
    "ax6.stem(freqs_rebinned,np.abs(data_fft_rebinned))\n",
    "\n",
    "#^above doesn't rebin correctly; need to work from beginning to middle and end to middle rather than beginning to end\n",
    "\n",
    "first_half_binning_array = np.arange(0,int(len(data_fft)/2),2)\n",
    "#data_fft_rebinned_first_half = [np.average([data_fft[i], data_fft[i+1]]) for i in first_half_binning_array]\n",
    "data_fft_rebinned_first_half = [np.average([data_fft[i], data_fft[i+1]]) for i in first_half_binning_array]\n",
    "freqs_rebinned_first_half = [np.average([freqs[i], freqs[i+1]]) for i in first_half_binning_array]\n",
    "\n",
    "#print(len(data_fft_rebinned_first_half))\n",
    "#print(len(freqs_rebinned_first_half))\n",
    "\n",
    "second_half_binning_array = np.arange(int((len(data_fft)/2)+2),int(len(data_fft)),2)\n",
    "data_fft_rebinned_second_half = np.append([data_fft[0]+data_fft[int(len(data_fft)/2)]], [data_fft[i] + data_fft[i+1] for i in second_half_binning_array])\n",
    "#freqs_rebinned_second_half = [np.average([freqs[i], freqs[i-1]]) for i in second_half_binning_array,2]\n",
    "\n",
    "freqs_rebinned = np.append(freqs_rebinned_first_half,-np.flip(freqs_rebinned_first_half))\n",
    "\n",
    "data_fft_rebinned = np.append(data_fft_rebinned_first_half,data_fft_rebinned_second_half)\n",
    "\n",
    "fig7, ax7 = plt.subplots(1)\n",
    "#ax7.stem(freqs_rebinned[:int(len(freqs_rebinned)/4)], np.abs(data_fft_rebinned_first_half))\n",
    "ax7.stem(freqs_rebinned, np.abs(data_fft_rebinned))\n",
    "\n",
    "#ax7.stem(freqs_rebinned[int(3*len(freqs_rebinned)/4):], np.abs(data_fft_rebinned_second_half))\n",
    " \n",
    "\n",
    "#print(freqs_rebinned[:int(len(freqs_rebinned)/4)])\n",
    "#print(freqs_rebinned[int(3*len(freqs_rebinned)/4):])\n",
    "#print(freqs_rebinned)\n",
    "#n_limited_fft_rebinned = [np.average([n_limited_fft[i], n_limited_fft[i+1]]) for i in np.arange(0,int(len(n_limited_fft)),2)]#range(int(len(n_limited_fft)/zero_pad_multiple))]\n",
    "#n_limited_fit_rebinned = ifft(n_limited_fft_rebinned)\n",
    "\n",
    "#^still not rebinning correctly: need to leave f=0 bin alone, bin [1,2], [2,3], [4,5], ...\n",
    "\n",
    "first_half_binning_array = np.arange(1, int(len(data_fft)/2)-1,2)\n",
    "second_half_binning_array = np.flip(np.arange(int((len(data_fft)/2)),int(len(data_fft)),2))\n",
    "#print(second_half_binning_array)\n",
    "#print(freqs[2046])\n",
    "#print(freqs[1])\n",
    "\n",
    "first_half_fft_rebinned = [np.average([data_fft[i],data_fft[i+1]]) for i in first_half_binning_array]\n",
    "first_half_freqs_rebinned = [np.average([freqs[i],freqs[i+1]]) for i in first_half_binning_array]\n",
    "\n",
    "second_half_fft_rebinned = [np.average([data_fft[i],data_fft[i+1]]) for i in second_half_binning_array]\n",
    "second_half_freqs_rebinned = [np.average([freqs[i],freqs[i+1]]) for i in second_half_binning_array]#-np.flip(first_half_freqs_rebinned)\n",
    "\n",
    "\n",
    "freqs_rebinned = np.append(0,first_half_freqs_rebinned)\n",
    "freqs_rebinned = np.append(freqs_rebinned,np.flip(second_half_freqs_rebinned))\n",
    "#freqs_rebinned = np.append(freqs[:len(freqs)]/4,-np.flip(freqs[:len(freqs)]/4))\n",
    "\n",
    "fft_rebinned = np.append(data_fft[0],first_half_fft_rebinned)\n",
    "fft_rebinned = np.append(fft_rebinned,np.flip(second_half_fft_rebinned))\n",
    "#print(len(second_half_fft_rebinned))\n",
    "#print(second_half_freqs_rebinned)\n",
    "\n",
    "fig8, ax8 = plt.subplots(1)\n",
    "ax8.stem(freqs_rebinned, np.abs(fft_rebinned))\n",
    "\n",
    "\n",
    "\n",
    "#produce harmonic limited fft with rebinned total fft\n",
    "\n",
    "fundamental_idx = np.argmax(np.abs(fft_rebinned))\n",
    "\n",
    "\n",
    "rebinned_fixed_fundamental_fft = deepcopy(fft_rebinned)\n",
    "np.put(rebinned_fixed_fundamental_fft,np.arange(0,fundamental_idx),0.0)\n",
    "np.put(rebinned_fixed_fundamental_fft,np.arange(fundamental_idx+1,len(fft_rebinned)-fundamental_idx),0.0)\n",
    "np.put(rebinned_fixed_fundamental_fft,np.arange(len(fft_rebinned)-fundamental_idx+1,len(fft_rebinned)),0.0)\n",
    "\n",
    "rebinned_fixed_first_harmonic_fft = deepcopy(fft_rebinned)\n",
    "first_harmonic_idx = fundamental_idx*2\n",
    "np.put(rebinned_fixed_first_harmonic_fft,np.arange(0,fundamental_idx),0.0)\n",
    "np.put(rebinned_fixed_first_harmonic_fft,np.arange(fundamental_idx+1,first_harmonic_idx),0.0)\n",
    "np.put(rebinned_fixed_first_harmonic_fft,np.arange(first_harmonic_idx+1,len(fft_rebinned)-first_harmonic_idx),0.0)\n",
    "np.put(rebinned_fixed_first_harmonic_fft,np.arange(len(fft_rebinned)-first_harmonic_idx+1,len(fft_rebinned)-fundamental_idx),0.0)\n",
    "np.put(rebinned_fixed_first_harmonic_fft,np.arange(len(fft_rebinned)-fundamental_idx+1,len(fft_rebinned)),0.0)\n",
    "\n",
    "rebinned_fixed_third_harmonic_fft = deepcopy(fft_rebinned)\n",
    "first_harmonic_idx = fundamental_idx*2\n",
    "second_harmonic_idx = fundamental_idx*3\n",
    "third_harmonic_idx = fundamental_idx*4\n",
    "np.put(rebinned_fixed_third_harmonic_fft,np.arange(0,fundamental_idx),0.0)\n",
    "np.put(rebinned_fixed_third_harmonic_fft,np.arange(fundamental_idx+1,first_harmonic_idx),0.0)\n",
    "np.put(rebinned_fixed_third_harmonic_fft,np.arange(first_harmonic_idx+1,second_harmonic_idx),0.0)\n",
    "np.put(rebinned_fixed_third_harmonic_fft,np.arange(second_harmonic_idx+1,third_harmonic_idx),0.0)\n",
    "np.put(rebinned_fixed_third_harmonic_fft,np.arange(third_harmonic_idx+1,len(fft_rebinned)-third_harmonic_idx),0.0)\n",
    "np.put(rebinned_fixed_third_harmonic_fft,np.arange(len(fft_rebinned)-third_harmonic_idx+1,len(fft_rebinned)-second_harmonic_idx),0.0)\n",
    "np.put(rebinned_fixed_third_harmonic_fft,np.arange(len(fft_rebinned)-second_harmonic_idx+1,len(fft_rebinned)-first_harmonic_idx),0.0)\n",
    "np.put(rebinned_fixed_third_harmonic_fft,np.arange(len(fft_rebinned)-first_harmonic_idx+1,len(fft_rebinned)-fundamental_idx),0.0)\n",
    "np.put(rebinned_fixed_third_harmonic_fft,np.arange(len(fft_rebinned)-fundamental_idx+1,len(fft_rebinned)),0.0)\n",
    "\n",
    "#produce fits\n",
    "rebinned_full_fit = ifft(fft_rebinned)\n",
    "rebinned_fixed_fundamental_fit = ifft(rebinned_fixed_fundamental_fft)\n",
    "rebinned_fixed_first_harmonic_fit = ifft(rebinned_fixed_first_harmonic_fft)\n",
    "rebinned_fixed_third_harmonic_fit = ifft(rebinned_fixed_third_harmonic_fft)\n",
    "\n",
    "#first harmonic fft\n",
    "fig9, ax9 = plt.subplots(1)\n",
    "ax9.stem(freqs_rebinned,np.abs(rebinned_fixed_fundamental_fft))\n",
    "ax9.set_xlim([-500,500])\n",
    "\n",
    "\n",
    "\n",
    "#third harmonic fft\n",
    "fig10, ax10 = plt.subplots(1)\n",
    "ax10.stem(freqs_rebinned,np.abs(rebinned_fixed_first_harmonic_fft))\n",
    "ax10.set_xlim([-500,500])\n",
    "\n",
    "#third harmonic fft\n",
    "fig11, ax11 = plt.subplots(1)\n",
    "ax11.stem(freqs_rebinned,np.abs(rebinned_fixed_third_harmonic_fft))\n",
    "ax11.set_xlim([-500,500])\n",
    "\n",
    "#harmonic fits\n",
    "fig12, ax12 = plt.subplots(1)\n",
    "ax12.plot(t_interp, sig_interp,'.')\n",
    "ax12.plot(t_interp, rebinned_fixed_fundamental_fit)\n",
    "ax12.plot(t_interp, rebinned_fixed_first_harmonic_fit)\n",
    "ax12.plot(t_interp, rebinned_fixed_third_harmonic_fit)\n",
    "ax12.plot(t_interp, ifft(fft_rebinned),'-.')\n",
    "#freqs, data_fft, n_limited_fft, t, full_fit, n_limited_fit = fft_fit(t_interp, sig_interp, 1)\n",
    "#ax10.plot(t_interp,full_fit,'-.')\n",
    "#ax3.plot(t_zero_pad, n_limited_fit)\n"
   ]
  },
  {
   "cell_type": "code",
   "execution_count": 152,
   "id": "0ac9e5c4-bfa9-42c2-a638-176e520b6ef5",
   "metadata": {},
   "outputs": [
    {
     "data": {
      "text/plain": [
       "0.347253313392017"
      ]
     },
     "execution_count": 152,
     "metadata": {},
     "output_type": "execute_result"
    }
   ],
   "source": [
    "np.arange(len(fft_rebinned)-fundamental_idx+1,len(data_fft))\n",
    "\n",
    "np.abs((-0.3472529892708671-0.0004744514531811461j))"
   ]
  },
  {
   "cell_type": "code",
   "execution_count": 289,
   "id": "cd8628a6-2f0b-413c-a205-23c6bc352aa5",
   "metadata": {},
   "outputs": [
    {
     "data": {
      "text/plain": [
       "Text(0, 0.5, 'Phase (deg.)')"
      ]
     },
     "execution_count": 289,
     "metadata": {},
     "output_type": "execute_result"
    }
   ],
   "source": [
    "\"\"\"\n",
    "Looked at the results above with chao-lin. Now we're going to try keeping the two highest peaks and their harmonics.\n",
    "\"\"\"\n",
    "\n",
    "#full fft\n",
    "fig, ax = plt.subplots(1)\n",
    "ax.stem(freqs, np.abs(data_fft))\n",
    "ax.set_xlim([-500,500])\n",
    "ax.set_xlabel('Frequency (Hz)')\n",
    "ax.set_ylabel('Amplitude (arb.)')\n",
    "\n",
    "\n",
    "def get_harmonic_fft(t, data, n):\n",
    "    \n",
    "    #find the the two fft terms with the most power\n",
    "    \n",
    "    data_fft = fft(data)\n",
    "    \n",
    "    fundamental_idx_1 = np.argmax(np.abs(data_fft))\n",
    "    remove_highest = deepcopy(data_fft)\n",
    "    np.put(remove_highest, [fundamental_idx_1, int(len(remove_highest)-fundamental_idx_1)], 0.0) #remove the highest term and its complex conjugate in order to search for the second highest term\n",
    "    fundamental_idx_2 = np.argmax(np.abs(remove_highest))\n",
    "    \n",
    "    mask = np.zeros(len(data))\n",
    "    try:\n",
    "        for i in range(n):\n",
    "            np.put(mask, [fundamental_idx_1*(i+1), fundamental_idx_2*(i+1)], 1.0)\n",
    "            np.put(mask, [len(data)-(fundamental_idx_1*(i+1)), len(data)-(fundamental_idx_2*(i+1))], 1.0)\n",
    "    except IndexError:\n",
    "        print('Harmonic setting (n) too high. Using highest harmonic available.')\n",
    "        \n",
    "    data_fft_harmonics_only = data_fft * mask\n",
    "    \n",
    "    return data_fft_harmonics_only\n",
    "    \n",
    "    \n",
    "\n",
    "data_fft_harmonics_only = get_harmonic_fft(t_zero_pad, sig_zero_pad, 1)\n",
    "data_harmonics_only = ifft(data_fft_harmonics_only)\n",
    "\n",
    "\n",
    "fig2, ax2 = plt.subplots(1)\n",
    "\n",
    "ax2.stem(freqs,np.abs(data_fft_harmonics_only))\n",
    "ax2.set_xlim([-500,500])\n",
    "\n",
    "fig3, ax3 = plt.subplots(1)\n",
    "\n",
    "ax3.plot(t_zero_pad, sig_zero_pad, '.')\n",
    "ax3.plot(t_zero_pad, data_harmonics_only)\n",
    "\n",
    "fig4, ax4 = plt.subplots(1)\n",
    "fig5, ax5 = plt.subplots(1)\n",
    "ax4.plot(t_zero_pad, sig_zero_pad, '.',label='Interpolated Data')\n",
    "for i in np.arange(1,11,1):\n",
    "    data_fft_harmonics_only = get_harmonic_fft(t_zero_pad, sig_zero_pad, i)\n",
    "    data_harmonics_only = ifft(data_fft_harmonics_only)\n",
    "    ax4.plot(t_zero_pad, data_harmonics_only,label=f'n = {i}')\n",
    "    ax5.stem(freqs,np.abs(data_fft_harmonics_only))\n",
    "    \n",
    "ax4.legend()\n",
    "ax4.set_xlabel('t (s)')\n",
    "ax4.set_ylabel('Amplitude (arb.)')\n",
    "\n",
    "ax5.set_xlabel('Frequency (Hz)')\n",
    "ax5.set_ylabel('Amplitude (arb.)')\n",
    "ax5.set_xlim([-500,500])\n",
    "\n",
    "#trying out phase plotting\n",
    "\n",
    "data_fft_phase_threshold = deepcopy(data_fft_harmonics_only)\n",
    "\n",
    "threshold = max(np.abs(data_fft_phase_threshold))/10000\n",
    "\n",
    "data_fft_phase_threshold[np.abs(data_fft_phase_threshold) < threshold] = 0.0\n",
    "\n",
    "phase = np.arctan2(np.imag(data_fft_phase_threshold),np.real(data_fft_phase_threshold))*180/np.pi\n",
    "\n",
    "fig6, ax6 = plt.subplots(1)\n",
    "ax6.stem(freqs, phase)\n",
    "ax6.set_xlim([-500,500])\n",
    "ax6.set_xlabel('Frequency (Hz)')\n",
    "ax6.set_ylabel('Phase (deg.)')\n"
   ]
  },
  {
   "cell_type": "code",
   "execution_count": 290,
   "id": "a113c1f0-6885-4ce2-bcaa-04b8ca4d8a0d",
   "metadata": {},
   "outputs": [
    {
     "data": {
      "text/plain": [
       "Text(0, 0.5, 'Phase (deg.)')"
      ]
     },
     "execution_count": 290,
     "metadata": {},
     "output_type": "execute_result"
    }
   ],
   "source": [
    "mask_1 = np.zeros(len(data_fft))\n",
    "np.put(mask_1, [6, len(data_fft)-6], 1.0)\n",
    "fft_bin_6 = data_fft*mask_1\n",
    "\n",
    "mask_2 = np.zeros(len(data_fft))\n",
    "np.put(mask_2, [7, len(data_fft)-7], 1.0)\n",
    "fft_bin_7 = data_fft*mask_2\n",
    "\n",
    "\n",
    "fig1, ax1 = plt.subplots(1)\n",
    "ax1.stem(freqs, np.abs(fft_bin_6),markerfmt='bo',label = 'abs(fft)')\n",
    "ax1.stem(freqs, np.real(fft_bin_6),markerfmt='ro',label = 'Re(fft)')\n",
    "ax1.stem(freqs, np.real(fft_bin_6),markerfmt='go',label = 'Im(fft)')\n",
    "ax1.legend()\n",
    "ax1.set_xlim([-500,500])\n",
    "ax1.set_xlabel('Frequency (Hz)')\n",
    "ax1.set_ylabel('Amplitude (arb.)')\n",
    "\n",
    "fig2, ax2 = plt.subplots(1)\n",
    "ax2.stem(freqs, np.abs(fft_bin_7),markerfmt='bo',label = 'abs(fft)')\n",
    "ax2.stem(freqs, np.real(fft_bin_7),markerfmt='ro',label = 'Re(fft)')\n",
    "ax2.stem(freqs, np.real(fft_bin_7),markerfmt='go',label = 'Im(fft)')\n",
    "ax2.legend()\n",
    "ax2.set_xlim([-500,500])\n",
    "ax2.set_xlabel('Frequency (Hz)')\n",
    "ax2.set_ylabel('Amplitude (arb.)')\n",
    "\n",
    "\n",
    "fig3, ax3 = plt.subplots(1)\n",
    "ax3.plot(t_zero_pad, sig_zero_pad, '.',label='interpolated data')\n",
    "ax3.plot(t_zero_pad, ifft(fft_bin_6),label='first peak')\n",
    "ax3.plot(t_zero_pad, ifft(fft_bin_7),label='second peak')\n",
    "ax3.plot(t_zero_pad, ifft(fft_bin_6+fft_bin_7),label='first peak + second peak')\n",
    "ax3.legend()\n",
    "ax3.set_xlabel('t (s)')\n",
    "ax3.set_ylabel('Amplitude (arb.)')\n",
    "\n",
    "data_fft_phase_threshold_bin_6 = deepcopy(fft_bin_6)\n",
    "threshold = max(np.abs(data_fft_phase_threshold_bin_6))/10000\n",
    "data_fft_phase_threshold_bin_6[np.abs(data_fft_phase_threshold_bin_6) < threshold] = 0.0\n",
    "\n",
    "data_fft_phase_threshold_bin_7 = deepcopy(fft_bin_7)\n",
    "threshold = max(np.abs(data_fft_phase_threshold_bin_7))/10000\n",
    "data_fft_phase_threshold_bin_7[np.abs(data_fft_phase_threshold_bin_7) < threshold] = 0.0\n",
    "\n",
    "phase_bin_6 = np.arctan2(np.imag(data_fft_phase_threshold_bin_6),np.real(data_fft_phase_threshold_bin_6))*180/np.pi\n",
    "phase_bin_7 = np.arctan2(np.imag(data_fft_phase_threshold_bin_7),np.real(data_fft_phase_threshold_bin_7))*180/np.pi\n",
    "\n",
    "fig4, ax4 = plt.subplots(1)\n",
    "ax4.stem(freqs,phase_bin_6)\n",
    "ax4.set_xlim([-500,500])\n",
    "ax4.set_xlabel('Frequency (Hz)')\n",
    "ax4.set_ylabel('Phase (deg.)')\n",
    "\n",
    "fig5, ax5 = plt.subplots(1)\n",
    "ax5.stem(freqs,phase_bin_7)\n",
    "ax5.set_xlim([-500,500])\n",
    "ax5.set_xlabel('Frequency (Hz)')\n",
    "ax5.set_ylabel('Phase (deg.)')"
   ]
  },
  {
   "cell_type": "code",
   "execution_count": null,
   "id": "d7af3e51-f82f-46e5-86be-3161e3857da2",
   "metadata": {},
   "outputs": [],
   "source": []
  }
 ],
 "metadata": {
  "kernelspec": {
   "display_name": "Python 3 (ipykernel)",
   "language": "python",
   "name": "python3"
  },
  "language_info": {
   "codemirror_mode": {
    "name": "ipython",
    "version": 3
   },
   "file_extension": ".py",
   "mimetype": "text/x-python",
   "name": "python",
   "nbconvert_exporter": "python",
   "pygments_lexer": "ipython3",
   "version": "3.10.5"
  }
 },
 "nbformat": 4,
 "nbformat_minor": 5
}
