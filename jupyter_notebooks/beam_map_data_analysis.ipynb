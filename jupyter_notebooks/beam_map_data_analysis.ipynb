{
 "cells": [
  {
   "cell_type": "code",
   "execution_count": 2,
   "id": "0e49ea7d-d1e0-4ed7-8a24-f8b277c06706",
   "metadata": {},
   "outputs": [
    {
     "name": "stderr",
     "output_type": "stream",
     "text": [
      "/tmp/ipykernel_2693/2322188046.py:6: DeprecationWarning: the imp module is deprecated in favour of importlib and slated for removal in Python 3.12; see the module's documentation for alternative uses\n",
      "  import imp\n"
     ]
    }
   ],
   "source": [
    "import matplotlib.pyplot as plt\n",
    "import numpy as np\n",
    "import sys\n",
    "sys.path.append('/home/matt/readout/host/')\n",
    "import ali_offline_demod as dm\n",
    "import imp\n",
    "import glob\n",
    "import pickle\n",
    "from scipy import spatial\n",
    "import h5py\n",
    "from scipy.fft import fft, ifft, fftfreq\n",
    "from copy import deepcopy\n",
    "from scipy.interpolate import CubicSpline, interp1d"
   ]
  },
  {
   "cell_type": "code",
   "execution_count": 65,
   "id": "456ea852-5bfa-4df5-b5c6-1888fd73aefb",
   "metadata": {},
   "outputs": [
    {
     "name": "stdout",
     "output_type": "stream",
     "text": [
      "/home/matt/ali_drive_mnt/beam_map_data/toneinit_fcenter_4250.0_20240308061355_t_20240308062133/ts_toneinit_fcenter_4250.0_20240308061355_t_20240308062147.hd5\n",
      "['adc_i', 'adc_q', 'timestamp']\n",
      "[-336  121  411 ... -318  118  459]\n"
     ]
    }
   ],
   "source": [
    "#path to beam map data\n",
    "main_folder = '/home/matt/ali_drive_mnt/beam_map_data/'\n",
    "\n",
    "#beam map directory\n",
    "directory = 'toneinit_fcenter_4250.0_20240308061355_t_20240308062133/'\n",
    "\n",
    "#file\n",
    "file = glob.glob(main_folder + directory + '*.hd5')[0]\n",
    "\n",
    "print(file)\n",
    "\n",
    "\n",
    "#open file\n",
    "tes_data = h5py.File(file, 'r')\n",
    "\n",
    "print(list(tes_data['time_ordered_data'].keys()))\n",
    "\n",
    "#channel\n",
    "channel = 100\n",
    "\n",
    "#t = np.array(tes_data['time_ordered_data']['timestamp'])\n",
    "i = np.array(tes_data['time_ordered_data']['adc_i'][100])\n",
    "#q = np.array(tes_data['time_ordered_data']['adc_q'][channel,:])\n",
    "\n",
    "print(i)\n",
    "\n"
   ]
  },
  {
   "cell_type": "code",
   "execution_count": 66,
   "id": "10cf5073-b36c-4550-a31a-eca57d410eff",
   "metadata": {
    "tags": []
   },
   "outputs": [
    {
     "name": "stdout",
     "output_type": "stream",
     "text": [
      "4250.0\n",
      "20240308061355\n",
      "/home/matt/ali_drive_mnt/tone_initializations/fcenter_4250.0_20240308061355/\n"
     ]
    },
    {
     "ename": "MemoryError",
     "evalue": "Unable to allocate 59.4 GiB for an array with shape (1024, 15578912) and data type int32",
     "output_type": "error",
     "traceback": [
      "\u001b[0;31m---------------------------------------------------------------------------\u001b[0m",
      "\u001b[0;31mMemoryError\u001b[0m                               Traceback (most recent call last)",
      "Input \u001b[0;32mIn [66]\u001b[0m, in \u001b[0;36m<cell line: 1>\u001b[0;34m()\u001b[0m\n\u001b[0;32m----> 1\u001b[0m processed_data \u001b[38;5;241m=\u001b[39m \u001b[43mdm\u001b[49m\u001b[38;5;241;43m.\u001b[39;49m\u001b[43mfull_demod_process\u001b[49m\u001b[43m(\u001b[49m\u001b[38;5;124;43m'\u001b[39;49m\u001b[38;5;124;43mts_toneinit_fcenter_4250.0_20240308061355_t_20240308062147.hd5\u001b[39;49m\u001b[38;5;124;43m'\u001b[39;49m\u001b[43m,\u001b[49m\n\u001b[1;32m      2\u001b[0m \u001b[43m                                       \u001b[49m\u001b[43mf_sawtooth\u001b[49m\u001b[38;5;241;43m=\u001b[39;49m\u001b[38;5;241;43m15\u001b[39;49m\u001b[43m,\u001b[49m\n\u001b[1;32m      3\u001b[0m \u001b[43m                                       \u001b[49m\u001b[43mn\u001b[49m\u001b[38;5;241;43m=\u001b[39;49m\u001b[38;5;241;43m1\u001b[39;49m\u001b[43m,\u001b[49m\n\u001b[1;32m      4\u001b[0m \u001b[43m                                       \u001b[49m\u001b[43mtone_init_path\u001b[49m\u001b[43m \u001b[49m\u001b[38;5;241;43m=\u001b[39;49m\u001b[43m \u001b[49m\u001b[38;5;124;43m'\u001b[39;49m\u001b[38;5;124;43m/home/matt/ali_drive_mnt/tone_initializations\u001b[39;49m\u001b[38;5;124;43m'\u001b[39;49m\u001b[43m,\u001b[49m\n\u001b[1;32m      5\u001b[0m \u001b[43m                                       \u001b[49m\u001b[43mts_path\u001b[49m\u001b[43m \u001b[49m\u001b[38;5;241;43m=\u001b[39;49m\u001b[43m \u001b[49m\u001b[38;5;124;43m'\u001b[39;49m\u001b[38;5;124;43m/home/matt/ali_drive_mnt/beam_map_data/toneinit_fcenter_4250.0_20240308061355_t_20240308062133\u001b[39;49m\u001b[38;5;124;43m'\u001b[39;49m\u001b[43m)\u001b[49m\n",
      "File \u001b[0;32m~/readout/host/ali_offline_demod.py:716\u001b[0m, in \u001b[0;36mfull_demod_process\u001b[0;34m(ts_file, f_sawtooth, n, channels, start_channel, stop_channel, tone_init_path, ts_path)\u001b[0m\n\u001b[1;32m    714\u001b[0m     tone_freqs \u001b[38;5;241m=\u001b[39m tone_freqs[start_channel \u001b[38;5;241m+\u001b[39m \u001b[38;5;241m23\u001b[39m:stop_channel \u001b[38;5;241m+\u001b[39m \u001b[38;5;241m23\u001b[39m \u001b[38;5;241m+\u001b[39m \u001b[38;5;241m1\u001b[39m]\n\u001b[1;32m    715\u001b[0m     \u001b[38;5;28mprint\u001b[39m(tone_freqs)\n\u001b[0;32m--> 716\u001b[0m ts_fr,Is_fr,Qs_fr\u001b[38;5;241m=\u001b[39m\u001b[43mread_data\u001b[49m\u001b[43m(\u001b[49m\u001b[43mts_path\u001b[49m\u001b[43m,\u001b[49m\u001b[43mchannels\u001b[49m\u001b[38;5;241;43m=\u001b[39;49m\u001b[43mchannels\u001b[49m\u001b[43m,\u001b[49m\u001b[43mstart_channel\u001b[49m\u001b[38;5;241;43m=\u001b[39;49m\u001b[43mstart_channel\u001b[49m\u001b[43m,\u001b[49m\u001b[43mstop_channel\u001b[49m\u001b[38;5;241;43m=\u001b[39;49m\u001b[43mstop_channel\u001b[49m\u001b[43m)\u001b[49m    \u001b[38;5;66;03m#note to self: limit tone_freqs to actively called channels; need to figure out channel numbering first\u001b[39;00m\n\u001b[1;32m    718\u001b[0m \u001b[38;5;66;03m#testing fixing the time breaks before the demod -- probably don't want to keep this but we'll see\u001b[39;00m\n\u001b[1;32m    719\u001b[0m fs\u001b[38;5;241m=\u001b[39m\u001b[38;5;241m512e6\u001b[39m\u001b[38;5;241m/\u001b[39m(\u001b[38;5;241m2\u001b[39m\u001b[38;5;241m*\u001b[39m\u001b[38;5;241m*\u001b[39m\u001b[38;5;241m20\u001b[39m)    \n",
      "File \u001b[0;32m~/readout/host/ali_offline_demod.py:149\u001b[0m, in \u001b[0;36mread_data\u001b[0;34m(filename, channels, start_channel, stop_channel)\u001b[0m\n\u001b[1;32m    147\u001b[0m \u001b[38;5;28;01mif\u001b[39;00m channels \u001b[38;5;241m==\u001b[39m \u001b[38;5;124m'\u001b[39m\u001b[38;5;124mall\u001b[39m\u001b[38;5;124m'\u001b[39m:\n\u001b[1;32m    148\u001b[0m     file \u001b[38;5;241m=\u001b[39m h5py\u001b[38;5;241m.\u001b[39mFile(filename, \u001b[38;5;124m'\u001b[39m\u001b[38;5;124mr\u001b[39m\u001b[38;5;124m'\u001b[39m)\n\u001b[0;32m--> 149\u001b[0m     adc_i \u001b[38;5;241m=\u001b[39m \u001b[43mnp\u001b[49m\u001b[38;5;241;43m.\u001b[39;49m\u001b[43marray\u001b[49m\u001b[43m(\u001b[49m\u001b[43mfile\u001b[49m\u001b[43m[\u001b[49m\u001b[38;5;124;43m'\u001b[39;49m\u001b[38;5;124;43mtime_ordered_data\u001b[39;49m\u001b[38;5;124;43m'\u001b[39;49m\u001b[43m]\u001b[49m\u001b[43m[\u001b[49m\u001b[38;5;124;43m'\u001b[39;49m\u001b[38;5;124;43madc_i\u001b[39;49m\u001b[38;5;124;43m'\u001b[39;49m\u001b[43m]\u001b[49m\u001b[43m)\u001b[49m\n\u001b[1;32m    150\u001b[0m     adc_i \u001b[38;5;241m=\u001b[39m np\u001b[38;5;241m.\u001b[39mdelete(adc_i, \u001b[38;5;28mslice\u001b[39m(\u001b[38;5;241m0\u001b[39m,\u001b[38;5;241m22\u001b[39m), \u001b[38;5;241m0\u001b[39m)\n\u001b[1;32m    151\u001b[0m     adc_q \u001b[38;5;241m=\u001b[39m file[\u001b[38;5;124m'\u001b[39m\u001b[38;5;124mtime_ordered_data\u001b[39m\u001b[38;5;124m'\u001b[39m][\u001b[38;5;124m'\u001b[39m\u001b[38;5;124madc_q\u001b[39m\u001b[38;5;124m'\u001b[39m]\n",
      "File \u001b[0;32mh5py/_objects.pyx:54\u001b[0m, in \u001b[0;36mh5py._objects.with_phil.wrapper\u001b[0;34m()\u001b[0m\n",
      "File \u001b[0;32mh5py/_objects.pyx:55\u001b[0m, in \u001b[0;36mh5py._objects.with_phil.wrapper\u001b[0;34m()\u001b[0m\n",
      "File \u001b[0;32m~/.local/readout/lib/python3.10/site-packages/h5py/_hl/dataset.py:1040\u001b[0m, in \u001b[0;36mDataset.__array__\u001b[0;34m(self, dtype)\u001b[0m\n\u001b[1;32m   1034\u001b[0m \u001b[38;5;129m@with_phil\u001b[39m\n\u001b[1;32m   1035\u001b[0m \u001b[38;5;28;01mdef\u001b[39;00m \u001b[38;5;21m__array__\u001b[39m(\u001b[38;5;28mself\u001b[39m, dtype\u001b[38;5;241m=\u001b[39m\u001b[38;5;28;01mNone\u001b[39;00m):\n\u001b[1;32m   1036\u001b[0m     \u001b[38;5;124;03m\"\"\" Create a Numpy array containing the whole dataset.  DON'T THINK\u001b[39;00m\n\u001b[1;32m   1037\u001b[0m \u001b[38;5;124;03m    THIS MEANS DATASETS ARE INTERCHANGEABLE WITH ARRAYS.  For one thing,\u001b[39;00m\n\u001b[1;32m   1038\u001b[0m \u001b[38;5;124;03m    you have to read the whole dataset every time this method is called.\u001b[39;00m\n\u001b[1;32m   1039\u001b[0m \u001b[38;5;124;03m    \"\"\"\u001b[39;00m\n\u001b[0;32m-> 1040\u001b[0m     arr \u001b[38;5;241m=\u001b[39m \u001b[43mnumpy\u001b[49m\u001b[38;5;241;43m.\u001b[39;49m\u001b[43mzeros\u001b[49m\u001b[43m(\u001b[49m\u001b[38;5;28;43mself\u001b[39;49m\u001b[38;5;241;43m.\u001b[39;49m\u001b[43mshape\u001b[49m\u001b[43m,\u001b[49m\u001b[43m \u001b[49m\u001b[43mdtype\u001b[49m\u001b[38;5;241;43m=\u001b[39;49m\u001b[38;5;28;43mself\u001b[39;49m\u001b[38;5;241;43m.\u001b[39;49m\u001b[43mdtype\u001b[49m\u001b[43m \u001b[49m\u001b[38;5;28;43;01mif\u001b[39;49;00m\u001b[43m \u001b[49m\u001b[43mdtype\u001b[49m\u001b[43m \u001b[49m\u001b[38;5;129;43;01mis\u001b[39;49;00m\u001b[43m \u001b[49m\u001b[38;5;28;43;01mNone\u001b[39;49;00m\u001b[43m \u001b[49m\u001b[38;5;28;43;01melse\u001b[39;49;00m\u001b[43m \u001b[49m\u001b[43mdtype\u001b[49m\u001b[43m)\u001b[49m\n\u001b[1;32m   1042\u001b[0m     \u001b[38;5;66;03m# Special case for (0,)*-shape datasets\u001b[39;00m\n\u001b[1;32m   1043\u001b[0m     \u001b[38;5;28;01mif\u001b[39;00m numpy\u001b[38;5;241m.\u001b[39mproduct(\u001b[38;5;28mself\u001b[39m\u001b[38;5;241m.\u001b[39mshape, dtype\u001b[38;5;241m=\u001b[39mnumpy\u001b[38;5;241m.\u001b[39mulonglong) \u001b[38;5;241m==\u001b[39m \u001b[38;5;241m0\u001b[39m:\n",
      "\u001b[0;31mMemoryError\u001b[0m: Unable to allocate 59.4 GiB for an array with shape (1024, 15578912) and data type int32"
     ]
    }
   ],
   "source": [
    "processed_data = dm.full_demod_process('ts_toneinit_fcenter_4250.0_20240308061355_t_20240308062147.hd5',\n",
    "                                       f_sawtooth=15,\n",
    "                                       n=1,\n",
    "                                       tone_init_path = '/home/matt/ali_drive_mnt/tone_initializations',\n",
    "                                       ts_path = '/home/matt/ali_drive_mnt/beam_map_data/toneinit_fcenter_4250.0_20240308061355_t_20240308062133')\n",
    "#normal demod process won't work because the datafile is too large; need to look at it in chunks"
   ]
  },
  {
   "cell_type": "code",
   "execution_count": 16,
   "id": "bf595a53-4263-4ce8-9a7d-351b9dc43d32",
   "metadata": {},
   "outputs": [
    {
     "name": "stdout",
     "output_type": "stream",
     "text": [
      "[[-2040 -2937 -2973 ... -2047 -2954 -3003]\n",
      " [-1863 -1730 -2091 ... -1880 -1730 -2032]\n",
      " [  771   991  1765 ...   761   993  1772]\n",
      " ...\n",
      " [-1269 -1332 -1371 ... -1371 -1348 -1341]\n",
      " [  637  -138  -424 ...   126  -356  -512]\n",
      " [  216   -63  -199 ...    51  -180  -200]]\n"
     ]
    }
   ],
   "source": [
    "#how many channels can we load at a time?\n",
    "\n",
    "i = np.array(tes_data['time_ordered_data']['adc_i'][23:253][:])\n",
    "print(i)\n",
    "\n",
    "#python kernel begins to crash at around 200 channels, so let's chunck to 100 channels\n",
    "\n",
    "# all we need to do is add an option to the top of the full demod process which channels to demod"
   ]
  },
  {
   "cell_type": "code",
   "execution_count": 80,
   "id": "7c3dc5b9-af64-4a24-8515-150eb53b0854",
   "metadata": {},
   "outputs": [
    {
     "name": "stdout",
     "output_type": "stream",
     "text": [
      "4250.0\n",
      "20240308061355\n",
      "/home/matt/ali_drive_mnt/tone_initializations/fcenter_4250.0_20240308061355/\n",
      "[4.04455676e+09+0.j 4.04925600e+09+0.j 4.05118850e+09+0.j\n",
      " 4.05330762e+09+0.j 4.05590806e+09+0.j 4.05714651e+09+0.j\n",
      " 4.05850391e+09+0.j 4.06022866e+09+0.j 4.06400279e+09+0.j\n",
      " 4.06518536e+09+0.j 4.06691971e+09+0.j 4.06885077e+09+0.j\n",
      " 4.07034654e+09+0.j 4.07258089e+09+0.j 4.07523714e+09+0.j\n",
      " 4.07763186e+09+0.j 4.07906134e+09+0.j 4.08002344e+09+0.j\n",
      " 4.08284868e+09+0.j 4.08409877e+09+0.j 4.08759989e+09+0.j\n",
      " 4.08895191e+09+0.j 4.09030945e+09+0.j 4.09184880e+09+0.j\n",
      " 4.09499819e+09+0.j 4.09772073e+09+0.j 4.09861800e+09+0.j\n",
      " 4.10045020e+09+0.j 4.10217871e+09+0.j 4.10407520e+09+0.j\n",
      " 4.10644922e+09+0.j 4.10902227e+09+0.j 4.11095010e+09+0.j\n",
      " 4.11852755e+09+0.j 4.12088477e+09+0.j 4.12305392e+09+0.j\n",
      " 4.12532650e+09+0.j 4.12841797e+09+0.j 4.12940020e+09+0.j\n",
      " 4.13167971e+09+0.j 4.13445870e+09+0.j 4.13665958e+09+0.j\n",
      " 4.13860275e+09+0.j 4.14014127e+09+0.j 4.14199198e+09+0.j\n",
      " 4.14425367e+09+0.j 4.14628811e+09+0.j 4.14954797e+09+0.j\n",
      " 4.15219150e+09+0.j 4.15461523e+09+0.j 4.15656469e+09+0.j\n",
      " 4.15939567e+09+0.j 4.16055973e+09+0.j 4.16164748e+09+0.j\n",
      " 4.16318566e+09+0.j 4.16543457e+09+0.j 4.16578985e+09+0.j\n",
      " 4.16817852e+09+0.j 4.16841652e+09+0.j 4.16841997e+09+0.j\n",
      " 4.17021677e+09+0.j 4.17028477e+09+0.j 4.17031211e+09+0.j\n",
      " 4.17161809e+09+0.j 4.17223859e+09+0.j 4.17304702e+09+0.j\n",
      " 4.17340627e+09+0.j 4.17365427e+09+0.j 4.17365725e+09+0.j\n",
      " 4.17574026e+09+0.j 4.17591826e+09+0.j 4.17574678e+09+0.j\n",
      " 4.17593378e+09+0.j 4.17734180e+09+0.j 4.17816506e+09+0.j\n",
      " 4.17992285e+09+0.j 4.18086765e+09+0.j 4.18113865e+09+0.j\n",
      " 4.18114337e+09+0.j 4.18325537e+09+0.j 4.18382341e+09+0.j\n",
      " 4.18528046e+09+0.j 4.18763772e+09+0.j 4.18936719e+09+0.j\n",
      " 4.19156038e+09+0.j 4.19335942e+09+0.j 4.19526155e+09+0.j\n",
      " 4.20035070e+09+0.j 4.20220298e+09+0.j 4.20365237e+09+0.j\n",
      " 4.20516583e+09+0.j 4.20667606e+09+0.j 4.20804592e+09+0.j\n",
      " 4.20960823e+09+0.j 4.21159484e+09+0.j 4.21371596e+09+0.j\n",
      " 4.21510263e+09+0.j 4.21773830e+09+0.j 4.21847268e+09+0.j\n",
      " 4.22139241e+09+0.j 4.22319434e+09+0.j 4.22535552e+09+0.j\n",
      " 4.22706738e+09+0.j 4.23421203e+09+0.j 4.23441903e+09+0.j\n",
      " 4.23421509e+09+0.j 4.23442109e+09+0.j 4.23598730e+09+0.j\n",
      " 4.23742271e+09+0.j 4.23904788e+09+0.j 4.24059161e+09+0.j\n",
      " 4.24219464e+09+0.j 4.24365120e+09+0.j 4.24542290e+09+0.j\n",
      " 4.24778253e+09+0.j 4.25245424e+09+0.j 4.25408017e+09+0.j\n",
      " 4.25551348e+09+0.j 4.25742855e+09+0.j 4.25947949e+09+0.j\n",
      " 4.26225091e+09+0.j 4.26828690e+09+0.j 4.26959989e+09+0.j\n",
      " 4.27118145e+09+0.j 4.27277327e+09+0.j 4.27444434e+09+0.j\n",
      " 4.27607303e+09+0.j 4.27723219e+09+0.j 4.27949816e+09+0.j\n",
      " 4.28204702e+09+0.j 4.28412384e+09+0.j 4.28645529e+09+0.j\n",
      " 4.28802267e+09+0.j 4.28944027e+09+0.j 4.29163772e+09+0.j\n",
      " 4.29284261e+09+0.j 4.30598619e+09+0.j 4.31139416e+09+0.j\n",
      " 4.31276423e+09+0.j 4.31392778e+09+0.j 4.31530471e+09+0.j\n",
      " 4.31703827e+09+0.j 4.31870520e+09+0.j 4.32059377e+09+0.j\n",
      " 4.32360026e+09+0.j 4.32451251e+09+0.j 4.32582441e+09+0.j\n",
      " 4.32770343e+09+0.j 4.32871554e+09+0.j 4.33013825e+09+0.j\n",
      " 4.33269808e+09+0.j 4.33440346e+09+0.j 4.33637698e+09+0.j\n",
      " 4.34328827e+09+0.j 4.34480059e+09+0.j 4.34571096e+09+0.j\n",
      " 4.34719073e+09+0.j 4.34863651e+09+0.j 4.35036426e+09+0.j\n",
      " 4.35236233e+09+0.j 4.35498547e+09+0.j 4.35693427e+09+0.j\n",
      " 4.35757877e+09+0.j 4.35906738e+09+0.j 4.36079020e+09+0.j\n",
      " 4.36211563e+09+0.j 4.36428144e+09+0.j 4.36609670e+09+0.j\n",
      " 4.36816897e+09+0.j 4.37948091e+09+0.j 4.38046561e+09+0.j\n",
      " 4.38161330e+09+0.j 4.38303144e+09+0.j 4.38411054e+09+0.j\n",
      " 4.38602639e+09+0.j 4.38734189e+09+0.j 4.38944552e+09+0.j\n",
      " 4.39117959e+09+0.j 4.39270741e+09+0.j 4.39438734e+09+0.j\n",
      " 4.39611270e+09+0.j 4.39704234e+09+0.j 4.39837072e+09+0.j\n",
      " 4.40096308e+09+0.j 4.40354573e+09+0.j 4.40560268e+09+0.j\n",
      " 4.41306264e+09+0.j 4.41416934e+09+0.j 4.41529597e+09+0.j\n",
      " 4.41640363e+09+0.j 4.41797326e+09+0.j 4.42002365e+09+0.j\n",
      " 4.42130927e+09+0.j 4.42316616e+09+0.j 4.42475558e+09+0.j\n",
      " 4.42639367e+09+0.j 4.42832363e+09+0.j 4.42925721e+09+0.j\n",
      " 4.42998269e+09+0.j 4.43242545e+09+0.j 4.43287067e+09+0.j\n",
      " 4.43524049e+09+0.j 4.43625335e+09+0.j 4.43783275e+09+0.j\n",
      " 4.43834266e+09+0.j 4.43938405e+09+0.j 4.44132601e+09+0.j\n",
      " 4.44348614e+09+0.j 4.44552646e+09+0.j 4.44788295e+09+0.j\n",
      " 4.45072168e+09+0.j 4.45209647e+09+0.j 4.45397138e+09+0.j\n",
      " 4.45611900e+09+0.j 4.45846115e+09+0.j 4.46097594e+09+0.j\n",
      " 4.46417655e+09+0.j 4.46681743e+09+0.j 4.46799368e+09+0.j\n",
      " 4.46888960e+09+0.j 4.47055285e+09+0.j 4.47152760e+09+0.j\n",
      " 4.47317788e+09+0.j 4.47535342e+09+0.j 4.47739420e+09+0.j\n",
      " 4.47965172e+09+0.j 4.48255145e+09+0.j 4.48458727e+09+0.j\n",
      " 4.48581890e+09+0.j 4.48809670e+09+0.j 4.49024577e+09+0.j\n",
      " 4.49248460e+09+0.j]\n",
      "[4.45611900e+09+0.j 4.45846115e+09+0.j 4.46097594e+09+0.j]\n",
      "num of channels: 3\n",
      "num of tones: 3\n",
      "looking for delay region\n",
      "start = 4027769640.6250944\n",
      "stop = 4037790148.4375944\n",
      "2.9779121695909923\n",
      "n_phi0: 2.9779121695909923\n"
     ]
    },
    {
     "data": {
      "application/vnd.jupyter.widget-view+json": {
       "model_id": "055d7b004bfd4f978975e982c54e203e",
       "version_major": 2,
       "version_minor": 0
      },
      "text/plain": [
       "  0%|          | 0/2 [00:00<?, ?it/s]"
      ]
     },
     "metadata": {},
     "output_type": "display_data"
    }
   ],
   "source": [
    "processed_data = dm.full_demod_process('ts_toneinit_fcenter_4250.0_20240308061355_t_20240308062147.hd5',\n",
    "                                       f_sawtooth=15.0,\n",
    "                                       n=2,\n",
    "                                       channels='some',\n",
    "                                       start_channel=190,\n",
    "                                       stop_channel=192,\n",
    "                                       tone_init_path = '/home/matt/ali_drive_mnt/tone_initializations',\n",
    "                                       ts_path = '/home/matt/ali_drive_mnt/beam_map_data/toneinit_fcenter_4250.0_20240308061355_t_20240308062133')"
   ]
  },
  {
   "cell_type": "code",
   "execution_count": 82,
   "id": "d1d9061f-d499-4bbc-a70b-bb3356c3cc2b",
   "metadata": {},
   "outputs": [],
   "source": [
    "%matplotlib qt\n",
    "#print(processed_data)\n",
    "\n",
    "channel = [1]#np.arange(0,10,1)\n",
    "\n",
    "for i in channel:\n",
    "    plt.plot(processed_data['demod t'],processed_data['demod data'][i])"
   ]
  },
  {
   "cell_type": "code",
   "execution_count": 59,
   "id": "e7cf0a68-b19c-4c76-a9d7-16b78d165ada",
   "metadata": {},
   "outputs": [
    {
     "name": "stdout",
     "output_type": "stream",
     "text": [
      "478583\n",
      "15578912\n"
     ]
    }
   ],
   "source": [
    "print(len(processed_data['demod data'][1]))\n",
    "print(len(processed_data['fr data'][1]))"
   ]
  },
  {
   "cell_type": "code",
   "execution_count": 111,
   "id": "14e2e3e9-821a-4575-adb3-7c1ce60c9f8b",
   "metadata": {},
   "outputs": [
    {
     "name": "stdout",
     "output_type": "stream",
     "text": [
      "/home/matt/ali_drive_mnt/beam_map_data/toneinit_fcenter_4250.0_20240308061355_t_20240308062133/ts_toneinit_fcenter_4250.0_20240308061355_t_20240308062147.hd5\n"
     ]
    },
    {
     "data": {
      "text/plain": [
       "\"\\n#determine the number of channels using tone initialization\\nfcenter = beam_map_directory.split('_')[-4]\\ntone_init_t = beam_map_directory.split('_')[-3]\\ntone_init_directory = f'fcenter_{fcenter}_{tone_init_t}'\\ntone_init_freq_list = glob.glob(f'{tone_init_path}/{tone_init_directory}/freq_list_lo_sweep_targeted_1_*.npy')[0]\\ntones = np.load(tone_init_freq_list)\\nnum_tones = len(tones)\\n\\n\\nif num_tones % 10 == 0:\\n    chunks = int(num_tones / 10)\\nelse:\\n    chunks = int(num_tones // 10 + 1)\\n\\nprint(chunks)\\n\\nfor i in range(chunks):\\n    start_channel = start_channel + (stop_channel - start_channel)*i\\n    stop_channel = stop_channel + (stop_channel - start_channel)*i\\n    \\n    #truncated the final chunk if necessary\\n    if stop_channel > num_tones:\\n        stop_channel = num_tones\\n        \\n    processed_data = dm.full_demod_process('ts_toneinit_fcenter_4250.0_20240308061355_t_20240308062147.hd5',\\n                                       f_sawtooth=15.0,\\n                                       n=2,\\n                                       channels='some',\\n                                       start_channel=190,\\n                                       stop_channel=192,\\n                                       tone_init_path = '/home/matt/ali_drive_mnt/tone_initializations',\\n                                       ts_path = '/home/matt/ali_drive_mnt/beam_map_data/toneinit_fcenter_4250.0_20240308061355_t_20240308062133')\\n    \\n    \\n\\n\\n\\n#loop to read out and save to pickle files (need to name the pickle files using the channel ranges)\\n\""
      ]
     },
     "execution_count": 111,
     "metadata": {},
     "output_type": "execute_result"
    }
   ],
   "source": [
    "#processing an entire beam map file\n",
    "\n",
    "beam_map_directory = '/home/matt/ali_drive_mnt/beam_map_data/toneinit_fcenter_4250.0_20240308061355_t_20240308062133'\n",
    "tone_init_path = '/home/matt/ali_drive_mnt/tone_initializations'\n",
    "ts_file = glob.glob(f'{beam_map_directory}/*.hd5')[0]\n",
    "print(ts_file)\n",
    "\n",
    "\n",
    "#determine the number of channels using tone initialization\n",
    "fcenter = beam_map_directory.split('_')[-4]\n",
    "tone_init_t = beam_map_directory.split('_')[-3]\n",
    "tone_init_directory = f'fcenter_{fcenter}_{tone_init_t}'\n",
    "tone_init_freq_list = glob.glob(f'{tone_init_path}/{tone_init_directory}/freq_list_lo_sweep_targeted_1_*.npy')[0]\n",
    "tones = np.load(tone_init_freq_list)\n",
    "num_tones = len(tones)\n",
    "\n",
    "\n",
    "if num_tones % 10 == 0:\n",
    "    chunks = int(num_tones / 10)\n",
    "else:\n",
    "    chunks = int(num_tones // 10 + 1)\n",
    "\n",
    "print(chunks)\n",
    "\n",
    "for i in range(chunks):\n",
    "    start_channel = start_channel + (stop_channel - start_channel)*i\n",
    "    stop_channel = stop_channel + (stop_channel - start_channel)*i\n",
    "    \n",
    "    #truncated the final chunk if necessary\n",
    "    if stop_channel > num_tones:\n",
    "        stop_channel = num_tones\n",
    "        \n",
    "    processed_data = dm.full_demod_process(ts_file,\n",
    "                                           f_sawtooth=15.0,\n",
    "                                           n=2,\n",
    "                                           channels='some',\n",
    "                                           start_channel=start_channel,\n",
    "                                           stop_channel=stop_channel,\n",
    "                                           tone_init_path = tone_init_path,\n",
    "                                           ts_path = beam_map_directory)\n",
    "    \n",
    "    #declare a filename for pickling\n",
    "    file_name = \n",
    "    \n",
    "    #pickle\n",
    "    \n",
    "\n",
    "\n",
    "\n",
    "#loop to read out and save to pickle files (need to name the pickle files using the channel ranges)\n"
   ]
  },
  {
   "cell_type": "code",
   "execution_count": null,
   "id": "a8d4b904-cce2-481e-8acc-4e9aad70b81a",
   "metadata": {},
   "outputs": [],
   "source": [
    "#iv curves for 4250 MHz\n",
    "\n",
    "# BL 9 - 20240212172504\n",
    "iv_curve_file_4250MHz_BL9 = 'toneinit_fcenter_4250.0_20240212164634_t_20240212172504'\n",
    "\n",
    "# BL 10 - 20240212171247\n",
    "iv_curve_file_4250MHz_BL10 = 'toneinit_fcenter_4250.0_20240212164634_t_20240212171247'\n",
    "\n",
    "# BL 11 - 20240212173240\n",
    "iv_curve_file_4250MHz_BL11 = 'toneinit_fcenter_4250.0_20240212164634_t_20240212173240'\n",
    "\n"
   ]
  },
  {
   "cell_type": "markdown",
   "id": "cd3a1f4e-41be-429e-9714-4635448ab3a7",
   "metadata": {},
   "source": [
    "## Start Here"
   ]
  },
  {
   "cell_type": "code",
   "execution_count": 71,
   "id": "c217c6ef-c243-49e3-b42c-34dacabfaf34",
   "metadata": {
    "tags": []
   },
   "outputs": [
    {
     "name": "stdout",
     "output_type": "stream",
     "text": [
      "4250.0\n",
      "20240212164634\n",
      "/home/matt/alicpt_data/tone_initializations/fcenter_4250.0_20240212164634/\n",
      "num of channels: 1002\n",
      "num of tones: 235\n",
      "looking for delay region\n",
      "start = 4047472656.2500253\n",
      "stop = 4057492187.5000253\n",
      "3.2552083333333246\n",
      "n_phi0: 3.2552083333333246\n",
      "start index: 20\n"
     ]
    },
    {
     "data": {
      "application/vnd.jupyter.widget-view+json": {
       "model_id": "574a7d2882fd431d97dfe4157dce236a",
       "version_major": 2,
       "version_minor": 0
      },
      "text/plain": [
       "  0%|          | 0/235 [00:00<?, ?it/s]"
      ]
     },
     "metadata": {},
     "output_type": "display_data"
    },
    {
     "data": {
      "application/vnd.jupyter.widget-view+json": {
       "model_id": "a755290508a0434f837dab9cadfccd32",
       "version_major": 2,
       "version_minor": 0
      },
      "text/plain": [
       "  0%|          | 0/235 [00:00<?, ?it/s]"
      ]
     },
     "metadata": {},
     "output_type": "display_data"
    },
    {
     "data": {
      "application/vnd.jupyter.widget-view+json": {
       "model_id": "9bb232b6997f487e9af70bb22e64d922",
       "version_major": 2,
       "version_minor": 0
      },
      "text/plain": [
       "  0%|          | 0/235 [00:00<?, ?it/s]"
      ]
     },
     "metadata": {},
     "output_type": "display_data"
    },
    {
     "ename": "ValueError",
     "evalue": "cannot convert float NaN to integer",
     "output_type": "error",
     "traceback": [
      "\u001b[0;31m---------------------------------------------------------------------------\u001b[0m",
      "\u001b[0;31mValueError\u001b[0m                                Traceback (most recent call last)",
      "Input \u001b[0;32mIn [71]\u001b[0m, in \u001b[0;36m<cell line: 32>\u001b[0;34m()\u001b[0m\n\u001b[1;32m      2\u001b[0m iv_curves \u001b[38;5;241m=\u001b[39m {\u001b[38;5;124m'\u001b[39m\u001b[38;5;124m4250MHz_BL9_Warm\u001b[39m\u001b[38;5;124m'\u001b[39m:\u001b[38;5;124m'\u001b[39m\u001b[38;5;124mtoneinit_fcenter_4250.0_20240212164634_t_20240212172504\u001b[39m\u001b[38;5;124m'\u001b[39m,\n\u001b[1;32m      3\u001b[0m              \u001b[38;5;124m'\u001b[39m\u001b[38;5;124m4250MHz_BL10_Warm\u001b[39m\u001b[38;5;124m'\u001b[39m:\u001b[38;5;124m'\u001b[39m\u001b[38;5;124mtoneinit_fcenter_4250.0_20240212164634_t_20240212171247\u001b[39m\u001b[38;5;124m'\u001b[39m,\n\u001b[1;32m      4\u001b[0m              \u001b[38;5;124m'\u001b[39m\u001b[38;5;124m4250MHz_BL11_Warm\u001b[39m\u001b[38;5;124m'\u001b[39m:\u001b[38;5;124m'\u001b[39m\u001b[38;5;124mtoneinit_fcenter_4250.0_20240212164634_t_20240212173240\u001b[39m\u001b[38;5;124m'\u001b[39m,\n\u001b[0;32m   (...)\u001b[0m\n\u001b[1;32m     28\u001b[0m              \u001b[38;5;124m'\u001b[39m\u001b[38;5;124m6250MHz_BL8_Cold\u001b[39m\u001b[38;5;124m'\u001b[39m:\u001b[38;5;124m'\u001b[39m\u001b[38;5;124mtoneinit_fcenter_6250.0_20240213120741_t_20240213121138\u001b[39m\u001b[38;5;124m'\u001b[39m,\n\u001b[1;32m     29\u001b[0m              \u001b[38;5;124m'\u001b[39m\u001b[38;5;124m6750MHz_BL12_Cold\u001b[39m\u001b[38;5;124m'\u001b[39m:\u001b[38;5;124m'\u001b[39m\u001b[38;5;124mtoneinit_fcenter_6750.0_20240213121929_t_20240213123317\u001b[39m\u001b[38;5;124m'\u001b[39m}\n\u001b[1;32m     31\u001b[0m \u001b[38;5;66;03m#iv_processed_4250MHz_BL9 = dm.full_iv_process(iv_curves['4250MHz_BL9_Warm'],f_sawtooth=15, filter_Rn_Al=True, plot=None) \u001b[39;00m\n\u001b[0;32m---> 32\u001b[0m iv_processed_4250MHz_BL10 \u001b[38;5;241m=\u001b[39m \u001b[43mdm\u001b[49m\u001b[38;5;241;43m.\u001b[39;49m\u001b[43mfull_iv_process\u001b[49m\u001b[43m(\u001b[49m\u001b[43miv_curves\u001b[49m\u001b[43m[\u001b[49m\u001b[38;5;124;43m'\u001b[39;49m\u001b[38;5;124;43m4250MHz_BL10_Warm\u001b[39;49m\u001b[38;5;124;43m'\u001b[39;49m\u001b[43m]\u001b[49m\u001b[43m,\u001b[49m\u001b[43mf_sawtooth\u001b[49m\u001b[38;5;241;43m=\u001b[39;49m\u001b[38;5;241;43m15\u001b[39;49m\u001b[43m,\u001b[49m\u001b[43m \u001b[49m\u001b[43mfilter_Rn_Al\u001b[49m\u001b[38;5;241;43m=\u001b[39;49m\u001b[38;5;28;43;01mTrue\u001b[39;49;00m\u001b[43m,\u001b[49m\u001b[43m \u001b[49m\u001b[43mplot\u001b[49m\u001b[38;5;241;43m=\u001b[39;49m\u001b[38;5;28;43;01mNone\u001b[39;49;00m\u001b[43m)\u001b[49m\n",
      "File \u001b[0;32m~/readout/host/ali_offline_demod.py:1120\u001b[0m, in \u001b[0;36mfull_iv_process\u001b[0;34m(iv_file, f_sawtooth, Rsh, iv_path, filter_Rn_Al, plot)\u001b[0m\n\u001b[1;32m   1117\u001b[0m peak_sc_median \u001b[38;5;241m=\u001b[39m np\u001b[38;5;241m.\u001b[39mnanmedian(peak_sc_array)\n\u001b[1;32m   1119\u001b[0m \u001b[38;5;28;01mfor\u001b[39;00m ch \u001b[38;5;129;01min\u001b[39;00m tqdm(\u001b[38;5;28mrange\u001b[39m(data_demods_bin\u001b[38;5;241m.\u001b[39mshape[\u001b[38;5;241m0\u001b[39m])):\n\u001b[0;32m-> 1120\u001b[0m     Rn_almn_ch,Rn_al_ch,Rtes_ch,Vtes_ch,Ites_ch,bps_ch,Pbias_ch,resps_correct_ch \u001b[38;5;241m=\u001b[39m \u001b[43mIV_analysis_ch_duo\u001b[49m\u001b[43m(\u001b[49m\u001b[43mbias_currents\u001b[49m\u001b[43m[\u001b[49m\u001b[43m:\u001b[49m\u001b[43m,\u001b[49m\u001b[38;5;241;43m1\u001b[39;49m\u001b[43m]\u001b[49m\u001b[43m,\u001b[49m\n\u001b[1;32m   1121\u001b[0m \u001b[43m                                                                                                      \u001b[49m\u001b[43mdata_demods_bin\u001b[49m\u001b[43m[\u001b[49m\u001b[43mch\u001b[49m\u001b[43m]\u001b[49m\u001b[43m,\u001b[49m\u001b[43m \u001b[49m\n\u001b[1;32m   1122\u001b[0m \u001b[43m                                                                                                      \u001b[49m\u001b[43mpeak_nb\u001b[49m\u001b[38;5;241;43m=\u001b[39;49m\u001b[43mpeak_nb_median\u001b[49m\u001b[43m,\u001b[49m\n\u001b[1;32m   1123\u001b[0m \u001b[43m                                                                                                      \u001b[49m\u001b[43mpeak_sc\u001b[49m\u001b[38;5;241;43m=\u001b[39;49m\u001b[43mpeak_sc_median\u001b[49m\u001b[43m,\u001b[49m\n\u001b[1;32m   1124\u001b[0m \u001b[43m                                                                                                      \u001b[49m\u001b[43mRsh\u001b[49m\u001b[38;5;241;43m=\u001b[39;49m\u001b[38;5;241;43m0.4\u001b[39;49m\u001b[43m,\u001b[49m\n\u001b[1;32m   1125\u001b[0m \u001b[43m                                                                                                      \u001b[49m\u001b[43mfilter_Rn_Al\u001b[49m\u001b[38;5;241;43m=\u001b[39;49m\u001b[43mfilter_Rn_Al\u001b[49m\u001b[43m,\u001b[49m\u001b[43m \u001b[49m\n\u001b[1;32m   1126\u001b[0m \u001b[43m                                                                                                      \u001b[49m\u001b[43mplot\u001b[49m\u001b[38;5;241;43m=\u001b[39;49m\u001b[43mplot\u001b[49m\u001b[43m)\u001b[49m\n\u001b[1;32m   1128\u001b[0m     Rn_almn_list\u001b[38;5;241m.\u001b[39mappend(Rn_almn_ch)\n\u001b[1;32m   1129\u001b[0m     Rn_al_list\u001b[38;5;241m.\u001b[39mappend(Rn_al_ch)\n",
      "File \u001b[0;32m~/readout/host/ali_offline_demod.py:993\u001b[0m, in \u001b[0;36mIV_analysis_ch_duo\u001b[0;34m(bias_currents, resps, peak_nb, peak_sc, Rsh, filter_Rn_Al, plot)\u001b[0m\n\u001b[1;32m    989\u001b[0m     resps_correct\u001b[38;5;241m=\u001b[39mnp\u001b[38;5;241m.\u001b[39mones(bias_currents\u001b[38;5;241m.\u001b[39mshape[\u001b[38;5;241m0\u001b[39m])\u001b[38;5;241m*\u001b[39mnp\u001b[38;5;241m.\u001b[39mnan\n\u001b[1;32m    990\u001b[0m \u001b[38;5;28;01melse\u001b[39;00m:   \n\u001b[1;32m    991\u001b[0m     \u001b[38;5;66;03m#peak_nb=peaks_nb[0]\u001b[39;00m\n\u001b[1;32m    992\u001b[0m     \u001b[38;5;66;03m#resps_correct,peak_sc=IV_correction(resps)\u001b[39;00m\n\u001b[0;32m--> 993\u001b[0m     resps_correct\u001b[38;5;241m=\u001b[39m\u001b[43mIV_correction_median\u001b[49m\u001b[43m(\u001b[49m\u001b[43mresps\u001b[49m\u001b[43m,\u001b[49m\u001b[43mpeak_nb\u001b[49m\u001b[43m,\u001b[49m\u001b[43mpeak_sc\u001b[49m\u001b[43m)\u001b[49m\n\u001b[1;32m    994\u001b[0m     resps_nb\u001b[38;5;241m=\u001b[39mresps_correct[\u001b[38;5;241m2\u001b[39m:\u001b[38;5;28mint\u001b[39m(peak_nb\u001b[38;5;241m-\u001b[39m\u001b[38;5;241m10\u001b[39m)]\n\u001b[1;32m    995\u001b[0m     resps_sc\u001b[38;5;241m=\u001b[39mresps_correct[\u001b[38;5;28mint\u001b[39m(peak_sc\u001b[38;5;241m+\u001b[39m\u001b[38;5;241m20\u001b[39m):\u001b[38;5;241m-\u001b[39m\u001b[38;5;241m10\u001b[39m]\n",
      "File \u001b[0;32m~/readout/host/ali_offline_demod.py:941\u001b[0m, in \u001b[0;36mIV_correction_median\u001b[0;34m(resps, peak_nb, peak_sc)\u001b[0m\n\u001b[1;32m    935\u001b[0m \u001b[38;5;124;03m\"\"\"\u001b[39;00m\n\u001b[1;32m    936\u001b[0m \u001b[38;5;124;03mThis function smooth the IV curve and then find the normal and superconducting point\u001b[39;00m\n\u001b[1;32m    937\u001b[0m \u001b[38;5;124;03mit will then try to correct the jump caused by unwrapping large Ites changes with current Ibias resolution\u001b[39;00m\n\u001b[1;32m    938\u001b[0m \u001b[38;5;124;03m\"\"\"\u001b[39;00m \n\u001b[1;32m    940\u001b[0m \u001b[38;5;66;03m#here we know that before peaks_nb[0] and after peak_sc the Ites is monotonic \u001b[39;00m\n\u001b[0;32m--> 941\u001b[0m resps_nb\u001b[38;5;241m=\u001b[39mresps[\u001b[38;5;241m2\u001b[39m:\u001b[38;5;28;43mint\u001b[39;49m\u001b[43m(\u001b[49m\u001b[43mpeak_nb\u001b[49m\u001b[38;5;241;43m-\u001b[39;49m\u001b[38;5;241;43m10\u001b[39;49m\u001b[43m)\u001b[49m]\n\u001b[1;32m    942\u001b[0m resps_sc\u001b[38;5;241m=\u001b[39mresps[\u001b[38;5;28mint\u001b[39m(peak_sc\u001b[38;5;241m+\u001b[39m\u001b[38;5;241m10\u001b[39m):\u001b[38;5;241m-\u001b[39m\u001b[38;5;241m10\u001b[39m]\n\u001b[1;32m    943\u001b[0m resps_cor\u001b[38;5;241m=\u001b[39mnp\u001b[38;5;241m.\u001b[39mzeros(resps\u001b[38;5;241m.\u001b[39mshape[\u001b[38;5;241m0\u001b[39m])\n",
      "\u001b[0;31mValueError\u001b[0m: cannot convert float NaN to integer"
     ]
    }
   ],
   "source": [
    "#process iv curve\n",
    "iv_curves = {'4250MHz_BL9_Warm':'toneinit_fcenter_4250.0_20240212164634_t_20240212172504',\n",
    "             '4250MHz_BL10_Warm':'toneinit_fcenter_4250.0_20240212164634_t_20240212171247',\n",
    "             '4250MHz_BL11_Warm':'toneinit_fcenter_4250.0_20240212164634_t_20240212173240',\n",
    "             '4750MHz_BL7_Warm':'toneinit_fcenter_4750.0_20240212174427_t_20240212174816',\n",
    "             '4750MHz_BL8_Warm':'toneinit_fcenter_4750.0_20240212174427_t_20240212175959',\n",
    "             '4750MHz_BL9_Warm':'toneinit_fcenter_4750.0_20240212174427_t_20240212180717',\n",
    "             '4750MHz_BL11_Warm':'toneinit_fcenter_4750.0_20240212174427_t_20240212181437',\n",
    "             '5250MHz_BL7_Warm':'toneinit_fcenter_5250.0_20240212182224_t_20240212182634', # -> problem here undiagnosed\n",
    "             '5250MHz_BL9_Warm':'toneinit_fcenter_5250.0_20240212182224_t_20240212183347', # -> problem here\n",
    "             '5250MHz_BL12_Warm':'toneinit_fcenter_5250.0_20240212182224_t_20240212184128',\n",
    "             '5750MHz_BL8_Warm':'toneinit_fcenter_5750.0_20240212190328_t_20240212190721',\n",
    "             '5750MHz_BL11_Warm':'toneinit_fcenter_5750.0_20240212190328_t_20240212191433',\n",
    "             '6250MHz_BL8_Warm':'toneinit_fcenter_6250.0_20240212192226_t_20240212192618',\n",
    "             '6750MHz_BL12_Warm':'toneinit_fcenter_6750.0_20240212193336_t_20240212193745',\n",
    "             '4250MHz_BL9_Cold':'toneinit_fcenter_4250.0_20240213100705_t_20240213101047',\n",
    "             '4250MHz_BL10_Cold':'toneinit_fcenter_4250.0_20240213100705_t_20240213101808',\n",
    "             '4250MHz_BL11_Cold':'toneinit_fcenter_4250.0_20240213100705_t_20240213102551',\n",
    "             '4750MHz_BL7_Cold':'toneinit_fcenter_4750.0_20240213103311_t_20240213103650',\n",
    "             '4750MHz_BL8_Cold':'toneinit_fcenter_4750.0_20240213103311_t_20240213104400',\n",
    "             '4750MHz_BL9_Cold':'toneinit_fcenter_4750.0_20240213103311_t_20240213105157',\n",
    "             '4750MHz_BL11_Cold':'toneinit_fcenter_4750.0_20240213103311_t_20240213105928',\n",
    "             '5250MHz_BL7_Cold':'toneinit_fcenter_5250.0_20240213110651_t_20240213111049',\n",
    "             '5250MHz_BL9_Cold':'toneinit_fcenter_5250.0_20240213110651_t_20240213111823', #> problem here\n",
    "             '5250MHz_BL12_Cold':'toneinit_fcenter_5250.0_20240213110651_t_20240213112541',\n",
    "             '5750MHz_BL8_Cold':'toneinit_fcenter_5750.0_20240213114826_t_20240213115229',\n",
    "             '5750MHz_BL11_Cold':'toneinit_fcenter_5750.0_20240213114826_t_20240213120017',\n",
    "             '6250MHz_BL8_Cold':'toneinit_fcenter_6250.0_20240213120741_t_20240213121138',\n",
    "             '6750MHz_BL12_Cold':'toneinit_fcenter_6750.0_20240213121929_t_20240213123317'}\n",
    "\n",
    "#iv_processed_4250MHz_BL9 = dm.full_iv_process(iv_curves['4250MHz_BL9_Warm'],f_sawtooth=15, filter_Rn_Al=True, plot=None) \n",
    "iv_processed_4250MHz_BL10 = dm.full_iv_process(iv_curves['4250MHz_BL10_Warm'],f_sawtooth=15, filter_Rn_Al=True, plot=None) \n",
    "#iv_processed_4250MHz_BL11 = dm.full_iv_process(iv_curves['4250MHz_BL11_Warm'],f_sawtooth=15, filter_Rn_Al=True, plot=None) "
   ]
  },
  {
   "cell_type": "code",
   "execution_count": 69,
   "id": "c2408863-2142-4693-a113-ba56b0d9cae9",
   "metadata": {},
   "outputs": [
    {
     "ename": "NameError",
     "evalue": "name 'iv_processed_4250MHz_BL10' is not defined",
     "output_type": "error",
     "traceback": [
      "\u001b[0;31m---------------------------------------------------------------------------\u001b[0m",
      "\u001b[0;31mNameError\u001b[0m                                 Traceback (most recent call last)",
      "Input \u001b[0;32mIn [69]\u001b[0m, in \u001b[0;36m<cell line: 5>\u001b[0;34m()\u001b[0m\n\u001b[1;32m      3\u001b[0m active_channel \u001b[38;5;241m=\u001b[39m [\u001b[38;5;241m3\u001b[39m] \u001b[38;5;66;03m#range(len(iv_processed_4250MHz_BL10))\u001b[39;00m\n\u001b[1;32m      5\u001b[0m \u001b[38;5;28;01mfor\u001b[39;00m ch \u001b[38;5;129;01min\u001b[39;00m active_channel:\n\u001b[0;32m----> 6\u001b[0m     plt\u001b[38;5;241m.\u001b[39mplot(\u001b[43miv_processed_4250MHz_BL10\u001b[49m[\u001b[38;5;124m'\u001b[39m\u001b[38;5;124mVtes\u001b[39m\u001b[38;5;124m'\u001b[39m][ch],iv_processed_4250MHz_BL10[\u001b[38;5;124m'\u001b[39m\u001b[38;5;124mItes\u001b[39m\u001b[38;5;124m'\u001b[39m][ch])\n\u001b[1;32m      7\u001b[0m     \u001b[38;5;28mprint\u001b[39m(\u001b[38;5;124mf\u001b[39m\u001b[38;5;124m'\u001b[39m\u001b[38;5;124mChannel: \u001b[39m\u001b[38;5;132;01m{\u001b[39;00mch\u001b[38;5;132;01m}\u001b[39;00m\u001b[38;5;124m Frequency: \u001b[39m\u001b[38;5;132;01m{\u001b[39;00mnp\u001b[38;5;241m.\u001b[39mreal(iv_processed_4250MHz_BL10[\u001b[38;5;124m\"\u001b[39m\u001b[38;5;124mtime series data\u001b[39m\u001b[38;5;124m\"\u001b[39m][\u001b[38;5;124m\"\u001b[39m\u001b[38;5;124mchannel freqs\u001b[39m\u001b[38;5;124m\"\u001b[39m][ch])\u001b[38;5;132;01m}\u001b[39;00m\u001b[38;5;124m'\u001b[39m)\n",
      "\u001b[0;31mNameError\u001b[0m: name 'iv_processed_4250MHz_BL10' is not defined"
     ]
    }
   ],
   "source": [
    "#view IV curves - find a good one to examine\n",
    "\n",
    "active_channel = [3] #range(len(iv_processed_4250MHz_BL10))\n",
    "\n",
    "for ch in active_channel:\n",
    "    plt.plot(iv_processed_4250MHz_BL10['Vtes'][ch],iv_processed_4250MHz_BL10['Ites'][ch])\n",
    "    print(f'Channel: {ch} Frequency: {np.real(iv_processed_4250MHz_BL10[\"time series data\"][\"channel freqs\"][ch])}')"
   ]
  },
  {
   "cell_type": "code",
   "execution_count": 3,
   "id": "d58acc53-6575-46b8-a4e6-3ef9959d5f4a",
   "metadata": {
    "tags": []
   },
   "outputs": [
    {
     "name": "stdout",
     "output_type": "stream",
     "text": [
      "4250.0\n",
      "20240506174818\n",
      "/home/matt/ali_drive_mnt/tone_initializations/fcenter_4250.0_20240506174818/\n",
      "num of channels: 1002\n",
      "num of tones: 233\n",
      "looking for delay region\n"
     ]
    },
    {
     "name": "stderr",
     "output_type": "stream",
     "text": [
      "/home/matt/readout/host/ali_offline_demod.py:679: RuntimeWarning: divide by zero encountered in log10\n",
      "  y=np.append(y,20*np.log10(np.abs(test_sweep[1,:])))\n"
     ]
    },
    {
     "name": "stdout",
     "output_type": "stream",
     "text": [
      "start = 4404608687.500062\n",
      "stop = 4414628218.750062\n",
      "3.2552083333333246\n",
      "n_phi0: 3.2552083333333246\n",
      "start index: 28\n"
     ]
    },
    {
     "data": {
      "application/vnd.jupyter.widget-view+json": {
       "model_id": "c16d96e929804ad5b771686b7eb10203",
       "version_major": 2,
       "version_minor": 0
      },
      "text/plain": [
       "  0%|          | 0/233 [00:00<?, ?it/s]"
      ]
     },
     "metadata": {},
     "output_type": "display_data"
    }
   ],
   "source": [
    "#look at the good iv curve's ts data\n",
    "imp.reload(dm)\n",
    "\n",
    "#ts_toneinit_fcenter_4250.0_20240221163542_t_20240221164159\n",
    "#ts_toneinit_fcenter_4250.0_20240221163542_t_20240221164021\n",
    "\n",
    "#ts_file = 'ts_toneinit_fcenter_4250.0_20240221163542_t_20240221164159.hd5' # -> BL 10 with FTS source\n",
    "#ts_file = 'ts_toneinit_fcenter_4250.0_20240216162215_t_20240216164412.hd5' # -> BL 10 with LN2 *****\n",
    "#ts_file = 'ts_toneinit_fcenter_4250.0_20240221163542_t_20240221164021.hd5'\n",
    "ts_file = 'ts_toneinit_fcenter_4250.0_20240506174818_t_20240506192250.hd5' # -> BL10 4250 MHz polarizer; note it takes a bit of time to process\n",
    "\n",
    "#/home/matt/ali_drive_mnt/time_streams\n",
    "\n",
    "test_ts_processed = dm.full_demod_process(ts_file,\n",
    "                                          f_sawtooth=15.0,\n",
    "                                          n=0,\n",
    "                                          channels='all',\n",
    "                                          tone_init_path = '/home/matt/ali_drive_mnt/tone_initializations', \n",
    "                                          ts_path = '/home/matt/ali_drive_mnt/time_streams')"
   ]
  },
  {
   "cell_type": "code",
   "execution_count": 73,
   "id": "8069e28e-7db5-4379-a6cc-f3decdf163ee",
   "metadata": {},
   "outputs": [
    {
     "name": "stdout",
     "output_type": "stream",
     "text": [
      "[3 3]\n"
     ]
    },
    {
     "name": "stderr",
     "output_type": "stream",
     "text": [
      "/home/matt/readout/host/ali_offline_demod.py:1194: ComplexWarning: Casting complex values to real discards the imaginary part\n",
      "  idups_ids=[fall[x,1].astype(int) for x in idups_redu]\n",
      "/home/matt/readout/host/ali_offline_demod.py:1200: ComplexWarning: Casting complex values to real discards the imaginary part\n",
      "  corrected_complex_data = apply_correction(eta_array, adc_i, adc_q)\n",
      "/home/matt/readout/host/ali_offline_demod.py:1202: ComplexWarning: Casting complex values to real discards the imaginary part\n",
      "  print(adc_q[22:25])\n"
     ]
    }
   ],
   "source": [
    "#match channels from IV dataset to channels from TES source ts dataset\n",
    "iv_freqs = iv_processed_4250MHz_BL10[\"time series data\"][\"channel freqs\"]\n",
    "ts_freqs = test_ts_processed[\"channel freqs\"]\n",
    "\n",
    "matched = dm.match_freqs(iv_freqs, ts_freqs)\n",
    "print(matched[3])"
   ]
  },
  {
   "cell_type": "code",
   "execution_count": 3,
   "id": "f34a67cb-abd3-4386-9e72-0ee05a67bdad",
   "metadata": {},
   "outputs": [
    {
     "data": {
      "image/png": "[encoded data removed]",
      "text/plain": [
       "<Figure size 432x288 with 1 Axes>"
      ]
     },
     "metadata": {
      "needs_background": "light"
     },
     "output_type": "display_data"
    }
   ],
   "source": [
    "#view ts raw\n",
    "active_channel = [3]#range(len(test_ts_processed['demod data']))\n",
    "for ch in active_channel:\n",
    "    plt.plot(test_ts_processed['fr t'], test_ts_processed['fr data'][ch],'.-')\n",
    "    for i in test_ts_processed['reset indices']:\n",
    "        plt.plot(test_ts_processed['fr t'][test_ts_processed['start index']+i], test_ts_processed['fr data'][ch][test_ts_processed['start index']+i],'.')\n",
    "    plt.vlines(test_ts_processed['t0']+test_ts_processed['fr t'][0],-2,2,'g')\n",
    "    plt.plot(test_ts_processed['fr t'][test_ts_processed['start index']], test_ts_processed['fr data'][ch][test_ts_processed['start index']],'r*')\n",
    "    "
   ]
  },
  {
   "cell_type": "code",
   "execution_count": 4,
   "id": "9039a0cb-0ab1-49e0-9167-4f9d3e89bc6a",
   "metadata": {},
   "outputs": [
    {
     "ename": "NameError",
     "evalue": "name 'test_ts_processed' is not defined",
     "output_type": "error",
     "traceback": [
      "\u001b[0;31m---------------------------------------------------------------------------\u001b[0m",
      "\u001b[0;31mNameError\u001b[0m                                 Traceback (most recent call last)",
      "Input \u001b[0;32mIn [4]\u001b[0m, in \u001b[0;36m<cell line: 4>\u001b[0;34m()\u001b[0m\n\u001b[1;32m      1\u001b[0m ch \u001b[38;5;241m=\u001b[39m \u001b[38;5;241m3\u001b[39m\n\u001b[0;32m----> 4\u001b[0m \u001b[38;5;28;01mfor\u001b[39;00m i \u001b[38;5;129;01min\u001b[39;00m \u001b[38;5;28mrange\u001b[39m(\u001b[38;5;28mlen\u001b[39m(\u001b[43mtest_ts_processed\u001b[49m[\u001b[38;5;124m'\u001b[39m\u001b[38;5;124mreset indices\u001b[39m\u001b[38;5;124m'\u001b[39m])\u001b[38;5;241m-\u001b[39m\u001b[38;5;241m2\u001b[39m):\n\u001b[1;32m      5\u001b[0m     start \u001b[38;5;241m=\u001b[39m test_ts_processed[\u001b[38;5;124m'\u001b[39m\u001b[38;5;124mstart index\u001b[39m\u001b[38;5;124m'\u001b[39m] \u001b[38;5;241m+\u001b[39m test_ts_processed[\u001b[38;5;124m'\u001b[39m\u001b[38;5;124mreset indices\u001b[39m\u001b[38;5;124m'\u001b[39m][i]\n\u001b[1;32m      6\u001b[0m     stop \u001b[38;5;241m=\u001b[39m test_ts_processed[\u001b[38;5;124m'\u001b[39m\u001b[38;5;124mreset indices\u001b[39m\u001b[38;5;124m'\u001b[39m][i\u001b[38;5;241m+\u001b[39m\u001b[38;5;241m2\u001b[39m]\n",
      "\u001b[0;31mNameError\u001b[0m: name 'test_ts_processed' is not defined"
     ]
    }
   ],
   "source": [
    "ch = 3\n",
    "\n",
    "\n",
    "for i in range(len(test_ts_processed['reset indices'])-2):\n",
    "    start = test_ts_processed['start index'] + test_ts_processed['reset indices'][i]\n",
    "    stop = test_ts_processed['reset indices'][i+2]\n",
    "    plt.plot(test_ts_processed['fr t'][start:stop]-test_ts_processed['fr t'][start], test_ts_processed['fr data'][ch][start:stop],'.-')\n",
    "    \n",
    "#plt.plot(test_ts_processed['fr t'], test_ts_processed['fr data'][ch],'--')"
   ]
  },
  {
   "cell_type": "code",
   "execution_count": 143,
   "id": "027f4c67-7c35-4039-9700-9c875b5b2279",
   "metadata": {},
   "outputs": [
    {
     "name": "stdout",
     "output_type": "stream",
     "text": [
      "Channel: 3 Frequency: 4053295757.8125496\n"
     ]
    }
   ],
   "source": [
    "#view ts processed\n",
    "active_channel = [3]#range(len(test_ts_processed['demod data']))\n",
    "\n",
    "for ch in active_channel:\n",
    "    plt.plot(test_ts_processed['demod t'], test_ts_processed['demod data'][ch])\n",
    "    print(f'Channel: {ch} Frequency: {np.real(test_ts_processed[\"channel freqs\"][ch])}')"
   ]
  },
  {
   "cell_type": "code",
   "execution_count": null,
   "id": "6d144990-049d-41aa-993d-5e18d79be999",
   "metadata": {
    "tags": []
   },
   "outputs": [
    {
     "name": "stdout",
     "output_type": "stream",
     "text": [
      "4250.0\n",
      "20240306105515\n",
      "/home/matt/alicpt_data/tone_initializations/fcenter_4250.0_20240306105515/\n",
      "[4.09189751e+09+0.j 4.09497738e+09+0.j 4.09774300e+09+0.j\n",
      " 4.09864544e+09+0.j 4.10049907e+09+0.j 4.10224419e+09+0.j]\n",
      "num of channels: 6\n",
      "num of tones: 6\n",
      "looking for delay region\n"
     ]
    },
    {
     "name": "stderr",
     "output_type": "stream",
     "text": [
      "/home/matt/readout/host/ali_offline_demod.py:679: RuntimeWarning: divide by zero encountered in log10\n",
      "  y=np.append(y,20*np.log10(np.abs(test_sweep[1,:])))\n"
     ]
    },
    {
     "name": "stdout",
     "output_type": "stream",
     "text": [
      "start = 4404106710.937561\n",
      "stop = 4414126242.187561\n"
     ]
    }
   ],
   "source": [
    "processed_data = dm.full_demod_process('ts_toneinit_fcenter_4250.0_20240306105515_t_20240306110342.hd5',\n",
    "                                       f_sawtooth=15.0,\n",
    "                                       n=3,\n",
    "                                       channels='some',\n",
    "                                       start_channel=0,\n",
    "                                       stop_channel=5,\n",
    "                                       tone_init_path = '/home/matt/alicpt_data/tone_initializations',\n",
    "                                       ts_path = '/home/matt/alicpt_data/beam_map_data/toneinit_fcenter_4250.0_20240306105515_t_20240306110300')"
   ]
  },
  {
   "cell_type": "code",
   "execution_count": 10,
   "id": "242b0b6d-b36a-48b0-9551-bbfb1bb4a71e",
   "metadata": {},
   "outputs": [
    {
     "name": "stdout",
     "output_type": "stream",
     "text": [
      "[3 3]\n"
     ]
    }
   ],
   "source": [
    "#match channels from IV dataset to channels from beam mapper dataset\n",
    "\n",
    "iv_freqs = iv_processed_4250MHz_BL10[\"time series data\"][\"channel freqs\"]\n",
    "bm_freqs = processed_data[\"channel freqs\"]\n",
    "\n",
    "matched = dm.match_freqs(iv_freqs, ts_freqs)\n",
    "print(matched[3])"
   ]
  },
  {
   "cell_type": "code",
   "execution_count": 12,
   "id": "bffe4af6-b830-4818-a20c-9584b4c1e4d3",
   "metadata": {},
   "outputs": [
    {
     "name": "stdout",
     "output_type": "stream",
     "text": [
      "Channel: 3 Frequency: 4098645437.5000505\n"
     ]
    }
   ],
   "source": [
    "#view beam map raw\n",
    "%matplotlib qt\n",
    "active_channel = [3]#range(len(test_ts_processed['demod data']))\n",
    "\n",
    "for ch in active_channel:\n",
    "    plt.plot(processed_data['fr t'], processed_data['fr data'][ch])\n",
    "    print(f'Channel: {ch} Frequency: {np.real(processed_data[\"channel freqs\"][ch])}')"
   ]
  },
  {
   "cell_type": "code",
   "execution_count": 190,
   "id": "0d17f369-dd13-418e-95e1-0d37913b32ec",
   "metadata": {},
   "outputs": [
    {
     "name": "stdout",
     "output_type": "stream",
     "text": [
      "Channel: 3 Frequency: 4098645437.5000505\n"
     ]
    }
   ],
   "source": [
    "#view beam map processed\n",
    "active_channel = [3]#range(len(test_ts_processed['demod data']))\n",
    "\n",
    "for ch in active_channel:\n",
    "    plt.plot(processed_data['demod t'], processed_data['demod data'][ch])\n",
    "    print(f'Channel: {ch} Frequency: {np.real(processed_data[\"channel freqs\"][ch])}')"
   ]
  },
  {
   "cell_type": "code",
   "execution_count": 112,
   "id": "ad3cab0a-307a-48ae-9977-bb35bc83ec7d",
   "metadata": {},
   "outputs": [],
   "source": [
    "#chao-lin's interpolation idea\n",
    "\n",
    "#generate flux ramp signal that matches the parameters we used during testing (this is for visuals)\n",
    "\n",
    "fig, ax = plt.subplots(1)\n",
    "\n",
    "sample_rate = 1000 #samples/s\n",
    "start_t = 0 #s\n",
    "end_t = 2/15 #s\n",
    "\n",
    "f_sawtooth = 15 #Hz\n",
    "n_Phi0 = 3.2368701718642683\n",
    "\n",
    "t = np.arange(start_t,end_t,1/sample_rate)\n",
    "\n",
    "\n",
    "t_fr, fr = dm.generate_flux_ramp(t, n_Phi0=n_Phi0, f_sawtooth=f_sawtooth, plot = False, plot_len = None)\n",
    "average_fr = np.average(fr)\n",
    "\n",
    "\n",
    "ax.plot(t_fr,fr-average_fr)\n",
    "\n",
    "ch = 3\n",
    "\n",
    "\n",
    "for i in range(len(test_ts_processed['reset indices'])-2):\n",
    "    start = test_ts_processed['start index'] + test_ts_processed['reset indices'][i]\n",
    "    stop = test_ts_processed['reset indices'][i+2]\n",
    "    average = np.average(test_ts_processed['fr data'][ch])\n",
    "    ax.plot(test_ts_processed['fr t'][start:stop]-test_ts_processed['fr t'][start], test_ts_processed['fr data'][ch][start:stop]-average,'.-')\n",
    "    "
   ]
  },
  {
   "cell_type": "code",
   "execution_count": 113,
   "id": "f4c6e563-f0b9-4237-9cec-c96b3f56442f",
   "metadata": {},
   "outputs": [
    {
     "data": {
      "text/plain": [
       "[<matplotlib.lines.Line2D at 0x7fb8aa6d0f40>]"
      ]
     },
     "execution_count": 113,
     "metadata": {},
     "output_type": "execute_result"
    }
   ],
   "source": [
    "from scipy.interpolate import CubicSpline, interp1d\n",
    "\n",
    "fig, ax = plt.subplots(1)\n",
    "\n",
    "t_fr, fr = dm.generate_flux_ramp(t, n_Phi0=n_Phi0, f_sawtooth=f_sawtooth, plot = False, plot_len = None)\n",
    "average_fr = np.average(fr)\n",
    "\n",
    "ax.plot(t_fr,fr-average_fr)\n",
    "\n",
    "demod_data = np.array([])\n",
    "demod_t = np.array([])\n",
    "for i in [0]:#range(len(test_ts_processed['reset indices'])-2):\n",
    "    start = test_ts_processed['start index'] + test_ts_processed['reset indices'][i]\n",
    "    stop = test_ts_processed['reset indices'][i+2]\n",
    "    average = np.average(test_ts_processed['fr data'][ch])\n",
    "    \n",
    "    interpolation = CubicSpline(test_ts_processed['fr t'][start:stop]-test_ts_processed['fr t'][start], \n",
    "                                test_ts_processed['fr data'][ch][start:stop]-average)\n",
    "    t_new = np.linspace(0,test_ts_processed['fr t'][stop]-test_ts_processed['fr t'][start],1024)\n",
    "    \n",
    "    ax.plot(test_ts_processed['fr t'][start:stop]-test_ts_processed['fr t'][start], \n",
    "            test_ts_processed['fr data'][ch][start:stop]-average,\n",
    "            '*')\n",
    "    \n",
    "    t_windowed = t_new#t_new[:len(t_new)-200]\n",
    "    interp_windowed = interpolation(t_new)#[:len(t_new)-200]\n",
    "    \n",
    "    ax.plot(t_windowed,interp_windowed,'.-')\n",
    "    \n",
    "    num = np.sum(interp_windowed*np.sin(2*np.pi*n_Phi0*f_sawtooth*t_windowed))\n",
    "    den = np.sum(interp_windowed*np.cos(2*np.pi*n_Phi0*f_sawtooth*t_windowed))\n",
    "    \n",
    "    \n",
    "    #num = np.sum(interpolation(t_new)*np.sin(2*np.pi*n_Phi0*f_sawtooth*t_new))\n",
    "    #den = np.sum(interpolation(t_new)*np.cos(2*np.pi*n_Phi0*f_sawtooth*t_new))\n",
    "    \n",
    "    demod_data = np.append(demod_data, np.arctan2(num, den))\n",
    "    demod_t = np.append(demod_t, np.average(test_ts_processed['fr t'][start:stop])) #simple test is to make time the average time in the chunk\n",
    "\n",
    "fig2, ax2 = plt.subplots(1)\n",
    "ax2.plot(demod_t, demod_data,'.-')\n",
    "    \n",
    "    \n",
    "    "
   ]
  },
  {
   "cell_type": "code",
   "execution_count": 114,
   "id": "b0c21f8e-1299-4652-8d94-9e9c284a5d7e",
   "metadata": {},
   "outputs": [
    {
     "data": {
      "text/plain": [
       "[<matplotlib.lines.Line2D at 0x7fb8b7641ab0>]"
      ]
     },
     "execution_count": 114,
     "metadata": {},
     "output_type": "execute_result"
    }
   ],
   "source": [
    "\"\"\"\n",
    "next steps:\n",
    "\n",
    "single channel, break down the entire process step by step manually\n",
    "\n",
    "1: define a good t0\n",
    "2: identify all of the flux ramp reset points\n",
    "3: attempt to demodulate on each resulting chunk\n",
    "   a. use 1024 points or a smaller power of 2\n",
    "   b. use actual fft to get first 3 terms\n",
    "   c. reinject phase (try to reproduce the original data exactly)\n",
    "   \n",
    "   add to doc:\n",
    "   synchronize the fr and detector sampling\n",
    "   time spacing\n",
    "\"\"\"\n",
    "\n",
    "#raw data\n",
    "fig, ax = plt.subplots(1)\n",
    "ax.plot(test_ts_processed['fr t'], test_ts_processed['fr data'][3],'.-')\n",
    "\n",
    "#manually setting t0 to the 28th pt\n",
    "t_t0shifted = test_ts_processed['fr t'][28:]\n",
    "fr_t0shifted = test_ts_processed['fr data'][3][28:]\n",
    "fig2, ax2 = plt.subplots(1)\n",
    "ax2.plot(t_t0shifted,fr_t0shifted,'.-')"
   ]
  },
  {
   "cell_type": "code",
   "execution_count": 115,
   "id": "a7863921-201d-40fa-b07e-b5939bad5c95",
   "metadata": {},
   "outputs": [
    {
     "data": {
      "text/plain": [
       "<matplotlib.legend.Legend at 0x7fb8ce99bbe0>"
      ]
     },
     "execution_count": 115,
     "metadata": {},
     "output_type": "execute_result"
    }
   ],
   "source": [
    "#trying out fft fitting method\n",
    "\n",
    "from scipy.fft import fft, ifft, fftfreq\n",
    "from copy import deepcopy\n",
    "\n",
    "#first an initial test of the fft with a simple sine wave\n",
    "\n",
    "sample_rate = 10 #Hz\n",
    "frequency = 1 #Hz\n",
    "phi = 0 #rad\n",
    "\n",
    "t = np.arange(0,10,1/sample_rate)\n",
    "signal = np.exp(-0.1*t)*np.sin(frequency*t+phi)\n",
    "\n",
    "\n",
    "plt.plot(t,signal,'.')\n",
    "\n",
    "\n",
    "signal_fft = fft(signal)\n",
    "\n",
    "first_term = deepcopy(signal_fft)\n",
    "\n",
    "np.put(first_term, np.arange(1,len(signal_fft),1).astype(int), 0.0)\n",
    "\n",
    "first_term_ifft = ifft(first_term)\n",
    "\n",
    "plt.plot(t, first_term_ifft,label='one term')\n",
    "\n",
    "first_two_terms = deepcopy(signal_fft)\n",
    "np.put(first_two_terms, np.arange(2,len(signal_fft),1).astype(int), 0.0)\n",
    "\n",
    "first_two_terms_ifft = ifft(first_two_terms)\n",
    "\n",
    "plt.plot(t, first_two_terms_ifft,label='two terms')\n",
    "\n",
    "first_three_terms = deepcopy(signal_fft)\n",
    "np.put(first_three_terms, np.arange(3,len(signal_fft),1).astype(int), 0.0)\n",
    "\n",
    "first_three_terms_ifft = ifft(first_three_terms)\n",
    "\n",
    "plt.plot(t, first_three_terms_ifft,label='three terms')\n",
    "\n",
    "all_terms_ifft = ifft(signal_fft)\n",
    "plt.plot(t, all_terms_ifft,label=f'{len(t)} terms (all)')\n",
    "\n",
    "plt.legend()\n",
    "\n"
   ]
  },
  {
   "cell_type": "code",
   "execution_count": 116,
   "id": "fa1c8a61-1ba2-414b-b233-0b0f785b04dd",
   "metadata": {},
   "outputs": [],
   "source": [
    "#fft fitting method on our data\n",
    "%matplotlib qt\n",
    "\n",
    "\n",
    "fig, ax = plt.subplots(1)\n",
    "ch = 3\n",
    "ax.plot(test_ts_processed['fr t'],test_ts_processed['fr data'][ch],'.-')\n",
    "\n",
    "#chunk and overplot\n",
    "fig2, ax2 = plt.subplots(1)\n",
    "for chunk in [0]:#range(len(test_ts_processed['reset indices'])-2):\n",
    "    start = test_ts_processed['start index'] + test_ts_processed['reset indices'][chunk]\n",
    "    stop = test_ts_processed['reset indices'][chunk+2]\n",
    "    average = np.average(test_ts_processed['fr data'][ch])\n",
    "    ax2.plot(test_ts_processed['fr t'][start:stop]-test_ts_processed['fr t'][start], test_ts_processed['fr data'][ch][start:stop]-average,'.-')\n",
    "    \n",
    "#interpolate (i.e., rebin)\n",
    "fig3, ax3 = plt.subplots(1)\n",
    "for chunk in [0]:#range(len(test_ts_processed['reset indices'])-2):\n",
    "    start = test_ts_processed['start index'] + test_ts_processed['reset indices'][chunk]\n",
    "    stop = test_ts_processed['reset indices'][chunk+2]\n",
    "    average = np.average(test_ts_processed['fr data'][ch])\n",
    "    \n",
    "    interpolation = CubicSpline(test_ts_processed['fr t'][start:stop]-test_ts_processed['fr t'][start], \n",
    "                                test_ts_processed['fr data'][ch][start:stop]-average)\n",
    "    t_new = np.linspace(0,test_ts_processed['fr t'][stop]-test_ts_processed['fr t'][start],1024)\n",
    "    \n",
    "    ax3.plot(t_new, interpolation(t_new),'.-')\n",
    "    \n",
    "#fit with fft\n",
    "\n",
    "fig4, ax4 = plt.subplots(1)\n",
    "for chunk in [0]:#range(len(test_ts_processed['reset indices'])-2):\n",
    "    \n",
    "    start = test_ts_processed['start index'] + test_ts_processed['reset indices'][chunk]\n",
    "    stop = test_ts_processed['reset indices'][chunk+2]\n",
    "    average = np.average(test_ts_processed['fr data'][ch])\n",
    "    \n",
    "    interpolation = CubicSpline(test_ts_processed['fr t'][start:stop]-test_ts_processed['fr t'][start], \n",
    "                                test_ts_processed['fr data'][ch][start:stop]-average)\n",
    "    t_new = np.linspace(0,test_ts_processed['fr t'][stop]-test_ts_processed['fr t'][start],1024)\n",
    "    \n",
    "    ax4.plot(t_new, interpolation(t_new),'.')\n",
    "\n",
    "    fft_interpolation = fft(interpolation(t_new))\n",
    "    \n",
    "    first_term = deepcopy(fft_interpolation)\n",
    "    np.put(first_term,np.arange(1,len(fft_interpolation),1),0.0)\n",
    "    first_term_ifft = ifft(first_term)\n",
    "\n",
    "    first_two_terms = deepcopy(fft_interpolation)\n",
    "    np.put(first_two_terms,np.arange(2,len(fft_interpolation),1),0.0)\n",
    "    first_two_terms_ifft = ifft(first_two_terms)\n",
    "\n",
    "    first_three_terms = deepcopy(fft_interpolation)\n",
    "    np.put(first_three_terms,np.arange(3,len(fft_interpolation),1),0.0)\n",
    "    first_three_terms_ifft = ifft(first_three_terms)\n",
    "    \n",
    "    first_ten_terms = deepcopy(fft_interpolation)\n",
    "    np.put(first_ten_terms,np.arange(10,len(fft_interpolation),1),0.0)\n",
    "    first_ten_terms_ifft = ifft(first_ten_terms)\n",
    "    \n",
    "    first_twenty_terms = deepcopy(fft_interpolation)\n",
    "    np.put(first_twenty_terms,np.arange(20,len(fft_interpolation),1),0.0)\n",
    "    first_twenty_terms_ifft = ifft(first_twenty_terms)\n",
    "    \n",
    "    first_onehundred_terms = deepcopy(fft_interpolation)\n",
    "    np.put(first_onehundred_terms,np.arange(100,len(fft_interpolation),1),0.0)\n",
    "    first_onehundred_terms_ifft = ifft(first_onehundred_terms)\n",
    "    \n",
    "    first_onethousand_terms = deepcopy(fft_interpolation)\n",
    "    np.put(first_onethousand_terms,np.arange(1000,len(fft_interpolation),1),0.0)\n",
    "    first_onethousand_terms_ifft = ifft(first_onethousand_terms)\n",
    "           \n",
    "    \n",
    "    all_terms_ifft = ifft(fft_interpolation)\n",
    "    \n",
    "    ax4.plot(t_new, first_term_ifft, label = 'n = 1')\n",
    "    ax4.plot(t_new, first_two_terms_ifft, label = 'n = 2')\n",
    "    ax4.plot(t_new, first_three_terms_ifft, label = 'n = 3')\n",
    "    ax4.plot(t_new, first_ten_terms_ifft, label = 'n = 10')\n",
    "    ax4.plot(t_new, first_twenty_terms_ifft, label = 'n = 20')\n",
    "    ax4.plot(t_new, first_onehundred_terms_ifft, label = 'n = 100')\n",
    "    ax4.plot(t_new, first_onethousand_terms_ifft, label = 'n = 1000')\n",
    "    ax4.plot(t_new, all_terms_ifft, label = f'n = {len(fft_interpolation)} (all)')\n",
    "    ax4.legend()\n"
   ]
  },
  {
   "cell_type": "code",
   "execution_count": 117,
   "id": "18d25149-9ecb-405a-8769-f3770ad03221",
   "metadata": {},
   "outputs": [
    {
     "name": "stdout",
     "output_type": "stream",
     "text": [
      "1024\n",
      "1024\n",
      "2048\n",
      "2048\n",
      "[0.00000000e+00 7.40361505e-05 1.48072301e-04 ... 1.51403928e-01\n",
      " 1.51477964e-01 1.51552000e-01]\n",
      "[-0.33049692 -0.29080747 -0.25174734 ...  0.          0.\n",
      "  0.        ]\n",
      "[ 88.12417917 -0.j         -25.71196238+20.01709101j\n",
      " 139.62498252 +3.9086978j  ... -38.30440106+19.13361391j\n",
      " 139.62498252 -3.9086978j  -25.71196238-20.01709101j]\n",
      "[  0.           6.5951734   13.1903468  ... -19.78552019 -13.1903468\n",
      "  -6.5951734 ]\n",
      "7\n",
      "46.16621378305799\n",
      "92.33242756611598\n"
     ]
    },
    {
     "data": {
      "text/plain": [
       "(0.0, 100.0)"
      ]
     },
     "execution_count": 117,
     "metadata": {},
     "output_type": "execute_result"
    }
   ],
   "source": [
    "\"\"\"\n",
    "After more conversations with Chao-Lin:\n",
    "\n",
    "1. Need to zero pad (same length as original vector)\n",
    "2. Look at the fft in frequency space; keep first 3 real terms\n",
    "\"\"\"\n",
    "\n",
    "fig, ax = plt.subplots(1)\n",
    "fig2, ax2 = plt.subplots(1)\n",
    "fig3, ax3 = plt.subplots(1)\n",
    "for chunk in [0]:#range(len(test_ts_processed['reset indices'])-2):\n",
    "    \n",
    "    start = test_ts_processed['start index'] + test_ts_processed['reset indices'][chunk]\n",
    "    stop = test_ts_processed['reset indices'][chunk+2]\n",
    "    average = np.average(test_ts_processed['fr data'][ch])\n",
    "    \n",
    "    interpolation = CubicSpline(test_ts_processed['fr t'][start:stop]-test_ts_processed['fr t'][start], \n",
    "                                test_ts_processed['fr data'][ch][start:stop]-average)\n",
    "    t_interp = np.linspace(0,test_ts_processed['fr t'][stop]-test_ts_processed['fr t'][start],1024)\n",
    "    sig_interp = interpolation(t_interp)\n",
    "    \n",
    "    t_zero_pad = np.linspace(0,(test_ts_processed['fr t'][stop]-test_ts_processed['fr t'][start])*2,len(t_interp)*2)\n",
    "    sig_zero_pad = np.append(sig_interp, np.zeros(len(sig_interp)))\n",
    "    \n",
    "    print(len(t_interp))\n",
    "    print(len(sig_interp))\n",
    "    print(len(t_zero_pad))\n",
    "    print(len(sig_zero_pad))\n",
    "    print(t_zero_pad)\n",
    "    print(sig_zero_pad)\n",
    "    \n",
    "    ax.plot(t_interp, sig_interp,'.',label='interpolation')\n",
    "    ax.plot(t_zero_pad, sig_zero_pad,'*',label='zero padded')\n",
    "\n",
    "    fft_zero_pad = fft(sig_zero_pad)\n",
    "    \n",
    "    fftfreqs_zero_pad = fftfreq(len(sig_zero_pad), np.median(np.diff(t_zero_pad)))\n",
    "    \n",
    "    print(fft_zero_pad)\n",
    "    \n",
    "    print(fftfreqs_zero_pad)\n",
    "    \n",
    "    ax2.stem(fftfreqs_zero_pad, np.abs(fft_zero_pad))\n",
    "    \n",
    "    print(np.argmax(np.abs(fft_zero_pad)))\n",
    "    \n",
    "    fundamental_index = np.argmax(np.abs(fft_zero_pad))\n",
    "    fundamental_freq = fftfreqs_zero_pad[fundamental_index]\n",
    "    print(fundamental_freq)\n",
    "    \n",
    "    n1_fft = deepcopy(fft_zero_pad)\n",
    "    np.put(n1_fft, np.arange(0,fundamental_index), 0.0)\n",
    "    np.put(n1_fft, np.arange(fundamental_index+1, len(n1_fft)), 0.0)\n",
    "    \n",
    "    n1 = ifft(n1_fft) \n",
    "    \n",
    "    ax.plot(t_zero_pad, n1)\n",
    "    \n",
    "    first_harmonic_index = fundamental_index * 2\n",
    "    first_harmonic_freq = fftfreqs_zero_pad[first_harmonic_index]\n",
    "    print(first_harmonic_freq)\n",
    "    \n",
    "    n2_fft = deepcopy(fft_zero_pad)\n",
    "    np.put(n2_fft, np.arange(0,fundamental_index), 0.0)\n",
    "    np.put(n2_fft, np.arange(fundamental_index+1,first_harmonic_index), 0.0)\n",
    "    np.put(n2_fft, np.arange(first_harmonic_index+1,len(n2_fft)), 0.0)\n",
    "    \n",
    "    n2 = ifft(n2_fft)\n",
    "    \n",
    "    ax.plot(t_zero_pad, n2)\n",
    "    \n",
    "    nall = ifft(fft_zero_pad)\n",
    "    \n",
    "    ax.plot(t_zero_pad, nall)\n",
    "        \n",
    "    \n",
    "\n",
    "ax2.set_xlim([0,100])\n",
    "    \n",
    "    \n",
    "#next build a function that can build up to a desired number of terms and plot them    \n",
    "    "
   ]
  },
  {
   "cell_type": "code",
   "execution_count": 118,
   "id": "09d5e262-6aee-40ad-8552-e7f7b91f306d",
   "metadata": {},
   "outputs": [
    {
     "name": "stdout",
     "output_type": "stream",
     "text": [
      "fundamental index: 7\n",
      "fundamental index: 7\n",
      "fundamental index: 7\n",
      "fundamental index: 7\n",
      "fundamental index: 7\n",
      "fundamental index: 7\n",
      "fundamental index: 7\n",
      "fundamental index: 7\n",
      "fundamental index: 7\n",
      "fundamental index: 7\n",
      "fundamental index: 7\n",
      "fundamental index: 7\n",
      "fundamental index: 7\n",
      "fundamental index: 7\n",
      "fundamental index: 7\n",
      "fundamental index: 7\n",
      "fundamental index: 7\n",
      "fundamental index: 7\n",
      "fundamental index: 7\n",
      "fundamental index: 7\n"
     ]
    },
    {
     "data": {
      "text/plain": [
       "Text(0, 0.5, 'Amplitude (arb.)')"
      ]
     },
     "execution_count": 118,
     "metadata": {},
     "output_type": "execute_result"
    }
   ],
   "source": [
    "def fft_fit(t, data, n):\n",
    "    data_fft = fft(data)\n",
    "    freqs = fftfreq(len(data), np.median(np.diff(t)))\n",
    "    \n",
    "    fundamental_idx = np.argmax(np.abs(data_fft))\n",
    "    print(f'fundamental index: {fundamental_idx}')\n",
    "    \n",
    "    multiplication_factors = np.arange(1,n+1,1)\n",
    "    #print(multiplication_factors)\n",
    "    fundamental_array = np.ones(n)*fundamental_idx\n",
    "    #print(fundamental_array)\n",
    "    preserve_idxs = (multiplication_factors * fundamental_array).astype(int)\n",
    "    #print(preserve_idxs)\n",
    "\n",
    "    mask = np.zeros(len(data_fft))\n",
    "    np.put(mask,preserve_idxs,1.0)\n",
    "    \n",
    "    n_limited_fft = data_fft * mask\n",
    "    \n",
    "    n_limited_fit = ifft(n_limited_fft)\n",
    "    \n",
    "    full_fit = ifft(data_fft)\n",
    "    \n",
    "    return freqs, data_fft, n_limited_fft, t, full_fit, n_limited_fit\n",
    "\n",
    "fig, ax = plt.subplots(1)\n",
    "fig2, (ax2_upper, ax2_lower) = plt.subplots(2)\n",
    "\n",
    "ax.plot(t_zero_pad, sig_zero_pad,'.',label='Raw Data')\n",
    "\n",
    "for n in np.arange(1,21,1):\n",
    "    freqs, data_fft, n_limited_fft, t, full_fit, n_limited_fit = fft_fit(t_zero_pad, sig_zero_pad, n)\n",
    "    ax.plot(t_zero_pad, n_limited_fit,label=f'n = {n}')\n",
    "    ax2_lower.stem(freqs, np.abs(n_limited_fft))\n",
    "    \n",
    "\n",
    "\n",
    "ax.plot(t, full_fit,'-.',label='all fft terms')\n",
    "ax2_upper.stem(freqs, np.abs(data_fft))\n",
    "\n",
    "\n",
    "ax.set_xlabel('t (s)')\n",
    "ax.set_ylabel('Amplitude (arb.)')\n",
    "ax.legend()\n",
    "\n",
    "ax2_lower.set_xlim([-0.01,500])\n",
    "ax2_upper.set_xlim([-0.01,500])\n",
    "ax2_lower.set_xlabel('Frequency (Hz)')\n",
    "ax2_lower.set_ylabel('Amplitude (arb.)')\n",
    "ax2_upper.set_ylabel('Amplitude (arb.)')"
   ]
  },
  {
   "cell_type": "code",
   "execution_count": 119,
   "id": "ad6d0bab-ef78-4d9b-aae2-c809722f0d85",
   "metadata": {},
   "outputs": [
    {
     "name": "stdout",
     "output_type": "stream",
     "text": [
      "[ 10  20  30  40  50  60  70  80  90 100 110 120 130 140 150 160 170 180\n",
      " 190 200]\n"
     ]
    }
   ],
   "source": [
    "fundamental_idx = 10\n",
    "n = 20\n",
    "\n",
    "multiplication_factors = np.arange(1,n+1,1)\n",
    "fundamental_array = np.ones(n)*fundamental_idx\n",
    "preserve_idxs = (multiplication_factors * fundamental_array).astype(int)\n",
    "print(preserve_idxs)\n",
    "\n",
    "#mask = np.zeros(len(data_fft))\n",
    "#np.put(mask,preserve_idxs,1.0)\n",
    "#print(mask)\n",
    "\n",
    "#print(preserve_idxs)"
   ]
  },
  {
   "cell_type": "code",
   "execution_count": 149,
   "id": "d2c9c8c7-071c-409f-a334-1120ed57c76f",
   "metadata": {},
   "outputs": [
    {
     "name": "stdout",
     "output_type": "stream",
     "text": [
      "[0.00000000e+00 6.20606061e-05 1.24121212e-04 ... 6.33638788e-02\n",
      " 6.34259394e-02 6.34880000e-02]\n",
      "[0.00000000e+00 6.20302882e-05 1.24060576e-04 ... 1.26851939e-01\n",
      " 1.26913970e-01 1.26976000e-01]\n",
      "fundamental index: 6\n"
     ]
    },
    {
     "name": "stderr",
     "output_type": "stream",
     "text": [
      "/tmp/ipykernel_2704/1639219603.py:69: MatplotlibDeprecationWarning: Passing the linefmt parameter positionally is deprecated since Matplotlib 3.5; the parameter will become keyword-only two minor releases later.\n",
      "  ax6_upper.stem(freqs, np.abs(n_limited_fft),'b', markerfmt='bo',label='abs')\n",
      "/tmp/ipykernel_2704/1639219603.py:70: MatplotlibDeprecationWarning: Passing the linefmt parameter positionally is deprecated since Matplotlib 3.5; the parameter will become keyword-only two minor releases later.\n",
      "  ax6_upper.stem(freqs, np.real(n_limited_fft),'r', markerfmt='ro',label='real')\n",
      "/tmp/ipykernel_2704/1639219603.py:71: MatplotlibDeprecationWarning: Passing the linefmt parameter positionally is deprecated since Matplotlib 3.5; the parameter will become keyword-only two minor releases later.\n",
      "  ax6_upper.stem(freqs, np.imag(n_limited_fft),'g', markerfmt='go',label='imag')\n",
      "/tmp/ipykernel_2704/1639219603.py:87: MatplotlibDeprecationWarning: Passing the linefmt parameter positionally is deprecated since Matplotlib 3.5; the parameter will become keyword-only two minor releases later.\n",
      "  ax8_upper.stem(freqs_rebinned, np.abs(n_limited_fft_rebinned),'b', markerfmt='bo',label='abs')\n",
      "/tmp/ipykernel_2704/1639219603.py:88: MatplotlibDeprecationWarning: Passing the linefmt parameter positionally is deprecated since Matplotlib 3.5; the parameter will become keyword-only two minor releases later.\n",
      "  ax8_upper.stem(freqs_rebinned, np.real(n_limited_fft_rebinned),'r', markerfmt='ro',label='real')\n",
      "/tmp/ipykernel_2704/1639219603.py:89: MatplotlibDeprecationWarning: Passing the linefmt parameter positionally is deprecated since Matplotlib 3.5; the parameter will become keyword-only two minor releases later.\n",
      "  ax8_upper.stem(freqs_rebinned, np.imag(n_limited_fft_rebinned),'g', markerfmt='go',label='imag')\n",
      "/tmp/ipykernel_2704/1639219603.py:73: MatplotlibDeprecationWarning: Passing the linefmt parameter positionally is deprecated since Matplotlib 3.5; the parameter will become keyword-only two minor releases later.\n",
      "  ax6_upper.stem(freqs, np.abs(n_limited_fft),'b', markerfmt='bo')\n",
      "/tmp/ipykernel_2704/1639219603.py:74: MatplotlibDeprecationWarning: Passing the linefmt parameter positionally is deprecated since Matplotlib 3.5; the parameter will become keyword-only two minor releases later.\n",
      "  ax6_upper.stem(freqs, np.real(n_limited_fft),'r', markerfmt='ro')\n",
      "/tmp/ipykernel_2704/1639219603.py:75: MatplotlibDeprecationWarning: Passing the linefmt parameter positionally is deprecated since Matplotlib 3.5; the parameter will become keyword-only two minor releases later.\n",
      "  ax6_upper.stem(freqs, np.imag(n_limited_fft),'g', markerfmt='go')\n",
      "/tmp/ipykernel_2704/1639219603.py:91: MatplotlibDeprecationWarning: Passing the linefmt parameter positionally is deprecated since Matplotlib 3.5; the parameter will become keyword-only two minor releases later.\n",
      "  ax8_upper.stem(freqs_rebinned, np.abs(n_limited_fft_rebinned),'b', markerfmt='bo')\n",
      "/tmp/ipykernel_2704/1639219603.py:92: MatplotlibDeprecationWarning: Passing the linefmt parameter positionally is deprecated since Matplotlib 3.5; the parameter will become keyword-only two minor releases later.\n",
      "  ax8_upper.stem(freqs_rebinned, np.real(n_limited_fft_rebinned),'r', markerfmt='ro')\n"
     ]
    },
    {
     "name": "stdout",
     "output_type": "stream",
     "text": [
      "fundamental index: 6\n"
     ]
    },
    {
     "name": "stderr",
     "output_type": "stream",
     "text": [
      "/tmp/ipykernel_2704/1639219603.py:93: MatplotlibDeprecationWarning: Passing the linefmt parameter positionally is deprecated since Matplotlib 3.5; the parameter will become keyword-only two minor releases later.\n",
      "  ax8_upper.stem(freqs_rebinned, np.imag(n_limited_fft_rebinned),'g', markerfmt='go')\n"
     ]
    },
    {
     "name": "stdout",
     "output_type": "stream",
     "text": [
      "fundamental index: 6\n",
      "fundamental index: 6\n",
      "fundamental index: 6\n",
      "fundamental index: 6\n",
      "fundamental index: 6\n",
      "fundamental index: 6\n",
      "fundamental index: 6\n",
      "fundamental index: 6\n"
     ]
    },
    {
     "name": "stderr",
     "output_type": "stream",
     "text": [
      "/tmp/ipykernel_2704/1639219603.py:99: MatplotlibDeprecationWarning: Passing the linefmt parameter positionally is deprecated since Matplotlib 3.5; the parameter will become keyword-only two minor releases later.\n",
      "  ax6_lower.stem(freqs, np.abs(data_fft),'b', markerfmt='bo',label='abs')\n",
      "/tmp/ipykernel_2704/1639219603.py:100: MatplotlibDeprecationWarning: Passing the linefmt parameter positionally is deprecated since Matplotlib 3.5; the parameter will become keyword-only two minor releases later.\n",
      "  ax6_lower.stem(freqs, np.real(data_fft),'r', markerfmt='ro',label='real')\n",
      "/tmp/ipykernel_2704/1639219603.py:101: MatplotlibDeprecationWarning: Passing the linefmt parameter positionally is deprecated since Matplotlib 3.5; the parameter will become keyword-only two minor releases later.\n",
      "  ax6_lower.stem(freqs, np.imag(data_fft),'g', markerfmt='go',label='imag')\n",
      "/tmp/ipykernel_2704/1639219603.py:105: MatplotlibDeprecationWarning: Passing the linefmt parameter positionally is deprecated since Matplotlib 3.5; the parameter will become keyword-only two minor releases later.\n",
      "  ax8_lower.stem(freqs_rebinned, np.abs(data_fft_rebinned),'b', markerfmt='bo',label='abs')\n",
      "/tmp/ipykernel_2704/1639219603.py:106: MatplotlibDeprecationWarning: Passing the linefmt parameter positionally is deprecated since Matplotlib 3.5; the parameter will become keyword-only two minor releases later.\n",
      "  ax8_lower.stem(freqs_rebinned, np.real(data_fft_rebinned),'r', markerfmt='ro',label='real')\n",
      "/tmp/ipykernel_2704/1639219603.py:107: MatplotlibDeprecationWarning: Passing the linefmt parameter positionally is deprecated since Matplotlib 3.5; the parameter will become keyword-only two minor releases later.\n",
      "  ax8_lower.stem(freqs_rebinned, np.imag(data_fft_rebinned),'g', markerfmt='go',label='imag')\n"
     ]
    },
    {
     "data": {
      "text/plain": [
       "Text(0, 0.5, 'Amplitude (arb.)')"
      ]
     },
     "execution_count": 149,
     "metadata": {},
     "output_type": "execute_result"
    }
   ],
   "source": [
    "\"\"\"\n",
    "Next steps:\n",
    "1. cut the reset region\n",
    "2. zero pad (2N points)\n",
    "3. fft fit as we have been doing (useful to plot real, imaginary, and abs)\n",
    "4. Bin back to N points\n",
    "\"\"\"\n",
    "chunk = 0\n",
    "zero_pad_multiple = 2\n",
    "\n",
    "start = test_ts_processed['start index'] + test_ts_processed['reset indices'][chunk]\n",
    "stop = test_ts_processed['reset indices'][chunk+2]\n",
    "average = np.average(test_ts_processed['fr data'][ch])\n",
    "\n",
    "t_chunk = test_ts_processed['fr t'][start:stop]-test_ts_processed['fr t'][start]\n",
    "sig_chunk = test_ts_processed['fr data'][ch][start:stop]-average\n",
    "\n",
    "fig, ax = plt.subplots(1)\n",
    "ax.plot(t_chunk,sig_chunk,'.--')\n",
    "ax.set_xlabel('t (s)')\n",
    "ax.set_ylabel('Amplitude (arb.)')\n",
    "ax.set_title('Single FR Raw Data')\n",
    "\n",
    "t_reset_removed = t_chunk[:-5] #just manually removing the reset for right now\n",
    "sig_reset_removed = sig_chunk[:-5]\n",
    "\n",
    "fig2, ax2 = plt.subplots(1)\n",
    "ax2.plot(t_reset_removed,sig_reset_removed,'.--')\n",
    "ax2.set_xlabel('t (s)')\n",
    "ax2.set_ylabel('Amplitude (arb.)')\n",
    "ax2.set_title('Reset Removed')\n",
    "\n",
    "interpolation = CubicSpline(t_reset_removed,sig_reset_removed)\n",
    "\n",
    "t_interp = np.linspace(0,t_reset_removed[-1]-t_reset_removed[0],1024)\n",
    "sig_interp = interpolation(t_interp)\n",
    "\n",
    "fig3, ax3 = plt.subplots(1)\n",
    "ax3.plot(t_interp, sig_interp,'.')\n",
    "ax3.set_xlabel('t (s)')\n",
    "ax3.set_ylabel('Amplitude (arb.)')\n",
    "ax3.set_title('N = 1024 pt. Cubic Spline Interpolation')\n",
    "\n",
    "print(t_interp)\n",
    "t_zero_pad = np.linspace(0,2*(t_interp[-1]-t_interp[0]),2*len(t_interp))#np.linspace(0,(t_interp[-1]-t_interp[0]),len(t_interp)*zero_pad_multiple)\n",
    "print(t_zero_pad)\n",
    "sig_zero_pad = np.append(sig_interp, np.zeros(len(sig_interp)*(zero_pad_multiple-1)))\n",
    "\n",
    "fig4, ax4 = plt.subplots(1)\n",
    "ax4.plot(t_zero_pad,sig_zero_pad,'.')\n",
    "ax4.set_xlabel('t (s)')\n",
    "ax4.set_ylabel('Amplitude (arb.)')\n",
    "ax4.set_title(f'Zero Pad to {zero_pad_multiple}*N = {zero_pad_multiple*1024} pts.')\n",
    "\n",
    "#make and check ffts\n",
    "fig5, ax5 = plt.subplots(1) #fits with 2*N fft\n",
    "fig6, (ax6_upper,ax6_lower) = plt.subplots(2) #2*N fft in freq space\n",
    "fig7, ax7 = plt.subplots(1) #fits with N fft\n",
    "fig8, (ax8_upper,ax8_lower) = plt.subplots(2) #N fft in freq space\n",
    "\n",
    "ax5.plot(t_zero_pad,sig_zero_pad,'.',label='data')\n",
    "ax7.plot(t_interp,sig_interp,'.',label='data')\n",
    "\n",
    "first = 0\n",
    "for n in np.arange(1,11,1):\n",
    "    freqs, data_fft, n_limited_fft, t, full_fit, n_limited_fit = fft_fit(t_zero_pad, sig_zero_pad, n)\n",
    "    ax5.plot(t_zero_pad, n_limited_fit,label=f'n = {n}')\n",
    "    if first == 0:\n",
    "        ax6_upper.stem(freqs, np.abs(n_limited_fft),'b', markerfmt='bo',label='abs')\n",
    "        ax6_upper.stem(freqs, np.real(n_limited_fft),'r', markerfmt='ro',label='real')\n",
    "        ax6_upper.stem(freqs, np.imag(n_limited_fft),'g', markerfmt='go',label='imag')\n",
    "    else:\n",
    "        ax6_upper.stem(freqs, np.abs(n_limited_fft),'b', markerfmt='bo')\n",
    "        ax6_upper.stem(freqs, np.real(n_limited_fft),'r', markerfmt='ro')\n",
    "        ax6_upper.stem(freqs, np.imag(n_limited_fft),'g', markerfmt='go')\n",
    "    \n",
    "    #bin back to n points\n",
    "    freqs_rebinned = [np.average([freqs[i], freqs[i+1]]) for i in np.arange(0,int(len(n_limited_fft)),2)]#range(int(len(n_limited_fft)/zero_pad_multiple))]\n",
    "    data_fft_rebinned = [np.average([data_fft[i], data_fft[i+1]]) for i in np.arange(0,int(len(n_limited_fft)),2)]#range(int(len(n_limited_fft)/zero_pad_multiple))]\n",
    "    full_fit_rebinned = ifft(data_fft_rebinned)\n",
    "    t_rebinned = t_interp#t_zero_pad[:int(len(t_zero_pad)/2)]\n",
    "    n_limited_fft_rebinned = [np.average([n_limited_fft[i], n_limited_fft[i+1]]) for i in np.arange(0,int(len(n_limited_fft)),2)]#range(int(len(n_limited_fft)/zero_pad_multiple))]\n",
    "    n_limited_fit_rebinned = ifft(n_limited_fft_rebinned)\n",
    "    \n",
    "    ax7.plot(t_rebinned, n_limited_fit_rebinned,label=f'n = {n}')\n",
    "    if first == 0:\n",
    "        ax8_upper.stem(freqs_rebinned, np.abs(n_limited_fft_rebinned),'b', markerfmt='bo',label='abs')\n",
    "        ax8_upper.stem(freqs_rebinned, np.real(n_limited_fft_rebinned),'r', markerfmt='ro',label='real')\n",
    "        ax8_upper.stem(freqs_rebinned, np.imag(n_limited_fft_rebinned),'g', markerfmt='go',label='imag')\n",
    "    else:\n",
    "        ax8_upper.stem(freqs_rebinned, np.abs(n_limited_fft_rebinned),'b', markerfmt='bo')\n",
    "        ax8_upper.stem(freqs_rebinned, np.real(n_limited_fft_rebinned),'r', markerfmt='ro')\n",
    "        ax8_upper.stem(freqs_rebinned, np.imag(n_limited_fft_rebinned),'g', markerfmt='go')\n",
    "\n",
    "    first = 1\n",
    "    \n",
    "ax5.plot(t,full_fit,'-.',label='n = all')\n",
    "    \n",
    "ax6_lower.stem(freqs, np.abs(data_fft),'b', markerfmt='bo',label='abs')\n",
    "ax6_lower.stem(freqs, np.real(data_fft),'r', markerfmt='ro',label='real')\n",
    "ax6_lower.stem(freqs, np.imag(data_fft),'g', markerfmt='go',label='imag')\n",
    "    \n",
    "ax7.plot(t_rebinned,full_fit_rebinned,'-.',label='n = all')\n",
    "\n",
    "ax8_lower.stem(freqs_rebinned, np.abs(data_fft_rebinned),'b', markerfmt='bo',label='abs')\n",
    "ax8_lower.stem(freqs_rebinned, np.real(data_fft_rebinned),'r', markerfmt='ro',label='real')\n",
    "ax8_lower.stem(freqs_rebinned, np.imag(data_fft_rebinned),'g', markerfmt='go',label='imag')\n",
    "    \n",
    "    \n",
    "    \n",
    "ax5.legend()\n",
    "ax5.set_xlabel('t (s)')\n",
    "ax5.set_ylabel('Amplitude (arb.)')\n",
    "ax5.set_title('Data Fitting without Rebinning')\n",
    "    \n",
    "ax6_upper.set_xlim([-0.5,500])\n",
    "ax6_lower.set_xlim([-0.5,500])\n",
    "ax6_upper.legend()\n",
    "ax6_lower.legend()\n",
    "ax6_lower.set_xlabel('Frequency (Hz)')\n",
    "ax6_lower.set_ylabel('Amplitude (arb.)')\n",
    "ax6_upper.set_ylabel('Amplitude (arb.)')\n",
    "\n",
    "ax7.legend()\n",
    "ax7.set_xlabel('t (s)')\n",
    "ax7.set_ylabel('Amplitude (arb.)')\n",
    "ax7.set_title('Data Fitting with Rebinning')\n",
    "\n",
    "ax8_upper.set_xlim([-0.5,500])\n",
    "ax8_lower.set_xlim([-0.5,500])\n",
    "ax8_upper.legend()\n",
    "ax8_lower.legend()\n",
    "ax8_lower.set_xlabel('Frequency (Hz)')\n",
    "ax8_lower.set_ylabel('Amplitude (arb.)')\n",
    "ax8_upper.set_ylabel('Amplitude (arb.)')\n",
    "\n",
    "\n",
    "#check fits\n",
    "#fig7, ax7 = plt.subplots(1)\n",
    "\n",
    "\n",
    "\n",
    "#fig7, "
   ]
  },
  {
   "cell_type": "code",
   "execution_count": 146,
   "id": "8d47bc19-75c6-4b5b-b0c6-1f9af1f4f832",
   "metadata": {
    "tags": []
   },
   "outputs": [
    {
     "name": "stdout",
     "output_type": "stream",
     "text": [
      "fundamental index: 5\n"
     ]
    },
    {
     "data": {
      "text/plain": [
       "[<matplotlib.lines.Line2D at 0x7fb8ca264130>]"
      ]
     },
     "execution_count": 146,
     "metadata": {},
     "output_type": "execute_result"
    }
   ],
   "source": [
    "\"\"\"\n",
    "Now make sure I fold in the complex conjugate\n",
    "adjust to make sure the dc offset is included\n",
    "\"\"\"\n",
    "\n",
    "\n",
    "\n",
    "\n",
    "\n",
    "#full fft\n",
    "fig, ax = plt.subplots(1)\n",
    "ax.stem(freqs, np.abs(data_fft))\n",
    "ax.set_xlim([-500,500])\n",
    "\n",
    "\n",
    "\n",
    "\n",
    "combined = data_fft[1]+data_fft[-1]\n",
    "\n",
    "\n",
    "\n",
    "\n",
    "fundamental_idx = np.argmax(np.abs(data_fft))\n",
    "\n",
    "\n",
    "\n",
    "#produce harmonic limited ffts\n",
    "fixed_fundamental_fft = deepcopy(data_fft)\n",
    "np.put(fixed_fundamental_fft,np.arange(0,fundamental_idx),0.0)\n",
    "np.put(fixed_fundamental_fft,np.arange(fundamental_idx+1,len(data_fft)-fundamental_idx),0.0)\n",
    "np.put(fixed_fundamental_fft,np.arange(len(data_fft)-fundamental_idx+1,len(data_fft)),0.0)\n",
    "\n",
    "fixed_first_harmonic_fft = deepcopy(data_fft)\n",
    "first_harmonic_idx = fundamental_idx*2\n",
    "np.put(fixed_first_harmonic_fft,np.arange(0,fundamental_idx),0.0)\n",
    "np.put(fixed_first_harmonic_fft,np.arange(fundamental_idx+1,first_harmonic_idx),0.0)\n",
    "np.put(fixed_first_harmonic_fft,np.arange(first_harmonic_idx+1,len(data_fft)-first_harmonic_idx),0.0)\n",
    "np.put(fixed_first_harmonic_fft,np.arange(len(data_fft)-first_harmonic_idx+1,len(data_fft)-fundamental_idx),0.0)\n",
    "np.put(fixed_first_harmonic_fft,np.arange(len(data_fft)-fundamental_idx+1,len(data_fft)),0.0)\n",
    "\n",
    "fixed_third_harmonic_fft = deepcopy(data_fft)\n",
    "first_harmonic_idx = fundamental_idx*2\n",
    "second_harmonic_idx = fundamental_idx*3\n",
    "third_harmonic_idx = fundamental_idx*4\n",
    "np.put(fixed_third_harmonic_fft,np.arange(0,fundamental_idx),0.0)\n",
    "np.put(fixed_third_harmonic_fft,np.arange(fundamental_idx+1,first_harmonic_idx),0.0)\n",
    "np.put(fixed_third_harmonic_fft,np.arange(first_harmonic_idx+1,second_harmonic_idx),0.0)\n",
    "np.put(fixed_third_harmonic_fft,np.arange(second_harmonic_idx+1,third_harmonic_idx),0.0)\n",
    "np.put(fixed_third_harmonic_fft,np.arange(third_harmonic_idx+1,len(data_fft)-third_harmonic_idx),0.0)\n",
    "np.put(fixed_third_harmonic_fft,np.arange(len(data_fft)-third_harmonic_idx+1,len(data_fft)-second_harmonic_idx),0.0)\n",
    "np.put(fixed_third_harmonic_fft,np.arange(len(data_fft)-second_harmonic_idx+1,len(data_fft)-first_harmonic_idx),0.0)\n",
    "np.put(fixed_third_harmonic_fft,np.arange(len(data_fft)-first_harmonic_idx+1,len(data_fft)-fundamental_idx),0.0)\n",
    "np.put(fixed_third_harmonic_fft,np.arange(len(data_fft)-fundamental_idx+1,len(data_fft)),0.0)\n",
    "\n",
    "#print(fixed_fundamental_fft)\n",
    "\n",
    "#produce fits\n",
    "full_fit = ifft(data_fft)\n",
    "fixed_fundamental_fit = ifft(fixed_fundamental_fft)\n",
    "fixed_first_harmonic_fit = ifft(fixed_first_harmonic_fft)\n",
    "fixed_third_harmonic_fit = ifft(fixed_third_harmonic_fft)\n",
    "\n",
    "#first harmonic fft\n",
    "fig2, ax2 = plt.subplots(1)\n",
    "ax2.stem(freqs,np.abs(fixed_fundamental_fft))\n",
    "ax2.set_xlim([-500,500])\n",
    "\n",
    "#first harmonic fit\n",
    "fig3, ax3 = plt.subplots(1)\n",
    "ax3.plot(t_zero_pad, sig_zero_pad,'.')\n",
    "ax3.plot(t_zero_pad, fixed_fundamental_fit)\n",
    "ax3.plot(t_zero_pad, fixed_first_harmonic_fit)\n",
    "ax3.plot(t_zero_pad, fixed_third_harmonic_fit)\n",
    "freqs, data_fft, n_limited_fft, t, full_fit, n_limited_fit = fft_fit(t_zero_pad, sig_zero_pad, 1)\n",
    "ax3.plot(t_zero_pad,full_fit,'-.')\n",
    "#ax3.plot(t_zero_pad, n_limited_fit)\n",
    "\n",
    "#third harmonic fft\n",
    "fig4, ax4 = plt.subplots(1)\n",
    "ax4.stem(freqs,np.abs(fixed_first_harmonic_fft))\n",
    "ax4.set_xlim([-500,500])\n",
    "\n",
    "#hird harmonic fit\n",
    "fig5, ax5 = plt.subplots(1)\n",
    "ax5.stem(freqs,np.abs(fixed_third_harmonic_fft))\n",
    "ax5.set_xlim([-500,500])\n",
    "\n",
    "\"\"\"\n",
    "now implementing the rebinning from before [0,1],[1,2],[2,3],...\n",
    "\"\"\"\n",
    "freqs_rebinned = [np.average([freqs[i], freqs[i+1]]) for i in np.arange(0,int(len(n_limited_fft)),2)]#range(int(len(n_limited_fft)/zero_pad_multiple))]\n",
    "data_fft_rebinned = [np.average([data_fft[i], data_fft[i+1]]) for i in np.arange(0,int(len(n_limited_fft)),2)]#range(int(len(n_limited_fft)/zero_pad_multiple))]\n",
    "full_fit_rebinned = ifft(data_fft_rebinned)\n",
    "t_rebinned = t_interp#t_zero_pad[:int(len(t_zero_pad)/2)]\n",
    "\n",
    "\n",
    "\n",
    "fig6, ax6 = plt.subplots(1)\n",
    "ax6.stem(freqs_rebinned,np.abs(data_fft_rebinned))\n",
    "\n",
    "#^above doesn't rebin correctly; need to work from beginning to middle and end to middle rather than beginning to end\n",
    "\n",
    "first_half_binning_array = np.arange(0,int(len(data_fft)/2),2)\n",
    "#data_fft_rebinned_first_half = [np.average([data_fft[i], data_fft[i+1]]) for i in first_half_binning_array]\n",
    "data_fft_rebinned_first_half = [np.average([data_fft[i], data_fft[i+1]]) for i in first_half_binning_array]\n",
    "freqs_rebinned_first_half = [np.average([freqs[i], freqs[i+1]]) for i in first_half_binning_array]\n",
    "\n",
    "#print(len(data_fft_rebinned_first_half))\n",
    "#print(len(freqs_rebinned_first_half))\n",
    "\n",
    "second_half_binning_array = np.arange(int((len(data_fft)/2)+2),int(len(data_fft)),2)\n",
    "data_fft_rebinned_second_half = np.append([data_fft[0]+data_fft[int(len(data_fft)/2)]], [data_fft[i] + data_fft[i+1] for i in second_half_binning_array])\n",
    "#freqs_rebinned_second_half = [np.average([freqs[i], freqs[i-1]]) for i in second_half_binning_array,2]\n",
    "\n",
    "freqs_rebinned = np.append(freqs_rebinned_first_half,-np.flip(freqs_rebinned_first_half))\n",
    "\n",
    "data_fft_rebinned = np.append(data_fft_rebinned_first_half,data_fft_rebinned_second_half)\n",
    "\n",
    "fig7, ax7 = plt.subplots(1)\n",
    "#ax7.stem(freqs_rebinned[:int(len(freqs_rebinned)/4)], np.abs(data_fft_rebinned_first_half))\n",
    "ax7.stem(freqs_rebinned, np.abs(data_fft_rebinned))\n",
    "\n",
    "#ax7.stem(freqs_rebinned[int(3*len(freqs_rebinned)/4):], np.abs(data_fft_rebinned_second_half))\n",
    " \n",
    "\n",
    "#print(freqs_rebinned[:int(len(freqs_rebinned)/4)])\n",
    "#print(freqs_rebinned[int(3*len(freqs_rebinned)/4):])\n",
    "#print(freqs_rebinned)\n",
    "#n_limited_fft_rebinned = [np.average([n_limited_fft[i], n_limited_fft[i+1]]) for i in np.arange(0,int(len(n_limited_fft)),2)]#range(int(len(n_limited_fft)/zero_pad_multiple))]\n",
    "#n_limited_fit_rebinned = ifft(n_limited_fft_rebinned)\n",
    "\n",
    "#^still not rebinning correctly: need to leave f=0 bin alone, bin [1,2], [2,3], [4,5], ...\n",
    "\n",
    "first_half_binning_array = np.arange(1, int(len(data_fft)/2)-1,2)\n",
    "second_half_binning_array = np.flip(np.arange(int((len(data_fft)/2)),int(len(data_fft)),2))\n",
    "#print(second_half_binning_array)\n",
    "#print(freqs[2046])\n",
    "#print(freqs[1])\n",
    "\n",
    "first_half_fft_rebinned = [np.average([data_fft[i],data_fft[i+1]]) for i in first_half_binning_array]\n",
    "first_half_freqs_rebinned = [np.average([freqs[i],freqs[i+1]]) for i in first_half_binning_array]\n",
    "\n",
    "second_half_fft_rebinned = [np.average([data_fft[i],data_fft[i+1]]) for i in second_half_binning_array]\n",
    "second_half_freqs_rebinned = [np.average([freqs[i],freqs[i+1]]) for i in second_half_binning_array]#-np.flip(first_half_freqs_rebinned)\n",
    "\n",
    "\n",
    "freqs_rebinned = np.append(0,first_half_freqs_rebinned)\n",
    "freqs_rebinned = np.append(freqs_rebinned,np.flip(second_half_freqs_rebinned))\n",
    "#freqs_rebinned = np.append(freqs[:len(freqs)]/4,-np.flip(freqs[:len(freqs)]/4))\n",
    "\n",
    "fft_rebinned = np.append(data_fft[0],first_half_fft_rebinned)\n",
    "fft_rebinned = np.append(fft_rebinned,np.flip(second_half_fft_rebinned))\n",
    "#print(len(second_half_fft_rebinned))\n",
    "#print(second_half_freqs_rebinned)\n",
    "\n",
    "fig8, ax8 = plt.subplots(1)\n",
    "ax8.stem(freqs_rebinned, np.abs(fft_rebinned))\n",
    "\n",
    "\n",
    "\n",
    "#produce harmonic limited fft with rebinned total fft\n",
    "\n",
    "fundamental_idx = np.argmax(np.abs(fft_rebinned))\n",
    "\n",
    "\n",
    "rebinned_fixed_fundamental_fft = deepcopy(fft_rebinned)\n",
    "np.put(rebinned_fixed_fundamental_fft,np.arange(0,fundamental_idx),0.0)\n",
    "np.put(rebinned_fixed_fundamental_fft,np.arange(fundamental_idx+1,len(fft_rebinned)-fundamental_idx),0.0)\n",
    "np.put(rebinned_fixed_fundamental_fft,np.arange(len(fft_rebinned)-fundamental_idx+1,len(fft_rebinned)),0.0)\n",
    "\n",
    "rebinned_fixed_first_harmonic_fft = deepcopy(fft_rebinned)\n",
    "first_harmonic_idx = fundamental_idx*2\n",
    "np.put(rebinned_fixed_first_harmonic_fft,np.arange(0,fundamental_idx),0.0)\n",
    "np.put(rebinned_fixed_first_harmonic_fft,np.arange(fundamental_idx+1,first_harmonic_idx),0.0)\n",
    "np.put(rebinned_fixed_first_harmonic_fft,np.arange(first_harmonic_idx+1,len(fft_rebinned)-first_harmonic_idx),0.0)\n",
    "np.put(rebinned_fixed_first_harmonic_fft,np.arange(len(fft_rebinned)-first_harmonic_idx+1,len(fft_rebinned)-fundamental_idx),0.0)\n",
    "np.put(rebinned_fixed_first_harmonic_fft,np.arange(len(fft_rebinned)-fundamental_idx+1,len(fft_rebinned)),0.0)\n",
    "\n",
    "rebinned_fixed_third_harmonic_fft = deepcopy(fft_rebinned)\n",
    "first_harmonic_idx = fundamental_idx*2\n",
    "second_harmonic_idx = fundamental_idx*3\n",
    "third_harmonic_idx = fundamental_idx*4\n",
    "np.put(rebinned_fixed_third_harmonic_fft,np.arange(0,fundamental_idx),0.0)\n",
    "np.put(rebinned_fixed_third_harmonic_fft,np.arange(fundamental_idx+1,first_harmonic_idx),0.0)\n",
    "np.put(rebinned_fixed_third_harmonic_fft,np.arange(first_harmonic_idx+1,second_harmonic_idx),0.0)\n",
    "np.put(rebinned_fixed_third_harmonic_fft,np.arange(second_harmonic_idx+1,third_harmonic_idx),0.0)\n",
    "np.put(rebinned_fixed_third_harmonic_fft,np.arange(third_harmonic_idx+1,len(fft_rebinned)-third_harmonic_idx),0.0)\n",
    "np.put(rebinned_fixed_third_harmonic_fft,np.arange(len(fft_rebinned)-third_harmonic_idx+1,len(fft_rebinned)-second_harmonic_idx),0.0)\n",
    "np.put(rebinned_fixed_third_harmonic_fft,np.arange(len(fft_rebinned)-second_harmonic_idx+1,len(fft_rebinned)-first_harmonic_idx),0.0)\n",
    "np.put(rebinned_fixed_third_harmonic_fft,np.arange(len(fft_rebinned)-first_harmonic_idx+1,len(fft_rebinned)-fundamental_idx),0.0)\n",
    "np.put(rebinned_fixed_third_harmonic_fft,np.arange(len(fft_rebinned)-fundamental_idx+1,len(fft_rebinned)),0.0)\n",
    "\n",
    "#produce fits\n",
    "rebinned_full_fit = ifft(fft_rebinned)\n",
    "rebinned_fixed_fundamental_fit = ifft(rebinned_fixed_fundamental_fft)\n",
    "rebinned_fixed_first_harmonic_fit = ifft(rebinned_fixed_first_harmonic_fft)\n",
    "rebinned_fixed_third_harmonic_fit = ifft(rebinned_fixed_third_harmonic_fft)\n",
    "\n",
    "#first harmonic fft\n",
    "fig9, ax9 = plt.subplots(1)\n",
    "ax9.stem(freqs_rebinned,np.abs(rebinned_fixed_fundamental_fft))\n",
    "ax9.set_xlim([-500,500])\n",
    "\n",
    "\n",
    "\n",
    "#third harmonic fft\n",
    "fig10, ax10 = plt.subplots(1)\n",
    "ax10.stem(freqs_rebinned,np.abs(rebinned_fixed_first_harmonic_fft))\n",
    "ax10.set_xlim([-500,500])\n",
    "\n",
    "#third harmonic fft\n",
    "fig11, ax11 = plt.subplots(1)\n",
    "ax11.stem(freqs_rebinned,np.abs(rebinned_fixed_third_harmonic_fft))\n",
    "ax11.set_xlim([-500,500])\n",
    "\n",
    "#harmonic fits\n",
    "fig12, ax12 = plt.subplots(1)\n",
    "ax12.plot(t_interp, sig_interp,'.')\n",
    "ax12.plot(t_interp, rebinned_fixed_fundamental_fit)\n",
    "ax12.plot(t_interp, rebinned_fixed_first_harmonic_fit)\n",
    "ax12.plot(t_interp, rebinned_fixed_third_harmonic_fit)\n",
    "ax12.plot(t_interp, ifft(fft_rebinned),'-.')\n",
    "#freqs, data_fft, n_limited_fft, t, full_fit, n_limited_fit = fft_fit(t_interp, sig_interp, 1)\n",
    "#ax10.plot(t_interp,full_fit,'-.')\n",
    "#ax3.plot(t_zero_pad, n_limited_fit)\n"
   ]
  },
  {
   "cell_type": "code",
   "execution_count": 135,
   "id": "0ac9e5c4-bfa9-42c2-a638-176e520b6ef5",
   "metadata": {},
   "outputs": [
    {
     "data": {
      "text/plain": [
       "0.347253313392017"
      ]
     },
     "execution_count": 135,
     "metadata": {},
     "output_type": "execute_result"
    }
   ],
   "source": [
    "np.arange(len(fft_rebinned)-fundamental_idx+1,len(data_fft))\n",
    "\n",
    "np.abs((-0.3472529892708671-0.0004744514531811461j))"
   ]
  },
  {
   "cell_type": "code",
   "execution_count": 147,
   "id": "cd8628a6-2f0b-413c-a205-23c6bc352aa5",
   "metadata": {},
   "outputs": [
    {
     "data": {
      "text/plain": [
       "Text(0, 0.5, 'Phase (deg.)')"
      ]
     },
     "execution_count": 147,
     "metadata": {},
     "output_type": "execute_result"
    }
   ],
   "source": [
    "\"\"\"\n",
    "Looked at the results above with chao-lin. Now we're going to try keeping the two highest peaks and their harmonics.\n",
    "\"\"\"\n",
    "\n",
    "#full fft\n",
    "fig, ax = plt.subplots(1)\n",
    "ax.stem(freqs, np.abs(data_fft))\n",
    "ax.set_xlim([-500,500])\n",
    "ax.set_xlabel('Frequency (Hz)')\n",
    "ax.set_ylabel('Amplitude (arb.)')\n",
    "\n",
    "\n",
    "def get_harmonic_fft(t, data, n):\n",
    "    \n",
    "    #find the the two fft terms with the most power\n",
    "    \n",
    "    data_fft = fft(data)\n",
    "    \n",
    "    fundamental_idx_1 = np.argmax(np.abs(data_fft))\n",
    "    remove_highest = deepcopy(data_fft)\n",
    "    np.put(remove_highest, [fundamental_idx_1, int(len(remove_highest)-fundamental_idx_1)], 0.0) #remove the highest term and its complex conjugate in order to search for the second highest term\n",
    "    fundamental_idx_2 = np.argmax(np.abs(remove_highest))\n",
    "    \n",
    "    mask = np.zeros(len(data))\n",
    "    try:\n",
    "        for i in range(n):\n",
    "            np.put(mask, [fundamental_idx_1*(i+1), fundamental_idx_2*(i+1)], 1.0)\n",
    "            np.put(mask, [len(data)-(fundamental_idx_1*(i+1)), len(data)-(fundamental_idx_2*(i+1))], 1.0)\n",
    "    except IndexError:\n",
    "        print('Harmonic setting (n) too high. Using highest harmonic available.')\n",
    "        \n",
    "    data_fft_harmonics_only = data_fft * mask\n",
    "    \n",
    "    return data_fft_harmonics_only\n",
    "    \n",
    "    \n",
    "\n",
    "data_fft_harmonics_only = get_harmonic_fft(t_zero_pad, sig_zero_pad, 1)\n",
    "data_harmonics_only = ifft(data_fft_harmonics_only)\n",
    "\n",
    "\n",
    "fig2, ax2 = plt.subplots(1)\n",
    "\n",
    "ax2.stem(freqs,np.abs(data_fft_harmonics_only))\n",
    "ax2.set_xlim([-500,500])\n",
    "\n",
    "fig3, ax3 = plt.subplots(1)\n",
    "\n",
    "ax3.plot(t_zero_pad, sig_zero_pad, '.')\n",
    "ax3.plot(t_zero_pad, data_harmonics_only)\n",
    "\n",
    "fig4, ax4 = plt.subplots(1)\n",
    "fig5, ax5 = plt.subplots(1)\n",
    "ax4.plot(t_zero_pad, sig_zero_pad, '.',label='Interpolated Data')\n",
    "for i in np.arange(1,11,1):\n",
    "    data_fft_harmonics_only = get_harmonic_fft(t_zero_pad, sig_zero_pad, i)\n",
    "    data_harmonics_only = ifft(data_fft_harmonics_only)\n",
    "    ax4.plot(t_zero_pad, data_harmonics_only,label=f'n = {i}')\n",
    "    ax5.stem(freqs,np.abs(data_fft_harmonics_only))\n",
    "    \n",
    "ax4.legend()\n",
    "ax4.set_xlabel('t (s)')\n",
    "ax4.set_ylabel('Amplitude (arb.)')\n",
    "\n",
    "ax5.set_xlabel('Frequency (Hz)')\n",
    "ax5.set_ylabel('Amplitude (arb.)')\n",
    "ax5.set_xlim([-500,500])\n",
    "\n",
    "#trying out phase plotting\n",
    "\n",
    "data_fft_phase_threshold = deepcopy(data_fft_harmonics_only)\n",
    "\n",
    "threshold = max(np.abs(data_fft_phase_threshold))/10000\n",
    "\n",
    "data_fft_phase_threshold[np.abs(data_fft_phase_threshold) < threshold] = 0.0\n",
    "\n",
    "phase = np.arctan2(np.imag(data_fft_phase_threshold),np.real(data_fft_phase_threshold))*180/np.pi\n",
    "\n",
    "fig6, ax6 = plt.subplots(1)\n",
    "ax6.stem(freqs, phase)\n",
    "ax6.set_xlim([-500,500])\n",
    "ax6.set_xlabel('Frequency (Hz)')\n",
    "ax6.set_ylabel('Phase (deg.)')\n"
   ]
  },
  {
   "cell_type": "code",
   "execution_count": 148,
   "id": "a113c1f0-6885-4ce2-bcaa-04b8ca4d8a0d",
   "metadata": {},
   "outputs": [
    {
     "name": "stdout",
     "output_type": "stream",
     "text": [
      "-263.5114768095291\n",
      "Observed phase difference: -263.51147680952903\n",
      "Interpolated phase: 31.265982210393005\n"
     ]
    },
    {
     "data": {
      "text/plain": [
       "[<matplotlib.lines.Line2D at 0x7fb8babdc3a0>]"
      ]
     },
     "execution_count": 148,
     "metadata": {},
     "output_type": "execute_result"
    }
   ],
   "source": [
    "mask_1 = np.zeros(len(data_fft))\n",
    "np.put(mask_1, [6, len(data_fft)-6], 1.0)\n",
    "fft_bin_6 = data_fft*mask_1\n",
    "\n",
    "mask_2 = np.zeros(len(data_fft))\n",
    "np.put(mask_2, [7, len(data_fft)-7], 1.0)\n",
    "fft_bin_7 = data_fft*mask_2\n",
    "\n",
    "\n",
    "fig1, ax1 = plt.subplots(1)\n",
    "ax1.stem(freqs, np.abs(fft_bin_6),markerfmt='bo',label = 'abs(fft)')\n",
    "ax1.stem(freqs, np.real(fft_bin_6),markerfmt='ro',label = 'Re(fft)')\n",
    "ax1.stem(freqs, np.real(fft_bin_6),markerfmt='go',label = 'Im(fft)')\n",
    "ax1.legend()\n",
    "ax1.set_xlim([-500,500])\n",
    "ax1.set_xlabel('Frequency (Hz)')\n",
    "ax1.set_ylabel('Amplitude (arb.)')\n",
    "\n",
    "fig2, ax2 = plt.subplots(1)\n",
    "ax2.stem(freqs, np.abs(fft_bin_7),markerfmt='bo',label = 'abs(fft)')\n",
    "ax2.stem(freqs, np.real(fft_bin_7),markerfmt='ro',label = 'Re(fft)')\n",
    "ax2.stem(freqs, np.real(fft_bin_7),markerfmt='go',label = 'Im(fft)')\n",
    "ax2.legend()\n",
    "ax2.set_xlim([-500,500])\n",
    "ax2.set_xlabel('Frequency (Hz)')\n",
    "ax2.set_ylabel('Amplitude (arb.)')\n",
    "\n",
    "\n",
    "fig3, ax3 = plt.subplots(1)\n",
    "ax3.plot(t_zero_pad, sig_zero_pad, '.',label='interpolated data')\n",
    "ax3.plot(t_zero_pad, ifft(fft_bin_6),label='first peak')\n",
    "ax3.plot(t_zero_pad, ifft(fft_bin_7),label='second peak')\n",
    "ax3.plot(t_zero_pad, ifft(fft_bin_6+fft_bin_7),label='first peak + second peak')\n",
    "ax3.legend()\n",
    "ax3.set_xlabel('t (s)')\n",
    "ax3.set_ylabel('Amplitude (arb.)')\n",
    "\n",
    "data_fft_phase_threshold_bin_6 = deepcopy(fft_bin_6)\n",
    "threshold = max(np.abs(data_fft_phase_threshold_bin_6))/10000\n",
    "data_fft_phase_threshold_bin_6[np.abs(data_fft_phase_threshold_bin_6) < threshold] = 0.0\n",
    "\n",
    "data_fft_phase_threshold_bin_7 = deepcopy(fft_bin_7)\n",
    "threshold = max(np.abs(data_fft_phase_threshold_bin_7))/10000\n",
    "data_fft_phase_threshold_bin_7[np.abs(data_fft_phase_threshold_bin_7) < threshold] = 0.0\n",
    "\n",
    "phase_bin_6 = np.arctan2(np.imag(data_fft_phase_threshold_bin_6),np.real(data_fft_phase_threshold_bin_6))*180/np.pi\n",
    "phase_bin_7 = np.arctan2(np.imag(data_fft_phase_threshold_bin_7),np.real(data_fft_phase_threshold_bin_7))*180/np.pi\n",
    "\n",
    "fig4, ax4 = plt.subplots(1)\n",
    "ax4.stem(freqs,phase_bin_6)\n",
    "ax4.set_xlim([-500,500])\n",
    "ax4.set_xlabel('Frequency (Hz)')\n",
    "ax4.set_ylabel('Phase (deg.)')\n",
    "\n",
    "fig5, ax5 = plt.subplots(1)\n",
    "ax5.stem(freqs,phase_bin_7)\n",
    "ax5.set_xlim([-500,500])\n",
    "ax5.set_xlabel('Frequency (Hz)')\n",
    "ax5.set_ylabel('Phase (deg.)')\n",
    "\n",
    "fig6, ax6 = plt.subplots(1)\n",
    "ax6.stem(freqs,phase_bin_6-phase_bin_7)\n",
    "\n",
    "print(phase_bin_6[6] - phase_bin_7[7])\n",
    "\n",
    "R1 = np.real(data_fft_phase_threshold_bin_6[6])\n",
    "R2 = np.real(data_fft_phase_threshold_bin_7[7])\n",
    "\n",
    "I1 = np.imag(data_fft_phase_threshold_bin_6[6])\n",
    "I2 = np.imag(data_fft_phase_threshold_bin_7[7])\n",
    "\n",
    "observed_phase_difference = (np.arctan2(I1,R1) - np.arctan2(I2,R2))*180/np.pi\n",
    "interpolated_phase = np.arctan((I1-R2)/(R1+I2))*180/np.pi#((np.arctan2(I1,R1) + np.arctan2(I2,R2) - np.pi/2)/2)*180/np.pi\n",
    "\n",
    "print(f'Observed phase difference: {observed_phase_difference}')\n",
    "print(f'Interpolated phase: {interpolated_phase}')\n",
    "\n",
    "vec1 = [0+0j, fft_bin_6[6]]\n",
    "vec2 = [0+0j, fft_bin_7[7]]\n",
    "\n",
    "fig7, ax7 = plt.subplots(1)\n",
    "\n",
    "ax7.plot(np.real(vec1), np.imag(vec1),'.-')\n",
    "ax7.plot(np.real(vec2), np.imag(vec2),'.-')"
   ]
  },
  {
   "cell_type": "code",
   "execution_count": 18,
   "id": "d7af3e51-f82f-46e5-86be-3161e3857da2",
   "metadata": {
    "tags": []
   },
   "outputs": [
    {
     "name": "stdout",
     "output_type": "stream",
     "text": [
      "range(0, 147)\n",
      "Angle 1: -1.4547424075364255 Angle 2: -3.006785399739515\n",
      "Angle 1: -1.4880779429636413 Angle 2: -3.0617074050531143\n",
      "Angle 1: -1.5294456223023098 Angle 2: -3.0981597991555745\n",
      "Angle 1: -1.5563964375562338 Angle 2: -3.129115306489461\n",
      "Angle 1: -1.5949394204939749 Angle 2: 3.1143514186294707\n",
      "Angle 1: -1.6215271056708433 Angle 2: 3.081679595866889\n",
      "Angle 1: -1.6697688469476217 Angle 2: 3.034665063935366\n",
      "Angle 1: -1.6978800332158552 Angle 2: 3.0007602846347443\n",
      "Angle 1: -1.3865985257311553 Angle 2: -2.9602308998099263\n",
      "Angle 1: -1.4285244633177991 Angle 2: -2.988139361922541\n",
      "Angle 1: -1.4636036935652832 Angle 2: -3.0319572856387507\n",
      "Angle 1: -1.5074659623613373 Angle 2: -3.0612877263276297\n",
      "Angle 1: -1.53255623632238 Angle 2: -3.106200814856215\n",
      "Angle 1: -1.5759855750727727 Angle 2: 3.139107782273532\n",
      "Angle 1: -1.608900967977289 Angle 2: 3.098477137906147\n",
      "Angle 1: -1.6486167695554712 Angle 2: 3.0564073968011796\n",
      "Angle 1: -1.6714839020820447 Angle 2: 3.0245401084309194\n",
      "Angle 1: -1.365889138636797 Angle 2: -2.930322430053276\n",
      "Angle 1: -1.411958960083197 Angle 2: -2.9713729775879183\n",
      "Angle 1: -1.4402093512620249 Angle 2: -3.005242112880964\n",
      "Angle 1: -1.4848958616599492 Angle 2: -3.0482190619772487\n",
      "Angle 1: -1.5192512567986671 Angle 2: -3.0880686071822225\n",
      "Angle 1: -1.54949188558571 Angle 2: -3.120515679176242\n",
      "Angle 1: -1.581054841510092 Angle 2: 3.126457343889563\n",
      "Angle 1: -1.6239082824212654 Angle 2: 3.0849561241796004\n",
      "Angle 1: -1.6511415085425045 Angle 2: 3.0529611475483\n",
      "Angle 1: -1.342515464274817 Angle 2: -2.909104205550774\n",
      "Angle 1: -1.3944212809581233 Angle 2: -2.9466099268755697\n",
      "Angle 1: -1.4197107235538802 Angle 2: -2.986471614472868\n",
      "Angle 1: -1.46012595809542 Angle 2: -3.0148761746462127\n",
      "Angle 1: -1.4896203473495606 Angle 2: -3.060149965667674\n",
      "Angle 1: -1.5315855269514267 Angle 2: -3.0993187692785478\n",
      "Angle 1: -1.5647334046200438 Angle 2: -3.140514847734112\n",
      "Angle 1: -1.6053580234301084 Angle 2: 3.109110471265146\n",
      "Angle 1: -1.6340014998846009 Angle 2: 3.074283709573785\n",
      "Angle 1: -1.3190474765324962 Angle 2: -2.888434689562805\n",
      "Angle 1: -1.3723003217745857 Angle 2: -2.917939646462207\n",
      "Angle 1: -1.3954088207120867 Angle 2: -2.957792953450138\n",
      "Angle 1: -1.446517354520317 Angle 2: -3.0073331550175646\n",
      "Angle 1: -1.472410787723316 Angle 2: -3.0437039394705376\n",
      "Angle 1: -1.5143241898980868 Angle 2: -3.0766906103512603\n",
      "Angle 1: -1.5467025730463888 Angle 2: -3.1168689244015217\n",
      "Angle 1: -1.2222366517742622 Angle 2: -2.7897661073360682\n",
      "Angle 1: -1.2760441446668396 Angle 2: -2.819804236748789\n",
      "Angle 1: -1.298185018968566 Angle 2: -2.8673693879341955\n",
      "Angle 1: -1.3460051334164762 Angle 2: -2.896316729235499\n",
      "Angle 1: -1.3713703491775062 Angle 2: -2.937968435196911\n",
      "Angle 1: -1.419924339496763 Angle 2: -2.9741811523653188\n",
      "Angle 1: -1.4432229176262588 Angle 2: -3.013258837460465\n",
      "Angle 1: -1.4898491962694487 Angle 2: -3.053420034683459\n",
      "Angle 1: -1.5168821285197307 Angle 2: -3.089211210171564\n",
      "Angle 1: -1.2027642349905356 Angle 2: -2.7720929550977247\n",
      "Angle 1: -1.2589228351819572 Angle 2: -2.7992718438539423\n",
      "Angle 1: -1.2717850812084237 Angle 2: -2.843019327918619\n",
      "Angle 1: -1.3223740483500637 Angle 2: -2.8616171637959704\n",
      "Angle 1: -1.3503735722665995 Angle 2: -2.921487563310758\n",
      "Angle 1: -1.3945314256131287 Angle 2: -2.945996215674969\n",
      "Angle 1: -1.4288047380779234 Angle 2: -2.9966762220266148\n",
      "Angle 1: -1.4694865872152514 Angle 2: -3.023991613070428\n",
      "Angle 1: -1.4966563186269817 Angle 2: -3.0654430726578723\n",
      "Angle 1: -1.1773886079703586 Angle 2: -2.742733535472263\n",
      "Angle 1: -1.2290996507157597 Angle 2: -2.7697582769397395\n",
      "Angle 1: -1.2492023862345305 Angle 2: -2.8205623996452145\n",
      "Angle 1: -1.3100025759374885 Angle 2: -2.8528334744630865\n",
      "Angle 1: -1.3311577818222435 Angle 2: -2.8946334340118667\n",
      "Angle 1: -1.3755570853094692 Angle 2: -2.9188052490323675\n",
      "Angle 1: -1.394388992529819 Angle 2: -2.9661367001269516\n",
      "Angle 1: -1.4474346294151539 Angle 2: -3.0009043064244767\n",
      "Angle 1: -1.4802312681166687 Angle 2: -3.046193444624695\n",
      "Angle 1: -1.162072933847449 Angle 2: -2.7290032239271165\n",
      "Angle 1: -1.213957189765689 Angle 2: -2.752959238544411\n",
      "Angle 1: -1.2343786056580481 Angle 2: -2.802091688313248\n",
      "Angle 1: -1.2841221623990033 Angle 2: -2.826479249532531\n",
      "Angle 1: -1.3109265286221616 Angle 2: -2.8728757162007645\n",
      "Angle 1: -1.351590394066924 Angle 2: -2.896727995257253\n",
      "Angle 1: -1.3823023655305116 Angle 2: -2.9486513353344783\n",
      "Angle 1: -1.0629268462318375 Angle 2: -2.6334968754652155\n",
      "Angle 1: -1.116791913072185 Angle 2: -2.6562528388864934\n",
      "Angle 1: -1.1310932660680821 Angle 2: -2.6969404373455514\n",
      "Angle 1: -1.191531946171941 Angle 2: -2.7245111387481655\n",
      "Angle 1: -1.2114180026961119 Angle 2: -2.777964058934138\n",
      "Angle 1: -1.2598399782549066 Angle 2: -2.8007007665508485\n",
      "Angle 1: -1.2878306686987882 Angle 2: -2.853339007704234\n",
      "Angle 1: -1.335054896310909 Angle 2: -2.8817131471990165\n",
      "Angle 1: -1.3577755587009264 Angle 2: -2.922175370716225\n",
      "Angle 1: -1.04423780110731 Angle 2: -2.611097485094948\n",
      "Angle 1: -1.0964196752122388 Angle 2: -2.6293892856599594\n",
      "Angle 1: -1.1110981138831901 Angle 2: -2.6837096325535423\n",
      "Angle 1: -1.1713201948259346 Angle 2: -2.702342687720646\n",
      "Angle 1: -1.1890386675963138 Angle 2: -2.754758645725557\n",
      "Angle 1: -1.2376421205951433 Angle 2: -2.7804120994558406\n",
      "Angle 1: -1.2549663019380395 Angle 2: -2.8265857796425755\n",
      "Angle 1: -1.3150854796412954 Angle 2: -2.855680413353336\n",
      "Angle 1: -1.337861287073474 Angle 2: -2.9017012935598294\n",
      "Angle 1: -1.0198714360489607 Angle 2: -2.5826427268855614\n",
      "Angle 1: -1.0765611081315096 Angle 2: -2.609816681493078\n",
      "Angle 1: -1.0903211558309298 Angle 2: -2.656751285964282\n",
      "Angle 1: -1.1454830332871322 Angle 2: -2.678426080903727\n",
      "Angle 1: -1.1665717474734691 Angle 2: -2.7332099775212444\n",
      "Angle 1: -1.220520401817529 Angle 2: -2.7599280601881055\n",
      "Angle 1: -1.2388275508940227 Angle 2: -2.804264607398185\n",
      "Angle 1: -1.2845148884763142 Angle 2: -2.8285815068630282\n",
      "Angle 1: -1.3082378612512866 Angle 2: -2.8727959892524577\n",
      "Angle 1: -0.9979509798444941 Angle 2: -2.5646226499710703\n",
      "Angle 1: -1.057502854406104 Angle 2: -2.581602564475648\n",
      "Angle 1: -1.07014256095793 Angle 2: -2.6377782903037157\n",
      "Angle 1: -1.1246992650989796 Angle 2: -2.6642508860513034\n",
      "Angle 1: -1.1439381098913182 Angle 2: -2.709439139066686\n",
      "Angle 1: -1.1963033501451135 Angle 2: -2.7385446946536627\n",
      "Angle 1: -1.2272169080660003 Angle 2: -2.788099880421273\n",
      "Angle 1: -0.9052261690752773 Angle 2: -2.474753406013887\n",
      "Angle 1: -0.9653973988294524 Angle 2: -2.4924838521825716\n",
      "Angle 1: -0.9753285476652832 Angle 2: -2.5435815547816762\n",
      "Angle 1: -1.0394882512484287 Angle 2: -2.566896419894478\n",
      "Angle 1: -1.0496670229003304 Angle 2: -2.6181731271505404\n",
      "Angle 1: -1.106622329810362 Angle 2: -2.637216296807539\n",
      "Angle 1: -1.1207491013420137 Angle 2: -2.6887326126203193\n",
      "Angle 1: -1.181991945929601 Angle 2: -2.707108910373795\n",
      "Angle 1: -1.1952175808527505 Angle 2: -2.760156788007935\n",
      "Angle 1: -0.8846651004193267 Angle 2: -2.454899409331764\n",
      "Angle 1: -0.9439756600276014 Angle 2: -2.4689409900879493\n",
      "Angle 1: -0.9563980809515542 Angle 2: -2.5241846647749133\n",
      "Angle 1: -1.0139741236831765 Angle 2: -2.5357028638761374\n",
      "Angle 1: -1.0254881822952404 Angle 2: -2.5965935875009927\n",
      "Angle 1: -1.0777687490299417 Angle 2: -2.6092163740820227\n",
      "Angle 1: -1.0952082008515822 Angle 2: -2.664388066577921\n",
      "Angle 1: -1.1547268815779461 Angle 2: -2.6838148920132223\n",
      "Angle 1: -1.1755315818268155 Angle 2: -2.7425298444564974\n",
      "Angle 1: -0.863525917241664 Angle 2: -2.43141292690041\n",
      "Angle 1: -0.922160410758227 Angle 2: -2.447583858500938\n",
      "Angle 1: -0.9259952622927934 Angle 2: -2.5036930140466254\n",
      "Angle 1: -0.9946887110249384 Angle 2: -2.518902642057437\n",
      "Angle 1: -1.006509548654454 Angle 2: -2.5741129507161777\n",
      "Angle 1: -1.0682412862859967 Angle 2: -2.5945414931606843\n",
      "Angle 1: -1.0764430449998845 Angle 2: -2.644710499584898\n",
      "Angle 1: -1.1320238090432 Angle 2: -2.660879579161792\n",
      "Angle 1: -1.1471462537831432 Angle 2: -2.71849061767391\n",
      "Angle 1: -0.8386693297619577 Angle 2: -2.4101552421965273\n",
      "Angle 1: -0.8985998700786813 Angle 2: -2.4218964326513084\n",
      "Angle 1: -0.9119068937855552 Angle 2: -2.481255677142898\n",
      "Angle 1: -0.9732913017534113 Angle 2: -2.4966501534763426\n",
      "Angle 1: -0.9828985798862191 Angle 2: -2.5496142237576165\n",
      "Angle 1: -1.0421724221992905 Angle 2: -2.571461465707895\n",
      "Angle 1: -1.0524844265265543 Angle 2: -2.622805105439957\n",
      "Angle 1: -0.7514096076183483 Angle 2: -2.3246287932529413\n",
      "Angle 1: -0.8176554467441455 Angle 2: -2.343069084946725\n",
      "Angle 1: -0.8223736610766018 Angle 2: -2.393651529313471\n"
     ]
    }
   ],
   "source": [
    "\"\"\"\n",
    "Now:\n",
    "1. Package fitting algorithm.\n",
    "2. Visually inspect on many flux ramp periods.\n",
    "3. Test Chao-lin's phase \"interpolation\" formula.\n",
    "4. Try full demodulation on a timestream.\n",
    "\"\"\"\n",
    "\n",
    "%matplotlib qt\n",
    "\n",
    "fig_prelim, ax_prelim = plt.subplots(1)\n",
    "\n",
    "ax_prelim.plot(test_ts_processed['fr t'], test_ts_processed['fr data'][3],'.-')\n",
    "\n",
    "\n",
    "def extract_phase(t, data, n, n_blank, plot_fft = False, plot_limited_fft = False, plot_fit = False, plot_vectors = False, plot_phase = False):\n",
    "    \"\"\"\n",
    "    params\n",
    "    ======\n",
    "    data: data from a single flux ramp reset period\n",
    "    n: number of harmonics preserved\n",
    "    n_blank: number of points cut from end (to help remove flux ramp reset period)\n",
    "    plot_fft: If true, plot the relevant ffts (default = False)\n",
    "    plot_fit: If true, plot the relevant fit (default = False)\n",
    "    \"\"\"      \n",
    "    #find the the two fft terms with the most power\n",
    "    \n",
    "    data_fft = fft(data)\n",
    "    freqs = fftfreq(len(data), np.median(np.diff(t)))\n",
    "    \n",
    "    if plot_fft == True:\n",
    "        fig1, ax1 = plt.subplots(1)\n",
    "        \n",
    "        ax1.stem(freqs, np.abs(data_fft))\n",
    "        ax1.set_xlabel('Frequency (Hz)')\n",
    "        ax1.set_ylabel('Amplitude (arb.)')\n",
    "        ax1.set_xlim([-500,500])\n",
    "    \n",
    "    fundamental_idx_1 = np.argmax(np.abs(data_fft))\n",
    "    #print(fundamental_idx_1)\n",
    "    remove_highest = deepcopy(data_fft)\n",
    "    #print(len(remove_highest))\n",
    "    np.put(remove_highest, [fundamental_idx_1, int(len(remove_highest)-fundamental_idx_1)], 0.0) #remove the highest term and its complex conjugate in order to search for the second highest term\n",
    "    fundamental_idx_2 = np.argmax(np.abs(remove_highest))\n",
    "    #print(fundamental_idx_2)\n",
    "    \n",
    "    mask = np.zeros(len(data))\n",
    "    try:\n",
    "        for i in range(n):\n",
    "            np.put(mask, [fundamental_idx_1*(i+1), fundamental_idx_2*(i+1)], 1.0)\n",
    "            np.put(mask, [len(data)-(fundamental_idx_1*(i+1)), len(data)-(fundamental_idx_2*(i+1))], 1.0)\n",
    "    except IndexError:\n",
    "        print('Harmonic setting (n) too high. Using highest harmonic available.')\n",
    "        \n",
    "    data_fft_harmonics_only = data_fft * mask\n",
    "    \n",
    "    fit = ifft(data_fft_harmonics_only)\n",
    "    \n",
    "    R1 = np.real(data_fft_harmonics_only[fundamental_idx_1])\n",
    "    R2 = np.real(data_fft_harmonics_only[fundamental_idx_2])\n",
    "\n",
    "    I1 = np.imag(data_fft_harmonics_only[fundamental_idx_1])\n",
    "    I2 = np.imag(data_fft_harmonics_only[fundamental_idx_2])\n",
    "    \n",
    "    #interpolated_phase1 = np.angle(data_fft_harmonics_only[fundamental_idx_1])\n",
    "    #interpolated_phase2 = np.angle(data_fft_harmonics_only[fundamental_idx_2])\n",
    "    interpolated_phase1 = np.arctan2((I1+R2),(R1-I2))\n",
    "    interpolated_phase2 = np.arctan2(I2,R2)\n",
    "    #interpolated_phase2 = (np.arctan(I1/R1) + np.arctan(I2/R2)-np.pi/2)/2\n",
    "    \n",
    "    t_phase = np.median(t)\n",
    "    \n",
    "    \n",
    "    \n",
    "    if plot_limited_fft == True:\n",
    "        fig2, ax2 = plt.subplots(1)\n",
    "        \n",
    "        ax2.stem(freqs, np.abs(data_fft_harmonics_only))\n",
    "        ax2.set_xlabel('Frequency (Hz)')\n",
    "        ax2.set_ylabel('Amplitude (arb.)')\n",
    "        ax2.set_xlim([-500,500])\n",
    "    \n",
    "    if plot_fit == True:\n",
    "        fig3, ax3 = plt.subplots(1)\n",
    "        \n",
    "        ax3.plot(t, data, '.',label='Data')\n",
    "        ax3.plot(t, fit, label='fit')\n",
    "        ax3.set_xlabel('t (s)')\n",
    "        ax3.set_ylabel('Amplitude (arb.)')\n",
    "        \n",
    "    if plot_vectors == True:\n",
    "        fig4, ax4 = plt.subplots(1)\n",
    "        \n",
    "        vec1 = [0+0j, data_fft_harmonics_only[fundamental_idx_1]]\n",
    "        vec2 = [0+0j, data_fft_harmonics_only[fundamental_idx_2]]\n",
    "        vec3 = [0+0j, (R1-I2)+1j*(R2+I1)]\n",
    "        \n",
    "        ax4.plot(np.real(vec1), np.imag(vec1))\n",
    "        ax4.plot(np.real(vec2), np.imag(vec2))\n",
    "        ax4.plot(np.real(vec3), np.imag(vec3))\n",
    "    \n",
    "        ax4.set_xlabel('Re')\n",
    "        ax4.set_ylabel('Im')\n",
    "        ax4.set_xlim([-1000,1000])\n",
    "        ax4.set_ylim([-1000,1000])\n",
    "    \n",
    "    if plot_phase == True:\n",
    "        fig5, ax5 = plt.subplots(1)\n",
    "        \n",
    "        data_fft_phase_threshold = deepcopy(data_fft_harmonics_only)\n",
    "        threshold = max(np.abs(data_fft_phase_threshold))/10000\n",
    "        data_fft_phase_threshold[np.abs(data_fft_phase_threshold) < threshold] = 0.0\n",
    "        \n",
    "        ax5.stem(freqs,np.angle(data_fft_phase_threshold))\n",
    "        \n",
    "    print(f'Angle 1: {np.angle(data_fft_harmonics_only[fundamental_idx_1])} Angle 2: {np.angle(data_fft_harmonics_only[fundamental_idx_2])}')\n",
    "        \n",
    "    \n",
    "    return freqs, data_fft_harmonics_only, t, fit, t_phase, interpolated_phase1, interpolated_phase2\n",
    "\n",
    "channels = [3]#np.arange(1,54,1)\n",
    "chunks = range(len(test_ts_processed['reset indices'])-2)#[0,1,2,3,4,5,6,7,8,9,10]\n",
    "print(chunks)\n",
    "n_remove = 6\n",
    "\n",
    "\n",
    "fig5_test, ax5_test = plt.subplots(1)\n",
    "for ch in channels:\n",
    "    t_array = np.array([])\n",
    "    phase_array1 = np.array([])\n",
    "    phase_array2 = np.array([])\n",
    "    fig, ax = plt.subplots(1)\n",
    "    fig_test, ax_test = plt.subplots(1)\n",
    "    fig2_test, ax2_test = plt.subplots(1)\n",
    "    fig3_test, ax3_test = plt.subplots(1)\n",
    "    fig4_test, ax4_test = plt.subplots(1)\n",
    "    \n",
    "    for chunk in chunks:\n",
    "        \n",
    "        start = test_ts_processed['reset indices'][chunk] + test_ts_processed['start index']# + test_ts_processed['reset indices'][chunk]\n",
    "        stop = test_ts_processed['reset indices'][chunk+1] + test_ts_processed['start index']\n",
    "        average = np.average(test_ts_processed['fr data'][ch])\n",
    "        \n",
    "        t_chunk = test_ts_processed['fr t'][start:stop]#-test_ts_processed['fr t'][start]\n",
    "        sig_chunk = test_ts_processed['fr data'][ch][start:stop]-average\n",
    "        \n",
    "        ax_test.plot(t_chunk, sig_chunk,'.-')\n",
    "        \n",
    "        t_reset_removed = t_chunk[:-n_remove] #just manually removing the reset for right now\n",
    "        sig_reset_removed = sig_chunk[:-n_remove]\n",
    "        \n",
    "        ax2_test.plot(t_reset_removed, sig_reset_removed,'.-')\n",
    "        \n",
    "        interpolation = CubicSpline(t_reset_removed,sig_reset_removed)\n",
    "\n",
    "        t_interp = np.linspace(t_reset_removed[0],t_reset_removed[-1],1024)\n",
    "        #print(t_interp)\n",
    "        sig_interp = interpolation(t_interp)\n",
    "        \n",
    "        ax3_test.plot(t_interp, sig_interp, '.-')\n",
    "        \n",
    "        t_zero_pad = np.linspace(t_interp[0], t_interp[-1]+(t_interp[-1]-t_interp[0]),2*len(t_interp))#np.linspace(0,(t_interp[-1]-t_interp[0]),len(t_interp)*zero_pad_multiple)\n",
    "        #t_zero_pad = np.append(t_interp, np.linspace(t_interp[-1]+np.median(np.diff(t_interp)),2*t_interp)\n",
    "        \n",
    "        \n",
    "        sig_zero_pad = np.append(sig_interp, np.zeros(len(sig_interp)))       \n",
    "        \n",
    "        ax4_test.plot(t_zero_pad,sig_zero_pad,'.')\n",
    "        \n",
    "        freqs, data_fft_harmonics_only, t, fit, t_phase, phase1, phase2 = extract_phase(t=t_zero_pad, \n",
    "                                                                               data=sig_zero_pad, \n",
    "                                                                               n=1, \n",
    "                                                                               n_blank=n_remove, \n",
    "                                                                               plot_fft = False, \n",
    "                                                                               plot_limited_fft = False,\n",
    "                                                                               plot_fit = False,\n",
    "                                                                               plot_vectors = False,\n",
    "                                                                               plot_phase = False)\n",
    "        \n",
    "        phase_array1 = np.append(phase_array1, phase1)\n",
    "        phase_array2 = np.append(phase_array2, phase2)\n",
    "        t_array = np.append(t_array, t_phase)\n",
    "        \n",
    "    \n",
    "    \n",
    "    t_array = np.linspace(test_ts_processed['fr t'][0], test_ts_processed['fr t'][-1], len(chunks)) - test_ts_processed['fr t'][0]\n",
    "    \n",
    "    ax5_test.plot(t_array, np.unwrap(phase_array1),'.-',label='Single arctan')\n",
    "    #ax5_test.plot(t_array, np.unwrap(phase_array2),'.-',label='Two arctans')\n",
    "    #print(phase_array)\n",
    "    \n",
    "    #ax5_test.plot(test_ts_processed['demod t'], test_ts_processed['demod data'][ch],'.-',label='old')\n",
    "    \n",
    "    ax5_test.legend()\n",
    "        \n",
    "        \n"
   ]
  },
  {
   "cell_type": "code",
   "execution_count": 43,
   "id": "ccfb130a-4439-4ec4-a7ba-d46e5452a45a",
   "metadata": {
    "collapsed": true,
    "jupyter": {
     "outputs_hidden": true
    },
    "tags": []
   },
   "outputs": [
    {
     "name": "stdout",
     "output_type": "stream",
     "text": [
      "Angle 1: 3.769764988139598 Angle 2: 2.426870085258579 Formula: 1\n",
      "Angle 1: 2.37162202679772 Angle 2: 3.6900488643094502 Formula: 2\n",
      "Angle 1: 3.7032145994500496 Angle 2: 2.3639298270077758 Formula: 1\n",
      "Angle 1: 2.29563083526083 Angle 2: 3.616435313417505 Formula: 2\n",
      "Angle 1: 3.627407863651485 Angle 2: 2.290296160482369 Formula: 1\n",
      "Angle 1: 2.228432653075597 Angle 2: 3.55348680822222 Formula: 2\n",
      "Angle 1: 3.5617335963787924 Angle 2: 2.2228493174099975 Formula: 1\n",
      "Angle 1: 2.151296362174189 Angle 2: 3.4920749515527203 Formula: 2\n",
      "Angle 1: 2.4591414092512447 Angle 2: 3.7803357589483673 Formula: 2\n",
      "Angle 1: 3.7915397137575155 Angle 2: 2.454500027352438 Formula: 1\n",
      "Angle 1: 2.3944922342235406 Angle 2: 3.712864722766298 Formula: 2\n",
      "Angle 1: 3.7176461519146913 Angle 2: 2.386635548816761 Formula: 1\n",
      "Angle 1: 2.320138929014243 Angle 2: 3.6434614901190336 Formula: 2\n",
      "Angle 1: 3.650823187404891 Angle 2: 2.3091746745257336 Formula: 1\n",
      "Angle 1: 2.250979537464497 Angle 2: 3.5781907400642097 Formula: 2\n",
      "Angle 1: 3.581321602599869 Angle 2: 2.2442826436081775 Formula: 1\n",
      "Angle 1: 2.176852625279894 Angle 2: 3.5113444334549615 Formula: 2\n",
      "Angle 1: 2.4796570516425747 Angle 2: 3.7990702092675708 Formula: 2\n",
      "Angle 1: 3.8167183512067098 Angle 2: 2.472026628518294 Formula: 1\n",
      "Angle 1: 2.410328817494411 Angle 2: 3.727688500811588 Formula: 2\n",
      "Angle 1: 3.7400290990259615 Angle 2: 2.397744631025535 Formula: 1\n"
     ]
    },
    {
     "name": "stderr",
     "output_type": "stream",
     "text": [
      "/tmp/ipykernel_2903/2142871346.py:122: RuntimeWarning: More than 20 figures have been opened. Figures created through the pyplot interface (`matplotlib.pyplot.figure`) are retained until explicitly closed and may consume too much memory. (To control this warning, see the rcParam `figure.max_open_warning`).\n",
      "  fig4, ax4 = plt.subplots(1)\n"
     ]
    },
    {
     "name": "stdout",
     "output_type": "stream",
     "text": [
      "Angle 1: 2.342132644128286 Angle 2: 3.6625312714337364 Formula: 2\n",
      "Angle 1: 3.6700961253522895 Angle 2: 2.330207322461319 Formula: 1\n",
      "Angle 1: 2.2747691542491073 Angle 2: 3.6002223123723107 Formula: 2\n",
      "Angle 1: 3.599407417074304 Angle 2: 2.2641596322361006 Formula: 1\n",
      "Angle 1: 2.193088581696199 Angle 2: 3.522406844746851 Formula: 2\n",
      "Angle 1: 2.4951136652827546 Angle 2: 3.8243642249249863 Formula: 2\n",
      "Angle 1: 3.830364664558723 Angle 2: 2.4899414140405827 Formula: 1\n",
      "Angle 1: 2.4279945851299285 Angle 2: 3.754395047488593 Formula: 2\n",
      "Angle 1: 3.7583671175510367 Angle 2: 2.420696894257487 Formula: 1\n",
      "Angle 1: 2.3610076520793446 Angle 2: 3.6792648908280983 Formula: 2\n",
      "Angle 1: 3.683194856085905 Angle 2: 2.346585930616809 Formula: 1\n",
      "Angle 1: 2.2929297693481225 Angle 2: 3.6153131162445873 Formula: 2\n",
      "Angle 1: 3.6181659060222593 Angle 2: 2.282140881140806 Formula: 1\n",
      "Angle 1: 2.2131187303626043 Angle 2: 3.545560602335983 Formula: 2\n",
      "Angle 1: 2.518750828997721 Angle 2: 3.8436546089630985 Formula: 2\n",
      "Angle 1: 3.8545753700443908 Angle 2: 2.515241677803203 Formula: 1\n",
      "Angle 1: 2.4549929119215808 Angle 2: 3.7719640502178278 Formula: 2\n",
      "Angle 1: 3.781442716455438 Angle 2: 2.444986069512756 Formula: 1\n",
      "Angle 1: 2.377060507382403 Angle 2: 3.698590124299693 Formula: 2\n",
      "Angle 1: 3.7130669891305956 Angle 2: 2.3763132402989124 Formula: 1\n",
      "Angle 1: 2.308574518491449 Angle 2: 3.6361375401681895 Formula: 2\n",
      "Angle 1: 2.6083954835144243 Angle 2: 3.9453541434100914 Formula: 2\n",
      "Angle 1: 3.9472220205142947 Angle 2: 2.6053252904747763 Formula: 1\n",
      "Angle 1: 2.539711417828241 Angle 2: 3.8674369317791317 Formula: 2\n",
      "Angle 1: 3.878814311812191 Angle 2: 2.533716466202847 Formula: 1\n",
      "Angle 1: 2.470670450348439 Angle 2: 3.7978052303131236 Formula: 2\n",
      "Angle 1: 3.8006246091695455 Angle 2: 2.4579866253646125 Formula: 1\n",
      "Angle 1: 2.4032769879173794 Angle 2: 3.7257718286478907 Formula: 2\n",
      "Angle 1: 3.7368423487142093 Angle 2: 2.39528279685433 Formula: 1\n",
      "Angle 1: 2.328226713863991 Angle 2: 3.652527980117409 Formula: 2\n",
      "Angle 1: 2.628810144573328 Angle 2: 3.964305713754916 Formula: 2\n",
      "Angle 1: 3.9715699063487144 Angle 2: 2.628468747826828 Formula: 1\n",
      "Angle 1: 2.557624302125142 Angle 2: 3.8910132187734083 Formula: 2\n",
      "Angle 1: 3.8886548374634233 Angle 2: 2.5506796392987447 Formula: 1\n",
      "Angle 1: 2.4948502559121235 Angle 2: 3.8228592019436416 Formula: 2\n",
      "Angle 1: 3.827372773729296 Angle 2: 2.4865782134430225 Formula: 1\n",
      "Angle 1: 2.424029871752871 Angle 2: 3.7457251639813407 Formula: 2\n",
      "Angle 1: 3.75335739802461 Angle 2: 2.4167820128776354 Formula: 1\n",
      "Angle 1: 2.3566689164046135 Angle 2: 3.6741746009658063 Formula: 2\n",
      "Angle 1: 2.653302899990134 Angle 2: 3.990257279943855 Formula: 2\n",
      "Angle 1: 3.9876594446933096 Angle 2: 2.6433128779454202 Formula: 1\n",
      "Angle 1: 2.5859462307492564 Angle 2: 3.916414436936627 Formula: 2\n",
      "Angle 1: 3.9212763334258183 Angle 2: 2.5780916029232452 Formula: 1\n",
      "Angle 1: 2.513161065587092 Angle 2: 3.836766691905134 Formula: 2\n",
      "Angle 1: 3.845327898955886 Angle 2: 2.507304465037573 Formula: 1\n",
      "Angle 1: 2.4447309282249248 Angle 2: 3.7686933742638926 Formula: 2\n",
      "Angle 1: 3.7721803134205283 Angle 2: 2.4371314618122426 Formula: 1\n",
      "Angle 1: 2.3751563324641003 Angle 2: 3.698579864993559 Formula: 2\n",
      "Angle 1: 2.6724016439054794 Angle 2: 4.012900853440851 Formula: 2\n",
      "Angle 1: 4.012206944499972 Angle 2: 2.666015246318793 Formula: 1\n",
      "Angle 1: 2.601145762215569 Angle 2: 3.938158648848705 Formula: 2\n",
      "Angle 1: 3.9358191477327145 Angle 2: 2.5953097605882425 Formula: 1\n",
      "Angle 1: 2.5346432303856656 Angle 2: 3.8622375777194162 Formula: 2\n",
      "Angle 1: 3.863176892603426 Angle 2: 2.5225032544065766 Formula: 1\n",
      "Angle 1: 2.467578737876037 Angle 2: 3.7872813119856477 Formula: 2\n",
      "Angle 1: 2.7641978269232235 Angle 2: 4.116589479626782 Formula: 2\n",
      "Angle 1: 4.1055282100995285 Angle 2: 2.757471066125515 Formula: 1\n",
      "Angle 1: 2.689902517741543 Angle 2: 4.03267081044625 Formula: 2\n",
      "Angle 1: 2.686229541680999 Angle 2: 4.032847123507663 Formula: 2\n",
      "Angle 1: 2.622384668868347 Angle 2: 3.9548511587400865 Formula: 2\n",
      "Angle 1: 3.9629094386076336 Angle 2: 2.622135566222193 Formula: 1\n",
      "Angle 1: 2.5553295277179027 Angle 2: 3.8833858006457804 Formula: 2\n",
      "Angle 1: 3.886084073492197 Angle 2: 2.546727953946964 Formula: 1\n",
      "Angle 1: 2.4817111019464484 Angle 2: 3.8078795836127237 Formula: 2\n",
      "Angle 1: 2.783910368652018 Angle 2: 4.137589083912406 Formula: 2\n",
      "Angle 1: 2.7815008857023824 Angle 2: 4.1336379370927325 Formula: 2\n",
      "Angle 1: 2.710832780755058 Angle 2: 4.057942368715249 Formula: 2\n",
      "Angle 1: 2.7083448341983116 Angle 2: 4.058137547041097 Formula: 2\n",
      "Angle 1: 2.6429895769997427 Angle 2: 3.977826553083984 Formula: 2\n",
      "Angle 1: 3.9852799168039073 Angle 2: 2.638015979213922 Formula: 1\n",
      "Angle 1: 2.575128741036342 Angle 2: 3.9071520953039487 Formula: 2\n",
      "Angle 1: 3.9147919674045677 Angle 2: 2.5699554350275418 Formula: 1\n",
      "Angle 1: 2.5031259897599933 Angle 2: 3.8301225969099226 Formula: 2\n",
      "Angle 1: 2.79909450888373 Angle 2: 4.15080325960345 Formula: 2\n",
      "Angle 1: 4.160116988814124 Angle 2: 2.8015751515210585 Formula: 1\n",
      "Angle 1: 2.737624743120591 Angle 2: 4.0811158329831105 Formula: 2\n",
      "Angle 1: 2.7304752031818253 Angle 2: 4.082088440425368 Formula: 2\n",
      "Angle 1: 2.6606861327600546 Angle 2: 4.004376421476249 Formula: 2\n",
      "Angle 1: 4.005287893626712 Angle 2: 2.6579413291395815 Formula: 1\n",
      "Angle 1: 2.5946496919334985 Angle 2: 3.925761362643994 Formula: 2\n",
      "Angle 1: 3.936790922792007 Angle 2: 2.591128610416134 Formula: 1\n",
      "Angle 1: 2.529168311450727 Angle 2: 3.8574380661628287 Formula: 2\n",
      "Angle 1: 2.8162072259265125 Angle 2: 4.173596805494068 Formula: 2\n",
      "Angle 1: 2.824649142284489 Angle 2: 4.177586403046169 Formula: 2\n",
      "Angle 1: 2.754053505314508 Angle 2: 4.108317877100827 Formula: 2\n",
      "Angle 1: 4.103420351098478 Angle 2: 2.7480049133300932 Formula: 1\n",
      "Angle 1: 2.68265948400639 Angle 2: 4.023540848329629 Formula: 2\n",
      "Angle 1: 4.022128201443113 Angle 2: 2.673356284542307 Formula: 1\n",
      "Angle 1: 2.61496805331786 Angle 2: 3.9484031976859817 Formula: 2\n",
      "Angle 1: 2.9127626875669796 Angle 2: 4.2825639649771805 Formula: 2\n",
      "Angle 1: 2.9195502042700885 Angle 2: 4.282377933297936 Formula: 2\n",
      "Angle 1: 2.844497599254632 Angle 2: 4.208038865846394 Formula: 2\n",
      "Angle 1: 2.844733153259399 Angle 2: 4.200850752301187 Formula: 2\n",
      "Angle 1: 2.7729935923834734 Angle 2: 4.125035750536959 Formula: 2\n",
      "Angle 1: 2.768122769948115 Angle 2: 4.120005322196566 Formula: 2\n",
      "Angle 1: 2.7045717168445376 Angle 2: 4.044361982241213 Formula: 2\n",
      "Angle 1: 4.05041081908473 Angle 2: 2.7042396528811294 Formula: 1\n",
      "Angle 1: 2.635298417764193 Angle 2: 3.9707112486981964 Formula: 2\n",
      "Angle 1: 2.934835961038377 Angle 2: 4.308413979360495 Formula: 2\n",
      "Angle 1: 2.935256440613267 Angle 2: 4.302371587262424 Formula: 2\n",
      "Angle 1: 2.8625882855986684 Angle 2: 4.222911638462294 Formula: 2\n",
      "Angle 1: 2.867741318505932 Angle 2: 4.22767770764676 Formula: 2\n",
      "Angle 1: 2.791254244714641 Angle 2: 4.144134876179523 Formula: 2\n",
      "Angle 1: 2.797189014358746 Angle 2: 4.151774689904165 Formula: 2\n",
      "Angle 1: 2.729838903048211 Angle 2: 4.0725030364625034 Formula: 2\n",
      "Angle 1: 4.074197543251612 Angle 2: 2.7251383064932644 Formula: 1\n",
      "Angle 1: 2.656019491256552 Angle 2: 3.996695418367689 Formula: 2\n",
      "Angle 1: 2.951303384619969 Angle 2: 4.325358600512935 Formula: 2\n",
      "Angle 1: 2.954330774105284 Angle 2: 4.319507924122698 Formula: 2\n",
      "Angle 1: 2.882109765178865 Angle 2: 4.253337690650227 Formula: 2\n",
      "Angle 1: 2.885045583323667 Angle 2: 4.24508048733981 Formula: 2\n",
      "Angle 1: 2.8133207709736867 Angle 2: 4.174100320978409 Formula: 2\n",
      "Angle 1: 4.172814064171316 Angle 2: 2.8196601028161066 Formula: 1\n",
      "Angle 1: 2.7452259184915158 Angle 2: 4.097626458415861 Formula: 2\n",
      "Angle 1: 4.097403862290605 Angle 2: 2.7479661798608137 Formula: 1\n",
      "Angle 1: 2.674121761825762 Angle 2: 4.0137227930340185 Formula: 2\n",
      "Angle 1: 2.972468140063537 Angle 2: 4.350885507194718 Formula: 2\n",
      "Angle 1: 2.9837529433948946 Angle 2: 4.347105144893877 Formula: 2\n",
      "Angle 1: 2.9080905748341386 Angle 2: 4.277152643320923 Formula: 2\n",
      "Angle 1: 2.9138910139005394 Angle 2: 4.279305905821968 Formula: 2\n",
      "Angle 1: 2.831373320861921 Angle 2: 4.1939456443781715 Formula: 2\n",
      "Angle 1: 2.836884053442155 Angle 2: 4.192350922872006 Formula: 2\n",
      "Angle 1: 2.76504388529165 Angle 2: 4.114862053281214 Formula: 2\n",
      "Angle 1: 3.0583764924883363 Angle 2: 4.446076879120433 Formula: 2\n",
      "Angle 1: 3.075662462965662 Angle 2: 4.4517840193811615 Formula: 2\n",
      "Angle 1: 2.991804119679886 Angle 2: 4.368676852975956 Formula: 2\n"
     ]
    }
   ],
   "source": [
    "\"\"\"\n",
    "new changes:\n",
    "\n",
    "need to remove the global phase error, which arises due to the dropping of points when \"blanking\" the flux ramp reset\n",
    "\n",
    "process:\n",
    "1. full dataset\n",
    "2. chunk\n",
    "3. interpolate chunk (switch to linear interpolation) - 1024 points\n",
    "4. set points in the reset period to 0\n",
    "5. zero pad\n",
    "\"\"\"\n",
    "from scipy.interpolate import interp1d\n",
    "\n",
    "def find_nearest_idx(array, value):\n",
    "    array = np.asarray(array)\n",
    "    idx = (np.abs(array - value)).argmin()\n",
    "    return idx\n",
    "\n",
    "def extract_phase(t, data, n, n_blank, plot_fft = False, plot_limited_fft = False, plot_fit = False, plot_vectors = False, plot_phase = False):\n",
    "    \"\"\"\n",
    "    params\n",
    "    ======\n",
    "    data: data from a single flux ramp reset period\n",
    "    n: number of harmonics preserved\n",
    "    n_blank: number of points cut from end (to help remove flux ramp reset period)\n",
    "    plot_fft: If true, plot the relevant ffts (default = False)\n",
    "    plot_fit: If true, plot the relevant fit (default = False)\n",
    "    \"\"\"      \n",
    "    #find the the two fft terms with the most power\n",
    "    \n",
    "    data_fft = fft(data)\n",
    "    freqs = fftfreq(len(data), np.median(np.diff(t)))\n",
    "    \n",
    "    if plot_fft == True:\n",
    "        fig1, ax1 = plt.subplots(1)\n",
    "        \n",
    "        ax1.stem(freqs, np.abs(data_fft))\n",
    "        ax1.set_xlabel('Frequency (Hz)')\n",
    "        ax1.set_ylabel('Amplitude (arb.)')\n",
    "        ax1.set_xlim([-500,500])\n",
    "    \n",
    "    fundamental_idx_1 = np.argmax(np.abs(data_fft))\n",
    "    #print(fundamental_idx_1)\n",
    "    remove_highest = deepcopy(data_fft)\n",
    "    #print(len(remove_highest))\n",
    "    np.put(remove_highest, [fundamental_idx_1, int(len(remove_highest)-fundamental_idx_1)], 0.0) #remove the highest term and its complex conjugate in order to search for the second highest term\n",
    "    fundamental_idx_2 = np.argmax(np.abs(remove_highest))\n",
    "    #print(fundamental_idx_2)\n",
    "    \n",
    "    mask = np.zeros(len(data))\n",
    "    try:\n",
    "        for i in range(n):\n",
    "            np.put(mask, [fundamental_idx_1*(i+1), fundamental_idx_2*(i+1)], 1.0)\n",
    "            np.put(mask, [len(data)-(fundamental_idx_1*(i+1)), len(data)-(fundamental_idx_2*(i+1))], 1.0)\n",
    "    except IndexError:\n",
    "        print('Harmonic setting (n) too high. Using highest harmonic available.')\n",
    "        \n",
    "    data_fft_harmonics_only = data_fft * mask\n",
    "    \n",
    "    fit = ifft(data_fft_harmonics_only)\n",
    "    \n",
    "    R1 = np.real(data_fft_harmonics_only[fundamental_idx_1])\n",
    "    R2 = np.real(data_fft_harmonics_only[fundamental_idx_2])\n",
    "\n",
    "    I1 = np.imag(data_fft_harmonics_only[fundamental_idx_1])\n",
    "    I2 = np.imag(data_fft_harmonics_only[fundamental_idx_2])\n",
    "    \n",
    "    if I1 > 0:\n",
    "        angle1 = np.angle(R1+1j*I1)\n",
    "    elif I1 < 0:\n",
    "        angle1 = 2*np.pi + np.angle(R1+1j*I1)\n",
    "    elif I1 == 0 and R1 > 0:\n",
    "        angle1 = 0\n",
    "    elif I1 == 0 and R1 < 0:\n",
    "        angle1 = np.pi\n",
    "        \n",
    "    if I2 > 0:\n",
    "        angle2 = np.angle(R2+1j*I2)\n",
    "    elif I2 < 0:\n",
    "        angle2 = 2*np.pi + np.angle(R2+1j*I2)\n",
    "    elif I2 == 0 and R2 > 0:\n",
    "        angle2 = 0\n",
    "    elif I2 == 0 and R2 < 0:\n",
    "        angle2 = np.pi\n",
    "        \n",
    "    if angle1 > angle2:\n",
    "        interpolated_phase1 = np.arctan((I1+R2)/(R1-I2))\n",
    "        formula = 1\n",
    "    elif angle2 > angle1:\n",
    "        interpolated_phase1 = np.arctan((I1-R2)/(R1+I2)) #something is wrong with this formula; the vector plots don't look right\n",
    "        formula = 2\n",
    "    \n",
    "    \n",
    "    #interpolated_phase1 = np.angle(data_fft_harmonics_only[fundamental_idx_1])\n",
    "    #interpolated_phase2 = np.angle(data_fft_harmonics_only[fundamental_idx_2])\n",
    "    #interpolated_phase1 = np.arctan2((I1+R2),(R1-I2))\n",
    "    interpolated_phase2 = np.arctan2(I2,R2)\n",
    "    #interpolated_phase2 = (np.arctan(I1/R1) + np.arctan(I2/R2)-np.pi/2)/2\n",
    "    \n",
    "    t_phase = np.median(t)\n",
    "    \n",
    "    \n",
    "    \n",
    "    if plot_limited_fft == True:\n",
    "        fig2, ax2 = plt.subplots(1)\n",
    "        \n",
    "        ax2.stem(freqs, np.abs(data_fft_harmonics_only))\n",
    "        ax2.set_xlabel('Frequency (Hz)')\n",
    "        ax2.set_ylabel('Amplitude (arb.)')\n",
    "        ax2.set_xlim([-500,500])\n",
    "    \n",
    "    if plot_fit == True:\n",
    "        fig3, ax3 = plt.subplots(1)\n",
    "        \n",
    "        ax3.plot(t, data, '.',label='Data')\n",
    "        ax3.plot(t, fit, label='fit')\n",
    "        ax3.set_xlabel('t (s)')\n",
    "        ax3.set_ylabel('Amplitude (arb.)')\n",
    "        \n",
    "    if plot_vectors == True:\n",
    "        fig4, ax4 = plt.subplots(1)\n",
    "        \n",
    "        vec1 = [0+0j, data_fft_harmonics_only[fundamental_idx_1]]\n",
    "        vec2 = [0+0j, data_fft_harmonics_only[fundamental_idx_2]]\n",
    "        if angle1 > angle2:\n",
    "            vec3 = [0+0j, (R1-I2)+1j*(R2+I1)]\n",
    "            label = 'angle1 > angle2'\n",
    "        elif angle2 > angle1:\n",
    "            vec3 = [0+0j, (R1+I2)+1j*(I1-R2)]\n",
    "            label = 'angle2 > angle1'\n",
    "        \n",
    "        ax4.plot(np.real(vec1), np.imag(vec1),label='vec1')\n",
    "        ax4.plot(np.real(vec2), np.imag(vec2),label='vec2')\n",
    "        ax4.plot(np.real(vec3), np.imag(vec3),label=label)\n",
    "    \n",
    "        ax4.set_xlabel('Re')\n",
    "        ax4.set_ylabel('Im')\n",
    "        ax4.set_xlim([-1000,1000])\n",
    "        ax4.set_ylim([-1000,1000])\n",
    "        ax4.legend()\n",
    "    \n",
    "    if plot_phase == True:\n",
    "        fig5, ax5 = plt.subplots(1)\n",
    "        \n",
    "        data_fft_phase_threshold = deepcopy(data_fft_harmonics_only)\n",
    "        threshold = max(np.abs(data_fft_phase_threshold))/10000\n",
    "        data_fft_phase_threshold[np.abs(data_fft_phase_threshold) < threshold] = 0.0\n",
    "        \n",
    "        ax5.stem(freqs,np.angle(data_fft_phase_threshold))\n",
    "        \n",
    "    print(f'Angle 1: {angle1} Angle 2: {angle2} Formula: {formula}')\n",
    "        \n",
    "    \n",
    "    return freqs, data_fft_harmonics_only, t, fit, t_phase, interpolated_phase1, interpolated_phase2\n",
    "\n",
    "channels = [4]\n",
    "chunks = range(len(test_ts_processed['reset indices'])-2)\n",
    "n_zeroed = 5\n",
    "\n",
    "\n",
    "fig_demod, ax_demod = plt.subplots(1)\n",
    "for ch in channels:\n",
    "    t_array = np.array([])\n",
    "    phase_array = np.array([])\n",
    "    #fig1, ax1 = plt.subplots(1)\n",
    "    #fig2, ax2 = plt.subplots(1)\n",
    "    fig3, ax3 = plt.subplots(1)\n",
    "    #fig4, ax4 = plt.subplots(1)\n",
    "    \n",
    "    for chunk in chunks:\n",
    "\n",
    "        start = test_ts_processed['reset indices'][chunk] + test_ts_processed['start index']# + test_ts_processed['reset indices'][chunk]\n",
    "        stop = test_ts_processed['reset indices'][chunk+1] + test_ts_processed['start index']\n",
    "        average = np.average(test_ts_processed['fr data'][ch])\n",
    "\n",
    "        t_chunk = test_ts_processed['fr t'][start:stop]#-test_ts_processed['fr t'][start]\n",
    "        sig_chunk = test_ts_processed['fr data'][ch][start:stop]-average\n",
    "\n",
    "        #ax1.plot(t_chunk, sig_chunk,'.-')\n",
    "\n",
    "        interpolation = interp1d(t_chunk, sig_chunk)\n",
    "\n",
    "        t_interp = np.linspace(t_chunk[0], t_chunk[-1], 1024)\n",
    "        sig_interp = interpolation(t_interp)\n",
    "\n",
    "        #ax2.plot(t_interp, sig_interp,'.-')\n",
    "\n",
    "        endpoint_idx = find_nearest_idx(t_interp,t_chunk[-n_zeroed]) #figure out the time stamp in the interpolation that is closest to the blanking point in the original data\n",
    "        sig_interp[endpoint_idx:] = 0\n",
    "\n",
    "        ax3.plot(t_interp, sig_interp,'.')\n",
    "\n",
    "        sig_zero_pad = np.append(sig_interp, np.zeros(len(sig_interp)))\n",
    "        t_zero_pad = np.linspace(t_interp[0], t_interp[-1] + (t_interp[-1] - t_interp[0]), 2*len(t_interp))\n",
    "\n",
    "        #ax4.plot(t_zero_pad, sig_zero_pad,'.')\n",
    "\n",
    "        freqs, data_fft_harmonics_only, t, fit, t_phase, phase1, phase2 = extract_phase(t=t_zero_pad, \n",
    "                                                                                       data=sig_zero_pad, \n",
    "                                                                                       n=1, \n",
    "                                                                                       n_blank=0, \n",
    "                                                                                       plot_fft = False, \n",
    "                                                                                       plot_limited_fft = False,\n",
    "                                                                                       plot_fit = False,\n",
    "                                                                                       plot_vectors = True,\n",
    "                                                                                       plot_phase = False)\n",
    "        \n",
    "        phase_array = np.append(phase_array, phase1)\n",
    "\n",
    "    t_array = np.linspace(test_ts_processed['fr t'][0], test_ts_processed['fr t'][-1], len(chunks)) - test_ts_processed['fr t'][0] \n",
    "    ax_demod.plot(t_array, np.unwrap(phase_array),'.-')"
   ]
  },
  {
   "cell_type": "code",
   "execution_count": 35,
   "id": "03553c8c-0a48-41ea-9570-225a46388d4a",
   "metadata": {},
   "outputs": [
    {
     "name": "stdout",
     "output_type": "stream",
     "text": [
      "0.25 0.75 -0.75 -0.25\n"
     ]
    }
   ],
   "source": [
    "q1 = 1+1j\n",
    "q2 = -1+1j\n",
    "q3 = -1-1j\n",
    "q4 = 1-1j\n",
    "\n",
    "print(np.angle(q1)/np.pi, np.angle(q2)/np.pi, np.angle(q3)/np.pi, np.angle(q4)/np.pi)"
   ]
  },
  {
   "cell_type": "code",
   "execution_count": 176,
   "id": "82847edb-9b92-4ee1-82f3-e1f6fe752bae",
   "metadata": {
    "tags": []
   },
   "outputs": [
    {
     "name": "stdout",
     "output_type": "stream",
     "text": [
      "1018.5702932867123\n",
      "Angle 1: 3.7201858699104804 Angle 2: 4.9777782742721906 Formula: 2\n",
      "Angle 1: 3.745536022154859 Angle 2: 5.020281962648703 Formula: 2\n",
      "Angle 1: 3.7950910753934597 Angle 2: 5.044678332298745 Formula: 2\n",
      "Angle 1: 3.815719418655819 Angle 2: 5.078236931397698 Formula: 2\n",
      "Angle 1: 3.8202262411589625 Angle 2: 5.067203647210064 Formula: 2\n",
      "Angle 1: 3.8263939807675333 Angle 2: 5.077532411767128 Formula: 2\n",
      "Angle 1: 3.8287540643703695 Angle 2: 5.0738099081679975 Formula: 2\n",
      "Angle 1: 3.8113290931209245 Angle 2: 5.0594283461586835 Formula: 2\n",
      "Angle 1: 3.8152250664486127 Angle 2: 5.089777605075662 Formula: 2\n",
      "Angle 1: 3.8033339125584456 Angle 2: 5.051219661075155 Formula: 2\n",
      "Angle 1: 3.8208326282020297 Angle 2: 5.083170992633914 Formula: 2\n",
      "Angle 1: 3.836258027944874 Angle 2: 5.072690267889728 Formula: 2\n",
      "Angle 1: 3.887682819446266 Angle 2: 5.140896011030343 Formula: 2\n",
      "Angle 1: 3.908565983272445 Angle 2: 5.143604596912223 Formula: 2\n",
      "Angle 1: 3.922820139399563 Angle 2: 5.167470850583804 Formula: 2\n",
      "Angle 1: 3.9184556650479356 Angle 2: 5.149342946304451 Formula: 2\n",
      "Angle 1: 3.930077110849306 Angle 2: 5.171404111388789 Formula: 2\n",
      "Angle 1: 3.9257685746297053 Angle 2: 5.187176962084867 Formula: 2\n",
      "Angle 1: 3.8882720042048944 Angle 2: 5.1339806978144 Formula: 2\n",
      "Angle 1: 3.9131920259532897 Angle 2: 5.164990531018097 Formula: 2\n",
      "Angle 1: 3.9051322504800683 Angle 2: 5.135511201816849 Formula: 2\n",
      "Angle 1: 3.9260176509252513 Angle 2: 5.172656997303502 Formula: 2\n"
     ]
    },
    {
     "name": "stderr",
     "output_type": "stream",
     "text": [
      "/tmp/ipykernel_2903/1389759170.py:110: RuntimeWarning: More than 20 figures have been opened. Figures created through the pyplot interface (`matplotlib.pyplot.figure`) are retained until explicitly closed and may consume too much memory. (To control this warning, see the rcParam `figure.max_open_warning`).\n",
      "  fig3, ax3 = plt.subplots(1)\n"
     ]
    },
    {
     "name": "stdout",
     "output_type": "stream",
     "text": [
      "Angle 1: 3.98009001679388 Angle 2: 5.209291747836483 Formula: 2\n",
      "Angle 1: 4.000458428118925 Angle 2: 5.235805054361602 Formula: 2\n",
      "Angle 1: 3.9875971787356295 Angle 2: 5.211041466349932 Formula: 2\n",
      "Angle 1: 4.009211783449215 Angle 2: 5.240785220456168 Formula: 2\n",
      "Angle 1: 4.039607285851055 Angle 2: 5.291366532766077 Formula: 2\n",
      "Angle 1: 3.9950325059313236 Angle 2: 5.220900576621034 Formula: 2\n",
      "Angle 1: 3.9975775166881022 Angle 2: 5.243934259210043 Formula: 2\n",
      "Angle 1: 3.9926326524065883 Angle 2: 5.220625631888813 Formula: 2\n",
      "Angle 1: 4.012363304653226 Angle 2: 5.249895517771861 Formula: 2\n",
      "Angle 1: 4.016146038176853 Angle 2: 5.239162111972539 Formula: 2\n",
      "Angle 1: 4.076844257018099 Angle 2: 5.301812230251287 Formula: 2\n",
      "Angle 1: 4.075796985918284 Angle 2: 5.287898570641948 Formula: 2\n",
      "Angle 1: 4.106986130623198 Angle 2: 5.324052412033929 Formula: 2\n",
      "Angle 1: 4.121522780007945 Angle 2: 5.367750022767607 Formula: 2\n",
      "Angle 1: 4.112893105745896 Angle 2: 5.326440644973894 Formula: 2\n",
      "Angle 1: 4.101450327052086 Angle 2: 5.329690321778781 Formula: 2\n",
      "Angle 1: 4.07744855165086 Angle 2: 5.28742622868677 Formula: 2\n",
      "Angle 1: 4.0989161329386 Angle 2: 5.326212988010145 Formula: 2\n",
      "Angle 1: 4.090446680733029 Angle 2: 5.302221217504705 Formula: 2\n",
      "Angle 1: 4.118206069428936 Angle 2: 5.333382848162832 Formula: 2\n",
      "Angle 1: 4.17817522275055 Angle 2: 5.421129397694757 Formula: 2\n",
      "Angle 1: 4.1712317505732255 Angle 2: 5.3850586061451 Formula: 2\n",
      "Angle 1: 4.204537991414297 Angle 2: 5.441224014706362 Formula: 2\n",
      "Angle 1: 4.201242858984674 Angle 2: 5.399256300592386 Formula: 2\n",
      "Angle 1: 4.225923144735626 Angle 2: 5.450744390382033 Formula: 2\n",
      "Angle 1: 4.173688725515268 Angle 2: 5.375343941429016 Formula: 2\n",
      "Angle 1: 4.178403949151727 Angle 2: 5.3961545693699655 Formula: 2\n",
      "Angle 1: 4.1799457473476345 Angle 2: 5.380919309822952 Formula: 2\n",
      "Angle 1: 4.193366912552754 Angle 2: 5.404094823963412 Formula: 2\n",
      "Angle 1: 4.2178588403880255 Angle 2: 5.461442657152722 Formula: 2\n",
      "Angle 1: 4.263736335673294 Angle 2: 5.458482925400913 Formula: 2\n",
      "Angle 1: 4.280727033698332 Angle 2: 5.505097539934601 Formula: 2\n",
      "Angle 1: 4.2830428454324565 Angle 2: 5.471829438868297 Formula: 2\n",
      "Angle 1: 4.308564608475461 Angle 2: 5.522883573762271 Formula: 2\n",
      "Angle 1: 4.296914731883404 Angle 2: 5.483362325421019 Formula: 2\n",
      "Angle 1: 4.2883666224633945 Angle 2: 5.4903248036454775 Formula: 2\n",
      "Angle 1: 4.259939373834323 Angle 2: 5.445566924547285 Formula: 2\n",
      "Angle 1: 4.2830222686717265 Angle 2: 5.479682922154032 Formula: 2\n",
      "Angle 1: 4.293926995338845 Angle 2: 5.521437846337676 Formula: 2\n",
      "Angle 1: 4.2962661480679785 Angle 2: 5.490293453943655 Formula: 2\n",
      "Angle 1: 4.361487849031865 Angle 2: 5.578021774971839 Formula: 2\n",
      "Angle 1: 4.364658644240515 Angle 2: 5.544944773029084 Formula: 2\n",
      "Angle 1: 4.392689571266997 Angle 2: 5.595865676135048 Formula: 2\n",
      "Angle 1: 4.376620637890584 Angle 2: 5.554126630335723 Formula: 2\n",
      "Angle 1: 4.403281099298183 Angle 2: 5.594692489962528 Formula: 2\n",
      "Angle 1: 4.361050761674148 Angle 2: 5.534857083031966 Formula: 2\n",
      "Angle 1: 4.368782064069886 Angle 2: 5.551547842645617 Formula: 2\n",
      "Angle 1: 4.380132671624547 Angle 2: 5.587852596590565 Formula: 2\n",
      "Angle 1: 4.3747289909068385 Angle 2: 5.561288304710194 Formula: 2\n",
      "Angle 1: 4.3977731192001315 Angle 2: 5.605426306341974 Formula: 2\n",
      "Angle 1: 4.452502013706972 Angle 2: 5.625443581582741 Formula: 2\n",
      "Angle 1: 4.466126423407875 Angle 2: 5.663537383599531 Formula: 2\n",
      "Angle 1: 4.460949680064371 Angle 2: 5.626387714605439 Formula: 2\n",
      "Angle 1: 4.491197036109645 Angle 2: 5.679762159022809 Formula: 2\n",
      "Angle 1: 4.475617669779471 Angle 2: 5.637132278821765 Formula: 2\n",
      "Angle 1: 4.458109103853973 Angle 2: 5.632505586839406 Formula: 2\n",
      "Angle 1: 4.464145023208973 Angle 2: 5.67093239636669 Formula: 2\n",
      "Angle 1: 4.457599575537543 Angle 2: 5.628715005601441 Formula: 2\n",
      "Angle 1: 4.47781685709296 Angle 2: 5.675216102923794 Formula: 2\n",
      "Angle 1: 4.481959121532793 Angle 2: 5.641316135038988 Formula: 2\n",
      "Angle 1: 4.55281181796213 Angle 2: 5.741197640207435 Formula: 2\n",
      "Angle 1: 4.5385074417583695 Angle 2: 5.695044643383845 Formula: 2\n",
      "Angle 1: 4.574612061836068 Angle 2: 5.747244197249427 Formula: 2\n",
      "Angle 1: 4.577707004898464 Angle 2: 5.788413813883611 Formula: 2\n",
      "Angle 1: 4.576149405623782 Angle 2: 5.737427885434499 Formula: 2\n",
      "Angle 1: 4.549009765475439 Angle 2: 5.748545024694244 Formula: 2\n",
      "Angle 1: 4.542535488253543 Angle 2: 5.707319924578341 Formula: 2\n",
      "Angle 1: 4.559516866261539 Angle 2: 5.752341268852108 Formula: 2\n",
      "Angle 1: 4.5574791244835815 Angle 2: 5.709338615919354 Formula: 2\n",
      "Angle 1: 4.579002643090449 Angle 2: 5.752859432725609 Formula: 2\n",
      "Angle 1: 4.624670310818282 Angle 2: 5.771266496764934 Formula: 2\n",
      "Angle 1: 4.6451569057737085 Angle 2: 5.808824516289619 Formula: 2\n",
      "Angle 1: 4.6524630534592815 Angle 2: 5.863164561133658 Formula: 2\n",
      "Angle 1: 4.654037529316509 Angle 2: 5.811779413688355 Formula: 2\n",
      "Angle 1: 4.662738489848428 Angle 2: 5.858635107872594 Formula: 2\n",
      "Angle 1: 4.626934449314135 Angle 2: 5.783441027499534 Formula: 2\n",
      "Angle 1: 4.646895634699385 Angle 2: 5.825309603215344 Formula: 2\n",
      "Angle 1: 4.6341307596998735 Angle 2: 5.777320897938955 Formula: 2\n",
      "Angle 1: 4.644451454654548 Angle 2: 5.813907850055649 Formula: 2\n",
      "Angle 1: 4.658539231781032 Angle 2: 5.795431905098051 Formula: 2\n",
      "Angle 1: 4.727096187253747 Angle 2: 5.883488640312356 Formula: 2\n",
      "Angle 1: 4.730452862561485 Angle 2: 5.929273409550023 Formula: 2\n",
      "Angle 1: 4.744852724451717 Angle 2: 5.886437310635444 Formula: 2\n",
      "Angle 1: 4.756520875823146 Angle 2: 5.945014322262517 Formula: 2\n",
      "Angle 1: 4.758292931207159 Angle 2: 5.900622448385338 Formula: 2\n",
      "Angle 1: 4.729619397547413 Angle 2: 5.901751156915448 Formula: 2\n",
      "Angle 1: 4.711937894244387 Angle 2: 5.852383533409234 Formula: 2\n",
      "Angle 1: 4.7285460866290245 Angle 2: 5.892839363522016 Formula: 2\n",
      "Angle 1: 4.735896795615453 Angle 2: 5.871147449676325 Formula: 2\n",
      "Angle 1: 4.7571963467712175 Angle 2: 5.906441311257621 Formula: 2\n",
      "Angle 1: 4.814388719804819 Angle 2: 6.009483572859884 Formula: 2\n",
      "Angle 1: 4.818608471957219 Angle 2: 5.963999882083999 Formula: 2\n",
      "Angle 1: 4.822797104052874 Angle 2: 6.005557753451805 Formula: 2\n",
      "Angle 1: 4.842736173245005 Angle 2: 5.97640709934217 Formula: 2\n",
      "Angle 1: 4.84859672309969 Angle 2: 6.013196349119407 Formula: 2\n",
      "Angle 1: 4.80172020533353 Angle 2: 5.930111904264796 Formula: 2\n",
      "Angle 1: 4.814168470298461 Angle 2: 5.972799841125644 Formula: 2\n",
      "Angle 1: 4.808454133752698 Angle 2: 5.9316280376747486 Formula: 2\n",
      "Angle 1: 4.82696584031377 Angle 2: 5.966691814341581 Formula: 2\n",
      "Angle 1: 4.849224904332688 Angle 2: 6.033794897991089 Formula: 2\n",
      "Angle 1: 4.890141925291253 Angle 2: 6.025366686252598 Formula: 2\n",
      "Angle 1: 4.9056978625424845 Angle 2: 6.08919967296854 Formula: 2\n",
      "Angle 1: 4.904201344143722 Angle 2: 6.030477336520403 Formula: 2\n",
      "Angle 1: 4.923405572897936 Angle 2: 6.086545858010913 Formula: 2\n",
      "Angle 1: 4.928512005868296 Angle 2: 6.050182293446892 Formula: 2\n",
      "Angle 1: 4.898980206436225 Angle 2: 6.042108588696063 Formula: 2\n",
      "Angle 1: 4.892274681448131 Angle 2: 6.091970770335097 Formula: 2\n",
      "Angle 1: 4.90692773060859 Angle 2: 6.048529916943626 Formula: 2\n",
      "Angle 1: 4.920547565980138 Angle 2: 6.1018140800426695 Formula: 2\n",
      "Angle 1: 4.932556010431017 Angle 2: 6.062587698573791 Formula: 2\n",
      "Angle 1: 4.982441399254321 Angle 2: 6.149727708265754 Formula: 2\n",
      "Angle 1: 4.989859638913688 Angle 2: 6.110877058564631 Formula: 2\n",
      "Angle 1: 4.994820362738525 Angle 2: 6.15103352481106 Formula: 2\n",
      "Angle 1: 5.001468172275091 Angle 2: 6.113838181699949 Formula: 2\n",
      "Angle 1: 5.018489104724813 Angle 2: 6.158538457510556 Formula: 2\n",
      "Angle 1: 4.986336323434048 Angle 2: 6.170354497412487 Formula: 2\n",
      "Angle 1: 4.9827816292207565 Angle 2: 6.112956477873333 Formula: 2\n",
      "Angle 1: 4.993403177021663 Angle 2: 6.171407830783688 Formula: 2\n",
      "Angle 1: 4.994528434377443 Angle 2: 6.1146712372372845 Formula: 2\n",
      "Angle 1: 5.032120558960631 Angle 2: 6.199720071190416 Formula: 2\n",
      "Angle 1: 5.058112281173831 Angle 2: 6.175291952285588 Formula: 2\n",
      "Angle 1: 5.071522084698456 Angle 2: 6.222489342910433 Formula: 2\n",
      "Angle 1: 5.074881325522573 Angle 2: 6.179720508238474 Formula: 2\n",
      "Angle 1: 5.100427420079454 Angle 2: 6.239328889812202 Formula: 2\n",
      "Angle 1: 5.096969242083379 Angle 2: 0.0005038817673415562 Formula: 1\n",
      "Angle 1: 5.069097082196299 Angle 2: 6.196318907421068 Formula: 2\n",
      "Angle 1: 5.071554052172116 Angle 2: 6.242886286133322 Formula: 2\n",
      "Angle 1: 5.075197166957755 Angle 2: 6.1959365694834565 Formula: 2\n",
      "Angle 1: 5.083725886411683 Angle 2: 6.24176406025264 Formula: 2\n",
      "Angle 1: 5.108284449532054 Angle 2: 6.2195654747707225 Formula: 2\n",
      "Angle 1: 5.155505118490102 Angle 2: 0.02020032890601365 Formula: 1\n",
      "Angle 1: 5.1517359378437515 Angle 2: 6.2564149068372945 Formula: 2\n",
      "Angle 1: 5.177030870885547 Angle 2: 0.03330242010350149 Formula: 1\n",
      "Angle 1: 5.175634784665414 Angle 2: 0.08578079990577969 Formula: 1\n",
      "Angle 1: 5.185993955065701 Angle 2: 0.028607167716322605 Formula: 1\n",
      "Angle 1: 5.155731955085023 Angle 2: 0.0399313310157719 Formula: 1\n",
      "Angle 1: 5.155198210202344 Angle 2: 6.265591931333646 Formula: 2\n",
      "Angle 1: 5.16657630184282 Angle 2: 0.036278476173646976 Formula: 1\n",
      "Angle 1: 5.1629747363944345 Angle 2: 6.2692454177262285 Formula: 2\n",
      "Angle 1: 5.2031197185168985 Angle 2: 0.059602477962186706 Formula: 1\n"
     ]
    },
    {
     "data": {
      "text/plain": [
       "'\\nstill need to fix the accumulated phase\\nproblems if vec2 is in Q1 and vec1 is in Q4 (because of passing over 0): in this case we want to rotate vec2 clockwise\\n'"
      ]
     },
     "execution_count": 176,
     "metadata": {},
     "output_type": "execute_result"
    }
   ],
   "source": [
    "\"\"\"\n",
    "need to make interpolation the first step; before breaking into flux ramp reset periods\n",
    "\"\"\"\n",
    "\n",
    "from scipy.interpolate import interp1d\n",
    "\n",
    "def find_nearest_idx(array, value):\n",
    "    array = np.asarray(array)\n",
    "    idx = (np.abs(array - value)).argmin()\n",
    "    return idx\n",
    "\n",
    "def extract_phase(t, data, n, n_blank, plot_fft = False, plot_limited_fft = False, plot_fit = False, plot_vectors = False, plot_phase = False):\n",
    "    \"\"\"\n",
    "    params\n",
    "    ======\n",
    "    data: data from a single flux ramp reset period\n",
    "    n: number of harmonics preserved\n",
    "    n_blank: number of points cut from end (to help remove flux ramp reset period)\n",
    "    plot_fft: If true, plot the relevant ffts (default = False)\n",
    "    plot_fit: If true, plot the relevant fit (default = False)\n",
    "    \"\"\"      \n",
    "    #find the the two fft terms with the most power\n",
    "    \n",
    "    data_fft = fft(data)\n",
    "    freqs = fftfreq(len(data), np.median(np.diff(t)))\n",
    "    \n",
    "    if plot_fft == True:\n",
    "        fig1, ax1 = plt.subplots(1)\n",
    "        \n",
    "        ax1.stem(freqs, np.abs(data_fft))\n",
    "        ax1.set_xlabel('Frequency (Hz)')\n",
    "        ax1.set_ylabel('Amplitude (arb.)')\n",
    "        ax1.set_xlim([-500,500])\n",
    "        \n",
    "    #blank the dc term\n",
    "    no_dc_fft = deepcopy(data_fft)\n",
    "    np.put(no_dc_fft, [0], 0.0)\n",
    "    \n",
    "    fundamental_idx_1 = np.argmax(np.abs(no_dc_fft))\n",
    "    #print(fundamental_idx_1)\n",
    "    remove_highest = deepcopy(no_dc_fft)\n",
    "    #print(len(remove_highest))\n",
    "    np.put(remove_highest, [fundamental_idx_1, int(len(remove_highest)-fundamental_idx_1)], 0.0) #remove the highest term and its complex conjugate in order to search for the second highest term\n",
    "    fundamental_idx_2 = np.argmax(np.abs(remove_highest))\n",
    "    #print(fundamental_idx_2)\n",
    "    \n",
    "    mask = np.zeros(len(data))\n",
    "    try:\n",
    "        for i in range(n):\n",
    "            np.put(mask, [fundamental_idx_1*(i+1), fundamental_idx_2*(i+1)], 1.0)\n",
    "            np.put(mask, [len(data)-(fundamental_idx_1*(i+1)), len(data)-(fundamental_idx_2*(i+1))], 1.0)\n",
    "    except IndexError:\n",
    "        print('Harmonic setting (n) too high. Using highest harmonic available.')\n",
    "        \n",
    "    data_fft_harmonics_only = data_fft * mask\n",
    "    \n",
    "    fit = ifft(data_fft_harmonics_only)\n",
    "    \n",
    "    R1 = np.real(data_fft_harmonics_only[fundamental_idx_1])\n",
    "    R2 = np.real(data_fft_harmonics_only[fundamental_idx_2])\n",
    "\n",
    "    I1 = np.imag(data_fft_harmonics_only[fundamental_idx_1])\n",
    "    I2 = np.imag(data_fft_harmonics_only[fundamental_idx_2])\n",
    "    \n",
    "    if I1 > 0:\n",
    "        angle1 = np.angle(R1+1j*I1)\n",
    "    elif I1 < 0:\n",
    "        angle1 = 2*np.pi + np.angle(R1+1j*I1)\n",
    "    elif I1 == 0 and R1 > 0:\n",
    "        angle1 = 0\n",
    "    elif I1 == 0 and R1 < 0:\n",
    "        angle1 = np.pi\n",
    "        \n",
    "    if I2 > 0:\n",
    "        angle2 = np.angle(R2+1j*I2)\n",
    "    elif I2 < 0:\n",
    "        angle2 = 2*np.pi + np.angle(R2+1j*I2)\n",
    "    elif I2 == 0 and R2 > 0:\n",
    "        angle2 = 0\n",
    "    elif I2 == 0 and R2 < 0:\n",
    "        angle2 = np.pi\n",
    "        \n",
    "    if angle1 > angle2:\n",
    "        interpolated_phase1 = np.arctan2((I1+R2),(R1-I2))\n",
    "        formula = 1\n",
    "    elif angle2 > angle1:\n",
    "        interpolated_phase1 = np.arctan2((I1-R2),(R1+I2)) #something is wrong with this formula; the vector plots don't look right\n",
    "        formula = 2\n",
    "    \n",
    "    \n",
    "    #interpolated_phase1 = np.angle(data_fft_harmonics_only[fundamental_idx_1])\n",
    "    #interpolated_phase2 = np.angle(data_fft_harmonics_only[fundamental_idx_2])\n",
    "    #interpolated_phase1 = np.arctan2((I1+R2),(R1-I2))\n",
    "    interpolated_phase2 = np.arctan2(I2,R2)\n",
    "    #interpolated_phase2 = (np.arctan(I1/R1) + np.arctan(I2/R2)-np.pi/2)/2\n",
    "    \n",
    "    t_phase = np.median(t)\n",
    "    \n",
    "    \n",
    "    \n",
    "    if plot_limited_fft == True:\n",
    "        fig2, ax2 = plt.subplots(1)\n",
    "        \n",
    "        ax2.stem(freqs, np.abs(data_fft_harmonics_only))\n",
    "        ax2.set_xlabel('Frequency (Hz)')\n",
    "        ax2.set_ylabel('Amplitude (arb.)')\n",
    "        ax2.set_xlim([-500,500])\n",
    "    \n",
    "    if plot_fit == True:\n",
    "        fig3, ax3 = plt.subplots(1)\n",
    "        \n",
    "        ax3.plot(t, data, '.',label='Data')\n",
    "        ax3.plot(t, fit, label='fit')\n",
    "        ax3.set_xlabel('t (s)')\n",
    "        ax3.set_ylabel('Amplitude (arb.)')\n",
    "        \n",
    "    if plot_vectors == True:\n",
    "        fig4, ax4 = plt.subplots(1)\n",
    "        \n",
    "        vec1 = [0+0j, data_fft_harmonics_only[fundamental_idx_1]]\n",
    "        vec2 = [0+0j, data_fft_harmonics_only[fundamental_idx_2]]\n",
    "        if angle1 > angle2:\n",
    "            vec3 = [0+0j, (R1-I2)+1j*(R2+I1)]\n",
    "            label = 'angle1 > angle2'\n",
    "        elif angle2 > angle1:\n",
    "            vec3 = [0+0j, (R1+I2)+1j*(I1-R2)]\n",
    "            label = 'angle2 > angle1'\n",
    "        \n",
    "        ax4.plot(np.real(vec1), np.imag(vec1),label='vec1')\n",
    "        ax4.plot(np.real(vec2), np.imag(vec2),label='vec2')\n",
    "        ax4.plot(np.real(vec3), np.imag(vec3),label=label)\n",
    "    \n",
    "        ax4.set_xlabel('Re')\n",
    "        ax4.set_ylabel('Im')\n",
    "        ax4.set_xlim([-1000,1000])\n",
    "        ax4.set_ylim([-1000,1000])\n",
    "        ax4.legend()\n",
    "    \n",
    "    if plot_phase == True:\n",
    "        fig5, ax5 = plt.subplots(1)\n",
    "        \n",
    "        data_fft_phase_threshold = deepcopy(data_fft_harmonics_only)\n",
    "        threshold = max(np.abs(data_fft_phase_threshold))/10000\n",
    "        data_fft_phase_threshold[np.abs(data_fft_phase_threshold) < threshold] = 0.0\n",
    "        \n",
    "        ax5.stem(freqs,np.angle(data_fft_phase_threshold))\n",
    "        \n",
    "    print(f'Angle 1: {angle1} Angle 2: {angle2} Formula: {formula}')\n",
    "        \n",
    "    \n",
    "    return freqs, data_fft_harmonics_only, t, fit, t_phase, interpolated_phase1, interpolated_phase2\n",
    "\n",
    "channels = [137] #136,137 in LN2 set is a good chopped channel\n",
    "chunks = range(len(test_ts_processed['reset indices'])-2)\n",
    "n_zeroed = 6\n",
    "f_fr = 15 #Hz\n",
    "\n",
    "fig6, ax6 = plt.subplots(1)\n",
    "fig7, ax7 = plt.subplots(1)\n",
    "#fig_demod, ax_demod = plt.subplots(1)\n",
    "count=0\n",
    "for ch in channels:\n",
    "    t_array = np.array([])\n",
    "    phase_array = np.array([])\n",
    "    \n",
    "    #raw data\n",
    "    t = test_ts_processed['fr t']\n",
    "    sig = test_ts_processed['fr data'][ch]\n",
    "    \n",
    "    #fig1, ax1 = plt.subplots(1)\n",
    "    #ax1.plot(t,sig,'.-')    \n",
    "    \n",
    "    #interpolate the data\n",
    "    interpolation = interp1d(test_ts_processed['fr t'], test_ts_processed['fr data'][ch])\n",
    "    \n",
    "    t_final = t[-1]\n",
    "    t_start = t[0]\n",
    "    t_elapsed = t_final - t_start\n",
    "    n_reset_periods = t_elapsed * f_fr\n",
    "    \n",
    "    t_interp = np.linspace(t_start, t_final, int(n_reset_periods)*1024)\n",
    "    sig_interp = interpolation(t_interp)\n",
    "    \n",
    "    #fig2, ax2 = plt.subplots(1)\n",
    "    #ax2.plot(t_interp, sig_interp,'.')\n",
    "    \n",
    "    \n",
    "    #fig4, ax4 = plt.subplots(1)\n",
    "    #fig5, ax5 = plt.subplots(1)\n",
    "    #fig6, ax6 = plt.subplots(1)\n",
    "    \n",
    "    chunk_start_idx = find_nearest_idx(t_interp, test_ts_processed['fr t'][test_ts_processed['start index']])\n",
    "    n_fr = 15*(t_interp[-1] - t_interp[chunk_start_idx])\n",
    "    n_ptsfr = len(t_interp[chunk_start_idx:]) / n_fr\n",
    "    print(n_ptsfr)\n",
    "    \n",
    "    for chunk in chunks:\n",
    "        #fig3, ax3 = plt.subplots(1)\n",
    "        \n",
    "        #chunk the interpolated data\n",
    "        \n",
    "        \n",
    "        channel_start_idx = find_nearest_idx(t_interp, test_ts_processed['fr t'][test_ts_processed['start index']])\n",
    "        chunk_start_idx = find_nearest_idx(t_interp, test_ts_processed['fr t'][test_ts_processed['reset indices'][0]])\n",
    "        chunk_stop_idx = find_nearest_idx(t_interp, test_ts_processed['fr t'][test_ts_processed['reset indices'][1]])\n",
    "        \n",
    "        \"\"\"\n",
    "        start = chunk_start_idx + channel_start_idx\n",
    "        stop = chunk_stop_idx + channel_start_idx\n",
    "        \"\"\"\n",
    "        \n",
    "        idx_increase = round(n_ptsfr)#chunk_stop_idx - chunk_start_idx\n",
    "        start = channel_start_idx + idx_increase*chunk\n",
    "        stop = channel_start_idx + idx_increase*(chunk + 1)\n",
    "        \n",
    "        #print(idx_increase, start, stop)\n",
    "        \n",
    "        \n",
    "        average = np.average(sig_interp)\n",
    "\n",
    "        t_chunk = t_interp[start:stop] #- t_interp[start]\n",
    "        sig_chunk = sig_interp[start:stop]-average\n",
    "        \n",
    "        #ax3.plot(t_chunk, sig_chunk,'.')\n",
    "        \n",
    "        #set points that are part of fr reset period to zero        \n",
    "        endpoint_idx = find_nearest_idx(t_chunk,t[test_ts_processed['reset indices'][chunk+1]-n_zeroed]+t[test_ts_processed['start index']]) #figure out the time stamp in the interpolation that is closest to the blanking point in the original data\n",
    "        sig_chunk[endpoint_idx:] = 0\n",
    "        \n",
    "        #ax4.plot(t_chunk, sig_chunk, '.',markersize=0.5)\n",
    "        \n",
    "        sig_zero_pad = np.append(sig_chunk, np.zeros(len(sig_chunk)))\n",
    "        t_zero_pad = np.linspace(t_chunk[0], t_chunk[-1] + (t_chunk[-1] - t_chunk[0]), 2*len(t_chunk))\n",
    "        \n",
    "        #ax5.plot(t_zero_pad, sig_zero_pad, '.')\n",
    "        \n",
    "        \n",
    "        freqs, data_fft_harmonics_only, t_fit, fit, t_phase, phase1, phase2 = extract_phase(t=t_zero_pad, \n",
    "                                                                                       data=sig_zero_pad, \n",
    "                                                                                       n=1, \n",
    "                                                                                       n_blank=0, \n",
    "                                                                                       plot_fft = False, \n",
    "                                                                                       plot_limited_fft = False,\n",
    "                                                                                       plot_fit = True,\n",
    "                                                                                       plot_vectors = False,\n",
    "                                                                                       plot_phase = False)\n",
    "        \n",
    "        phase_array = np.append(phase_array, phase1)\n",
    "        \n",
    "    \n",
    "    phase_array -= np.average(phase_array)\n",
    "    phase_array += count\n",
    "    t_array = np.linspace(t[0], t[-1], len(chunks))\n",
    "    ax6.plot(t_array,np.unwrap(phase_array),'-')\n",
    "    ax6.set_ylim([-0.75,0.75])\n",
    "    \n",
    "    count += 1\n",
    "    \n",
    "\n",
    "\n",
    "    ax7.plot(test_ts_processed['demod t'],test_ts_processed['demod data'][ch])\n",
    "    \n",
    "    \n",
    "    \n",
    "\"\"\"\n",
    "still need to fix the accumulated phase\n",
    "problems if vec2 is in Q1 and vec1 is in Q4 (because of passing over 0): in this case we want to rotate vec2 clockwise\n",
    "\"\"\"\n",
    "    \n",
    "    "
   ]
  },
  {
   "cell_type": "code",
   "execution_count": 21,
   "id": "1139f00d-b658-4e91-8a40-3a94969ef802",
   "metadata": {
    "tags": []
   },
   "outputs": [
    {
     "data": {
      "application/vnd.jupyter.widget-view+json": {
       "model_id": "6825aeca3bb84e73a35bd11a10e02d08",
       "version_major": 2,
       "version_minor": 0
      },
      "text/plain": [
       "  0%|          | 0/231 [00:00<?, ?it/s]"
      ]
     },
     "metadata": {},
     "output_type": "display_data"
    },
    {
     "data": {
      "application/vnd.jupyter.widget-view+json": {
       "model_id": "786a9d7f28a04ecc95fb4582f8cbff6e",
       "version_major": 2,
       "version_minor": 0
      },
      "text/plain": [
       "  0%|          | 0/162 [00:00<?, ?it/s]"
      ]
     },
     "metadata": {},
     "output_type": "display_data"
    },
    {
     "data": {
      "application/vnd.jupyter.widget-view+json": {
       "model_id": "3b1d5cd3259145c48323b09df178ea06",
       "version_major": 2,
       "version_minor": 0
      },
      "text/plain": [
       "  0%|          | 0/162 [00:00<?, ?it/s]"
      ]
     },
     "metadata": {},
     "output_type": "display_data"
    },
    {
     "data": {
      "application/vnd.jupyter.widget-view+json": {
       "model_id": "428eddaabf8343e3adbb502c251d1724",
       "version_major": 2,
       "version_minor": 0
      },
      "text/plain": [
       "  0%|          | 0/162 [00:00<?, ?it/s]"
      ]
     },
     "metadata": {},
     "output_type": "display_data"
    },
    {
     "data": {
      "application/vnd.jupyter.widget-view+json": {
       "model_id": "3f85e863bcab48e2aa5b4663b0cd8d14",
       "version_major": 2,
       "version_minor": 0
      },
      "text/plain": [
       "  0%|          | 0/162 [00:00<?, ?it/s]"
      ]
     },
     "metadata": {},
     "output_type": "display_data"
    },
    {
     "data": {
      "application/vnd.jupyter.widget-view+json": {
       "model_id": "2233776546614d1096fd039e94e921a5",
       "version_major": 2,
       "version_minor": 0
      },
      "text/plain": [
       "  0%|          | 0/162 [00:00<?, ?it/s]"
      ]
     },
     "metadata": {},
     "output_type": "display_data"
    },
    {
     "data": {
      "application/vnd.jupyter.widget-view+json": {
       "model_id": "69a127a42ea5475a9542b6b05d76fe61",
       "version_major": 2,
       "version_minor": 0
      },
      "text/plain": [
       "  0%|          | 0/162 [00:00<?, ?it/s]"
      ]
     },
     "metadata": {},
     "output_type": "display_data"
    },
    {
     "data": {
      "application/vnd.jupyter.widget-view+json": {
       "model_id": "234495c0d230463ead26b739f853b98c",
       "version_major": 2,
       "version_minor": 0
      },
      "text/plain": [
       "  0%|          | 0/162 [00:00<?, ?it/s]"
      ]
     },
     "metadata": {},
     "output_type": "display_data"
    },
    {
     "data": {
      "application/vnd.jupyter.widget-view+json": {
       "model_id": "e38b42135a8241e6b5ca85bcfccbfcb1",
       "version_major": 2,
       "version_minor": 0
      },
      "text/plain": [
       "  0%|          | 0/162 [00:00<?, ?it/s]"
      ]
     },
     "metadata": {},
     "output_type": "display_data"
    },
    {
     "data": {
      "application/vnd.jupyter.widget-view+json": {
       "model_id": "40ae3f87b25b4541823d6bc2dd98f5c3",
       "version_major": 2,
       "version_minor": 0
      },
      "text/plain": [
       "  0%|          | 0/162 [00:00<?, ?it/s]"
      ]
     },
     "metadata": {},
     "output_type": "display_data"
    },
    {
     "data": {
      "application/vnd.jupyter.widget-view+json": {
       "model_id": "0a8d64a2a30142c390856e41e147a714",
       "version_major": 2,
       "version_minor": 0
      },
      "text/plain": [
       "  0%|          | 0/162 [00:00<?, ?it/s]"
      ]
     },
     "metadata": {},
     "output_type": "display_data"
    },
    {
     "data": {
      "application/vnd.jupyter.widget-view+json": {
       "model_id": "4320dc6866d548a4a066b87e1fa489a9",
       "version_major": 2,
       "version_minor": 0
      },
      "text/plain": [
       "  0%|          | 0/162 [00:00<?, ?it/s]"
      ]
     },
     "metadata": {},
     "output_type": "display_data"
    },
    {
     "data": {
      "application/vnd.jupyter.widget-view+json": {
       "model_id": "1d820bf63e69412e8cbe217ffe4afd17",
       "version_major": 2,
       "version_minor": 0
      },
      "text/plain": [
       "  0%|          | 0/162 [00:00<?, ?it/s]"
      ]
     },
     "metadata": {},
     "output_type": "display_data"
    },
    {
     "data": {
      "application/vnd.jupyter.widget-view+json": {
       "model_id": "d4f10ecdb71b4ca889045c7626d3094d",
       "version_major": 2,
       "version_minor": 0
      },
      "text/plain": [
       "  0%|          | 0/162 [00:00<?, ?it/s]"
      ]
     },
     "metadata": {},
     "output_type": "display_data"
    },
    {
     "data": {
      "application/vnd.jupyter.widget-view+json": {
       "model_id": "2f515e5e6c0e4a74bfae96a66769eae3",
       "version_major": 2,
       "version_minor": 0
      },
      "text/plain": [
       "  0%|          | 0/162 [00:00<?, ?it/s]"
      ]
     },
     "metadata": {},
     "output_type": "display_data"
    },
    {
     "data": {
      "application/vnd.jupyter.widget-view+json": {
       "model_id": "ae98ab325dbe42d1914e147c127d7b5e",
       "version_major": 2,
       "version_minor": 0
      },
      "text/plain": [
       "  0%|          | 0/162 [00:00<?, ?it/s]"
      ]
     },
     "metadata": {},
     "output_type": "display_data"
    },
    {
     "data": {
      "application/vnd.jupyter.widget-view+json": {
       "model_id": "1d76a13598dc4190ae7c3cd54aaa570e",
       "version_major": 2,
       "version_minor": 0
      },
      "text/plain": [
       "  0%|          | 0/162 [00:00<?, ?it/s]"
      ]
     },
     "metadata": {},
     "output_type": "display_data"
    },
    {
     "data": {
      "application/vnd.jupyter.widget-view+json": {
       "model_id": "8d0ed942c4774e76973c2acdc90ad237",
       "version_major": 2,
       "version_minor": 0
      },
      "text/plain": [
       "  0%|          | 0/162 [00:00<?, ?it/s]"
      ]
     },
     "metadata": {},
     "output_type": "display_data"
    },
    {
     "data": {
      "application/vnd.jupyter.widget-view+json": {
       "model_id": "6be385a38abb41d28e42cd548543bfdc",
       "version_major": 2,
       "version_minor": 0
      },
      "text/plain": [
       "  0%|          | 0/162 [00:00<?, ?it/s]"
      ]
     },
     "metadata": {},
     "output_type": "display_data"
    },
    {
     "data": {
      "application/vnd.jupyter.widget-view+json": {
       "model_id": "bde2a7faa5ed42179fb1381f2628dac4",
       "version_major": 2,
       "version_minor": 0
      },
      "text/plain": [
       "  0%|          | 0/162 [00:00<?, ?it/s]"
      ]
     },
     "metadata": {},
     "output_type": "display_data"
    },
    {
     "data": {
      "application/vnd.jupyter.widget-view+json": {
       "model_id": "05ee4f7317614bd98e3c3dd1e43dd450",
       "version_major": 2,
       "version_minor": 0
      },
      "text/plain": [
       "  0%|          | 0/162 [00:00<?, ?it/s]"
      ]
     },
     "metadata": {},
     "output_type": "display_data"
    },
    {
     "data": {
      "application/vnd.jupyter.widget-view+json": {
       "model_id": "b7ec4972d18245faaf9d5dba30466ca3",
       "version_major": 2,
       "version_minor": 0
      },
      "text/plain": [
       "  0%|          | 0/162 [00:00<?, ?it/s]"
      ]
     },
     "metadata": {},
     "output_type": "display_data"
    },
    {
     "data": {
      "application/vnd.jupyter.widget-view+json": {
       "model_id": "c61bd87766c140a386bf6f990546c45e",
       "version_major": 2,
       "version_minor": 0
      },
      "text/plain": [
       "  0%|          | 0/162 [00:00<?, ?it/s]"
      ]
     },
     "metadata": {},
     "output_type": "display_data"
    },
    {
     "data": {
      "application/vnd.jupyter.widget-view+json": {
       "model_id": "3f912d5ac6a04e518256522c74dba84b",
       "version_major": 2,
       "version_minor": 0
      },
      "text/plain": [
       "  0%|          | 0/162 [00:00<?, ?it/s]"
      ]
     },
     "metadata": {},
     "output_type": "display_data"
    },
    {
     "data": {
      "application/vnd.jupyter.widget-view+json": {
       "model_id": "7a784bad179e4381914a24fbcb1552ec",
       "version_major": 2,
       "version_minor": 0
      },
      "text/plain": [
       "  0%|          | 0/162 [00:00<?, ?it/s]"
      ]
     },
     "metadata": {},
     "output_type": "display_data"
    },
    {
     "data": {
      "application/vnd.jupyter.widget-view+json": {
       "model_id": "eccb6dc9fb384c8db6717b0ef056901a",
       "version_major": 2,
       "version_minor": 0
      },
      "text/plain": [
       "  0%|          | 0/162 [00:00<?, ?it/s]"
      ]
     },
     "metadata": {},
     "output_type": "display_data"
    },
    {
     "data": {
      "application/vnd.jupyter.widget-view+json": {
       "model_id": "1020d232fa674ad8a577df3de2cdf48e",
       "version_major": 2,
       "version_minor": 0
      },
      "text/plain": [
       "  0%|          | 0/162 [00:00<?, ?it/s]"
      ]
     },
     "metadata": {},
     "output_type": "display_data"
    },
    {
     "data": {
      "application/vnd.jupyter.widget-view+json": {
       "model_id": "45fd0a52386d481c95ee5679f64c79c1",
       "version_major": 2,
       "version_minor": 0
      },
      "text/plain": [
       "  0%|          | 0/162 [00:00<?, ?it/s]"
      ]
     },
     "metadata": {},
     "output_type": "display_data"
    },
    {
     "data": {
      "application/vnd.jupyter.widget-view+json": {
       "model_id": "3d9e00751ec44aa5aa1d7d10cb4f1218",
       "version_major": 2,
       "version_minor": 0
      },
      "text/plain": [
       "  0%|          | 0/162 [00:00<?, ?it/s]"
      ]
     },
     "metadata": {},
     "output_type": "display_data"
    },
    {
     "data": {
      "application/vnd.jupyter.widget-view+json": {
       "model_id": "1e199a49393146e083a7fc89418dcc12",
       "version_major": 2,
       "version_minor": 0
      },
      "text/plain": [
       "  0%|          | 0/162 [00:00<?, ?it/s]"
      ]
     },
     "metadata": {},
     "output_type": "display_data"
    },
    {
     "data": {
      "application/vnd.jupyter.widget-view+json": {
       "model_id": "8645df9f466c4c0a96b2e8ad330ecdfd",
       "version_major": 2,
       "version_minor": 0
      },
      "text/plain": [
       "  0%|          | 0/162 [00:00<?, ?it/s]"
      ]
     },
     "metadata": {},
     "output_type": "display_data"
    },
    {
     "data": {
      "application/vnd.jupyter.widget-view+json": {
       "model_id": "0cdc4ff505be473787ec0dd9ec18a7f2",
       "version_major": 2,
       "version_minor": 0
      },
      "text/plain": [
       "  0%|          | 0/162 [00:00<?, ?it/s]"
      ]
     },
     "metadata": {},
     "output_type": "display_data"
    },
    {
     "data": {
      "application/vnd.jupyter.widget-view+json": {
       "model_id": "865352b965a841f8b0565bf3c642d370",
       "version_major": 2,
       "version_minor": 0
      },
      "text/plain": [
       "  0%|          | 0/162 [00:00<?, ?it/s]"
      ]
     },
     "metadata": {},
     "output_type": "display_data"
    },
    {
     "data": {
      "application/vnd.jupyter.widget-view+json": {
       "model_id": "fe3f5d05071342c48132b980d05e5bbb",
       "version_major": 2,
       "version_minor": 0
      },
      "text/plain": [
       "  0%|          | 0/162 [00:00<?, ?it/s]"
      ]
     },
     "metadata": {},
     "output_type": "display_data"
    },
    {
     "data": {
      "application/vnd.jupyter.widget-view+json": {
       "model_id": "164be9d4cbac4c27b7f3c645dc18bcef",
       "version_major": 2,
       "version_minor": 0
      },
      "text/plain": [
       "  0%|          | 0/162 [00:00<?, ?it/s]"
      ]
     },
     "metadata": {},
     "output_type": "display_data"
    },
    {
     "data": {
      "application/vnd.jupyter.widget-view+json": {
       "model_id": "af538724a3d74637a9db9b9bdee116d3",
       "version_major": 2,
       "version_minor": 0
      },
      "text/plain": [
       "  0%|          | 0/162 [00:00<?, ?it/s]"
      ]
     },
     "metadata": {},
     "output_type": "display_data"
    },
    {
     "data": {
      "application/vnd.jupyter.widget-view+json": {
       "model_id": "8dea456ebb1e42f497c6846f32356081",
       "version_major": 2,
       "version_minor": 0
      },
      "text/plain": [
       "  0%|          | 0/162 [00:00<?, ?it/s]"
      ]
     },
     "metadata": {},
     "output_type": "display_data"
    },
    {
     "data": {
      "application/vnd.jupyter.widget-view+json": {
       "model_id": "fe514eb4db6347e9922d93687a2689e7",
       "version_major": 2,
       "version_minor": 0
      },
      "text/plain": [
       "  0%|          | 0/162 [00:00<?, ?it/s]"
      ]
     },
     "metadata": {},
     "output_type": "display_data"
    },
    {
     "data": {
      "application/vnd.jupyter.widget-view+json": {
       "model_id": "a0918694bd7f4fc188e2fa15fd0c0cb5",
       "version_major": 2,
       "version_minor": 0
      },
      "text/plain": [
       "  0%|          | 0/162 [00:00<?, ?it/s]"
      ]
     },
     "metadata": {},
     "output_type": "display_data"
    },
    {
     "data": {
      "application/vnd.jupyter.widget-view+json": {
       "model_id": "11778f559a5c4f919d4b62952713c10e",
       "version_major": 2,
       "version_minor": 0
      },
      "text/plain": [
       "  0%|          | 0/162 [00:00<?, ?it/s]"
      ]
     },
     "metadata": {},
     "output_type": "display_data"
    },
    {
     "data": {
      "application/vnd.jupyter.widget-view+json": {
       "model_id": "74f6e71f37184b5cbe7751f4538f5351",
       "version_major": 2,
       "version_minor": 0
      },
      "text/plain": [
       "  0%|          | 0/162 [00:00<?, ?it/s]"
      ]
     },
     "metadata": {},
     "output_type": "display_data"
    },
    {
     "data": {
      "application/vnd.jupyter.widget-view+json": {
       "model_id": "c714641570864f4fb5372e010bb8c0ca",
       "version_major": 2,
       "version_minor": 0
      },
      "text/plain": [
       "  0%|          | 0/162 [00:00<?, ?it/s]"
      ]
     },
     "metadata": {},
     "output_type": "display_data"
    },
    {
     "data": {
      "application/vnd.jupyter.widget-view+json": {
       "model_id": "33e8df7322b14a4799e7d7100d7021cb",
       "version_major": 2,
       "version_minor": 0
      },
      "text/plain": [
       "  0%|          | 0/162 [00:00<?, ?it/s]"
      ]
     },
     "metadata": {},
     "output_type": "display_data"
    },
    {
     "data": {
      "application/vnd.jupyter.widget-view+json": {
       "model_id": "973cb98d3e6a47e38132258c40da845d",
       "version_major": 2,
       "version_minor": 0
      },
      "text/plain": [
       "  0%|          | 0/162 [00:00<?, ?it/s]"
      ]
     },
     "metadata": {},
     "output_type": "display_data"
    },
    {
     "data": {
      "application/vnd.jupyter.widget-view+json": {
       "model_id": "708c7a5edd624807b0436435a8adc7c3",
       "version_major": 2,
       "version_minor": 0
      },
      "text/plain": [
       "  0%|          | 0/162 [00:00<?, ?it/s]"
      ]
     },
     "metadata": {},
     "output_type": "display_data"
    },
    {
     "data": {
      "application/vnd.jupyter.widget-view+json": {
       "model_id": "fa8db0ec63dd4e2d94e29774a19cd341",
       "version_major": 2,
       "version_minor": 0
      },
      "text/plain": [
       "  0%|          | 0/162 [00:00<?, ?it/s]"
      ]
     },
     "metadata": {},
     "output_type": "display_data"
    },
    {
     "data": {
      "application/vnd.jupyter.widget-view+json": {
       "model_id": "b881eadcd37f4afb8c15fc62a3113c60",
       "version_major": 2,
       "version_minor": 0
      },
      "text/plain": [
       "  0%|          | 0/162 [00:00<?, ?it/s]"
      ]
     },
     "metadata": {},
     "output_type": "display_data"
    },
    {
     "data": {
      "application/vnd.jupyter.widget-view+json": {
       "model_id": "4239b85bdbb24e6082d7f6fb4f5bb2ff",
       "version_major": 2,
       "version_minor": 0
      },
      "text/plain": [
       "  0%|          | 0/162 [00:00<?, ?it/s]"
      ]
     },
     "metadata": {},
     "output_type": "display_data"
    },
    {
     "data": {
      "application/vnd.jupyter.widget-view+json": {
       "model_id": "7cafeff657f14c9d84db8124b5379e3a",
       "version_major": 2,
       "version_minor": 0
      },
      "text/plain": [
       "  0%|          | 0/162 [00:00<?, ?it/s]"
      ]
     },
     "metadata": {},
     "output_type": "display_data"
    },
    {
     "data": {
      "application/vnd.jupyter.widget-view+json": {
       "model_id": "7d5f426fe0344b14ba1cb3a858c59bbf",
       "version_major": 2,
       "version_minor": 0
      },
      "text/plain": [
       "  0%|          | 0/162 [00:00<?, ?it/s]"
      ]
     },
     "metadata": {},
     "output_type": "display_data"
    },
    {
     "data": {
      "application/vnd.jupyter.widget-view+json": {
       "model_id": "d8a8121a79054cacbdbfbfecbe9df28b",
       "version_major": 2,
       "version_minor": 0
      },
      "text/plain": [
       "  0%|          | 0/162 [00:00<?, ?it/s]"
      ]
     },
     "metadata": {},
     "output_type": "display_data"
    },
    {
     "data": {
      "application/vnd.jupyter.widget-view+json": {
       "model_id": "cc09cae20b1c45eeb68896fb9b33d175",
       "version_major": 2,
       "version_minor": 0
      },
      "text/plain": [
       "  0%|          | 0/162 [00:00<?, ?it/s]"
      ]
     },
     "metadata": {},
     "output_type": "display_data"
    },
    {
     "data": {
      "application/vnd.jupyter.widget-view+json": {
       "model_id": "b0272c51ebd949c9a33e94c98c891702",
       "version_major": 2,
       "version_minor": 0
      },
      "text/plain": [
       "  0%|          | 0/162 [00:00<?, ?it/s]"
      ]
     },
     "metadata": {},
     "output_type": "display_data"
    },
    {
     "data": {
      "application/vnd.jupyter.widget-view+json": {
       "model_id": "28af721aaeb64e109fef9527d04865ad",
       "version_major": 2,
       "version_minor": 0
      },
      "text/plain": [
       "  0%|          | 0/162 [00:00<?, ?it/s]"
      ]
     },
     "metadata": {},
     "output_type": "display_data"
    },
    {
     "data": {
      "application/vnd.jupyter.widget-view+json": {
       "model_id": "2852c3280a29408cb0e0de5f4c34a631",
       "version_major": 2,
       "version_minor": 0
      },
      "text/plain": [
       "  0%|          | 0/162 [00:00<?, ?it/s]"
      ]
     },
     "metadata": {},
     "output_type": "display_data"
    },
    {
     "data": {
      "application/vnd.jupyter.widget-view+json": {
       "model_id": "cd1f2b0cd30e4ca5b4af6159b531696d",
       "version_major": 2,
       "version_minor": 0
      },
      "text/plain": [
       "  0%|          | 0/162 [00:00<?, ?it/s]"
      ]
     },
     "metadata": {},
     "output_type": "display_data"
    },
    {
     "data": {
      "application/vnd.jupyter.widget-view+json": {
       "model_id": "84155ea4d91a4481ba0111d60555b6c2",
       "version_major": 2,
       "version_minor": 0
      },
      "text/plain": [
       "  0%|          | 0/162 [00:00<?, ?it/s]"
      ]
     },
     "metadata": {},
     "output_type": "display_data"
    },
    {
     "data": {
      "application/vnd.jupyter.widget-view+json": {
       "model_id": "632ba9a0b3d94a7c819600560592784b",
       "version_major": 2,
       "version_minor": 0
      },
      "text/plain": [
       "  0%|          | 0/162 [00:00<?, ?it/s]"
      ]
     },
     "metadata": {},
     "output_type": "display_data"
    },
    {
     "data": {
      "application/vnd.jupyter.widget-view+json": {
       "model_id": "b20a449198ff4b5484b28f872fbc8987",
       "version_major": 2,
       "version_minor": 0
      },
      "text/plain": [
       "  0%|          | 0/162 [00:00<?, ?it/s]"
      ]
     },
     "metadata": {},
     "output_type": "display_data"
    },
    {
     "data": {
      "application/vnd.jupyter.widget-view+json": {
       "model_id": "5417e3b037394cf49a203f4582669840",
       "version_major": 2,
       "version_minor": 0
      },
      "text/plain": [
       "  0%|          | 0/162 [00:00<?, ?it/s]"
      ]
     },
     "metadata": {},
     "output_type": "display_data"
    },
    {
     "data": {
      "application/vnd.jupyter.widget-view+json": {
       "model_id": "723d440361b84dc3a2c12a5b7d18bba8",
       "version_major": 2,
       "version_minor": 0
      },
      "text/plain": [
       "  0%|          | 0/162 [00:00<?, ?it/s]"
      ]
     },
     "metadata": {},
     "output_type": "display_data"
    },
    {
     "data": {
      "application/vnd.jupyter.widget-view+json": {
       "model_id": "44fe0032a57a4af2ab917fb843c7af77",
       "version_major": 2,
       "version_minor": 0
      },
      "text/plain": [
       "  0%|          | 0/162 [00:00<?, ?it/s]"
      ]
     },
     "metadata": {},
     "output_type": "display_data"
    },
    {
     "data": {
      "application/vnd.jupyter.widget-view+json": {
       "model_id": "304a378f9c50454f8c5b043c8af05333",
       "version_major": 2,
       "version_minor": 0
      },
      "text/plain": [
       "  0%|          | 0/162 [00:00<?, ?it/s]"
      ]
     },
     "metadata": {},
     "output_type": "display_data"
    },
    {
     "data": {
      "application/vnd.jupyter.widget-view+json": {
       "model_id": "9c330a61930349fc9618768c92fa1372",
       "version_major": 2,
       "version_minor": 0
      },
      "text/plain": [
       "  0%|          | 0/162 [00:00<?, ?it/s]"
      ]
     },
     "metadata": {},
     "output_type": "display_data"
    },
    {
     "data": {
      "application/vnd.jupyter.widget-view+json": {
       "model_id": "0dcfd9f95f9f4fe5b4ad3f5ab4ab7d8c",
       "version_major": 2,
       "version_minor": 0
      },
      "text/plain": [
       "  0%|          | 0/162 [00:00<?, ?it/s]"
      ]
     },
     "metadata": {},
     "output_type": "display_data"
    },
    {
     "data": {
      "application/vnd.jupyter.widget-view+json": {
       "model_id": "b937f8ac9d494577bbd993c7b2ea1f52",
       "version_major": 2,
       "version_minor": 0
      },
      "text/plain": [
       "  0%|          | 0/162 [00:00<?, ?it/s]"
      ]
     },
     "metadata": {},
     "output_type": "display_data"
    },
    {
     "data": {
      "application/vnd.jupyter.widget-view+json": {
       "model_id": "f9f0e434344a46ce89fec76931384d34",
       "version_major": 2,
       "version_minor": 0
      },
      "text/plain": [
       "  0%|          | 0/162 [00:00<?, ?it/s]"
      ]
     },
     "metadata": {},
     "output_type": "display_data"
    },
    {
     "data": {
      "application/vnd.jupyter.widget-view+json": {
       "model_id": "58bc2de9ec404f2f96a76e2c279ac2b0",
       "version_major": 2,
       "version_minor": 0
      },
      "text/plain": [
       "  0%|          | 0/162 [00:00<?, ?it/s]"
      ]
     },
     "metadata": {},
     "output_type": "display_data"
    },
    {
     "data": {
      "application/vnd.jupyter.widget-view+json": {
       "model_id": "81569e1d39d14d5bbea506c953d3b62b",
       "version_major": 2,
       "version_minor": 0
      },
      "text/plain": [
       "  0%|          | 0/162 [00:00<?, ?it/s]"
      ]
     },
     "metadata": {},
     "output_type": "display_data"
    },
    {
     "data": {
      "application/vnd.jupyter.widget-view+json": {
       "model_id": "c320199b68e744f8a3e3df7731e8c4c1",
       "version_major": 2,
       "version_minor": 0
      },
      "text/plain": [
       "  0%|          | 0/162 [00:00<?, ?it/s]"
      ]
     },
     "metadata": {},
     "output_type": "display_data"
    },
    {
     "data": {
      "application/vnd.jupyter.widget-view+json": {
       "model_id": "fb1396bbae7f4e5baa5b7a97c97c9751",
       "version_major": 2,
       "version_minor": 0
      },
      "text/plain": [
       "  0%|          | 0/162 [00:00<?, ?it/s]"
      ]
     },
     "metadata": {},
     "output_type": "display_data"
    },
    {
     "data": {
      "application/vnd.jupyter.widget-view+json": {
       "model_id": "e70c02a899c444bab26fbd2cee4a189d",
       "version_major": 2,
       "version_minor": 0
      },
      "text/plain": [
       "  0%|          | 0/162 [00:00<?, ?it/s]"
      ]
     },
     "metadata": {},
     "output_type": "display_data"
    },
    {
     "data": {
      "application/vnd.jupyter.widget-view+json": {
       "model_id": "23b9576342af4003bc867b3a15f44318",
       "version_major": 2,
       "version_minor": 0
      },
      "text/plain": [
       "  0%|          | 0/162 [00:00<?, ?it/s]"
      ]
     },
     "metadata": {},
     "output_type": "display_data"
    },
    {
     "data": {
      "application/vnd.jupyter.widget-view+json": {
       "model_id": "707d29f633434ec9a6440f47adceb454",
       "version_major": 2,
       "version_minor": 0
      },
      "text/plain": [
       "  0%|          | 0/162 [00:00<?, ?it/s]"
      ]
     },
     "metadata": {},
     "output_type": "display_data"
    },
    {
     "data": {
      "application/vnd.jupyter.widget-view+json": {
       "model_id": "2e3a9e697d02425fab6078ce5444cbae",
       "version_major": 2,
       "version_minor": 0
      },
      "text/plain": [
       "  0%|          | 0/162 [00:00<?, ?it/s]"
      ]
     },
     "metadata": {},
     "output_type": "display_data"
    },
    {
     "data": {
      "application/vnd.jupyter.widget-view+json": {
       "model_id": "441c5686dd184dd29812fa02a260a614",
       "version_major": 2,
       "version_minor": 0
      },
      "text/plain": [
       "  0%|          | 0/162 [00:00<?, ?it/s]"
      ]
     },
     "metadata": {},
     "output_type": "display_data"
    },
    {
     "data": {
      "application/vnd.jupyter.widget-view+json": {
       "model_id": "dd14f7b7905445359d7fcc7e6d4cfb82",
       "version_major": 2,
       "version_minor": 0
      },
      "text/plain": [
       "  0%|          | 0/162 [00:00<?, ?it/s]"
      ]
     },
     "metadata": {},
     "output_type": "display_data"
    },
    {
     "data": {
      "application/vnd.jupyter.widget-view+json": {
       "model_id": "a95206c2b19845b1823eaaa5160b145c",
       "version_major": 2,
       "version_minor": 0
      },
      "text/plain": [
       "  0%|          | 0/162 [00:00<?, ?it/s]"
      ]
     },
     "metadata": {},
     "output_type": "display_data"
    },
    {
     "data": {
      "application/vnd.jupyter.widget-view+json": {
       "model_id": "c6b047858dd14dab802d3c5fd009d363",
       "version_major": 2,
       "version_minor": 0
      },
      "text/plain": [
       "  0%|          | 0/162 [00:00<?, ?it/s]"
      ]
     },
     "metadata": {},
     "output_type": "display_data"
    },
    {
     "data": {
      "application/vnd.jupyter.widget-view+json": {
       "model_id": "608e9c0ad13345fdbf9415d6eb7b3dd0",
       "version_major": 2,
       "version_minor": 0
      },
      "text/plain": [
       "  0%|          | 0/162 [00:00<?, ?it/s]"
      ]
     },
     "metadata": {},
     "output_type": "display_data"
    },
    {
     "data": {
      "application/vnd.jupyter.widget-view+json": {
       "model_id": "2e4fbc65e710452f84bd81b319d2b629",
       "version_major": 2,
       "version_minor": 0
      },
      "text/plain": [
       "  0%|          | 0/162 [00:00<?, ?it/s]"
      ]
     },
     "metadata": {},
     "output_type": "display_data"
    },
    {
     "data": {
      "application/vnd.jupyter.widget-view+json": {
       "model_id": "928e70c512604077a6951419a4b3ef9c",
       "version_major": 2,
       "version_minor": 0
      },
      "text/plain": [
       "  0%|          | 0/162 [00:00<?, ?it/s]"
      ]
     },
     "metadata": {},
     "output_type": "display_data"
    },
    {
     "data": {
      "application/vnd.jupyter.widget-view+json": {
       "model_id": "94fd46f9db414dc88889e24f3abb07d7",
       "version_major": 2,
       "version_minor": 0
      },
      "text/plain": [
       "  0%|          | 0/162 [00:00<?, ?it/s]"
      ]
     },
     "metadata": {},
     "output_type": "display_data"
    },
    {
     "data": {
      "application/vnd.jupyter.widget-view+json": {
       "model_id": "0b96594be6244964a6c0c2e0810aa0f7",
       "version_major": 2,
       "version_minor": 0
      },
      "text/plain": [
       "  0%|          | 0/162 [00:00<?, ?it/s]"
      ]
     },
     "metadata": {},
     "output_type": "display_data"
    },
    {
     "data": {
      "application/vnd.jupyter.widget-view+json": {
       "model_id": "e9f858ee58d24b22842b1b8c136fc5f1",
       "version_major": 2,
       "version_minor": 0
      },
      "text/plain": [
       "  0%|          | 0/162 [00:00<?, ?it/s]"
      ]
     },
     "metadata": {},
     "output_type": "display_data"
    },
    {
     "data": {
      "application/vnd.jupyter.widget-view+json": {
       "model_id": "99251a249e3c4b62ab7adf2aae3e09fd",
       "version_major": 2,
       "version_minor": 0
      },
      "text/plain": [
       "  0%|          | 0/162 [00:00<?, ?it/s]"
      ]
     },
     "metadata": {},
     "output_type": "display_data"
    },
    {
     "data": {
      "application/vnd.jupyter.widget-view+json": {
       "model_id": "3231417e13f44fcfb25cebb8116a8c8e",
       "version_major": 2,
       "version_minor": 0
      },
      "text/plain": [
       "  0%|          | 0/162 [00:00<?, ?it/s]"
      ]
     },
     "metadata": {},
     "output_type": "display_data"
    },
    {
     "data": {
      "application/vnd.jupyter.widget-view+json": {
       "model_id": "4b09d889a40c4a7a8d7b086d43030f80",
       "version_major": 2,
       "version_minor": 0
      },
      "text/plain": [
       "  0%|          | 0/162 [00:00<?, ?it/s]"
      ]
     },
     "metadata": {},
     "output_type": "display_data"
    },
    {
     "data": {
      "application/vnd.jupyter.widget-view+json": {
       "model_id": "bc963751ea914530be97ce4b11e2d207",
       "version_major": 2,
       "version_minor": 0
      },
      "text/plain": [
       "  0%|          | 0/162 [00:00<?, ?it/s]"
      ]
     },
     "metadata": {},
     "output_type": "display_data"
    },
    {
     "data": {
      "application/vnd.jupyter.widget-view+json": {
       "model_id": "a0a919589a804edcb4f3f4708889ff38",
       "version_major": 2,
       "version_minor": 0
      },
      "text/plain": [
       "  0%|          | 0/162 [00:00<?, ?it/s]"
      ]
     },
     "metadata": {},
     "output_type": "display_data"
    },
    {
     "data": {
      "application/vnd.jupyter.widget-view+json": {
       "model_id": "17d004637955408baa2fd15a9644e4b7",
       "version_major": 2,
       "version_minor": 0
      },
      "text/plain": [
       "  0%|          | 0/162 [00:00<?, ?it/s]"
      ]
     },
     "metadata": {},
     "output_type": "display_data"
    },
    {
     "data": {
      "application/vnd.jupyter.widget-view+json": {
       "model_id": "f8720307c5264ac287e0fbe4883095da",
       "version_major": 2,
       "version_minor": 0
      },
      "text/plain": [
       "  0%|          | 0/162 [00:00<?, ?it/s]"
      ]
     },
     "metadata": {},
     "output_type": "display_data"
    },
    {
     "data": {
      "application/vnd.jupyter.widget-view+json": {
       "model_id": "f81deb94fe424a9cae3ebdb2ef3dc8cf",
       "version_major": 2,
       "version_minor": 0
      },
      "text/plain": [
       "  0%|          | 0/162 [00:00<?, ?it/s]"
      ]
     },
     "metadata": {},
     "output_type": "display_data"
    },
    {
     "data": {
      "application/vnd.jupyter.widget-view+json": {
       "model_id": "f90db3d39f484e5a94571d6823d12035",
       "version_major": 2,
       "version_minor": 0
      },
      "text/plain": [
       "  0%|          | 0/162 [00:00<?, ?it/s]"
      ]
     },
     "metadata": {},
     "output_type": "display_data"
    },
    {
     "data": {
      "application/vnd.jupyter.widget-view+json": {
       "model_id": "51fe54d658064cc0be76fc640b757c41",
       "version_major": 2,
       "version_minor": 0
      },
      "text/plain": [
       "  0%|          | 0/162 [00:00<?, ?it/s]"
      ]
     },
     "metadata": {},
     "output_type": "display_data"
    },
    {
     "data": {
      "application/vnd.jupyter.widget-view+json": {
       "model_id": "2830b0a1e62b40c8ad156c0fb07b9ce2",
       "version_major": 2,
       "version_minor": 0
      },
      "text/plain": [
       "  0%|          | 0/162 [00:00<?, ?it/s]"
      ]
     },
     "metadata": {},
     "output_type": "display_data"
    },
    {
     "data": {
      "application/vnd.jupyter.widget-view+json": {
       "model_id": "3674f84f11f94b28ac68d9dd38e9b817",
       "version_major": 2,
       "version_minor": 0
      },
      "text/plain": [
       "  0%|          | 0/162 [00:00<?, ?it/s]"
      ]
     },
     "metadata": {},
     "output_type": "display_data"
    },
    {
     "data": {
      "application/vnd.jupyter.widget-view+json": {
       "model_id": "7f60a1ab7f9f49b7a9f2ab809b412441",
       "version_major": 2,
       "version_minor": 0
      },
      "text/plain": [
       "  0%|          | 0/162 [00:00<?, ?it/s]"
      ]
     },
     "metadata": {},
     "output_type": "display_data"
    },
    {
     "data": {
      "application/vnd.jupyter.widget-view+json": {
       "model_id": "80aa651e70084d0daa353fafa49f4604",
       "version_major": 2,
       "version_minor": 0
      },
      "text/plain": [
       "  0%|          | 0/162 [00:00<?, ?it/s]"
      ]
     },
     "metadata": {},
     "output_type": "display_data"
    },
    {
     "data": {
      "application/vnd.jupyter.widget-view+json": {
       "model_id": "3b0093dd6d834e79923f07ca0b10482b",
       "version_major": 2,
       "version_minor": 0
      },
      "text/plain": [
       "  0%|          | 0/162 [00:00<?, ?it/s]"
      ]
     },
     "metadata": {},
     "output_type": "display_data"
    },
    {
     "data": {
      "application/vnd.jupyter.widget-view+json": {
       "model_id": "fe9c770cd4754e3b9bba3b1d5d6aeed9",
       "version_major": 2,
       "version_minor": 0
      },
      "text/plain": [
       "  0%|          | 0/162 [00:00<?, ?it/s]"
      ]
     },
     "metadata": {},
     "output_type": "display_data"
    },
    {
     "data": {
      "application/vnd.jupyter.widget-view+json": {
       "model_id": "7ede5ed6465640d68ebcafdba0510aeb",
       "version_major": 2,
       "version_minor": 0
      },
      "text/plain": [
       "  0%|          | 0/162 [00:00<?, ?it/s]"
      ]
     },
     "metadata": {},
     "output_type": "display_data"
    },
    {
     "data": {
      "application/vnd.jupyter.widget-view+json": {
       "model_id": "a83943ff57fa4809a12751eb5a6376f2",
       "version_major": 2,
       "version_minor": 0
      },
      "text/plain": [
       "  0%|          | 0/162 [00:00<?, ?it/s]"
      ]
     },
     "metadata": {},
     "output_type": "display_data"
    },
    {
     "data": {
      "application/vnd.jupyter.widget-view+json": {
       "model_id": "d65c45809fff4534befa125ab2834835",
       "version_major": 2,
       "version_minor": 0
      },
      "text/plain": [
       "  0%|          | 0/162 [00:00<?, ?it/s]"
      ]
     },
     "metadata": {},
     "output_type": "display_data"
    },
    {
     "data": {
      "application/vnd.jupyter.widget-view+json": {
       "model_id": "6c8b8f0d4dc947b49488aa701a6bfda3",
       "version_major": 2,
       "version_minor": 0
      },
      "text/plain": [
       "  0%|          | 0/162 [00:00<?, ?it/s]"
      ]
     },
     "metadata": {},
     "output_type": "display_data"
    },
    {
     "data": {
      "application/vnd.jupyter.widget-view+json": {
       "model_id": "60ea2b73d35f4d10a9085fe8c542276c",
       "version_major": 2,
       "version_minor": 0
      },
      "text/plain": [
       "  0%|          | 0/162 [00:00<?, ?it/s]"
      ]
     },
     "metadata": {},
     "output_type": "display_data"
    },
    {
     "data": {
      "application/vnd.jupyter.widget-view+json": {
       "model_id": "b6010525493349c3a201fde0d706c500",
       "version_major": 2,
       "version_minor": 0
      },
      "text/plain": [
       "  0%|          | 0/162 [00:00<?, ?it/s]"
      ]
     },
     "metadata": {},
     "output_type": "display_data"
    },
    {
     "data": {
      "application/vnd.jupyter.widget-view+json": {
       "model_id": "05223554763c4b20b03fb701d949cbb9",
       "version_major": 2,
       "version_minor": 0
      },
      "text/plain": [
       "  0%|          | 0/162 [00:00<?, ?it/s]"
      ]
     },
     "metadata": {},
     "output_type": "display_data"
    },
    {
     "data": {
      "application/vnd.jupyter.widget-view+json": {
       "model_id": "56b996c2162b4cc8b2c1a7e11fb2beca",
       "version_major": 2,
       "version_minor": 0
      },
      "text/plain": [
       "  0%|          | 0/162 [00:00<?, ?it/s]"
      ]
     },
     "metadata": {},
     "output_type": "display_data"
    },
    {
     "data": {
      "application/vnd.jupyter.widget-view+json": {
       "model_id": "cbcd2f9ca8e44749946ba1a0e629cd73",
       "version_major": 2,
       "version_minor": 0
      },
      "text/plain": [
       "  0%|          | 0/162 [00:00<?, ?it/s]"
      ]
     },
     "metadata": {},
     "output_type": "display_data"
    },
    {
     "data": {
      "application/vnd.jupyter.widget-view+json": {
       "model_id": "537aaa5aa9f04409a8970c0fa4ac1fb8",
       "version_major": 2,
       "version_minor": 0
      },
      "text/plain": [
       "  0%|          | 0/162 [00:00<?, ?it/s]"
      ]
     },
     "metadata": {},
     "output_type": "display_data"
    },
    {
     "data": {
      "application/vnd.jupyter.widget-view+json": {
       "model_id": "2b45bee3b02040a7b7aedbae81d15905",
       "version_major": 2,
       "version_minor": 0
      },
      "text/plain": [
       "  0%|          | 0/162 [00:00<?, ?it/s]"
      ]
     },
     "metadata": {},
     "output_type": "display_data"
    },
    {
     "data": {
      "application/vnd.jupyter.widget-view+json": {
       "model_id": "6b82dc63756941e9bc2ac3304b0bc4f7",
       "version_major": 2,
       "version_minor": 0
      },
      "text/plain": [
       "  0%|          | 0/162 [00:00<?, ?it/s]"
      ]
     },
     "metadata": {},
     "output_type": "display_data"
    },
    {
     "data": {
      "application/vnd.jupyter.widget-view+json": {
       "model_id": "5c33f014279e41349edf98af8afb3c0c",
       "version_major": 2,
       "version_minor": 0
      },
      "text/plain": [
       "  0%|          | 0/162 [00:00<?, ?it/s]"
      ]
     },
     "metadata": {},
     "output_type": "display_data"
    },
    {
     "data": {
      "application/vnd.jupyter.widget-view+json": {
       "model_id": "da80032e5f7e4388bedea895ba9ac84d",
       "version_major": 2,
       "version_minor": 0
      },
      "text/plain": [
       "  0%|          | 0/162 [00:00<?, ?it/s]"
      ]
     },
     "metadata": {},
     "output_type": "display_data"
    },
    {
     "data": {
      "application/vnd.jupyter.widget-view+json": {
       "model_id": "f74ec2fd5ee04baf96deca40fc0c7fd4",
       "version_major": 2,
       "version_minor": 0
      },
      "text/plain": [
       "  0%|          | 0/162 [00:00<?, ?it/s]"
      ]
     },
     "metadata": {},
     "output_type": "display_data"
    },
    {
     "data": {
      "application/vnd.jupyter.widget-view+json": {
       "model_id": "6669223610d04d9f94efc7fc374043d5",
       "version_major": 2,
       "version_minor": 0
      },
      "text/plain": [
       "  0%|          | 0/162 [00:00<?, ?it/s]"
      ]
     },
     "metadata": {},
     "output_type": "display_data"
    },
    {
     "data": {
      "application/vnd.jupyter.widget-view+json": {
       "model_id": "83877be567dd41e08b67d8311d57fb45",
       "version_major": 2,
       "version_minor": 0
      },
      "text/plain": [
       "  0%|          | 0/162 [00:00<?, ?it/s]"
      ]
     },
     "metadata": {},
     "output_type": "display_data"
    },
    {
     "data": {
      "application/vnd.jupyter.widget-view+json": {
       "model_id": "53d97d76fc5e4be2a83f4dfd5088e70f",
       "version_major": 2,
       "version_minor": 0
      },
      "text/plain": [
       "  0%|          | 0/162 [00:00<?, ?it/s]"
      ]
     },
     "metadata": {},
     "output_type": "display_data"
    },
    {
     "data": {
      "application/vnd.jupyter.widget-view+json": {
       "model_id": "99f5d5dd503343ebad0b60e2f1d0bab5",
       "version_major": 2,
       "version_minor": 0
      },
      "text/plain": [
       "  0%|          | 0/162 [00:00<?, ?it/s]"
      ]
     },
     "metadata": {},
     "output_type": "display_data"
    },
    {
     "data": {
      "application/vnd.jupyter.widget-view+json": {
       "model_id": "e679ba8bfd2543cd8aa73f9f550fd52f",
       "version_major": 2,
       "version_minor": 0
      },
      "text/plain": [
       "  0%|          | 0/162 [00:00<?, ?it/s]"
      ]
     },
     "metadata": {},
     "output_type": "display_data"
    },
    {
     "data": {
      "application/vnd.jupyter.widget-view+json": {
       "model_id": "8b445403bbdc4bb3878cda53b9251cd0",
       "version_major": 2,
       "version_minor": 0
      },
      "text/plain": [
       "  0%|          | 0/162 [00:00<?, ?it/s]"
      ]
     },
     "metadata": {},
     "output_type": "display_data"
    },
    {
     "data": {
      "application/vnd.jupyter.widget-view+json": {
       "model_id": "9c18168f64684d5d810c8fa07cd375c0",
       "version_major": 2,
       "version_minor": 0
      },
      "text/plain": [
       "  0%|          | 0/162 [00:00<?, ?it/s]"
      ]
     },
     "metadata": {},
     "output_type": "display_data"
    },
    {
     "data": {
      "application/vnd.jupyter.widget-view+json": {
       "model_id": "b9d0225b9ec64684907b35dbaf6bdb9a",
       "version_major": 2,
       "version_minor": 0
      },
      "text/plain": [
       "  0%|          | 0/162 [00:00<?, ?it/s]"
      ]
     },
     "metadata": {},
     "output_type": "display_data"
    },
    {
     "data": {
      "application/vnd.jupyter.widget-view+json": {
       "model_id": "789cf76df8dc4de1ba65054429b09f3e",
       "version_major": 2,
       "version_minor": 0
      },
      "text/plain": [
       "  0%|          | 0/162 [00:00<?, ?it/s]"
      ]
     },
     "metadata": {},
     "output_type": "display_data"
    },
    {
     "data": {
      "application/vnd.jupyter.widget-view+json": {
       "model_id": "a372eca038c141079d67369e8d901571",
       "version_major": 2,
       "version_minor": 0
      },
      "text/plain": [
       "  0%|          | 0/162 [00:00<?, ?it/s]"
      ]
     },
     "metadata": {},
     "output_type": "display_data"
    },
    {
     "data": {
      "application/vnd.jupyter.widget-view+json": {
       "model_id": "35a93443385e46cfb4165202d5e4a4a9",
       "version_major": 2,
       "version_minor": 0
      },
      "text/plain": [
       "  0%|          | 0/162 [00:00<?, ?it/s]"
      ]
     },
     "metadata": {},
     "output_type": "display_data"
    },
    {
     "data": {
      "application/vnd.jupyter.widget-view+json": {
       "model_id": "43708510213d4eaeb32482f02798adff",
       "version_major": 2,
       "version_minor": 0
      },
      "text/plain": [
       "  0%|          | 0/162 [00:00<?, ?it/s]"
      ]
     },
     "metadata": {},
     "output_type": "display_data"
    },
    {
     "data": {
      "application/vnd.jupyter.widget-view+json": {
       "model_id": "769c448ae02c4b52af5c3edd527d9768",
       "version_major": 2,
       "version_minor": 0
      },
      "text/plain": [
       "  0%|          | 0/162 [00:00<?, ?it/s]"
      ]
     },
     "metadata": {},
     "output_type": "display_data"
    },
    {
     "data": {
      "application/vnd.jupyter.widget-view+json": {
       "model_id": "5384fe433e8a45fe860fcc4b55e5110e",
       "version_major": 2,
       "version_minor": 0
      },
      "text/plain": [
       "  0%|          | 0/162 [00:00<?, ?it/s]"
      ]
     },
     "metadata": {},
     "output_type": "display_data"
    },
    {
     "data": {
      "application/vnd.jupyter.widget-view+json": {
       "model_id": "0ae2b4ace6e1495f92adb17f4690646f",
       "version_major": 2,
       "version_minor": 0
      },
      "text/plain": [
       "  0%|          | 0/162 [00:00<?, ?it/s]"
      ]
     },
     "metadata": {},
     "output_type": "display_data"
    },
    {
     "data": {
      "application/vnd.jupyter.widget-view+json": {
       "model_id": "73a9f233a8d64cf59f35ae8244df6704",
       "version_major": 2,
       "version_minor": 0
      },
      "text/plain": [
       "  0%|          | 0/162 [00:00<?, ?it/s]"
      ]
     },
     "metadata": {},
     "output_type": "display_data"
    },
    {
     "data": {
      "application/vnd.jupyter.widget-view+json": {
       "model_id": "6084201ca55e46c8b567bf40e229b1f9",
       "version_major": 2,
       "version_minor": 0
      },
      "text/plain": [
       "  0%|          | 0/162 [00:00<?, ?it/s]"
      ]
     },
     "metadata": {},
     "output_type": "display_data"
    },
    {
     "data": {
      "application/vnd.jupyter.widget-view+json": {
       "model_id": "c4d4ea909a534663bfd4a3c0ef1f3c05",
       "version_major": 2,
       "version_minor": 0
      },
      "text/plain": [
       "  0%|          | 0/162 [00:00<?, ?it/s]"
      ]
     },
     "metadata": {},
     "output_type": "display_data"
    },
    {
     "data": {
      "application/vnd.jupyter.widget-view+json": {
       "model_id": "5e28d389a9ab466e891c7a4e44e04e4c",
       "version_major": 2,
       "version_minor": 0
      },
      "text/plain": [
       "  0%|          | 0/162 [00:00<?, ?it/s]"
      ]
     },
     "metadata": {},
     "output_type": "display_data"
    },
    {
     "data": {
      "application/vnd.jupyter.widget-view+json": {
       "model_id": "fe0d5bc6e9404f01b11aa94894c999d8",
       "version_major": 2,
       "version_minor": 0
      },
      "text/plain": [
       "  0%|          | 0/162 [00:00<?, ?it/s]"
      ]
     },
     "metadata": {},
     "output_type": "display_data"
    },
    {
     "data": {
      "application/vnd.jupyter.widget-view+json": {
       "model_id": "741b0b5740074fdda5d44acf56b30b9b",
       "version_major": 2,
       "version_minor": 0
      },
      "text/plain": [
       "  0%|          | 0/162 [00:00<?, ?it/s]"
      ]
     },
     "metadata": {},
     "output_type": "display_data"
    },
    {
     "data": {
      "application/vnd.jupyter.widget-view+json": {
       "model_id": "30700aae98c9445a867b607f95f0b02f",
       "version_major": 2,
       "version_minor": 0
      },
      "text/plain": [
       "  0%|          | 0/162 [00:00<?, ?it/s]"
      ]
     },
     "metadata": {},
     "output_type": "display_data"
    },
    {
     "data": {
      "application/vnd.jupyter.widget-view+json": {
       "model_id": "99c4a9974a814bbc962857958f723cce",
       "version_major": 2,
       "version_minor": 0
      },
      "text/plain": [
       "  0%|          | 0/162 [00:00<?, ?it/s]"
      ]
     },
     "metadata": {},
     "output_type": "display_data"
    },
    {
     "data": {
      "application/vnd.jupyter.widget-view+json": {
       "model_id": "06233b58e6774e30ac8b6adba99956b9",
       "version_major": 2,
       "version_minor": 0
      },
      "text/plain": [
       "  0%|          | 0/162 [00:00<?, ?it/s]"
      ]
     },
     "metadata": {},
     "output_type": "display_data"
    },
    {
     "data": {
      "application/vnd.jupyter.widget-view+json": {
       "model_id": "56ec29b88b4748d3b731e6becb170d28",
       "version_major": 2,
       "version_minor": 0
      },
      "text/plain": [
       "  0%|          | 0/162 [00:00<?, ?it/s]"
      ]
     },
     "metadata": {},
     "output_type": "display_data"
    },
    {
     "data": {
      "application/vnd.jupyter.widget-view+json": {
       "model_id": "6c3f8e9c8fbf4673930acbd7640a592c",
       "version_major": 2,
       "version_minor": 0
      },
      "text/plain": [
       "  0%|          | 0/162 [00:00<?, ?it/s]"
      ]
     },
     "metadata": {},
     "output_type": "display_data"
    },
    {
     "data": {
      "application/vnd.jupyter.widget-view+json": {
       "model_id": "0241656d3aa04e4ca47011d69abc7ffc",
       "version_major": 2,
       "version_minor": 0
      },
      "text/plain": [
       "  0%|          | 0/162 [00:00<?, ?it/s]"
      ]
     },
     "metadata": {},
     "output_type": "display_data"
    },
    {
     "data": {
      "application/vnd.jupyter.widget-view+json": {
       "model_id": "899bab95d2864d4ba98e26013a0e1efb",
       "version_major": 2,
       "version_minor": 0
      },
      "text/plain": [
       "  0%|          | 0/162 [00:00<?, ?it/s]"
      ]
     },
     "metadata": {},
     "output_type": "display_data"
    },
    {
     "data": {
      "application/vnd.jupyter.widget-view+json": {
       "model_id": "86b9be6da0764f939e86abe2a8a664bb",
       "version_major": 2,
       "version_minor": 0
      },
      "text/plain": [
       "  0%|          | 0/162 [00:00<?, ?it/s]"
      ]
     },
     "metadata": {},
     "output_type": "display_data"
    },
    {
     "data": {
      "application/vnd.jupyter.widget-view+json": {
       "model_id": "f6860fef99b54432aa9fcfcda9913573",
       "version_major": 2,
       "version_minor": 0
      },
      "text/plain": [
       "  0%|          | 0/162 [00:00<?, ?it/s]"
      ]
     },
     "metadata": {},
     "output_type": "display_data"
    },
    {
     "data": {
      "application/vnd.jupyter.widget-view+json": {
       "model_id": "8d0f33a3ce814b13b0a45561429e55f6",
       "version_major": 2,
       "version_minor": 0
      },
      "text/plain": [
       "  0%|          | 0/162 [00:00<?, ?it/s]"
      ]
     },
     "metadata": {},
     "output_type": "display_data"
    },
    {
     "data": {
      "application/vnd.jupyter.widget-view+json": {
       "model_id": "ddd14481808b4e7b85c366f368598d05",
       "version_major": 2,
       "version_minor": 0
      },
      "text/plain": [
       "  0%|          | 0/162 [00:00<?, ?it/s]"
      ]
     },
     "metadata": {},
     "output_type": "display_data"
    },
    {
     "data": {
      "application/vnd.jupyter.widget-view+json": {
       "model_id": "3ba07afbfdd34b1999e35b62d11ea971",
       "version_major": 2,
       "version_minor": 0
      },
      "text/plain": [
       "  0%|          | 0/162 [00:00<?, ?it/s]"
      ]
     },
     "metadata": {},
     "output_type": "display_data"
    },
    {
     "data": {
      "application/vnd.jupyter.widget-view+json": {
       "model_id": "f7cb255ee0f945298b9ddaadc8d17cfa",
       "version_major": 2,
       "version_minor": 0
      },
      "text/plain": [
       "  0%|          | 0/162 [00:00<?, ?it/s]"
      ]
     },
     "metadata": {},
     "output_type": "display_data"
    },
    {
     "data": {
      "application/vnd.jupyter.widget-view+json": {
       "model_id": "f0dd70be46264aa4ba1850b3b69a9755",
       "version_major": 2,
       "version_minor": 0
      },
      "text/plain": [
       "  0%|          | 0/162 [00:00<?, ?it/s]"
      ]
     },
     "metadata": {},
     "output_type": "display_data"
    },
    {
     "data": {
      "application/vnd.jupyter.widget-view+json": {
       "model_id": "1dcba20644484f0499f49db1f16f22ee",
       "version_major": 2,
       "version_minor": 0
      },
      "text/plain": [
       "  0%|          | 0/162 [00:00<?, ?it/s]"
      ]
     },
     "metadata": {},
     "output_type": "display_data"
    },
    {
     "data": {
      "application/vnd.jupyter.widget-view+json": {
       "model_id": "86afdcc69db7435eb76ccc29e32a4a73",
       "version_major": 2,
       "version_minor": 0
      },
      "text/plain": [
       "  0%|          | 0/162 [00:00<?, ?it/s]"
      ]
     },
     "metadata": {},
     "output_type": "display_data"
    },
    {
     "data": {
      "application/vnd.jupyter.widget-view+json": {
       "model_id": "dce6f171e26342d2b689b3dcb738fd38",
       "version_major": 2,
       "version_minor": 0
      },
      "text/plain": [
       "  0%|          | 0/162 [00:00<?, ?it/s]"
      ]
     },
     "metadata": {},
     "output_type": "display_data"
    },
    {
     "data": {
      "application/vnd.jupyter.widget-view+json": {
       "model_id": "7428aa8443cd43b7ad3010c41a518d3a",
       "version_major": 2,
       "version_minor": 0
      },
      "text/plain": [
       "  0%|          | 0/162 [00:00<?, ?it/s]"
      ]
     },
     "metadata": {},
     "output_type": "display_data"
    },
    {
     "data": {
      "application/vnd.jupyter.widget-view+json": {
       "model_id": "50911ae6fa0340928d649a444a11d376",
       "version_major": 2,
       "version_minor": 0
      },
      "text/plain": [
       "  0%|          | 0/162 [00:00<?, ?it/s]"
      ]
     },
     "metadata": {},
     "output_type": "display_data"
    },
    {
     "data": {
      "application/vnd.jupyter.widget-view+json": {
       "model_id": "b5c14daeaf864b96b383160b35fcd043",
       "version_major": 2,
       "version_minor": 0
      },
      "text/plain": [
       "  0%|          | 0/162 [00:00<?, ?it/s]"
      ]
     },
     "metadata": {},
     "output_type": "display_data"
    },
    {
     "data": {
      "application/vnd.jupyter.widget-view+json": {
       "model_id": "94a41153b9fa476c8b4d92be1b7ea2b1",
       "version_major": 2,
       "version_minor": 0
      },
      "text/plain": [
       "  0%|          | 0/162 [00:00<?, ?it/s]"
      ]
     },
     "metadata": {},
     "output_type": "display_data"
    },
    {
     "data": {
      "application/vnd.jupyter.widget-view+json": {
       "model_id": "12416d2257ff40ef8d61902901356e6d",
       "version_major": 2,
       "version_minor": 0
      },
      "text/plain": [
       "  0%|          | 0/162 [00:00<?, ?it/s]"
      ]
     },
     "metadata": {},
     "output_type": "display_data"
    },
    {
     "data": {
      "application/vnd.jupyter.widget-view+json": {
       "model_id": "5b9dba03aedb46b7ac5996a772831ae1",
       "version_major": 2,
       "version_minor": 0
      },
      "text/plain": [
       "  0%|          | 0/162 [00:00<?, ?it/s]"
      ]
     },
     "metadata": {},
     "output_type": "display_data"
    },
    {
     "data": {
      "application/vnd.jupyter.widget-view+json": {
       "model_id": "b398aab9e5cb4864918102855d7f647f",
       "version_major": 2,
       "version_minor": 0
      },
      "text/plain": [
       "  0%|          | 0/162 [00:00<?, ?it/s]"
      ]
     },
     "metadata": {},
     "output_type": "display_data"
    },
    {
     "data": {
      "application/vnd.jupyter.widget-view+json": {
       "model_id": "429f51d3a9334ded812630c411e9d7c4",
       "version_major": 2,
       "version_minor": 0
      },
      "text/plain": [
       "  0%|          | 0/162 [00:00<?, ?it/s]"
      ]
     },
     "metadata": {},
     "output_type": "display_data"
    },
    {
     "data": {
      "application/vnd.jupyter.widget-view+json": {
       "model_id": "cb6ca94f5fca467688f21e313f1fe322",
       "version_major": 2,
       "version_minor": 0
      },
      "text/plain": [
       "  0%|          | 0/162 [00:00<?, ?it/s]"
      ]
     },
     "metadata": {},
     "output_type": "display_data"
    },
    {
     "data": {
      "application/vnd.jupyter.widget-view+json": {
       "model_id": "22a72d5e937349b1b6f0979ccf7a26af",
       "version_major": 2,
       "version_minor": 0
      },
      "text/plain": [
       "  0%|          | 0/162 [00:00<?, ?it/s]"
      ]
     },
     "metadata": {},
     "output_type": "display_data"
    },
    {
     "data": {
      "application/vnd.jupyter.widget-view+json": {
       "model_id": "8019dc1858944827adfbd2d96d4d13ca",
       "version_major": 2,
       "version_minor": 0
      },
      "text/plain": [
       "  0%|          | 0/162 [00:00<?, ?it/s]"
      ]
     },
     "metadata": {},
     "output_type": "display_data"
    },
    {
     "data": {
      "application/vnd.jupyter.widget-view+json": {
       "model_id": "51579f7676f5437cbcfcd3130f8b331b",
       "version_major": 2,
       "version_minor": 0
      },
      "text/plain": [
       "  0%|          | 0/162 [00:00<?, ?it/s]"
      ]
     },
     "metadata": {},
     "output_type": "display_data"
    },
    {
     "data": {
      "application/vnd.jupyter.widget-view+json": {
       "model_id": "31aabcc78b144f51b3282082065252da",
       "version_major": 2,
       "version_minor": 0
      },
      "text/plain": [
       "  0%|          | 0/162 [00:00<?, ?it/s]"
      ]
     },
     "metadata": {},
     "output_type": "display_data"
    },
    {
     "data": {
      "application/vnd.jupyter.widget-view+json": {
       "model_id": "4bee91514bbd412f97a9b6eda4403c92",
       "version_major": 2,
       "version_minor": 0
      },
      "text/plain": [
       "  0%|          | 0/162 [00:00<?, ?it/s]"
      ]
     },
     "metadata": {},
     "output_type": "display_data"
    },
    {
     "data": {
      "application/vnd.jupyter.widget-view+json": {
       "model_id": "185a6e0d9f0543798b81a552e3a1c20e",
       "version_major": 2,
       "version_minor": 0
      },
      "text/plain": [
       "  0%|          | 0/162 [00:00<?, ?it/s]"
      ]
     },
     "metadata": {},
     "output_type": "display_data"
    },
    {
     "data": {
      "application/vnd.jupyter.widget-view+json": {
       "model_id": "c7d10a7d7a994f30946460ecf876c5ad",
       "version_major": 2,
       "version_minor": 0
      },
      "text/plain": [
       "  0%|          | 0/162 [00:00<?, ?it/s]"
      ]
     },
     "metadata": {},
     "output_type": "display_data"
    },
    {
     "data": {
      "application/vnd.jupyter.widget-view+json": {
       "model_id": "f95e12766d2442e9aa1b28eac1478022",
       "version_major": 2,
       "version_minor": 0
      },
      "text/plain": [
       "  0%|          | 0/162 [00:00<?, ?it/s]"
      ]
     },
     "metadata": {},
     "output_type": "display_data"
    },
    {
     "data": {
      "application/vnd.jupyter.widget-view+json": {
       "model_id": "d284b9577a944fd7bc5ad46962f83117",
       "version_major": 2,
       "version_minor": 0
      },
      "text/plain": [
       "  0%|          | 0/162 [00:00<?, ?it/s]"
      ]
     },
     "metadata": {},
     "output_type": "display_data"
    },
    {
     "data": {
      "application/vnd.jupyter.widget-view+json": {
       "model_id": "e1db712b1faa4045a6b8b899fc8686c8",
       "version_major": 2,
       "version_minor": 0
      },
      "text/plain": [
       "  0%|          | 0/162 [00:00<?, ?it/s]"
      ]
     },
     "metadata": {},
     "output_type": "display_data"
    },
    {
     "data": {
      "application/vnd.jupyter.widget-view+json": {
       "model_id": "b0fccfd1bb0646d08839f5dcf97669c5",
       "version_major": 2,
       "version_minor": 0
      },
      "text/plain": [
       "  0%|          | 0/162 [00:00<?, ?it/s]"
      ]
     },
     "metadata": {},
     "output_type": "display_data"
    },
    {
     "data": {
      "application/vnd.jupyter.widget-view+json": {
       "model_id": "3c0dda9a8d464152b89a748a987bf043",
       "version_major": 2,
       "version_minor": 0
      },
      "text/plain": [
       "  0%|          | 0/162 [00:00<?, ?it/s]"
      ]
     },
     "metadata": {},
     "output_type": "display_data"
    },
    {
     "data": {
      "application/vnd.jupyter.widget-view+json": {
       "model_id": "d2962319b0d04b0191392e824bf10c6b",
       "version_major": 2,
       "version_minor": 0
      },
      "text/plain": [
       "  0%|          | 0/162 [00:00<?, ?it/s]"
      ]
     },
     "metadata": {},
     "output_type": "display_data"
    },
    {
     "data": {
      "application/vnd.jupyter.widget-view+json": {
       "model_id": "d7c32d75717544c79cf92f180fc79ee4",
       "version_major": 2,
       "version_minor": 0
      },
      "text/plain": [
       "  0%|          | 0/162 [00:00<?, ?it/s]"
      ]
     },
     "metadata": {},
     "output_type": "display_data"
    },
    {
     "data": {
      "application/vnd.jupyter.widget-view+json": {
       "model_id": "099688726dde43c880361fb1446a3af1",
       "version_major": 2,
       "version_minor": 0
      },
      "text/plain": [
       "  0%|          | 0/162 [00:00<?, ?it/s]"
      ]
     },
     "metadata": {},
     "output_type": "display_data"
    },
    {
     "data": {
      "application/vnd.jupyter.widget-view+json": {
       "model_id": "8572aec312dc46c2930d9e9e9ee88d29",
       "version_major": 2,
       "version_minor": 0
      },
      "text/plain": [
       "  0%|          | 0/162 [00:00<?, ?it/s]"
      ]
     },
     "metadata": {},
     "output_type": "display_data"
    },
    {
     "data": {
      "application/vnd.jupyter.widget-view+json": {
       "model_id": "c5d7b43ac48f462bb884dd14e707ffea",
       "version_major": 2,
       "version_minor": 0
      },
      "text/plain": [
       "  0%|          | 0/162 [00:00<?, ?it/s]"
      ]
     },
     "metadata": {},
     "output_type": "display_data"
    },
    {
     "data": {
      "application/vnd.jupyter.widget-view+json": {
       "model_id": "8e5327e039f642dd899e52a706063941",
       "version_major": 2,
       "version_minor": 0
      },
      "text/plain": [
       "  0%|          | 0/162 [00:00<?, ?it/s]"
      ]
     },
     "metadata": {},
     "output_type": "display_data"
    },
    {
     "data": {
      "application/vnd.jupyter.widget-view+json": {
       "model_id": "43295ec38b954508af4287b916cc76ba",
       "version_major": 2,
       "version_minor": 0
      },
      "text/plain": [
       "  0%|          | 0/162 [00:00<?, ?it/s]"
      ]
     },
     "metadata": {},
     "output_type": "display_data"
    },
    {
     "data": {
      "application/vnd.jupyter.widget-view+json": {
       "model_id": "e34ae817cec64798ac1a40ff6f6b9a89",
       "version_major": 2,
       "version_minor": 0
      },
      "text/plain": [
       "  0%|          | 0/162 [00:00<?, ?it/s]"
      ]
     },
     "metadata": {},
     "output_type": "display_data"
    },
    {
     "data": {
      "application/vnd.jupyter.widget-view+json": {
       "model_id": "f5d12b2c7da94baa87434426496981b1",
       "version_major": 2,
       "version_minor": 0
      },
      "text/plain": [
       "  0%|          | 0/162 [00:00<?, ?it/s]"
      ]
     },
     "metadata": {},
     "output_type": "display_data"
    },
    {
     "data": {
      "application/vnd.jupyter.widget-view+json": {
       "model_id": "38a6d30694fa44108e67777db8d5af83",
       "version_major": 2,
       "version_minor": 0
      },
      "text/plain": [
       "  0%|          | 0/162 [00:00<?, ?it/s]"
      ]
     },
     "metadata": {},
     "output_type": "display_data"
    },
    {
     "data": {
      "application/vnd.jupyter.widget-view+json": {
       "model_id": "da3ef0c49b844214b0e1e6b03ed8bd16",
       "version_major": 2,
       "version_minor": 0
      },
      "text/plain": [
       "  0%|          | 0/162 [00:00<?, ?it/s]"
      ]
     },
     "metadata": {},
     "output_type": "display_data"
    },
    {
     "data": {
      "application/vnd.jupyter.widget-view+json": {
       "model_id": "05ce96bcfc1b4a85bde9f32aaaff1c18",
       "version_major": 2,
       "version_minor": 0
      },
      "text/plain": [
       "  0%|          | 0/162 [00:00<?, ?it/s]"
      ]
     },
     "metadata": {},
     "output_type": "display_data"
    },
    {
     "data": {
      "application/vnd.jupyter.widget-view+json": {
       "model_id": "093495720cab4d27ab5f45cf436e3100",
       "version_major": 2,
       "version_minor": 0
      },
      "text/plain": [
       "  0%|          | 0/162 [00:00<?, ?it/s]"
      ]
     },
     "metadata": {},
     "output_type": "display_data"
    },
    {
     "data": {
      "application/vnd.jupyter.widget-view+json": {
       "model_id": "414068d2ad1043998faea65d64f1c6fa",
       "version_major": 2,
       "version_minor": 0
      },
      "text/plain": [
       "  0%|          | 0/162 [00:00<?, ?it/s]"
      ]
     },
     "metadata": {},
     "output_type": "display_data"
    },
    {
     "data": {
      "application/vnd.jupyter.widget-view+json": {
       "model_id": "844ac89a4d2644828f9df686553b4c69",
       "version_major": 2,
       "version_minor": 0
      },
      "text/plain": [
       "  0%|          | 0/162 [00:00<?, ?it/s]"
      ]
     },
     "metadata": {},
     "output_type": "display_data"
    },
    {
     "data": {
      "application/vnd.jupyter.widget-view+json": {
       "model_id": "646ea99d033f4992b69f0cf89c3ae020",
       "version_major": 2,
       "version_minor": 0
      },
      "text/plain": [
       "  0%|          | 0/162 [00:00<?, ?it/s]"
      ]
     },
     "metadata": {},
     "output_type": "display_data"
    },
    {
     "data": {
      "application/vnd.jupyter.widget-view+json": {
       "model_id": "cf75f0cce0db4aa1b9d0b32b4ae53bb6",
       "version_major": 2,
       "version_minor": 0
      },
      "text/plain": [
       "  0%|          | 0/162 [00:00<?, ?it/s]"
      ]
     },
     "metadata": {},
     "output_type": "display_data"
    },
    {
     "data": {
      "application/vnd.jupyter.widget-view+json": {
       "model_id": "20929179c4cf41f3b65d41f76fabd774",
       "version_major": 2,
       "version_minor": 0
      },
      "text/plain": [
       "  0%|          | 0/162 [00:00<?, ?it/s]"
      ]
     },
     "metadata": {},
     "output_type": "display_data"
    },
    {
     "data": {
      "application/vnd.jupyter.widget-view+json": {
       "model_id": "ec984bc6cc254d3083db5f871d26a47b",
       "version_major": 2,
       "version_minor": 0
      },
      "text/plain": [
       "  0%|          | 0/162 [00:00<?, ?it/s]"
      ]
     },
     "metadata": {},
     "output_type": "display_data"
    },
    {
     "data": {
      "application/vnd.jupyter.widget-view+json": {
       "model_id": "988145785a684347985b9be1bffdc5a9",
       "version_major": 2,
       "version_minor": 0
      },
      "text/plain": [
       "  0%|          | 0/162 [00:00<?, ?it/s]"
      ]
     },
     "metadata": {},
     "output_type": "display_data"
    },
    {
     "data": {
      "application/vnd.jupyter.widget-view+json": {
       "model_id": "20c955c0a0e54a708d9ccd371ed557d4",
       "version_major": 2,
       "version_minor": 0
      },
      "text/plain": [
       "  0%|          | 0/162 [00:00<?, ?it/s]"
      ]
     },
     "metadata": {},
     "output_type": "display_data"
    },
    {
     "data": {
      "application/vnd.jupyter.widget-view+json": {
       "model_id": "7a52a2ee19a441d787193a25a2a99ebb",
       "version_major": 2,
       "version_minor": 0
      },
      "text/plain": [
       "  0%|          | 0/162 [00:00<?, ?it/s]"
      ]
     },
     "metadata": {},
     "output_type": "display_data"
    },
    {
     "data": {
      "application/vnd.jupyter.widget-view+json": {
       "model_id": "7edd071cf3304317a9e0b9368650c2f6",
       "version_major": 2,
       "version_minor": 0
      },
      "text/plain": [
       "  0%|          | 0/162 [00:00<?, ?it/s]"
      ]
     },
     "metadata": {},
     "output_type": "display_data"
    },
    {
     "data": {
      "application/vnd.jupyter.widget-view+json": {
       "model_id": "5e401d7c899c4a75b639edc95433e850",
       "version_major": 2,
       "version_minor": 0
      },
      "text/plain": [
       "  0%|          | 0/162 [00:00<?, ?it/s]"
      ]
     },
     "metadata": {},
     "output_type": "display_data"
    },
    {
     "data": {
      "application/vnd.jupyter.widget-view+json": {
       "model_id": "296c3a64e15b4e329e71b72bb180c67c",
       "version_major": 2,
       "version_minor": 0
      },
      "text/plain": [
       "  0%|          | 0/162 [00:00<?, ?it/s]"
      ]
     },
     "metadata": {},
     "output_type": "display_data"
    },
    {
     "data": {
      "application/vnd.jupyter.widget-view+json": {
       "model_id": "545bf59487004eb5967678b903970914",
       "version_major": 2,
       "version_minor": 0
      },
      "text/plain": [
       "  0%|          | 0/162 [00:00<?, ?it/s]"
      ]
     },
     "metadata": {},
     "output_type": "display_data"
    },
    {
     "data": {
      "application/vnd.jupyter.widget-view+json": {
       "model_id": "4cd91d416e36461ab19ade113ba8e62d",
       "version_major": 2,
       "version_minor": 0
      },
      "text/plain": [
       "  0%|          | 0/162 [00:00<?, ?it/s]"
      ]
     },
     "metadata": {},
     "output_type": "display_data"
    },
    {
     "data": {
      "application/vnd.jupyter.widget-view+json": {
       "model_id": "4515d028539247f6829abdb8fb859787",
       "version_major": 2,
       "version_minor": 0
      },
      "text/plain": [
       "  0%|          | 0/162 [00:00<?, ?it/s]"
      ]
     },
     "metadata": {},
     "output_type": "display_data"
    },
    {
     "data": {
      "application/vnd.jupyter.widget-view+json": {
       "model_id": "a41cbd13fff44438b8765e49f1f0c2fd",
       "version_major": 2,
       "version_minor": 0
      },
      "text/plain": [
       "  0%|          | 0/162 [00:00<?, ?it/s]"
      ]
     },
     "metadata": {},
     "output_type": "display_data"
    },
    {
     "data": {
      "application/vnd.jupyter.widget-view+json": {
       "model_id": "132fbdf14061478a9efbcb9e1b386786",
       "version_major": 2,
       "version_minor": 0
      },
      "text/plain": [
       "  0%|          | 0/162 [00:00<?, ?it/s]"
      ]
     },
     "metadata": {},
     "output_type": "display_data"
    },
    {
     "data": {
      "application/vnd.jupyter.widget-view+json": {
       "model_id": "8945de8c1e27476eb3ff272feeb75fa6",
       "version_major": 2,
       "version_minor": 0
      },
      "text/plain": [
       "  0%|          | 0/162 [00:00<?, ?it/s]"
      ]
     },
     "metadata": {},
     "output_type": "display_data"
    },
    {
     "data": {
      "application/vnd.jupyter.widget-view+json": {
       "model_id": "de545163aea14a158d53da3b439ebbe0",
       "version_major": 2,
       "version_minor": 0
      },
      "text/plain": [
       "  0%|          | 0/162 [00:00<?, ?it/s]"
      ]
     },
     "metadata": {},
     "output_type": "display_data"
    },
    {
     "data": {
      "application/vnd.jupyter.widget-view+json": {
       "model_id": "9975cd350c4e48b0a568ace7aa7317dc",
       "version_major": 2,
       "version_minor": 0
      },
      "text/plain": [
       "  0%|          | 0/162 [00:00<?, ?it/s]"
      ]
     },
     "metadata": {},
     "output_type": "display_data"
    },
    {
     "data": {
      "application/vnd.jupyter.widget-view+json": {
       "model_id": "13debf01b5c04d4d960f7c33348a949f",
       "version_major": 2,
       "version_minor": 0
      },
      "text/plain": [
       "  0%|          | 0/162 [00:00<?, ?it/s]"
      ]
     },
     "metadata": {},
     "output_type": "display_data"
    },
    {
     "data": {
      "application/vnd.jupyter.widget-view+json": {
       "model_id": "f7c1c04e4dc84b86a26754573e583179",
       "version_major": 2,
       "version_minor": 0
      },
      "text/plain": [
       "  0%|          | 0/162 [00:00<?, ?it/s]"
      ]
     },
     "metadata": {},
     "output_type": "display_data"
    },
    {
     "data": {
      "application/vnd.jupyter.widget-view+json": {
       "model_id": "55a5bcdf95c44f0a90a653a3fc6fb47c",
       "version_major": 2,
       "version_minor": 0
      },
      "text/plain": [
       "  0%|          | 0/162 [00:00<?, ?it/s]"
      ]
     },
     "metadata": {},
     "output_type": "display_data"
    },
    {
     "data": {
      "application/vnd.jupyter.widget-view+json": {
       "model_id": "74233d1f5ac64810a031d3bdcfcdefb7",
       "version_major": 2,
       "version_minor": 0
      },
      "text/plain": [
       "  0%|          | 0/162 [00:00<?, ?it/s]"
      ]
     },
     "metadata": {},
     "output_type": "display_data"
    },
    {
     "data": {
      "application/vnd.jupyter.widget-view+json": {
       "model_id": "392a6a03e93742579f60595c166c8ea9",
       "version_major": 2,
       "version_minor": 0
      },
      "text/plain": [
       "  0%|          | 0/162 [00:00<?, ?it/s]"
      ]
     },
     "metadata": {},
     "output_type": "display_data"
    },
    {
     "data": {
      "application/vnd.jupyter.widget-view+json": {
       "model_id": "fa154a48e4f54f5b8a98b1c5f0a84ba9",
       "version_major": 2,
       "version_minor": 0
      },
      "text/plain": [
       "  0%|          | 0/162 [00:00<?, ?it/s]"
      ]
     },
     "metadata": {},
     "output_type": "display_data"
    },
    {
     "data": {
      "application/vnd.jupyter.widget-view+json": {
       "model_id": "51caecde289d4eaf8060d58a48fcb514",
       "version_major": 2,
       "version_minor": 0
      },
      "text/plain": [
       "  0%|          | 0/162 [00:00<?, ?it/s]"
      ]
     },
     "metadata": {},
     "output_type": "display_data"
    },
    {
     "data": {
      "application/vnd.jupyter.widget-view+json": {
       "model_id": "4743900271ff446b81a26ea7f6b95fa8",
       "version_major": 2,
       "version_minor": 0
      },
      "text/plain": [
       "  0%|          | 0/162 [00:00<?, ?it/s]"
      ]
     },
     "metadata": {},
     "output_type": "display_data"
    },
    {
     "data": {
      "application/vnd.jupyter.widget-view+json": {
       "model_id": "5d61fe41a8dc493c8eac8df8190db893",
       "version_major": 2,
       "version_minor": 0
      },
      "text/plain": [
       "  0%|          | 0/162 [00:00<?, ?it/s]"
      ]
     },
     "metadata": {},
     "output_type": "display_data"
    },
    {
     "data": {
      "application/vnd.jupyter.widget-view+json": {
       "model_id": "4f3fb2ff0f9942c6bcc2faca93a240c3",
       "version_major": 2,
       "version_minor": 0
      },
      "text/plain": [
       "  0%|          | 0/162 [00:00<?, ?it/s]"
      ]
     },
     "metadata": {},
     "output_type": "display_data"
    },
    {
     "data": {
      "application/vnd.jupyter.widget-view+json": {
       "model_id": "353c4d346ba24e73b045ba35c49fbf36",
       "version_major": 2,
       "version_minor": 0
      },
      "text/plain": [
       "  0%|          | 0/162 [00:00<?, ?it/s]"
      ]
     },
     "metadata": {},
     "output_type": "display_data"
    },
    {
     "data": {
      "application/vnd.jupyter.widget-view+json": {
       "model_id": "e99f628d74c3403ca4883c7f3c5733bd",
       "version_major": 2,
       "version_minor": 0
      },
      "text/plain": [
       "  0%|          | 0/162 [00:00<?, ?it/s]"
      ]
     },
     "metadata": {},
     "output_type": "display_data"
    },
    {
     "data": {
      "application/vnd.jupyter.widget-view+json": {
       "model_id": "76d1dfaea9d14bd281cc3a947125b347",
       "version_major": 2,
       "version_minor": 0
      },
      "text/plain": [
       "  0%|          | 0/162 [00:00<?, ?it/s]"
      ]
     },
     "metadata": {},
     "output_type": "display_data"
    },
    {
     "data": {
      "application/vnd.jupyter.widget-view+json": {
       "model_id": "8fb7b1417c82454bb52fb9a4d0edf8d2",
       "version_major": 2,
       "version_minor": 0
      },
      "text/plain": [
       "  0%|          | 0/162 [00:00<?, ?it/s]"
      ]
     },
     "metadata": {},
     "output_type": "display_data"
    },
    {
     "data": {
      "application/vnd.jupyter.widget-view+json": {
       "model_id": "9209a42123a04e76b96c386838ff364d",
       "version_major": 2,
       "version_minor": 0
      },
      "text/plain": [
       "  0%|          | 0/162 [00:00<?, ?it/s]"
      ]
     },
     "metadata": {},
     "output_type": "display_data"
    },
    {
     "data": {
      "application/vnd.jupyter.widget-view+json": {
       "model_id": "a79bd670a86a4394822bbad30f245279",
       "version_major": 2,
       "version_minor": 0
      },
      "text/plain": [
       "  0%|          | 0/162 [00:00<?, ?it/s]"
      ]
     },
     "metadata": {},
     "output_type": "display_data"
    },
    {
     "data": {
      "application/vnd.jupyter.widget-view+json": {
       "model_id": "be191b67b56f46ba9e521a0c739b7863",
       "version_major": 2,
       "version_minor": 0
      },
      "text/plain": [
       "  0%|          | 0/162 [00:00<?, ?it/s]"
      ]
     },
     "metadata": {},
     "output_type": "display_data"
    },
    {
     "data": {
      "application/vnd.jupyter.widget-view+json": {
       "model_id": "31a7788ab93e4fd1a53ad777195741a7",
       "version_major": 2,
       "version_minor": 0
      },
      "text/plain": [
       "  0%|          | 0/162 [00:00<?, ?it/s]"
      ]
     },
     "metadata": {},
     "output_type": "display_data"
    },
    {
     "data": {
      "application/vnd.jupyter.widget-view+json": {
       "model_id": "f908e50b0f554018a1a7e298b236bb42",
       "version_major": 2,
       "version_minor": 0
      },
      "text/plain": [
       "  0%|          | 0/162 [00:00<?, ?it/s]"
      ]
     },
     "metadata": {},
     "output_type": "display_data"
    },
    {
     "data": {
      "application/vnd.jupyter.widget-view+json": {
       "model_id": "71b99a8946d24895a0b2313ce2977f1e",
       "version_major": 2,
       "version_minor": 0
      },
      "text/plain": [
       "  0%|          | 0/162 [00:00<?, ?it/s]"
      ]
     },
     "metadata": {},
     "output_type": "display_data"
    },
    {
     "data": {
      "application/vnd.jupyter.widget-view+json": {
       "model_id": "87c7f66e7f4a4e3ab12ee109640265d6",
       "version_major": 2,
       "version_minor": 0
      },
      "text/plain": [
       "  0%|          | 0/162 [00:00<?, ?it/s]"
      ]
     },
     "metadata": {},
     "output_type": "display_data"
    },
    {
     "data": {
      "application/vnd.jupyter.widget-view+json": {
       "model_id": "222d3627c1b94d699bc80eb88af3a10d",
       "version_major": 2,
       "version_minor": 0
      },
      "text/plain": [
       "  0%|          | 0/162 [00:00<?, ?it/s]"
      ]
     },
     "metadata": {},
     "output_type": "display_data"
    },
    {
     "data": {
      "application/vnd.jupyter.widget-view+json": {
       "model_id": "6f3271cc79ed406583ebf7c4d364f24b",
       "version_major": 2,
       "version_minor": 0
      },
      "text/plain": [
       "  0%|          | 0/162 [00:00<?, ?it/s]"
      ]
     },
     "metadata": {},
     "output_type": "display_data"
    },
    {
     "data": {
      "application/vnd.jupyter.widget-view+json": {
       "model_id": "eac1ae03c80b4cd18047c20c7ea39a16",
       "version_major": 2,
       "version_minor": 0
      },
      "text/plain": [
       "  0%|          | 0/162 [00:00<?, ?it/s]"
      ]
     },
     "metadata": {},
     "output_type": "display_data"
    }
   ],
   "source": [
    "\"\"\"\n",
    "Picking up from yesterday:\n",
    "plan to fix the vector around 0 degree issue and start addressing phase shift\n",
    "\"\"\"\n",
    "\n",
    "%matplotlib qt\n",
    "\n",
    "\n",
    "from scipy.interpolate import interp1d\n",
    "from scipy.optimize import curve_fit\n",
    "from tqdm.notebook import tqdm\n",
    "\n",
    "def find_nearest_idx(array, value):\n",
    "    array = np.asarray(array)\n",
    "    idx = (np.abs(array - value)).argmin()\n",
    "    return idx\n",
    "\n",
    "def extract_phase(t, data, n, n_blank, plot_fft = False, plot_limited_fft = False, plot_fit = False, plot_vectors = False, plot_phase = False, verbose = False):\n",
    "    \"\"\"\n",
    "    params\n",
    "    ======\n",
    "    data: data from a single flux ramp reset period\n",
    "    n: number of harmonics preserved\n",
    "    n_blank: number of points cut from end (to help remove flux ramp reset period)\n",
    "    plot_fft: If true, plot the relevant ffts (default = False)\n",
    "    plot_fit: If true, plot the relevant fit (default = False)\n",
    "    \"\"\"      \n",
    "    #find the the two fft terms with the most power\n",
    "    \n",
    "    data_fft = fft(data)\n",
    "    freqs = fftfreq(len(data), np.median(np.diff(t)))\n",
    "    \n",
    "    if plot_fft == True:\n",
    "        fig1, ax1 = plt.subplots(1)\n",
    "        \n",
    "        ax1.stem(freqs, np.abs(data_fft))\n",
    "        ax1.set_xlabel('Frequency (Hz)')\n",
    "        ax1.set_ylabel('Amplitude (arb.)')\n",
    "        ax1.set_xlim([-500,500])\n",
    "        \n",
    "    #blank the dc term\n",
    "    no_dc_fft = deepcopy(data_fft)\n",
    "    np.put(no_dc_fft, [0], 0.0)\n",
    "    \n",
    "    fundamental_idx_1 = np.argmax(np.abs(no_dc_fft))\n",
    "    #print(fundamental_idx_1)\n",
    "    remove_highest = deepcopy(no_dc_fft)\n",
    "    #print(len(remove_highest))\n",
    "    np.put(remove_highest, [fundamental_idx_1, int(len(remove_highest)-fundamental_idx_1)], 0.0) #remove the highest term and its complex conjugate in order to search for the second highest term\n",
    "    fundamental_idx_2 = np.argmax(np.abs(remove_highest))\n",
    "    #print(fundamental_idx_2)\n",
    "    \n",
    "    mask = np.zeros(len(data))\n",
    "    try:\n",
    "        for i in range(n):\n",
    "            np.put(mask, [fundamental_idx_1*(i+1), fundamental_idx_2*(i+1)], 1.0)\n",
    "            np.put(mask, [len(data)-(fundamental_idx_1*(i+1)), len(data)-(fundamental_idx_2*(i+1))], 1.0)\n",
    "    except IndexError:\n",
    "        print('Harmonic setting (n) too high. Using highest harmonic available.')\n",
    "        \n",
    "    data_fft_harmonics_only = data_fft * mask\n",
    "    \n",
    "    fit = ifft(data_fft_harmonics_only)\n",
    "    \n",
    "    R1 = np.real(data_fft_harmonics_only[fundamental_idx_1])\n",
    "    R2 = np.real(data_fft_harmonics_only[fundamental_idx_2])\n",
    "\n",
    "    I1 = np.imag(data_fft_harmonics_only[fundamental_idx_1])\n",
    "    I2 = np.imag(data_fft_harmonics_only[fundamental_idx_2])\n",
    "    \n",
    "    if I1 > 0:\n",
    "        angle1 = np.angle(R1+1j*I1)\n",
    "    elif I1 < 0:\n",
    "        angle1 = 2*np.pi + np.angle(R1+1j*I1)\n",
    "    elif I1 == 0 and R1 > 0:\n",
    "        angle1 = 0\n",
    "    elif I1 == 0 and R1 < 0:\n",
    "        angle1 = np.pi\n",
    "        \n",
    "    if I2 > 0:\n",
    "        angle2 = np.angle(R2+1j*I2)\n",
    "    elif I2 < 0:\n",
    "        angle2 = 2*np.pi + np.angle(R2+1j*I2)\n",
    "    elif I2 == 0 and R2 > 0:\n",
    "        angle2 = 0\n",
    "    elif I2 == 0 and R2 < 0:\n",
    "        angle2 = np.pi\n",
    "        \n",
    "    if R2 > 0 and I2 > 0 and R1 > 0 and I1 < 0: #unusual situation where vec2 is in Q1 and vec1 is in Q4: need to rotate vec2 CW (formula 2)\n",
    "        interpolated_phase1 = np.arctan2((I1-R2),(R1+I2))\n",
    "        formula = 2\n",
    "    elif angle1 > angle2:\n",
    "        interpolated_phase1 = np.arctan2((I1+R2),(R1-I2))\n",
    "        formula = 1\n",
    "    elif angle2 > angle1:\n",
    "        interpolated_phase1 = np.arctan2((I1-R2),(R1+I2)) #something is wrong with this formula; the vector plots don't look right\n",
    "        formula = 2\n",
    "    \n",
    "    \n",
    "    #interpolated_phase1 = np.angle(data_fft_harmonics_only[fundamental_idx_1])\n",
    "    #interpolated_phase2 = np.angle(data_fft_harmonics_only[fundamental_idx_2])\n",
    "    #interpolated_phase1 = np.arctan2((I1+R2),(R1-I2))\n",
    "    interpolated_phase2 = np.arctan2(I2,R2)\n",
    "    #interpolated_phase2 = (np.arctan(I1/R1) + np.arctan(I2/R2)-np.pi/2)/2\n",
    "    \n",
    "    t_phase = np.median(t)\n",
    "    \n",
    "    \n",
    "    \n",
    "    if plot_limited_fft == True:\n",
    "        fig2, ax2 = plt.subplots(1)\n",
    "        \n",
    "        ax2.stem(freqs, np.abs(data_fft_harmonics_only))\n",
    "        ax2.set_xlabel('Frequency (Hz)')\n",
    "        ax2.set_ylabel('Amplitude (arb.)')\n",
    "        ax2.set_xlim([-500,500])\n",
    "    \n",
    "    if plot_fit == True:\n",
    "        fig3, ax3 = plt.subplots(1)\n",
    "        \n",
    "        ax3.plot(t, data, '.',label='Data')\n",
    "        ax3.plot(t, fit, label='fit')\n",
    "        ax3.set_xlabel('t (s)')\n",
    "        ax3.set_ylabel('Amplitude (arb.)')\n",
    "        \n",
    "    if plot_vectors == True:\n",
    "        fig4, ax4 = plt.subplots(1)\n",
    "        \n",
    "        vec1 = [0+0j, data_fft_harmonics_only[fundamental_idx_1]]\n",
    "        vec2 = [0+0j, data_fft_harmonics_only[fundamental_idx_2]]\n",
    "        if R2 > 0 and I2 > 0 and R1 > 0 and I1 < 0: #unusual situation where vec2 is in Q1 and vec1 is in Q4: need to rotate vec2 CW (formula 2)\n",
    "            vec3 = [0+0j, (R1+I2)+1j*(I1-R2)]\n",
    "            label = 'angle2 > angle1; ususual Q4/Q1 case'\n",
    "        elif angle1 > angle2:\n",
    "            vec3 = [0+0j, (R1-I2)+1j*(R2+I1)]\n",
    "            label = 'angle1 > angle2'\n",
    "        elif angle2 > angle1:\n",
    "            vec3 = [0+0j, (R1+I2)+1j*(I1-R2)]\n",
    "            label = 'angle2 > angle1'\n",
    "        \n",
    "        ax4.plot(np.real(vec1), np.imag(vec1),label='vec1')\n",
    "        ax4.plot(np.real(vec2), np.imag(vec2),label='vec2')\n",
    "        ax4.plot(np.real(vec3), np.imag(vec3),label=label)\n",
    "    \n",
    "        ax4.set_xlabel('Re')\n",
    "        ax4.set_ylabel('Im')\n",
    "        ax4.set_xlim([-1000,1000])\n",
    "        ax4.set_ylim([-1000,1000])\n",
    "        ax4.legend()\n",
    "    \n",
    "    if plot_phase == True:\n",
    "        fig5, ax5 = plt.subplots(1)\n",
    "        \n",
    "        data_fft_phase_threshold = deepcopy(data_fft_harmonics_only)\n",
    "        threshold = max(np.abs(data_fft_phase_threshold))/10000\n",
    "        data_fft_phase_threshold[np.abs(data_fft_phase_threshold) < threshold] = 0.0\n",
    "        \n",
    "        ax5.stem(freqs,np.angle(data_fft_phase_threshold))\n",
    "        \n",
    "    if verbose == True:\n",
    "        print(f'Angle 1: {angle1} Angle 2: {angle2} Formula: {formula}')\n",
    "        \n",
    "    \n",
    "    return freqs, data_fft_harmonics_only, t, fit, t_phase, interpolated_phase1, interpolated_phase2\n",
    "\n",
    "channels = range(len(test_ts_processed['demod data'])) #136,137 in LN2 set is a good chopped channel\n",
    "chunks = range(len(test_ts_processed['reset indices'])-2)\n",
    "n_zeroed = 7\n",
    "f_fr = 15 #Hz\n",
    "\n",
    "fig6, ax6 = plt.subplots(1)\n",
    "fig7, ax7 = plt.subplots(1)\n",
    "#fig_demod, ax_demod = plt.subplots(1)\n",
    "count=0\n",
    "for ch in tqdm(channels):\n",
    "    t_array = np.array([])\n",
    "    phase_array = np.array([])\n",
    "    \n",
    "    #raw data\n",
    "    t = test_ts_processed['fr t']\n",
    "    sig = test_ts_processed['fr data'][ch]\n",
    "    \n",
    "    #fig1, ax1 = plt.subplots(1)\n",
    "    #ax1.plot(t,sig,'.-')    \n",
    "    \n",
    "    #interpolate the data\n",
    "    interpolation = interp1d(test_ts_processed['fr t'], test_ts_processed['fr data'][ch])\n",
    "    \n",
    "    t_final = t[-1]\n",
    "    t_start = t[0]\n",
    "    t_elapsed = t_final - t_start\n",
    "    n_reset_periods = t_elapsed * f_fr\n",
    "    \n",
    "    t_interp = np.linspace(t_start, t_final, int(n_reset_periods)*1024)\n",
    "    sig_interp = interpolation(t_interp)\n",
    "    \n",
    "    #fig2, ax2 = plt.subplots(1)\n",
    "    #ax2.plot(t_interp, sig_interp,'.')\n",
    "    \n",
    "    \n",
    "    #fig3, ax3 = plt.subplots(1)\n",
    "    #fig4, ax4 = plt.subplots(1)    \n",
    "    #fig5, ax5 = plt.subplots(1)\n",
    "    \n",
    "    #fig8, ax8 = plt.subplots(1)\n",
    "    \n",
    "    chunk_start_idx = find_nearest_idx(t_interp, test_ts_processed['fr t'][test_ts_processed['start index']])\n",
    "    n_fr = 15*(t_interp[-1] - t_interp[chunk_start_idx])\n",
    "    n_ptsfr = len(t_interp[chunk_start_idx:]) / n_fr\n",
    "    #print(n_ptsfr)\n",
    "    \n",
    "    chunk_count = 0\n",
    "    for chunk in tqdm(chunks):\n",
    "        \n",
    "        \n",
    "        #chunk the interpolated data\n",
    "        \n",
    "        \n",
    "        channel_start_idx = find_nearest_idx(t_interp, test_ts_processed['fr t'][test_ts_processed['start index']]) + 10\n",
    "        chunk_start_idx = find_nearest_idx(t_interp, test_ts_processed['fr t'][test_ts_processed['reset indices'][chunk]])\n",
    "        chunk_stop_idx = find_nearest_idx(t_interp, test_ts_processed['fr t'][test_ts_processed['reset indices'][chunk+1]])\n",
    "        \n",
    "        \"\"\"\n",
    "        start = chunk_start_idx + channel_start_idx + 10\n",
    "        stop = chunk_stop_idx + channel_start_idx + 10\n",
    "        \"\"\"\n",
    "        \n",
    "        idx_increase = round(n_ptsfr)#chunk_stop_idx - chunk_start_idx\n",
    "        \n",
    "        \n",
    "        start = channel_start_idx + idx_increase*chunk\n",
    "        stop = channel_start_idx + idx_increase*(chunk + 1)\n",
    "        \n",
    "        #print(idx_increase, start, stop)\n",
    "        \n",
    "        \n",
    "        average = np.average(sig_interp)\n",
    "\n",
    "        #if chunk_count != 0:\n",
    "        #    start += 1\n",
    "            \n",
    "        t_chunk = t_interp[start:stop] #- t_interp[start]\n",
    "            \n",
    "        #print(f't_chunk stats: med res: {np.median(np.diff(t_chunk))}\\n indiv res: {np.diff(t_chunk)}')\n",
    "        sig_chunk = sig_interp[start:stop]-average\n",
    "        \n",
    "        #ax3.plot(t_chunk, sig_chunk,'.',alpha = 0.5)\n",
    "        \n",
    "        #set points that are part of fr reset period to zero        \n",
    "        endpoint_idx = find_nearest_idx(t_chunk,t[test_ts_processed['reset indices'][chunk+1]-n_zeroed]+t[test_ts_processed['start index']]) #figure out the time stamp in the interpolation that is closest to the blanking point in the original data\n",
    "        sig_chunk[endpoint_idx:] = 0\n",
    "        \n",
    "        #ax4.plot(t_chunk, sig_chunk, '.',markersize=0.5)\n",
    "        \n",
    "        sig_zero_pad = np.append(sig_chunk, np.zeros(len(sig_chunk)))\n",
    "        diff = np.median(np.diff(t_chunk))\n",
    "        t_zero_pad = np.append(t_chunk, np.linspace(t_chunk[-1]+diff, (t_chunk[-1]+diff) + (t_chunk[-1] - t_chunk[0]), len(t_chunk)))\n",
    "        #np.linspace(t_chunk[0], t_chunk[-1] + (t_chunk[-1] - t_chunk[0]), 2*len(t_chunk))\n",
    "        \n",
    "        #ax5.plot(t_zero_pad, sig_zero_pad, '.',alpha=0.5)\n",
    "        \n",
    "        \n",
    "        \n",
    "        \n",
    "        \n",
    "        freqs, data_fft_harmonics_only, t_fit, fit, t_phase, phase1, phase2 = extract_phase(t=t_zero_pad, \n",
    "                                                                                            data=sig_zero_pad, \n",
    "                                                                                            n=1, \n",
    "                                                                                            n_blank=0, \n",
    "                                                                                            plot_fft = False, \n",
    "                                                                                            plot_limited_fft = False,\n",
    "                                                                                            plot_fit = False,\n",
    "                                                                                            plot_vectors = False,\n",
    "                                                                                            plot_phase = False,\n",
    "                                                                                            verbose = False)\n",
    "        \n",
    "        phase_array = np.append(phase_array, phase1)\n",
    "        \n",
    "    \n",
    "    #phase_array -= np.average(phase_array)\n",
    "    #phase_array += 0.1*count\n",
    "    t_array = np.linspace(t[0], t[-1], len(chunks))\n",
    "    #ax6.plot(t_array,phase_array,'.-')\n",
    "    #ax6.plot(t_array,np.unwrap(phase_array),'.-')\n",
    "    #ax6.set_ylim([-0.75,0.75])\n",
    "    \n",
    "    \n",
    "    \n",
    "\n",
    "\n",
    "    ax7.plot(test_ts_processed['demod t'],(test_ts_processed['demod data'][ch] - np.average(test_ts_processed['demod data'][ch])) + 0.1*count)\n",
    "    ax7.set_ylim([-0.2,0.2])\n",
    "    ax7.set_xlabel('t (s)')\n",
    "    ax7.set_ylabel('$N_{\\Phi_0}$')\n",
    "    \n",
    "    def linear_model(x,m,b):\n",
    "        return m*x+b\n",
    "    \n",
    "    linear_fit = curve_fit(linear_model, t_array, np.unwrap(phase_array))\n",
    "    \n",
    "    fitted_line = linear_model(t_array,linear_fit[0][0],linear_fit[0][1])\n",
    "    \n",
    "    #ax6.plot(t_array,fitted_line)\n",
    "    ax6.plot(t_array,(np.unwrap(phase_array)-fitted_line)/(2*np.pi)+0.1*count,label=ch)\n",
    "    ax6.set_ylim([-0.2,0.2])\n",
    "    ax6.set_xlabel('t (s)')\n",
    "    ax6.set_ylabel('$N_{\\Phi_0}$')\n",
    "    \n",
    "    count += 1\n",
    "#ax6.legend()\n",
    "    \n",
    "    "
   ]
  },
  {
   "cell_type": "code",
   "execution_count": 21,
   "id": "7e46a0c7-ae07-4c34-b1c7-622fc57f7fc6",
   "metadata": {},
   "outputs": [
    {
     "data": {
      "application/vnd.jupyter.widget-view+json": {
       "model_id": "2cb2049cf5dc4384842cea17a8e5f5d8",
       "version_major": 2,
       "version_minor": 0
      },
      "text/plain": [
       "  0%|          | 0/1 [00:00<?, ?it/s]"
      ]
     },
     "metadata": {},
     "output_type": "display_data"
    },
    {
     "name": "stderr",
     "output_type": "stream",
     "text": [
      "/tmp/ipykernel_2723/3186633013.py:37: RuntimeWarning: More than 20 figures have been opened. Figures created through the pyplot interface (`matplotlib.pyplot.figure`) are retained until explicitly closed and may consume too much memory. (To control this warning, see the rcParam `figure.max_open_warning`).\n",
      "  fig1, ax1 = plt.subplots(1)\n"
     ]
    }
   ],
   "source": [
    "\"\"\"\n",
    "things to check after yesterday's successes:\n",
    "\n",
    "1. need to divide the chopped signal by 2pi to get a value in nPhi0. This is the value that is directly comparable\n",
    "to the results from our old readout.\n",
    "2. package previous work in function\n",
    "3. try to level out the accumulated phase by adjusting the assumed fr frequency\n",
    "\"\"\"\n",
    "\n",
    "%matplotlib qt\n",
    "\n",
    "from scipy.interpolate import interp1d\n",
    "from scipy.optimize import curve_fit\n",
    "from tqdm.notebook import tqdm\n",
    "\n",
    "def find_nearest_idx(array, value):\n",
    "    array = np.asarray(array)\n",
    "    idx = (np.abs(array - value)).argmin()\n",
    "    return idx\n",
    "\n",
    "def extract_phase(t, data, n, n_blank, plot_fft = False, plot_limited_fft = False, plot_fit = False, plot_vectors = False, plot_phase = False, verbose = False):\n",
    "    \"\"\"\n",
    "    params\n",
    "    ======\n",
    "    data: data from a single flux ramp reset period\n",
    "    n: number of harmonics preserved\n",
    "    n_blank: number of points cut from end (to help remove flux ramp reset period)\n",
    "    plot_fft: If true, plot the relevant ffts (default = False)\n",
    "    plot_fit: If true, plot the relevant fit (default = False)\n",
    "    \"\"\"      \n",
    "    #find the the two fft terms with the most power\n",
    "    \n",
    "    data_fft = fft(data)\n",
    "    freqs = fftfreq(len(data), np.median(np.diff(t)))\n",
    "    \n",
    "    if plot_fft == True:\n",
    "        fig1, ax1 = plt.subplots(1)\n",
    "        \n",
    "        ax1.stem(freqs, np.abs(data_fft))\n",
    "        ax1.set_xlabel('Frequency (Hz)')\n",
    "        ax1.set_ylabel('Amplitude (arb.)')\n",
    "        ax1.set_xlim([-500,500])\n",
    "        \n",
    "    #blank the dc term\n",
    "    no_dc_fft = deepcopy(data_fft)\n",
    "    np.put(no_dc_fft, [0], 0.0)\n",
    "    \n",
    "    fundamental_idx_1 = np.argmax(np.abs(no_dc_fft))\n",
    "    #print(fundamental_idx_1)\n",
    "    remove_highest = deepcopy(no_dc_fft)\n",
    "    #print(len(remove_highest))\n",
    "    np.put(remove_highest, [fundamental_idx_1, int(len(remove_highest)-fundamental_idx_1)], 0.0) #remove the highest term and its complex conjugate in order to search for the second highest term\n",
    "    fundamental_idx_2 = np.argmax(np.abs(remove_highest))\n",
    "    #print(fundamental_idx_2)\n",
    "    \n",
    "    mask = np.zeros(len(data))\n",
    "    try:\n",
    "        for i in range(n):\n",
    "            np.put(mask, [fundamental_idx_1*(i+1), fundamental_idx_2*(i+1)], 1.0)\n",
    "            np.put(mask, [len(data)-(fundamental_idx_1*(i+1)), len(data)-(fundamental_idx_2*(i+1))], 1.0)\n",
    "    except IndexError:\n",
    "        print('Harmonic setting (n) too high. Using highest harmonic available.')\n",
    "        \n",
    "    data_fft_harmonics_only = data_fft * mask\n",
    "    \n",
    "    fit = ifft(data_fft_harmonics_only)\n",
    "    \n",
    "    R1 = np.real(data_fft_harmonics_only[fundamental_idx_1])\n",
    "    R2 = np.real(data_fft_harmonics_only[fundamental_idx_2])\n",
    "\n",
    "    I1 = np.imag(data_fft_harmonics_only[fundamental_idx_1])\n",
    "    I2 = np.imag(data_fft_harmonics_only[fundamental_idx_2])\n",
    "    \n",
    "    if I1 > 0:\n",
    "        angle1 = np.angle(R1+1j*I1)\n",
    "    elif I1 < 0:\n",
    "        angle1 = 2*np.pi + np.angle(R1+1j*I1)\n",
    "    elif I1 == 0 and R1 > 0:\n",
    "        angle1 = 0\n",
    "    elif I1 == 0 and R1 < 0:\n",
    "        angle1 = np.pi\n",
    "        \n",
    "    if I2 > 0:\n",
    "        angle2 = np.angle(R2+1j*I2)\n",
    "    elif I2 < 0:\n",
    "        angle2 = 2*np.pi + np.angle(R2+1j*I2)\n",
    "    elif I2 == 0 and R2 > 0:\n",
    "        angle2 = 0\n",
    "    elif I2 == 0 and R2 < 0:\n",
    "        angle2 = np.pi\n",
    "        \n",
    "    if R2 > 0 and I2 > 0 and R1 > 0 and I1 < 0: #unusual situation where vec2 is in Q1 and vec1 is in Q4: need to rotate vec2 CW (formula 2)\n",
    "        interpolated_phase1 = np.arctan2((I1-R2),(R1+I2))\n",
    "        formula = 2\n",
    "    elif angle1 > angle2:\n",
    "        interpolated_phase1 = np.arctan2((I1+R2),(R1-I2))\n",
    "        formula = 1\n",
    "    elif angle2 > angle1:\n",
    "        interpolated_phase1 = np.arctan2((I1-R2),(R1+I2)) #something is wrong with this formula; the vector plots don't look right\n",
    "        formula = 2\n",
    "    \n",
    "    \n",
    "    #interpolated_phase1 = np.angle(data_fft_harmonics_only[fundamental_idx_1])\n",
    "    #interpolated_phase2 = np.angle(data_fft_harmonics_only[fundamental_idx_2])\n",
    "    #interpolated_phase1 = np.arctan2((I1+R2),(R1-I2))\n",
    "    interpolated_phase2 = np.arctan2(I2,R2)\n",
    "    #interpolated_phase2 = (np.arctan(I1/R1) + np.arctan(I2/R2)-np.pi/2)/2\n",
    "    \n",
    "    t_phase = np.median(t)\n",
    "    \n",
    "    \n",
    "    \n",
    "    if plot_limited_fft == True:\n",
    "        fig2, ax2 = plt.subplots(1)\n",
    "        \n",
    "        ax2.stem(freqs, np.abs(data_fft_harmonics_only))\n",
    "        ax2.set_xlabel('Frequency (Hz)')\n",
    "        ax2.set_ylabel('Amplitude (arb.)')\n",
    "        ax2.set_xlim([-500,500])\n",
    "    \n",
    "    if plot_fit == True:\n",
    "        fig3, ax3 = plt.subplots(1)\n",
    "        \n",
    "        ax3.plot(t, data, '.',label='Data')\n",
    "        ax3.plot(t, fit, label='fit')\n",
    "        ax3.set_xlabel('t (s)')\n",
    "        ax3.set_ylabel('Amplitude (arb.)')\n",
    "        \n",
    "    if plot_vectors == True:\n",
    "        fig4, ax4 = plt.subplots(1)\n",
    "        \n",
    "        vec1 = [0+0j, data_fft_harmonics_only[fundamental_idx_1]]\n",
    "        vec2 = [0+0j, data_fft_harmonics_only[fundamental_idx_2]]\n",
    "        if R2 > 0 and I2 > 0 and R1 > 0 and I1 < 0: #unusual situation where vec2 is in Q1 and vec1 is in Q4: need to rotate vec2 CW (formula 2)\n",
    "            vec3 = [0+0j, (R1+I2)+1j*(I1-R2)]\n",
    "            label = 'angle2 > angle1; ususual Q4/Q1 case'\n",
    "        elif angle1 > angle2:\n",
    "            vec3 = [0+0j, (R1-I2)+1j*(R2+I1)]\n",
    "            label = 'angle1 > angle2'\n",
    "        elif angle2 > angle1:\n",
    "            vec3 = [0+0j, (R1+I2)+1j*(I1-R2)]\n",
    "            label = 'angle2 > angle1'\n",
    "        \n",
    "        ax4.plot(np.real(vec1), np.imag(vec1),label='vec1')\n",
    "        ax4.plot(np.real(vec2), np.imag(vec2),label='vec2')\n",
    "        ax4.plot(np.real(vec3), np.imag(vec3),label=label)\n",
    "    \n",
    "        ax4.set_xlabel('Re')\n",
    "        ax4.set_ylabel('Im')\n",
    "        ax4.set_xlim([-1000,1000])\n",
    "        ax4.set_ylim([-1000,1000])\n",
    "        ax4.legend()\n",
    "    \n",
    "    if plot_phase == True:\n",
    "        fig5, ax5 = plt.subplots(1)\n",
    "        \n",
    "        data_fft_phase_threshold = deepcopy(data_fft_harmonics_only)\n",
    "        threshold = max(np.abs(data_fft_phase_threshold))/10000\n",
    "        data_fft_phase_threshold[np.abs(data_fft_phase_threshold) < threshold] = 0.0\n",
    "        \n",
    "        ax5.stem(freqs,np.angle(data_fft_phase_threshold))\n",
    "        \n",
    "    if verbose == True:\n",
    "        print(f'Angle 1: {angle1} Angle 2: {angle2} Formula: {formula}')\n",
    "        \n",
    "    \n",
    "    return freqs, data_fft_harmonics_only, t, fit, t_phase, interpolated_phase1, interpolated_phase2\n",
    "\n",
    "def demodulate(t,sig,channels,cunks,n_zeroed,f_fr,time_method='original',phase_units='rad',correct_accumulated_phase=False,plot_demod = False,plot_chunking_process = False,plot_fft = False,plot_limited_fft = False,plot_fit = False,plot_vectors = False,plot_phase = False,verbose = False):\n",
    "    \"\"\"\n",
    "    time_method: if 'original' chunking maintains true time, if 'zeroed' chuning zeros each chunk\n",
    "    \"\"\"\n",
    "    \n",
    "    if plot_demod == True:\n",
    "        fig_demod, ax_demod = plt.subplots(1)\n",
    "    \n",
    "    count=0\n",
    "    for ch in tqdm(channels):\n",
    "        #establish array for storing phase\n",
    "        phase_array = np.array([])\n",
    "        \n",
    "        if plot_chunking_process == True:\n",
    "            fig1, ax1 = plt.subplots(1)\n",
    "            ax1.plot(t,sig[ch],'.-')\n",
    "\n",
    "        #interpolate the data\n",
    "        interpolation = interp1d(test_ts_processed['fr t'], test_ts_processed['fr data'][ch])\n",
    "\n",
    "        t_final = t[-1]\n",
    "        t_start = t[0]\n",
    "        t_elapsed = t_final - t_start\n",
    "        n_reset_periods = t_elapsed * f_fr\n",
    "\n",
    "        t_interp = np.linspace(t_start, t_final, int(n_reset_periods)*1024)\n",
    "        sig_interp = interpolation(t_interp)\n",
    "        \n",
    "        if plot_chunking_process == True:\n",
    "            fig2, ax2 = plt.subplots(1)\n",
    "            ax2.plot(t_interp, sig_interp,'.')\n",
    "\n",
    "            \n",
    "            fig3, ax3 = plt.subplots(1)\n",
    "            fig4, ax4 = plt.subplots(1)    \n",
    "            fig5, ax5 = plt.subplots(1)\n",
    "\n",
    "        chunk_start_idx = find_nearest_idx(t_interp, test_ts_processed['fr t'][test_ts_processed['start index']])\n",
    "        n_fr = f_fr*(t_interp[-1] - t_interp[chunk_start_idx])\n",
    "        n_ptsfr = len(t_interp[chunk_start_idx:]) / n_fr\n",
    "\n",
    "        chunk_count = 0\n",
    "        for chunk in chunks:          \n",
    "            \n",
    "            #chunk the interpolated data\n",
    "            \n",
    "            channel_start_idx = find_nearest_idx(t_interp, test_ts_processed['fr t'][test_ts_processed['start index']]) + 10\n",
    "            chunk_stop_idx = find_nearest_idx(t_interp, test_ts_processed['fr t'][test_ts_processed['reset indices'][chunk+1]])\n",
    "\n",
    "            idx_increase = round(n_ptsfr)\n",
    "\n",
    "            start = channel_start_idx + idx_increase*chunk\n",
    "            stop = channel_start_idx + idx_increase*(chunk + 1)\n",
    "            \n",
    "            average = np.average(sig_interp)\n",
    "            \n",
    "            t_chunk = t_interp[start:stop] \n",
    "            if time_method == 'zeroed':\n",
    "                t_chunk -= t_interp[start]\n",
    "\n",
    "            sig_chunk = sig_interp[start:stop]-average\n",
    "\n",
    "            if plot_chunking_process == True:\n",
    "                ax3.plot(t_chunk, sig_chunk,'.',alpha = 0.5)\n",
    "\n",
    "            #set points that are part of fr reset period to zero        \n",
    "            endpoint_idx = find_nearest_idx(t_chunk,t[test_ts_processed['reset indices'][chunk+1]-n_zeroed]+t[test_ts_processed['start index']]) #figure out the time stamp in the interpolation that is closest to the blanking point in the original data\n",
    "            sig_chunk[endpoint_idx:] = 0\n",
    "\n",
    "            if plot_chunking_process == True:\n",
    "                ax4.plot(t_chunk, sig_chunk, '.')\n",
    "\n",
    "            sig_zero_pad = np.append(sig_chunk, np.zeros(len(sig_chunk)))\n",
    "            diff = np.median(np.diff(t_chunk))\n",
    "            t_zero_pad = np.append(t_chunk, np.linspace(t_chunk[-1]+diff, (t_chunk[-1]+diff) + (t_chunk[-1] - t_chunk[0]), len(t_chunk)))\n",
    "            #np.linspace(t_chunk[0], t_chunk[-1] + (t_chunk[-1] - t_chunk[0]), 2*len(t_chunk))\n",
    "\n",
    "            if plot_chunking_process == True:\n",
    "                ax5.plot(t_zero_pad, sig_zero_pad, '.',alpha=0.5)\n",
    "\n",
    "\n",
    "\n",
    "\n",
    "\n",
    "            freqs, data_fft_harmonics_only, t_fit, fit, t_phase, phase1, phase2 = extract_phase(t=t_zero_pad, \n",
    "                                                                                                data=sig_zero_pad, \n",
    "                                                                                                n=1, \n",
    "                                                                                                n_blank=0, \n",
    "                                                                                                plot_fft = plot_fft, \n",
    "                                                                                                plot_limited_fft = plot_limited_fft,\n",
    "                                                                                                plot_fit = plot_fit,\n",
    "                                                                                                plot_vectors = plot_vectors,\n",
    "                                                                                                plot_phase = plot_phase,\n",
    "                                                                                                verbose = verbose)\n",
    "\n",
    "            phase_array = np.append(phase_array, phase1)\n",
    "        phase_array = np.unwrap(phase_array)\n",
    "        if phase_units == 'nPhi0':\n",
    "            phase_array /= (2*np.pi) #convert to nPhi0\n",
    "        elif phase_units == 'deg':\n",
    "            phase_array /= 180/np.pi\n",
    "        elif phase_units == 'rad':\n",
    "            continue #already in rad\n",
    "\n",
    "\n",
    "        \n",
    "        \n",
    "        \n",
    "        t_array = np.linspace(t[0], t[-1], len(chunks))\n",
    "        \n",
    "        \n",
    "\n",
    "        \n",
    "\n",
    "        \n",
    "\n",
    "        if correct_accumulated_phase == True:\n",
    "            def linear_model(x,m,b):\n",
    "                return m*x+b\n",
    "\n",
    "            linear_fit = curve_fit(linear_model, t_array, np.unwrap(phase_array))\n",
    "\n",
    "            fitted_line = linear_model(t_array,linear_fit[0][0],linear_fit[0][1])\n",
    "            \n",
    "            phase_array -= fitted_line\n",
    "            \n",
    "            \n",
    "            \n",
    "        if plot_demod == True:\n",
    "            ax_demod.plot(t_array,phase_array+0.1*count,'-')\n",
    "            ax_demod.set_ylim([-0.2,0.2])\n",
    "        \n",
    "        count += 1\n",
    "                \n",
    "    return t_array, phase_array\n",
    "\n",
    "t = test_ts_processed['fr t']\n",
    "sig = test_ts_processed['fr data']\n",
    "channels = [209]#range(len(test_ts_processed['demod data'])) #136,137 in LN2 set is a good chopped channel\n",
    "chunks = range(len(test_ts_processed['reset indices'])-2)\n",
    "n_zeroed = 0\n",
    "f_fr = 15 #Hz\n",
    "\n",
    "#flux_ramp_freqs = [15]#np.arange(14.09,15.01,0.001)\n",
    "\n",
    "t_array, phase_array = demodulate(t=t,\n",
    "                                  sig=sig,\n",
    "                                  channels=channels,\n",
    "                                  cunks=chunks,\n",
    "                                  n_zeroed=n_zeroed,\n",
    "                                  f_fr=f_fr,\n",
    "                                  time_method='original',\n",
    "                                  phase_units='nPhi0',\n",
    "                                  correct_accumulated_phase=True,\n",
    "                                  plot_demod = True,\n",
    "                                  plot_chunking_process = False,\n",
    "                                  plot_fft = True,\n",
    "                                  plot_limited_fft = False,\n",
    "                                  plot_fit = False,\n",
    "                                  plot_vectors = False,\n",
    "                                  plot_phase = False,\n",
    "                                  verbose = False)\n",
    "\n",
    "\n"
   ]
  },
  {
   "cell_type": "code",
   "execution_count": 13,
   "id": "783cc3df-5284-4683-82d6-be83b95afff4",
   "metadata": {},
   "outputs": [
    {
     "data": {
      "text/plain": [
       "Text(0, 0.5, 'PSD (Rad^2/Hz)')"
      ]
     },
     "execution_count": 13,
     "metadata": {},
     "output_type": "execute_result"
    }
   ],
   "source": [
    "#trying to take the psd of the signal computed in cell above\n",
    "\n",
    "from scipy.signal import welch\n",
    "\n",
    "phase_array_zero_pad = np.append(np.unwrap(phase_array)-fitted_line, np.zeros(len(phase_array)))\n",
    "diff = np.median(np.diff(t_array))\n",
    "t_array_zero_pad = np.append(t_array, np.linspace(t_array[-1]+diff, (t_array[-1]+diff) + (t_array[-1] - t_array[0]), len(t_array)))\n",
    "\n",
    "fig1, ax1 = plt.subplots(1)\n",
    "\n",
    "ax1.plot(t_array_zero_pad, phase_array_zero_pad)\n",
    "\n",
    "f_zero_pad, Pxx_zero_pad = welch(phase_array_zero_pad,fs=1/np.median(np.diff(t_array_zero_pad)),window='hann')\n",
    "f, Pxx = welch(np.unwrap(phase_array)-fitted_line,fs=1/np.median(np.diff(t_array)),window='hann')\n",
    "\n",
    "fig2, ax2 = plt.subplots(1)\n",
    "\n",
    "ax2.plot(f,Pxx,'.-')\n",
    "#ax2.plot(f_zero_pad,Pxx_zero_pad,'.-')\n",
    "ax2.set_yscale('log')\n",
    "ax2.set_xlabel('Frequency (Hz)')\n",
    "ax2.set_ylabel('PSD (Rad^2/Hz)')\n",
    "\n",
    "#\n",
    "\n"
   ]
  },
  {
   "cell_type": "code",
   "execution_count": 62,
   "id": "3dcb9656-e884-4e44-a5b3-133dcc731d46",
   "metadata": {
    "tags": []
   },
   "outputs": [
    {
     "data": {
      "application/vnd.jupyter.widget-view+json": {
       "model_id": "3f6576ed370f4c099c34ce069d308fc3",
       "version_major": 2,
       "version_minor": 0
      },
      "text/plain": [
       "  0%|          | 0/1 [00:00<?, ?it/s]"
      ]
     },
     "metadata": {},
     "output_type": "display_data"
    }
   ],
   "source": [
    "#trying to look at polarizer data\n",
    "\n",
    "%matplotlib qt\n",
    "\n",
    "from scipy.interpolate import interp1d\n",
    "from scipy.optimize import curve_fit\n",
    "from tqdm.notebook import tqdm\n",
    "\n",
    "def find_nearest_idx(array, value):\n",
    "    array = np.asarray(array)\n",
    "    idx = (np.abs(array - value)).argmin()\n",
    "    return idx\n",
    "\n",
    "def extract_phase(t, data, n, n_blank, plot_fft = False, plot_limited_fft = False, plot_fit = False, plot_vectors = False, plot_phase = False, verbose = False):\n",
    "    \"\"\"\n",
    "    params\n",
    "    ======\n",
    "    data: data from a single flux ramp reset period\n",
    "    n: number of harmonics preserved\n",
    "    n_blank: number of points cut from end (to help remove flux ramp reset period)\n",
    "    plot_fft: If true, plot the relevant ffts (default = False)\n",
    "    plot_fit: If true, plot the relevant fit (default = False)\n",
    "    \"\"\"      \n",
    "    #find the the two fft terms with the most power\n",
    "    \n",
    "    data_fft = fft(data)\n",
    "    freqs = fftfreq(len(data), np.median(np.diff(t)))\n",
    "    \n",
    "    if plot_fft == True and t[0] > 104 and t[0]<106:\n",
    "        fig1, ax1 = plt.subplots(1)\n",
    "        \n",
    "        ax1.stem(freqs, np.abs(data_fft))\n",
    "        ax1.set_xlabel('Frequency (Hz)')\n",
    "        ax1.set_ylabel('Amplitude (arb.)')\n",
    "        ax1.set_xlim([-500,500])\n",
    "        \n",
    "    #blank the dc term\n",
    "    no_dc_fft = deepcopy(data_fft)\n",
    "    np.put(no_dc_fft, [0], 0.0)\n",
    "    \n",
    "    fundamental_idx_1 = np.argmax(np.abs(no_dc_fft))\n",
    "    #print(fundamental_idx_1)\n",
    "    remove_highest = deepcopy(no_dc_fft)\n",
    "    #print(len(remove_highest))\n",
    "    np.put(remove_highest, [fundamental_idx_1, int(len(remove_highest)-fundamental_idx_1)], 0.0) #remove the highest term and its complex conjugate in order to search for the second highest term\n",
    "    fundamental_idx_2 = np.argmax(np.abs(remove_highest))\n",
    "    #print(fundamental_idx_2)\n",
    "    \n",
    "    mask = np.zeros(len(data))\n",
    "    try:\n",
    "        for i in range(n):\n",
    "            np.put(mask, [fundamental_idx_1*(i+1), fundamental_idx_2*(i+1)], 1.0)\n",
    "            np.put(mask, [len(data)-(fundamental_idx_1*(i+1)), len(data)-(fundamental_idx_2*(i+1))], 1.0)\n",
    "    except IndexError:\n",
    "        print('Harmonic setting (n) too high. Using highest harmonic available.')\n",
    "        \n",
    "    data_fft_harmonics_only = data_fft * mask\n",
    "    \n",
    "    fit = ifft(data_fft_harmonics_only)\n",
    "    \n",
    "    if fundamental_idx_1 >= fundamental_idx_2:\n",
    "        #print('1>=2')\n",
    "        R1 = np.real(data_fft_harmonics_only[fundamental_idx_1])\n",
    "        R2 = np.real(data_fft_harmonics_only[fundamental_idx_2])\n",
    "\n",
    "        I1 = np.imag(data_fft_harmonics_only[fundamental_idx_1])\n",
    "        I2 = np.imag(data_fft_harmonics_only[fundamental_idx_2])\n",
    "        \n",
    "    elif fundamental_idx_1 < fundamental_idx_2:\n",
    "        #print('1<2')\n",
    "        R1 = np.real(data_fft_harmonics_only[fundamental_idx_2])\n",
    "        R2 = np.real(data_fft_harmonics_only[fundamental_idx_1])\n",
    "\n",
    "        I1 = np.imag(data_fft_harmonics_only[fundamental_idx_2])\n",
    "        I2 = np.imag(data_fft_harmonics_only[fundamental_idx_1])\n",
    "        \n",
    "    \n",
    "    if I1 > 0:\n",
    "        angle1 = np.angle(R1+1j*I1)\n",
    "    elif I1 < 0:\n",
    "        angle1 = 2*np.pi + np.angle(R1+1j*I1)\n",
    "    elif I1 == 0 and R1 > 0:\n",
    "        angle1 = 0\n",
    "    elif I1 == 0 and R1 < 0:\n",
    "        angle1 = np.pi\n",
    "        \n",
    "    if I2 > 0:\n",
    "        angle2 = np.angle(R2+1j*I2)\n",
    "    elif I2 < 0:\n",
    "        angle2 = 2*np.pi + np.angle(R2+1j*I2)\n",
    "    elif I2 == 0 and R2 > 0:\n",
    "        angle2 = 0\n",
    "    elif I2 == 0 and R2 < 0:\n",
    "        angle2 = np.pi\n",
    "        \n",
    "    if R2 > 0 and I2 > 0 and R1 > 0 and I1 < 0: #unusual situation where vec2 is in Q1 and vec1 is in Q4: need to rotate vec2 CW (formula 2)\n",
    "        interpolated_phase1 = np.arctan2((I1-R2),(R1+I2))\n",
    "        formula = 2\n",
    "    elif angle1 > angle2:\n",
    "        interpolated_phase1 = np.arctan2((I1+R2),(R1-I2))\n",
    "        formula = 1\n",
    "    elif angle2 > angle1:\n",
    "        interpolated_phase1 = np.arctan2((I1-R2),(R1+I2)) #something is wrong with this formula; the vector plots don't look right\n",
    "        formula = 2\n",
    "    \n",
    "    \n",
    "    #interpolated_phase1 = np.angle(data_fft_harmonics_only[fundamental_idx_1])\n",
    "    #interpolated_phase2 = np.angle(data_fft_harmonics_only[fundamental_idx_2])\n",
    "    #interpolated_phase1 = np.arctan2((I1+R2),(R1-I2))\n",
    "    interpolated_phase2 = np.arctan2(I2,R2)\n",
    "    #interpolated_phase2 = (np.arctan(I1/R1) + np.arctan(I2/R2)-np.pi/2)/2\n",
    "    \n",
    "    t_phase = np.median(t)\n",
    "    \n",
    "    \n",
    "    \n",
    "    if plot_limited_fft == True and t[0] > 104 and t[0]<106:\n",
    "        fig2, ax2 = plt.subplots(1)\n",
    "        \n",
    "        ax2.stem(freqs, np.abs(data_fft_harmonics_only))\n",
    "        ax2.set_xlabel('Frequency (Hz)')\n",
    "        ax2.set_ylabel('Amplitude (arb.)')\n",
    "        ax2.set_xlim([-500,500])\n",
    "    \n",
    "    if plot_fit == True and t[0] > 104 and t[0]<106:\n",
    "        fig3, ax3 = plt.subplots(1)\n",
    "        \n",
    "        ax3.plot(t, data, '.',label='Data')\n",
    "        ax3.plot(t, fit, label='fit')\n",
    "        ax3.set_xlabel('t (s)')\n",
    "        ax3.set_ylabel('Amplitude (arb.)')\n",
    "        \n",
    "    if plot_vectors == True and t[0] > 104 and t[0]<106:\n",
    "        fig4, ax4 = plt.subplots(1)\n",
    "        \n",
    "        vec1 = [0+0j, data_fft_harmonics_only[fundamental_idx_1]]\n",
    "        vec2 = [0+0j, data_fft_harmonics_only[fundamental_idx_2]]\n",
    "        if R2 > 0 and I2 > 0 and R1 > 0 and I1 < 0: #unusual situation where vec2 is in Q1 and vec1 is in Q4: need to rotate vec2 CW (formula 2)\n",
    "            vec3 = [0+0j, (R1+I2)+1j*(I1-R2)]\n",
    "            label = 'angle2 > angle1; ususual Q4/Q1 case'\n",
    "        elif angle1 > angle2:\n",
    "            vec3 = [0+0j, (R1-I2)+1j*(R2+I1)]\n",
    "            label = 'angle1 > angle2'\n",
    "        elif angle2 > angle1:\n",
    "            vec3 = [0+0j, (R1+I2)+1j*(I1-R2)]\n",
    "            label = 'angle2 > angle1'\n",
    "        \n",
    "        ax4.plot(np.real(vec1), np.imag(vec1),label='vec1')\n",
    "        ax4.plot(np.real(vec2), np.imag(vec2),label='vec2')\n",
    "        ax4.plot(np.real(vec3), np.imag(vec3),label=label)\n",
    "    \n",
    "        ax4.set_xlabel('Re')\n",
    "        ax4.set_ylabel('Im')\n",
    "        ax4.set_xlim([-1000,1000])\n",
    "        ax4.set_ylim([-1000,1000])\n",
    "        ax4.legend()\n",
    "    \n",
    "    if plot_phase == True:\n",
    "        fig5, ax5 = plt.subplots(1)\n",
    "        \n",
    "        data_fft_phase_threshold = deepcopy(data_fft_harmonics_only)\n",
    "        threshold = max(np.abs(data_fft_phase_threshold))/10000\n",
    "        data_fft_phase_threshold[np.abs(data_fft_phase_threshold) < threshold] = 0.0\n",
    "        \n",
    "        ax5.stem(freqs,np.angle(data_fft_phase_threshold))\n",
    "        \n",
    "    if verbose == True:\n",
    "        print(f'Angle 1: {angle1} Angle 2: {angle2} Formula: {formula}')\n",
    "        \n",
    "    \n",
    "    return freqs, data_fft_harmonics_only, t, fit, t_phase, interpolated_phase1, interpolated_phase2\n",
    "\n",
    "def demodulate(t,sig,channels,cunks,n_zeroed,f_fr,time_method='original',phase_units='rad',correct_accumulated_phase=False,plot_demod = False,plot_chunking_process = False,plot_fft = False,plot_limited_fft = False,plot_fit = False,plot_vectors = False,plot_phase = False,verbose = False):\n",
    "    \"\"\"\n",
    "    time_method: if 'original' chunking maintains true time, if 'zeroed' chuning zeros each chunk\n",
    "    \"\"\"\n",
    "    \n",
    "    if plot_demod == True:\n",
    "        fig_demod, ax_demod = plt.subplots(1)\n",
    "    \n",
    "    count=0\n",
    "    for ch in tqdm(channels):\n",
    "        #establish array for storing phase\n",
    "        phase_array = np.array([])\n",
    "        \n",
    "        if plot_chunking_process == True:\n",
    "            print(sig[ch])\n",
    "            fig1, ax1 = plt.subplots(1)\n",
    "            ax1.plot(t,sig[ch],'.-')\n",
    "\n",
    "        #interpolate the data\n",
    "        interpolation = interp1d(test_ts_processed['fr t'], test_ts_processed['fr data'][ch])\n",
    "\n",
    "        t_final = t[-1]\n",
    "        t_start = t[0]\n",
    "        t_elapsed = t_final - t_start\n",
    "        n_reset_periods = t_elapsed * f_fr\n",
    "\n",
    "        t_interp = np.linspace(t_start, t_final, int(n_reset_periods)*1024)\n",
    "        sig_interp = interpolation(t_interp)\n",
    "        \n",
    "        if plot_chunking_process == True:\n",
    "            fig2, ax2 = plt.subplots(1)\n",
    "            ax2.plot(t_interp, sig_interp,'.')\n",
    "\n",
    "            \n",
    "            fig3, ax3 = plt.subplots(1)\n",
    "            fig4, ax4 = plt.subplots(1)    \n",
    "            fig5, ax5 = plt.subplots(1)\n",
    "\n",
    "        chunk_start_idx = find_nearest_idx(t_interp, test_ts_processed['fr t'][test_ts_processed['start index']])\n",
    "        n_fr = f_fr*(t_interp[-1] - t_interp[chunk_start_idx])\n",
    "        n_ptsfr = len(t_interp[chunk_start_idx:]) / n_fr\n",
    "\n",
    "        chunk_count = 0\n",
    "        for chunk in chunks:          \n",
    "            \n",
    "            #chunk the interpolated data\n",
    "            channel_start_idx = find_nearest_idx(t_interp, t[test_ts_processed['start index']]) #+10\n",
    "            #chunk_stop_idx = find_nearest_idx(t_interp, t[test_ts_processed['reset indices'][chunk+1]])\n",
    "\n",
    "            idx_increase = round(n_ptsfr)\n",
    "\n",
    "            start = channel_start_idx + idx_increase*chunk\n",
    "            stop = channel_start_idx + idx_increase*(chunk + 1)\n",
    "            \n",
    "            average = np.average(sig_interp)\n",
    "            \n",
    "            t_chunk = t_interp[start:stop] \n",
    "            if time_method == 'zeroed':\n",
    "                t_chunk -= t_interp[start]\n",
    "\n",
    "            sig_chunk = sig_interp[start:stop]-average\n",
    "\n",
    "            if plot_chunking_process == True:\n",
    "                ax3.plot(t_chunk, sig_chunk,'.',alpha = 0.5)\n",
    "\n",
    "            #set points that are part of fr reset period to zero        \n",
    "            endpoint_idx = find_nearest_idx(t_chunk,t[test_ts_processed['reset indices'][chunk+1]-n_zeroed]+t[test_ts_processed['start index']]) #figure out the time stamp in the interpolation that is closest to the blanking point in the original data\n",
    "            sig_chunk[endpoint_idx:] = 0\n",
    "\n",
    "            if plot_chunking_process == True:\n",
    "                ax4.plot(t_chunk, sig_chunk, '.')\n",
    "\n",
    "            sig_zero_pad = np.append(sig_chunk, np.zeros(len(sig_chunk)))\n",
    "            diff = np.median(np.diff(t_chunk))\n",
    "            t_zero_pad = np.append(t_chunk, np.linspace(t_chunk[-1]+diff, (t_chunk[-1]+diff) + (t_chunk[-1] - t_chunk[0]), len(t_chunk)))\n",
    "            #np.linspace(t_chunk[0], t_chunk[-1] + (t_chunk[-1] - t_chunk[0]), 2*len(t_chunk))\n",
    "\n",
    "            if plot_chunking_process == True:\n",
    "                ax5.plot(t_zero_pad, sig_zero_pad, '.',alpha=0.5)\n",
    "\n",
    "\n",
    "\n",
    "\n",
    "            \n",
    "            freqs, data_fft_harmonics_only, t_fit, fit, t_phase, phase1, phase2 = extract_phase(t=t_zero_pad, \n",
    "                                                                                                data=sig_zero_pad, \n",
    "                                                                                                n=1, \n",
    "                                                                                                n_blank=0, \n",
    "                                                                                                plot_fft = plot_fft, \n",
    "                                                                                                plot_limited_fft = plot_limited_fft,\n",
    "                                                                                                plot_fit = plot_fit,\n",
    "                                                                                                plot_vectors = plot_vectors,\n",
    "                                                                                                plot_phase = plot_phase,\n",
    "                                                                                                verbose = verbose)\n",
    "\n",
    "            phase_array = np.append(phase_array, phase1)\n",
    "        phase_array = np.unwrap(phase_array)\n",
    "        if phase_units == 'nPhi0':\n",
    "            phase_array /= (2*np.pi) #convert to nPhi0\n",
    "        elif phase_units == 'deg':\n",
    "            phase_array /= 180/np.pi\n",
    "        elif phase_units == 'rad':\n",
    "            pass\n",
    "\n",
    "\n",
    "        \n",
    "        \n",
    "        \n",
    "        t_array = np.linspace(t[0], t[-1], len(chunks))\n",
    "        \n",
    "        \n",
    "\n",
    "        \n",
    "\n",
    "        \n",
    "\n",
    "        if correct_accumulated_phase == True:\n",
    "            def linear_model(x,m,b):\n",
    "                return m*x+b\n",
    "\n",
    "            linear_fit = curve_fit(linear_model, t_array, np.unwrap(phase_array))\n",
    "\n",
    "            fitted_line = linear_model(t_array,linear_fit[0][0],linear_fit[0][1])\n",
    "            \n",
    "            phase_array -= fitted_line\n",
    "            \n",
    "            \n",
    "            \n",
    "        if plot_demod == True:\n",
    "            ax_demod.plot(t_array,phase_array+0.1*count,'-')\n",
    "            #ax_demod.set_ylim([-0.2,0.2])\n",
    "        \n",
    "        count += 1\n",
    "                \n",
    "    return t_array, phase_array\n",
    "\n",
    "t = test_ts_processed['fr t']\n",
    "sig = test_ts_processed['fr data']\n",
    "channels = [130]#np.arange(130,141,1)#range(len(test_ts_processed['demod data'])) #136,137 in LN2 set is a good chopped channel\n",
    "chunks = range(len(test_ts_processed['reset indices'])-2)\n",
    "n_zeroed = 0\n",
    "f_fr = 15 #Hz\n",
    "\n",
    "#flux_ramp_freqs = [15]#np.arange(14.09,15.01,0.001)\n",
    "\n",
    "#start_idx = find_nearest_idx(t,60)\n",
    "#stop_idx = find_nearest_idx(t,120)\n",
    "\n",
    "i=1\n",
    "start_idx = find_nearest_idx(t,60*i)\n",
    "stop_idx = find_nearest_idx(t,60*(i+1))\n",
    "\n",
    "#print(ten_second_idx)\n",
    "\n",
    "#print(len(test_ts_processed['fr data']))\n",
    "#print(len(t))\n",
    "\n",
    "reduced_reset_indices = test_ts_processed['reset indices'][test_ts_processed['reset indices'] <= stop_idx]\n",
    "reduced_reset_indices = reduced_reset_indices[reduced_reset_indices >= start_idx]\n",
    "#print(ten_second_reset_indices)\n",
    "\n",
    "#print(test_ts_processed['reset indices'])\n",
    "#print(ten_second_reset_indices)\n",
    "\n",
    "chunks = range(len(reduced_reset_indices)-2)\n",
    "\n",
    "\n",
    "\n",
    "t_array, phase_array = demodulate(t=t[start_idx:stop_idx],\n",
    "                                  sig=sig[:,start_idx:stop_idx],\n",
    "                                  channels=channels,\n",
    "                                  cunks=chunks,\n",
    "                                  n_zeroed=n_zeroed,\n",
    "                                  f_fr=f_fr,\n",
    "                                  time_method='original',\n",
    "                                  phase_units='n_Phi0',\n",
    "                                  correct_accumulated_phase=True,\n",
    "                                  plot_demod = True,\n",
    "                                  plot_chunking_process = False,\n",
    "                                  plot_fft = False,\n",
    "                                  plot_limited_fft = False,\n",
    "                                  plot_fit = False,\n",
    "                                  plot_vectors = False,\n",
    "                                  plot_phase = False,\n",
    "                                  verbose = False)\n",
    "\n",
    "                                  \n"
   ]
  },
  {
   "cell_type": "code",
   "execution_count": 73,
   "id": "02823c51-ff38-4b31-8796-4337a8b5a5de",
   "metadata": {
    "tags": []
   },
   "outputs": [
    {
     "name": "stdout",
     "output_type": "stream",
     "text": [
      "19.999402666666658\n",
      "44.90134105338615\n",
      "[0.71536665]\n",
      "[0.71536665 0.70274433]\n",
      "[0.71536665 0.70274433 0.67672733]\n",
      "[0.71536665 0.70274433 0.67672733 0.69931201]\n",
      "[0.71536665 0.70274433 0.67672733 0.69931201 0.68767477]\n",
      "[0.71536665 0.70274433 0.67672733 0.69931201 0.68767477 0.65570597]\n",
      "[0.71536665 0.70274433 0.67672733 0.69931201 0.68767477 0.65570597\n",
      " 9.55747495]\n",
      "[0.71536665 0.70274433 0.67672733 0.69931201 0.68767477 0.65570597\n",
      " 9.55747495 0.73788245]\n",
      "[0.71536665 0.70274433 0.67672733 0.69931201 0.68767477 0.65570597\n",
      " 9.55747495 0.73788245 0.73490773]\n",
      "[0.71536665 0.70274433 0.67672733 0.69931201 0.68767477 0.65570597\n",
      " 9.55747495 0.73788245 0.73490773 0.74697237]\n",
      "[0.71536665 0.70274433 0.67672733 0.69931201 0.68767477 0.65570597\n",
      " 9.55747495 0.73788245 0.73490773 0.74697237 0.77781487]\n",
      "[0.71536665 0.70274433 0.67672733 0.69931201 0.68767477 0.65570597\n",
      " 9.55747495 0.73788245 0.73490773 0.74697237 0.77781487 0.73526143]\n",
      "[0.71536665 0.70274433 0.67672733 0.69931201 0.68767477 0.65570597\n",
      " 9.55747495 0.73788245 0.73490773 0.74697237 0.77781487 0.73526143\n",
      " 0.80312195]\n",
      "[0.71536665 0.70274433 0.67672733 0.69931201 0.68767477 0.65570597\n",
      " 9.55747495 0.73788245 0.73490773 0.74697237 0.77781487 0.73526143\n",
      " 0.80312195 0.76972738]\n",
      "[0.71536665 0.70274433 0.67672733 0.69931201 0.68767477 0.65570597\n",
      " 9.55747495 0.73788245 0.73490773 0.74697237 0.77781487 0.73526143\n",
      " 0.80312195 0.76972738 0.77641313]\n",
      "[0.71536665 0.70274433 0.67672733 0.69931201 0.68767477 0.65570597\n",
      " 9.55747495 0.73788245 0.73490773 0.74697237 0.77781487 0.73526143\n",
      " 0.80312195 0.76972738 0.77641313 0.78933605]\n",
      "[0.71536665 0.70274433 0.67672733 0.69931201 0.68767477 0.65570597\n",
      " 9.55747495 0.73788245 0.73490773 0.74697237 0.77781487 0.73526143\n",
      " 0.80312195 0.76972738 0.77641313 0.78933605 0.80623148]\n",
      "[0.71536665 0.70274433 0.67672733 0.69931201 0.68767477 0.65570597\n",
      " 9.55747495 0.73788245 0.73490773 0.74697237 0.77781487 0.73526143\n",
      " 0.80312195 0.76972738 0.77641313 0.78933605 0.80623148 0.79534237]\n",
      "[0.71536665 0.70274433 0.67672733 0.69931201 0.68767477 0.65570597\n",
      " 9.55747495 0.73788245 0.73490773 0.74697237 0.77781487 0.73526143\n",
      " 0.80312195 0.76972738 0.77641313 0.78933605 0.80623148 0.79534237\n",
      " 0.80493648]\n",
      "in pol processing\n",
      "[541.47178396 544.4817275  547.49167105 550.50161459 553.51155814\n",
      " 556.52150168 559.53144523 562.54138877 565.55133232 568.56127586\n",
      " 571.57121941 574.58116295 577.5911065  580.60105004 583.61099359\n",
      " 586.62093713 589.63088068 592.64082422 595.65076777]\n",
      "[0.71536665 0.70274433 0.67672733 0.69931201 0.68767477 0.65570597\n",
      " 9.55747495 0.73788245 0.73490773 0.74697237 0.77781487 0.73526143\n",
      " 0.80312195 0.76972738 0.77641313 0.78933605 0.80623148 0.79534237\n",
      " 0.80493648]\n"
     ]
    },
    {
     "data": {
      "text/plain": [
       "(array([541.47178396, 544.4817275 , 547.49167105, 550.50161459,\n",
       "        553.51155814, 556.52150168, 559.53144523, 562.54138877,\n",
       "        565.55133232, 568.56127586, 571.57121941, 574.58116295,\n",
       "        577.5911065 , 580.60105004, 583.61099359, 586.62093713,\n",
       "        589.63088068, 592.64082422, 595.65076777]),\n",
       " array([0.71536665, 0.70274433, 0.67672733, 0.69931201, 0.68767477,\n",
       "        0.65570597, 9.55747495, 0.73788245, 0.73490773, 0.74697237,\n",
       "        0.77781487, 0.73526143, 0.80312195, 0.76972738, 0.77641313,\n",
       "        0.78933605, 0.80623148, 0.79534237, 0.80493648]))"
      ]
     },
     "execution_count": 73,
     "metadata": {},
     "output_type": "execute_result"
    }
   ],
   "source": [
    "\n",
    "\n",
    "\n",
    "\n",
    "def process_polarization_data(t_array, phase_array, f_sample):\n",
    "    \n",
    "    fig1, ax1 = plt.subplots(1)\n",
    "\n",
    "    ax1.plot(t_array,phase_array,'.-')\n",
    "    ax1.set_ylim([-0.1,0.1])\n",
    "\n",
    "    n_sample = f_sample*(t_array[-1]-t_array[0])# - t_interp[chunk_start_idx])\n",
    "    print(n_sample)\n",
    "    n_pts_sample = len(t_array) / n_sample\n",
    "\n",
    "    print(n_pts_sample)\n",
    "\n",
    "    idx_increase = round(n_pts_sample)\n",
    "\n",
    "    chunks = range(int(n_sample))\n",
    "\n",
    "\n",
    "    fig2, ax2 = plt.subplots(1)\n",
    "    fig3, ax3 = plt.subplots(1)\n",
    "\n",
    "    amplitude_array = np.array([])\n",
    "    t_sampled = np.array([])\n",
    "    for chunk in chunks:\n",
    "\n",
    "        start = idx_increase*chunk\n",
    "        stop = idx_increase*(chunk + 1)\n",
    "\n",
    "        #print(start,stop)\n",
    "\n",
    "\n",
    "\n",
    "        t_chunk = t_array[start:stop]\n",
    "        phase_chunk = phase_array[start:stop]\n",
    "\n",
    "        average = np.average(phase_chunk)\n",
    "\n",
    "        phase_chunk -= average\n",
    "\n",
    "        ax2.plot(t_chunk,phase_chunk)\n",
    "        ax2.set_ylim([-0.1,0.1])\n",
    "\n",
    "        diff = np.median(np.diff(t_chunk))\n",
    "        t_zero_pad = np.append(t_chunk, np.linspace(t_chunk[-1]+diff, (t_chunk[-1]+diff) + (t_chunk[-1] - t_chunk[0]), len(t_chunk)))\n",
    "        phase_zero_pad = np.append(phase_chunk, np.zeros(len(phase_chunk)))\n",
    "\n",
    "        ax3.plot(t_zero_pad, phase_zero_pad)\n",
    "        ax3.set_ylim([-0.1,0.1])\n",
    "\n",
    "        fft_power = fft(phase_zero_pad)\n",
    "        fft_freq = fftfreq(len(phase_zero_pad), np.median(np.diff(t_zero_pad)))\n",
    "        \n",
    "        if t_chunk[0] > 10 and t_chunk[0] < 20:\n",
    "            fig4, ax4 = plt.subplots(1)\n",
    "            ax4.stem(fft_freq, np.abs(fft_power))\n",
    "\n",
    "        fft_fit = ifft(fft_power)\n",
    "        \n",
    "        if t_chunk[0] > 10 and t_chunk[0] < 20:\n",
    "            fig5, ax5 = plt.subplots(1)\n",
    "            ax5.plot(t_zero_pad, phase_zero_pad,'.')\n",
    "            ax5.plot(t_zero_pad, fft_fit,'-')\n",
    "\n",
    "        fft_remove_dc = deepcopy(fft_power)\n",
    "        fft_remove_dc[0] = 0\n",
    "\n",
    "        fundamental_idx = np.argmax(np.abs(fft_remove_dc))\n",
    "        #print(f'fundamental_idx: {fundamental_idx}')\n",
    "\n",
    "\n",
    "        mask = np.zeros(len(fft_remove_dc))\n",
    "        n=1\n",
    "        try:\n",
    "            for i in range(n):\n",
    "                np.put(mask, [0, fundamental_idx*(i+1), len(fft_remove_dc)-(fundamental_idx*(i+1))], 1.0)\n",
    "        except IndexError:\n",
    "            print('Harmonic setting (n) too high. Using highest harmonic available.')\n",
    "\n",
    "        fft_masked = fft_remove_dc*mask\n",
    "        \n",
    "        if t_chunk[0] > 10 and t_chunk[0] < 20:\n",
    "            fig6, ax6 = plt.subplots(1)\n",
    "            ax6.stem(fft_freq,np.abs(fft_masked))\n",
    "\n",
    "        fft_masked_fit = ifft(fft_masked)\n",
    "        \n",
    "        if t_chunk[0] > 10 and t_chunk[0] < 20:\n",
    "            fig7, ax7 = plt.subplots(1)\n",
    "            ax7.plot(t_zero_pad, phase_zero_pad,'-')\n",
    "            ax7.plot(t_zero_pad, fft_masked_fit,'-')\n",
    "\n",
    "\n",
    "        angle = np.arctan(np.imag(fft_masked[fundamental_idx])/np.real(fft_masked[fundamental_idx])) \n",
    "        #print(angle)\n",
    "\n",
    "        vec = np.array([0+1j*0, fft_masked[fundamental_idx]])\n",
    "\n",
    "        \"\"\"\n",
    "        if np.imag(fft_masked[fundamental_idx]) > 0:\n",
    "            print('upper half')\n",
    "            rotation_factor = np.exp(1j*angle)\n",
    "            #print(rotation_factor)\n",
    "\n",
    "        if np.imag(fft_masked[fundamental_idx]) < 0:\n",
    "            print('lower half')\n",
    "            rotation_factor = np.exp(-1j*angle)\n",
    "        \"\"\"\n",
    "        \"\"\"\n",
    "        if angle > 0:\n",
    "            rotation_factor = np.exp(-1j*angle)\n",
    "        elif angle < 0:\n",
    "            rotation_factor = np.exp(-1j*\n",
    "        \"\"\"\n",
    "\n",
    "        \"\"\"\n",
    "        if np.real(fft_masked[fundamental_idx]) < 0 and np.imag(fft_masked[fundamental_idx]) == 0:\n",
    "            rotation_factor = np.exp(-1j*np.pi)\n",
    "        elif np.real(fft_masked[fundamental_idx]) > 0 and np.imag(fft_masked[fundamental_idx]) == 0:\n",
    "            rotation_factor = 1\n",
    "        elif np.real(fft_masked[fundamental_idx]) > 0:\n",
    "            rotation_factor = np.exp(-1j*(angle+np.pi))\n",
    "        elif np.real(fft_masked[fundamental_idx]) < 0:\n",
    "            rotation_factor = np.exp(-1j*angle)\n",
    "        elif np.real(fft_masked[fundamental_idx]) == 0 and np.imag(fft_masked[fundamental_idx]) > 0:\n",
    "            rotation_factor = np.exp(-1j*np.pi/2)\n",
    "        elif np.real(fft_masked[fundamental_idx]) == 0 and np.imag(fft_masked[fundamental_idx]) < 0:\n",
    "            rotation_factor = np.exp(1j*np.pi/2)\n",
    "        \"\"\"\n",
    "\n",
    "        if np.imag(fft_masked[fundamental_idx]) == 0: #on real axis\n",
    "            rotation_factor = np.exp(-1j*angle)         \n",
    "        elif np.real(fft_masked[fundamental_idx]) == 0 and np.imag(fft_masked[fundamental_idx]) > 0:\n",
    "            rotation_factor = np.exp(-1j*angle)\n",
    "        elif np.real(fft_masked[fundamental_idx]) == 0 and np.imag(fft_masked[fundamental_idx]) < 0:\n",
    "            rotation_factor = 1\n",
    "        elif np.real(fft_masked[fundamental_idx]) > 0 and np.imag(fft_masked[fundamental_idx]) != 0:\n",
    "            rotation_factor = np.exp(-1j*angle)\n",
    "        elif np.real(fft_masked[fundamental_idx]) < 0 and np.imag(fft_masked[fundamental_idx]) != 0:\n",
    "            rotation_factor = np.exp(-1j*(angle + np.pi))\n",
    "\n",
    "\n",
    "\n",
    "\n",
    "\n",
    "        rotated_vec = rotation_factor*vec\n",
    "        #print(rotated_vec)\n",
    "\n",
    "        if t_chunk[0] > 10 and t_chunk[0] < 20:\n",
    "            fig8, ax8 = plt.subplots(1)\n",
    "            ax8.plot(np.real(vec), np.imag(vec),'-')\n",
    "            ax8.plot(np.real(rotated_vec), np.imag(rotated_vec),'-')\n",
    "\n",
    "        amplitude_array = np.append(amplitude_array, np.real(rotated_vec[1]))\n",
    "        t_sampled = np.append(t_sampled, np.average(t_chunk))\n",
    "\n",
    "\n",
    "        print(amplitude_array)\n",
    "\n",
    "    #fig9, ax9 = plt.subplots(1)\n",
    "    #ax9.plot(t_sampled, amplitude_array,'.-')\n",
    "    \n",
    "    print('in pol processing')\n",
    "    print(t_sampled)\n",
    "    print(amplitude_array)\n",
    "    \n",
    "    return t_sampled, amplitude_array\n",
    "     \n",
    "f_sample = 1/3 #Hz        \n",
    "process_polarization_data(t_array, phase_array, f_sample)\n",
    "    "
   ]
  },
  {
   "cell_type": "code",
   "execution_count": 74,
   "id": "6d912103-4f4e-4c69-afdb-265838521252",
   "metadata": {
    "collapsed": true,
    "jupyter": {
     "outputs_hidden": true
    },
    "tags": []
   },
   "outputs": [
    {
     "data": {
      "application/vnd.jupyter.widget-view+json": {
       "model_id": "9537a452730f43969502dd1fed0fdbf4",
       "version_major": 2,
       "version_minor": 0
      },
      "text/plain": [
       "  0%|          | 0/10 [00:00<?, ?it/s]"
      ]
     },
     "metadata": {},
     "output_type": "display_data"
    },
    {
     "data": {
      "application/vnd.jupyter.widget-view+json": {
       "model_id": "f781d6f76d834d99b9391a487e301c70",
       "version_major": 2,
       "version_minor": 0
      },
      "text/plain": [
       "  0%|          | 0/1 [00:00<?, ?it/s]"
      ]
     },
     "metadata": {},
     "output_type": "display_data"
    },
    {
     "name": "stdout",
     "output_type": "stream",
     "text": [
      "19.999402666666665\n",
      "44.90134105338613\n",
      "[0.19775745]\n",
      "[0.19775745 0.22183242]\n",
      "[0.19775745 0.22183242 0.19823733]\n",
      "[0.19775745 0.22183242 0.19823733 0.23383178]\n",
      "[0.19775745 0.22183242 0.19823733 0.23383178 0.19652021]\n",
      "[0.19775745 0.22183242 0.19823733 0.23383178 0.19652021 0.17446354]\n",
      "[0.19775745 0.22183242 0.19823733 0.23383178 0.19652021 0.17446354\n",
      " 0.16358974]\n",
      "[0.19775745 0.22183242 0.19823733 0.23383178 0.19652021 0.17446354\n",
      " 0.16358974 0.160923  ]\n",
      "[0.19775745 0.22183242 0.19823733 0.23383178 0.19652021 0.17446354\n",
      " 0.16358974 0.160923   0.13827344]\n",
      "[0.19775745 0.22183242 0.19823733 0.23383178 0.19652021 0.17446354\n",
      " 0.16358974 0.160923   0.13827344 0.14764046]\n",
      "[0.19775745 0.22183242 0.19823733 0.23383178 0.19652021 0.17446354\n",
      " 0.16358974 0.160923   0.13827344 0.14764046 0.12860008]\n",
      "[0.19775745 0.22183242 0.19823733 0.23383178 0.19652021 0.17446354\n",
      " 0.16358974 0.160923   0.13827344 0.14764046 0.12860008 0.12589444]\n",
      "[0.19775745 0.22183242 0.19823733 0.23383178 0.19652021 0.17446354\n",
      " 0.16358974 0.160923   0.13827344 0.14764046 0.12860008 0.12589444\n",
      " 0.10444971]\n",
      "[0.19775745 0.22183242 0.19823733 0.23383178 0.19652021 0.17446354\n",
      " 0.16358974 0.160923   0.13827344 0.14764046 0.12860008 0.12589444\n",
      " 0.10444971 0.09609737]\n",
      "[0.19775745 0.22183242 0.19823733 0.23383178 0.19652021 0.17446354\n",
      " 0.16358974 0.160923   0.13827344 0.14764046 0.12860008 0.12589444\n",
      " 0.10444971 0.09609737 0.05280499]\n",
      "[0.19775745 0.22183242 0.19823733 0.23383178 0.19652021 0.17446354\n",
      " 0.16358974 0.160923   0.13827344 0.14764046 0.12860008 0.12589444\n",
      " 0.10444971 0.09609737 0.05280499 0.06806703]\n",
      "[0.19775745 0.22183242 0.19823733 0.23383178 0.19652021 0.17446354\n",
      " 0.16358974 0.160923   0.13827344 0.14764046 0.12860008 0.12589444\n",
      " 0.10444971 0.09609737 0.05280499 0.06806703 0.05748253]\n",
      "[0.19775745 0.22183242 0.19823733 0.23383178 0.19652021 0.17446354\n",
      " 0.16358974 0.160923   0.13827344 0.14764046 0.12860008 0.12589444\n",
      " 0.10444971 0.09609737 0.05280499 0.06806703 0.05748253 0.06491239]\n",
      "[0.19775745 0.22183242 0.19823733 0.23383178 0.19652021 0.17446354\n",
      " 0.16358974 0.160923   0.13827344 0.14764046 0.12860008 0.12589444\n",
      " 0.10444971 0.09609737 0.05280499 0.06806703 0.05748253 0.06491239\n",
      " 0.05503139]\n",
      "in pol processing\n",
      "[ 1.47152796  4.4814715   7.49141505 10.50135859 13.51130214 16.52124568\n",
      " 19.53118923 22.54113277 25.55107632 28.56101986 31.57096341 34.58090695\n",
      " 37.5908505  40.60079404 43.61073759 46.62068113 49.63062468 52.64056822\n",
      " 55.65051177]\n",
      "[0.19775745 0.22183242 0.19823733 0.23383178 0.19652021 0.17446354\n",
      " 0.16358974 0.160923   0.13827344 0.14764046 0.12860008 0.12589444\n",
      " 0.10444971 0.09609737 0.05280499 0.06806703 0.05748253 0.06491239\n",
      " 0.05503139]\n"
     ]
    },
    {
     "name": "stderr",
     "output_type": "stream",
     "text": [
      "/tmp/ipykernel_2693/538780121.py:52: RuntimeWarning: More than 20 figures have been opened. Figures created through the pyplot interface (`matplotlib.pyplot.figure`) are retained until explicitly closed and may consume too much memory. (To control this warning, see the rcParam `figure.max_open_warning`).\n",
      "  fig10, ax10 = plt.subplots(1)\n"
     ]
    },
    {
     "data": {
      "application/vnd.jupyter.widget-view+json": {
       "model_id": "c9ccf5dd47a34da6979575fc73c818c0",
       "version_major": 2,
       "version_minor": 0
      },
      "text/plain": [
       "  0%|          | 0/1 [00:00<?, ?it/s]"
      ]
     },
     "metadata": {},
     "output_type": "display_data"
    },
    {
     "name": "stdout",
     "output_type": "stream",
     "text": [
      "19.999402666666665\n",
      "44.90134105338613\n",
      "[0.05790859]\n",
      "[0.05790859 0.052753  ]\n",
      "[0.05790859 0.052753   0.04288101]\n",
      "[0.05790859 0.052753   0.04288101 0.03256108]\n",
      "[0.05790859 0.052753   0.04288101 0.03256108 0.05678103]\n",
      "[0.05790859 0.052753   0.04288101 0.03256108 0.05678103 0.03610284]\n",
      "[0.05790859 0.052753   0.04288101 0.03256108 0.05678103 0.03610284\n",
      " 0.04887761]\n",
      "[0.05790859 0.052753   0.04288101 0.03256108 0.05678103 0.03610284\n",
      " 0.04887761 0.05394914]\n",
      "[0.05790859 0.052753   0.04288101 0.03256108 0.05678103 0.03610284\n",
      " 0.04887761 0.05394914 0.05763638]\n",
      "[0.05790859 0.052753   0.04288101 0.03256108 0.05678103 0.03610284\n",
      " 0.04887761 0.05394914 0.05763638 0.08953702]\n",
      "[0.05790859 0.052753   0.04288101 0.03256108 0.05678103 0.03610284\n",
      " 0.04887761 0.05394914 0.05763638 0.08953702 0.07786034]\n",
      "[0.05790859 0.052753   0.04288101 0.03256108 0.05678103 0.03610284\n",
      " 0.04887761 0.05394914 0.05763638 0.08953702 0.07786034 0.08589751]\n",
      "[0.05790859 0.052753   0.04288101 0.03256108 0.05678103 0.03610284\n",
      " 0.04887761 0.05394914 0.05763638 0.08953702 0.07786034 0.08589751\n",
      " 0.11372928]\n",
      "[0.05790859 0.052753   0.04288101 0.03256108 0.05678103 0.03610284\n",
      " 0.04887761 0.05394914 0.05763638 0.08953702 0.07786034 0.08589751\n",
      " 0.11372928 0.12769895]\n",
      "[0.05790859 0.052753   0.04288101 0.03256108 0.05678103 0.03610284\n",
      " 0.04887761 0.05394914 0.05763638 0.08953702 0.07786034 0.08589751\n",
      " 0.11372928 0.12769895 0.14519534]\n",
      "[0.05790859 0.052753   0.04288101 0.03256108 0.05678103 0.03610284\n",
      " 0.04887761 0.05394914 0.05763638 0.08953702 0.07786034 0.08589751\n",
      " 0.11372928 0.12769895 0.14519534 0.14402845]\n",
      "[0.05790859 0.052753   0.04288101 0.03256108 0.05678103 0.03610284\n",
      " 0.04887761 0.05394914 0.05763638 0.08953702 0.07786034 0.08589751\n",
      " 0.11372928 0.12769895 0.14519534 0.14402845 0.19888516]\n",
      "[0.05790859 0.052753   0.04288101 0.03256108 0.05678103 0.03610284\n",
      " 0.04887761 0.05394914 0.05763638 0.08953702 0.07786034 0.08589751\n",
      " 0.11372928 0.12769895 0.14519534 0.14402845 0.19888516 0.18180302]\n",
      "[0.05790859 0.052753   0.04288101 0.03256108 0.05678103 0.03610284\n",
      " 0.04887761 0.05394914 0.05763638 0.08953702 0.07786034 0.08589751\n",
      " 0.11372928 0.12769895 0.14519534 0.14402845 0.19888516 0.18180302\n",
      " 0.18160876]\n",
      "in pol processing\n",
      "[ 61.47178396  64.4817275   67.49167105  70.50161459  73.51155814\n",
      "  76.52150168  79.53144523  82.54138877  85.55133232  88.56127586\n",
      "  91.57121941  94.58116295  97.5911065  100.60105004 103.61099359\n",
      " 106.62093713 109.63088068 112.64082422 115.65076777]\n",
      "[0.05790859 0.052753   0.04288101 0.03256108 0.05678103 0.03610284\n",
      " 0.04887761 0.05394914 0.05763638 0.08953702 0.07786034 0.08589751\n",
      " 0.11372928 0.12769895 0.14519534 0.14402845 0.19888516 0.18180302\n",
      " 0.18160876]\n"
     ]
    },
    {
     "data": {
      "application/vnd.jupyter.widget-view+json": {
       "model_id": "9118c6f7b27c47588bc25abc839c605a",
       "version_major": 2,
       "version_minor": 0
      },
      "text/plain": [
       "  0%|          | 0/1 [00:00<?, ?it/s]"
      ]
     },
     "metadata": {},
     "output_type": "display_data"
    },
    {
     "name": "stdout",
     "output_type": "stream",
     "text": [
      "19.99940266666666\n",
      "44.90134105338614\n",
      "[0.22445393]\n",
      "[0.22445393 0.22883557]\n",
      "[0.22445393 0.22883557 0.20787732]\n",
      "[0.22445393 0.22883557 0.20787732 0.17260517]\n",
      "[0.22445393 0.22883557 0.20787732 0.17260517 0.2195394 ]\n",
      "[0.22445393 0.22883557 0.20787732 0.17260517 0.2195394  0.20792753]\n",
      "[0.22445393 0.22883557 0.20787732 0.17260517 0.2195394  0.20792753\n",
      " 0.21601361]\n",
      "[0.22445393 0.22883557 0.20787732 0.17260517 0.2195394  0.20792753\n",
      " 0.21601361 0.18104364]\n",
      "[0.22445393 0.22883557 0.20787732 0.17260517 0.2195394  0.20792753\n",
      " 0.21601361 0.18104364 0.16824047]\n",
      "[0.22445393 0.22883557 0.20787732 0.17260517 0.2195394  0.20792753\n",
      " 0.21601361 0.18104364 0.16824047 0.14533944]\n",
      "[0.22445393 0.22883557 0.20787732 0.17260517 0.2195394  0.20792753\n",
      " 0.21601361 0.18104364 0.16824047 0.14533944 0.16022374]\n",
      "[0.22445393 0.22883557 0.20787732 0.17260517 0.2195394  0.20792753\n",
      " 0.21601361 0.18104364 0.16824047 0.14533944 0.16022374 0.12385468]\n",
      "[0.22445393 0.22883557 0.20787732 0.17260517 0.2195394  0.20792753\n",
      " 0.21601361 0.18104364 0.16824047 0.14533944 0.16022374 0.12385468\n",
      " 0.1215152 ]\n",
      "[0.22445393 0.22883557 0.20787732 0.17260517 0.2195394  0.20792753\n",
      " 0.21601361 0.18104364 0.16824047 0.14533944 0.16022374 0.12385468\n",
      " 0.1215152  0.15965843]\n",
      "[0.22445393 0.22883557 0.20787732 0.17260517 0.2195394  0.20792753\n",
      " 0.21601361 0.18104364 0.16824047 0.14533944 0.16022374 0.12385468\n",
      " 0.1215152  0.15965843 0.11776158]\n",
      "[0.22445393 0.22883557 0.20787732 0.17260517 0.2195394  0.20792753\n",
      " 0.21601361 0.18104364 0.16824047 0.14533944 0.16022374 0.12385468\n",
      " 0.1215152  0.15965843 0.11776158 0.10529249]\n",
      "[0.22445393 0.22883557 0.20787732 0.17260517 0.2195394  0.20792753\n",
      " 0.21601361 0.18104364 0.16824047 0.14533944 0.16022374 0.12385468\n",
      " 0.1215152  0.15965843 0.11776158 0.10529249 0.10726046]\n",
      "[0.22445393 0.22883557 0.20787732 0.17260517 0.2195394  0.20792753\n",
      " 0.21601361 0.18104364 0.16824047 0.14533944 0.16022374 0.12385468\n",
      " 0.1215152  0.15965843 0.11776158 0.10529249 0.10726046 0.11607448]\n",
      "[0.22445393 0.22883557 0.20787732 0.17260517 0.2195394  0.20792753\n",
      " 0.21601361 0.18104364 0.16824047 0.14533944 0.16022374 0.12385468\n",
      " 0.1215152  0.15965843 0.11776158 0.10529249 0.10726046 0.11607448\n",
      " 0.07155869]\n",
      "in pol processing\n",
      "[121.47203996 124.4819835  127.49192705 130.50187059 133.51181414\n",
      " 136.52175768 139.53170123 142.54164477 145.55158832 148.56153186\n",
      " 151.57147541 154.58141895 157.5913625  160.60130604 163.61124959\n",
      " 166.62119313 169.63113668 172.64108022 175.65102377]\n",
      "[0.22445393 0.22883557 0.20787732 0.17260517 0.2195394  0.20792753\n",
      " 0.21601361 0.18104364 0.16824047 0.14533944 0.16022374 0.12385468\n",
      " 0.1215152  0.15965843 0.11776158 0.10529249 0.10726046 0.11607448\n",
      " 0.07155869]\n"
     ]
    },
    {
     "data": {
      "application/vnd.jupyter.widget-view+json": {
       "model_id": "425191a7e44f4daea85d73d02b52dc2a",
       "version_major": 2,
       "version_minor": 0
      },
      "text/plain": [
       "  0%|          | 0/1 [00:00<?, ?it/s]"
      ]
     },
     "metadata": {},
     "output_type": "display_data"
    },
    {
     "name": "stdout",
     "output_type": "stream",
     "text": [
      "19.99872\n",
      "44.902873783922175\n",
      "[0.04727996]\n",
      "[0.04727996 0.05040874]\n",
      "[0.04727996 0.05040874 0.04020245]\n",
      "[0.04727996 0.05040874 0.04020245 0.05590284]\n",
      "[0.04727996 0.05040874 0.04020245 0.05590284 0.03884699]\n",
      "[0.04727996 0.05040874 0.04020245 0.05590284 0.03884699 0.03736542]\n",
      "[0.04727996 0.05040874 0.04020245 0.05590284 0.03884699 0.03736542\n",
      " 0.05215414]\n",
      "[0.04727996 0.05040874 0.04020245 0.05590284 0.03884699 0.03736542\n",
      " 0.05215414 0.04343122]\n",
      "[0.04727996 0.05040874 0.04020245 0.05590284 0.03884699 0.03736542\n",
      " 0.05215414 0.04343122 0.03834177]\n",
      "[0.04727996 0.05040874 0.04020245 0.05590284 0.03884699 0.03736542\n",
      " 0.05215414 0.04343122 0.03834177 0.05795239]\n",
      "[0.04727996 0.05040874 0.04020245 0.05590284 0.03884699 0.03736542\n",
      " 0.05215414 0.04343122 0.03834177 0.05795239 0.03822402]\n",
      "[0.04727996 0.05040874 0.04020245 0.05590284 0.03884699 0.03736542\n",
      " 0.05215414 0.04343122 0.03834177 0.05795239 0.03822402 0.04788924]\n",
      "[0.04727996 0.05040874 0.04020245 0.05590284 0.03884699 0.03736542\n",
      " 0.05215414 0.04343122 0.03834177 0.05795239 0.03822402 0.04788924\n",
      " 0.04756143]\n",
      "[0.04727996 0.05040874 0.04020245 0.05590284 0.03884699 0.03736542\n",
      " 0.05215414 0.04343122 0.03834177 0.05795239 0.03822402 0.04788924\n",
      " 0.04756143 0.07166632]\n",
      "[0.04727996 0.05040874 0.04020245 0.05590284 0.03884699 0.03736542\n",
      " 0.05215414 0.04343122 0.03834177 0.05795239 0.03822402 0.04788924\n",
      " 0.04756143 0.07166632 0.09087365]\n",
      "[0.04727996 0.05040874 0.04020245 0.05590284 0.03884699 0.03736542\n",
      " 0.05215414 0.04343122 0.03834177 0.05795239 0.03822402 0.04788924\n",
      " 0.04756143 0.07166632 0.09087365 0.09976397]\n",
      "[0.04727996 0.05040874 0.04020245 0.05590284 0.03884699 0.03736542\n",
      " 0.05215414 0.04343122 0.03834177 0.05795239 0.03822402 0.04788924\n",
      " 0.04756143 0.07166632 0.09087365 0.09976397 0.12161275]\n",
      "[0.04727996 0.05040874 0.04020245 0.05590284 0.03884699 0.03736542\n",
      " 0.05215414 0.04343122 0.03834177 0.05795239 0.03822402 0.04788924\n",
      " 0.04756143 0.07166632 0.09087365 0.09976397 0.12161275 0.11857784]\n",
      "[0.04727996 0.05040874 0.04020245 0.05590284 0.03884699 0.03736542\n",
      " 0.05215414 0.04343122 0.03834177 0.05795239 0.03822402 0.04788924\n",
      " 0.04756143 0.07166632 0.09087365 0.09976397 0.12161275 0.11857784\n",
      " 0.12295439]\n",
      "in pol processing\n",
      "[181.47224573 184.48208653 187.49192733 190.50176813 193.51160894\n",
      " 196.52144974 199.53129054 202.54113134 205.55097215 208.56081295\n",
      " 211.57065375 214.58049456 217.59033536 220.60017616 223.61001696\n",
      " 226.61985777 229.62969857 232.63953937 235.64938017]\n",
      "[0.04727996 0.05040874 0.04020245 0.05590284 0.03884699 0.03736542\n",
      " 0.05215414 0.04343122 0.03834177 0.05795239 0.03822402 0.04788924\n",
      " 0.04756143 0.07166632 0.09087365 0.09976397 0.12161275 0.11857784\n",
      " 0.12295439]\n"
     ]
    },
    {
     "data": {
      "application/vnd.jupyter.widget-view+json": {
       "model_id": "6c5a9a58ea544f4491bb957e45fbc1ef",
       "version_major": 2,
       "version_minor": 0
      },
      "text/plain": [
       "  0%|          | 0/1 [00:00<?, ?it/s]"
      ]
     },
     "metadata": {},
     "output_type": "display_data"
    },
    {
     "name": "stdout",
     "output_type": "stream",
     "text": [
      "19.99940266666667\n",
      "44.901341053386126\n",
      "[0.1905932]\n",
      "[0.1905932  0.23088261]\n",
      "[0.1905932  0.23088261 2.62804458]\n",
      "[0.1905932  0.23088261 2.62804458 0.19472382]\n",
      "[0.1905932  0.23088261 2.62804458 0.19472382 0.21125307]\n",
      "[0.1905932  0.23088261 2.62804458 0.19472382 0.21125307 0.22861168]\n",
      "[0.1905932  0.23088261 2.62804458 0.19472382 0.21125307 0.22861168\n",
      " 0.21891266]\n",
      "[0.1905932  0.23088261 2.62804458 0.19472382 0.21125307 0.22861168\n",
      " 0.21891266 0.23203729]\n",
      "[0.1905932  0.23088261 2.62804458 0.19472382 0.21125307 0.22861168\n",
      " 0.21891266 0.23203729 0.19714962]\n",
      "[0.1905932  0.23088261 2.62804458 0.19472382 0.21125307 0.22861168\n",
      " 0.21891266 0.23203729 0.19714962 0.17792956]\n",
      "[0.1905932  0.23088261 2.62804458 0.19472382 0.21125307 0.22861168\n",
      " 0.21891266 0.23203729 0.19714962 0.17792956 0.19114898]\n",
      "[0.1905932  0.23088261 2.62804458 0.19472382 0.21125307 0.22861168\n",
      " 0.21891266 0.23203729 0.19714962 0.17792956 0.19114898 0.18773886]\n",
      "[0.1905932  0.23088261 2.62804458 0.19472382 0.21125307 0.22861168\n",
      " 0.21891266 0.23203729 0.19714962 0.17792956 0.19114898 0.18773886\n",
      " 0.24531697]\n",
      "[0.1905932  0.23088261 2.62804458 0.19472382 0.21125307 0.22861168\n",
      " 0.21891266 0.23203729 0.19714962 0.17792956 0.19114898 0.18773886\n",
      " 0.24531697 0.20606046]\n",
      "[0.1905932  0.23088261 2.62804458 0.19472382 0.21125307 0.22861168\n",
      " 0.21891266 0.23203729 0.19714962 0.17792956 0.19114898 0.18773886\n",
      " 0.24531697 0.20606046 0.19554973]\n",
      "[0.1905932  0.23088261 2.62804458 0.19472382 0.21125307 0.22861168\n",
      " 0.21891266 0.23203729 0.19714962 0.17792956 0.19114898 0.18773886\n",
      " 0.24531697 0.20606046 0.19554973 0.22547836]\n",
      "[0.1905932  0.23088261 2.62804458 0.19472382 0.21125307 0.22861168\n",
      " 0.21891266 0.23203729 0.19714962 0.17792956 0.19114898 0.18773886\n",
      " 0.24531697 0.20606046 0.19554973 0.22547836 0.15406952]\n",
      "[0.1905932  0.23088261 2.62804458 0.19472382 0.21125307 0.22861168\n",
      " 0.21891266 0.23203729 0.19714962 0.17792956 0.19114898 0.18773886\n",
      " 0.24531697 0.20606046 0.19554973 0.22547836 0.15406952 0.20622579]\n",
      "[0.1905932  0.23088261 2.62804458 0.19472382 0.21125307 0.22861168\n",
      " 0.21891266 0.23203729 0.19714962 0.17792956 0.19114898 0.18773886\n",
      " 0.24531697 0.20606046 0.19554973 0.22547836 0.15406952 0.20622579\n",
      " 0.15053953]\n",
      "in pol processing\n",
      "[241.47050396 244.4804475  247.49039105 250.50033459 253.51027814\n",
      " 256.52022168 259.53016523 262.54010877 265.55005232 268.55999586\n",
      " 271.56993941 274.57988295 277.5898265  280.59977004 283.60971359\n",
      " 286.61965713 289.62960068 292.63954422 295.64948777]\n",
      "[0.1905932  0.23088261 2.62804458 0.19472382 0.21125307 0.22861168\n",
      " 0.21891266 0.23203729 0.19714962 0.17792956 0.19114898 0.18773886\n",
      " 0.24531697 0.20606046 0.19554973 0.22547836 0.15406952 0.20622579\n",
      " 0.15053953]\n"
     ]
    },
    {
     "data": {
      "application/vnd.jupyter.widget-view+json": {
       "model_id": "237c41358d88450babeb9d58feb64d71",
       "version_major": 2,
       "version_minor": 0
      },
      "text/plain": [
       "  0%|          | 0/1 [00:00<?, ?it/s]"
      ]
     },
     "metadata": {},
     "output_type": "display_data"
    },
    {
     "name": "stdout",
     "output_type": "stream",
     "text": [
      "19.999402666666658\n",
      "44.90134105338615\n",
      "[0.09168156]\n",
      "[0.09168156 0.09005693]\n",
      "[0.09168156 0.09005693 0.07971152]\n",
      "[0.09168156 0.09005693 0.07971152 0.06842444]\n",
      "[0.09168156 0.09005693 0.07971152 0.06842444 0.08551864]\n",
      "[0.09168156 0.09005693 0.07971152 0.06842444 0.08551864 0.05167514]\n",
      "[0.09168156 0.09005693 0.07971152 0.06842444 0.08551864 0.05167514\n",
      " 0.0457952 ]\n",
      "[0.09168156 0.09005693 0.07971152 0.06842444 0.08551864 0.05167514\n",
      " 0.0457952  0.04293643]\n",
      "[0.09168156 0.09005693 0.07971152 0.06842444 0.08551864 0.05167514\n",
      " 0.0457952  0.04293643 0.03399095]\n",
      "[0.09168156 0.09005693 0.07971152 0.06842444 0.08551864 0.05167514\n",
      " 0.0457952  0.04293643 0.03399095 0.06178102]\n",
      "[0.09168156 0.09005693 0.07971152 0.06842444 0.08551864 0.05167514\n",
      " 0.0457952  0.04293643 0.03399095 0.06178102 0.04911389]\n",
      "[0.09168156 0.09005693 0.07971152 0.06842444 0.08551864 0.05167514\n",
      " 0.0457952  0.04293643 0.03399095 0.06178102 0.04911389 0.04803256]\n",
      "[0.09168156 0.09005693 0.07971152 0.06842444 0.08551864 0.05167514\n",
      " 0.0457952  0.04293643 0.03399095 0.06178102 0.04911389 0.04803256\n",
      " 0.04118291]\n",
      "[0.09168156 0.09005693 0.07971152 0.06842444 0.08551864 0.05167514\n",
      " 0.0457952  0.04293643 0.03399095 0.06178102 0.04911389 0.04803256\n",
      " 0.04118291 0.04573041]\n",
      "[0.09168156 0.09005693 0.07971152 0.06842444 0.08551864 0.05167514\n",
      " 0.0457952  0.04293643 0.03399095 0.06178102 0.04911389 0.04803256\n",
      " 0.04118291 0.04573041 0.05024202]\n",
      "[0.09168156 0.09005693 0.07971152 0.06842444 0.08551864 0.05167514\n",
      " 0.0457952  0.04293643 0.03399095 0.06178102 0.04911389 0.04803256\n",
      " 0.04118291 0.04573041 0.05024202 0.04559432]\n",
      "[0.09168156 0.09005693 0.07971152 0.06842444 0.08551864 0.05167514\n",
      " 0.0457952  0.04293643 0.03399095 0.06178102 0.04911389 0.04803256\n",
      " 0.04118291 0.04573041 0.05024202 0.04559432 0.08238124]\n",
      "[0.09168156 0.09005693 0.07971152 0.06842444 0.08551864 0.05167514\n",
      " 0.0457952  0.04293643 0.03399095 0.06178102 0.04911389 0.04803256\n",
      " 0.04118291 0.04573041 0.05024202 0.04559432 0.08238124 0.06101972]\n",
      "[0.09168156 0.09005693 0.07971152 0.06842444 0.08551864 0.05167514\n",
      " 0.0457952  0.04293643 0.03399095 0.06178102 0.04911389 0.04803256\n",
      " 0.04118291 0.04573041 0.05024202 0.04559432 0.08238124 0.06101972\n",
      " 0.05077875]\n",
      "in pol processing\n",
      "[301.47075996 304.4807035  307.49064705 310.50059059 313.51053414\n",
      " 316.52047768 319.53042123 322.54036477 325.55030832 328.56025186\n",
      " 331.57019541 334.58013895 337.5900825  340.60002604 343.60996959\n",
      " 346.61991313 349.62985668 352.63980022 355.64974377]\n",
      "[0.09168156 0.09005693 0.07971152 0.06842444 0.08551864 0.05167514\n",
      " 0.0457952  0.04293643 0.03399095 0.06178102 0.04911389 0.04803256\n",
      " 0.04118291 0.04573041 0.05024202 0.04559432 0.08238124 0.06101972\n",
      " 0.05077875]\n"
     ]
    },
    {
     "data": {
      "application/vnd.jupyter.widget-view+json": {
       "model_id": "b09a9a642e094166a5e8947712f3b291",
       "version_major": 2,
       "version_minor": 0
      },
      "text/plain": [
       "  0%|          | 0/1 [00:00<?, ?it/s]"
      ]
     },
     "metadata": {},
     "output_type": "display_data"
    },
    {
     "name": "stdout",
     "output_type": "stream",
     "text": [
      "19.999402666666676\n",
      "44.901341053386105\n",
      "[0.07935289]\n",
      "[0.07935289 0.12312806]\n",
      "[0.07935289 0.12312806 0.15029902]\n",
      "[0.07935289 0.12312806 0.15029902 0.15588636]\n",
      "[0.07935289 0.12312806 0.15029902 0.15588636 0.16074787]\n",
      "[0.07935289 0.12312806 0.15029902 0.15588636 0.16074787 0.15837536]\n",
      "[0.07935289 0.12312806 0.15029902 0.15588636 0.16074787 0.15837536\n",
      " 0.19221035]\n",
      "[0.07935289 0.12312806 0.15029902 0.15588636 0.16074787 0.15837536\n",
      " 0.19221035 0.20368617]\n",
      "[0.07935289 0.12312806 0.15029902 0.15588636 0.16074787 0.15837536\n",
      " 0.19221035 0.20368617 0.15671061]\n",
      "[0.07935289 0.12312806 0.15029902 0.15588636 0.16074787 0.15837536\n",
      " 0.19221035 0.20368617 0.15671061 0.20418503]\n",
      "[0.07935289 0.12312806 0.15029902 0.15588636 0.16074787 0.15837536\n",
      " 0.19221035 0.20368617 0.15671061 0.20418503 0.20713139]\n",
      "[0.07935289 0.12312806 0.15029902 0.15588636 0.16074787 0.15837536\n",
      " 0.19221035 0.20368617 0.15671061 0.20418503 0.20713139 0.18332832]\n",
      "[0.07935289 0.12312806 0.15029902 0.15588636 0.16074787 0.15837536\n",
      " 0.19221035 0.20368617 0.15671061 0.20418503 0.20713139 0.18332832\n",
      " 0.19531443]\n",
      "[0.07935289 0.12312806 0.15029902 0.15588636 0.16074787 0.15837536\n",
      " 0.19221035 0.20368617 0.15671061 0.20418503 0.20713139 0.18332832\n",
      " 0.19531443 0.20896936]\n",
      "[0.07935289 0.12312806 0.15029902 0.15588636 0.16074787 0.15837536\n",
      " 0.19221035 0.20368617 0.15671061 0.20418503 0.20713139 0.18332832\n",
      " 0.19531443 0.20896936 0.22113898]\n",
      "[0.07935289 0.12312806 0.15029902 0.15588636 0.16074787 0.15837536\n",
      " 0.19221035 0.20368617 0.15671061 0.20418503 0.20713139 0.18332832\n",
      " 0.19531443 0.20896936 0.22113898 0.20181053]\n",
      "[0.07935289 0.12312806 0.15029902 0.15588636 0.16074787 0.15837536\n",
      " 0.19221035 0.20368617 0.15671061 0.20418503 0.20713139 0.18332832\n",
      " 0.19531443 0.20896936 0.22113898 0.20181053 0.18110284]\n",
      "[0.07935289 0.12312806 0.15029902 0.15588636 0.16074787 0.15837536\n",
      " 0.19221035 0.20368617 0.15671061 0.20418503 0.20713139 0.18332832\n",
      " 0.19531443 0.20896936 0.22113898 0.20181053 0.18110284 0.16492039]\n",
      "[0.07935289 0.12312806 0.15029902 0.15588636 0.16074787 0.15837536\n",
      " 0.19221035 0.20368617 0.15671061 0.20418503 0.20713139 0.18332832\n",
      " 0.19531443 0.20896936 0.22113898 0.20181053 0.18110284 0.16492039\n",
      " 0.19146374]\n",
      "in pol processing\n",
      "[361.47101596 364.4809595  367.49090305 370.50084659 373.51079014\n",
      " 376.52073368 379.53067723 382.54062077 385.55056432 388.56050786\n",
      " 391.57045141 394.58039495 397.5903385  400.60028204 403.61022559\n",
      " 406.62016913 409.63011268 412.64005622 415.64999977]\n",
      "[0.07935289 0.12312806 0.15029902 0.15588636 0.16074787 0.15837536\n",
      " 0.19221035 0.20368617 0.15671061 0.20418503 0.20713139 0.18332832\n",
      " 0.19531443 0.20896936 0.22113898 0.20181053 0.18110284 0.16492039\n",
      " 0.19146374]\n"
     ]
    },
    {
     "data": {
      "application/vnd.jupyter.widget-view+json": {
       "model_id": "e299b60a3663499bb2386947be0ff8d8",
       "version_major": 2,
       "version_minor": 0
      },
      "text/plain": [
       "  0%|          | 0/1 [00:00<?, ?it/s]"
      ]
     },
     "metadata": {},
     "output_type": "display_data"
    },
    {
     "name": "stdout",
     "output_type": "stream",
     "text": [
      "19.999402666666658\n",
      "44.90134105338615\n",
      "[0.66638567]\n",
      "[0.66638567 0.64185091]\n",
      "[0.66638567 0.64185091 0.67463888]\n",
      "[0.66638567 0.64185091 0.67463888 0.6135989 ]\n",
      "[0.66638567 0.64185091 0.67463888 0.6135989  5.78365759]\n",
      "[0.66638567 0.64185091 0.67463888 0.6135989  5.78365759 0.61929583]\n",
      "[0.66638567 0.64185091 0.67463888 0.6135989  5.78365759 0.61929583\n",
      " 0.56506822]\n",
      "[0.66638567 0.64185091 0.67463888 0.6135989  5.78365759 0.61929583\n",
      " 0.56506822 0.57115058]\n",
      "[0.66638567 0.64185091 0.67463888 0.6135989  5.78365759 0.61929583\n",
      " 0.56506822 0.57115058 0.57618257]\n",
      "[0.66638567 0.64185091 0.67463888 0.6135989  5.78365759 0.61929583\n",
      " 0.56506822 0.57115058 0.57618257 0.64259092]\n",
      "[0.66638567 0.64185091 0.67463888 0.6135989  5.78365759 0.61929583\n",
      " 0.56506822 0.57115058 0.57618257 0.64259092 0.56554895]\n",
      "[0.66638567 0.64185091 0.67463888 0.6135989  5.78365759 0.61929583\n",
      " 0.56506822 0.57115058 0.57618257 0.64259092 0.56554895 0.61508121]\n",
      "[0.66638567 0.64185091 0.67463888 0.6135989  5.78365759 0.61929583\n",
      " 0.56506822 0.57115058 0.57618257 0.64259092 0.56554895 0.61508121\n",
      " 0.61006664]\n",
      "[0.66638567 0.64185091 0.67463888 0.6135989  5.78365759 0.61929583\n",
      " 0.56506822 0.57115058 0.57618257 0.64259092 0.56554895 0.61508121\n",
      " 0.61006664 0.60813887]\n",
      "[0.66638567 0.64185091 0.67463888 0.6135989  5.78365759 0.61929583\n",
      " 0.56506822 0.57115058 0.57618257 0.64259092 0.56554895 0.61508121\n",
      " 0.61006664 0.60813887 0.60055692]\n",
      "[0.66638567 0.64185091 0.67463888 0.6135989  5.78365759 0.61929583\n",
      " 0.56506822 0.57115058 0.57618257 0.64259092 0.56554895 0.61508121\n",
      " 0.61006664 0.60813887 0.60055692 0.61974759]\n",
      "[0.66638567 0.64185091 0.67463888 0.6135989  5.78365759 0.61929583\n",
      " 0.56506822 0.57115058 0.57618257 0.64259092 0.56554895 0.61508121\n",
      " 0.61006664 0.60813887 0.60055692 0.61974759 0.6216531 ]\n",
      "[0.66638567 0.64185091 0.67463888 0.6135989  5.78365759 0.61929583\n",
      " 0.56506822 0.57115058 0.57618257 0.64259092 0.56554895 0.61508121\n",
      " 0.61006664 0.60813887 0.60055692 0.61974759 0.6216531  0.60326282]\n",
      "[0.66638567 0.64185091 0.67463888 0.6135989  5.78365759 0.61929583\n",
      " 0.56506822 0.57115058 0.57618257 0.64259092 0.56554895 0.61508121\n",
      " 0.61006664 0.60813887 0.60055692 0.61974759 0.6216531  0.60326282\n",
      " 0.63364864]\n",
      "in pol processing\n",
      "[421.47127196 424.4812155  427.49115905 430.50110259 433.51104614\n",
      " 436.52098968 439.53093323 442.54087677 445.55082032 448.56076386\n",
      " 451.57070741 454.58065095 457.5905945  460.60053804 463.61048159\n",
      " 466.62042513 469.63036868 472.64031222 475.65025577]\n",
      "[0.66638567 0.64185091 0.67463888 0.6135989  5.78365759 0.61929583\n",
      " 0.56506822 0.57115058 0.57618257 0.64259092 0.56554895 0.61508121\n",
      " 0.61006664 0.60813887 0.60055692 0.61974759 0.6216531  0.60326282\n",
      " 0.63364864]\n"
     ]
    },
    {
     "data": {
      "application/vnd.jupyter.widget-view+json": {
       "model_id": "bf034e011191478e8b1c0efbeac602f8",
       "version_major": 2,
       "version_minor": 0
      },
      "text/plain": [
       "  0%|          | 0/1 [00:00<?, ?it/s]"
      ]
     },
     "metadata": {},
     "output_type": "display_data"
    },
    {
     "name": "stdout",
     "output_type": "stream",
     "text": [
      "19.999402666666658\n",
      "44.90134105338615\n",
      "[0.06495021]\n",
      "[0.06495021 0.07342837]\n",
      "[0.06495021 0.07342837 0.06446471]\n",
      "[0.06495021 0.07342837 0.06446471 0.09716189]\n",
      "[0.06495021 0.07342837 0.06446471 0.09716189 0.07941836]\n",
      "[0.06495021 0.07342837 0.06446471 0.09716189 0.07941836 0.11400558]\n",
      "[0.06495021 0.07342837 0.06446471 0.09716189 0.07941836 0.11400558\n",
      " 0.1291527 ]\n",
      "[0.06495021 0.07342837 0.06446471 0.09716189 0.07941836 0.11400558\n",
      " 0.1291527  0.13409258]\n",
      "[0.06495021 0.07342837 0.06446471 0.09716189 0.07941836 0.11400558\n",
      " 0.1291527  0.13409258 0.16400029]\n",
      "[0.06495021 0.07342837 0.06446471 0.09716189 0.07941836 0.11400558\n",
      " 0.1291527  0.13409258 0.16400029 0.18056698]\n",
      "[0.06495021 0.07342837 0.06446471 0.09716189 0.07941836 0.11400558\n",
      " 0.1291527  0.13409258 0.16400029 0.18056698 0.1722812 ]\n",
      "[0.06495021 0.07342837 0.06446471 0.09716189 0.07941836 0.11400558\n",
      " 0.1291527  0.13409258 0.16400029 0.18056698 0.1722812  0.18845777]\n",
      "[0.06495021 0.07342837 0.06446471 0.09716189 0.07941836 0.11400558\n",
      " 0.1291527  0.13409258 0.16400029 0.18056698 0.1722812  0.18845777\n",
      " 0.20234302]\n",
      "[0.06495021 0.07342837 0.06446471 0.09716189 0.07941836 0.11400558\n",
      " 0.1291527  0.13409258 0.16400029 0.18056698 0.1722812  0.18845777\n",
      " 0.20234302 0.21585463]\n",
      "[0.06495021 0.07342837 0.06446471 0.09716189 0.07941836 0.11400558\n",
      " 0.1291527  0.13409258 0.16400029 0.18056698 0.1722812  0.18845777\n",
      " 0.20234302 0.21585463 0.19946362]\n",
      "[0.06495021 0.07342837 0.06446471 0.09716189 0.07941836 0.11400558\n",
      " 0.1291527  0.13409258 0.16400029 0.18056698 0.1722812  0.18845777\n",
      " 0.20234302 0.21585463 0.19946362 0.16589285]\n",
      "[0.06495021 0.07342837 0.06446471 0.09716189 0.07941836 0.11400558\n",
      " 0.1291527  0.13409258 0.16400029 0.18056698 0.1722812  0.18845777\n",
      " 0.20234302 0.21585463 0.19946362 0.16589285 0.21205419]\n",
      "[0.06495021 0.07342837 0.06446471 0.09716189 0.07941836 0.11400558\n",
      " 0.1291527  0.13409258 0.16400029 0.18056698 0.1722812  0.18845777\n",
      " 0.20234302 0.21585463 0.19946362 0.16589285 0.21205419 0.19186121]\n",
      "[0.06495021 0.07342837 0.06446471 0.09716189 0.07941836 0.11400558\n",
      " 0.1291527  0.13409258 0.16400029 0.18056698 0.1722812  0.18845777\n",
      " 0.20234302 0.21585463 0.19946362 0.16589285 0.21205419 0.19186121\n",
      " 0.21947564]\n",
      "in pol processing\n",
      "[481.47152796 484.4814715  487.49141505 490.50135859 493.51130214\n",
      " 496.52124568 499.53118923 502.54113277 505.55107632 508.56101986\n",
      " 511.57096341 514.58090695 517.5908505  520.60079404 523.61073759\n",
      " 526.62068113 529.63062468 532.64056822 535.65051177]\n",
      "[0.06495021 0.07342837 0.06446471 0.09716189 0.07941836 0.11400558\n",
      " 0.1291527  0.13409258 0.16400029 0.18056698 0.1722812  0.18845777\n",
      " 0.20234302 0.21585463 0.19946362 0.16589285 0.21205419 0.19186121\n",
      " 0.21947564]\n"
     ]
    },
    {
     "data": {
      "application/vnd.jupyter.widget-view+json": {
       "model_id": "fd0f6433be4348a881676cee33ef3d05",
       "version_major": 2,
       "version_minor": 0
      },
      "text/plain": [
       "  0%|          | 0/1 [00:00<?, ?it/s]"
      ]
     },
     "metadata": {},
     "output_type": "display_data"
    },
    {
     "name": "stdout",
     "output_type": "stream",
     "text": [
      "19.999402666666658\n",
      "44.90134105338615\n",
      "[0.71536665]\n",
      "[0.71536665 0.70274433]\n",
      "[0.71536665 0.70274433 0.67672733]\n",
      "[0.71536665 0.70274433 0.67672733 0.69931201]\n",
      "[0.71536665 0.70274433 0.67672733 0.69931201 0.68767477]\n",
      "[0.71536665 0.70274433 0.67672733 0.69931201 0.68767477 0.65570597]\n",
      "[0.71536665 0.70274433 0.67672733 0.69931201 0.68767477 0.65570597\n",
      " 9.55747495]\n",
      "[0.71536665 0.70274433 0.67672733 0.69931201 0.68767477 0.65570597\n",
      " 9.55747495 0.73788245]\n",
      "[0.71536665 0.70274433 0.67672733 0.69931201 0.68767477 0.65570597\n",
      " 9.55747495 0.73788245 0.73490773]\n",
      "[0.71536665 0.70274433 0.67672733 0.69931201 0.68767477 0.65570597\n",
      " 9.55747495 0.73788245 0.73490773 0.74697237]\n",
      "[0.71536665 0.70274433 0.67672733 0.69931201 0.68767477 0.65570597\n",
      " 9.55747495 0.73788245 0.73490773 0.74697237 0.77781487]\n",
      "[0.71536665 0.70274433 0.67672733 0.69931201 0.68767477 0.65570597\n",
      " 9.55747495 0.73788245 0.73490773 0.74697237 0.77781487 0.73526143]\n",
      "[0.71536665 0.70274433 0.67672733 0.69931201 0.68767477 0.65570597\n",
      " 9.55747495 0.73788245 0.73490773 0.74697237 0.77781487 0.73526143\n",
      " 0.80312195]\n",
      "[0.71536665 0.70274433 0.67672733 0.69931201 0.68767477 0.65570597\n",
      " 9.55747495 0.73788245 0.73490773 0.74697237 0.77781487 0.73526143\n",
      " 0.80312195 0.76972738]\n",
      "[0.71536665 0.70274433 0.67672733 0.69931201 0.68767477 0.65570597\n",
      " 9.55747495 0.73788245 0.73490773 0.74697237 0.77781487 0.73526143\n",
      " 0.80312195 0.76972738 0.77641313]\n",
      "[0.71536665 0.70274433 0.67672733 0.69931201 0.68767477 0.65570597\n",
      " 9.55747495 0.73788245 0.73490773 0.74697237 0.77781487 0.73526143\n",
      " 0.80312195 0.76972738 0.77641313 0.78933605]\n",
      "[0.71536665 0.70274433 0.67672733 0.69931201 0.68767477 0.65570597\n",
      " 9.55747495 0.73788245 0.73490773 0.74697237 0.77781487 0.73526143\n",
      " 0.80312195 0.76972738 0.77641313 0.78933605 0.80623148]\n",
      "[0.71536665 0.70274433 0.67672733 0.69931201 0.68767477 0.65570597\n",
      " 9.55747495 0.73788245 0.73490773 0.74697237 0.77781487 0.73526143\n",
      " 0.80312195 0.76972738 0.77641313 0.78933605 0.80623148 0.79534237]\n",
      "[0.71536665 0.70274433 0.67672733 0.69931201 0.68767477 0.65570597\n",
      " 9.55747495 0.73788245 0.73490773 0.74697237 0.77781487 0.73526143\n",
      " 0.80312195 0.76972738 0.77641313 0.78933605 0.80623148 0.79534237\n",
      " 0.80493648]\n",
      "in pol processing\n",
      "[541.47178396 544.4817275  547.49167105 550.50161459 553.51155814\n",
      " 556.52150168 559.53144523 562.54138877 565.55133232 568.56127586\n",
      " 571.57121941 574.58116295 577.5911065  580.60105004 583.61099359\n",
      " 586.62093713 589.63088068 592.64082422 595.65076777]\n",
      "[0.71536665 0.70274433 0.67672733 0.69931201 0.68767477 0.65570597\n",
      " 9.55747495 0.73788245 0.73490773 0.74697237 0.77781487 0.73526143\n",
      " 0.80312195 0.76972738 0.77641313 0.78933605 0.80623148 0.79534237\n",
      " 0.80493648]\n"
     ]
    }
   ],
   "source": [
    "t = test_ts_processed['fr t']\n",
    "sig = test_ts_processed['fr data']\n",
    "channels = [130]#np.arange(130,141,1)#range(len(test_ts_processed['demod data'])) #136,137 in LN2 set is a good chopped channel\n",
    "chunks_demod = range(len(test_ts_processed['reset indices'])-2)\n",
    "n_zeroed = 0\n",
    "f_fr = 15 #Hz\n",
    "\n",
    "#flux_ramp_freqs = [15]#np.arange(14.09,15.01,0.001)\n",
    "fig9, ax9 = plt.subplots(1)\n",
    "full_pol_amp_array = np.array([])\n",
    "full_t_array = np.array([])\n",
    "\n",
    "for i in tqdm(range(10)):\n",
    "\n",
    "    start_idx = find_nearest_idx(t,60*i)\n",
    "    stop_idx = find_nearest_idx(t,60*(i+1))\n",
    "\n",
    "    reduced_reset_indices = test_ts_processed['reset indices'][test_ts_processed['reset indices'] <= stop_idx]\n",
    "    reduced_reset_indices = reduced_reset_indices[reduced_reset_indices >= start_idx]\n",
    "\n",
    "    chunks_demod = range(len(reduced_reset_indices)-2)\n",
    "\n",
    "\n",
    "\n",
    "    t_array, phase_array = demodulate(t=t[start_idx:stop_idx],\n",
    "                                      sig=sig[:,start_idx:stop_idx],\n",
    "                                      channels=channels,\n",
    "                                      cunks=chunks_demod,\n",
    "                                      n_zeroed=n_zeroed,\n",
    "                                      f_fr=f_fr,\n",
    "                                      time_method='original',\n",
    "                                      phase_units='n_Phi0',\n",
    "                                      correct_accumulated_phase=True,\n",
    "                                      plot_demod = True,\n",
    "                                      plot_chunking_process = False,\n",
    "                                      plot_fft = False,\n",
    "                                      plot_limited_fft = False,\n",
    "                                      plot_fit = False,\n",
    "                                      plot_vectors = False,\n",
    "                                      plot_phase = False,\n",
    "                                      verbose = False)\n",
    "    \n",
    "    f_sample = 1/3 #Hz        \n",
    "    try:\n",
    "        t_sampled, amplitude_array = process_polarization_data(t_array, phase_array, f_sample)\n",
    "    except:\n",
    "        pass\n",
    "    \n",
    "    full_t_array = np.append(full_t_array, t_sampled)\n",
    "    full_pol_amp_array = np.append(full_pol_amp_array, amplitude_array)\n",
    "    \n",
    "    fig10, ax10 = plt.subplots(1)\n",
    "    \n",
    "    ax10.plot(full_t_array, full_pol_amp_array,'.-')\n",
    "    ax10.set_xlabel('t (s)')\n",
    "    ax10.set_ylabel('Chop Amplitude ($n_{\\Phi_0}$)')\n",
    "    "
   ]
  },
  {
   "cell_type": "code",
   "execution_count": 288,
   "id": "47f262ba-00fe-4286-b7f0-fdb4d42d97ba",
   "metadata": {},
   "outputs": [
    {
     "name": "stdout",
     "output_type": "stream",
     "text": [
      "[0.+0.j         0.-0.70710678j]\n",
      "-1.5707963267948966\n"
     ]
    },
    {
     "name": "stderr",
     "output_type": "stream",
     "text": [
      "/tmp/ipykernel_2723/300223312.py:7: RuntimeWarning: divide by zero encountered in double_scalars\n",
      "  angle = np.arctan(np.imag(vec[1])/np.real(vec[1]))\n"
     ]
    },
    {
     "data": {
      "text/plain": [
       "[<matplotlib.lines.Line2D at 0x7f0a73bb3ca0>]"
      ]
     },
     "execution_count": 288,
     "metadata": {},
     "output_type": "execute_result"
    }
   ],
   "source": [
    "vec = np.sqrt(2)/2*np.array([0 + 1j*0, 0 - 1j])\n",
    "\n",
    "print(vec)\n",
    "\n",
    "plt.plot(np.real(vec),np.imag(vec))\n",
    "\n",
    "angle = np.arctan(np.imag(vec[1])/np.real(vec[1]))\n",
    "print(angle)\n",
    "\n",
    "rotation_factor = np.exp(-1j*(angle))\n",
    "\n",
    "rotated_vec = vec * (rotation_factor)\n",
    "\n",
    "plt.plot(np.real(rotated_vec), np.imag(rotated_vec))"
   ]
  },
  {
   "cell_type": "code",
   "execution_count": 247,
   "id": "a5604529-70aa-4b05-b608-232b1624e3ea",
   "metadata": {
    "tags": []
   },
   "outputs": [
    {
     "data": {
      "application/vnd.jupyter.widget-view+json": {
       "model_id": "084b8e0dbd164fa09fa347e18a893b7b",
       "version_major": 2,
       "version_minor": 0
      },
      "text/plain": [
       "  0%|          | 0/10 [00:00<?, ?it/s]"
      ]
     },
     "metadata": {},
     "output_type": "display_data"
    },
    {
     "name": "stdout",
     "output_type": "stream",
     "text": [
      "range(0, 899)\n"
     ]
    },
    {
     "data": {
      "application/vnd.jupyter.widget-view+json": {
       "model_id": "ecc834d42de147828a94dff6a50660c4",
       "version_major": 2,
       "version_minor": 0
      },
      "text/plain": [
       "  0%|          | 0/1 [00:00<?, ?it/s]"
      ]
     },
     "metadata": {},
     "output_type": "display_data"
    },
    {
     "name": "stdout",
     "output_type": "stream",
     "text": [
      "[]\n",
      "basic triggered\n",
      "19.999402666666665\n",
      "44.90134105338613\n",
      "0.0\n",
      "195 205\n",
      "3.0099435451505014\n",
      "195 205\n",
      "6.019887090301003\n",
      "195 205\n",
      "9.029830635451505\n",
      "195 205\n",
      "12.039774180602006\n",
      "195 205\n",
      "15.049717725752508\n",
      "195 205\n",
      "18.05966127090301\n",
      "195 205\n",
      "21.06960481605351\n",
      "195 205\n",
      "24.07954836120401\n",
      "195 205\n",
      "27.089491906354514\n",
      "195 205\n",
      "30.099435451505016\n",
      "195 205\n",
      "33.109378996655515\n",
      "195 205\n",
      "36.11932254180602\n",
      "195 205\n",
      "39.12926608695652\n",
      "195 205\n",
      "42.13920963210702\n",
      "195 205\n",
      "45.149153177257524\n",
      "195 205\n",
      "48.15909672240802\n",
      "195 205\n",
      "51.16904026755853\n",
      "195 205\n",
      "54.17898381270903\n",
      "195 205\n",
      "range(0, 898)\n"
     ]
    },
    {
     "data": {
      "application/vnd.jupyter.widget-view+json": {
       "model_id": "f9795a066989443587cb2b1d16ccfda2",
       "version_major": 2,
       "version_minor": 0
      },
      "text/plain": [
       "  0%|          | 0/1 [00:00<?, ?it/s]"
      ]
     },
     "metadata": {},
     "output_type": "display_data"
    },
    {
     "name": "stdout",
     "output_type": "stream",
     "text": [
      "[]\n",
      "basic triggered\n",
      "19.999402666666665\n",
      "44.90134105338613\n",
      "60.000256\n",
      "195 205\n",
      "63.0101995451505\n",
      "195 205\n",
      "66.020143090301\n",
      "195 205\n",
      "69.03008663545151\n",
      "195 205\n",
      "72.040030180602\n",
      "195 205\n",
      "75.04997372575251\n",
      "195 205\n",
      "78.05991727090301\n",
      "195 205\n",
      "81.0698608160535\n",
      "195 205\n",
      "84.07980436120401\n",
      "195 205\n",
      "87.08974790635452\n",
      "195 205\n",
      "90.09969145150501\n",
      "195 205\n",
      "93.10963499665552\n",
      "195 205\n",
      "96.11957854180602\n",
      "195 205\n",
      "99.12952208695651\n",
      "195 205\n",
      "102.13946563210702\n",
      "195 205\n",
      "105.14940917725752\n",
      "195 205\n",
      "108.15935272240802\n",
      "195 205\n",
      "111.16929626755854\n",
      "195 205\n",
      "114.17923981270903\n",
      "195 205\n",
      "range(0, 898)\n"
     ]
    },
    {
     "data": {
      "application/vnd.jupyter.widget-view+json": {
       "model_id": "93c9e14f4c504676b633b0181bf360a4",
       "version_major": 2,
       "version_minor": 0
      },
      "text/plain": [
       "  0%|          | 0/1 [00:00<?, ?it/s]"
      ]
     },
     "metadata": {},
     "output_type": "display_data"
    },
    {
     "name": "stdout",
     "output_type": "stream",
     "text": [
      "[]\n",
      "basic triggered\n",
      "19.99940266666666\n",
      "44.90134105338614\n",
      "120.000512\n",
      "195 205\n",
      "123.0104555451505\n",
      "195 205\n",
      "126.020399090301\n",
      "195 205\n",
      "129.03034263545152\n",
      "195 205\n",
      "132.040286180602\n",
      "195 205\n",
      "135.0502297257525\n",
      "195 205\n",
      "138.06017327090302\n",
      "195 205\n",
      "141.0701168160535\n",
      "195 205\n",
      "144.080060361204\n",
      "195 205\n",
      "147.0900039063545\n",
      "195 205\n",
      "150.09994745150502\n",
      "195 205\n",
      "153.1098909966555\n",
      "195 205\n",
      "156.11983454180603\n",
      "195 205\n",
      "159.12977808695652\n",
      "195 205\n",
      "162.139721632107\n",
      "195 205\n",
      "165.14966517725753\n",
      "195 205\n",
      "168.15960872240802\n",
      "195 205\n",
      "171.16955226755852\n",
      "195 205\n",
      "174.179495812709\n",
      "195 205\n",
      "range(0, 898)\n"
     ]
    },
    {
     "data": {
      "application/vnd.jupyter.widget-view+json": {
       "model_id": "047ae9e86cdc4c699fff0d21023c7f2f",
       "version_major": 2,
       "version_minor": 0
      },
      "text/plain": [
       "  0%|          | 0/1 [00:00<?, ?it/s]"
      ]
     },
     "metadata": {},
     "output_type": "display_data"
    },
    {
     "name": "stdout",
     "output_type": "stream",
     "text": [
      "[]\n",
      "basic triggered\n",
      "19.99872\n",
      "44.902873783922175\n",
      "180.000768\n",
      "195 205\n",
      "183.0106088026756\n",
      "195 205\n",
      "186.02044960535116\n",
      "195 205\n",
      "189.03029040802676\n",
      "195 205\n",
      "192.04013121070233\n",
      "195 205\n",
      "195.04997201337792\n",
      "195 205\n",
      "198.05981281605352\n",
      "195 205\n",
      "201.0696536187291\n",
      "195 205\n",
      "204.0794944214047\n",
      "195 205\n",
      "207.08933522408026\n",
      "195 205\n",
      "210.09917602675586\n",
      "195 205\n",
      "213.10901682943143\n",
      "195 205\n",
      "216.11885763210702\n",
      "195 205\n",
      "219.12869843478262\n",
      "195 205\n",
      "222.1385392374582\n",
      "195 205\n",
      "225.1483800401338\n",
      "195 205\n",
      "228.15822084280936\n",
      "195 205\n",
      "231.16806164548495\n",
      "195 205\n",
      "234.17790244816052\n",
      "195 205\n",
      "range(0, 899)\n"
     ]
    },
    {
     "data": {
      "application/vnd.jupyter.widget-view+json": {
       "model_id": "e2f0ee05a7d54fc98fcae03cb3ddf28b",
       "version_major": 2,
       "version_minor": 0
      },
      "text/plain": [
       "  0%|          | 0/1 [00:00<?, ?it/s]"
      ]
     },
     "metadata": {},
     "output_type": "display_data"
    },
    {
     "name": "stdout",
     "output_type": "stream",
     "text": [
      "[130]\n",
      "need to stitch\n",
      "19.954810910442212\n",
      "44.80122633144953\n",
      "240.06586363433667\n",
      "195 205\n",
      "243.07580717948719\n",
      "195 205\n",
      "246.08575072463768\n",
      "195 205\n",
      "249.22946953846153\n",
      "195 205\n",
      "252.23941308361205\n",
      "195 205\n",
      "255.24935662876254\n",
      "195 205\n",
      "258.25930017391306\n",
      "195 205\n",
      "261.2692437190635\n",
      "195 205\n",
      "264.27918726421404\n",
      "195 205\n",
      "267.28913080936456\n",
      "195 205\n",
      "270.299074354515\n",
      "195 205\n",
      "273.30901789966555\n",
      "195 205\n",
      "276.31896144481607\n",
      "195 205\n",
      "279.32890498996653\n",
      "195 205\n",
      "282.33884853511705\n",
      "195 205\n",
      "285.3487920802676\n",
      "195 205\n",
      "288.3587356254181\n",
      "195 205\n",
      "291.36867917056856\n",
      "195 205\n",
      "294.3786227157191\n",
      "195 205\n",
      "range(0, 899)\n"
     ]
    },
    {
     "name": "stderr",
     "output_type": "stream",
     "text": [
      "/tmp/ipykernel_2693/1665602483.py:191: RuntimeWarning: More than 20 figures have been opened. Figures created through the pyplot interface (`matplotlib.pyplot.figure`) are retained until explicitly closed and may consume too much memory. (To control this warning, see the rcParam `figure.max_open_warning`).\n",
      "  fig_demod, ax_demod = plt.subplots(1)\n"
     ]
    },
    {
     "data": {
      "application/vnd.jupyter.widget-view+json": {
       "model_id": "58eb115746a544d08ef5ce337e91ff68",
       "version_major": 2,
       "version_minor": 0
      },
      "text/plain": [
       "  0%|          | 0/1 [00:00<?, ?it/s]"
      ]
     },
     "metadata": {},
     "output_type": "display_data"
    },
    {
     "name": "stdout",
     "output_type": "stream",
     "text": [
      "[]\n",
      "basic triggered\n",
      "19.999402666666658\n",
      "44.90134105338615\n",
      "299.999232\n",
      "195 205\n",
      "303.0091755451505\n",
      "195 205\n",
      "306.019119090301\n",
      "195 205\n",
      "309.0290626354515\n",
      "195 205\n",
      "312.03900618060203\n",
      "195 205\n",
      "315.0489497257525\n",
      "195 205\n",
      "318.058893270903\n",
      "195 205\n",
      "321.06883681605353\n",
      "195 205\n",
      "324.078780361204\n",
      "195 205\n",
      "327.0887239063545\n",
      "195 205\n",
      "330.098667451505\n",
      "195 205\n",
      "333.1086109966555\n",
      "195 205\n",
      "336.118554541806\n",
      "195 205\n",
      "339.1284980869565\n",
      "195 205\n",
      "342.138441632107\n",
      "195 205\n",
      "345.1483851772575\n",
      "195 205\n",
      "348.158328722408\n",
      "195 205\n",
      "351.1682722675585\n",
      "195 205\n",
      "354.178215812709\n",
      "195 205\n",
      "range(0, 899)\n"
     ]
    },
    {
     "data": {
      "application/vnd.jupyter.widget-view+json": {
       "model_id": "9642f305855c4991834b6fe7e00940ae",
       "version_major": 2,
       "version_minor": 0
      },
      "text/plain": [
       "  0%|          | 0/1 [00:00<?, ?it/s]"
      ]
     },
     "metadata": {},
     "output_type": "display_data"
    },
    {
     "name": "stdout",
     "output_type": "stream",
     "text": [
      "[]\n",
      "basic triggered\n",
      "19.999402666666676\n",
      "44.901341053386105\n",
      "359.999488\n",
      "195 205\n",
      "363.0094315451505\n",
      "195 205\n",
      "366.01937509030097\n",
      "195 205\n",
      "369.0293186354515\n",
      "195 205\n",
      "372.039262180602\n",
      "195 205\n",
      "375.04920572575253\n",
      "195 205\n",
      "378.059149270903\n",
      "195 205\n",
      "381.0690928160535\n",
      "195 205\n",
      "384.07903636120403\n",
      "195 205\n",
      "387.0889799063545\n",
      "195 205\n",
      "390.098923451505\n",
      "195 205\n",
      "393.10886699665554\n",
      "195 205\n",
      "396.11881054180606\n",
      "195 205\n",
      "399.1287540869565\n",
      "195 205\n",
      "402.13869763210704\n",
      "195 205\n",
      "405.14864117725756\n",
      "195 205\n",
      "408.158584722408\n",
      "195 205\n",
      "411.16852826755854\n",
      "195 205\n",
      "414.17847181270906\n",
      "195 205\n",
      "range(0, 899)\n"
     ]
    },
    {
     "data": {
      "application/vnd.jupyter.widget-view+json": {
       "model_id": "79c399abe5d841b2ab2b6b436ca8077e",
       "version_major": 2,
       "version_minor": 0
      },
      "text/plain": [
       "  0%|          | 0/1 [00:00<?, ?it/s]"
      ]
     },
     "metadata": {},
     "output_type": "display_data"
    },
    {
     "name": "stdout",
     "output_type": "stream",
     "text": [
      "[219]\n",
      "need to stitch\n",
      "19.954810910442195\n",
      "44.80122633144957\n",
      "420.0666316343367\n",
      "195 205\n",
      "423.0765751794872\n",
      "195 205\n",
      "426.0865187246377\n",
      "195 205\n",
      "429.0964622697882\n",
      "195 205\n",
      "432.1064058149387\n",
      "195 205\n",
      "435.25012462876253\n",
      "195 205\n",
      "438.26006817391306\n",
      "195 205\n",
      "441.2700117190636\n",
      "195 205\n",
      "444.27995526421404\n",
      "195 205\n",
      "447.28989880936456\n",
      "195 205\n",
      "450.2998423545151\n",
      "195 205\n",
      "453.30978589966554\n",
      "195 205\n",
      "456.31972944481606\n",
      "195 205\n",
      "459.3296729899666\n",
      "195 205\n",
      "462.33961653511705\n",
      "195 205\n",
      "465.34956008026757\n",
      "195 205\n",
      "468.35950362541803\n",
      "195 205\n",
      "471.36944717056855\n",
      "195 205\n",
      "474.37939071571907\n",
      "195 205\n",
      "range(0, 899)\n"
     ]
    },
    {
     "data": {
      "application/vnd.jupyter.widget-view+json": {
       "model_id": "f1e8ee4211cf48bd915bbc08bb2a8c43",
       "version_major": 2,
       "version_minor": 0
      },
      "text/plain": [
       "  0%|          | 0/1 [00:00<?, ?it/s]"
      ]
     },
     "metadata": {},
     "output_type": "display_data"
    },
    {
     "name": "stdout",
     "output_type": "stream",
     "text": [
      "[]\n",
      "basic triggered\n",
      "19.999402666666658\n",
      "44.90134105338615\n",
      "480.0\n",
      "195 205\n",
      "483.0099435451505\n",
      "195 205\n",
      "486.019887090301\n",
      "195 205\n",
      "489.0298306354515\n",
      "195 205\n",
      "492.039774180602\n",
      "195 205\n",
      "495.0497177257525\n",
      "195 205\n",
      "498.059661270903\n",
      "195 205\n",
      "501.0696048160535\n",
      "195 205\n",
      "504.079548361204\n",
      "195 205\n",
      "507.0894919063545\n",
      "195 205\n",
      "510.099435451505\n",
      "195 205\n",
      "513.1093789966556\n",
      "195 205\n",
      "516.119322541806\n",
      "195 205\n",
      "519.1292660869565\n",
      "195 205\n",
      "522.139209632107\n",
      "195 205\n",
      "525.1491531772575\n",
      "195 205\n",
      "528.159096722408\n",
      "195 205\n",
      "531.1690402675586\n",
      "195 205\n",
      "534.178983812709\n",
      "195 205\n",
      "range(0, 899)\n"
     ]
    },
    {
     "data": {
      "application/vnd.jupyter.widget-view+json": {
       "model_id": "ff8363529f264dbf8299bca12fcf5364",
       "version_major": 2,
       "version_minor": 0
      },
      "text/plain": [
       "  0%|          | 0/1 [00:00<?, ?it/s]"
      ]
     },
     "metadata": {},
     "output_type": "display_data"
    },
    {
     "name": "stdout",
     "output_type": "stream",
     "text": [
      "[277]\n",
      "need to stitch\n",
      "19.954810910442195\n",
      "44.80122633144957\n",
      "540.0671436343367\n",
      "195 205\n",
      "543.0770871794872\n",
      "195 205\n",
      "546.0870307246378\n",
      "195 205\n",
      "549.0969742697882\n",
      "195 205\n",
      "552.1069178149387\n",
      "195 205\n",
      "555.1168613600892\n",
      "195 205\n",
      "558.1268049052397\n",
      "195 205\n",
      "561.2705237190636\n",
      "195 205\n",
      "564.280467264214\n",
      "195 205\n",
      "567.2904108093646\n",
      "195 205\n",
      "570.3003543545151\n",
      "195 205\n",
      "573.3102978996656\n",
      "195 205\n",
      "576.320241444816\n",
      "195 205\n",
      "579.3301849899666\n",
      "195 205\n",
      "582.3401285351171\n",
      "195 205\n",
      "585.3500720802675\n",
      "195 205\n",
      "588.3600156254181\n",
      "195 205\n",
      "591.3699591705686\n",
      "195 205\n",
      "594.379902715719\n",
      "195 205\n"
     ]
    }
   ],
   "source": [
    "\"\"\"\n",
    "picking up from yesterday's work on polarization processing\n",
    "\n",
    "todo:\n",
    "1. Move functions to this cell for further adjustment - done\n",
    "2. Make polarization plotting optional - done\n",
    "3. Add parameters for plotting intermediate plots only for a limited time range (both in main demod and in polarization demod) - done\n",
    "    - after lunch: put the t0 equivalent in the title for plots that do not have a time axis\n",
    "4. Investigate the discontinuities in main demodualation (which produces spikes in polarization demodulation)\n",
    "5. Switch to using highest two fft peak method for polarization demod (keep rotation to zero as an option)\n",
    "\"\"\"\n",
    "from scipy.interpolate import interp1d\n",
    "from scipy.optimize import curve_fit\n",
    "from tqdm.notebook import tqdm\n",
    "\n",
    "def find_nearest_idx(array, value):\n",
    "    array = np.asarray(array)\n",
    "    idx = (np.abs(array - value)).argmin()\n",
    "    return idx\n",
    "\n",
    "def extract_phase(t, data, n, n_blank, intermediate_plotting_limits = [None, None], plot_fft = False, plot_limited_fft = False, plot_fit = False, plot_vectors = False, plot_phase = False, verbose = False):\n",
    "    \"\"\"\n",
    "    params\n",
    "    ======\n",
    "    data: data from a single flux ramp reset period\n",
    "    n: number of harmonics preserved\n",
    "    n_blank: number of points cut from end (to help remove flux ramp reset period)\n",
    "    plot_fft: If true, plot the relevant ffts (default = False)\n",
    "    plot_fit: If true, plot the relevant fit (default = False)\n",
    "    \"\"\"      \n",
    "    #find the the two fft terms with the most power\n",
    "    if intermediate_plotting_limits[0] == None:\n",
    "        intermediate_plotting_limits[0] = t[0]\n",
    "    if intermediate_plotting_limits[1] == None:\n",
    "        intermediate_plotting_limits[1] = t[-1]\n",
    "    \n",
    "    data_fft = fft(data)\n",
    "    freqs = fftfreq(len(data), np.median(np.diff(t)))\n",
    "    \n",
    "    if plot_fft == True and t[0] >= intermediate_plotting_limits[0] and t[0] <= intermediate_plotting_limits[1]:\n",
    "        fig1, ax1 = plt.subplots(1)\n",
    "        \n",
    "        ax1.stem(freqs, np.abs(data_fft))\n",
    "        ax1.set_xlabel('Frequency (Hz)')\n",
    "        ax1.set_ylabel('Amplitude (arb.)')\n",
    "        ax1.set_xlim([-500,500])\n",
    "        ax1.set_title(f'$t_0$ = {t[0]} s')\n",
    "        \n",
    "    #blank the dc term\n",
    "    no_dc_fft = deepcopy(data_fft)\n",
    "    np.put(no_dc_fft, [0], 0.0)\n",
    "    \n",
    "    fundamental_idx_1 = np.argmax(np.abs(no_dc_fft))\n",
    "    #print(fundamental_idx_1)\n",
    "    remove_highest = deepcopy(no_dc_fft)\n",
    "    #print(len(remove_highest))\n",
    "    np.put(remove_highest, [fundamental_idx_1, int(len(remove_highest)-fundamental_idx_1)], 0.0) #remove the highest term and its complex conjugate in order to search for the second highest term\n",
    "    fundamental_idx_2 = np.argmax(np.abs(remove_highest))\n",
    "    #print(fundamental_idx_2)\n",
    "    \n",
    "    mask = np.zeros(len(data))\n",
    "    try:\n",
    "        for i in range(n):\n",
    "            np.put(mask, [fundamental_idx_1*(i+1), fundamental_idx_2*(i+1)], 1.0)\n",
    "            np.put(mask, [len(data)-(fundamental_idx_1*(i+1)), len(data)-(fundamental_idx_2*(i+1))], 1.0)\n",
    "    except IndexError:\n",
    "        print('Harmonic setting (n) too high. Using highest harmonic available.')\n",
    "        \n",
    "    data_fft_harmonics_only = data_fft * mask\n",
    "    \n",
    "    fit = ifft(data_fft_harmonics_only)\n",
    "    \n",
    "    if fundamental_idx_1 >= fundamental_idx_2:\n",
    "        #print('1>=2')\n",
    "        R1 = np.real(data_fft_harmonics_only[fundamental_idx_1])\n",
    "        R2 = np.real(data_fft_harmonics_only[fundamental_idx_2])\n",
    "\n",
    "        I1 = np.imag(data_fft_harmonics_only[fundamental_idx_1])\n",
    "        I2 = np.imag(data_fft_harmonics_only[fundamental_idx_2])\n",
    "        \n",
    "    elif fundamental_idx_1 < fundamental_idx_2:\n",
    "        #print('1<2')\n",
    "        R1 = np.real(data_fft_harmonics_only[fundamental_idx_2])\n",
    "        R2 = np.real(data_fft_harmonics_only[fundamental_idx_1])\n",
    "\n",
    "        I1 = np.imag(data_fft_harmonics_only[fundamental_idx_2])\n",
    "        I2 = np.imag(data_fft_harmonics_only[fundamental_idx_1])\n",
    "        \n",
    "    \n",
    "    if I1 > 0:\n",
    "        angle1 = np.angle(R1+1j*I1)\n",
    "    elif I1 < 0:\n",
    "        angle1 = 2*np.pi + np.angle(R1+1j*I1)\n",
    "    elif I1 == 0 and R1 > 0:\n",
    "        angle1 = 0\n",
    "    elif I1 == 0 and R1 < 0:\n",
    "        angle1 = np.pi\n",
    "        \n",
    "    if I2 > 0:\n",
    "        angle2 = np.angle(R2+1j*I2)\n",
    "    elif I2 < 0:\n",
    "        angle2 = 2*np.pi + np.angle(R2+1j*I2)\n",
    "    elif I2 == 0 and R2 > 0:\n",
    "        angle2 = 0\n",
    "    elif I2 == 0 and R2 < 0:\n",
    "        angle2 = np.pi\n",
    "        \n",
    "    if R2 > 0 and I2 > 0 and R1 > 0 and I1 < 0: #unusual situation where vec2 is in Q1 and vec1 is in Q4: need to rotate vec2 CW (formula 2)\n",
    "        interpolated_phase1 = np.arctan2((I1-R2),(R1+I2))\n",
    "        formula = 2\n",
    "    elif angle1 > angle2:\n",
    "        interpolated_phase1 = np.arctan2((I1+R2),(R1-I2))\n",
    "        formula = 1\n",
    "    elif angle2 > angle1:\n",
    "        interpolated_phase1 = np.arctan2((I1-R2),(R1+I2)) #something is wrong with this formula; the vector plots don't look right\n",
    "        formula = 2\n",
    "    \n",
    "    \n",
    "    #interpolated_phase1 = np.angle(data_fft_harmonics_only[fundamental_idx_1])\n",
    "    #interpolated_phase2 = np.angle(data_fft_harmonics_only[fundamental_idx_2])\n",
    "    #interpolated_phase1 = np.arctan2((I1+R2),(R1-I2))\n",
    "    interpolated_phase2 = np.arctan2(I2,R2)\n",
    "    #interpolated_phase2 = (np.arctan(I1/R1) + np.arctan(I2/R2)-np.pi/2)/2\n",
    "    \n",
    "    t_phase = np.median(t)\n",
    "    \n",
    "    \n",
    "    \n",
    "    if plot_limited_fft == True and t[0] >= intermediate_plotting_limits[0] and t[0] <= intermediate_plotting_limits[1]:\n",
    "        fig2, ax2 = plt.subplots(1)\n",
    "        \n",
    "        ax2.stem(freqs, np.abs(data_fft_harmonics_only))\n",
    "        ax2.set_xlabel('Frequency (Hz)')\n",
    "        ax2.set_ylabel('Amplitude (arb.)')\n",
    "        ax2.set_xlim([-500,500])\n",
    "    \n",
    "    if plot_fit == True and t[0] >= intermediate_plotting_limits[0] and t[0] <= intermediate_plotting_limits[1]:\n",
    "        fig3, ax3 = plt.subplots(1)\n",
    "        \n",
    "        ax3.plot(t, data, '.',label='Data')\n",
    "        ax3.plot(t, fit, label='fit')\n",
    "        ax3.set_xlabel('t (s)')\n",
    "        ax3.set_ylabel('Amplitude (arb.)')\n",
    "        \n",
    "    if plot_vectors == True and t[0] >= intermediate_plotting_limits[0] and t[0] <= intermediate_plotting_limits[1]:\n",
    "        fig4, ax4 = plt.subplots(1)\n",
    "        \n",
    "        vec1 = [0+0j, data_fft_harmonics_only[fundamental_idx_1]]\n",
    "        vec2 = [0+0j, data_fft_harmonics_only[fundamental_idx_2]]\n",
    "        if R2 > 0 and I2 > 0 and R1 > 0 and I1 < 0: #unusual situation where vec2 is in Q1 and vec1 is in Q4: need to rotate vec2 CW (formula 2)\n",
    "            vec3 = [0+0j, (R1+I2)+1j*(I1-R2)]\n",
    "            label = 'angle2 > angle1; ususual Q4/Q1 case'\n",
    "        elif angle1 > angle2:\n",
    "            vec3 = [0+0j, (R1-I2)+1j*(R2+I1)]\n",
    "            label = 'angle1 > angle2'\n",
    "        elif angle2 > angle1:\n",
    "            vec3 = [0+0j, (R1+I2)+1j*(I1-R2)]\n",
    "            label = 'angle2 > angle1'\n",
    "        \n",
    "        ax4.plot(np.real(vec1), np.imag(vec1),label='vec1')\n",
    "        ax4.plot(np.real(vec2), np.imag(vec2),label='vec2')\n",
    "        ax4.plot(np.real(vec3), np.imag(vec3),label=label)\n",
    "    \n",
    "        ax4.set_xlabel('Re')\n",
    "        ax4.set_ylabel('Im')\n",
    "        ax4.set_xlim([-1000,1000])\n",
    "        ax4.set_ylim([-1000,1000])\n",
    "        ax4.legend()\n",
    "    \n",
    "    if plot_phase == True and t[0] >= intermediate_plotting_limits[0] and t[0] <= intermediate_plotting_limits[1]:\n",
    "        fig5, ax5 = plt.subplots(1)\n",
    "        \n",
    "        data_fft_phase_threshold = deepcopy(data_fft_harmonics_only)\n",
    "        threshold = max(np.abs(data_fft_phase_threshold))/10000\n",
    "        data_fft_phase_threshold[np.abs(data_fft_phase_threshold) < threshold] = 0.0\n",
    "        \n",
    "        ax5.stem(freqs,np.angle(data_fft_phase_threshold))\n",
    "        \n",
    "    if verbose == True:\n",
    "        print(f'Angle 1: {angle1} Angle 2: {angle2} Formula: {formula}')\n",
    "        \n",
    "    \n",
    "    return freqs, data_fft_harmonics_only, t, fit, t_phase, interpolated_phase1, interpolated_phase2\n",
    "\n",
    "def demodulate(t,sig,channels,cunks,n_zeroed,f_fr,time_method='original',phase_units='rad',correct_accumulated_phase=False,use_sg_filter=False,sg_degree=3,plot_demod = False,intermediate_plotting_limits=[None,None],plot_chunking_process = False,plot_fft = False,plot_limited_fft = False,plot_fit = False,plot_vectors = False,plot_phase = False,verbose = False):\n",
    "    \"\"\"\n",
    "    time_method: if 'original' chunking maintains true time, if 'zeroed' chuning zeros each chunk\n",
    "    \"\"\"\n",
    "    \n",
    "    if plot_demod == True:\n",
    "        fig_demod, ax_demod = plt.subplots(1)\n",
    "    \n",
    "    count=0\n",
    "    for ch in tqdm(channels):\n",
    "        #establish array for storing phase\n",
    "        phase_array = np.array([])\n",
    "        \n",
    "        if plot_chunking_process == True:\n",
    "            print(sig[ch])\n",
    "            fig1, ax1 = plt.subplots(1)\n",
    "            ax1.plot(t,sig[ch],'.-')\n",
    "\n",
    "        #interpolate the data\n",
    "        interpolation = interp1d(test_ts_processed['fr t'], test_ts_processed['fr data'][ch])\n",
    "\n",
    "        t_final = t[-1]\n",
    "        t_start = t[0]\n",
    "        t_elapsed = t_final - t_start\n",
    "        n_reset_periods = t_elapsed * f_fr\n",
    "\n",
    "        t_interp = np.linspace(t_start, t_final, int(n_reset_periods)*1024)\n",
    "        sig_interp = interpolation(t_interp)\n",
    "        \n",
    "        if plot_chunking_process == True:\n",
    "            fig2, ax2 = plt.subplots(1)\n",
    "            ax2.plot(t_interp, sig_interp,'.')\n",
    "\n",
    "            \n",
    "            fig3, ax3 = plt.subplots(1)\n",
    "            fig4, ax4 = plt.subplots(1)    \n",
    "            fig5, ax5 = plt.subplots(1)\n",
    "\n",
    "        chunk_start_idx = find_nearest_idx(t_interp, test_ts_processed['fr t'][test_ts_processed['start index']])\n",
    "        n_fr = f_fr*(t_interp[-1] - t_interp[chunk_start_idx])\n",
    "        n_ptsfr = len(t_interp[chunk_start_idx:]) / n_fr\n",
    "\n",
    "        chunk_count = 0\n",
    "        for chunk in chunks:          \n",
    "            \n",
    "            #chunk the interpolated data\n",
    "            channel_start_idx = find_nearest_idx(t_interp, t[test_ts_processed['start index']]) #+10\n",
    "            #chunk_stop_idx = find_nearest_idx(t_interp, t[test_ts_processed['reset indices'][chunk+1]])\n",
    "\n",
    "            idx_increase = round(n_ptsfr)\n",
    "\n",
    "            start = channel_start_idx + idx_increase*chunk\n",
    "            stop = channel_start_idx + idx_increase*(chunk + 1)\n",
    "            \n",
    "            average = np.average(sig_interp)\n",
    "            \n",
    "            t_chunk = t_interp[start:stop] \n",
    "            if time_method == 'zeroed':\n",
    "                t_chunk -= t_interp[start]\n",
    "\n",
    "            sig_chunk = sig_interp[start:stop]-average\n",
    "            #print(f'len t_chunk: {len(t_chunk)}')\n",
    "            \n",
    "\n",
    "            if plot_chunking_process == True:\n",
    "                ax3.plot(t_chunk, sig_chunk,'.',alpha = 0.5)\n",
    "\n",
    "            #set points that are part of fr reset period to zero        \n",
    "            endpoint_idx = find_nearest_idx(t_chunk,t[test_ts_processed['reset indices'][chunk+1]-n_zeroed]+t[test_ts_processed['start index']]) #figure out the time stamp in the interpolation that is closest to the blanking point in the original data\n",
    "            #n_points_no_interp = (t[-1]-t[0])*f_fr\n",
    "            #idx_increase_no_interp = int(n_points_no_interp)\n",
    "            #print(f'len t_chunk: {len(t_chunk)}')\n",
    "            #print(f'endpoint idx no interp: {t[test_ts_processed[\"start index\"]] + idx_increase_no_interp*(chunk+1) - n_zeroed}')\n",
    "            #endpoint_idx = find_nearest_idx(t_chunk,t[test_ts_processed['start index']] + idx_increase_no_interp*(chunk+1) - n_zeroed)\n",
    "            #print(f'endpoint idx: {endpoint_idx}')\n",
    "            sig_chunk[endpoint_idx:] = 0\n",
    "\n",
    "            if plot_chunking_process == True:\n",
    "                ax4.plot(t_chunk, sig_chunk, '.')\n",
    "\n",
    "            sig_zero_pad = np.append(sig_chunk, np.zeros(len(sig_chunk)))\n",
    "            diff = np.median(np.diff(t_chunk))\n",
    "            t_zero_pad = np.append(t_chunk, np.linspace(t_chunk[-1]+diff, (t_chunk[-1]+diff) + (t_chunk[-1] - t_chunk[0]), len(t_chunk)))\n",
    "            #np.linspace(t_chunk[0], t_chunk[-1] + (t_chunk[-1] - t_chunk[0]), 2*len(t_chunk))\n",
    "\n",
    "            if plot_chunking_process == True:\n",
    "                ax5.plot(t_zero_pad, sig_zero_pad, '.',alpha=0.5)\n",
    "\n",
    "\n",
    "\n",
    "\n",
    "            \n",
    "            freqs, data_fft_harmonics_only, t_fit, fit, t_phase, phase1, phase2 = extract_phase(t=t_zero_pad, \n",
    "                                                                                                data=sig_zero_pad, \n",
    "                                                                                                n=1, \n",
    "                                                                                                n_blank=0, \n",
    "                                                                                                intermediate_plotting_limits = intermediate_plotting_limits,\n",
    "                                                                                                plot_fft = plot_fft, \n",
    "                                                                                                plot_limited_fft = plot_limited_fft,\n",
    "                                                                                                plot_fit = plot_fit,\n",
    "                                                                                                plot_vectors = plot_vectors,\n",
    "                                                                                                plot_phase = plot_phase,\n",
    "                                                                                                verbose = verbose)\n",
    "\n",
    "            phase_array = np.append(phase_array, phase1)\n",
    "        phase_array = np.unwrap(phase_array)\n",
    "        if phase_units == 'nPhi0':\n",
    "            phase_array /= (2*np.pi) #convert to nPhi0\n",
    "        elif phase_units == 'deg':\n",
    "            phase_array /= 180/np.pi\n",
    "        elif phase_units == 'rad':\n",
    "            pass\n",
    "\n",
    "\n",
    "        \n",
    "        \n",
    "        \n",
    "        t_array = np.linspace(t[0], t[-1], len(chunks))\n",
    "        \n",
    "        \n",
    "\n",
    "        \n",
    "\n",
    "        \n",
    "\n",
    "        if correct_accumulated_phase == True:\n",
    "            \n",
    "            phase_array_diff = np.diff(phase_array)\n",
    "            \n",
    "            fig_hist, ax_hist = plt.subplots(1)\n",
    "            \n",
    "            ax_hist.hist(phase_array_diff)\n",
    "            #print(phase_array_diff)\n",
    "            \n",
    "            #index where diff > threshold (make 1 for right now)\n",
    "            \n",
    "            threshold = 0.3\n",
    "            discontinuity_index = np.argwhere(phase_array_diff > threshold)\n",
    "            discontinuity_index = discontinuity_index.reshape(1,len(discontinuity_index))[0]\n",
    "            #if len(discontinuity_index != 0):\n",
    "            #    discontinuity_index = discontinuity_index\n",
    "            print(discontinuity_index)\n",
    "            \n",
    "              \n",
    "            def linear_model(x,m,b):\n",
    "                return m*x+b\n",
    "            \n",
    "            if len(discontinuity_index) != 0:\n",
    "                \n",
    "                print('need to stitch')\n",
    "            \n",
    "                phase_split = np.split(phase_array, discontinuity_index+1)\n",
    "                t_split = np.split(t_array, discontinuity_index+1)\n",
    "\n",
    "                fig_sec_test, ax_sec_test = plt.subplots(1)\n",
    "                phase_split_corrected = np.array([])\n",
    "                t_split_corrected = np.array([])\n",
    "                for i in range(len(phase_split)):\n",
    "                    t_drop_final = np.delete(t_split[i],[0,len(t_split[i])-1])\n",
    "                    phase_drop_final = np.delete(phase_split[i],[0,len(phase_split[i])-1])\n",
    "\n",
    "                    ax_sec_test.plot(t_drop_final, phase_drop_final,'.-')\n",
    "                    #ax_sec_test.plot(t_split[i],phase_split[i],'.-')\n",
    "\n",
    "                    linear_fit = curve_fit(linear_model, t_drop_final, phase_drop_final)\n",
    "\n",
    "                    fitted_line = linear_model(t_drop_final,linear_fit[0][0],linear_fit[0][1])\n",
    "                    \n",
    "                    phase_remove_accumulation = phase_drop_final - fitted_line\n",
    "                    \n",
    "                    if use_sg_filter == True:\n",
    "                        sg_filter = sg(phase_remove_accumulation,len(phase_remove_accumulation),sg_degree)\n",
    "                        \n",
    "                        ax_sec_test.plot(t_drop_final,phase_remove_accumulation)\n",
    "                        ax_sec_test.plot(t_drop_final,sg_filter)\n",
    "                        \n",
    "                        corrected_segment = phase_remove_accumulation - sg_filter\n",
    "                    \n",
    "                    else:\n",
    "                        \n",
    "                        corrected_segment = phase_remove_accumulation\n",
    "                        \n",
    "                        \n",
    "\n",
    "                    phase_split_corrected = np.append(phase_split_corrected, corrected_segment)\n",
    "                    t_split_corrected = np.append(t_split_corrected, t_drop_final)\n",
    "\n",
    "                    ax_sec_test.plot(t_drop_final,phase_drop_final,'.-')\n",
    "                    ax_sec_test.plot(t_drop_final,fitted_line,'-')\n",
    "                    \n",
    "                    ax_sec_test.plot(t_drop_final,corrected_segment,'.-')\n",
    "\n",
    "                phase_array = phase_split_corrected\n",
    "                t_array = t_split_corrected\n",
    "                ax_sec_test.plot(t_array, phase_array)\n",
    "            \n",
    "            \"\"\"\n",
    "            if len(discontinuity_index) != 0:\n",
    "                \n",
    "                #np.append(0,discontinuity_index) #make first\n",
    "                   \n",
    "                for i in discontinuity_index:\n",
    "                    print(i)\n",
    "                    if i == discontinuity_index[0]:\n",
    "                        phase_section = phase_array[0:i]\n",
    "                        t_section = t_array[0:i]\n",
    "                    elif i == discontinity_index[-1]:\n",
    "                        phase_section = phase_array[i:]\n",
    "                        t_section = t_array[i:]\n",
    "                    else:\n",
    "                        phase_section = phase_array[i:i+1]\n",
    "                        t_section = t_array[i:i+1]\n",
    "                    \n",
    "                    fig_sec_test, ax_sec_test = plt.subplots(1)\n",
    "                    ax_sec_test.plot(t_array,phase_array,'.-')\n",
    "                    #linear_fit = curve_fit(lienar_model, t_array\n",
    "            \"\"\"          \n",
    "            \n",
    "            \n",
    "            if len(discontinuity_index) == 0:\n",
    "                print('basic triggered')\n",
    "                #linear_fit = curve_fit(linear_model, t_array, np.unwrap(phase_array))\n",
    "                linear_fit = curve_fit(linear_model, t_array, phase_array)\n",
    "\n",
    "                fitted_line = linear_model(t_array,linear_fit[0][0],linear_fit[0][1])\n",
    "\n",
    "                phase_array -= fitted_line\n",
    "                \n",
    "                if use_sg_filter == True:\n",
    "                    sg_filter = sg(phase_array,len(phase_array),sg_degree)\n",
    "                    \n",
    "                    phase_array -= sg_filter\n",
    "                    \n",
    "            \n",
    "            \n",
    "            \n",
    "        if plot_demod == True:\n",
    "            ax_demod.plot(t_array,phase_array+0.1*count,'.-')\n",
    "            ax_demod.plot(t_array[discontinuity_index],phase_array[discontinuity_index],'.',color='orange')\n",
    "            #ax_demod.set_ylim([-0.2,0.2])\n",
    "        \n",
    "        count += 1\n",
    "                \n",
    "    return t_array, phase_array\n",
    "\n",
    "def process_polarization_data(t_array, phase_array, f_sample, plot_polarization = False, intermediate_plotting_limits = [None, None], plot_input = False, plot_chunking_process = False, plot_fft = False, plot_fft_fit = False, plot_limited_fft = False, plot_limited_fft_fit = False, plot_vectors = False):\n",
    "    \n",
    "    if intermediate_plotting_limits[0] == None:\n",
    "        intermediate_plotting_limits[0] = t_array[0]\n",
    "    if intermediate_plotting_limits[1] == None:\n",
    "        intermediate_plotting_limits[1] = t_array[-1]\n",
    "    \n",
    "    if plot_input == True:\n",
    "        fig1, ax1 = plt.subplots(1)\n",
    "\n",
    "        ax1.plot(t_array,phase_array,'.-')\n",
    "        ax1.set_ylim([-0.1,0.1])\n",
    "\n",
    "    n_sample = f_sample*(t_array[-1]-t_array[0])# - t_interp[chunk_start_idx])\n",
    "    print(n_sample)\n",
    "    n_pts_sample = len(t_array) / n_sample\n",
    "\n",
    "    print(n_pts_sample)\n",
    "\n",
    "    idx_increase = round(n_pts_sample)\n",
    "\n",
    "    chunks = range(int(n_sample))\n",
    "\n",
    "    if plot_chunking_process == True:\n",
    "        fig2, ax2 = plt.subplots(1)\n",
    "        fig3, ax3 = plt.subplots(1)\n",
    "\n",
    "    amplitude_array = np.array([])\n",
    "    t_sampled = np.array([])\n",
    "    for chunk in chunks:\n",
    "\n",
    "        start = idx_increase*chunk\n",
    "        stop = idx_increase*(chunk + 1)\n",
    "\n",
    "        #print(start,stop)\n",
    "\n",
    "\n",
    "\n",
    "        t_chunk = t_array[start:stop]\n",
    "        phase_chunk = phase_array[start:stop]\n",
    "\n",
    "        average = np.average(phase_chunk)\n",
    "\n",
    "        phase_chunk -= average\n",
    "        \n",
    "        if plot_chunking_process == True:\n",
    "            ax2.plot(t_chunk,phase_chunk)\n",
    "            ax2.set_ylim([-0.1,0.1])\n",
    "\n",
    "        diff = np.median(np.diff(t_chunk))\n",
    "        t_zero_pad = np.append(t_chunk, np.linspace(t_chunk[-1]+diff, (t_chunk[-1]+diff) + (t_chunk[-1] - t_chunk[0]), len(t_chunk)))\n",
    "        phase_zero_pad = np.append(phase_chunk, np.zeros(len(phase_chunk)))\n",
    "\n",
    "        if plot_chunking_process == True:\n",
    "            ax3.plot(t_zero_pad, phase_zero_pad)\n",
    "            ax3.set_ylim([-0.1,0.1])\n",
    "\n",
    "        fft_power = fft(phase_zero_pad)\n",
    "        fft_freq = fftfreq(len(phase_zero_pad), np.median(np.diff(t_zero_pad)))\n",
    "        \n",
    "        if plot_fft == True and t_array[0] >= intermediate_plotting_limits[0] and t_array[0] <= intermediate_plotting_limits[1]:\n",
    "            fig4, ax4 = plt.subplots(1)\n",
    "            ax4.stem(fft_freq, np.abs(fft_power))\n",
    "\n",
    "        fft_fit = ifft(fft_power)\n",
    "        \n",
    "        if plot_fft_fit == True and t_array[0] >= intermediate_plotting_limits[0] and t_array[0] <= intermediate_plotting_limits[1]:\n",
    "            fig5, ax5 = plt.subplots(1)\n",
    "            ax5.plot(t_zero_pad, phase_zero_pad,'.')\n",
    "            ax5.plot(t_zero_pad, fft_fit,'-')\n",
    "\n",
    "        fft_remove_dc = deepcopy(fft_power)\n",
    "        fft_remove_dc[0] = 0\n",
    "\n",
    "        fundamental_idx = np.argmax(np.abs(fft_remove_dc))\n",
    "        #print(f'fundamental_idx: {fundamental_idx}')\n",
    "\n",
    "\n",
    "        mask = np.zeros(len(fft_remove_dc))\n",
    "        n=1\n",
    "        try:\n",
    "            for i in range(n):\n",
    "                np.put(mask, [0, fundamental_idx*(i+1), len(fft_remove_dc)-(fundamental_idx*(i+1))], 1.0)\n",
    "        except IndexError:\n",
    "            print('Harmonic setting (n) too high. Using highest harmonic available.')\n",
    "\n",
    "        fft_masked = fft_remove_dc*mask\n",
    "        \n",
    "        if plot_limited_fft == True and t_array[0] >= intermediate_plotting_limits[0] and t_array[0] <= intermediate_plotting_limits[1]:\n",
    "            fig6, ax6 = plt.subplots(1)\n",
    "            ax6.stem(fft_freq,np.abs(fft_masked))\n",
    "\n",
    "        fft_masked_fit = ifft(fft_masked)\n",
    "        \n",
    "        print(t_chunk[0])\n",
    "        print(intermediate_plotting_limits[0], intermediate_plotting_limits[1])\n",
    "        \n",
    "        if plot_limited_fft_fit and t_chunk[0] >= intermediate_plotting_limits[0] and t_chunk[0] <= intermediate_plotting_limits[1]:\n",
    "            fig7, ax7 = plt.subplots(1)\n",
    "            ax7.plot(t_zero_pad, phase_zero_pad,'-')\n",
    "            ax7.plot(t_zero_pad, fft_masked_fit,'-')\n",
    "\n",
    "\n",
    "        angle = np.arctan(np.imag(fft_masked[fundamental_idx])/np.real(fft_masked[fundamental_idx])) \n",
    "        #print(angle)\n",
    "\n",
    "        vec = np.array([0+1j*0, fft_masked[fundamental_idx]])\n",
    "\n",
    "        if np.imag(fft_masked[fundamental_idx]) == 0: #on real axis\n",
    "            rotation_factor = np.exp(-1j*angle)         \n",
    "        elif np.real(fft_masked[fundamental_idx]) == 0 and np.imag(fft_masked[fundamental_idx]) > 0:\n",
    "            rotation_factor = np.exp(-1j*angle)\n",
    "        elif np.real(fft_masked[fundamental_idx]) == 0 and np.imag(fft_masked[fundamental_idx]) < 0:\n",
    "            rotation_factor = 1\n",
    "        elif np.real(fft_masked[fundamental_idx]) > 0 and np.imag(fft_masked[fundamental_idx]) != 0:\n",
    "            rotation_factor = np.exp(-1j*angle)\n",
    "        elif np.real(fft_masked[fundamental_idx]) < 0 and np.imag(fft_masked[fundamental_idx]) != 0:\n",
    "            rotation_factor = np.exp(-1j*(angle + np.pi))\n",
    "\n",
    "\n",
    "\n",
    "\n",
    "\n",
    "        rotated_vec = rotation_factor*vec\n",
    "        #print(rotated_vec)\n",
    "\n",
    "        if plot_vectors == True and t_array[0] >= intermediate_plotting_limits[0] and t_array[0] <= intermediate_plotting_limits[1]:\n",
    "            fig8, ax8 = plt.subplots(1)\n",
    "            ax8.plot(np.real(vec), np.imag(vec),'-')\n",
    "            ax8.plot(np.real(rotated_vec), np.imag(rotated_vec),'-')\n",
    "\n",
    "        amplitude_array = np.append(amplitude_array, np.real(rotated_vec[1]))\n",
    "        t_sampled = np.append(t_sampled, np.average(t_chunk))\n",
    "\n",
    "\n",
    "    if plot_polarization == True:\n",
    "        fig9, ax9 = plt.subplots(1)\n",
    "        ax9.plot(t_sampled, amplitude_array,'.-')\n",
    "    \n",
    "    return t_sampled, amplitude_array\n",
    "\n",
    "\n",
    "#==========================================================================================================\n",
    "\n",
    "t = test_ts_processed['fr t']\n",
    "sig = test_ts_processed['fr data']\n",
    "channels = [130]#np.arange(130,141,1)#range(len(test_ts_processed['demod data'])) #136,137 in LN2 set is a good chopped channel\n",
    "chunks_demod = range(len(test_ts_processed['reset indices'])-2)\n",
    "n_zeroed = 0\n",
    "f_fr = 15 #Hz\n",
    "\n",
    "full_pol_amp_array = np.array([])\n",
    "full_t_array = np.array([])\n",
    "\n",
    "for i in tqdm(range(10)):\n",
    "\n",
    "    start_idx = find_nearest_idx(t,60*i)\n",
    "    stop_idx = find_nearest_idx(t,60*(i+1))\n",
    "    \n",
    "    #print(start_idx,stop_idx)\n",
    "    #print(t[start_idx:stop_idx])\n",
    "    \n",
    "    reduced_reset_indices = test_ts_processed['reset indices'][test_ts_processed['reset indices'] <= stop_idx]\n",
    "    reduced_reset_indices = reduced_reset_indices[reduced_reset_indices >= start_idx]\n",
    "    \n",
    "    #print(reduced_reset_indices)\n",
    "    \n",
    "    #print(len(t[start_idx:stop_idx]))\n",
    "    \n",
    "    #reset_indices = \n",
    "    \n",
    "    \n",
    "    n_points_no_interp = (t[-1]-t[0])*f_fr\n",
    "    idx_increase_no_interp = int(n_points_no_interp)\n",
    "    endpoint_idx = find_nearest_idx(t_chunk,t[test_ts_processed['start index']] + idx_increase_no_interp*(chunk+1) - n_zeroed)\n",
    "            \n",
    "    \n",
    "    \n",
    "    chunks_demod = range(len(reduced_reset_indices)-2)\n",
    "    print(chunks_demod)\n",
    "\n",
    "    \n",
    "    t_array, phase_array = demodulate(t=t[start_idx:stop_idx],\n",
    "                                      sig=sig[:,start_idx:stop_idx],\n",
    "                                      channels=channels,\n",
    "                                      cunks=chunks_demod,\n",
    "                                      n_zeroed=n_zeroed,\n",
    "                                      f_fr=f_fr,\n",
    "                                      time_method='original',\n",
    "                                      phase_units='n_Phi0',\n",
    "                                      correct_accumulated_phase=True,\n",
    "                                      use_sg_filter=False,\n",
    "                                      sg_degree=2,\n",
    "                                      plot_demod = True,\n",
    "                                      intermediate_plotting_limits = [195, 205], #s #430 440 (155,157 plots)\n",
    "                                      plot_chunking_process = False,\n",
    "                                      plot_fft = False,\n",
    "                                      plot_limited_fft = False,\n",
    "                                      plot_fit = False,\n",
    "                                      plot_vectors = False,\n",
    "                                      plot_phase = False,\n",
    "                                      verbose = False)\n",
    "    \n",
    "    f_sample = 1/3 #Hz        \n",
    "    try:\n",
    "        t_sampled, amplitude_array = process_polarization_data(t_array=t_array, \n",
    "                                                               phase_array = phase_array, \n",
    "                                                               f_sample = f_sample, \n",
    "                                                               plot_polarization = False, \n",
    "                                                               intermediate_plotting_limits = [195, 205], #s\n",
    "                                                               plot_input = False, \n",
    "                                                               plot_chunking_process = False, \n",
    "                                                               plot_fft = False, \n",
    "                                                               plot_fft_fit = False, \n",
    "                                                               plot_limited_fft = False, \n",
    "                                                               plot_limited_fft_fit = True, \n",
    "                                                               plot_vectors = False)\n",
    "    \n",
    "    except:\n",
    "        pass\n",
    "    \n",
    "    full_t_array = np.append(full_t_array, t_sampled)\n",
    "    full_pol_amp_array = np.append(full_pol_amp_array, amplitude_array)\n",
    "    \n",
    "    fig10, ax10 = plt.subplots(1)\n",
    "    \n",
    "    ax10.plot(full_t_array, full_pol_amp_array,'.-')\n",
    "    ax10.set_xlabel('t (s)')\n",
    "    ax10.set_ylabel('Chop Amplitude ($n_{\\Phi_0}$)')\n",
    "    "
   ]
  },
  {
   "cell_type": "code",
   "execution_count": 242,
   "id": "c8c0937f-4de8-4812-bd7f-5e9024cb4c38",
   "metadata": {},
   "outputs": [
    {
     "name": "stdout",
     "output_type": "stream",
     "text": [
      "0.8607499997277291\n",
      "0.5165391542602166\n",
      "[ 0.34213607  0.00752879 -0.03181946  0.51733743]\n"
     ]
    }
   ],
   "source": [
    "fig, ax = plt.subplots(1,figsize=(11,8))\n",
    "\n",
    "ax.plot(full_t_array, full_pol_amp_array,'.',label='Raw Data')\n",
    "\n",
    "pol_amp_normalized = full_pol_amp_array / np.max(full_pol_amp_array)\n",
    "\n",
    "ax.plot(full_t_array, pol_amp_normalized,'.',label='Normalized Data')\n",
    "\n",
    "def sinusoid(t, amplitude, frequency, phase, offset):\n",
    "    return amplitude*np.cos(2*np.pi*frequency*t - phase) + offset\n",
    "\n",
    "amplitude_guess = np.max(pol_amp_normalized) - np.min(pol_amp_normalized)\n",
    "print(amplitude_guess)\n",
    "\n",
    "offset_guess = np.average(pol_amp_normalized)\n",
    "print(offset_guess)\n",
    "\n",
    "\n",
    "\n",
    "\n",
    "sinusoidal_fit,sinusoidal_fit_cov = curve_fit(sinusoid, full_t_array, pol_amp_normalized,p0=[amplitude_guess,0.008,1,offset_guess])\n",
    "\n",
    "\n",
    "t_test = np.linspace(full_t_array[0],full_t_array[-1],10000)\n",
    "ax.plot(t_test, sinusoid(t_test, sinusoidal_fit[0], sinusoidal_fit[1], sinusoidal_fit[2], sinusoidal_fit[3]),'-',label=f'Fit: A(t) = {round(sinusoidal_fit[0],3)}*cos(2*pi*{round(sinusoidal_fit[1],3)}*t - {round(sinusoidal_fit[2],3)}) + {round(sinusoidal_fit[3],3)}')\n",
    "\n",
    "ax.set_xlabel('t (s)',fontsize=30)\n",
    "ax.set_ylabel('Amplitude (arb.)',fontsize=30)\n",
    "ax.set_ylim([-0.01,1.3])\n",
    "ax.tick_params(axis='both', which='major', labelsize=20)\n",
    "ax.legend(loc='upper right',fontsize=15)\n",
    "\n",
    "\n",
    "\n",
    "\n",
    "\n",
    "print(sinusoidal_fit)"
   ]
  },
  {
   "cell_type": "code",
   "execution_count": 184,
   "id": "99117643-f035-45ed-b90a-516af728d5f6",
   "metadata": {},
   "outputs": [
    {
     "name": "stdout",
     "output_type": "stream",
     "text": [
      "[1.28396027 1.27979123 1.27563049 1.27147803 1.26733387 1.26319799\n",
      " 1.25907041 1.25495111 1.25084011 1.2467374  1.24264297 1.23855684\n",
      " 1.234479   1.23040945 1.22634819 1.22229522 1.21825055 1.21421416\n",
      " 1.21018607 1.20616627 1.20215475 1.19815153 1.1941566  1.19016997\n",
      " 1.18619162 1.18222157 1.17825981 1.17430634 1.17036116 1.16642427\n",
      " 1.16249568 1.15857537 1.15466336 1.15075964 1.14686422 1.14297708\n",
      " 1.13909824 1.13522769 1.13136544 1.12751147 1.1236658  1.11982842\n",
      " 1.11599934 1.11217854 1.10836604 1.10456183 1.10076592 1.0969783\n",
      " 1.09319897 1.08942793 1.08566519 1.08191074 1.07816459 1.07442672\n",
      " 1.07069716 1.06697588 1.0632629  1.05955821 1.05586182 1.05217372\n",
      " 1.04849391 1.0448224  1.04115918 1.03750425 1.03385762 1.03021929\n",
      " 1.02658924 1.02296749 1.01935404 1.01574888 1.01215202 1.00856345\n",
      " 1.00498317 1.00141119 0.9978475  0.99429211 0.99074501 0.98720621\n",
      " 0.9836757  0.98015349 0.97663958 0.97313395 0.96963663 0.9661476\n",
      " 0.96266686 0.95919442 0.95573027 0.95227442 0.94882687 0.94538761\n",
      " 0.94195665 0.93853398 0.93511961 0.93171353 0.92831576 0.92492627\n",
      " 0.92154508 0.91817219 0.9148076  0.9114513  0.9081033  0.90476359\n",
      " 0.90143218 0.89810907 0.89479425 0.89148773 0.88818951 0.88489958\n",
      " 0.88161795 0.87834462 0.87507958 0.87182284 0.8685744  0.86533426\n",
      " 0.86210241 0.85887886 0.85566361 0.85245665 0.84925799 0.84606763\n",
      " 0.84288557 0.8397118  0.83654634 0.83338917 0.83024029 0.82709972\n",
      " 0.82396744 0.82084346 0.81772778 0.8146204  0.81152132 0.80843053\n",
      " 0.80534804 0.80227386 0.79920796 0.79615037 0.79310108 0.79006008\n",
      " 0.78702739 0.78400299 0.78098689 0.77797909 0.77497959 0.77198839\n",
      " 0.76900548 0.76603088 0.76306458 0.76010657 0.75715686 0.75421546\n",
      " 0.75128235 0.74835754 0.74544103 0.74253282 0.73963291 0.7367413\n",
      " 0.733858   0.73098299 0.72811628 0.72525787 0.72240776 0.71956595\n",
      " 0.71673244 0.71390723 0.71109032 0.70828171 0.7054814  0.70268939\n",
      " 0.69990569 0.69713028 0.69436317 0.69160437 0.68885386 0.68611166\n",
      " 0.68337776 0.68065215 0.67793485 0.67522585 0.67252516 0.66983276\n",
      " 0.66714866 0.66447287 0.66180537 0.65914618 0.65649529 0.6538527\n",
      " 0.65121842 0.64859243 0.64597475 0.64336537 0.64076429 0.63817151\n",
      " 0.63558703 0.63301086 0.63044299 0.62788342 0.62533215 0.62278919\n",
      " 0.62025452 0.61772816 0.61521011 0.61270035 0.6101989  0.60770575\n",
      " 0.6052209  0.60274436 0.60027612 0.59781618 0.59536455 0.59292121\n",
      " 0.59048619 0.58805946 0.58564104 0.58323092 0.5808291  0.57843559\n",
      " 0.57605038 0.57367348 0.57130488 0.56894458 0.56659259 0.5642489\n",
      " 0.56191351 0.55958643 0.55726765 0.55495718 0.55265501 0.55036114\n",
      " 0.54807558 0.54579832 0.54352937 0.54126872 0.53901638 0.53677234\n",
      " 0.5345366  0.53230917 0.53009005 0.52787923 0.52567671 0.5234825\n",
      " 0.5212966  0.519119   0.5169497  0.51478871 0.51263603 0.51049165\n",
      " 0.50835557 0.5062278  0.50410834 0.50199718 0.49989433 0.49779978\n",
      " 0.49571354 0.49363561 0.49156598 0.48950466 0.48745164 0.48540693\n",
      " 0.48337052 0.48134243 0.47932263 0.47731115 0.47530797 0.4733131\n",
      " 0.47132653 0.46934827 0.46737832 0.46541667 0.46346333 0.46151829\n",
      " 0.45958157 0.45765315 0.45573304 0.45382123 0.45191773 0.45002254\n",
      " 0.44813566 0.44625708 0.44438681 0.44252485 0.4406712  0.43882585\n",
      " 0.43698881 0.43516008 0.43333966 0.43152754 0.42972373 0.42792823\n",
      " 0.42614104 0.42436216 0.42259158 0.42082931 0.41907535 0.4173297\n",
      " 0.41559236 0.41386332 0.4121426  0.41043018 0.40872607 0.40703027\n",
      " 0.40534278 0.4036636  0.40199272 0.40033016 0.3986759  0.39702996\n",
      " 0.39539232 0.39376299 0.39214197 0.39052926 0.38892486 0.38732877\n",
      " 0.38574099 0.38416151 0.38259035 0.3810275  0.37947296 0.37792672\n",
      " 0.3763888  0.37485918 0.37333788 0.37182489 0.3703202  0.36882383\n",
      " 0.36733577 0.36585601 0.36438457 0.36292144 0.36146662 0.36002011\n",
      " 0.35858191 0.35715202 0.35573044 0.35431717 0.35291221 0.35151556\n",
      " 0.35012723 0.3487472  0.34737549 0.34601209 0.344657   0.34331022\n",
      " 0.34197175 0.34064159 0.33931974 0.33800621 0.33670099 0.33540408\n",
      " 0.33411548 0.33283519 0.33156321 0.33029955 0.3290442  0.32779716\n",
      " 0.32655843 0.32532802 0.32410591 0.32289212 0.32168664 0.32048948\n",
      " 0.31930062 0.31812008 0.31694785 0.31578394 0.31462833 0.31348104\n",
      " 0.31234206 0.3112114  0.31008905 0.30897501 0.30786928 0.30677187\n",
      " 0.30568277 0.30460198 0.30352951 0.30246535 0.30140951 0.30036197\n",
      " 0.29932275 0.29829185 0.29726926 0.29625498 0.29524901 0.29425136\n",
      " 0.29326203 0.29228101 0.2913083  0.2903439  0.28938782 0.28844006\n",
      " 0.28750061 0.28656947 0.28564665 0.28473214 0.28382595 0.28292807\n",
      " 0.2820385  0.28115725 0.28028432 0.2794197  0.27856339 0.2777154\n",
      " 0.27687573 0.27604437 0.27522133 0.2744066  0.27360018 0.27280209\n",
      " 0.2720123  0.27123083 0.27045768 0.26969285 0.26893633 0.26818812\n",
      " 0.26744823 0.26671666 0.2659934  0.26527846 0.26457184 0.26387353\n",
      " 0.26318353 0.26250186 0.2618285  0.26116345 0.26050672 0.25985831\n",
      " 0.25921822 0.25858644 0.25796298 0.25734784 0.25674101 0.2561425\n",
      " 0.2555523  0.25497043 0.25439687 0.25383162 0.2532747  0.25272609\n",
      " 0.2521858  0.25165383 0.25113017 0.25061483 0.25010781 0.24960911\n",
      " 0.24911872 0.24863665 0.2481629  0.24769747 0.24724035 0.24679156\n",
      " 0.24635108 0.24591892 0.24549508 0.24507955 0.24467235 0.24427346\n",
      " 0.24388289 0.24350064 0.24312671 0.24276109 0.2424038  0.24205482\n",
      " 0.24171417 0.24138183 0.24105781 0.24074211 0.24043473 0.24013567\n",
      " 0.23984492 0.2395625  0.23928839 0.23902261 0.23876514 0.238516\n",
      " 0.23827517 0.23804266 0.23781847 0.23760261 0.23739506 0.23719583\n",
      " 0.23700492 0.23682233 0.23664806 0.23648212 0.23632449 0.23617518\n",
      " 0.23603419 0.23590153 0.23577718 0.23566115 0.23555345 0.23545406\n",
      " 0.235363   0.23528025 0.23520583 0.23513973 0.23508195 0.23503248\n",
      " 0.23499135 0.23495853 0.23493403 0.23491785 0.23491    0.23491047\n",
      " 0.23491925 0.23493636 0.23496179 0.23499555 0.23503762 0.23508802\n",
      " 0.23514673 0.23521377 0.23528914 0.23537282 0.23546482 0.23556515\n",
      " 0.2356738  0.23579077 0.23591607 0.23604968 0.23619162 0.23634188\n",
      " 0.23650047 0.23666737 0.2368426  0.23702615 0.23721803 0.23741823\n",
      " 0.23762675 0.23784359 0.23806875 0.23830224 0.23854406 0.23879419\n",
      " 0.23905265 0.23931943 0.23959454 0.23987797 0.24016972 0.2404698\n",
      " 0.2407782  0.24109492 0.24141997 0.24175334 0.24209503 0.24244505\n",
      " 0.24280339 0.24317006 0.24354505 0.24392837 0.24432    0.24471997\n",
      " 0.24512826 0.24554487 0.24596981 0.24640307 0.24684465 0.24729456\n",
      " 0.2477528  0.24821936 0.24869425 0.24917746 0.24966899 0.25016885\n",
      " 0.25067704 0.25119355 0.25171838 0.25225154 0.25279303 0.25334284\n",
      " 0.25390098 0.25446744 0.25504223 0.25562535 0.25621679 0.25681655\n",
      " 0.25742464 0.25804106 0.2586658  0.25929887 0.25994027 0.26058999\n",
      " 0.26124804 0.26191441 0.26258911 0.26327214 0.2639635  0.26466318\n",
      " 0.26537118 0.26608752 0.26681218 0.26754516 0.26828648 0.26903612\n",
      " 0.26979409 0.27056038 0.271335   0.27211795 0.27290923 0.27370883\n",
      " 0.27451676 0.27533302 0.27615761 0.27699052 0.27783176 0.27868133\n",
      " 0.27953923 0.28040545 0.28128    0.28216288 0.28305409 0.28395363\n",
      " 0.28486149 0.28577769 0.28670221 0.28763505 0.28857623 0.28952574\n",
      " 0.29048357 0.29144973 0.29242423 0.29340705 0.29439819 0.29539767\n",
      " 0.29640548 0.29742161 0.29844608 0.29947887 0.30051999 0.30156944\n",
      " 0.30262722 0.30369333 0.30476777 0.30585054 0.30694164 0.30804107\n",
      " 0.30914882 0.31026491 0.31138933 0.31252207 0.31366315 0.31481256\n",
      " 0.31597029 0.31713636 0.31831076 0.31949348 0.32068454 0.32188393\n",
      " 0.32309164 0.32430769 0.32553207 0.32676478 0.32800582 0.32925519\n",
      " 0.33051289 0.33177892 0.33305328 0.33433597 0.335627   0.33692635\n",
      " 0.33823404 0.33955005 0.3408744  0.34220708 0.34354809 0.34489744\n",
      " 0.34625511 0.34762111 0.34899545 0.35037812 0.35176912 0.35316845\n",
      " 0.35457612 0.35599211 0.35741644 0.3588491  0.36029009 0.36173941\n",
      " 0.36319707 0.36466306 0.36613738 0.36762003 0.36911102 0.37061034\n",
      " 0.37211799 0.37363397 0.37515829 0.37669093 0.37823192 0.37978123\n",
      " 0.38133888 0.38290486 0.38447917 0.38606182 0.3876528  0.38925211\n",
      " 0.39085976 0.39247574 0.39410005 0.3957327  0.39737368 0.39902299\n",
      " 0.40068064 0.40234662 0.40402093 0.40570358 0.40739457 0.40909388\n",
      " 0.41080153 0.41251752 0.41424184 0.41597449 0.41771548 0.4194648\n",
      " 0.42122246 0.42298845 0.42476277 0.42654543 0.42833643 0.43013576\n",
      " 0.43194342 0.43375942 0.43558376 0.43741643 0.43925743 0.44110677\n",
      " 0.44296444 0.44483045 0.4467048  0.44858748 0.45047849 0.45237785\n",
      " 0.45428553 0.45620156 0.45812591 0.46005861 0.46199964 0.463949\n",
      " 0.4659067  0.46787274 0.46984712 0.47182983 0.47382087 0.47582025\n",
      " 0.47782797 0.47984403 0.48186842 0.48390115 0.48594221 0.48799161\n",
      " 0.49004935 0.49211542 0.49418983 0.49627258 0.49836367 0.50046309\n",
      " 0.50257085 0.50468694 0.50681138 0.50894415 0.51108525 0.5132347\n",
      " 0.51539248 0.5175586  0.51973306 0.52191585 0.52410698 0.52630646\n",
      " 0.52851426 0.53073041 0.53295489 0.53518771 0.53742887 0.53967837\n",
      " 0.54193621 0.54420238 0.5464769  0.54875975 0.55105094 0.55335046\n",
      " 0.55565833 0.55797454 0.56029908 0.56263196 0.56497318 0.56732274\n",
      " 0.56968064 0.57204688 0.57442146 0.57680437 0.57919563 0.58159522\n",
      " 0.58400315 0.58641943 0.58884404 0.59127699 0.59371828 0.59616791\n",
      " 0.59862588 0.60109219 0.60356684 0.60604983 0.60854116 0.61104083\n",
      " 0.61354884 0.61606519 0.61858988 0.62112291 0.62366428 0.62621399\n",
      " 0.62877205 0.63133844 0.63391317 0.63649624 0.63908765 0.64168741\n",
      " 0.6442955  0.64691194 0.64953672 0.65216983 0.65481129 0.65746109\n",
      " 0.66011923 0.66278571 0.66546054 0.6681437  0.67083521 0.67353505\n",
      " 0.67624324 0.67895977 0.68168465 0.68441786 0.68715941 0.68990931\n",
      " 0.69266755 0.69543413 0.69820906 0.70099232 0.70378393 0.70658388\n",
      " 0.70939217 0.7122088  0.71503378 0.7178671  0.72070876 0.72355876\n",
      " 0.72641711 0.7292838  0.73215883 0.73504221 0.73793392 0.74083398\n",
      " 0.74374239 0.74665914 0.74958423 0.75251766 0.75545943 0.75840955\n",
      " 0.76136802 0.76433482 0.76730997 0.77029347 0.7732853  0.77628548\n",
      " 0.77929401 0.78231088 0.78533609 0.78836965 0.79141155 0.79446179\n",
      " 0.79752038 0.80058731 0.80366259 0.80674621 0.80983817 0.81293848\n",
      " 0.81604714 0.81916414 0.82228948 0.82542317 0.8285652  0.83171558\n",
      " 0.8348743  0.83804137 0.84121678 0.84440054 0.84759264 0.85079309\n",
      " 0.85400188 0.85721902 0.8604445  0.86367833 0.86692051 0.87017103\n",
      " 0.87342989 0.8766971  0.87997266 0.88325656 0.88654881 0.88984941\n",
      " 0.89315835 0.89647563 0.89980127 0.90313525 0.90647757 0.90982824\n",
      " 0.91318726 0.91655462 0.91993034 0.92331439 0.9267068  0.93010755\n",
      " 0.93351664 0.93693409 0.94035988 0.94379402 0.9472365  0.95068733\n",
      " 0.95414651 0.95761404 0.96108991 0.96457413 0.9680667  0.97156762\n",
      " 0.97507688 0.97859449 0.98212045 0.98565475 0.98919741 0.99274841\n",
      " 0.99630775 0.99987545 1.0034515  1.00703589 1.01062863 1.01422972\n",
      " 1.01783916 1.02145694 1.02508308 1.02871756 1.03236039 1.03601157\n",
      " 1.0396711  1.04333897 1.0470152  1.05069977 1.05439269 1.05809397\n",
      " 1.06180359 1.06552156 1.06924787 1.07298254 1.07672556 1.08047693\n",
      " 1.08423664 1.08800471 1.09178112 1.09556589 1.099359   1.10316046\n",
      " 1.10697028 1.11078844 1.11461495 1.11844981 1.12229303 1.12614459\n",
      " 1.1300045  1.13387276 1.13774938 1.14163434 1.14552765 1.14942932\n",
      " 1.15333933 1.1572577  1.16118441 1.16511948 1.16906289 1.17301466\n",
      " 1.17697478 1.18094325 1.18492007 1.18890524 1.19289876 1.19690064\n",
      " 1.20091086 1.20492944 1.20895636 1.21299164 1.21703527 1.22108725\n",
      " 1.22514759 1.22921627 1.23329331 1.23737869 1.24147243 1.24557453\n",
      " 1.24968497 1.25380377 1.25793091 1.26206641]\n"
     ]
    },
    {
     "data": {
      "text/plain": [
       "[<matplotlib.lines.Line2D at 0x7f8f00c3ab30>]"
      ]
     },
     "execution_count": 184,
     "metadata": {},
     "output_type": "execute_result"
    }
   ],
   "source": [
    "%matplotlib qt\n",
    "from scipy.interpolate import pade\n",
    "from scipy.signal import savgol_filter as sg\n",
    "from numpy.random import rand\n",
    "\n",
    "x = np.linspace(-10,10,1000)\n",
    "y = 1/100*x**2\n",
    "\n",
    "noise = rand(len(x))\n",
    "sig = y + 0.5*noise\n",
    "\n",
    "plt.plot(x,sig)\n",
    "\n",
    "sg_filter = sg(sig,len(sig),3)\n",
    "\n",
    "print(sg_filter)\n",
    "\n",
    "plt.plot(x,sg_filter)\n",
    "\n",
    "plt.plot(x,sig-sg_filter)"
   ]
  }
 ],
 "metadata": {
  "kernelspec": {
   "display_name": "Python 3 (ipykernel)",
   "language": "python",
   "name": "python3"
  },
  "language_info": {
   "codemirror_mode": {
    "name": "ipython",
    "version": 3
   },
   "file_extension": ".py",
   "mimetype": "text/x-python",
   "name": "python",
   "nbconvert_exporter": "python",
   "pygments_lexer": "ipython3",
   "version": "3.10.5"
  }
 },
 "nbformat": 4,
 "nbformat_minor": 5
}
