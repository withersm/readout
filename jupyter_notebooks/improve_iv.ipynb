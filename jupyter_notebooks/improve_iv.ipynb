{
 "cells": [
  {
   "cell_type": "code",
   "execution_count": 1,
   "id": "a59915bb",
   "metadata": {},
   "outputs": [],
   "source": [
    "#this script tries to improve the iv analysis\n",
    "#trying to correct the jump/unwrap issue when Ites changes to fast with the current Ibias resoluation"
   ]
  },
  {
   "cell_type": "code",
   "execution_count": 4,
   "id": "57882b69",
   "metadata": {},
   "outputs": [
    {
     "name": "stderr",
     "output_type": "stream",
     "text": [
      "/tmp/ipykernel_1147980/2354833800.py:5: DeprecationWarning: the imp module is deprecated in favour of importlib and slated for removal in Python 3.12; see the module's documentation for alternative uses\n",
      "  import imp\n"
     ]
    }
   ],
   "source": [
    "import matplotlib.pyplot as plt\n",
    "import sys\n",
    "sys.path.append('/home/matt/readout/host/')\n",
    "import ali_offline_demod as dm\n",
    "import imp\n",
    "import numpy as np\n",
    "imp.reload(dm)\n",
    "from scipy.signal import savgol_filter, find_peaks"
   ]
  },
  {
   "cell_type": "code",
   "execution_count": 5,
   "id": "0a1d5689",
   "metadata": {},
   "outputs": [],
   "source": [
    "path = 'improve_iv_test_data/'\n",
    "\n",
    "demod=np.loadtxt(path+'demod.txt')\n",
    "Ibias=np.loadtxt(path+'bias_data_20240201160810.txt')\n",
    "t_demod=np.loadtxt(path+'t_demod.txt')\n",
    "\n",
    "\n"
   ]
  },
  {
   "cell_type": "code",
   "execution_count": 6,
   "id": "3c6e59fe",
   "metadata": {},
   "outputs": [],
   "source": [
    "%matplotlib qt\n",
    "for ch in range(demod.shape[0]):\n",
    "    plt.plot(demod[ch])"
   ]
  },
  {
   "cell_type": "code",
   "execution_count": 7,
   "id": "93790527",
   "metadata": {},
   "outputs": [],
   "source": [
    "def get_mean_current(bias_info,times,data):\n",
    "    \"\"\"\n",
    "    get the mean of Ites for all channels based on bias values and times\n",
    "    time is unix time\n",
    "    data is the output dm.demodulate, in unit of phi0 numbers\n",
    "    \"\"\"\n",
    "    data_bin=np.zeros((data.shape[0],bias_info.shape[0]))\n",
    "    print (data_bin.shape)\n",
    "    for j in range(data.shape[0]):\n",
    "        data_ch=data[j]\n",
    "        for i in range(bias_info.shape[0]):\n",
    "            bs_time=bias_info[i,0]\n",
    "            chunck=data_ch[np.where((times>bs_time+0.4)&(times<bs_time+1.6))]\n",
    "            data_bin[j,i]=np.mean(chunck)\n",
    "    data_bin=np.apply_along_axis(unwrap_change_current_per_chan, 1, data_bin)\n",
    "    return data_bin \n",
    "\n",
    "def unwrap_change_current_per_chan(data_ch):\n",
    "    data_ch_unwrap=np.unwrap(data_ch,discont=0.48,period=1)\n",
    "    data_ch_uA=data_ch_unwrap*9\n",
    "    return data_ch_uA"
   ]
  },
  {
   "cell_type": "code",
   "execution_count": 8,
   "id": "5301ea8c",
   "metadata": {},
   "outputs": [
    {
     "name": "stdout",
     "output_type": "stream",
     "text": [
      "(235, 187)\n",
      "[[ 1.34189561  1.269452    1.3742307  ...  0.71600167  0.84121438\n",
      "   0.81833873]\n",
      " [-1.04930274 -1.02349154 -0.98450433 ... -1.20533495 -1.13165521\n",
      "  -1.13291144]\n",
      " [ 0.45861181  0.4822657   0.51014485 ...  0.41317694  0.49743002\n",
      "   0.40071808]\n",
      " ...\n",
      " [ 0.36450675  0.39996255  0.42018264 ...  0.31914634  0.41055899\n",
      "   0.30550218]\n",
      " [ 2.59153268  2.62448729  2.65722618 ...  2.5426435   2.60200803\n",
      "   2.54477767]\n",
      " [ 1.25305558  1.28252024  1.29280133 ...  1.24326018  1.27817652\n",
      "   1.1708859 ]]\n"
     ]
    }
   ],
   "source": [
    "data_demods_bin = get_mean_current(Ibias,t_demod[0],demod/9)\n",
    "print(data_demods_bin)"
   ]
  },
  {
   "cell_type": "code",
   "execution_count": 9,
   "id": "e43c26ee",
   "metadata": {},
   "outputs": [],
   "source": [
    "%matplotlib qt\n",
    "for ch in range(data_demods_bin.shape[0]):\n",
    "    if np.max(data_demods_bin[ch])-np.min(data_demods_bin[ch])<20:continue\n",
    "    plt.plot(Ibias[:,1],data_demods_bin[ch],'b', alpha=0.1)\n",
    "    smooth=savgol_filter(data_demods_bin[ch], data_demods_bin[ch].shape[0], 10)\n",
    "    plt.plot(Ibias[:,1],smooth,'r', alpha=0.1)\n",
    "    dd=np.diff(np.diff(smooth))\n",
    "    ind_min=np.argmin(dd)+2\n",
    "    peaks_nb,_=find_peaks(0-data_demods_bin[ch],width=10)\n",
    "    #plt.vlines(Ibias[ind_max,1], -200,100,'orange')\n",
    "    if len(peaks_nb)>0 and np.max(data_demods_bin[ch])-np.min(data_demods_bin[ch])>20:\n",
    "        plt.vlines(Ibias[ind_min,1], -200,100,'green')\n",
    "        plt.vlines(Ibias[peaks_nb[0],1], -200,100,'orange')"
   ]
  },
  {
   "cell_type": "code",
   "execution_count": 10,
   "id": "837ce3c9",
   "metadata": {},
   "outputs": [],
   "source": [
    "%matplotlib qt\n",
    "for ch in range(data_demods_bin.shape[0]):\n",
    "    plt.plot(data_demods_bin[ch],'b', alpha=0.3)\n",
    "    plt.plot(np.diff(data_demods_bin[ch])*10,'r', alpha=0.3)"
   ]
  },
  {
   "cell_type": "code",
   "execution_count": 11,
   "id": "a8cf03aa",
   "metadata": {},
   "outputs": [],
   "source": [
    "def IV_correction(resps):\n",
    "    \"\"\"\n",
    "    This function smooth the IV curve and then find the normal and superconducting point\n",
    "    it will then try to correct the jump caused by unwrapping large Ites changes with current Ibias resolution\n",
    "    \"\"\" \n",
    "    #only getting Al TES normal point\n",
    "    peaks_nb,_=find_peaks(0-resps,width=20)\n",
    "    smooth=savgol_filter(data_demods_bin[ch], data_demods_bin[ch].shape[0], 10)\n",
    "    dd=np.diff(np.diff(smooth))\n",
    "    ind_sc=np.argmin(dd)+2\n",
    "    if len(peaks_nb)==0 or peaks_nb[0]<30:\n",
    "        return np.zeros(resps.shape[0])\n",
    "    peak_nb=peaks_nb[0]\n",
    "    #here we know that before peaks_nb[0] and after ind_sc the Ites is monotonic \n",
    "    resps_nb=resps[2:int(peak_nb-10)]\n",
    "    resps_sc=resps[int(ind_sc+10):-10]\n",
    "    resps_cor=np.zeros(resps.shape[0])\n",
    "    resps_cor_acc=np.zeros(resps.shape[0])\n",
    "    for i in range(resps.shape[0]):\n",
    "        if i>=2 and i<peak_nb-10 and resps[i]-resps[i-1]>0.5:\n",
    "            resps_cor[i]=-9\n",
    "        if i>= ind_sc+10 and i<resps.shape[0]-5 and resps[i]-resps[i-1]>0.5:\n",
    "            resps_cor[i]=-9\n",
    "    for i in range(resps.shape[0]):\n",
    "        if i>0:\n",
    "            resps_cor_acc[i]=np.sum(resps_cor[:i+1])\n",
    "    resps_corr=resps+resps_cor_acc\n",
    "    return resps_corr, ind_sc\n",
    "    \n",
    "        \n",
    "            \n",
    "    \n",
    "    \n",
    "    "
   ]
  },
  {
   "cell_type": "code",
   "execution_count": 12,
   "id": "01a6af91",
   "metadata": {},
   "outputs": [],
   "source": [
    "def IV_analysis_ch_duo(bias_currents,resps,Rsh=0.4,filter_Rn_Al=False,plot='None'):\n",
    "    \"\"\"\n",
    "    This method correct the SC and normal region for jump phi0 issue, and then fit for TES parameters\n",
    "    Outputs:\n",
    "    dataframe containing timestream of Ites,Rtes,Vtes,Rn_almn,Rn_al\n",
    "    \"\"\" \n",
    "    peaks_nb,_=find_peaks(0-resps,width=20)\n",
    "    max_ites=np.max(resps)\n",
    "    min_ites=np.min(resps)\n",
    "    if len(peaks_nb)==0 or peaks_nb[0] < 20 or max_ites-min_ites<20:\n",
    "        Rn_almn=np.nan\n",
    "        Rn_al=np.nan\n",
    "        Rtes=np.ones(bias_currents.shape[0])*np.nan\n",
    "        Vtes=np.ones(bias_currents.shape[0])*np.nan\n",
    "        Ites=np.ones(bias_currents.shape[0])*np.nan\n",
    "        bps=np.ones(bias_currents.shape[0])*np.nan\n",
    "        Pbias=np.ones(bias_currents.shape[0])*np.nan\n",
    "    else:   \n",
    "        peak_nb=peaks_nb[0]\n",
    "        resps_correct,peak_sc=IV_correction(resps)\n",
    "        resps_nb=resps_correct[2:int(peak_nb-10)]\n",
    "        resps_sc=resps_correct[int(peak_sc+10):-10]\n",
    "        bias_nb=bias_currents[2:peak_nb-10]\n",
    "        bias_sc=bias_currents[int(peak_sc+10):-10]\n",
    "        r_ratio_al,shift = np.polyfit(bias_nb, resps_nb, 1)\n",
    "        r_ratio_almn,shift_sc = np.polyfit(bias_sc, resps_sc, 1)\n",
    "        Rn_almn=Rsh/r_ratio_almn-Rsh*1e-3 #Ohm\n",
    "        Rn_al=Rsh/r_ratio_al-Rsh*1e-3-Rn_almn  #Ohm\n",
    "        #print ('normal resistance for al TES',Rn_al)\n",
    "        Ites=resps_correct-shift #uA\n",
    "        Ishunt=bias_currents*1e-3-Ites*1e-6 #A\n",
    "        Vshunt=Ishunt*Rsh*1e-3 #V\n",
    "        Rtes=Vshunt/(Ites*1e-6)-Rn_almn #Ohm\n",
    "        bps=Rtes/Rn_al\n",
    "        Vtes=Rtes*Ites#uV\n",
    "        Pbias=Ites**2*(Rtes+Rn_almn) #pW the overall heating caused by both Al and Almn\n",
    "\n",
    "        \n",
    "        if filter_Rn_Al == True:\n",
    "            if Rn_al < 5e-3 or Rn_al > 20e-3:##: #filter out non-responding channels\n",
    "                Rn_al=np.nan\n",
    "                Rtes=np.ones(bias_currents.shape[0])*np.nan\n",
    "                Vtes=np.ones(bias_currents.shape[0])*np.nan\n",
    "                Ites=np.ones(bias_currents.shape[0])*np.nan\n",
    "                bps=np.ones(bias_currents.shape[0])*np.nan\n",
    "        if plot=='org':\n",
    "            plt.gcf().subplots_adjust(bottom=0.2)\n",
    "            plt.gcf().subplots_adjust(left=0.2)\n",
    "            plt.tick_params(axis='both', which='major', labelsize=16)\n",
    "            plt.plot(bias_currents,Ites,alpha=0.8)\n",
    "            plt.xlabel('$I_{bias}$ (mA)',fontsize=18)\n",
    "            plt.ylabel('$I_{tes}$ (μA)',fontsize=18)\n",
    "\n",
    "\n",
    "        if plot=='IV':\n",
    "            plt.gcf().subplots_adjust(bottom=0.2)\n",
    "            plt.gcf().subplots_adjust(left=0.2)\n",
    "            plt.tick_params(axis='both', which='major', labelsize=16)\n",
    "            plt.plot(Vtes,Ites,alpha=0.8)\n",
    "            plt.xlabel('$V_{tes}$ (μV)',fontsize=18)\n",
    "            plt.ylabel('$I_{tes}$ (μA)',fontsize=18)\n",
    "        if plot=='bp':\n",
    "            plt.gcf().subplots_adjust(bottom=0.2)\n",
    "            plt.gcf().subplots_adjust(left=0.2)\n",
    "            plt.tick_params(axis='both', which='major', labelsize=16)\n",
    "            plt.plot(bias_currents,bps*100,alpha=0.3)\n",
    "            plt.ylim(0,1.2*100)\n",
    "            plt.ylabel('$\\%R_n$',fontsize=18)\n",
    "            plt.xlabel(r'$I_{bias}$',fontsize=18)\n",
    "        if plot=='pbias':\n",
    "            plt.gcf().subplots_adjust(bottom=0.2)\n",
    "            plt.gcf().subplots_adjust(left=0.2)\n",
    "            plt.tick_params(axis='both', which='major', labelsize=16)\n",
    "            plt.plot(Pbias,Rtes*1000,alpha=0.3)\n",
    "            plt.ylim(0,15)\n",
    "            plt.xlim(200,900)\n",
    "            plt.ylabel(r'$R_{tes}$',fontsize=18)\n",
    "            plt.xlabel(r'$P_{bias}$',fontsize=18)\n",
    "        print (Rn_almn)\n",
    "        print (Rn_al)\n",
    "    return Rn_almn,Rn_al,Rtes,Vtes,Ites,bps,Pbias"
   ]
  },
  {
   "cell_type": "code",
   "execution_count": 17,
   "id": "2ddfed29",
   "metadata": {},
   "outputs": [
    {
     "name": "stdout",
     "output_type": "stream",
     "text": [
      "0.008236722765843309\n",
      "0.012669464469843779\n",
      "0.00839668894051447\n",
      "0.012914254387262859\n",
      "0.008455896352441086\n",
      "0.013038526699845081\n",
      "0.00829293080018696\n",
      "0.012668645208914623\n",
      "0.008316649122341282\n",
      "0.012721706518709418\n",
      "0.008596796901090978\n",
      "0.013140038308610538\n",
      "0.008207112637757016\n",
      "0.01258238015695947\n",
      "0.008297741927963152\n",
      "0.012767023772533845\n",
      "0.008311572926299431\n",
      "0.012687861665791203\n",
      "0.008313324026267792\n",
      "0.012684479697122544\n",
      "0.008124007068523073\n",
      "0.012647640883599183\n",
      "0.008182112845207397\n",
      "0.012825647330235989\n",
      "0.008569295455678725\n",
      "0.013358736000843124\n",
      "0.008391624693572821\n",
      "0.01318110654598563\n",
      "0.008325067596100378\n",
      "0.013047975683880561\n",
      "0.008148999117282148\n",
      "0.012745855251527499\n",
      "0.008226681081250577\n",
      "0.01292323815930906\n",
      "0.00822720923651275\n",
      "0.012900932056672008\n",
      "0.008414327282759197\n",
      "0.013189281073765446\n"
     ]
    }
   ],
   "source": [
    "for i in range(data_demods_bin.shape[0]):\n",
    "    IV_analysis_ch_duo(Ibias[:,1],data_demods_bin[i],Rsh=0.4,filter_Rn_Al=False,plot='org')\n",
    "    "
   ]
  },
  {
   "cell_type": "code",
   "execution_count": 16,
   "id": "a1ca8e1c",
   "metadata": {},
   "outputs": [],
   "source": [
    "for i in range(data_demods_bin.shape[0]):\n",
    "    data_ch_cor=IV_correction(data_demods_bin[i])\n",
    "    plt.plot(data_demods_bin[i],'b',alpha=0.3)"
   ]
  },
  {
   "cell_type": "code",
   "execution_count": 15,
   "id": "93965b05",
   "metadata": {},
   "outputs": [
    {
     "data": {
      "text/plain": [
       "(235, 187)"
      ]
     },
     "execution_count": 15,
     "metadata": {},
     "output_type": "execute_result"
    }
   ],
   "source": [
    "data_demods_bin.shape"
   ]
  },
  {
   "cell_type": "code",
   "execution_count": null,
   "id": "5daf36f3",
   "metadata": {},
   "outputs": [],
   "source": []
  }
 ],
 "metadata": {
  "kernelspec": {
   "display_name": "Python 3 (ipykernel)",
   "language": "python",
   "name": "python3"
  },
  "language_info": {
   "codemirror_mode": {
    "name": "ipython",
    "version": 3
   },
   "file_extension": ".py",
   "mimetype": "text/x-python",
   "name": "python",
   "nbconvert_exporter": "python",
   "pygments_lexer": "ipython3",
   "version": "3.10.5"
  }
 },
 "nbformat": 4,
 "nbformat_minor": 5
}
