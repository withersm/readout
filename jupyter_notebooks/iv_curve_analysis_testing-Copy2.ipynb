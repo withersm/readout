{
 "cells": [
  {
   "cell_type": "code",
   "execution_count": 56,
   "id": "d0159b81-638f-4c70-bcc6-935668da51d7",
   "metadata": {},
   "outputs": [
    {
     "data": {
      "text/plain": [
       "<module 'ali_offline_demod' from '/home/matt/readout/host/ali_offline_demod.py'>"
      ]
     },
     "execution_count": 56,
     "metadata": {},
     "output_type": "execute_result"
    }
   ],
   "source": [
    "import matplotlib.pyplot as plt\n",
    "import numpy as np\n",
    "import sys\n",
    "import glob as gl\n",
    "sys.path.append('/home/matt/readout/host/')\n",
    "import ali_offline_demod as dm\n",
    "from scipy import signal\n",
    "import scipy\n",
    "import imp\n",
    "imp.reload(dm)\n"
   ]
  },
  {
   "cell_type": "code",
   "execution_count": 57,
   "id": "9f8f08c5",
   "metadata": {},
   "outputs": [],
   "source": [
    "def get_mean_current(bias_info,times,data):\n",
    "    \"\"\"\n",
    "    get the mean of Ites for all channels based on bias values and times\n",
    "    time is unix time\n",
    "    data is the output dm.demodulate, in unit of phi0 numbers\n",
    "    \"\"\"\n",
    "    data_bin=np.zeros((data.shape[0],bias_info.shape[0]))\n",
    "    print (data_bin.shape)\n",
    "    for j in range(data.shape[0]):\n",
    "        data_ch=data[j]\n",
    "        for i in range(bias_info.shape[0]):\n",
    "            bs_time=bias_info[i,0]\n",
    "            chunck=data_ch[np.where((times>bs_time+0.4)&(times<bs_time+1.6))]\n",
    "            data_bin[j,i]=np.mean(chunck)\n",
    "    data_bin=np.apply_along_axis(unwrap_change_current_per_chan, 1, data_bin)       \n",
    "    return data_bin\n",
    "        \n",
    "def unwrap_change_current_per_chan(data_ch):\n",
    "    data_ch_unwrap=np.unwrap(data_ch,discont=0.48,period=1)\n",
    "    data_ch_uA=data_ch_unwrap*9\n",
    "    return data_ch_uA\n",
    "    \n",
    "        \n",
    "def get_mean_current_nounwrap(bias_info,times,data):\n",
    "    \"\"\"\n",
    "    get the mean of Ites for all channels based on bias values and times, then unwrap and transfer to physics unit pA\n",
    "    time is unix time\n",
    "    data is the output dm.demodulate, in unit of phi0 numbers\n",
    "    \"\"\"\n",
    "    data_bin=np.zeros((data.shape[0],bias_info.shape[0]))\n",
    "    print (data_bin.shape)\n",
    "    for j in range(data.shape[0]):\n",
    "        data_ch=data[j]\n",
    "        for i in range(bias_info.shape[0]):\n",
    "            bs_time=bias_info[i,0]\n",
    "            chunck=data_ch[np.where((times>bs_time+0.4)&(times<bs_time+1.6))]\n",
    "            data_bin[j,i]=np.mean(chunck)\n",
    "    data_bin*=9      \n",
    "    return data_bin       \n",
    "        \n",
    "    \n",
    "    \n",
    "    "
   ]
  },
  {
   "cell_type": "code",
   "execution_count": 67,
   "id": "12e04224-0620-48b9-a6d5-f74c23945706",
   "metadata": {},
   "outputs": [
    {
     "data": {
      "text/plain": [
       "\"\\ninitpath = '/home/matt/alicpt_data/tone_initializations/fcenter_4250.0_20240202151540/'\\ntspath = '/home/matt/alicpt_data/time_streams/'\\n\\ninitial_lo_sweep=np.load(initpath+'lo_sweep_initial_fcenter_4250.0_20240202151548.npy') #find initial lo sweep file\\ntargeted_lo_sweep=np.load(initpath+'lo_sweep_targeted_2_fcenter_4250.0_20240202151816.npy') #find targeted sweep file\\ntone_freqs=np.load(initpath+'freq_list_lo_sweep_targeted_1_fcenter_4250.0_20240202151703.npy') #find tone freqs\\nts_fr,Is_fr,Qs_fr=dm.read_data(tspath+'ts_toneinit_fcenter_4250.0_20240202151540_t_20240202174221.hd5') #no chop 7\\n\""
      ]
     },
     "execution_count": 67,
     "metadata": {},
     "output_type": "execute_result"
    }
   ],
   "source": [
    "\"\"\"\n",
    "path='/Users/yaqiongli/Documents/ali_code/stanford_testing/2024-02-01_new_IV_curve_procedure/'\n",
    "initial_lo_sweep=np.load(path+'fcenter_4250.0_20240201153055/lo_sweep_initial_fcenter_4250.0_20240201153102.npy') #find initial lo sweep file\n",
    "targeted_lo_sweep=np.load(path+'fcenter_4250.0_20240201153055/lo_sweep_targeted_2_fcenter_4250.0_20240201153350.npy')#find targeted sweep file\n",
    "tone_freqs=np.load(path+'fcenter_4250.0_20240201153055/freq_list_lo_sweep_targeted_1_fcenter_4250.0_20240201153232.npy') #find tone freqs\n",
    "ts_fr,Is_fr,Qs_fr=dm.read_data(path+'toneinit_fcenter_4250.0_20240201153055_t_20240201160747/ts_toneinit_fcenter_4250.0_20240201153055_t_20240201160808.hd5') #find time stream data\n",
    "Ibias=np.loadtxt(path+'toneinit_fcenter_4250.0_20240201153055_t_20240201160747/bias_data_20240201160810.txt')\n",
    "\"\"\"\n",
    "\"\"\"\n",
    "initial_lo_sweep=np.load('/home/matt/alicpt_data/tone_initializations/fcenter_4250.0_20240201153055/lo_sweep_initial_fcenter_4250.0_20240201153102.npy') #find initial lo sweep file\n",
    "targeted_lo_sweep=np.load('/home/matt/alicpt_data/tone_initializations/fcenter_4250.0_20240201153055/lo_sweep_targeted_2_fcenter_4250.0_20240201153350.npy') #find targeted sweep file\n",
    "tone_freqs=np.load('/home/matt/alicpt_data/tone_initializations/fcenter_4250.0_20240201153055/freq_list_lo_sweep_targeted_1_fcenter_4250.0_20240201153232.npy') #find tone freqs\n",
    "ts_fr,Is_fr,Qs_fr=dm.read_data('/home/matt/alicpt_data/IV_data/toneinit_fcenter_4250.0_20240201153055_t_20240201160747/ts_toneinit_fcenter_4250.0_20240201153055_t_20240201160808.hd5')\n",
    "Ibias=np.loadtxt('/home/matt/alicpt_data/IV_data/toneinit_fcenter_4250.0_20240201153055_t_20240201160747/bias_data_20240201160810.txt')\n",
    "\"\"\"\n",
    "\n",
    "\"\"\"\n",
    "initpath = '/home/matt/alicpt_data/tone_initializations/fcenter_4250.0_20240202104043/'\n",
    "tspath = '/home/matt/alicpt_data/time_streams/'\n",
    "\n",
    "initial_lo_sweep=np.load(initpath+'lo_sweep_initial_fcenter_4250.0_20240202104050.npy') #find initial lo sweep file\n",
    "targeted_lo_sweep=np.load(initpath+'lo_sweep_targeted_2_fcenter_4250.0_20240202104318.npy') #find targeted sweep file\n",
    "tone_freqs=np.load(initpath+'freq_list_lo_sweep_targeted_1_fcenter_4250.0_20240202104204.npy') #find tone freqs\n",
    "#ts_fr,Is_fr,Qs_fr=dm.read_data(tspath+'ts_toneinit_fcenter_4250.0_20240202104043_t_20240202104529.hd5') #8.2 mA\n",
    "#ts_fr,Is_fr,Qs_fr=dm.read_data(tspath+'ts_toneinit_fcenter_4250.0_20240202104043_t_20240202105743.hd5') #8.5 mA\n",
    "ts_fr,Is_fr,Qs_fr=dm.read_data(tspath+'ts_toneinit_fcenter_4250.0_20240202104043_t_20240202105838.hd5') #8.0 mA\n",
    "#Ibias=np.loadtxt()\n",
    "\"\"\"\n",
    "\n",
    "\"\"\" current IV\n",
    "initpath = '/home/matt/alicpt_data/tone_initializations/fcenter_4250.0_20240202104043/'\n",
    "tspath = '/home/matt/alicpt_data/IV_data/toneinit_fcenter_4250.0_20240202104043_t_20240202112027/'\n",
    "\n",
    "initial_lo_sweep=np.load(initpath+'lo_sweep_initial_fcenter_4250.0_20240202104050.npy') #find initial lo sweep file\n",
    "targeted_lo_sweep=np.load(initpath+'lo_sweep_targeted_2_fcenter_4250.0_20240202104318.npy') #find targeted sweep file\n",
    "tone_freqs=np.load(initpath+'freq_list_lo_sweep_targeted_1_fcenter_4250.0_20240202104204.npy') #find tone freqs\n",
    "ts_fr,Is_fr,Qs_fr=dm.read_data(tspath+'ts_toneinit_fcenter_4250.0_20240202104043_t_20240202112204.hd5') #8.0 mA\n",
    "Ibias=np.loadtxt(tspath+'bias_data_20240202112206.txt')\n",
    "\"\"\"\n",
    "\n",
    "\"\"\"\n",
    "initpath = '/home/matt/alicpt_data/tone_initializations/fcenter_4250.0_20240202104043/'\n",
    "tspath = '/home/matt/alicpt_data/time_streams/'\n",
    "\n",
    "initial_lo_sweep=np.load(initpath+'lo_sweep_initial_fcenter_4250.0_20240202104050.npy') #find initial lo sweep file\n",
    "targeted_lo_sweep=np.load(initpath+'lo_sweep_targeted_2_fcenter_4250.0_20240202104318.npy') #find targeted sweep file\n",
    "tone_freqs=np.load(initpath+'freq_list_lo_sweep_targeted_1_fcenter_4250.0_20240202104204.npy') #find tone freqs\n",
    "#ts_fr,Is_fr,Qs_fr=dm.read_data(tspath+'ts_toneinit_fcenter_4250.0_20240202104043_t_20240202114335.hd5') #8.0 mA\n",
    "#ts_fr,Is_fr,Qs_fr=dm.read_data(tspath+'ts_toneinit_fcenter_4250.0_20240202104043_t_20240202115243.hd5')\n",
    "#ts_fr,Is_fr,Qs_fr=dm.read_data(tspath+'ts_toneinit_fcenter_4250.0_20240202104043_t_20240202122806.hd5') #no chop 5.5\n",
    "ts_fr,Is_fr,Qs_fr=dm.read_data(tspath+'ts_toneinit_fcenter_4250.0_20240202104043_t_20240202122854.hd5') #no chop 7\n",
    "\n",
    "#Ibias=np.loadtxt(tspath+'bias_data_20240202112206.txt')\n",
    "\n",
    "\n",
    "#With Plate\n",
    "initpath = '/home/matt/alicpt_data/tone_initializations/fcenter_4250.0_20240202151540/'\n",
    "tspath = '/home/matt/alicpt_data/IV_data/toneinit_fcenter_4250.0_20240202151540_t_20240202152008/'\n",
    "\n",
    "initial_lo_sweep=np.load(initpath+'lo_sweep_initial_fcenter_4250.0_20240202151548.npy') #find initial lo sweep file\n",
    "targeted_lo_sweep=np.load(initpath+'lo_sweep_targeted_2_fcenter_4250.0_20240202151816.npy') #find targeted sweep file\n",
    "tone_freqs=np.load(initpath+'freq_list_lo_sweep_targeted_1_fcenter_4250.0_20240202151703.npy') #find tone freqs\n",
    "ts_fr,Is_fr,Qs_fr=dm.read_data(tspath+'ts_toneinit_fcenter_4250.0_20240202151540_t_20240202152139.hd5') #no chop 7\n",
    "Ibias=np.loadtxt(tspath+'bias_data_20240202152141.txt')\n",
    "\"\"\"\n",
    "\n",
    "\"\"\"\n",
    "#Without Plate\n",
    "no_initpath = '/home/matt/alicpt_data/tone_initializations/fcenter_4250.0_20240202104043/'\n",
    "no_tspath = '/home/matt/alicpt_data/IV_data/toneinit_fcenter_4250.0_20240202104043_t_20240202145656/'\n",
    "\n",
    "no_initial_lo_sweep=np.load(initpath+'lo_sweep_initial_fcenter_4250.0_20240202104050.npy') #find initial lo sweep file\n",
    "no_targeted_lo_sweep=np.load(initpath+'lo_sweep_targeted_2_fcenter_4250.0_20240202104318.npy') #find targeted sweep file\n",
    "no_tone_freqs=np.load(initpath+'freq_list_lo_sweep_targeted_1_fcenter_4250.0_20240202104204.npy') #find tone freqs\n",
    "no_ts_fr,Is_fr,Qs_fr=dm.read_data(tspath+'ts_toneinit_fcenter_4250.0_20240202104043_t_20240202145738.hd5') #no chop 7\n",
    "no_Ibias=np.loadtxt(tspath+'bias_data_20240202145740.txt')\n",
    "\"\"\"\n",
    "\n",
    "\"\"\"\n",
    "#with Al blanking\n",
    "initpath = '/home/matt/alicpt_data/tone_initializations/fcenter_4250.0_20240202151540/'\n",
    "tspath = '/home/matt/alicpt_data/IV_data/toneinit_fcenter_4250.0_20240202151540_t_20240202155930/'\n",
    "\n",
    "initial_lo_sweep=np.load(initpath+'lo_sweep_initial_fcenter_4250.0_20240202151548.npy') #find initial lo sweep file\n",
    "targeted_lo_sweep=np.load(initpath+'lo_sweep_targeted_2_fcenter_4250.0_20240202151816.npy') #find targeted sweep file\n",
    "tone_freqs=np.load(initpath+'freq_list_lo_sweep_targeted_1_fcenter_4250.0_20240202151703.npy') #find tone freqs\n",
    "ts_fr,Is_fr,Qs_fr=dm.read_data(tspath+'ts_toneinit_fcenter_4250.0_20240202151540_t_20240202155946.hd5') #no chop 7\n",
    "Ibias=np.loadtxt(tspath+'bias_data_20240202155948.txt')\n",
    "\"\"\"\n",
    "\n",
    "\n",
    "#taking small plate on and off\n",
    "initpath = '/home/matt/alicpt_data/tone_initializations/fcenter_4250.0_20240202151540/'\n",
    "tspath = '/home/matt/alicpt_data/time_streams/'\n",
    "\n",
    "initial_lo_sweep=np.load(initpath+'lo_sweep_initial_fcenter_4250.0_20240202151548.npy') #find initial lo sweep file\n",
    "targeted_lo_sweep=np.load(initpath+'lo_sweep_targeted_2_fcenter_4250.0_20240202151816.npy') #find targeted sweep file\n",
    "tone_freqs=np.load(initpath+'freq_list_lo_sweep_targeted_1_fcenter_4250.0_20240202151703.npy') #find tone freqs\n",
    "ts_fr,Is_fr,Qs_fr=dm.read_data(tspath+'ts_toneinit_fcenter_4250.0_20240202151540_t_20240202164035.hd5') #no chop 7\n",
    "\n",
    "\"\"\"\n",
    "initpath = '/home/matt/alicpt_data/tone_initializations/fcenter_4250.0_20240202151540/'\n",
    "tspath = '/home/matt/alicpt_data/time_streams/'\n",
    "\n",
    "initial_lo_sweep=np.load(initpath+'lo_sweep_initial_fcenter_4250.0_20240202151548.npy') #find initial lo sweep file\n",
    "targeted_lo_sweep=np.load(initpath+'lo_sweep_targeted_2_fcenter_4250.0_20240202151816.npy') #find targeted sweep file\n",
    "tone_freqs=np.load(initpath+'freq_list_lo_sweep_targeted_1_fcenter_4250.0_20240202151703.npy') #find tone freqs\n",
    "ts_fr,Is_fr,Qs_fr=dm.read_data(tspath+'ts_toneinit_fcenter_4250.0_20240202151540_t_20240202174221.hd5') #no chop 7\n",
    "\"\"\""
   ]
  },
  {
   "cell_type": "code",
   "execution_count": 24,
   "id": "770513fe-ff19-44a9-8e58-34ff81e6febf",
   "metadata": {},
   "outputs": [
    {
     "name": "stdout",
     "output_type": "stream",
     "text": [
      "233\n"
     ]
    }
   ],
   "source": [
    "print(len(tone_freqs))"
   ]
  },
  {
   "cell_type": "code",
   "execution_count": 55,
   "id": "68570301",
   "metadata": {},
   "outputs": [],
   "source": [
    "%matplotlib qt\n",
    "channel1 = 10\n",
    "channel2 = 10\n",
    "#plt.plot(ts_fr-ts_fr[0],Is_fr[channel1],c='b',alpha=0.3)\n",
    "#plt.plot(ts_fr-ts_fr[0],Qs_fr[channel1],c='r',alpha=0.3)\n",
    "plt.plot(ts_fr-ts_fr[0], np.arctan(Qs_fr[channel1]/Is_fr[channel]),alpha=0.3)\n",
    "\n",
    "#plt.plot(ts_fr-ts_fr[0],Is_fr[channel2]-np.mean(Is_fr[channel2]),c='g',alpha=0.3)\n",
    "#plt.plot(ts_fr-ts_fr[0],Qs_fr[channel2]-np.mean(Qs_fr[channel2]),alpha=0.3)\n",
    "#plt.plot(ts_fr-ts_fr[0], np.arctan(Qs_fr[channel2]/Is_fr[channel]),alpha=0.3)\n",
    "\n",
    "plt.ylabel('I [DAC]')\n",
    "plt.xlabel('Time [s]')\n",
    "plt.show()\n",
    "\n",
    "#-np.mean(Is_fr[channel1])\n",
    "#-np.mean(Qs_fr[channel1])\n"
   ]
  },
  {
   "cell_type": "markdown",
   "id": "2d39f963-0e7f-483a-829e-de34b9ad17d3",
   "metadata": {},
   "source": [
    "##### 1) View Initial LO Sweep"
   ]
  },
  {
   "cell_type": "code",
   "execution_count": 59,
   "id": "50dfea5d-67b8-4bae-a92c-2fa9beba1b9a",
   "metadata": {},
   "outputs": [
    {
     "data": {
      "image/png": "[encoded data removed]",
      "text/plain": [
       "<Figure size 1008x576 with 1 Axes>"
      ]
     },
     "metadata": {
      "needs_background": "light"
     },
     "output_type": "display_data"
    }
   ],
   "source": [
    "%matplotlib inline\n",
    "dm.plot_s21([initial_lo_sweep])\n",
    "\n",
    "\n"
   ]
  },
  {
   "cell_type": "markdown",
   "id": "8de3f27d-f72b-407a-b72e-5490c0a862af",
   "metadata": {},
   "source": [
    "## 2) Enter Frequency Region for Cable Delay Calculation"
   ]
  },
  {
   "cell_type": "code",
   "execution_count": 60,
   "id": "e58e369b-451f-46a2-87ff-c4b57ac0676b",
   "metadata": {},
   "outputs": [],
   "source": [
    "delay_region_start = 4.01e9  #Hz\n",
    "delay_region_stop =  4.03e9 #Hz\n"
   ]
  },
  {
   "cell_type": "markdown",
   "id": "36e75acc-fd8b-4136-bb20-174464b9c8dc",
   "metadata": {},
   "source": [
    "## 3) Measure Cable Delay"
   ]
  },
  {
   "cell_type": "code",
   "execution_count": 61,
   "id": "e1a53910-a69b-4f10-9c9f-af36fd731f21",
   "metadata": {},
   "outputs": [
    {
     "name": "stdout",
     "output_type": "stream",
     "text": [
      "2.9378125720221163e-08\n"
     ]
    },
    {
     "data": {
      "image/png": "[encoded data removed]",
      "text/plain": [
       "<Figure size 792x576 with 1 Axes>"
      ]
     },
     "metadata": {
      "needs_background": "light"
     },
     "output_type": "display_data"
    }
   ],
   "source": [
    "# Measure\n",
    "%matplotlib inline\n",
    "delays = dm.measure_delay_test_given_freq(initial_lo_sweep,delay_region_start,delay_region_stop,plot=True)\n",
    "print (np.median(delays))\n",
    "\n"
   ]
  },
  {
   "cell_type": "markdown",
   "id": "c2f09344-fe03-4f3d-9bd4-d00e6fabdc35",
   "metadata": {},
   "source": [
    "## 4) Remove Cable Delay"
   ]
  },
  {
   "cell_type": "code",
   "execution_count": 68,
   "id": "fc0e825d-c9c1-47cd-a18e-137442e62fa9",
   "metadata": {},
   "outputs": [],
   "source": [
    "#remove cable delay from target sweep and timestream\n",
    "#plot S21 phase -> when there is no resonance it is the cable delay\n",
    "targeted_lo_sweep_rm=dm.remove_delay(targeted_lo_sweep,np.median(delays))\n",
    "IQ_stream_rm=dm.remove_delay_timestream(Is_fr+1j*Qs_fr,tone_freqs,np.median(delays))\n",
    "\n"
   ]
  },
  {
   "cell_type": "markdown",
   "id": "6fd0cdce-0d47-468b-985f-9a1d51637f1f",
   "metadata": {},
   "source": [
    "## 5) Measure Circle Parameters (per channel)"
   ]
  },
  {
   "cell_type": "code",
   "execution_count": 69,
   "id": "14f6a4c6-9451-4cf3-a3ca-4d73a9c5ee2a",
   "metadata": {},
   "outputs": [],
   "source": [
    "#Jiansong Gao Thesis Method\n",
    "calibration=dm.measure_circle_allch(targeted_lo_sweep_rm,tone_freqs) #finds circle center and initial phase for every channel"
   ]
  },
  {
   "cell_type": "markdown",
   "id": "f6e9062a-8a67-4310-bd86-3ac3fde87652",
   "metadata": {},
   "source": [
    "## 6) Calibrate Time Stream Data (per channel)"
   ]
  },
  {
   "cell_type": "code",
   "execution_count": 70,
   "id": "1db4c43e-bed3-4c8f-8abb-e74b79ae2432",
   "metadata": {},
   "outputs": [],
   "source": [
    "\n",
    "\n",
    "data_cal=dm.get_phase(IQ_stream_rm,calibration)\n",
    "\n",
    "\n"
   ]
  },
  {
   "cell_type": "markdown",
   "id": "72c7d4c6-1d62-4062-8e0f-f96016cc5daf",
   "metadata": {},
   "source": [
    "## 7) View Time Stream Data (per channel)"
   ]
  },
  {
   "cell_type": "code",
   "execution_count": 71,
   "id": "988248d4-ae45-46dd-afd3-3dc1924ff0de",
   "metadata": {},
   "outputs": [],
   "source": [
    "%matplotlib qt \n",
    "dm.plot_timestream(ts_fr, data_cal, start_time = 0, end_time = 20, channel_nums = [20])\n",
    "\n"
   ]
  },
  {
   "cell_type": "markdown",
   "id": "d0cbf756-7a88-4cee-aa3c-9b5b22d667c5",
   "metadata": {},
   "source": [
    "## 8) Find nphi_0"
   ]
  },
  {
   "cell_type": "code",
   "execution_count": 72,
   "id": "dacbe5a0-9a56-417b-b93e-262af03b0022",
   "metadata": {},
   "outputs": [
    {
     "name": "stdout",
     "output_type": "stream",
     "text": [
      "n_phi0 = 3.3718912856916035\n"
     ]
    }
   ],
   "source": [
    "%matplotlib qt\n",
    "t_start=20\n",
    "t_stop=30\n",
    "f_sawtooth = 5 #Hz\n",
    "\n",
    "n_phi0 = dm.find_n_phi0(ts_fr[488*t_start:488*t_stop],data_cal[:,488*t_start:488*t_stop],f_sawtooth,plot=True)  #discard the first few seconds\n",
    "\n",
    "print(f'n_phi0 = {n_phi0}')"
   ]
  },
  {
   "cell_type": "markdown",
   "id": "ab5183f3-3a34-4c21-b884-0b759530b2d4",
   "metadata": {},
   "source": [
    "## 9) Find t0 (beginning of first flux ramp)"
   ]
  },
  {
   "cell_type": "code",
   "execution_count": 73,
   "id": "b2e25c27-cba3-47b4-8823-fa70d4c9e6dc",
   "metadata": {},
   "outputs": [
    {
     "name": "stdout",
     "output_type": "stream",
     "text": [
      "0.157795190811157\n"
     ]
    }
   ],
   "source": [
    "%matplotlib qt\n",
    "t0_array = np.array([])\n",
    "for current_channel in range(len(data_cal)):\n",
    "    t0 = dm.mea_reset_t0(ts_fr[488*t_start:488*t_stop],data_cal[current_channel,488*t_start:488*t_stop],f_sawtooth,plot=True)\n",
    "    t0_array = np.append(t0_array,t0)\n",
    "    \n",
    "t0_med = np.nanmedian(t0_array)\n",
    "#print(t0_array)\n",
    "print(t0_med)"
   ]
  },
  {
   "cell_type": "markdown",
   "id": "7b3bfc21-50a1-4481-92e9-e32911ec904b",
   "metadata": {},
   "source": [
    "## 9) Demodulate and View Results "
   ]
  },
  {
   "cell_type": "code",
   "execution_count": 74,
   "id": "a7503b3b-e624-4c91-a065-f5dbfb0bdb9e",
   "metadata": {
    "scrolled": true
   },
   "outputs": [
    {
     "name": "stdout",
     "output_type": "stream",
     "text": [
      "[[ 0.14868608  0.16973871  0.15667779 ...  0.14864863  0.18343347\n",
      "   0.1725883 ]\n",
      " [-0.26036337 -0.2387299  -0.24712956 ... -0.2752884  -0.25436075\n",
      "  -0.26347014]\n",
      " [ 0.10614361  0.12880778  0.12044601 ...  0.09072841  0.11264234\n",
      "   0.10190683]\n",
      " ...\n",
      " [-0.0613327  -0.04017394 -0.04705971 ... -0.0930907  -0.0720733\n",
      "  -0.07925732]\n",
      " [-0.3211826  -0.30120234 -0.38310127 ... -0.34122867 -0.3254635\n",
      "  -0.32204642]\n",
      " [ 0.09936003  0.12267182  0.11042755 ...  0.07636035  0.09700989\n",
      "   0.09156651]]\n"
     ]
    }
   ],
   "source": [
    "t_demods=[]\n",
    "data_demods=[]\n",
    "start_idx = dm.find_nearest_idx(ts_fr-ts_fr[0], t0_med)\n",
    "for chan in range(data_cal.shape[0]):#np.arange(225,230,1):#range(data_cal.shape[0]):\n",
    "    t_demod, data_demod = dm.demodulate(ts_fr[start_idx:]-ts_fr[start_idx], data_cal[chan, start_idx:], n_phi0, f_sawtooth, plot = True, plot_len = None)\n",
    "    t_demods.append(t_demod)\n",
    "    data_demod_unwrap=np.unwrap(data_demod,period=1)\n",
    "    data_demods.append(data_demod_unwrap)\n",
    "    \n",
    "data_demods=np.vstack(data_demods)\n",
    "t_demods=np.vstack(t_demods)\n",
    "\n",
    "print(data_demods)\n",
    "\n",
    "fig, ax = plt.subplots(1)\n",
    "for chan in range(data_demods.shape[0]):\n",
    "    ax.plot(t_demods[1], data_demods[chan])"
   ]
  },
  {
   "cell_type": "code",
   "execution_count": 384,
   "id": "39c06ba9-0b75-41c7-adc6-107fe2727787",
   "metadata": {},
   "outputs": [
    {
     "name": "stdout",
     "output_type": "stream",
     "text": [
      "(233, 188)\n"
     ]
    }
   ],
   "source": [
    "data_demods_bin = get_mean_current(Ibias,t_demod+ts_fr[start_idx],data_demods)"
   ]
  },
  {
   "cell_type": "code",
   "execution_count": 276,
   "id": "803b5e5c-63ac-480c-99ea-5137d889eed0",
   "metadata": {},
   "outputs": [],
   "source": [
    "path = '/home/matt/readout/jupyter_notebooks/'\n",
    "\"\"\"\n",
    "np.savetxt(path+'toneinit_fcenter_4250.0_20240201153055_t_20240201160747/demod.txt',data_demods)\n",
    "np.savetxt(path+'toneinit_fcenter_4250.0_20240201153055_t_20240201160747/t_demod.txt',t_demods+ts_fr[start_idx])\n",
    "\"\"\"\n",
    "\n",
    "np.savetxt(path+'demod.txt',data_demods)\n",
    "np.savetxt(path+'t_demod.txt',t_demods+ts_fr[start_idx])\n"
   ]
  },
  {
   "cell_type": "code",
   "execution_count": 27,
   "id": "6f368dbf",
   "metadata": {},
   "outputs": [
    {
     "data": {
      "text/plain": [
       "<matplotlib.legend.Legend at 0x7fc2fbbc3760>"
      ]
     },
     "execution_count": 27,
     "metadata": {},
     "output_type": "execute_result"
    }
   ],
   "source": [
    "plt.plot(range(temp.shape[0]),temp*0.01, label='original',alpha=0.5)\n",
    "plt.plot(range(d_temp.shape[0]),d_temp,label='d',alpha=0.5)\n",
    "plt.plot(range(dd_temp.shape[0]),dd_temp,label='dd',alpha=0.5)\n",
    "plt.legend()"
   ]
  },
  {
   "cell_type": "code",
   "execution_count": 32,
   "id": "63800a4d",
   "metadata": {},
   "outputs": [],
   "source": [
    "d_smooth=np.diff(temp_smooth)\n",
    "dd_smooth=np.diff(d_smooth)"
   ]
  },
  {
   "cell_type": "code",
   "execution_count": 33,
   "id": "84e20716",
   "metadata": {},
   "outputs": [],
   "source": [
    "plt.plot(t_smooth,temp_smooth*0.01, alpha=0.5)\n",
    "plt.plot(t_smooth[:-1],d_smooth, alpha=0.5,label='d')\n",
    "plt.plot(t_smooth[:-2],dd_smooth, alpha=0.5,label='dd')\n",
    "plt.legend()\n",
    "plt.show()"
   ]
  },
  {
   "cell_type": "code",
   "execution_count": 34,
   "id": "23978734",
   "metadata": {},
   "outputs": [],
   "source": [
    "def get_change_idx(data,type):\n",
    "    d=np.diff(data)\n",
    "    dd=np.diff(d)\n",
    "    idx=0\n",
    "    if type=='sc':\n",
    "        idx=np.argmin(dd)\n",
    "    if type=='normal':\n",
    "        idx=np.argmax(dd)\n",
    "    return idx"
   ]
  },
  {
   "cell_type": "code",
   "execution_count": 35,
   "id": "ea0dbada",
   "metadata": {},
   "outputs": [],
   "source": [
    "idx_sc=get_change_idx(temp_smooth,'sc')\n",
    "idx_nb=get_change_idx(temp_smooth,'normal')"
   ]
  },
  {
   "cell_type": "code",
   "execution_count": 197,
   "id": "ced9f598",
   "metadata": {},
   "outputs": [
    {
     "data": {
      "text/plain": [
       "<matplotlib.legend.Legend at 0x7fc2f9baabc0>"
      ]
     },
     "execution_count": 197,
     "metadata": {},
     "output_type": "execute_result"
    }
   ],
   "source": [
    "plt.plot(t_smooth,temp_smooth, alpha=0.5)\n",
    "plt.plot(t_smooth[:-1],d_smooth, alpha=0.5,label='d')\n",
    "plt.plot(t_smooth[:-2],dd_smooth, alpha=0.5,label='dd')\n",
    "plt.vlines(t_smooth[idx_sc+1],-300,0)\n",
    "plt.vlines(t_smooth[idx_nb+1],-300,0)\n",
    "plt.legend()"
   ]
  },
  {
   "cell_type": "code",
   "execution_count": 37,
   "id": "53b55ae4",
   "metadata": {},
   "outputs": [],
   "source": [
    "def IV_analysis_ch(times,bias_currents,resps,Rsh=0.4):\n",
    "    \"\"\"\n",
    "    Input:\n",
    "    times in unix\n",
    "    bias_currents in mA\n",
    "    resp in uA for one channel\n",
    "    all three inputs have save dimension\n",
    "    Outputs:\n",
    "    dataframe containing timestream of Ites,Rtes,Vtes,Rn_almn,Rn_al\n",
    "    \"\"\"\n",
    "    #Smooth resps due to jumps\n",
    "    resps_smooth=smooth(resps,3)\n",
    "    t_smooth=smooth(times,3)\n",
    "    d_smooth=np.diff(resps_smooth)\n",
    "    dd_smooth=np.diff(d_smooth)\n",
    "    #Get superconducting and normal point\n",
    "    idx_sc=get_change_idx(temp_smooth,'sc')+1\n",
    "    idx_nb=get_change_idx(temp_smooth,'normal')+1\n",
    "    t_sc=t_smooth[idx_sc]\n",
    "    t_nb=t_smooth[idx_nb]\n",
    "    idx_sc_org=dm.find_nearest_idx(times,t_sc)\n",
    "    idx_nb_org=dm.find_nearest_idx(times,t_nb) #might want to add an extra step since this is binning 30s of data..\n",
    "    resps_sc=resps[idx_sc_org+10:]\n",
    "    resps_nb=resps[2:idx_nb_org-10]\n",
    "    plt.plot(times,resps)\n",
    "    plt.vlines(times[idx_sc_org],-300,0)\n",
    "    plt.vlines(times[idx_nb_org],-300,0)\n",
    "    bias_sc=bias_currents[idx_sc_org+10:]\n",
    "    \n",
    "    bias_nb=bias_currents[2:idx_nb_org-10]\n",
    "    print (bias_sc.shape)\n",
    "    print (bias_nb.shape)\n",
    "    r_ratio_almn, shift = np.polyfit(bias_sc, resps_sc, 1)\n",
    "    Rn_almn=Rsh*1e3/r_ratio_almn-Rsh\n",
    "    print('almn normal resistance',Rn_almn)\n",
    "    r_ratio_al,shift_2 = np.polyfit(bias_nb, resps_nb, 1)\n",
    "    print (r_ratio_al,shift_2)\n",
    "    Rn_al=Rsh*1e3/r_ratio_al-Rsh\n",
    "    print (Rn_almn)\n",
    "    print (Rn_al)\n",
    "    Ites=resps-shift #uA\n",
    "    Ishunt=bias_currents-Ites*1e-3 #mA\n",
    "    Vshunt=Ishunt*1e-3*Rsh*1e-3 #V\n",
    "    Rtes=Vshunt/(Ites*1e-6)-Rn_almn*1e-3 #Ohm\n",
    "    Vtes=Rtes*Ites#uV\n",
    "    #plt.plot(Vtes,Ites)\n",
    "    \n",
    "    \n",
    "    \n",
    "    \n",
    "    \n",
    "    \n",
    "    \n",
    "    \n",
    "    "
   ]
  },
  {
   "cell_type": "code",
   "execution_count": 38,
   "id": "4b0bc0dd",
   "metadata": {},
   "outputs": [],
   "source": [
    "temp=data_demods_bin[139]\n",
    "peak_sc,_=signal.find_peaks(0-temp,width=20)"
   ]
  },
  {
   "cell_type": "code",
   "execution_count": 196,
   "id": "31b5f786",
   "metadata": {},
   "outputs": [
    {
     "data": {
      "text/plain": [
       "<matplotlib.collections.LineCollection at 0x7fc2f981d750>"
      ]
     },
     "execution_count": 196,
     "metadata": {},
     "output_type": "execute_result"
    }
   ],
   "source": [
    "plt.plot(range(temp.shape[0]),temp)\n",
    "plt.vlines(peak_sc,-300,100)"
   ]
  },
  {
   "cell_type": "code",
   "execution_count": 315,
   "id": "b3a1c791",
   "metadata": {},
   "outputs": [],
   "source": [
    "def IV_analysis_ch_new(bias_currents,resps,Rsh=0.4,plot='IV'):\n",
    "    \"\"\"\n",
    "    This method completely abandon the part that Ites might vary larger than 0.5 phi0 given the step limit of the Ibias\n",
    "    i.e. it only cares about the Al normal state and part of Al transition state\n",
    "    it assumes Rn_almn is 7.25mohm\n",
    "    Outputs:\n",
    "    dataframe containing timestream of Ites,Rtes,Vtes,Rn_almn,Rn_al\n",
    "    \"\"\"\n",
    "    #only getting Al TES normal point\n",
    "    Rn_almn=7.25\n",
    "    peaks_nb,_=signal.find_peaks(0-resps,width=20)\n",
    "    if len(peaks_nb)==0:\n",
    "        return\n",
    "    peak_nb=peaks_nb[0]\n",
    "    resps_nb=resps[2:int(peak_nb-10)]\n",
    "    bias_nb=bias_currents[2:peak_nb-10]\n",
    "    r_ratio_al,shift = np.polyfit(bias_nb, resps_nb, 1)\n",
    "    Rn_al=Rsh/r_ratio_al-Rsh*1e-3-Rn_almn*1e-3  #Ohm\n",
    "    #print ('normal resistance for al TES',Rn_al)\n",
    "    Ites=resps-shift #uA\n",
    "    Ishunt=bias_currents*1e-3-Ites*1e-6 #A\n",
    "    Vshunt=Ishunt*Rsh*1e-3 #V\n",
    "    Rtes=Vshunt/(Ites*1e-6)-Rn_almn*1e-3 #Ohm\n",
    "    bps=Rtes/Rn_al\n",
    "    Vtes=Rtes*Ites#uV\n",
    "    if Rn_al>0.05 or Rn_al<0.005: return\n",
    "    if plot=='IV':\n",
    "        plt.gcf().subplots_adjust(bottom=0.2)\n",
    "        plt.gcf().subplots_adjust(left=0.2)\n",
    "        plt.tick_params(axis='both', which='major', labelsize=16)\n",
    "        plt.plot(Vtes,Ites,alpha=0.8)\n",
    "        plt.xlabel('$V_{tes}$ (μV)',fontsize=18)\n",
    "        plt.ylabel('$I_{tes}$ (μA)',fontsize=18)\n",
    "    if plot=='bp':\n",
    "        plt.gcf().subplots_adjust(bottom=0.2)\n",
    "        plt.gcf().subplots_adjust(left=0.2)\n",
    "        plt.tick_params(axis='both', which='major', labelsize=16)\n",
    "        plt.plot(bias_currents,bps*100,alpha=0.3)\n",
    "        plt.ylim(0,1.2*100)\n",
    "        plt.ylabel('$\\%R_n$',fontsize=18)\n",
    "        plt.xlabel(r'$I_{bias}$',fontsize=18)\n",
    "    return Rn_al,Rtes,Vtes,Ites,bps"
   ]
  },
  {
   "cell_type": "code",
   "execution_count": 316,
   "id": "50e8c221",
   "metadata": {},
   "outputs": [],
   "source": [
    "for ch in range(data_demods_bin.shape[0]):\n",
    "    try:\n",
    "        IV_analysis_ch_new(Ibias[:,1],data_demods_bin[ch],plot='bp')\n",
    "    except:\n",
    "        continue"
   ]
  },
  {
   "cell_type": "code",
   "execution_count": 193,
   "id": "e51c7e6d",
   "metadata": {},
   "outputs": [],
   "source": [
    "def get_Ibias_bp(bias_currents,resps,bp):\n",
    "    #get Ibias when giving bias point\n",
    "    Rn_al,Rtes,Vtes,Ites,bps=IV_analysis_ch_new(bias_currents,resps,Rsh=0.4,plot=None)\n",
    "    if Rn_al>0.05 or Rn_al<0.005:\n",
    "        return \n",
    "    else:\n",
    "        turn_point,_= signal.find_peaks(0-bps,width=10)\n",
    "        print ('turn_point',turn_point[-1])\n",
    "        #print ('turning point'+turn_point[-1])\n",
    "        Ibias_low=bias_currents[turn_point[-1]]\n",
    "        bps_sel=bps[np.where(bias_currents>Ibias_low)]\n",
    "        bias_currents_sel=bias_currents[np.where(bias_currents>Ibias_low)]\n",
    "        idx=dm.find_nearest_idx(bps_sel,bp)\n",
    "        print (idx)\n",
    "        Ibias_bp = bias_currents_sel[idx]\n",
    "        print (Ibias_bp)\n",
    "        plt.gcf().subplots_adjust(bottom=0.2)\n",
    "        plt.gcf().subplots_adjust(left=0.2)\n",
    "        plt.tick_params(axis='both', which='major', labelsize=16)\n",
    "        plt.plot(bias_currents,bps*100)\n",
    "        plt.vlines(Ibias_bp,0,120)\n",
    "        plt.xlabel('$I_{bias}$ (mA)',fontsize=18)\n",
    "        plt.ylabel('$\\%(R_n)$',fontsize=18)\n",
    "        plt.ylim(0,120)\n",
    "        return Ibias_bp"
   ]
  },
  {
   "cell_type": "code",
   "execution_count": 387,
   "id": "a487b9b9",
   "metadata": {},
   "outputs": [
    {
     "name": "stdout",
     "output_type": "stream",
     "text": [
      "turn_point 137\n",
      "108\n",
      "6.402499999999999\n",
      "turn_point 129\n",
      "107\n",
      "6.476300048000001\n",
      "turn_point 128\n",
      "107\n",
      "6.476300048000001\n",
      "turn_point 123\n",
      "113\n",
      "5.9911999520000006\n",
      "turn_point 124\n",
      "109\n",
      "6.315900024\n",
      "turn_point 122\n",
      "109\n",
      "6.315900024\n",
      "turn_point 126\n",
      "111\n",
      "6.152700072000002\n",
      "turn_point 125\n",
      "109\n",
      "6.315900024\n",
      "turn_point 122\n",
      "109\n",
      "6.315900024\n",
      "turn_point 125\n",
      "109\n",
      "6.315900024\n",
      "turn_point 135\n",
      "126\n",
      "4.944799958\n",
      "turn_point 116\n",
      "108\n",
      "6.402499999999999\n",
      "turn_point 139\n",
      "108\n",
      "6.402499999999999\n",
      "turn_point 138\n",
      "125\n",
      "5.026400024000001\n",
      "turn_point 126\n",
      "110\n",
      "6.234900024000001\n",
      "turn_point 122\n",
      "109\n",
      "6.315900024\n",
      "turn_point 125\n",
      "108\n",
      "6.402499999999999\n",
      "turn_point 117\n",
      "108\n",
      "6.402499999999999\n",
      "turn_point 118\n",
      "107\n",
      "6.476300048000001\n",
      "turn_point 117\n",
      "108\n",
      "6.402499999999999\n",
      "turn_point 125\n",
      "109\n",
      "6.315900024\n",
      "turn_point 140\n",
      "109\n",
      "6.315900024\n",
      "turn_point 121\n",
      "108\n",
      "6.402499999999999\n",
      "turn_point 119\n",
      "109\n",
      "6.315900024\n",
      "turn_point 119\n",
      "108\n",
      "6.402499999999999\n",
      "turn_point 124\n",
      "107\n",
      "6.476300048000001\n",
      "turn_point 121\n",
      "110\n",
      "6.234900024000001\n",
      "turn_point 124\n",
      "108\n",
      "6.402499999999999\n",
      "turn_point 137\n",
      "108\n",
      "6.402499999999999\n",
      "turn_point 136\n",
      "108\n",
      "6.402499999999999\n",
      "turn_point 127\n",
      "111\n",
      "6.152700072000002\n",
      "turn_point 127\n",
      "111\n",
      "6.152700072000002\n",
      "turn_point 130\n",
      "109\n",
      "6.315900024\n",
      "turn_point 138\n",
      "125\n",
      "5.026400024000001\n",
      "turn_point 138\n",
      "125\n",
      "5.026400024000001\n",
      "turn_point 119\n",
      "109\n",
      "6.315900024\n",
      "turn_point 121\n",
      "107\n",
      "6.476300048000001\n",
      "turn_point 121\n",
      "107\n",
      "6.476300048000001\n",
      "turn_point 131\n",
      "125\n",
      "5.026400024000001\n",
      "turn_point 137\n",
      "109\n",
      "6.315900024\n",
      "turn_point 124\n",
      "107\n",
      "6.476300048000001\n",
      "turn_point 115\n",
      "107\n",
      "6.476300048000001\n",
      "turn_point 119\n",
      "107\n",
      "6.476300048000001\n",
      "turn_point 134\n",
      "108\n",
      "6.402499999999999\n",
      "turn_point 120\n",
      "108\n",
      "6.402499999999999\n",
      "turn_point 118\n",
      "108\n",
      "6.402499999999999\n",
      "turn_point 125\n",
      "109\n",
      "6.315900024\n",
      "turn_point 121\n",
      "109\n",
      "6.315900024\n",
      "turn_point 118\n",
      "108\n",
      "6.402499999999999\n",
      "turn_point 117\n",
      "108\n",
      "6.402499999999999\n",
      "turn_point 121\n",
      "108\n",
      "6.402499999999999\n",
      "turn_point 120\n",
      "108\n",
      "6.402499999999999\n",
      "turn_point 121\n",
      "111\n",
      "6.152700072000002\n",
      "turn_point 129\n",
      "108\n",
      "6.402499999999999\n",
      "turn_point 129\n",
      "108\n",
      "6.402499999999999\n",
      "turn_point 123\n",
      "112\n",
      "6.074100036\n",
      "turn_point 123\n",
      "112\n",
      "6.074100036\n",
      "turn_point 121\n",
      "108\n",
      "6.402499999999999\n",
      "turn_point 120\n",
      "108\n",
      "6.402499999999999\n",
      "turn_point 121\n",
      "107\n",
      "6.476300048000001\n",
      "turn_point 123\n",
      "107\n",
      "6.476300048000001\n",
      "turn_point 115\n",
      "110\n",
      "6.234900024000001\n",
      "turn_point 124\n",
      "108\n",
      "6.402499999999999\n",
      "turn_point 124\n",
      "108\n",
      "6.402499999999999\n",
      "turn_point 135\n",
      "124\n",
      "5.107300048\n",
      "turn_point 126\n",
      "110\n",
      "6.234900024000001\n",
      "turn_point 122\n",
      "108\n",
      "6.402499999999999\n",
      "turn_point 124\n",
      "110\n",
      "6.234900024000001\n",
      "turn_point 121\n",
      "107\n",
      "6.476300048000001\n",
      "turn_point 123\n",
      "107\n",
      "6.476300048000001\n",
      "turn_point 125\n",
      "109\n",
      "6.315900024\n",
      "turn_point 120\n",
      "108\n",
      "6.402499999999999\n",
      "turn_point 122\n",
      "108\n",
      "6.402499999999999\n",
      "turn_point 117\n",
      "107\n",
      "6.476300048000001\n",
      "turn_point 124\n",
      "109\n",
      "6.315900024\n",
      "turn_point 128\n",
      "112\n",
      "6.074100036\n",
      "turn_point 136\n",
      "108\n",
      "6.402499999999999\n",
      "turn_point 123\n",
      "113\n",
      "5.9911999520000006\n",
      "turn_point 122\n",
      "110\n",
      "6.234900024000001\n",
      "turn_point 123\n",
      "109\n",
      "6.315900024\n",
      "turn_point 122\n",
      "108\n",
      "6.402499999999999\n",
      "turn_point 126\n",
      "111\n",
      "6.152700072000002\n",
      "turn_point 122\n",
      "112\n",
      "6.074100036\n",
      "turn_point 125\n",
      "112\n",
      "6.074100036\n",
      "turn_point 30\n",
      "29\n",
      "12.766199952000003\n",
      "turn_point 121\n",
      "113\n",
      "5.9911999520000006\n",
      "turn_point 127\n",
      "112\n",
      "6.074100036\n",
      "turn_point 125\n",
      "119\n",
      "5.50750006\n",
      "turn_point 127\n",
      "111\n",
      "6.152700072000002\n",
      "turn_point 122\n",
      "111\n",
      "6.152700072000002\n",
      "turn_point 122\n",
      "111\n",
      "6.152700072000002\n",
      "6.315900024\n"
     ]
    }
   ],
   "source": [
    "#get_Ibias_bp(Ibias[:,1],data_demods_bin[139],0.5)\n",
    "\n",
    "computed_bias_pt = np.array([])\n",
    "for ch in range(data_demods_bin.shape[0]):\n",
    "    try:\n",
    "        computed_bias_pt = np.append(computed_bias_pt, get_Ibias_bp(Ibias[:,1],data_demods_bin[ch],0.5))\n",
    "    except:\n",
    "        continue\n",
    "        \n",
    "median_bp = np.median(computed_bias_pt)\n",
    "print(median_bp)"
   ]
  },
  {
   "cell_type": "code",
   "execution_count": 69,
   "id": "2379e134",
   "metadata": {},
   "outputs": [],
   "source": [
    "# Matt playing around here now"
   ]
  },
  {
   "cell_type": "code",
   "execution_count": 80,
   "id": "a29132a3-85a3-41a3-b153-691b249f65b9",
   "metadata": {},
   "outputs": [
    {
     "data": {
      "text/plain": [
       "<module 'matplotlib.pyplot' from '/home/matt/.local/readout/lib/python3.10/site-packages/matplotlib/pyplot.py'>"
      ]
     },
     "execution_count": 80,
     "metadata": {},
     "output_type": "execute_result"
    }
   ],
   "source": [
    "imp.reload(plt)"
   ]
  },
  {
   "cell_type": "code",
   "execution_count": 105,
   "id": "d5cf4662-4d3b-4168-8a00-079cdd323492",
   "metadata": {},
   "outputs": [],
   "source": [
    "for ch in range(data_demods_bin.shape[0]):\n",
    "    try:\n",
    "        IV_analysis_ch_new(Ibias[:,1],data_demods_bin[ch],plot='IV')\n",
    "        \n",
    "    except:\n",
    "        continue"
   ]
  },
  {
   "cell_type": "code",
   "execution_count": null,
   "id": "6bd4ab0e-0ebd-49bf-bced-98e59de9f7d2",
   "metadata": {},
   "outputs": [],
   "source": []
  }
 ],
 "metadata": {
  "kernelspec": {
   "display_name": "Python 3 (ipykernel)",
   "language": "python",
   "name": "python3"
  },
  "language_info": {
   "codemirror_mode": {
    "name": "ipython",
    "version": 3
   },
   "file_extension": ".py",
   "mimetype": "text/x-python",
   "name": "python",
   "nbconvert_exporter": "python",
   "pygments_lexer": "ipython3",
   "version": "3.10.5"
  }
 },
 "nbformat": 4,
 "nbformat_minor": 5
}
