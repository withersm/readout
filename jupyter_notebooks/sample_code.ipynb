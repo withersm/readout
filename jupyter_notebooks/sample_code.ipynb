{
 "cells": [
  {
   "cell_type": "code",
   "execution_count": 1,
   "id": "f5533917-6c7b-49bf-b9af-43022fceeec0",
   "metadata": {},
   "outputs": [],
   "source": [
    "import matplotlib.pyplot as plt\n",
    "import numpy as np\n",
    "import sys\n",
    "sys.path.append('/home/matt/readout/host/')\n",
    "import ali_offline_demod as dm"
   ]
  },
  {
   "cell_type": "markdown",
   "id": "802f924a-d141-4241-9c0e-747c842859e0",
   "metadata": {},
   "source": [
    "## Sample Code"
   ]
  },
  {
   "cell_type": "markdown",
   "id": "8c90b2f7-398d-42f7-9e4b-2b17aac7aa01",
   "metadata": {},
   "source": [
    "### Time stream analysis"
   ]
  },
  {
   "cell_type": "code",
   "execution_count": null,
   "id": "994f13f9-e8db-4fb9-942c-dad63d5f3e95",
   "metadata": {},
   "outputs": [],
   "source": [
    "data_file = 'ts_file_name.hd5' #it knows our standard directory so you just need the file\n",
    "\n",
    "result_ts = dm.full_demod_process(test_ts_2, f_sawtooth = 5)"
   ]
  },
  {
   "cell_type": "code",
   "execution_count": null,
   "id": "db523930-8d4f-4bec-8300-9a811f5d023e",
   "metadata": {},
   "outputs": [],
   "source": [
    "ch = 1\n",
    "\n",
    "plt.plot(result_ts['demod t'], result_ts['demod data'][ch])\n",
    "\n",
    "\"\"\"\n",
    "Other items in result_ts\n",
    "\n",
    "result_ts['fr t'] -> raw time stamps (i.e., times before fr removal)\n",
    "result_ts['nphi'] -> average N_phi0 value for the data set\n",
    "result_ts['t0'] -> start time of first full flux ramp\n",
    "result_ts['demod t'][ch] -> demodulated times per channel\n",
    "result_ts['demod data'][ch] -> demodulated data per channel\n",
    "result_ts['channel freqs'] -> single list of resonator frequencies associated to each channel\n",
    "result_ts['fsawtooth'] -> sawtooth frequency\n",
    "\"\"\""
   ]
  },
  {
   "cell_type": "markdown",
   "id": "e01350f3-bb9c-4015-995a-fd6b0bfad084",
   "metadata": {},
   "source": [
    "### IV curve analysis"
   ]
  },
  {
   "cell_type": "code",
   "execution_count": null,
   "id": "c4422204-1779-4d48-847b-a14c284d9ef1",
   "metadata": {},
   "outputs": [],
   "source": [
    "data_directory = 'name_of_directory' #it knows the parent directory, so you just need the \n",
    "                                     #specific directory name\n",
    "\n",
    "result_iv = dm.full_iv_process(test_iv,f_sawtooth=15,iv_path = data_directory, filter_Rn_Al=True, plot=None) \n",
    "#if filter_Rn_Al == True, bad IV curves are removed\n"
   ]
  },
  {
   "cell_type": "code",
   "execution_count": null,
   "id": "cd1ea1b7-2c0c-49ed-a046-148df14aecaf",
   "metadata": {},
   "outputs": [],
   "source": [
    "ch = 1\n",
    "\n",
    "plt.plot(result_iv['Vtes'][ch], result_iv['Ites'][ch])\n",
    "\n",
    "\n",
    "\"\"\"\n",
    "Other items in result_iv\n",
    "\n",
    "result_iv['Ibias'] -> bias currents\n",
    "result_iv['Rn Al'] -> computed normal resistance (average across entire set)\n",
    "result_iv['Rtes'][ch] -> Rtes values for selected channel\n",
    "result_iv['Vtes'][ch] -> Vtes values for selected channel\n",
    "result_iv['bps'][ch] -> Rtes values for selected channel as fraction (0 to 1) of Rn (easiest way to find \n",
    "                        the bias pt)\n",
    "result_iv['demod data'] -> all of the demod data for measurement (see above, \n",
    "                           e.g., result_iv['demod data']['fr t'])\n",
    "\"\"\"\n"
   ]
  }
 ],
 "metadata": {
  "kernelspec": {
   "display_name": "Python 3 (ipykernel)",
   "language": "python",
   "name": "python3"
  },
  "language_info": {
   "codemirror_mode": {
    "name": "ipython",
    "version": 3
   },
   "file_extension": ".py",
   "mimetype": "text/x-python",
   "name": "python",
   "nbconvert_exporter": "python",
   "pygments_lexer": "ipython3",
   "version": "3.10.5"
  }
 },
 "nbformat": 4,
 "nbformat_minor": 5
}
