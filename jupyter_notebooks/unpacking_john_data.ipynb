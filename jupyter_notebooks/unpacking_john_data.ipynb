{
 "cells": [
  {
   "cell_type": "code",
   "execution_count": 2,
   "id": "02133039-35a9-4ba8-af43-a88d51e651f5",
   "metadata": {},
   "outputs": [],
   "source": [
    "import numpy as np\n",
    "import matplotlib.pyplot as plt"
   ]
  },
  {
   "cell_type": "code",
   "execution_count": 3,
   "id": "e47d7d1f-c3c8-4dc3-bca2-b00baf320a64",
   "metadata": {},
   "outputs": [],
   "source": [
    "path = './AliCPT_first_detector_module_design_mapping/'"
   ]
  },
  {
   "cell_type": "code",
   "execution_count": 5,
   "id": "1eb9a4b8-de22-46b2-a0cf-b1c7d92d7544",
   "metadata": {},
   "outputs": [
    {
     "name": "stdout",
     "output_type": "stream",
     "text": [
      "22\n"
     ]
    }
   ],
   "source": [
    "band_number = np.load(path+'band_number.npy') #umux chip band number\n",
    "\n",
    "print(max(band_number))"
   ]
  },
  {
   "cell_type": "code",
   "execution_count": 6,
   "id": "c34a9f64-6228-4df4-8888-7de239280bdd",
   "metadata": {},
   "outputs": [
    {
     "name": "stdout",
     "output_type": "stream",
     "text": [
      "[ True False False ... False False False]\n"
     ]
    }
   ],
   "source": [
    "bare_resonator = np.load(path+'bare_resonator.npy') #is there a SQUID or not\n",
    "\n",
    "print(bare_resonator)"
   ]
  },
  {
   "cell_type": "code",
   "execution_count": 7,
   "id": "7f28e40d-1442-479e-96b5-34808b1a5ce8",
   "metadata": {},
   "outputs": [
    {
     "name": "stdout",
     "output_type": "stream",
     "text": [
      "[-1  2  2 ...  9  9 -1]\n"
     ]
    }
   ],
   "source": [
    "bias_line = np.load(path+'bias_line.npy') #which bias line is each resonator on\n",
    "\n",
    "print(bias_line)"
   ]
  },
  {
   "cell_type": "code",
   "execution_count": 8,
   "id": "08eb9bba-89a0-46cb-8bf2-7c1762aa10b4",
   "metadata": {},
   "outputs": [
    {
     "name": "stdout",
     "output_type": "stream",
     "text": [
      "['muxchippos00_band00_chfreqorder00_chphysorder-1'\n",
      " 'muxchippos00_band00_chfreqorder33_chphysorder00'\n",
      " 'muxchippos00_band00_chfreqorder17_chphysorder01' ...\n",
      " 'muxchippos27_band02_chfreqorder65_chphysorder62'\n",
      " 'muxchippos27_band02_chfreqorder16_chphysorder63'\n",
      " 'muxchippos27_band02_chfreqorder49_chphysorder64']\n"
     ]
    }
   ],
   "source": [
    "readout_channel = np.load(path+'readout_channel.npy')\n",
    "\n",
    "print(readout_channel)"
   ]
  },
  {
   "cell_type": "code",
   "execution_count": 9,
   "id": "45454f62-b6dc-4747-a526-e2a126d879ce",
   "metadata": {},
   "outputs": [
    {
     "name": "stdout",
     "output_type": "stream",
     "text": [
      "[4.01900000e+09 4.07664760e+09 4.04798757e+09 ... 4.36406676e+09\n",
      " 4.27906930e+09 4.33671690e+09]\n",
      "(1848,)\n"
     ]
    }
   ],
   "source": [
    "design_frequency = np.load(path+'design_frequency.npy')\n",
    "\n",
    "print(design_frequency)\n",
    "print(design_frequency.shape)"
   ]
  },
  {
   "cell_type": "code",
   "execution_count": 10,
   "id": "94db2fae-2f9c-4794-8a4b-d754335e9722",
   "metadata": {},
   "outputs": [
    {
     "data": {
      "text/plain": [
       "Text(0.5, 0, 'Frequency (Hz)')"
      ]
     },
     "execution_count": 10,
     "metadata": {},
     "output_type": "execute_result"
    }
   ],
   "source": [
    "%matplotlib qt\n",
    "plt.plot(design_frequency,bias_line,'.')\n",
    "plt.vlines(4.5e9,5.5,11.5)\n",
    "plt.vlines(5.0e9,5.5,11.5)\n",
    "plt.vlines(5.5e9,5.5,11.5)\n",
    "plt.vlines(6.0e9,5.5,11.5)\n",
    "plt.vlines(6.5e9,5.5,11.5)\n",
    "\n",
    "\n",
    "plt.ylim([5.5,11.5])\n",
    "plt.ylabel('Bias Line')\n",
    "plt.xlabel('Frequency (Hz)')\n"
   ]
  }
 ],
 "metadata": {
  "kernelspec": {
   "display_name": "Python 3 (ipykernel)",
   "language": "python",
   "name": "python3"
  },
  "language_info": {
   "codemirror_mode": {
    "name": "ipython",
    "version": 3
   },
   "file_extension": ".py",
   "mimetype": "text/x-python",
   "name": "python",
   "nbconvert_exporter": "python",
   "pygments_lexer": "ipython3",
   "version": "3.10.5"
  }
 },
 "nbformat": 4,
 "nbformat_minor": 5
}
