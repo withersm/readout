{
 "cells": [
  {
   "cell_type": "code",
   "execution_count": 1,
   "metadata": {},
   "outputs": [
    {
     "name": "stdout",
     "output_type": "stream",
     "text": [
      "/Users/leayamashiro/AliCPT/ali_LY_git\n"
     ]
    }
   ],
   "source": [
    "cd /Users/leayamashiro/AliCPT/ali_LY_git"
   ]
  },
  {
   "cell_type": "code",
   "execution_count": 2,
   "metadata": {},
   "outputs": [],
   "source": [
    "import numpy as np\n",
    "import matplotlib as mpl\n",
    "mpl.rcParams['axes.formatter.useoffset'] = False\n",
    "import matplotlib.pyplot as plt\n",
    "import scipy\n",
    "\n",
    "from scipy.signal import sawtooth, square, savgol_filter\n",
    "import pandas as pd\n",
    "import glob as gl\n",
    "import os\n",
    "import cmath\n",
    "\n",
    "from scipy.signal import sawtooth, square,find_peaks\n",
    "from scipy import spatial\n",
    "# import lambdafit as lf\n",
    "from scipy.interpolate import CubicSpline,interp1d\n",
    "import h5py\n",
    "\n",
    "from tqdm import tqdm as tqdm_terminal\n",
    "from tqdm.notebook import trange, tqdm_notebook\n",
    "from scipy.signal.windows import hann\n",
    "\n",
    "from scipy.fft import fft, ifft, fftfreq\n",
    "from copy import deepcopy\n",
    "from scipy.interpolate import CubicSpline, interp1d\n",
    "from scipy.optimize import curve_fit\n",
    "\n",
    "import ali_offline_demod as dmd"
   ]
  },
  {
   "cell_type": "code",
   "execution_count": 3,
   "metadata": {},
   "outputs": [],
   "source": [
    "# FUNCTION JUST TO READ OUT FILE AND CHUNK EACH CHANNEL BY THE SAME T, I, Q DATA AS SEPARATE DATAFRAMES\n",
    "\n",
    "def read_chunk_channels(filename):# single_channel, time='all', t_start=0, t_stop=28000):\n",
    "    file = h5py.File(filename, 'r')\n",
    "    # make arrays \n",
    "    i = np.array(file['time_ordered_data']['adc_i'])\n",
    "    i = np.delete(i, slice(0,22), 0)\n",
    "    q = np.array(file['time_ordered_data']['adc_q'])\n",
    "    q = np.delete(q, slice(0,22), 0)\n",
    "    t = np.array(file['time_ordered_data']['timestamp'])\n",
    "    \n",
    "    #initialize channel data dictionary\n",
    "    channel_dict = {}\n",
    "\n",
    "    # create structured array [t, i, q] for each channel\n",
    "    for channel in range(i.shape[0]):\n",
    "        # then store each channel as dataframe\n",
    "        freqs_frame = pd.DataFrame({'t':t, \n",
    "                                    'i': i[channel], \n",
    "                                    'q': q[channel]\n",
    "                                    })\n",
    "        # store channel n in the greater dictionary\n",
    "        channel_dict[channel] = freqs_frame\n",
    "    \n",
    "    return channel_dict"
   ]
  },
  {
   "cell_type": "code",
   "execution_count": 4,
   "metadata": {},
   "outputs": [],
   "source": [
    "# FUNCTION 2: \n",
    "    # read file \n",
    "    # chunk channels into their own dataframes \n",
    "    # isolate desired channel\n",
    "    # returns channel chunk as dataframe (just no time/event index component)\n",
    "\n",
    "def read_chunk_isolate_channel(filename, single_channel):\n",
    "    file = h5py.File(filename, 'r')\n",
    "    # make arrays \n",
    "    i = np.array(file['time_ordered_data']['adc_i'])\n",
    "    i = np.delete(i, slice(0,22), 0)\n",
    "    q = np.array(file['time_ordered_data']['adc_q'])\n",
    "    q = np.delete(q, slice(0,22), 0)\n",
    "    t = np.array(file['time_ordered_data']['timestamp'])\n",
    "    \n",
    "    #initialize channel data dictionary\n",
    "    channel_dict = {}\n",
    "\n",
    "    # create structured array [t, i, q] for each channel\n",
    "    for channel in range(i.shape[0]):\n",
    "        # then store each channel as dataframe\n",
    "        freqs_frame = pd.DataFrame({'t':t, \n",
    "                                    'i': i[channel], \n",
    "                                    'q': q[channel]\n",
    "                                    })\n",
    "        # store channel n in the greater dictionary\n",
    "        channel_dict[channel] = freqs_frame\n",
    "    \n",
    "    selected_channel = channel_dict.get(single_channel)\n",
    "    if selected_channel is None: \n",
    "        raise ValueError(f\"channel {single_channel} not found\")\n",
    "\n",
    "    selected_channel = selected_channel.rename_axis('Event')\n",
    "\n",
    "    return selected_channel\n"
   ]
  },
  {
   "cell_type": "code",
   "execution_count": 5,
   "metadata": {},
   "outputs": [],
   "source": [
    "\n",
    "# FUNCTION 3: \n",
    "    # read file \n",
    "    # chunk channels into their own dataframes \n",
    "    # isolate desired channel\n",
    "    # isolate time chunk within isolated channel \n",
    "    # returns channel and time chunk as Dataframe\n",
    "\n",
    "def read_chunk_isolate_channel_time(filename, single_channel, time='all', t_index_start=None, t_index_stop=None):\n",
    "    file = h5py.File(filename, 'r')\n",
    "    # make arrays \n",
    "    i = np.array(file['time_ordered_data']['adc_i'])\n",
    "    i = np.delete(i, slice(0,22), 0)\n",
    "    q = np.array(file['time_ordered_data']['adc_q'])\n",
    "    q = np.delete(q, slice(0,22), 0)\n",
    "    t = np.array(file['time_ordered_data']['timestamp'])\n",
    "    \n",
    "    #initialize channel data dictionary\n",
    "    channel_dict = {}\n",
    "\n",
    "    # create structured array [t, i, q] for each channel\n",
    "    for channel in range(i.shape[0]):\n",
    "        # then store each channel as dataframe\n",
    "        freqs_frame = pd.DataFrame({'t':t, \n",
    "                                    'i': i[channel], \n",
    "                                    'q': q[channel]\n",
    "                                    })\n",
    "        # store channel n in the greater dictionary\n",
    "        channel_dict[channel] = freqs_frame\n",
    "    \n",
    "    # get desired channel\n",
    "    selected_channel = channel_dict.get(single_channel)\n",
    "    if selected_channel is None: \n",
    "        raise ValueError(f\"channel {single_channel} not found\")\n",
    "    selected_channel = selected_channel.rename_axis('Event')\n",
    "\n",
    "    # getting desired time chunk range (all or specific)\n",
    "    if time == 'all':\n",
    "        chunked_channel_time = selected_channel\n",
    "    elif time == 'some':\n",
    "        if t_index_start is None or t_index_stop is None: \n",
    "            raise ValueError('provide slice boundaries for time = some')\n",
    "        chunked_channel_time = selected_channel.iloc[t_index_start:t_index_stop]\n",
    "\n",
    "    return chunked_channel_time\n",
    "\n",
    "\n"
   ]
  },
  {
   "cell_type": "code",
   "execution_count": 6,
   "metadata": {},
   "outputs": [
    {
     "name": "stdout",
     "output_type": "stream",
     "text": [
      "/Users/leayamashiro/AliCPT/alicpt_data/data_files\n"
     ]
    }
   ],
   "source": [
    "cd /Users/leayamashiro/AliCPT/alicpt_data/data_files/"
   ]
  },
  {
   "cell_type": "code",
   "execution_count": 14,
   "metadata": {},
   "outputs": [
    {
     "name": "stdout",
     "output_type": "stream",
     "text": [
      "Channel: 0                    t    i    q\n",
      "Event                         \n",
      "0       1.715048e+09  587 -961\n",
      "1       1.715048e+09  535 -953\n",
      "2       1.715048e+09  515 -949\n",
      "3       1.715048e+09  487 -933\n",
      "4       1.715048e+09  504 -910\n",
      "...              ...  ...  ...\n",
      "293283  1.715048e+09  574 -947\n",
      "293284  1.715048e+09  582 -963\n",
      "293285  1.715048e+09  537 -955\n",
      "293286  1.715048e+09  564 -943\n",
      "293287  1.715048e+09  534 -911\n",
      "\n",
      "[293288 rows x 3 columns]\n",
      "Channel: 1                    t     i     q\n",
      "Event                           \n",
      "0       1.715048e+09  2374 -1274\n",
      "1       1.715048e+09  3048 -2202\n",
      "2       1.715048e+09  3034 -2376\n",
      "3       1.715048e+09  2468 -1470\n",
      "4       1.715048e+09  1245 -1046\n",
      "...              ...   ...   ...\n",
      "293283  1.715048e+09   203 -1725\n",
      "293284  1.715048e+09   609 -1395\n",
      "293285  1.715048e+09  1595 -1066\n",
      "293286  1.715048e+09  2737 -1603\n",
      "293287  1.715048e+09  3039 -2432\n",
      "\n",
      "[293288 rows x 3 columns]\n",
      "Channel: 10                    t     i     q\n",
      "Event                           \n",
      "0       1.715048e+09  1438  -779\n",
      "1       1.715048e+09  2713  -951\n",
      "2       1.715048e+09  3579 -2049\n",
      "3       1.715048e+09  3601 -2368\n",
      "4       1.715048e+09  3165 -1334\n",
      "...              ...   ...   ...\n",
      "293283  1.715048e+09   696 -1253\n",
      "293284  1.715048e+09   693 -1276\n",
      "293285  1.715048e+09  1010  -992\n",
      "293286  1.715048e+09  1878  -717\n",
      "293287  1.715048e+09  3147 -1297\n",
      "\n",
      "[293288 rows x 3 columns]\n",
      "Channel: 100                    t     i     q\n",
      "Event                           \n",
      "0       1.715048e+09 -1487 -1773\n",
      "1       1.715048e+09  -927 -2540\n",
      "2       1.715048e+09 -1191 -3800\n",
      "3       1.715048e+09 -1505 -4143\n",
      "4       1.715048e+09  -930 -3293\n",
      "...              ...   ...   ...\n",
      "293283  1.715048e+09 -2058 -1417\n",
      "293284  1.715048e+09 -2077 -1404\n",
      "293285  1.715048e+09 -1818 -1556\n",
      "293286  1.715048e+09 -1233 -2024\n",
      "293287  1.715048e+09  -908 -3123\n",
      "\n",
      "[293288 rows x 3 columns]\n",
      "Channel: 300                    t  i  q\n",
      "Event                     \n",
      "0       1.715048e+09  0  0\n",
      "1       1.715048e+09  0  0\n",
      "2       1.715048e+09  0  0\n",
      "3       1.715048e+09  0  0\n",
      "4       1.715048e+09  0  0\n",
      "...              ... .. ..\n",
      "293283  1.715048e+09  0  0\n",
      "293284  1.715048e+09  0  0\n",
      "293285  1.715048e+09  0  0\n",
      "293286  1.715048e+09  0  0\n",
      "293287  1.715048e+09  0  0\n",
      "\n",
      "[293288 rows x 3 columns]\n",
      "Channel: 400                    t  i  q\n",
      "Event                     \n",
      "0       1.715048e+09  0  0\n",
      "1       1.715048e+09  0  0\n",
      "2       1.715048e+09  0  0\n",
      "3       1.715048e+09  0  0\n",
      "4       1.715048e+09  0  0\n",
      "...              ... .. ..\n",
      "293283  1.715048e+09  0  0\n",
      "293284  1.715048e+09  0  0\n",
      "293285  1.715048e+09  0  0\n",
      "293286  1.715048e+09  0  0\n",
      "293287  1.715048e+09  0  0\n",
      "\n",
      "[293288 rows x 3 columns]\n"
     ]
    }
   ],
   "source": [
    "# testing the read_chunk_isolate_channel function: \n",
    "testfile = 'ts_toneinit_fcenter_4250.0_20240506174818_t_20240506191017.hd5'\n",
    "\n",
    "testing_channels = [0, 1, 10, 100, 300, 400]\n",
    "\n",
    "for i in range(len(testing_channels)):\n",
    "    print('Channel: ' + str(testing_channels[i]), \n",
    "          read_chunk_isolate_channel(filename = testfile, single_channel=testing_channels[i]))"
   ]
  },
  {
   "cell_type": "code",
   "execution_count": 108,
   "metadata": {},
   "outputs": [],
   "source": [
    "testing_chunk_channel_time_100 = read_chunk_isolate_channel_time(filename=testfile, single_channel=100, time='some', t_index_start=10000, t_index_stop=20000)"
   ]
  },
  {
   "cell_type": "code",
   "execution_count": 111,
   "metadata": {},
   "outputs": [],
   "source": [
    "testing_chunk_channel_time_100_2 = read_chunk_isolate_channel_time(filename=testfile, single_channel=100, time='some', t_index_start=10000, t_index_stop=20000)"
   ]
  },
  {
   "cell_type": "code",
   "execution_count": 112,
   "metadata": {},
   "outputs": [
    {
     "data": {
      "text/html": [
       "<div>\n",
       "<style scoped>\n",
       "    .dataframe tbody tr th:only-of-type {\n",
       "        vertical-align: middle;\n",
       "    }\n",
       "\n",
       "    .dataframe tbody tr th {\n",
       "        vertical-align: top;\n",
       "    }\n",
       "\n",
       "    .dataframe thead th {\n",
       "        text-align: right;\n",
       "    }\n",
       "</style>\n",
       "<table border=\"1\" class=\"dataframe\">\n",
       "  <thead>\n",
       "    <tr style=\"text-align: right;\">\n",
       "      <th></th>\n",
       "      <th>timestamp</th>\n",
       "      <th>i</th>\n",
       "      <th>q</th>\n",
       "    </tr>\n",
       "    <tr>\n",
       "      <th>Event</th>\n",
       "      <th></th>\n",
       "      <th></th>\n",
       "      <th></th>\n",
       "    </tr>\n",
       "  </thead>\n",
       "  <tbody>\n",
       "    <tr>\n",
       "      <th>10000</th>\n",
       "      <td>1.715048e+09</td>\n",
       "      <td>-1952</td>\n",
       "      <td>-1480</td>\n",
       "    </tr>\n",
       "    <tr>\n",
       "      <th>10001</th>\n",
       "      <td>1.715048e+09</td>\n",
       "      <td>-2133</td>\n",
       "      <td>-1359</td>\n",
       "    </tr>\n",
       "    <tr>\n",
       "      <th>10002</th>\n",
       "      <td>1.715048e+09</td>\n",
       "      <td>-2019</td>\n",
       "      <td>-1417</td>\n",
       "    </tr>\n",
       "    <tr>\n",
       "      <th>10003</th>\n",
       "      <td>1.715048e+09</td>\n",
       "      <td>-1576</td>\n",
       "      <td>-1713</td>\n",
       "    </tr>\n",
       "    <tr>\n",
       "      <th>10004</th>\n",
       "      <td>1.715048e+09</td>\n",
       "      <td>-1001</td>\n",
       "      <td>-2401</td>\n",
       "    </tr>\n",
       "    <tr>\n",
       "      <th>...</th>\n",
       "      <td>...</td>\n",
       "      <td>...</td>\n",
       "      <td>...</td>\n",
       "    </tr>\n",
       "    <tr>\n",
       "      <th>19995</th>\n",
       "      <td>1.715048e+09</td>\n",
       "      <td>-2098</td>\n",
       "      <td>-1391</td>\n",
       "    </tr>\n",
       "    <tr>\n",
       "      <th>19996</th>\n",
       "      <td>1.715048e+09</td>\n",
       "      <td>-1853</td>\n",
       "      <td>-1543</td>\n",
       "    </tr>\n",
       "    <tr>\n",
       "      <th>19997</th>\n",
       "      <td>1.715048e+09</td>\n",
       "      <td>-1302</td>\n",
       "      <td>-1933</td>\n",
       "    </tr>\n",
       "    <tr>\n",
       "      <th>19998</th>\n",
       "      <td>1.715048e+09</td>\n",
       "      <td>-911</td>\n",
       "      <td>-3014</td>\n",
       "    </tr>\n",
       "    <tr>\n",
       "      <th>19999</th>\n",
       "      <td>1.715048e+09</td>\n",
       "      <td>-1981</td>\n",
       "      <td>-1494</td>\n",
       "    </tr>\n",
       "  </tbody>\n",
       "</table>\n",
       "<p>10000 rows × 3 columns</p>\n",
       "</div>"
      ],
      "text/plain": [
       "          timestamp     i     q\n",
       "Event                          \n",
       "10000  1.715048e+09 -1952 -1480\n",
       "10001  1.715048e+09 -2133 -1359\n",
       "10002  1.715048e+09 -2019 -1417\n",
       "10003  1.715048e+09 -1576 -1713\n",
       "10004  1.715048e+09 -1001 -2401\n",
       "...             ...   ...   ...\n",
       "19995  1.715048e+09 -2098 -1391\n",
       "19996  1.715048e+09 -1853 -1543\n",
       "19997  1.715048e+09 -1302 -1933\n",
       "19998  1.715048e+09  -911 -3014\n",
       "19999  1.715048e+09 -1981 -1494\n",
       "\n",
       "[10000 rows x 3 columns]"
      ]
     },
     "execution_count": 112,
     "metadata": {},
     "output_type": "execute_result"
    }
   ],
   "source": [
    "testing_chunk_channel_time_100_2"
   ]
  },
  {
   "cell_type": "markdown",
   "metadata": {},
   "source": [
    "## Numpy array method"
   ]
  },
  {
   "cell_type": "code",
   "execution_count": 8,
   "metadata": {},
   "outputs": [],
   "source": [
    "testfile = 'ts_toneinit_fcenter_4250.0_20240506174818_t_20240506191017.hd5'"
   ]
  },
  {
   "cell_type": "code",
   "execution_count": 9,
   "metadata": {},
   "outputs": [],
   "source": [
    "# read in file \n",
    "file = h5py.File(testfile, 'r')\n",
    "\n",
    "# make arrays \n",
    "i = np.array(file['time_ordered_data']['adc_i'])\n",
    "i = np.delete(i, slice(0,22), 0)\n",
    "q = np.array(file['time_ordered_data']['adc_q'])\n",
    "q = np.delete(q, slice(0,22), 0)\n",
    "t = np.array(file['time_ordered_data']['timestamp'])\n",
    "\n",
    "channel_dict = {}\n",
    "\n",
    "for channel in range(i.shape[0]):\n",
    "    channel_data = np.column_stack((t, i[channel], q[channel]))\n",
    "    channel_dict[channel] = channel_data \n"
   ]
  },
  {
   "cell_type": "code",
   "execution_count": 10,
   "metadata": {},
   "outputs": [],
   "source": [
    "# so identical function as before but with numpy: \n",
    "\n",
    "def chunk_select_channel_np(filename, single_channel):\n",
    "    file = h5py.File(filename, 'r')\n",
    "\n",
    "    # make arrays \n",
    "    i = np.array(file['time_ordered_data']['adc_i'])\n",
    "    i = np.delete(i, slice(0,22), 0)\n",
    "    q = np.array(file['time_ordered_data']['adc_q'])\n",
    "    q = np.delete(q, slice(0,22), 0)\n",
    "    t = np.array(file['time_ordered_data']['timestamp'])\n",
    "\n",
    "    channel_dict = {}\n",
    "\n",
    "    for channel in range(i.shape[0]):\n",
    "        channel_data = np.column_stack((t, i[channel], q[channel]))\n",
    "        channel_dict[channel] = channel_data\n",
    "\n",
    "    single_channel_data = channel_dict.get(single_channel)\n",
    "\n",
    "    return single_channel_data"
   ]
  },
  {
   "cell_type": "code",
   "execution_count": 13,
   "metadata": {},
   "outputs": [
    {
     "data": {
      "text/plain": [
       "array([1.71504784e+09, 0.00000000e+00, 0.00000000e+00])"
      ]
     },
     "execution_count": 13,
     "metadata": {},
     "output_type": "execute_result"
    }
   ],
   "source": [
    "# test function\n",
    "\n",
    "np_chunk_test = chunk_select_channel_np(testfile, 800)\n",
    "np_chunk_test[10000, :]"
   ]
  },
  {
   "cell_type": "code",
   "execution_count": 78,
   "metadata": {},
   "outputs": [],
   "source": [
    "# okay now faster version where it's not iterating over the entire set: \n",
    "\n",
    "def chunk_select_channel_np_reduced(filename, single_channel):\n",
    "    file = h5py.File(filename, 'r')\n",
    "\n",
    "    # make arrays \n",
    "    i = np.array(file['time_ordered_data']['adc_i'])\n",
    "    i = np.delete(i, slice(0,22), 0)\n",
    "    q = np.array(file['time_ordered_data']['adc_q'])\n",
    "    q = np.delete(q, slice(0,22), 0)\n",
    "    t = np.array(file['time_ordered_data']['timestamp'])\n",
    "\n",
    "    single_channel_data = np.column_stack((t, i[single_channel], q[single_channel]))\n",
    "\n",
    "    # single_channel_data_dict = {'t': single_channel_data[:,0], \n",
    "    #                             'i': single_channel_data[:,1], \n",
    "    #                             'q': single_channel_data[:,2]}\n",
    "\n",
    "    return single_channel_data\n",
    "\n"
   ]
  },
  {
   "cell_type": "code",
   "execution_count": 68,
   "metadata": {},
   "outputs": [],
   "source": [
    "# faster pandas version: \n",
    "\n",
    "def read_chunk_isolate_channel_time_reduced_pd(filename, single_channel, time='all', t_index_start=None, t_index_stop=None):\n",
    "    file = h5py.File(filename, 'r')\n",
    "    # make arrays \n",
    "    i = np.array(file['time_ordered_data']['adc_i'])\n",
    "    i = np.delete(i, slice(0,22), 0)\n",
    "    q = np.array(file['time_ordered_data']['adc_q'])\n",
    "    q = np.delete(q, slice(0,22), 0)\n",
    "    t = np.array(file['time_ordered_data']['timestamp'])\n",
    "    \n",
    "    if single_channel >= i.shape[0]:\n",
    "        raise ValueError(f\"channel {single_channel} not found\")\n",
    "    \n",
    "    i_data = i[single_channel]\n",
    "    q_data = q[single_channel]\n",
    "\n",
    "    selected_channel_frame = pd.DataFrame({'t': t, \n",
    "                                           'i': i_data,\n",
    "                                           'q': q_data\n",
    "                                           })\n",
    "\n",
    "    selected_channel_frame = selected_channel_frame.rename_axis('Event')\n",
    "\n",
    "    # getting desired time chunk range (all or specific)\n",
    "    if time == 'all':\n",
    "        chunked_channel_time = selected_channel_frame\n",
    "    elif time == 'some':\n",
    "        if t_index_start is None or t_index_stop is None: \n",
    "            raise ValueError('provide slice boundaries for time = some')\n",
    "        chunked_channel_time = selected_channel_frame.iloc[t_index_start:t_index_stop]\n",
    "\n",
    "    return chunked_channel_time"
   ]
  },
  {
   "cell_type": "code",
   "execution_count": 69,
   "metadata": {},
   "outputs": [],
   "source": [
    "reduced_pd_test = read_chunk_isolate_channel_time_reduced(testfile, 100, time='all')"
   ]
  },
  {
   "cell_type": "code",
   "execution_count": 70,
   "metadata": {},
   "outputs": [
    {
     "data": {
      "text/html": [
       "<div>\n",
       "<style scoped>\n",
       "    .dataframe tbody tr th:only-of-type {\n",
       "        vertical-align: middle;\n",
       "    }\n",
       "\n",
       "    .dataframe tbody tr th {\n",
       "        vertical-align: top;\n",
       "    }\n",
       "\n",
       "    .dataframe thead th {\n",
       "        text-align: right;\n",
       "    }\n",
       "</style>\n",
       "<table border=\"1\" class=\"dataframe\">\n",
       "  <thead>\n",
       "    <tr style=\"text-align: right;\">\n",
       "      <th></th>\n",
       "      <th>t</th>\n",
       "      <th>i</th>\n",
       "      <th>q</th>\n",
       "    </tr>\n",
       "    <tr>\n",
       "      <th>Event</th>\n",
       "      <th></th>\n",
       "      <th></th>\n",
       "      <th></th>\n",
       "    </tr>\n",
       "  </thead>\n",
       "  <tbody>\n",
       "    <tr>\n",
       "      <th>0</th>\n",
       "      <td>1.715048e+09</td>\n",
       "      <td>-1487</td>\n",
       "      <td>-1773</td>\n",
       "    </tr>\n",
       "    <tr>\n",
       "      <th>1</th>\n",
       "      <td>1.715048e+09</td>\n",
       "      <td>-927</td>\n",
       "      <td>-2540</td>\n",
       "    </tr>\n",
       "    <tr>\n",
       "      <th>2</th>\n",
       "      <td>1.715048e+09</td>\n",
       "      <td>-1191</td>\n",
       "      <td>-3800</td>\n",
       "    </tr>\n",
       "    <tr>\n",
       "      <th>3</th>\n",
       "      <td>1.715048e+09</td>\n",
       "      <td>-1505</td>\n",
       "      <td>-4143</td>\n",
       "    </tr>\n",
       "    <tr>\n",
       "      <th>4</th>\n",
       "      <td>1.715048e+09</td>\n",
       "      <td>-930</td>\n",
       "      <td>-3293</td>\n",
       "    </tr>\n",
       "    <tr>\n",
       "      <th>...</th>\n",
       "      <td>...</td>\n",
       "      <td>...</td>\n",
       "      <td>...</td>\n",
       "    </tr>\n",
       "    <tr>\n",
       "      <th>293283</th>\n",
       "      <td>1.715048e+09</td>\n",
       "      <td>-2058</td>\n",
       "      <td>-1417</td>\n",
       "    </tr>\n",
       "    <tr>\n",
       "      <th>293284</th>\n",
       "      <td>1.715048e+09</td>\n",
       "      <td>-2077</td>\n",
       "      <td>-1404</td>\n",
       "    </tr>\n",
       "    <tr>\n",
       "      <th>293285</th>\n",
       "      <td>1.715048e+09</td>\n",
       "      <td>-1818</td>\n",
       "      <td>-1556</td>\n",
       "    </tr>\n",
       "    <tr>\n",
       "      <th>293286</th>\n",
       "      <td>1.715048e+09</td>\n",
       "      <td>-1233</td>\n",
       "      <td>-2024</td>\n",
       "    </tr>\n",
       "    <tr>\n",
       "      <th>293287</th>\n",
       "      <td>1.715048e+09</td>\n",
       "      <td>-908</td>\n",
       "      <td>-3123</td>\n",
       "    </tr>\n",
       "  </tbody>\n",
       "</table>\n",
       "<p>293288 rows × 3 columns</p>\n",
       "</div>"
      ],
      "text/plain": [
       "                   t     i     q\n",
       "Event                           \n",
       "0       1.715048e+09 -1487 -1773\n",
       "1       1.715048e+09  -927 -2540\n",
       "2       1.715048e+09 -1191 -3800\n",
       "3       1.715048e+09 -1505 -4143\n",
       "4       1.715048e+09  -930 -3293\n",
       "...              ...   ...   ...\n",
       "293283  1.715048e+09 -2058 -1417\n",
       "293284  1.715048e+09 -2077 -1404\n",
       "293285  1.715048e+09 -1818 -1556\n",
       "293286  1.715048e+09 -1233 -2024\n",
       "293287  1.715048e+09  -908 -3123\n",
       "\n",
       "[293288 rows x 3 columns]"
      ]
     },
     "execution_count": 70,
     "metadata": {},
     "output_type": "execute_result"
    }
   ],
   "source": [
    "reduced_pd_test"
   ]
  },
  {
   "cell_type": "code",
   "execution_count": 71,
   "metadata": {},
   "outputs": [
    {
     "data": {
      "text/plain": [
       "t    1.715048e+09\n",
       "i   -1.952000e+03\n",
       "q   -1.480000e+03\n",
       "Name: 10000, dtype: float64"
      ]
     },
     "execution_count": 71,
     "metadata": {},
     "output_type": "execute_result"
    }
   ],
   "source": [
    "reduced_pd_test.loc[10000]"
   ]
  },
  {
   "cell_type": "code",
   "execution_count": 74,
   "metadata": {},
   "outputs": [],
   "source": [
    "test_reduced_np = chunk_select_channel_np_reduced(testfile, 100)"
   ]
  },
  {
   "cell_type": "code",
   "execution_count": 75,
   "metadata": {},
   "outputs": [
    {
     "data": {
      "text/plain": [
       "array([ 1.71504784e+09, -1.95200000e+03, -1.48000000e+03])"
      ]
     },
     "execution_count": 75,
     "metadata": {},
     "output_type": "execute_result"
    }
   ],
   "source": [
    "test_reduced_np[10000,:]"
   ]
  },
  {
   "cell_type": "code",
   "execution_count": 66,
   "metadata": {},
   "outputs": [
    {
     "data": {
      "text/plain": [
       "array([ True,  True,  True])"
      ]
     },
     "execution_count": 66,
     "metadata": {},
     "output_type": "execute_result"
    }
   ],
   "source": [
    "# make sure it's the same as prevous function output\n",
    "print(test_reduced_np[10000,:] == np_chunk_test[10000, :])\n",
    "print()"
   ]
  },
  {
   "cell_type": "code",
   "execution_count": 77,
   "metadata": {},
   "outputs": [],
   "source": [
    "def chunk_channel_time_np_reduced(filename, single_channel, time='all', t_index_start=None, t_index_stop=None):\n",
    "    file = h5py.File(filename, 'r')\n",
    "\n",
    "    # make arrays \n",
    "    i = np.array(file['time_ordered_data']['adc_i'])\n",
    "    i = np.delete(i, slice(0,22), 0)\n",
    "    q = np.array(file['time_ordered_data']['adc_q'])\n",
    "    q = np.delete(q, slice(0,22), 0)\n",
    "    t = np.array(file['time_ordered_data']['timestamp'])\n",
    "\n",
    "    single_channel_data = np.column_stack((t, i[single_channel], q[single_channel]))\n",
    "    \n",
    "     # getting desired time chunk range (all or specific)\n",
    "    if time == 'all':\n",
    "        chunked_channel_time = single_channel_data\n",
    "    elif time == 'some':\n",
    "        if t_index_start is None or t_index_stop is None: \n",
    "            raise ValueError('provide slice boundaries for time = some')\n",
    "        chunked_channel_time = single_channel_data[t_index_start:t_index_stop,:]\n",
    "\n",
    "    return chunked_channel_time"
   ]
  },
  {
   "cell_type": "code",
   "execution_count": 81,
   "metadata": {},
   "outputs": [],
   "source": [
    "test_np_chunk_time = chunk_channel_time_np_reduced(testfile, 200, time='some', \n",
    "                                                   t_index_start=15000, t_index_stop=25000)"
   ]
  },
  {
   "cell_type": "code",
   "execution_count": 82,
   "metadata": {},
   "outputs": [
    {
     "data": {
      "text/plain": [
       "array([[ 1.71504785e+09, -1.07400000e+03, -1.08700000e+03],\n",
       "       [ 1.71504785e+09, -1.47500000e+03, -1.02200000e+03],\n",
       "       [ 1.71504785e+09, -1.59500000e+03, -1.04200000e+03],\n",
       "       ...,\n",
       "       [ 1.71504787e+09, -1.37500000e+03, -1.05200000e+03],\n",
       "       [ 1.71504787e+09, -8.54000000e+02, -1.35400000e+03],\n",
       "       [ 1.71504787e+09, -2.66000000e+02, -2.49400000e+03]])"
      ]
     },
     "execution_count": 82,
     "metadata": {},
     "output_type": "execute_result"
    }
   ],
   "source": [
    "test_np_chunk_time"
   ]
  },
  {
   "cell_type": "markdown",
   "metadata": {},
   "source": [
    "### New goal: write a script that takes arguments for what you want. Do you want the whole collection of all channel chunks? Do you just want the channel chunk? \n",
    "\n"
   ]
  },
  {
   "cell_type": "code",
   "execution_count": null,
   "metadata": {},
   "outputs": [],
   "source": []
  },
  {
   "cell_type": "code",
   "execution_count": null,
   "metadata": {},
   "outputs": [],
   "source": []
  },
  {
   "cell_type": "code",
   "execution_count": null,
   "metadata": {},
   "outputs": [],
   "source": []
  },
  {
   "cell_type": "code",
   "execution_count": 103,
   "metadata": {},
   "outputs": [
    {
     "data": {
      "text/plain": [
       "[<matplotlib.lines.Line2D at 0x3154f6050>,\n",
       " <matplotlib.lines.Line2D at 0x3b7ef10d0>]"
      ]
     },
     "execution_count": 103,
     "metadata": {},
     "output_type": "execute_result"
    },
    {
     "data": {
      "image/png": "[encoded data removed]",
      "text/plain": [
       "<Figure size 640x480 with 1 Axes>"
      ]
     },
     "metadata": {},
     "output_type": "display_data"
    }
   ],
   "source": [
    "plt.plot(testing_chunk_channel_time_100['t'], testing_chunk_channel_time_100[['i','q']])"
   ]
  },
  {
   "cell_type": "code",
   "execution_count": 49,
   "metadata": {},
   "outputs": [],
   "source": [
    "test_2 = read_chunk_data_2('ts_toneinit_fcenter_4250.0_20240506174818_t_20240506191017.hd5')"
   ]
  },
  {
   "cell_type": "code",
   "execution_count": 58,
   "metadata": {},
   "outputs": [
    {
     "data": {
      "text/plain": [
       "1002"
      ]
     },
     "execution_count": 58,
     "metadata": {},
     "output_type": "execute_result"
    }
   ],
   "source": [
    "len(test_2)"
   ]
  },
  {
   "cell_type": "code",
   "execution_count": 43,
   "metadata": {},
   "outputs": [],
   "source": [
    "chunk_test = read_chunk_data('ts_toneinit_fcenter_4250.0_20240506174818_t_20240506191017.hd5')"
   ]
  },
  {
   "cell_type": "code",
   "execution_count": 45,
   "metadata": {},
   "outputs": [
    {
     "data": {
      "text/plain": [
       "(293874576, 3)"
      ]
     },
     "execution_count": 45,
     "metadata": {},
     "output_type": "execute_result"
    }
   ],
   "source": [
    "chunk_test.shape"
   ]
  },
  {
   "cell_type": "code",
   "execution_count": 38,
   "metadata": {},
   "outputs": [
    {
     "data": {
      "text/plain": [
       "293874576"
      ]
     },
     "execution_count": 38,
     "metadata": {},
     "output_type": "execute_result"
    }
   ],
   "source": [
    "len(chunk_test)"
   ]
  },
  {
   "cell_type": "code",
   "execution_count": 42,
   "metadata": {},
   "outputs": [
    {
     "data": {
      "text/html": [
       "<div>\n",
       "<style scoped>\n",
       "    .dataframe tbody tr th:only-of-type {\n",
       "        vertical-align: middle;\n",
       "    }\n",
       "\n",
       "    .dataframe tbody tr th {\n",
       "        vertical-align: top;\n",
       "    }\n",
       "\n",
       "    .dataframe thead th {\n",
       "        text-align: right;\n",
       "    }\n",
       "</style>\n",
       "<table border=\"1\" class=\"dataframe\">\n",
       "  <thead>\n",
       "    <tr style=\"text-align: right;\">\n",
       "      <th></th>\n",
       "      <th>t</th>\n",
       "      <th>i</th>\n",
       "      <th>q</th>\n",
       "    </tr>\n",
       "    <tr>\n",
       "      <th>channel</th>\n",
       "      <th></th>\n",
       "      <th></th>\n",
       "      <th></th>\n",
       "    </tr>\n",
       "  </thead>\n",
       "  <tbody>\n",
       "    <tr>\n",
       "      <th>0</th>\n",
       "      <td>1.715048e+09</td>\n",
       "      <td>587</td>\n",
       "      <td>-961</td>\n",
       "    </tr>\n",
       "    <tr>\n",
       "      <th>0</th>\n",
       "      <td>1.715048e+09</td>\n",
       "      <td>535</td>\n",
       "      <td>-953</td>\n",
       "    </tr>\n",
       "    <tr>\n",
       "      <th>0</th>\n",
       "      <td>1.715048e+09</td>\n",
       "      <td>515</td>\n",
       "      <td>-949</td>\n",
       "    </tr>\n",
       "    <tr>\n",
       "      <th>0</th>\n",
       "      <td>1.715048e+09</td>\n",
       "      <td>487</td>\n",
       "      <td>-933</td>\n",
       "    </tr>\n",
       "    <tr>\n",
       "      <th>0</th>\n",
       "      <td>1.715048e+09</td>\n",
       "      <td>504</td>\n",
       "      <td>-910</td>\n",
       "    </tr>\n",
       "    <tr>\n",
       "      <th>...</th>\n",
       "      <td>...</td>\n",
       "      <td>...</td>\n",
       "      <td>...</td>\n",
       "    </tr>\n",
       "    <tr>\n",
       "      <th>0</th>\n",
       "      <td>1.715048e+09</td>\n",
       "      <td>574</td>\n",
       "      <td>-947</td>\n",
       "    </tr>\n",
       "    <tr>\n",
       "      <th>0</th>\n",
       "      <td>1.715048e+09</td>\n",
       "      <td>582</td>\n",
       "      <td>-963</td>\n",
       "    </tr>\n",
       "    <tr>\n",
       "      <th>0</th>\n",
       "      <td>1.715048e+09</td>\n",
       "      <td>537</td>\n",
       "      <td>-955</td>\n",
       "    </tr>\n",
       "    <tr>\n",
       "      <th>0</th>\n",
       "      <td>1.715048e+09</td>\n",
       "      <td>564</td>\n",
       "      <td>-943</td>\n",
       "    </tr>\n",
       "    <tr>\n",
       "      <th>0</th>\n",
       "      <td>1.715048e+09</td>\n",
       "      <td>534</td>\n",
       "      <td>-911</td>\n",
       "    </tr>\n",
       "  </tbody>\n",
       "</table>\n",
       "<p>293288 rows × 3 columns</p>\n",
       "</div>"
      ],
      "text/plain": [
       "                    t    i    q\n",
       "channel                        \n",
       "0        1.715048e+09  587 -961\n",
       "0        1.715048e+09  535 -953\n",
       "0        1.715048e+09  515 -949\n",
       "0        1.715048e+09  487 -933\n",
       "0        1.715048e+09  504 -910\n",
       "...               ...  ...  ...\n",
       "0        1.715048e+09  574 -947\n",
       "0        1.715048e+09  582 -963\n",
       "0        1.715048e+09  537 -955\n",
       "0        1.715048e+09  564 -943\n",
       "0        1.715048e+09  534 -911\n",
       "\n",
       "[293288 rows x 3 columns]"
      ]
     },
     "execution_count": 42,
     "metadata": {},
     "output_type": "execute_result"
    }
   ],
   "source": [
    "chunk_test.loc[0]"
   ]
  },
  {
   "cell_type": "code",
   "execution_count": 41,
   "metadata": {},
   "outputs": [
    {
     "data": {
      "text/plain": [
       "Index([   0,    0,    0,    0,    0,    0,    0,    0,    0,    0,\n",
       "       ...\n",
       "       1001, 1001, 1001, 1001, 1001, 1001, 1001, 1001, 1001, 1001],\n",
       "      dtype='int64', name='channel', length=293874576)"
      ]
     },
     "execution_count": 41,
     "metadata": {},
     "output_type": "execute_result"
    }
   ],
   "source": [
    "chunk_test.index"
   ]
  },
  {
   "cell_type": "code",
   "execution_count": 33,
   "metadata": {},
   "outputs": [
    {
     "data": {
      "text/plain": [
       "Index([   0,    0,    0,    0,    0,    0,    0,    0,    0,    0,\n",
       "       ...\n",
       "       1001, 1001, 1001, 1001, 1001, 1001, 1001, 1001, 1001, 1001],\n",
       "      dtype='int64', name='channel', length=293874576)"
      ]
     },
     "execution_count": 33,
     "metadata": {},
     "output_type": "execute_result"
    }
   ],
   "source": [
    "chunk_test.index"
   ]
  },
  {
   "cell_type": "code",
   "execution_count": 13,
   "metadata": {},
   "outputs": [],
   "source": [
    "\n",
    "t, adc_i, adc_q = dmd.read_data('ts_toneinit_fcenter_4250.0_20240506174818_t_20240506191017.hd5', \n",
    "          channels='all')\n",
    "\n",
    "# first doing with pandas dataframe: \n",
    "\n",
    "# iterate through all times and create dataframe\n",
    "chan_list = []\n",
    "for channel in range(len(adc_i)):\n",
    "    freq_channels_frame = pd.DataFrame({'t': t, \n",
    "                               'i': adc_i[channel], \n",
    "                               'q':adc_q[channel]\n",
    "                               })\n",
    "    freq_channels_frame['channel'] = channel \n",
    "    chan_list.append(freq_channels_frame)\n",
    "\n",
    "    # combining them into single matrix: \n",
    "channels_chunked = pd.concat(chan_list)\n",
    "\n",
    "# set index \n",
    "channels_chunked.set_index(['channel', 't'], inplace=True)\n"
   ]
  },
  {
   "cell_type": "code",
   "execution_count": 10,
   "metadata": {},
   "outputs": [],
   "source": [
    "def read_data_chunked(filename, single_channel, time = 'all', t_start = [], t_stop = []):\n",
    "    t, adc_i, adc_q = dmd.read_data(filename, \n",
    "          channels='all')\n",
    "    # iterate through all times and create dataframe\n",
    "    chan_list = []\n",
    "    for channel in range(len(adc_i)):\n",
    "        freq_channels_frame = pd.DataFrame({'t': t, \n",
    "                                'i': adc_i[channel], \n",
    "                                'q':adc_q[channel]\n",
    "                                })\n",
    "        freq_channels_frame['channel'] = channel \n",
    "        chan_list.append(freq_channels_frame)\n",
    "\n",
    "    # combining them into single matrix: \n",
    "    channels_chunked = pd.concat(chan_list)\n",
    "\n",
    "    # set index \n",
    "    channels_chunked.set_index(['channel', 't'], inplace=True)\n",
    "    \n",
    "    # chunking operations\n",
    "    if time == 'all': # for all time, one channel\n",
    "        chunk = channels_chunked.loc[single_channel]\n",
    "    elif time == 'some': # for specific time range, one channel \n",
    "        chunk = channels_chunked.loc[single_channel].loc[t_start:t_stop]\n",
    "\n",
    "    return chunk\n",
    "    "
   ]
  },
  {
   "cell_type": "code",
   "execution_count": 11,
   "metadata": {},
   "outputs": [],
   "source": [
    "test = read_data_chunked(filename = 'ts_toneinit_fcenter_4250.0_20240506174818_t_20240506191017.hd5', \n",
    "                         single_channel = 1000, time='all')"
   ]
  },
  {
   "cell_type": "code",
   "execution_count": 20,
   "metadata": {},
   "outputs": [
    {
     "data": {
      "text/plain": [
       "(0, 1715047821.7724793)"
      ]
     },
     "execution_count": 20,
     "metadata": {},
     "output_type": "execute_result"
    }
   ],
   "source": [
    "test"
   ]
  },
  {
   "cell_type": "code",
   "execution_count": 17,
   "metadata": {},
   "outputs": [
    {
     "ename": "TypeError",
     "evalue": "tuple indices must be integers or slices, not str",
     "output_type": "error",
     "traceback": [
      "\u001b[0;31m---------------------------------------------------------------------------\u001b[0m",
      "\u001b[0;31mTypeError\u001b[0m                                 Traceback (most recent call last)",
      "Cell \u001b[0;32mIn[17], line 1\u001b[0m\n\u001b[0;32m----> 1\u001b[0m plt\u001b[38;5;241m.\u001b[39mplot(test[\u001b[38;5;124m'\u001b[39m\u001b[38;5;124mt\u001b[39m\u001b[38;5;124m'\u001b[39m], test[\u001b[38;5;124m'\u001b[39m\u001b[38;5;124mi\u001b[39m\u001b[38;5;124m'\u001b[39m])\n",
      "\u001b[0;31mTypeError\u001b[0m: tuple indices must be integers or slices, not str"
     ]
    }
   ],
   "source": [
    "plt.plot(test['t'], test['i'])"
   ]
  },
  {
   "cell_type": "code",
   "execution_count": null,
   "metadata": {},
   "outputs": [],
   "source": []
  }
 ],
 "metadata": {
  "kernelspec": {
   "display_name": "base",
   "language": "python",
   "name": "python3"
  },
  "language_info": {
   "codemirror_mode": {
    "name": "ipython",
    "version": 3
   },
   "file_extension": ".py",
   "mimetype": "text/x-python",
   "name": "python",
   "nbconvert_exporter": "python",
   "pygments_lexer": "ipython3",
   "version": "3.11.5"
  }
 },
 "nbformat": 4,
 "nbformat_minor": 2
}
