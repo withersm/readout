{
 "cells": [
  {
   "cell_type": "markdown",
   "metadata": {},
   "source": [
    "## Demod Channel Searching"
   ]
  },
  {
   "cell_type": "markdown",
   "metadata": {},
   "source": [
    "Plan: \n",
    "1. import ```full_demod_process``` function \n",
    "2. set up local directories so that the file parser he has works with my stuff\n",
    "3. run function on each LO and write down channels where I can see proper square wave (or something close to it)"
   ]
  },
  {
   "cell_type": "code",
   "execution_count": null,
   "metadata": {},
   "outputs": [],
   "source": [
    "# packages\n",
    "\n",
    "import numpy as np\n",
    "import matplotlib as mpl\n",
    "mpl.rcParams['axes.formatter.useoffset'] = False\n",
    "import matplotlib.pyplot as plt\n",
    "import scipy\n",
    "\n",
    "from scipy.signal import sawtooth, square, savgol_filter\n",
    "import pandas as pd\n",
    "import glob as gl\n",
    "import os\n",
    "import cmath\n",
    "\n",
    "from scipy.signal import sawtooth, square,find_peaks\n",
    "from scipy import spatial\n",
    "#import lambdafit as lf\n",
    "from scipy.interpolate import CubicSpline,interp1d\n",
    "import h5py\n",
    "\n",
    "from tqdm import tqdm as tqdm_terminal\n",
    "from tqdm.notebook import trange, tqdm_notebook\n",
    "from scipy.signal.windows import hann\n",
    "\n",
    "from scipy.fft import fft, ifft, fftfreq\n",
    "from copy import deepcopy\n",
    "from scipy.interpolate import CubicSpline, interp1d\n",
    "from scipy.optimize import curve_fit"
   ]
  },
  {
   "cell_type": "code",
   "execution_count": null,
   "metadata": {},
   "outputs": [],
   "source": [
    "%matplotlib qt\n",
    "# import demod function script \n",
    "\n",
    "import ali_offline_demod as aod"
   ]
  },
  {
   "cell_type": "markdown",
   "metadata": {},
   "source": [
    "Later: go back into ali_offline_demod.py and fix the linear response subtraction thing. Need to do it in the script if I'm going to use it this way (importing it into jupyter notebook) \n",
    "\n",
    "%to change in demodulate_with_fft function, something like this, might need to be earlier: \n",
    "\n",
    "%demod_t = demod_t[:,-10]\n",
    "%interpolated_phase = interpolated_phase[:][:,-10]"
   ]
  },
  {
   "cell_type": "markdown",
   "metadata": {},
   "source": [
    "#### Channel Inspection "
   ]
  },
  {
   "cell_type": "code",
   "execution_count": null,
   "metadata": {},
   "outputs": [],
   "source": [
    "# for doing demodulation and graphing all channels at once\n",
    "\n",
    "def demod_and_graph(filename, spacing=0.1, scaling=1):\n",
    "\n",
    "    # perform demodulation\n",
    "    demod = aod.full_demod_process(ts_file=filename, f_sawtooth=15, method='fft', \n",
    "                                correct_phase_jumps=True, phase_jump_threshold=0.4, channels='all', start_channel=0, stop_channel=1000, \n",
    "                                tone_init_path = '/Users/leayamashiro/AliCPT/alicpt_data/chopped_data/tone_initializations', \n",
    "                                ts_path = '/Users/leayamashiro/AliCPT/alicpt_data/chopped_data/time_streams', display_mode='notebook')\n",
    "    \n",
    "    def graph_channels_demodulated(demod_output, spacing): \n",
    "        time_array = demod_output['demod t'] # pull out time array \n",
    "        data_array = demod_output['demod data'] # pull out demodulated data \n",
    "        \n",
    "        plt.figure()\n",
    "        for i in range(len(data_array)):\n",
    "            #plt.scatter(time_array, data_array[i] + i*spacing, marker='.')\n",
    "            plt.plot(time_array, scaling*data_array[i] + i*spacing)\n",
    "        plt.title('End Time Stamp = ' + str(filename.rsplit('.', 1)[0].split('_')[6])) # name figure by time stamp for reference (really care about last 4 digits)\n",
    "    \n",
    "    # graph all channels spaced by chosen vertical displacement\n",
    "    graph_channels_demodulated(demod, spacing)\n",
    "    "
   ]
  },
  {
   "cell_type": "markdown",
   "metadata": {},
   "source": [
    "#### LO: 4250"
   ]
  },
  {
   "cell_type": "code",
   "execution_count": null,
   "metadata": {},
   "outputs": [],
   "source": [
    "%matplotlib qt"
   ]
  },
  {
   "cell_type": "code",
   "execution_count": null,
   "metadata": {},
   "outputs": [],
   "source": [
    "# LO 4250, 3432\n",
    "\n",
    "demod_and_graph('ts_toneinit_fcenter_4250.0_20240216162215_t_20240216163432.hd5')"
   ]
  },
  {
   "cell_type": "code",
   "execution_count": null,
   "metadata": {},
   "outputs": [],
   "source": [
    "# LO 4250, 3956\n",
    "\n",
    "demod_and_graph('ts_toneinit_fcenter_4250.0_20240216162215_t_20240216163956.hd5')"
   ]
  },
  {
   "cell_type": "code",
   "execution_count": null,
   "metadata": {},
   "outputs": [],
   "source": [
    "# LO 4250, 4412\n",
    "\n",
    "demod_and_graph('ts_toneinit_fcenter_4250.0_20240216162215_t_20240216164412.hd5')"
   ]
  },
  {
   "cell_type": "markdown",
   "metadata": {},
   "source": [
    "### LO: 4750"
   ]
  },
  {
   "cell_type": "code",
   "execution_count": null,
   "metadata": {},
   "outputs": [],
   "source": [
    "# LO 4750, 5446\n",
    "# BL7\n",
    "\n",
    "demod_and_graph('ts_toneinit_fcenter_4750.0_20240216164622_t_20240216165446.hd5')"
   ]
  },
  {
   "cell_type": "code",
   "execution_count": null,
   "metadata": {},
   "outputs": [],
   "source": [
    "# LO 4750, 5853\n",
    "\n",
    "demod_and_graph('ts_toneinit_fcenter_4750.0_20240216164622_t_20240216165853.hd5')"
   ]
  },
  {
   "cell_type": "code",
   "execution_count": null,
   "metadata": {},
   "outputs": [],
   "source": [
    "# LO 4750, 0236\n",
    "\n",
    "demod_and_graph('ts_toneinit_fcenter_4750.0_20240216164622_t_20240216170236.hd5')"
   ]
  },
  {
   "cell_type": "markdown",
   "metadata": {},
   "source": [
    "### LO: 5250"
   ]
  },
  {
   "cell_type": "code",
   "execution_count": null,
   "metadata": {},
   "outputs": [],
   "source": [
    "# LO 5250, 1735\n",
    "# BL 7\n",
    "\n",
    "demod_and_graph('ts_toneinit_fcenter_5250.0_20240216170412_t_20240216171735.hd5', \n",
    "                spacing=1, scaling=2)"
   ]
  },
  {
   "cell_type": "code",
   "execution_count": null,
   "metadata": {},
   "outputs": [],
   "source": [
    "# LO 5250, 2054\n",
    "# BL 9\n",
    "\n",
    "demod_and_graph('ts_toneinit_fcenter_5250.0_20240216170412_t_20240216172054.hd5')"
   ]
  },
  {
   "cell_type": "code",
   "execution_count": null,
   "metadata": {},
   "outputs": [],
   "source": [
    "# LO 5250, 3211\n",
    "# BL 12\n",
    "\n",
    "demod_and_graph('ts_toneinit_fcenter_5250.0_20240216170412_t_20240216173211.hd5')"
   ]
  },
  {
   "cell_type": "markdown",
   "metadata": {},
   "source": [
    "### LO: 5750"
   ]
  },
  {
   "cell_type": "code",
   "execution_count": null,
   "metadata": {},
   "outputs": [],
   "source": [
    "# LO 5750, 4338\n",
    "\n",
    "demod_and_graph('ts_toneinit_fcenter_5750.0_20240216173351_t_20240216174338.hd5')"
   ]
  },
  {
   "cell_type": "code",
   "execution_count": null,
   "metadata": {},
   "outputs": [],
   "source": [
    "# LO 5750, 4612\n",
    "# BL 11\n",
    "\n",
    "demod_and_graph('ts_toneinit_fcenter_5750.0_20240216173351_t_20240216174612.hd5')"
   ]
  },
  {
   "cell_type": "markdown",
   "metadata": {},
   "source": [
    "### LO: 6250"
   ]
  },
  {
   "cell_type": "code",
   "execution_count": null,
   "metadata": {},
   "outputs": [],
   "source": [
    "# LO 6250, 5814\n",
    "\n",
    "demod_and_graph('ts_toneinit_fcenter_6250.0_20240216174729_t_20240216175814.hd5')"
   ]
  },
  {
   "cell_type": "markdown",
   "metadata": {},
   "source": [
    "### LO: 6750 "
   ]
  },
  {
   "cell_type": "code",
   "execution_count": null,
   "metadata": {},
   "outputs": [],
   "source": [
    "# LO 6750, 5927\n",
    "\n",
    "demod_and_graph('ts_toneinit_fcenter_6750.0_20240216175927_t_20240216180505.hd5')"
   ]
  },
  {
   "cell_type": "markdown",
   "metadata": {},
   "source": []
  }
 ],
 "metadata": {
  "kernelspec": {
   "display_name": "base",
   "language": "python",
   "name": "python3"
  },
  "language_info": {
   "codemirror_mode": {
    "name": "ipython",
    "version": 3
   },
   "file_extension": ".py",
   "mimetype": "text/x-python",
   "name": "python",
   "nbconvert_exporter": "python",
   "pygments_lexer": "ipython3",
   "version": "3.11.5"
  }
 },
 "nbformat": 4,
 "nbformat_minor": 2
}
