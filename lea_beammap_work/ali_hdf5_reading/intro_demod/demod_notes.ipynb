{
 "cells": [
  {
   "cell_type": "markdown",
   "metadata": {},
   "source": [
    "## Notes on ```ali_offiline_demod.py```\n",
    "\n",
    "#### This notebook will serve as place to have each function and then work out/write down what is happening in text form so as to be able to refer and also write down questions. "
   ]
  },
  {
   "cell_type": "code",
   "execution_count": 1,
   "metadata": {},
   "outputs": [],
   "source": [
    "import numpy as np\n",
    "import matplotlib as mpl\n",
    "#mpl.rcParams['axes.formatter.useoffset'] = False\n",
    "import matplotlib.pyplot as plt\n",
    "import scipy\n",
    "\n",
    "from scipy.signal import sawtooth, square, savgol_filter\n",
    "import pandas as pd\n",
    "import glob as gl\n",
    "import os\n",
    "import cmath\n",
    "\n",
    "from scipy.signal import sawtooth, square,find_peaks\n",
    "from scipy import spatial\n",
    "#import lambdafit as lf\n",
    "from scipy.interpolate import CubicSpline,interp1d\n",
    "import h5py\n",
    "\n",
    "from tqdm import tqdm as tqdm_terminal\n",
    "from tqdm.notebook import trange, tqdm_notebook\n",
    "from scipy.signal.windows import hann\n",
    "\n",
    "from scipy.fft import fft, ifft, fftfreq\n",
    "from copy import deepcopy\n",
    "from scipy.interpolate import CubicSpline, interp1d\n",
    "from scipy.optimize import curve_fit"
   ]
  },
  {
   "cell_type": "markdown",
   "metadata": {},
   "source": [
    "#### Will be working backwards to understand all functions embedded within ```full_demod_process```:"
   ]
  },
  {
   "cell_type": "code",
   "execution_count": 2,
   "metadata": {},
   "outputs": [],
   "source": [
    "def full_demod_process(ts_file, f_sawtooth, method = 'fft', correct_phase_jumps = False, phase_jump_threshold = 0.4, n=0, channels='all',start_channel=0,stop_channel=1000,tone_init_path = '/home/matt/alicpt_data/tone_initializations', ts_path = '/home/matt/alicpt_data/time_streams', display_mode = 'terminal'):\n",
    "    #n is number of points blanked before and after fr reset; only used when method='simple'\n",
    "    #unpack data -> eventually change so that you give the ts data path and the function finds the associated tone initialization files\n",
    "\n",
    "    print('using full_demod_process')\n",
    "\n",
    "    init_freq = ts_file.split('_')[3]\n",
    "    print(init_freq)\n",
    "    init_time = ts_file.split('_')[4]\n",
    "    print(init_time)\n",
    "    init_directory = f'{tone_init_path}/fcenter_{init_freq}_{init_time}/'\n",
    "    print(init_directory)\n",
    "    \n",
    "    initial_lo_sweep_path = find_file(init_directory, 'lo_sweep_initial')\n",
    "    targeted_lo_sweep_path = find_file(init_directory, 'lo_sweep_targeted_2')\n",
    "    tone_freqs_path = find_file(init_directory, 'freq_list_lo_sweep_targeted_1')\n",
    "    ts_path = f'{ts_path}/{ts_file}'    \n",
    "    \n",
    "    initial_lo_sweep=np.load(initial_lo_sweep_path) #find initial lo sweep file\n",
    "    targeted_lo_sweep=np.load(targeted_lo_sweep_path) #find targeted sweep file\n",
    "    tone_freqs=np.load(tone_freqs_path) #find tone freqs\n",
    "    #print(tone_freqs)\n",
    "    if channels == 'some':\n",
    "        tone_freqs = tone_freqs[start_channel + 23:stop_channel + 23 + 1]\n",
    "        print(tone_freqs)\n",
    "    ts_fr,Is_fr,Qs_fr=read_data(ts_path,channels=channels,start_channel=start_channel,stop_channel=stop_channel)    #note to self: limit tone_freqs to actively called channels; need to figure out channel numbering first\n",
    "    \n",
    "    #testing fixing the time breaks before the demod -- probably don't want to keep this but we'll see\n",
    "    fs=512e6/(2**20)    #this line is incredibly important; need to make sure we match the data rate at all times; add an if statement for faster data rate data\n",
    "    #fs=256e6/(2**19)\n",
    "    ts_fr = np.arange(Is_fr.shape[1])/fs\n",
    "    \n",
    "    \n",
    "    print(f'num of channels: {len(Is_fr)}')\n",
    "    print(f'num of tones: {len(tone_freqs)}')\n",
    "    \n",
    "    \"\"\"\n",
    "    #depricated code for finding delay region\n",
    "    #look at initial sweep\n",
    "    plot_s21([initial_lo_sweep])\n",
    "    \n",
    "    \n",
    "    #choose delay region - should automate finding an area without peaks later\n",
    "    delay_region_start = float(input('Delay Region Start (GHz): '))*1e9\n",
    "    delay_region_stop = float(input('Delay Region Stop (GHz): '))*1e9\n",
    "    \"\"\"\n",
    "    #compute delay region\n",
    "    print('looking for delay region')\n",
    "    delay_region_start, delay_region_stop = find_freqs_cable_delay_subtraction(initial_lo_sweep,0.98,10000)\n",
    "    print(f'start = {delay_region_start}')\n",
    "    print(f'stop = {delay_region_stop}')\n",
    "    \n",
    "    #measure cable delay\n",
    "    delays = measure_delay_test_given_freq(initial_lo_sweep,delay_region_start,delay_region_stop,plot=False)\n",
    "    \n",
    "    print(f'delay: {np.median(delays)}')\n",
    "\n",
    "    #remove cable delay\n",
    "    targeted_lo_sweep_rm=remove_delay(targeted_lo_sweep,\n",
    "                                      np.median(delays),\n",
    "                                      channels=channels,\n",
    "                                      start_channel=start_channel,\n",
    "                                      stop_channel=stop_channel)\n",
    "    \n",
    "    IQ_stream_rm=remove_delay_timestream(Is_fr+1j*Qs_fr,tone_freqs,np.median(delays))\n",
    "    \n",
    "    #measure circle parameters\n",
    "    calibration=measure_circle_allch(targeted_lo_sweep_rm,\n",
    "                                     tone_freqs,\n",
    "                                     channels=channels,\n",
    "                                     start_channel=start_channel,\n",
    "                                     stop_channel=stop_channel) #finds circle center and initial phase for every channel\n",
    "    \n",
    "    print(calibration[0])\n",
    "    #calibrate time stream\n",
    "    data_cal=get_phase(IQ_stream_rm,calibration)\n",
    "\n",
    "    #fig_testing, ax_testing = plt.subplots(1)\n",
    "    #for i in [1]:\n",
    "    #    ax_testing.plot(data_cal[i])\n",
    "    \n",
    "    #find nphi_0\n",
    "    t_start=0\n",
    "    t_stop=10\n",
    "\n",
    "    n_phi0 = find_n_phi0(ts_fr[488*t_start:488*t_stop],data_cal[:,488*t_start:488*t_stop],f_sawtooth,plot=False)  #discard the first few seconds\n",
    "    print(f'n_phi0: {n_phi0}')\n",
    "    \n",
    "    #find t0\n",
    "    t0_array = np.array([])\n",
    "    for current_channel in range(len(data_cal)):\n",
    "        t0 = mea_reset_t0(ts_fr[488*t_start:488*t_stop],data_cal[current_channel,488*t_start:488*t_stop],f_sawtooth,plot=False)\n",
    "        #ts_freq = 1/np.nanmedian(np.diff(ts_fr))\n",
    "        #t0 = mea_reset_t0(ts_fr[ts_freq*t_start:ts_freq*t_stop],data_cal[current_channel,ts_freq*t_start:ts_freq*t_stop],f_sawtooth,plot=False)\n",
    "        t0_array = np.append(t0_array,t0)\n",
    "\n",
    "    t0_med = np.nanmedian(t0_array)\n",
    "    \n",
    "    #demod\n",
    "    \n",
    "    if method == 'simple' or method =='iv':\n",
    "        t_demods=[]\n",
    "        data_demods=[]\n",
    "    elif method == 'fft':\n",
    "        t_demods=np.array([])\n",
    "        data_demods=np.array([])\n",
    "        ch_count = 0\n",
    "    start_idx = find_nearest_idx(ts_fr-ts_fr[0], t0_med)\n",
    "    print(f'start index: {start_idx}')\n",
    "    if display_mode == 'notebook':\n",
    "        for chan in tqdm_notebook(range(data_cal.shape[0])):#np.arange(225,230,1):#range(data_cal.shape[0]):\n",
    "            if method == 'iv':\n",
    "                t_demod, data_demod = demodulate_for_iv(ts_fr[start_idx:]-ts_fr[start_idx], data_cal[chan, start_idx:], n_phi0, 3,f_sawtooth)\n",
    "            \n",
    "                t_demods.append(t_demod)\n",
    "                data_demod_unwrap=np.unwrap(data_demod,period=1)\n",
    "                data_demods.append(data_demod_unwrap)\n",
    "            if method == 'simple':\n",
    "                t_demod, data_demod, reset_indices = demodulate(ts_fr[start_idx:]-ts_fr[start_idx],\n",
    "                                                                data_cal[chan, start_idx:],\n",
    "                                                                n_phi0,\n",
    "                                                                n,\n",
    "                                                                f_sawtooth)\n",
    "                t_demods.append(t_demod)\n",
    "                data_demod_unwrap=np.unwrap(data_demod,period=1)\n",
    "                data_demods.append(data_demod_unwrap)\n",
    "            if method == 'fft':\n",
    "                t_demod, data_demod, reset_indices = demodulate_with_fft(t=ts_fr,\n",
    "                                                                        sig=data_cal[chan],\n",
    "                                                                        start_index=start_idx,                                                                      \n",
    "                                                                        f_fr=f_sawtooth,\n",
    "                                                                        phase_units='nPhi0',\n",
    "                                                                        correct_phase_jumps=correct_phase_jumps,\n",
    "                                                                        phase_jump_threshold=phase_jump_threshold,\n",
    "                                                                        plot_demod = False,\n",
    "                                                                        plot_demod_title=None,\n",
    "                                                                        intermediate_plotting_limits=[None,None],\n",
    "                                                                        plot_chunking_process = False,\n",
    "                                                                        plot_fft = False,\n",
    "                                                                        plot_fft_no_dc = False,\n",
    "                                                                        plot_limited_fft = False,\n",
    "                                                                        plot_fit = False,\n",
    "                                                                        plot_vectors = False)\n",
    "                \n",
    "                #print(t_demod)\n",
    "                if ch_count == 0:\n",
    "                    data_demods = data_demod\n",
    "                else:\n",
    "                    #t_demods = np.append(t_demods, np.array(t_demod))\n",
    "                    data_demods = np.vstack([data_demods, np.array(data_demod)])\n",
    "                t_demods = t_demod\n",
    "                ch_count += 1\n",
    "    elif display_mode == 'terminal':\n",
    "        \n",
    "        for chan in tqdm_terminal(range(data_cal.shape[0])):#np.arange(225,230,1):#range(data_cal.shape[0]):\n",
    "            if method == 'simple':\n",
    "                t_demod, data_demod, reset_indices = demodulate(ts_fr[start_idx:]-ts_fr[start_idx],\n",
    "                                                                data_cal[chan, start_idx:],\n",
    "                                                                n_phi0,\n",
    "                                                                n,\n",
    "                                                                f_sawtooth)\n",
    "                t_demods.append(t_demod)\n",
    "                data_demod_unwrap=np.unwrap(data_demod,period=1)\n",
    "                data_demods.append(data_demod_unwrap)\n",
    "            if method == 'fft':\n",
    "                t_demod, data_demod, reset_indices = demodulate_with_fft(t=ts_fr,\n",
    "                                                                        sig=data_cal[chan],\n",
    "                                                                        start_index=start_idx,                                                                      \n",
    "                                                                        f_fr=f_sawtooth,\n",
    "                                                                        phase_units='nPhi0',\n",
    "                                                                        correct_phase_jumps=False,\n",
    "                                                                        phase_jump_threshold=0,\n",
    "                                                                        plot_demod = False,\n",
    "                                                                        plot_demod_title=None,\n",
    "                                                                        intermediate_plotting_limits=[None,None],\n",
    "                                                                        plot_chunking_process = False,\n",
    "                                                                        plot_fft = False,\n",
    "                                                                        plot_fft_no_dc = False,\n",
    "                                                                        plot_limited_fft = False,\n",
    "                                                                        plot_fit = False,\n",
    "                                                                        plot_vectors = False)\n",
    "                \n",
    "                #print(t_demod)\n",
    "                if ch_count == 0:\n",
    "                    data_demods = data_demod\n",
    "                else:\n",
    "                    #t_demods = np.append(t_demods, np.array(t_demod))\n",
    "                    data_demods = np.vstack([data_demods, np.array(data_demod)])\n",
    "                t_demods = t_demod\n",
    "                ch_count += 1\n",
    "    \n",
    "\n",
    "    data_demods=np.vstack(data_demods)\n",
    "    if method == 'simple':\n",
    "        t_demods=np.vstack(t_demods)\n",
    "    \n",
    "        data_dict = {'fr t': ts_fr, \n",
    "                    'fr data': data_cal, \n",
    "                    'nphi': n_phi0, \n",
    "                    't0': t0_med,\n",
    "                    'start index': start_idx,\n",
    "                    'demod t': t_demods[1], \n",
    "                    'demod data': data_demods, \n",
    "                    'channel freqs': tone_freqs, \n",
    "                    'fsawtooth': f_sawtooth,\n",
    "                    'reset indices': reset_indices}\n",
    "    elif method == 'fft':\n",
    "        data_dict = {'fr t': ts_fr, \n",
    "                    'fr data': data_cal, \n",
    "                    'nphi': n_phi0, \n",
    "                    't0': t0_med,\n",
    "                    'start index': start_idx,\n",
    "                    'demod t': t_demods, \n",
    "                    'demod data': data_demods, \n",
    "                    'channel freqs': tone_freqs, \n",
    "                    'fsawtooth': f_sawtooth,\n",
    "                    'reset indices': reset_indices,\n",
    "                    'raw i':Is_fr,\n",
    "                    'raw q':Qs_fr}\n",
    "\n",
    "    return data_dict"
   ]
  },
  {
   "cell_type": "markdown",
   "metadata": {},
   "source": [
    "#### FILES BEING USED: \n",
    "1. Timestream file \n",
    "2. LO Sweep Initial \n",
    "3. LO Sweep Targeted \n",
    "4. Frequency List Targeted\n",
    "\n",
    "- is initial frequency list used too? \n",
    "- SWEEP DIMENSIONS: (2, 1000, 500)\n",
    "    - there are two blocks. \n",
    "    - Block 1 = frequencies\n",
    "    - Block 2 = $S_{21}$"
   ]
  },
  {
   "cell_type": "code",
   "execution_count": 3,
   "metadata": {},
   "outputs": [],
   "source": [
    "# defining using LO 4250 chopped data for purposes of function defining and note-taking\n",
    "ts_file = '/Users/leayamashiro/AliCPT/alicpt_data/chopped_data/time_streams/ts_toneinit_fcenter_4250.0_20240216162215_t_20240216163432.hd5'\n",
    "tone_init_path = '/Users/leayamashiro/AliCPT/alicpt_data/chopped_data/tone_inits'\n",
    "#ts_path = 'Users/leayamashiro/AliCPT/alicpt_data/chopped_data/time_streams'"
   ]
  },
  {
   "cell_type": "markdown",
   "metadata": {},
   "source": [
    "#### Starting out, arguments: \n",
    "\n",
    "```ts_file```: file path of data\n",
    "\n",
    "```f_sawtooth```: rate of data taking, usually **15 hz** -- flux ramp rate? \n",
    "\n",
    "```method```: default method is ```'fft'```, other options are ```'simple'``` and ```'iv'```, dictates different demodulation methods defined as functions (to be discussed)\n",
    "\n",
    "```correct_phase_jumps```: default is ```False```. There’s this problem in the system where it’s dropping data packets every once in a while instead of continuously and uniformly, and this can try to correct for that by breaking them up. May or may not be necessary in future. \n",
    "\n",
    "```phase_jump_threshold```: if ```correct_phase_jumps == True```, determines numerical break-up threshold, default 0.4 (units?)\n",
    "\n",
    "```n```: number of points blanked before and after fr reset; only used when method='simple'\n",
    "\n",
    "```channels```: default is ```'all'``` \n",
    "\n",
    "```start_channel``` & ```stop_channel```: default (0, 1000), self explanatory, will integrate new chunking methods? \n",
    "\n",
    "```tone_init_path```: streamlines tone initialization directory retrival\n",
    "\n",
    "```ts_path```: streamlines time stream data directory retrieval \n",
    "\n",
    "```display_mode```: default = ```'terminal'``` – just has to do with the way that progress bars are projected in terminal vs. jupyter notebook (```'notebook'```)"
   ]
  },
  {
   "cell_type": "markdown",
   "metadata": {},
   "source": [
    "#### **First Segment** \n",
    "\n",
    "1. Just defining paths for time stream data, tone initialization files. "
   ]
  },
  {
   "cell_type": "code",
   "execution_count": 4,
   "metadata": {},
   "outputs": [],
   "source": [
    "# init_freq = ts_file.split('_')[3]\n",
    "# print(init_freq)\n",
    "# init_time = ts_file.split('_')[4]\n",
    "# print(init_time)\n",
    "# init_directory = f'{tone_init_path}/fcenter_{init_freq}_{init_time}/'\n",
    "# print(init_directory)\n",
    "\n",
    "# initial_lo_sweep_path = find_file(init_directory, 'lo_sweep_initial')\n",
    "# targeted_lo_sweep_path = find_file(init_directory, 'lo_sweep_targeted_2')\n",
    "# tone_freqs_path = find_file(init_directory, 'freq_list_lo_sweep_targeted_1')\n",
    "# ts_path = ts_file\n",
    "#ts_path = f'{ts_path}/{ts_file}' \n",
    "\n",
    "# okay not going to work right now with the setup not the same but understanding how everything is laid out here"
   ]
  },
  {
   "cell_type": "code",
   "execution_count": 5,
   "metadata": {},
   "outputs": [],
   "source": [
    "def find_file(p,filetype):\n",
    "    #filetype could be target,eta,freqs,test,ALICPT_RDF\n",
    "    if filetype=='target':\n",
    "        filenames=filename=gl.glob(p+'%s_*'%filetype)\n",
    "        filename = max(filenames, key=os.path.getctime)\n",
    "    else:\n",
    "        filename=gl.glob(p+'%s_*'%filetype)[0]\n",
    "    return filename"
   ]
  },
  {
   "cell_type": "markdown",
   "metadata": {},
   "source": [
    "Using ```glob``` package to compress and organize file name strings. OS stuff: \n",
    "\n",
    "```(function) def getctime(filename: FileDescriptorOrPath) -> float```\n",
    "\n",
    "Ask more later about specific functions in the naming/directories up here^^"
   ]
  },
  {
   "cell_type": "code",
   "execution_count": 6,
   "metadata": {},
   "outputs": [],
   "source": [
    "# read data function, using matt's for now: \n",
    "\n",
    "def read_data(filename,channels='all',start_channel=0,stop_channel=1000):\n",
    "    if channels == 'all':\n",
    "        file = h5py.File(filename, 'r')\n",
    "        adc_i = np.array(file['time_ordered_data']['adc_i'])\n",
    "        adc_i = np.delete(adc_i, slice(0,22), 0)\n",
    "        adc_q = file['time_ordered_data']['adc_q']\n",
    "        adc_q = np.delete(adc_q, slice(0,22), 0)\n",
    "        t = np.array(file['time_ordered_data']['timestamp'])  \n",
    "    elif channels == 'some':\n",
    "        start_channel += 23 #eliminate the first 23 empty channels in hdf5 -> makes channel numbering match resonator numbering\n",
    "        stop_channel += 23 + 1 #eliminate the first 23 empty channels in hdf5 -> makes channel numbering match resonator numbering; +1 forces python to include the stop_channel\n",
    "        file = h5py.File(filename, 'r')\n",
    "        adc_i = np.array(file['time_ordered_data']['adc_i'][start_channel:stop_channel]) \n",
    "        adc_q = np.array(file['time_ordered_data']['adc_q'][start_channel:stop_channel]) \n",
    "        t = np.array(file['time_ordered_data']['timestamp'])  \n",
    "    \n",
    "    return t, adc_i, adc_q"
   ]
  },
  {
   "cell_type": "markdown",
   "metadata": {},
   "source": [
    "2. Actually grabbing the files, then reading the data with ```read_data``` function (looking at function using Matt's, but will be integrated with chunking version later?)"
   ]
  },
  {
   "cell_type": "code",
   "execution_count": 7,
   "metadata": {},
   "outputs": [],
   "source": [
    "# doing this to try out with LO sweeps, using 4250 init file \n",
    "\n",
    "initial_lo_sweep_path = '/Users/leayamashiro/AliCPT/alicpt_data/chopped_data/tone_inits/fcenter_4250.0_20240216162215/lo_sweep_initial_fcenter_4250.0_20240216162224.npy'\n",
    "targeted_lo_sweep_path = '/Users/leayamashiro/AliCPT/alicpt_data/chopped_data/tone_inits/fcenter_4250.0_20240216162215/lo_sweep_targeted_2_fcenter_4250.0_20240216162651.npy'\n",
    "tone_freqs_path = '/Users/leayamashiro/AliCPT/alicpt_data/chopped_data/tone_inits/fcenter_4250.0_20240216162215/freq_list_lo_sweep_targeted_1_fcenter_4250.0_20240216162437.npy'"
   ]
  },
  {
   "cell_type": "code",
   "execution_count": 8,
   "metadata": {},
   "outputs": [],
   "source": [
    "channels='all'\n",
    "ts_path = ts_file\n",
    "start_channel=0\n",
    "stop_channel=1000\n",
    "initial_lo_sweep=np.load(initial_lo_sweep_path) #find initial lo sweep file\n",
    "targeted_lo_sweep=np.load(targeted_lo_sweep_path) #find targeted sweep file\n",
    "tone_freqs=np.load(tone_freqs_path) #find tone freqs\n",
    "#print(tone_freqs)\n",
    "if channels == 'some':\n",
    "    tone_freqs = tone_freqs[start_channel + 23:stop_channel + 23 + 1]\n",
    "    print(tone_freqs)\n",
    "ts_fr,Is_fr,Qs_fr=read_data(ts_path,channels='all')    #note to self: limit tone_freqs to actively called channels; need to figure out channel numbering first"
   ]
  },
  {
   "cell_type": "markdown",
   "metadata": {},
   "source": [
    "- ```tone_freqs``` initially is the list of TARGET frequency tones adjusted after the first sweep. Then ```if channels == 'some'``` indexes these in case there is a channel-chunking operation happening and corrects for the 22-row buffer. \n",
    "- ```read_data``` is familiar function, takes in timestream file and returns ```t, i, q```, so final line above has:\n",
    " \n",
    "    ```ts_fr``` = t\n",
    "    \n",
    "    ```Is_fr``` = i\n",
    "    \n",
    "    ```Qs_fr``` =  q"
   ]
  },
  {
   "cell_type": "markdown",
   "metadata": {},
   "source": [
    "3. Setting up sampling parameters"
   ]
  },
  {
   "cell_type": "code",
   "execution_count": 9,
   "metadata": {},
   "outputs": [],
   "source": [
    " #testing fixing the time breaks before the demod -- probably don't want to keep this but we'll see\n",
    "fs=512e6/(2**20)    #this line is incredibly important; need to make sure we match the data rate at all times; add an if statement for faster data rate data\n",
    "#fs=256e6/(2**19)\n",
    "ts_fr = np.arange(Is_fr.shape[1])/fs"
   ]
  },
  {
   "cell_type": "code",
   "execution_count": 10,
   "metadata": {},
   "outputs": [
    {
     "data": {
      "text/plain": [
       "488.28125"
      ]
     },
     "execution_count": 10,
     "metadata": {},
     "output_type": "execute_result"
    }
   ],
   "source": [
    "512e6/(2**20)\n",
    "# Hz? "
   ]
  },
  {
   "cell_type": "markdown",
   "metadata": {},
   "source": [
    "^ RFSoC processes the stream at 512 MHz\n",
    "- then final step is \"decimation\" (down-sampling) and the technique they're using is called an \"accumulator\" \n",
    "- decimation via accumulator \n",
    "    - set an accumulation length which is 2^19 - 1, \n",
    "        so it takes 2^19 - 1 values, averages them together, and makes one data point \n",
    "        so what this amounts to is, if you do your base data rate, divided by your accumulator number, you should get your actual effective data rate \n",
    "    - so 512/(2**19 -1) = 488.28 "
   ]
  },
  {
   "cell_type": "markdown",
   "metadata": {},
   "source": [
    "Okay so here, some questions: \n",
    "- I think I understand that here, with ```ts_fr``` we are manually rearranging the time stamps based on the length of the data (```Is_fr```) because of the phase jump issue(?) \n",
    "- BUT what about the ```f_sawtooth```? \n",
    "    - difference between data taking rate and bandwidth? \n",
    "\n",
    "\n",
    "\n",
    "there's time chunking issue, being agnostic "
   ]
  },
  {
   "cell_type": "markdown",
   "metadata": {},
   "source": [
    "#### **Delay Segment**"
   ]
  },
  {
   "cell_type": "markdown",
   "metadata": {},
   "source": [
    "for ```find_freqs_cable_delay_subtraction```, \n",
    "1. why is ```target``` = 0.98? \n",
    "2. ```n_freq``` = 10000? "
   ]
  },
  {
   "cell_type": "code",
   "execution_count": 14,
   "metadata": {},
   "outputs": [
    {
     "name": "stdout",
     "output_type": "stream",
     "text": [
      "looking for delay region\n",
      "start = 4243240257.8125\n",
      "stop = 4256008812.5\n"
     ]
    },
    {
     "name": "stderr",
     "output_type": "stream",
     "text": [
      "/var/folders/ky/hnfmqvvd74x03rjxm1q6hf580000gn/T/ipykernel_24818/97763801.py:11: RuntimeWarning: divide by zero encountered in log10\n",
      "  y=np.append(y,20*np.log10(np.abs(test_sweep[1,:])))\n"
     ]
    }
   ],
   "source": [
    "\"\"\"\n",
    "#depricated code for finding delay region\n",
    "#look at initial sweep\n",
    "plot_s21([initial_lo_sweep])\n",
    "\n",
    "\n",
    "#choose delay region - should automate finding an area without peaks later\n",
    "delay_region_start = float(input('Delay Region Start (GHz): '))*1e9\n",
    "delay_region_stop = float(input('Delay Region Stop (GHz): '))*1e9\n",
    "\"\"\"\n",
    "\n",
    "#compute delay region\n",
    "print('looking for delay region')\n",
    "delay_region_start, delay_region_stop = find_freqs_cable_delay_subtraction(initial_lo_sweep,0.98,10000)\n",
    "print(f'start = {delay_region_start}')\n",
    "print(f'stop = {delay_region_stop}')\n",
    "\n"
   ]
  },
  {
   "cell_type": "markdown",
   "metadata": {},
   "source": [
    "okay need to ask about the divide by zero issue here"
   ]
  },
  {
   "cell_type": "markdown",
   "metadata": {},
   "source": [
    "1. So we're calibrating signal for cable delay... looking at ```find_freqs_cable_delay_subtraction```: "
   ]
  },
  {
   "cell_type": "code",
   "execution_count": 15,
   "metadata": {},
   "outputs": [],
   "source": [
    "# name of function: finding the frequencies FOR the cable delay subtraction. \n",
    "\n",
    "def find_freqs_cable_delay_subtraction(initial_lo_sweep,target,n_freq):\n",
    "   \n",
    "    tests=initial_lo_sweep\n",
    "    x=[]\n",
    "    y=[]\n",
    "    for i in range(tests.shape[1]): # shape is the umber of tone channels \n",
    "        test_sweep=tests[:,i,:]\n",
    "        x=np.append(x,test_sweep[0,:].real)\n",
    "        y=np.append(y,20*np.log10(np.abs(test_sweep[1,:])))\n",
    "    finite=np.asarray(np.where(np.isfinite(y) == True))\n",
    "    yfinite=y[finite].flatten()\n",
    "    xfinite=x[finite].flatten()\n",
    "    idmax=np.where(yfinite == np.max(yfinite))\n",
    "   \n",
    "    # idgt=index array of the (x,y) values > target*ymax (id=index, gt=greater than)\n",
    "    idgt=np.asarray(np.where(yfinite > (target*yfinite[idmax][0]))).flatten() # comparing heights \n",
    "    # got 0.98 value vy playing with things and tuning \n",
    "    # frequency range for cable delay\n",
    "    f_start=xfinite[idgt[0]]\n",
    "    f_end=xfinite[idgt[0]+n_freq]\n",
    "\n",
    "\n",
    "    #fig_test, ax_test = plt.subplots(1)\n",
    "    #ax_test.plot(xfinite,yfinite)\n",
    "    #ax_test.plot(x[idgt[0]:idgt[0]+n_freq], y[idgt[0]:idgt[0]+n_freq])\n",
    "   \n",
    "    return f_start, f_end"
   ]
  },
  {
   "cell_type": "markdown",
   "metadata": {},
   "source": []
  },
  {
   "cell_type": "code",
   "execution_count": null,
   "metadata": {},
   "outputs": [],
   "source": []
  },
  {
   "cell_type": "markdown",
   "metadata": {},
   "source": [
    "by argument: \n",
    "- ```initial_lo_sweep``` is that LO sweep in the folder that happens first; before targeting the tones (refer to ```channel_setup```) \n",
    "    - also does ```channel_setup``` running and then the file path modifications running at the beginning of ```full_demod_process``` interfere? \n",
    "\n",
    "- ```target``` -- this seems like just an integer but where is the integer coming from? \n",
    "\n",
    "- ```n_freq``` ... tones?\n",
    "\n",
    "\n",
    "Function: \n",
    "1. grabs the LO sweep file data (already read in) and names it ```tests``` \n",
    "    - it has shape (2, 100, 500) which means it is a 3D array (tensor) that has \n",
    "        - 2 blocks\n",
    "        - with 1000 rows in each block \n",
    "        - with 500 columns in each row\n",
    "    - Each block has 1000 rows and 500 columns, and there are two matrices. **Q: Are the two blocks for real and complex?**\n",
    "2. creates two lists ```x``` and ```y```\n",
    "3. iterates through a range of all channels (```tests.shape[1]```)\n",
    "    - ```test_sweep``` makes it iterate through each channel for both blocks and each tone(?)\n",
    "    - ```x=np.append(x,test_sweep[0,:].real)``` takes real part of first block (so both channels and 500 MHz band) info of test_sweep and appends to x **to create freqency array**? \n",
    "4. ```y=np.append(y,20*np.log10(np.abs(test_sweep[1,:])))``` appends the frequency (tone) power ??? \n",
    "5. ```finite=np.asarray(np.where(np.isfinite(y) == True))``` creates array for all index values where values are not infinite (like NaN values) and then ```xfinite``` and ```yfinite``` are just filtered versions using that finite value index array\n",
    "6. ```idmax``` finds index of the maximum power \n",
    "7.  ```idgt``` makes array of indices in ```yfinite``` where values are greater than the target times the maximum value (id=index, gt=greater than). This is main important index array \n",
    "8. ```fstart``` and ```fend``` select frequencies from original filtered arrays \n",
    "9. returns fstart, fend which in the macro function are defined as ```delay_region_start``` and ```delay_region_stop```"
   ]
  },
  {
   "cell_type": "markdown",
   "metadata": {},
   "source": [
    "- as RF goes down to the detector, it picks up phase delay \n",
    "- on a VNA scan, it's looking for a section where you don't have a big dip down "
   ]
  },
  {
   "cell_type": "code",
   "execution_count": null,
   "metadata": {},
   "outputs": [],
   "source": []
  },
  {
   "cell_type": "markdown",
   "metadata": {},
   "source": [
    "2. Measure the delay"
   ]
  },
  {
   "cell_type": "code",
   "execution_count": 19,
   "metadata": {},
   "outputs": [
    {
     "name": "stdout",
     "output_type": "stream",
     "text": [
      "delay: 6.430838030860101e-08\n"
     ]
    },
    {
     "data": {
      "image/png": "[encoded data removed]",
      "text/plain": [
       "<Figure size 500x400 with 1 Axes>"
      ]
     },
     "metadata": {},
     "output_type": "display_data"
    }
   ],
   "source": [
    "#measure cable delay\n",
    "delays = measure_delay_test_given_freq(initial_lo_sweep,delay_region_start,delay_region_stop,plot=True) \n",
    "# delay_region_start,delay_region_stop are outputs from figuring out the frequency range from previous function \n",
    "\n",
    "print(f'delay: {np.median(delays)}')"
   ]
  },
  {
   "cell_type": "code",
   "execution_count": 20,
   "metadata": {},
   "outputs": [
    {
     "data": {
      "text/plain": [
       "17"
      ]
     },
     "execution_count": 20,
     "metadata": {},
     "output_type": "execute_result"
    }
   ],
   "source": [
    "len(delays)"
   ]
  },
  {
   "cell_type": "markdown",
   "metadata": {},
   "source": [
    "Looking at ```measure_delay_test_given_freq```: "
   ]
  },
  {
   "cell_type": "code",
   "execution_count": 21,
   "metadata": {},
   "outputs": [],
   "source": [
    "# test_sweeps object for this function is usually the initial_lo_sweep data \n",
    "# fmin, fmax define the frequency range for measuring the delay, for this point in the \n",
    "# full_demod_process function, the inputs are delay_region_start,delay_region_stop, outputs from the previous function \n",
    "\n",
    "# if i give you a frequency span, measure the delay \n",
    "\n",
    "def measure_delay_test_given_freq(test_sweeps,fmin,fmax,plot=False):\n",
    "    \"\"\"\n",
    "    Manually enter frequency region for cable delay measurement.\n",
    "    First 100 points currently used because of system stability issue. Might remove in the future if it gets better.\n",
    "    \"\"\"\n",
    "    delays=[] # empty delay list\n",
    "    for i in range(test_sweeps.shape[1]): # length = number of channels \n",
    "        test_sweep=test_sweeps[:,i,:] # takes each channel in sweep as i, then each item in test_sweep is two values? \n",
    "        freq_start=np.min(test_sweep[0,:].real) # freq start with range \n",
    "        freq_stop=np.max(test_sweep[0,:].real) # freq stop with range\n",
    "        if freq_start>fmin and freq_stop<fmax: # makes sure it's within bounds \n",
    "            # polyfit takes x, y values\n",
    "            # x = first 100 frequency points, takes real-valued frequency from first block\n",
    "            # y = phase value using the complex value in second block\n",
    "            # fits polynomial, extracts coefficient as m\n",
    "            m,b = np.polyfit(test_sweep[0,:100].real, [cmath.phase(x) for x in test_sweep[1,:100]], 1)\n",
    "            # slope m corresponds to change in phase with respect to frequency\n",
    "            # tau takes the phase info and converts to a time delay\n",
    "            tau=-m/(2*np.pi)\n",
    "            delays.append(tau)\n",
    "    delays=np.array(delays)\n",
    "    delays_sel=delays[np.where(delays>0)] # filters for zero delays\n",
    "    if plot==True: # plot delay distribution\n",
    "        #plt.figure(figsize=(11,8))\n",
    "        plt.figure(figsize=(5,4))\n",
    "        plt.hist(delays_sel*1e9,bins=np.linspace(0,100,50))\n",
    "        plt.xlabel('Cable Delay (ns)')\n",
    "        plt.ylabel('Number of Segments')\n",
    "    return delays_sel # returns the selected delay array\n",
    "\n"
   ]
  },
  {
   "cell_type": "markdown",
   "metadata": {},
   "source": [
    "- why with freq_start and freq_stop are you taking minimum and redefining if you already have the range set by the previous function? \n",
    "    - okay so what do fmin and fmax have to be so that this works properly? given the delay_region_start and stop outputs from previous... \n",
    "- for the polynomial, you're getting the slope for the fit of the phase... why only first degree fit? \n",
    "- need to look at math\n",
    "- check in about the 100 points ?? \n",
    "**Output** = ```delays_sel``` array of the time delays\n",
    "- do the delays have info encoded about their frequency counterpart ?? \n",
    "- why for the one I tried are there 17 points? \n",
    "    - oh. i think it's just so he can see the distribution but that's not what he actually uses in the delay removal... "
   ]
  },
  {
   "cell_type": "markdown",
   "metadata": {},
   "source": [
    "3. Remove Delays\n",
    "- dependent on ```remove_delay``` and ```remove_delay_timestream``` functions"
   ]
  },
  {
   "cell_type": "code",
   "execution_count": 22,
   "metadata": {},
   "outputs": [],
   "source": [
    "# REMOVE DELAY FUNCTION\n",
    "\n",
    "def remove_delay(target_sweeps,delay,channels='all',start_channel=0,stop_channel=1000):\n",
    "    target_sweeps_rm=target_sweeps.copy()\n",
    "    \n",
    "    # defining loop ranges\n",
    "    if channels == 'all':\n",
    "        loop_range = range(target_sweeps.shape[1]) \n",
    "    elif channels == 'some':\n",
    "        loop_range = range(stop_channel-start_channel)\n",
    "    \n",
    "    # removing the delays\n",
    "    for i in loop_range:\n",
    "        target_sweep=target_sweeps[:,i,:] # going for each channel where there's a tone\n",
    "        freqs=target_sweep[0,:] # first block, full 500 MHz bandwidth \n",
    "        delay_fac=np.exp(1j*delay*2*np.pi*freqs) # delay factor applied to each of MHz bandwidth (?)\n",
    "        target_sweeps_rm[1,i,:]=target_sweeps[1,i,:]*delay_fac # for each channel of the second block, multiply array by the delay factor (element wise)\n",
    "            \n",
    "    return target_sweeps_rm, delay_fac "
   ]
  },
  {
   "cell_type": "markdown",
   "metadata": {},
   "source": [
    "getting rid of cable delay ON targeted sweep "
   ]
  },
  {
   "cell_type": "code",
   "execution_count": 27,
   "metadata": {},
   "outputs": [
    {
     "data": {
      "text/plain": [
       "array([4.04430371e+09+0.j, 4.04430471e+09+0.j, 4.04430571e+09+0.j,\n",
       "       4.04430671e+09+0.j, 4.04430771e+09+0.j, 4.04430871e+09+0.j,\n",
       "       4.04430971e+09+0.j, 4.04431071e+09+0.j, 4.04431171e+09+0.j,\n",
       "       4.04431271e+09+0.j, 4.04431371e+09+0.j, 4.04431471e+09+0.j,\n",
       "       4.04431571e+09+0.j, 4.04431671e+09+0.j, 4.04431771e+09+0.j,\n",
       "       4.04431871e+09+0.j, 4.04431971e+09+0.j, 4.04432071e+09+0.j,\n",
       "       4.04432171e+09+0.j, 4.04432271e+09+0.j, 4.04432371e+09+0.j,\n",
       "       4.04432471e+09+0.j, 4.04432571e+09+0.j, 4.04432671e+09+0.j,\n",
       "       4.04432771e+09+0.j, 4.04432871e+09+0.j, 4.04432971e+09+0.j,\n",
       "       4.04433071e+09+0.j, 4.04433171e+09+0.j, 4.04433271e+09+0.j,\n",
       "       4.04433371e+09+0.j, 4.04433471e+09+0.j, 4.04433571e+09+0.j,\n",
       "       4.04433671e+09+0.j, 4.04433771e+09+0.j, 4.04433871e+09+0.j,\n",
       "       4.04433971e+09+0.j, 4.04434071e+09+0.j, 4.04434171e+09+0.j,\n",
       "       4.04434271e+09+0.j, 4.04434371e+09+0.j, 4.04434471e+09+0.j,\n",
       "       4.04434571e+09+0.j, 4.04434671e+09+0.j, 4.04434771e+09+0.j,\n",
       "       4.04434871e+09+0.j, 4.04434971e+09+0.j, 4.04435071e+09+0.j,\n",
       "       4.04435171e+09+0.j, 4.04435271e+09+0.j, 4.04435371e+09+0.j,\n",
       "       4.04435471e+09+0.j, 4.04435571e+09+0.j, 4.04435671e+09+0.j,\n",
       "       4.04435771e+09+0.j, 4.04435871e+09+0.j, 4.04435971e+09+0.j,\n",
       "       4.04436071e+09+0.j, 4.04436171e+09+0.j, 4.04436271e+09+0.j,\n",
       "       4.04436371e+09+0.j, 4.04436471e+09+0.j, 4.04436571e+09+0.j,\n",
       "       4.04436671e+09+0.j, 4.04436771e+09+0.j, 4.04436871e+09+0.j,\n",
       "       4.04436971e+09+0.j, 4.04437071e+09+0.j, 4.04437171e+09+0.j,\n",
       "       4.04437271e+09+0.j, 4.04437371e+09+0.j, 4.04437471e+09+0.j,\n",
       "       4.04437571e+09+0.j, 4.04437671e+09+0.j, 4.04437771e+09+0.j,\n",
       "       4.04437871e+09+0.j, 4.04437971e+09+0.j, 4.04438071e+09+0.j,\n",
       "       4.04438171e+09+0.j, 4.04438271e+09+0.j, 4.04438371e+09+0.j,\n",
       "       4.04438471e+09+0.j, 4.04438571e+09+0.j, 4.04438671e+09+0.j,\n",
       "       4.04438771e+09+0.j, 4.04438871e+09+0.j, 4.04438971e+09+0.j,\n",
       "       4.04439071e+09+0.j, 4.04439171e+09+0.j, 4.04439271e+09+0.j,\n",
       "       4.04439371e+09+0.j, 4.04439471e+09+0.j, 4.04439571e+09+0.j,\n",
       "       4.04439671e+09+0.j, 4.04439771e+09+0.j, 4.04439871e+09+0.j,\n",
       "       4.04439971e+09+0.j, 4.04440071e+09+0.j, 4.04440171e+09+0.j,\n",
       "       4.04440271e+09+0.j, 4.04440371e+09+0.j, 4.04440471e+09+0.j,\n",
       "       4.04440571e+09+0.j, 4.04440671e+09+0.j, 4.04440771e+09+0.j,\n",
       "       4.04440871e+09+0.j, 4.04440971e+09+0.j, 4.04441071e+09+0.j,\n",
       "       4.04441171e+09+0.j, 4.04441271e+09+0.j, 4.04441371e+09+0.j,\n",
       "       4.04441471e+09+0.j, 4.04441571e+09+0.j, 4.04441671e+09+0.j,\n",
       "       4.04441771e+09+0.j, 4.04441871e+09+0.j, 4.04441971e+09+0.j,\n",
       "       4.04442071e+09+0.j, 4.04442171e+09+0.j, 4.04442271e+09+0.j,\n",
       "       4.04442371e+09+0.j, 4.04442471e+09+0.j, 4.04442571e+09+0.j,\n",
       "       4.04442671e+09+0.j, 4.04442771e+09+0.j, 4.04442871e+09+0.j,\n",
       "       4.04442971e+09+0.j, 4.04443071e+09+0.j, 4.04443171e+09+0.j,\n",
       "       4.04443271e+09+0.j, 4.04443371e+09+0.j, 4.04443471e+09+0.j,\n",
       "       4.04443571e+09+0.j, 4.04443671e+09+0.j, 4.04443771e+09+0.j,\n",
       "       4.04443871e+09+0.j, 4.04443971e+09+0.j, 4.04444071e+09+0.j,\n",
       "       4.04444171e+09+0.j, 4.04444271e+09+0.j, 4.04444371e+09+0.j,\n",
       "       4.04444471e+09+0.j, 4.04444571e+09+0.j, 4.04444671e+09+0.j,\n",
       "       4.04444771e+09+0.j, 4.04444871e+09+0.j, 4.04444971e+09+0.j,\n",
       "       4.04445071e+09+0.j, 4.04445171e+09+0.j, 4.04445271e+09+0.j,\n",
       "       4.04445371e+09+0.j, 4.04445471e+09+0.j, 4.04445571e+09+0.j,\n",
       "       4.04445671e+09+0.j, 4.04445771e+09+0.j, 4.04445871e+09+0.j,\n",
       "       4.04445971e+09+0.j, 4.04446071e+09+0.j, 4.04446171e+09+0.j,\n",
       "       4.04446271e+09+0.j, 4.04446371e+09+0.j, 4.04446471e+09+0.j,\n",
       "       4.04446571e+09+0.j, 4.04446671e+09+0.j, 4.04446771e+09+0.j,\n",
       "       4.04446871e+09+0.j, 4.04446971e+09+0.j, 4.04447071e+09+0.j,\n",
       "       4.04447171e+09+0.j, 4.04447271e+09+0.j, 4.04447371e+09+0.j,\n",
       "       4.04447471e+09+0.j, 4.04447571e+09+0.j, 4.04447671e+09+0.j,\n",
       "       4.04447771e+09+0.j, 4.04447871e+09+0.j, 4.04447971e+09+0.j,\n",
       "       4.04448071e+09+0.j, 4.04448171e+09+0.j, 4.04448271e+09+0.j,\n",
       "       4.04448371e+09+0.j, 4.04448471e+09+0.j, 4.04448571e+09+0.j,\n",
       "       4.04448671e+09+0.j, 4.04448771e+09+0.j, 4.04448871e+09+0.j,\n",
       "       4.04448971e+09+0.j, 4.04449071e+09+0.j, 4.04449171e+09+0.j,\n",
       "       4.04449271e+09+0.j, 4.04449371e+09+0.j, 4.04449471e+09+0.j,\n",
       "       4.04449571e+09+0.j, 4.04449671e+09+0.j, 4.04449771e+09+0.j,\n",
       "       4.04449871e+09+0.j, 4.04449971e+09+0.j, 4.04450071e+09+0.j,\n",
       "       4.04450171e+09+0.j, 4.04450271e+09+0.j, 4.04450371e+09+0.j,\n",
       "       4.04450471e+09+0.j, 4.04450571e+09+0.j, 4.04450671e+09+0.j,\n",
       "       4.04450771e+09+0.j, 4.04450871e+09+0.j, 4.04450971e+09+0.j,\n",
       "       4.04451071e+09+0.j, 4.04451171e+09+0.j, 4.04451271e+09+0.j,\n",
       "       4.04451371e+09+0.j, 4.04451471e+09+0.j, 4.04451571e+09+0.j,\n",
       "       4.04451671e+09+0.j, 4.04451771e+09+0.j, 4.04451871e+09+0.j,\n",
       "       4.04451971e+09+0.j, 4.04452071e+09+0.j, 4.04452171e+09+0.j,\n",
       "       4.04452271e+09+0.j, 4.04452371e+09+0.j, 4.04452471e+09+0.j,\n",
       "       4.04452571e+09+0.j, 4.04452671e+09+0.j, 4.04452771e+09+0.j,\n",
       "       4.04452871e+09+0.j, 4.04452971e+09+0.j, 4.04453071e+09+0.j,\n",
       "       4.04453171e+09+0.j, 4.04453271e+09+0.j, 4.04453371e+09+0.j,\n",
       "       4.04453471e+09+0.j, 4.04453571e+09+0.j, 4.04453671e+09+0.j,\n",
       "       4.04453771e+09+0.j, 4.04453871e+09+0.j, 4.04453971e+09+0.j,\n",
       "       4.04454071e+09+0.j, 4.04454171e+09+0.j, 4.04454271e+09+0.j,\n",
       "       4.04454371e+09+0.j, 4.04454471e+09+0.j, 4.04454571e+09+0.j,\n",
       "       4.04454671e+09+0.j, 4.04454771e+09+0.j, 4.04454871e+09+0.j,\n",
       "       4.04454971e+09+0.j, 4.04455071e+09+0.j, 4.04455171e+09+0.j,\n",
       "       4.04455271e+09+0.j, 4.04455371e+09+0.j, 4.04455471e+09+0.j,\n",
       "       4.04455571e+09+0.j, 4.04455671e+09+0.j, 4.04455771e+09+0.j,\n",
       "       4.04455871e+09+0.j, 4.04455971e+09+0.j, 4.04456071e+09+0.j,\n",
       "       4.04456171e+09+0.j, 4.04456271e+09+0.j, 4.04456371e+09+0.j,\n",
       "       4.04456471e+09+0.j, 4.04456571e+09+0.j, 4.04456671e+09+0.j,\n",
       "       4.04456771e+09+0.j, 4.04456871e+09+0.j, 4.04456971e+09+0.j,\n",
       "       4.04457071e+09+0.j, 4.04457171e+09+0.j, 4.04457271e+09+0.j,\n",
       "       4.04457371e+09+0.j, 4.04457471e+09+0.j, 4.04457571e+09+0.j,\n",
       "       4.04457671e+09+0.j, 4.04457771e+09+0.j, 4.04457871e+09+0.j,\n",
       "       4.04457971e+09+0.j, 4.04458071e+09+0.j, 4.04458171e+09+0.j,\n",
       "       4.04458271e+09+0.j, 4.04458371e+09+0.j, 4.04458471e+09+0.j,\n",
       "       4.04458571e+09+0.j, 4.04458671e+09+0.j, 4.04458771e+09+0.j,\n",
       "       4.04458871e+09+0.j, 4.04458971e+09+0.j, 4.04459071e+09+0.j,\n",
       "       4.04459171e+09+0.j, 4.04459271e+09+0.j, 4.04459371e+09+0.j,\n",
       "       4.04459471e+09+0.j, 4.04459571e+09+0.j, 4.04459671e+09+0.j,\n",
       "       4.04459771e+09+0.j, 4.04459871e+09+0.j, 4.04459971e+09+0.j,\n",
       "       4.04460071e+09+0.j, 4.04460171e+09+0.j, 4.04460271e+09+0.j,\n",
       "       4.04460371e+09+0.j, 4.04460471e+09+0.j, 4.04460571e+09+0.j,\n",
       "       4.04460671e+09+0.j, 4.04460771e+09+0.j, 4.04460871e+09+0.j,\n",
       "       4.04460971e+09+0.j, 4.04461071e+09+0.j, 4.04461171e+09+0.j,\n",
       "       4.04461271e+09+0.j, 4.04461371e+09+0.j, 4.04461471e+09+0.j,\n",
       "       4.04461571e+09+0.j, 4.04461671e+09+0.j, 4.04461771e+09+0.j,\n",
       "       4.04461871e+09+0.j, 4.04461971e+09+0.j, 4.04462071e+09+0.j,\n",
       "       4.04462171e+09+0.j, 4.04462271e+09+0.j, 4.04462371e+09+0.j,\n",
       "       4.04462471e+09+0.j, 4.04462571e+09+0.j, 4.04462671e+09+0.j,\n",
       "       4.04462771e+09+0.j, 4.04462871e+09+0.j, 4.04462971e+09+0.j,\n",
       "       4.04463071e+09+0.j, 4.04463171e+09+0.j, 4.04463271e+09+0.j,\n",
       "       4.04463371e+09+0.j, 4.04463471e+09+0.j, 4.04463571e+09+0.j,\n",
       "       4.04463671e+09+0.j, 4.04463771e+09+0.j, 4.04463871e+09+0.j,\n",
       "       4.04463971e+09+0.j, 4.04464071e+09+0.j, 4.04464171e+09+0.j,\n",
       "       4.04464271e+09+0.j, 4.04464371e+09+0.j, 4.04464471e+09+0.j,\n",
       "       4.04464571e+09+0.j, 4.04464671e+09+0.j, 4.04464771e+09+0.j,\n",
       "       4.04464871e+09+0.j, 4.04464971e+09+0.j, 4.04465071e+09+0.j,\n",
       "       4.04465171e+09+0.j, 4.04465271e+09+0.j, 4.04465371e+09+0.j,\n",
       "       4.04465471e+09+0.j, 4.04465571e+09+0.j, 4.04465671e+09+0.j,\n",
       "       4.04465771e+09+0.j, 4.04465871e+09+0.j, 4.04465971e+09+0.j,\n",
       "       4.04466071e+09+0.j, 4.04466171e+09+0.j, 4.04466271e+09+0.j,\n",
       "       4.04466371e+09+0.j, 4.04466471e+09+0.j, 4.04466571e+09+0.j,\n",
       "       4.04466671e+09+0.j, 4.04466771e+09+0.j, 4.04466871e+09+0.j,\n",
       "       4.04466971e+09+0.j, 4.04467071e+09+0.j, 4.04467171e+09+0.j,\n",
       "       4.04467271e+09+0.j, 4.04467371e+09+0.j, 4.04467471e+09+0.j,\n",
       "       4.04467571e+09+0.j, 4.04467671e+09+0.j, 4.04467771e+09+0.j,\n",
       "       4.04467871e+09+0.j, 4.04467971e+09+0.j, 4.04468071e+09+0.j,\n",
       "       4.04468171e+09+0.j, 4.04468271e+09+0.j, 4.04468371e+09+0.j,\n",
       "       4.04468471e+09+0.j, 4.04468571e+09+0.j, 4.04468671e+09+0.j,\n",
       "       4.04468771e+09+0.j, 4.04468871e+09+0.j, 4.04468971e+09+0.j,\n",
       "       4.04469071e+09+0.j, 4.04469171e+09+0.j, 4.04469271e+09+0.j,\n",
       "       4.04469371e+09+0.j, 4.04469471e+09+0.j, 4.04469571e+09+0.j,\n",
       "       4.04469671e+09+0.j, 4.04469771e+09+0.j, 4.04469871e+09+0.j,\n",
       "       4.04469971e+09+0.j, 4.04470071e+09+0.j, 4.04470171e+09+0.j,\n",
       "       4.04470271e+09+0.j, 4.04470371e+09+0.j, 4.04470471e+09+0.j,\n",
       "       4.04470571e+09+0.j, 4.04470671e+09+0.j, 4.04470771e+09+0.j,\n",
       "       4.04470871e+09+0.j, 4.04470971e+09+0.j, 4.04471071e+09+0.j,\n",
       "       4.04471171e+09+0.j, 4.04471271e+09+0.j, 4.04471371e+09+0.j,\n",
       "       4.04471471e+09+0.j, 4.04471571e+09+0.j, 4.04471671e+09+0.j,\n",
       "       4.04471771e+09+0.j, 4.04471871e+09+0.j, 4.04471971e+09+0.j,\n",
       "       4.04472071e+09+0.j, 4.04472171e+09+0.j, 4.04472271e+09+0.j,\n",
       "       4.04472371e+09+0.j, 4.04472471e+09+0.j, 4.04472571e+09+0.j,\n",
       "       4.04472671e+09+0.j, 4.04472771e+09+0.j, 4.04472871e+09+0.j,\n",
       "       4.04472971e+09+0.j, 4.04473071e+09+0.j, 4.04473171e+09+0.j,\n",
       "       4.04473271e+09+0.j, 4.04473371e+09+0.j, 4.04473471e+09+0.j,\n",
       "       4.04473571e+09+0.j, 4.04473671e+09+0.j, 4.04473771e+09+0.j,\n",
       "       4.04473871e+09+0.j, 4.04473971e+09+0.j, 4.04474071e+09+0.j,\n",
       "       4.04474171e+09+0.j, 4.04474271e+09+0.j, 4.04474371e+09+0.j,\n",
       "       4.04474471e+09+0.j, 4.04474571e+09+0.j, 4.04474671e+09+0.j,\n",
       "       4.04474771e+09+0.j, 4.04474871e+09+0.j, 4.04474971e+09+0.j,\n",
       "       4.04475071e+09+0.j, 4.04475171e+09+0.j, 4.04475271e+09+0.j,\n",
       "       4.04475371e+09+0.j, 4.04475471e+09+0.j, 4.04475571e+09+0.j,\n",
       "       4.04475671e+09+0.j, 4.04475771e+09+0.j, 4.04475871e+09+0.j,\n",
       "       4.04475971e+09+0.j, 4.04476071e+09+0.j, 4.04476171e+09+0.j,\n",
       "       4.04476271e+09+0.j, 4.04476371e+09+0.j, 4.04476471e+09+0.j,\n",
       "       4.04476571e+09+0.j, 4.04476671e+09+0.j, 4.04476771e+09+0.j,\n",
       "       4.04476871e+09+0.j, 4.04476971e+09+0.j, 4.04477071e+09+0.j,\n",
       "       4.04477171e+09+0.j, 4.04477271e+09+0.j, 4.04477371e+09+0.j,\n",
       "       4.04477471e+09+0.j, 4.04477571e+09+0.j, 4.04477671e+09+0.j,\n",
       "       4.04477771e+09+0.j, 4.04477871e+09+0.j, 4.04477971e+09+0.j,\n",
       "       4.04478071e+09+0.j, 4.04478171e+09+0.j, 4.04478271e+09+0.j,\n",
       "       4.04478371e+09+0.j, 4.04478471e+09+0.j, 4.04478571e+09+0.j,\n",
       "       4.04478671e+09+0.j, 4.04478771e+09+0.j, 4.04478871e+09+0.j,\n",
       "       4.04478971e+09+0.j, 4.04479071e+09+0.j, 4.04479171e+09+0.j,\n",
       "       4.04479271e+09+0.j, 4.04479371e+09+0.j, 4.04479471e+09+0.j,\n",
       "       4.04479571e+09+0.j, 4.04479671e+09+0.j, 4.04479771e+09+0.j,\n",
       "       4.04479871e+09+0.j, 4.04479971e+09+0.j, 4.04480071e+09+0.j,\n",
       "       4.04480171e+09+0.j, 4.04480271e+09+0.j])"
      ]
     },
     "execution_count": 27,
     "metadata": {},
     "output_type": "execute_result"
    }
   ],
   "source": [
    "targeted_lo_sweep_rm.shape\n",
    "\n",
    "targeted_lo_sweep[0,0,:]"
   ]
  },
  {
   "cell_type": "markdown",
   "metadata": {},
   "source": [
    "- if there are multiple targeted sweeps, which one is used here in the ```remove_delay()``` function? \n",
    "- okay back to being confused a bit about the channel/tones\n",
    "    - there's a 500 MHz band applied for the whole detector system\n",
    "    - initial sweep has shape (2, 1000, 500)\n",
    "    - the targeted sweep has different shape, for example (2, 231, 500), dependent on which resonators are actually working (?)\n",
    "    - but now in the context of the time delay removal: \n",
    "        - the full 500 MHz band still applied, and whole thing is corrected. But there aren't 500 resonators working...? \n",
    "\n",
    "**ALSO:** why use the initial sweep for the delay? "
   ]
  },
  {
   "cell_type": "markdown",
   "metadata": {},
   "source": [
    "**Trying out remove_delay function:**"
   ]
  },
  {
   "cell_type": "markdown",
   "metadata": {},
   "source": []
  },
  {
   "cell_type": "code",
   "execution_count": 28,
   "metadata": {},
   "outputs": [],
   "source": [
    "#remove cable delay\n",
    "targeted_lo_sweep_rm, delay_factor_example =remove_delay(targeted_lo_sweep,\n",
    "                                    np.median(delays),\n",
    "                                    channels=channels,\n",
    "                                    start_channel=start_channel,\n",
    "                                    stop_channel=stop_channel)"
   ]
  },
  {
   "cell_type": "code",
   "execution_count": 29,
   "metadata": {},
   "outputs": [
    {
     "data": {
      "text/plain": [
       "231"
      ]
     },
     "execution_count": 29,
     "metadata": {},
     "output_type": "execute_result"
    }
   ],
   "source": [
    "len(targeted_lo_sweep[1])"
   ]
  },
  {
   "cell_type": "code",
   "execution_count": 30,
   "metadata": {},
   "outputs": [
    {
     "data": {
      "text/plain": [
       "array([  0,   1,   2,   3,   4,   5,   6,   7,   8,   9,  10,  11,  12,\n",
       "        13,  14,  15,  16,  17,  18,  19,  20,  21,  22,  23,  24,  25,\n",
       "        26,  27,  28,  29,  30,  31,  32,  33,  34,  35,  36,  37,  38,\n",
       "        39,  40,  41,  42,  43,  44,  45,  46,  47,  48,  49,  50,  51,\n",
       "        52,  53,  54,  55,  56,  57,  58,  59,  60,  61,  62,  63,  64,\n",
       "        65,  66,  67,  68,  69,  70,  71,  72,  73,  74,  75,  76,  77,\n",
       "        78,  79,  80,  81,  82,  83,  84,  85,  86,  87,  88,  89,  90,\n",
       "        91,  92,  93,  94,  95,  96,  97,  98,  99, 100, 101, 102, 103,\n",
       "       104, 105, 106, 107, 108, 109, 110, 111, 112, 113, 114, 115, 116,\n",
       "       117, 118, 119, 120, 121, 122, 123, 124, 125, 126, 127, 128, 129,\n",
       "       130, 131, 132, 133, 134, 135, 136, 137, 138, 139, 140, 141, 142,\n",
       "       143, 144, 145, 146, 147, 148, 149, 150, 151, 152, 153, 154, 155,\n",
       "       156, 157, 158, 159, 160, 161, 162, 163, 164, 165, 166, 167, 168,\n",
       "       169, 170, 171, 172, 173, 174, 175, 176, 177, 178, 179, 180, 181,\n",
       "       182, 183, 184, 185, 186, 187, 188, 189, 190, 191, 192, 193, 194,\n",
       "       195, 196, 197, 198, 199, 200, 201, 202, 203, 204, 205, 206, 207,\n",
       "       208, 209, 210, 211, 212, 213, 214, 215, 216, 217, 218, 219, 220,\n",
       "       221, 222, 223, 224, 225, 226, 227, 228, 229, 230])"
      ]
     },
     "execution_count": 30,
     "metadata": {},
     "output_type": "execute_result"
    }
   ],
   "source": [
    "np.arange(0, len(targeted_lo_sweep[1]), 1)"
   ]
  },
  {
   "cell_type": "code",
   "execution_count": 31,
   "metadata": {},
   "outputs": [
    {
     "data": {
      "text/plain": [
       "231"
      ]
     },
     "execution_count": 31,
     "metadata": {},
     "output_type": "execute_result"
    }
   ],
   "source": [
    "targeted_lo_sweep.shape[1]"
   ]
  },
  {
   "cell_type": "code",
   "execution_count": 32,
   "metadata": {},
   "outputs": [
    {
     "data": {
      "text/plain": [
       "array([-2200.5+3344.5j, -2196. +3352.j , -2194. +3352.5j, -2195. +3358.j ,\n",
       "       -2192. +3357.5j, -2189. +3363.5j, -2183. +3353.5j, -2183. +3364.5j,\n",
       "       -2173.5+3360.j , -2174. +3368.j , -2170.5+3354.j , -2172. +3366.j ,\n",
       "       -2161.5+3360.5j, -2157. +3355.5j, -2157.5+3371.j , -2157. +3373.j ,\n",
       "       -2148. +3354.j , -2141. +3350.5j, -2144.5+3360.j , -2137.5+3361.j ,\n",
       "       -2133. +3368.j , -2131. +3358.j , -2124.5+3365.j , -2125. +3369.j ,\n",
       "       -2118.5+3367.j , -2116.5+3361.j , -2113. +3369.j , -2108. +3366.j ,\n",
       "       -2110. +3371.5j, -2101.5+3371.j , -2099.5+3362.5j, -2095.5+3360.5j,\n",
       "       -2094.5+3367.j , -2090.5+3367.j , -2084. +3376.j , -2080. +3359.j ,\n",
       "       -2074. +3357.j , -2076. +3369.j , -2068.5+3356.j , -2067.5+3368.5j,\n",
       "       -2063.5+3363.j , -2054. +3359.5j, -2056.5+3373.j , -2053. +3368.j ,\n",
       "       -2046. +3364.5j, -2047.5+3373.5j, -2038.5+3374.j , -2036. +3364.5j,\n",
       "       -2035. +3380.5j, -2028.5+3367.5j, -2020. +3365.j , -2018.5+3362.j ,\n",
       "       -2013.5+3370.5j, -2006. +3357.5j, -2005. +3366.j , -2009. +3381.j ,\n",
       "       -1995. +3355.j , -1989. +3355.j , -1990.5+3363.5j, -1985. +3365.j ,\n",
       "       -1978.5+3364.5j, -1982.5+3373.5j, -1969.5+3366.5j, -1965.5+3369.5j,\n",
       "       -1959. +3370.j , -1953.5+3356.j , -1950. +3370.j , -1946.5+3357.5j,\n",
       "       -1940.5+3375.5j, -1931. +3343.5j, -1929.5+3352.5j, -1925. +3367.j ,\n",
       "       -1925. +3365.j , -1917. +3365.5j, -1910.5+3368.j , -1905. +3365.5j,\n",
       "       -1903.5+3365.5j, -1892. +3359.j , -1887. +3355.j , -1879.5+3344.j ,\n",
       "       -1884. +3368.5j, -1870. +3357.5j, -1866. +3353.5j, -1854. +3358.j ,\n",
       "       -1849. +3348.j , -1844.5+3342.5j, -1840.5+3351.5j, -1838. +3362.j ,\n",
       "       -1829.5+3358.5j, -1818.5+3342.j , -1814. +3351.j , -1807. +3340.j ,\n",
       "       -1797.5+3341.j , -1790. +3342.5j, -1786.5+3343.5j, -1777. +3341.j ,\n",
       "       -1769.5+3333.5j, -1758. +3330.j , -1752.5+3334.j , -1745.5+3336.j ,\n",
       "       -1738. +3332.5j, -1732. +3331.j , -1721. +3333.j , -1713. +3328.5j,\n",
       "       -1701.5+3321.j , -1696.5+3328.j , -1683. +3325.j , -1679. +3317.j ,\n",
       "       -1664. +3311.5j, -1662. +3326.5j, -1645.5+3311.5j, -1640. +3311.j ,\n",
       "       -1628.5+3316.5j, -1618. +3308.5j, -1608.5+3309.j , -1599.5+3295.5j,\n",
       "       -1587.5+3300.5j, -1581. +3305.5j, -1565. +3297.j , -1558. +3297.j ,\n",
       "       -1554. +3297.j , -1534. +3286.j , -1525. +3287.j , -1510.5+3275.j ,\n",
       "       -1505.5+3282.j , -1491. +3267.j , -1483.5+3275.j , -1473. +3268.j ,\n",
       "       -1458. +3272.j , -1447.5+3262.j , -1439. +3264.j , -1425.5+3267.5j,\n",
       "       -1412.5+3247.5j, -1398.5+3247.5j, -1386.5+3249.5j, -1378.5+3239.j ,\n",
       "       -1372. +3241.j , -1356. +3227.j , -1341.5+3228.5j, -1333. +3227.5j,\n",
       "       -1316.5+3216.j , -1310.5+3216.5j, -1300. +3212.j , -1282.5+3206.j ,\n",
       "       -1272.5+3200.j , -1260.5+3195.j , -1255.5+3199.j , -1239. +3181.j ,\n",
       "       -1229. +3180.5j, -1221. +3182.5j, -1205.5+3177.5j, -1191.5+3161.j ,\n",
       "       -1179.5+3153.5j, -1171.5+3158.j , -1155. +3146.j , -1148. +3138.5j,\n",
       "       -1136. +3139.5j, -1120.5+3128.5j, -1108.5+3104.5j, -1102. +3126.5j,\n",
       "       -1090. +3109.5j, -1075. +3095.j , -1067. +3092.j , -1056. +3086.5j,\n",
       "       -1045. +3077.5j, -1028.5+3063.j , -1018. +3072.j , -1009. +3056.j ,\n",
       "        -996. +3044.5j,  -981.5+3037.5j,  -973. +3037.j ,  -960. +3027.j ,\n",
       "        -947.5+3008.5j,  -931. +2996.5j,  -920.5+2996.5j,  -905. +2974.5j,\n",
       "        -891. +2956.5j,  -884.5+2958.5j,  -868.5+2946.5j,  -852. +2933.5j,\n",
       "        -835. +2922.5j,  -820. +2896.5j,  -804. +2896.5j,  -787. +2879.j ,\n",
       "        -772.5+2853.5j,  -752.5+2844.j ,  -734. +2825.j ,  -719. +2803.j ,\n",
       "        -706. +2784.j ,  -691. +2764.5j,  -673.5+2750.j ,  -654.5+2732.j ,\n",
       "        -633. +2691.5j,  -617. +2663.5j,  -603.5+2643.j ,  -584. +2620.j ,\n",
       "        -570. +2594.j ,  -550.5+2552.5j,  -537. +2533.j ,  -517.5+2502.5j,\n",
       "        -503. +2468.j ,  -484. +2441.5j,  -470.5+2404.5j,  -457.5+2384.j ,\n",
       "        -441. +2342.5j,  -426. +2324.j ,  -414. +2276.5j,  -402. +2254.5j,\n",
       "        -389. +2220.5j,  -376. +2179.j ,  -366.5+2156.5j,  -354.5+2127.j ,\n",
       "        -344. +2091.j ,  -334. +2057.5j,  -329. +2029.5j,  -314.5+1995.j ,\n",
       "        -312. +1961.j ,  -310.5+1923.5j,  -303. +1891.5j,  -305.5+1844.j ,\n",
       "        -299. +1806.j ,  -303.5+1749.5j,  -301. +1709.j ,  -302. +1655.j ,\n",
       "        -310. +1600.5j,  -317. +1545.j ,  -324. +1495.5j,  -337. +1436.5j,\n",
       "        -344. +1374.j ,  -361.5+1325.5j,  -375. +1267.j ])"
      ]
     },
     "execution_count": 32,
     "metadata": {},
     "output_type": "execute_result"
    }
   ],
   "source": [
    "targeted_lo_sweep[1,0,0:231]"
   ]
  },
  {
   "cell_type": "code",
   "execution_count": 36,
   "metadata": {},
   "outputs": [
    {
     "data": {
      "text/plain": [
       "<matplotlib.legend.Legend at 0x31e96cc10>"
      ]
     },
     "execution_count": 36,
     "metadata": {},
     "output_type": "execute_result"
    },
    {
     "data": {
      "image/png": "[encoded data removed]",
      "text/plain": [
       "<Figure size 640x480 with 1 Axes>"
      ]
     },
     "metadata": {},
     "output_type": "display_data"
    }
   ],
   "source": [
    "plt.scatter(np.arange(0, len(targeted_lo_sweep[1]), 1), (targeted_lo_sweep[1,0,0:231].real + 1j*targeted_lo_sweep[1,0,0:231].imag), \n",
    "            label='delayed')\n",
    "plt.scatter(np.arange(0, len(targeted_lo_sweep_rm[1]), 1), (targeted_lo_sweep_rm[1,0,0:231].real + 1j*targeted_lo_sweep_rm[1,0,0:231].imag), \n",
    "            label='fixed')\n",
    "plt.scatter(np.arange(0, len(targeted_lo_sweep_rm[1]), 1), np.abs(((targeted_lo_sweep_rm[1,0,0:231].real + 1j*targeted_lo_sweep_rm[1,0,0:231].imag) \n",
    "                                                            - (targeted_lo_sweep[1,0,0:231].real + 1j*targeted_lo_sweep[1,0,0:231].imag))), \n",
    "                                                            label = r'abs($\\Delta S_{12}$)', marker='.')\n",
    "plt.grid(True)\n",
    "plt.xlabel('chan')\n",
    "plt.ylabel(r'$S_{21}$')\n",
    "plt.title('Target Sweep Delay Channel 0')\n",
    "plt.legend()\n",
    "#plt.scatter(targeted_lo_sweep_rm[1,:,:], label = 'fixed')"
   ]
  },
  {
   "cell_type": "markdown",
   "metadata": {},
   "source": [
    "### Q\n",
    "- why is it that as you go up in frequency channel, the delay size gets smaller? "
   ]
  },
  {
   "cell_type": "markdown",
   "metadata": {},
   "source": [
    "okay questions re: LO sweeps"
   ]
  },
  {
   "cell_type": "code",
   "execution_count": 33,
   "metadata": {},
   "outputs": [
    {
     "name": "stdout",
     "output_type": "stream",
     "text": [
      "initial LO sweep dimensions:(2, 1000, 500)\n",
      "targeted LO sweep dimensions:(2, 231, 500)\n",
      "target sweeps delay removed dimensions(2, 231, 500)\n"
     ]
    }
   ],
   "source": [
    "print('initial LO sweep dimensions:' + str(initial_lo_sweep.shape))\n",
    "print('targeted LO sweep dimensions:' + str(targeted_lo_sweep.shape))\n",
    "print('target sweeps delay removed dimensions' + str(targeted_lo_sweep_rm.shape))\n"
   ]
  },
  {
   "cell_type": "code",
   "execution_count": 40,
   "metadata": {},
   "outputs": [
    {
     "name": "stdout",
     "output_type": "stream",
     "text": [
      "targeted LO sweep shape(2, 231, 500)\n",
      "First Block\n",
      "[[4.04430371e+09+0.j 4.04430471e+09+0.j 4.04430571e+09+0.j ...\n",
      "  4.04480071e+09+0.j 4.04480171e+09+0.j 4.04480271e+09+0.j]\n",
      " [4.04899121e+09+0.j 4.04899221e+09+0.j 4.04899321e+09+0.j ...\n",
      "  4.04948821e+09+0.j 4.04948921e+09+0.j 4.04949021e+09+0.j]\n",
      " [4.05093555e+09+0.j 4.05093655e+09+0.j 4.05093755e+09+0.j ...\n",
      "  4.05143255e+09+0.j 4.05143355e+09+0.j 4.05143455e+09+0.j]\n",
      " ...\n",
      " [4.48786914e+09+0.j 4.48787014e+09+0.j 4.48787114e+09+0.j ...\n",
      "  4.48836614e+09+0.j 4.48836714e+09+0.j 4.48836814e+09+0.j]\n",
      " [4.48999512e+09+0.j 4.48999612e+09+0.j 4.48999712e+09+0.j ...\n",
      "  4.49049212e+09+0.j 4.49049312e+09+0.j 4.49049412e+09+0.j]\n",
      " [4.49510840e+09+0.j 4.49510940e+09+0.j 4.49511040e+09+0.j ...\n",
      "  4.49560540e+09+0.j 4.49560640e+09+0.j 4.49560740e+09+0.j]]\n",
      "Second Block:\n"
     ]
    },
    {
     "data": {
      "text/plain": [
       "array([[-2200.5+3344.5j, -2196. +3352.j , -2194. +3352.5j, ...,\n",
       "        -3044.5+3158.5j, -3045.5+3169.j , -3042.5+3164.5j],\n",
       "       [-1575.5+3780.5j, -1572. +3778.j , -1571. +3783.j , ...,\n",
       "        -2338. +3494.j , -2340.5+3507.j , -2338. +3508.j ],\n",
       "       [-1304.5+4120.5j, -1299.5+4124.j , -1293.5+4131.j , ...,\n",
       "        -1825. +3777.j , -1825.5+3788.j , -1821.5+3782.5j],\n",
       "       ...,\n",
       "       [-2017.5 +892.j , -2021.  +893.j , -2019.  +894.5j, ...,\n",
       "        -2273.5+1019.5j, -2279.5+1026.j , -2272.5+1023.5j],\n",
       "       [-1138. +1086.5j, -1141.5+1088.5j, -1142.5+1089.j , ...,\n",
       "        -1303. +1319.j , -1305. +1323.j , -1299.5+1319.j ],\n",
       "       [ -163. -1910.j ,  -164. -1908.5j,  -161. -1909.5j, ...,\n",
       "          -30. -1946.j ,   -25.5-1951.j ,   -29.5-1950.5j]])"
      ]
     },
     "execution_count": 40,
     "metadata": {},
     "output_type": "execute_result"
    }
   ],
   "source": [
    "print('targeted LO sweep shape' + str(targeted_lo_sweep.shape))\n",
    "print('First Block')\n",
    "print(targeted_lo_sweep[0])\n",
    "first_block_imag = targeted_lo_sweep[0].imag\n",
    "#plt.plot(first_block_imag)\n",
    "print('Second Block:')\n",
    "targeted_lo_sweep[1]\n",
    "\n",
    "# plt.figure()\n",
    "# plt.plot(targeted_lo_sweep[0,0:231,10], np.abs((targeted_lo_sweep[0,:,:].real)**2), label='block0 real')\n",
    "# plt.plot(np.abs((targeted_lo_sweep[0,:,:].imag)**2), label='block0 imag')\n",
    "# # plt.plot(targeted_lo_sweep[1,100,:].real, label='block1 real')\n",
    "# # plt.plot(targeted_lo_sweep[1,100,:].imag, label='block1 imag')\n",
    "# plt.legend()"
   ]
  },
  {
   "cell_type": "markdown",
   "metadata": {},
   "source": [
    "**removing delay timestream**\n",
    "- removing delay from the timestream \n",
    "- dependent on f0s, which in this case are the frequencies from the list made during the initialization(?) \n",
    "    - is the the freqs list from initial or targeted? "
   ]
  },
  {
   "cell_type": "code",
   "execution_count": 96,
   "metadata": {},
   "outputs": [
    {
     "name": "stdout",
     "output_type": "stream",
     "text": [
      "\u001b[0;31mDocstring:\u001b[0m\n",
      "zeros(shape, dtype=float, order='C', *, like=None)\n",
      "\n",
      "Return a new array of given shape and type, filled with zeros.\n",
      "\n",
      "Parameters\n",
      "----------\n",
      "shape : int or tuple of ints\n",
      "    Shape of the new array, e.g., ``(2, 3)`` or ``2``.\n",
      "dtype : data-type, optional\n",
      "    The desired data-type for the array, e.g., `numpy.int8`.  Default is\n",
      "    `numpy.float64`.\n",
      "order : {'C', 'F'}, optional, default: 'C'\n",
      "    Whether to store multi-dimensional data in row-major\n",
      "    (C-style) or column-major (Fortran-style) order in\n",
      "    memory.\n",
      "like : array_like, optional\n",
      "    Reference object to allow the creation of arrays which are not\n",
      "    NumPy arrays. If an array-like passed in as ``like`` supports\n",
      "    the ``__array_function__`` protocol, the result will be defined\n",
      "    by it. In this case, it ensures the creation of an array object\n",
      "    compatible with that passed in via this argument.\n",
      "\n",
      "    .. versionadded:: 1.20.0\n",
      "\n",
      "Returns\n",
      "-------\n",
      "out : ndarray\n",
      "    Array of zeros with the given shape, dtype, and order.\n",
      "\n",
      "See Also\n",
      "--------\n",
      "zeros_like : Return an array of zeros with shape and type of input.\n",
      "empty : Return a new uninitialized array.\n",
      "ones : Return a new array setting values to one.\n",
      "full : Return a new array of given shape filled with value.\n",
      "\n",
      "Examples\n",
      "--------\n",
      ">>> np.zeros(5)\n",
      "array([ 0.,  0.,  0.,  0.,  0.])\n",
      "\n",
      ">>> np.zeros((5,), dtype=int)\n",
      "array([0, 0, 0, 0, 0])\n",
      "\n",
      ">>> np.zeros((2, 1))\n",
      "array([[ 0.],\n",
      "       [ 0.]])\n",
      "\n",
      ">>> s = (2,2)\n",
      ">>> np.zeros(s)\n",
      "array([[ 0.,  0.],\n",
      "       [ 0.,  0.]])\n",
      "\n",
      ">>> np.zeros((2,), dtype=[('x', 'i4'), ('y', 'i4')]) # custom dtype\n",
      "array([(0, 0), (0, 0)],\n",
      "      dtype=[('x', '<i4'), ('y', '<i4')])\n",
      "\u001b[0;31mType:\u001b[0m      builtin_function_or_method"
     ]
    }
   ],
   "source": []
  },
  {
   "cell_type": "code",
   "execution_count": 107,
   "metadata": {},
   "outputs": [],
   "source": [
    "# removing delay timestream function\n",
    "\n",
    "def remove_delay_timestream(stream,f0s,delay):\n",
    "    stream_rm=np.zeros((f0s.shape[0],stream.shape[1]),dtype = 'complex_') # make zeros array with shape of (tone_freqs, shape of second timestream data block)\n",
    "    for i in range(f0s.shape[0]):\n",
    "        #print(delay)\n",
    "        #print(f0s)\n",
    "        delay_fac=np.exp(1j*2*np.pi*f0s[i]*delay)\n",
    "        #print(delay_fac)\n",
    "        stream_rm[i,:]=stream[i]*delay_fac\n",
    "    return stream_rm\n",
    "\n",
    "# need to know frequency of tone you're dealing with for each i \n",
    "# each tone is modulating data at each frequency "
   ]
  },
  {
   "cell_type": "markdown",
   "metadata": {},
   "source": [
    "- removing the delay from the timestream, multiplying the complex delay factor by the entire complex stream data -- how does that work? \n",
    "- actually just why are we multiplying that I do not follow the math\n",
    "- Google: \"To remove delay from a complex signal, you typically need to apply a phase shift in the frequency domain, which is achieved by multiplying the signal's Fourier Transform by a complex exponential with a negative phase corresponding to the desired delay, essentially \"shifting\" the signal back in time; this process is often referred to as \"phase correction\" or \"delay compensation\" in signal processing\"\n",
    "    - \"negative phase\" = j ? \n",
    "    - Also the Fourier transform is not happening yet so how can we just be multiplying it directly to the I + Qj signal??? \n",
    "        - So the f0s are what's being passed in the exponential of the delay factor, which is the frequency tones that are being applied with each data stream\n",
    "        - so essentially this is just correcting the time information by using a phase shift factor on the values in the time stream. \n",
    "        - rather than correcting times \n",
    "    - so to create the delay factor, you exponentiate this complex phase multiplied by the time delay multiplied by each of the 231 tones that are actually responding in the resonators\n",
    "    - THEN for each of the 231 resonators' time stream data, you multiply the complex I + jQ info BY the delay factor, and that becomes the phase-corrected first element of the 2D stream_rm array."
   ]
  },
  {
   "cell_type": "code",
   "execution_count": 105,
   "metadata": {},
   "outputs": [
    {
     "name": "stdout",
     "output_type": "stream",
     "text": [
      "231\n",
      "4880\n"
     ]
    }
   ],
   "source": [
    "stream = Is_fr+1j*Qs_fr\n",
    "print(tone_freqs.shape[0])\n",
    "print(stream.shape[1])"
   ]
  },
  {
   "cell_type": "code",
   "execution_count": 108,
   "metadata": {},
   "outputs": [],
   "source": [
    "#remove cable delay\n",
    "targeted_lo_sweep_rm=remove_delay(targeted_lo_sweep,\n",
    "                                    np.median(delays),\n",
    "                                    channels=channels,\n",
    "                                    start_channel=start_channel,\n",
    "                                    stop_channel=stop_channel)\n",
    "\n",
    "IQ_stream_rm=remove_delay_timestream(Is_fr+1j*Qs_fr,tone_freqs,np.median(delays))"
   ]
  },
  {
   "cell_type": "code",
   "execution_count": 139,
   "metadata": {},
   "outputs": [
    {
     "data": {
      "text/plain": [
       "(231, 4880)"
      ]
     },
     "execution_count": 139,
     "metadata": {},
     "output_type": "execute_result"
    }
   ],
   "source": [
    "IQ_stream_rm.shape"
   ]
  },
  {
   "cell_type": "code",
   "execution_count": 114,
   "metadata": {},
   "outputs": [
    {
     "name": "stdout",
     "output_type": "stream",
     "text": [
      "[(2, 231, 500)] [(500,)]\n"
     ]
    }
   ],
   "source": [
    "print([targeted_lo_sweep_rm[0].shape], [targeted_lo_sweep_rm[1].shape])"
   ]
  },
  {
   "cell_type": "markdown",
   "metadata": {},
   "source": [
    "### ?"
   ]
  },
  {
   "cell_type": "markdown",
   "metadata": {},
   "source": [
    "4. Get calibration"
   ]
  },
  {
   "cell_type": "code",
   "execution_count": null,
   "metadata": {},
   "outputs": [],
   "source": [
    "#measure circle parameters\n",
    "calibration=measure_circle_allch(targeted_lo_sweep_rm,\n",
    "                                    tone_freqs,\n",
    "                                    channels=channels,\n",
    "                                    start_channel=start_channel,\n",
    "                                    stop_channel=stop_channel) #finds circle center and initial phase for every channel\n",
    "\n",
    "print(calibration[0])\n",
    "#calibrate time stream\n",
    "data_cal=get_phase(IQ_stream_rm,calibration)"
   ]
  },
  {
   "cell_type": "markdown",
   "metadata": {},
   "source": [
    "Dependent on ```measure_circle_allch()```, dependent on ```measure_circle()``` (which is dependent on ```calculate_M```), and then ```get_phase()```"
   ]
  },
  {
   "cell_type": "code",
   "execution_count": 142,
   "metadata": {},
   "outputs": [],
   "source": [
    "def measure_circle(target_sweep,f0):\n",
    "    \"\"\" Finds the resonator circle's center\n",
    "\n",
    "    Args:\n",
    "        target_sweep: target S21 sweep around one resonator, col0 is freq, col1 is complex S21\n",
    "        tau: cable delay in s\n",
    "\n",
    "    Returns:\n",
    "        center and radius on the complex plane, and initial phase\n",
    "    \"\"\"\n",
    "    M=calculate_M(target_sweep)\n",
    "    B = np.array([[0,0,0,-2],[0,1,0,0],[0,0,1,0],[-2,0,0,0]])\n",
    "    VX=scipy.linalg.eig(M, B)\n",
    "    X=VX[0]\n",
    "    V=VX[1]\n",
    "    C=np.sort(X,0)\n",
    "    IX=np.argsort(X,0)\n",
    "    Values = V[:,IX[1]]\n",
    "    xc = -Values[1]/(2*Values[0])\n",
    "    yc = -Values[2]/(2*Values[0])\n",
    "    R = (xc**2+yc**2-Values[3]/Values[0])**0.5\n",
    "    ind=find_nearest_idx(target_sweep[0,:], f0)\n",
    "    phi_0=cmath.phase(target_sweep[1,ind]-xc-1j*yc)\n",
    "    return np.array([xc+1j*yc,R,phi_0])  \n",
    "\n",
    "#functions for resonator circle fitting\n",
    "\n",
    "def calculate_M(target_sweep_one):\n",
    "    I=target_sweep_one[1,:].real\n",
    "    Q=target_sweep_one[1,:].imag\n",
    "    z=I**2+Q**2\n",
    "    \n",
    "    M=np.zeros((4,4))\n",
    "    M[0,0]=np.sum(z**2.)\n",
    "    M[1,1]=np.sum(I**2.)\n",
    "    M[2,2]=np.sum(Q**2.)\n",
    "    M[3,3]=I.shape[0]\n",
    "\n",
    "    M[0,1]=np.sum(I*z)\n",
    "    M[1,0]=np.sum(I*z)\n",
    "    M[0,2]=np.sum(Q*z)\n",
    "    M[2,0]=np.sum(Q*z)\n",
    "\n",
    "    M[0,3]=np.sum(z)\n",
    "    M[3,0]=np.sum(z)\n",
    "    M[1,2]=np.sum(I*Q)\n",
    "    M[2,1]=np.sum(I*Q)\n",
    "\n",
    "    M[1,3]=np.sum(I)\n",
    "    M[3,1]=np.sum(I)\n",
    "    M[2,3]=np.sum(Q)\n",
    "    M[3,2]=np.sum(Q)\n",
    "\n",
    "    return M\n"
   ]
  },
  {
   "cell_type": "markdown",
   "metadata": {},
   "source": [
    "- s21 is like what comes out vs what comes in \n",
    "- when you put in decibel = 0 \n",
    "    - with respect to what came in, how many factors of difference is what came out (so factors vs actual ratio)\n",
    "    - if it's completely absorbed, then would have higher s21 value \n",
    "- so if it's 10 decibels up, 10x .... 20 decibels 100x higher \n",
    "- 3 dB ~ 2x \n",
    "- when you interact with resonator, you're rotating the phase \n",
    "\n",
    "using complex numbers: \n",
    "- for all your points, you get a circle \n",
    "- if you limited the I and Q values to one resonator, you should get a circle\n",
    "    - but you have loss in the cable \n",
    "    - and phase delay in the cable \n",
    "    - but we want it "
   ]
  },
  {
   "cell_type": "code",
   "execution_count": null,
   "metadata": {},
   "outputs": [],
   "source": [
    "s21 is like what comes out vs what comes in "
   ]
  },
  {
   "cell_type": "code",
   "execution_count": 169,
   "metadata": {},
   "outputs": [
    {
     "data": {
      "text/plain": [
       "(231,)"
      ]
     },
     "execution_count": 169,
     "metadata": {},
     "output_type": "execute_result"
    }
   ],
   "source": [
    "tone_freqs.shape"
   ]
  },
  {
   "cell_type": "code",
   "execution_count": 148,
   "metadata": {},
   "outputs": [],
   "source": [
    "\n",
    "def find_nearest(array, value):\n",
    "    array = np.asarray(array)\n",
    "    idx = (np.abs(array - value)).argmin()\n",
    "    return array[idx]\n",
    "\n",
    "def find_nearest_idx(array, value):\n",
    "    array = np.asarray(array)\n",
    "    idx = (np.abs(array - value)).argmin()\n",
    "    return idx"
   ]
  },
  {
   "cell_type": "code",
   "execution_count": 172,
   "metadata": {},
   "outputs": [
    {
     "data": {
      "text/plain": [
       "array([4.04910622e+09+0.j, 6.66833780e+04+0.j, 3.14159265e+00+0.j])"
      ]
     },
     "execution_count": 172,
     "metadata": {},
     "output_type": "execute_result"
    }
   ],
   "source": [
    "measure_circle(targeted_lo_sweep[0,:,0:231], tone_freqs[0:231])"
   ]
  },
  {
   "cell_type": "markdown",
   "metadata": {},
   "source": [
    "len(calculate_M(targeted_lo_sweep_rm))"
   ]
  },
  {
   "cell_type": "code",
   "execution_count": 168,
   "metadata": {},
   "outputs": [
    {
     "data": {
      "text/plain": [
       "(2, 231, 500)"
      ]
     },
     "execution_count": 168,
     "metadata": {},
     "output_type": "execute_result"
    }
   ],
   "source": [
    "targeted_lo_sweep.shape"
   ]
  },
  {
   "cell_type": "code",
   "execution_count": null,
   "metadata": {},
   "outputs": [],
   "source": [
    "\n",
    "\n",
    "def measure_circle_allch(target_sweeps,f0s,channels='all',start_channel=0,stop_channel=1000):\n",
    "    cals=[]\n",
    "    \n",
    "    if channels == 'all':\n",
    "        loop_range = range(target_sweeps.shape[1])\n",
    "    elif channels == 'some':\n",
    "        loop_range = range(stop_channel - start_channel)\n",
    "    \n",
    "    for i in loop_range:\n",
    "        sweep=target_sweeps[:,i,:]\n",
    "        cal=measure_circle(sweep,f0s[i])\n",
    "        cals.append(cal)\n",
    "            \n",
    "    cals=np.vstack(cals)\n",
    "\n",
    "    print(f'shape_cals: {cals.shape}')\n",
    "    return cals  \n",
    "\n",
    "\n",
    "def get_phase(timestreams,calibration):\n",
    "    \"\"\" Finds the resonator circle's center\n",
    "    \n",
    "    Args:\n",
    "        timestream : timestream data in I and Q for all resonators\n",
    "        phi_init: initial phase at f0\n",
    "        calibration: col0 center, col1 radius, col2 initial phase\n",
    "\n",
    "    Returns:\n",
    "        phase of timestream in radian\n",
    "    \"\"\"\n",
    "    phases=[]\n",
    "    for i in range(calibration.shape[0]):\n",
    "        timestream=timestreams[i]\n",
    "        center = calibration[i,0]\n",
    "        phi_init=calibration[i,2]\n",
    "        timestream_origin=timestream-center\n",
    "        timestream_rot=timestream_origin*np.exp(-1j*phi_init)\n",
    "        phase=[cmath.phase(x) for x in timestream_rot]\n",
    "        #phase-=phi_init\n",
    "        phase=np.array(phase)\n",
    "        phases.append(np.unwrap(phase.real))\n",
    "    phases=np.vstack(phases)\n",
    "    \n",
    "    return phases"
   ]
  },
  {
   "cell_type": "code",
   "execution_count": null,
   "metadata": {},
   "outputs": [],
   "source": [
    "print(calibration[0])\n",
    "    #calibrate time stream\n",
    "    data_cal=get_phase(IQ_stream_rm,calibration)"
   ]
  },
  {
   "cell_type": "markdown",
   "metadata": {},
   "source": [
    "the iinformation at end of the day is how you are rotated around the circle \n",
    "- we're looking for resonator moving \n",
    "- if the resonator has shifted up in freq going up around circle, vise versa \n",
    "- oh so you look at the phase, you can see if the resonator move \n",
    "\n",
    "whole point of demodulation: \n",
    "- for each flux ramp period, one point \n",
    "    - there's a sinusoid, what is phase of that , that's the data point \n",
    "- if you are doing it corectly, there's series of low phases, then high phases, \n",
    "\n"
   ]
  },
  {
   "cell_type": "markdown",
   "metadata": {},
   "source": [
    "THEN: (LOOK AT DRAWINGS)\n",
    "need to know how many periods in one flux ramp\n",
    "- because per flux ramp you're gonna get \n",
    "\n",
    "- depending on how high you let the current go, you get a certain number of periods within one flux ramp is 3\n",
    "- typical wisdom is to use 3-4 periods (called n_phi0s)\n",
    "    - SQUIDS perform best this way \n",
    "    - then we know we want to be modulation in the KHz regime, so we usually will set the flux ramp between 1-10 KHz, then you multiply n_phi0 x frequency of flux ramp = effective modulation for the flux ramp, the effective rate at which we're modulation \n",
    "    - been around 15 Hz -- back at 45 hz \n",
    "    - why doing this? because of noise \n",
    "- so what is the number of flux quanta (SQUID)?? "
   ]
  },
  {
   "cell_type": "markdown",
   "metadata": {},
   "source": [
    "Noise: \n"
   ]
  },
  {
   "cell_type": "markdown",
   "metadata": {},
   "source": [
    "for the FFT, they started interpolating between the 32 points"
   ]
  },
  {
   "cell_type": "code",
   "execution_count": null,
   "metadata": {},
   "outputs": [],
   "source": [
    "#find nphi_0\n",
    "t_start=0\n",
    "t_stop=10\n",
    "\n",
    "n_phi0 = find_n_phi0(ts_fr[488*t_start:488*t_stop],data_cal[:,488*t_start:488*t_stop],f_sawtooth,plot=False)  #discard the first few seconds\n",
    "print(f'n_phi0: {n_phi0}')\n",
    "\n",
    "#find t0\n",
    "t0_array = np.array([])\n",
    "for current_channel in range(len(data_cal)):\n",
    "    t0 = mea_reset_t0(ts_fr[488*t_start:488*t_stop],data_cal[current_channel,488*t_start:488*t_stop],f_sawtooth,plot=False)\n",
    "    #ts_freq = 1/np.nanmedian(np.diff(ts_fr))\n",
    "    #t0 = mea_reset_t0(ts_fr[ts_freq*t_start:ts_freq*t_stop],data_cal[current_channel,ts_freq*t_start:ts_freq*t_stop],f_sawtooth,plot=False)\n",
    "    t0_array = np.append(t0_array,t0)\n",
    "\n",
    "t0_med = np.nanmedian(t0_array)"
   ]
  },
  {
   "cell_type": "markdown",
   "metadata": {},
   "source": [
    "goes through every channel, tries to estimate where flux ramp period started, finding what data point the flux ramp period started \n",
    "- the upgrade fixes this\n",
    "\n",
    "notice: the n_phi0 thing is an \n"
   ]
  },
  {
   "cell_type": "code",
   "execution_count": null,
   "metadata": {},
   "outputs": [],
   "source": []
  },
  {
   "cell_type": "markdown",
   "metadata": {},
   "source": [
    "'iv' method -- just for IV stuff, "
   ]
  },
  {
   "cell_type": "code",
   "execution_count": null,
   "metadata": {},
   "outputs": [],
   "source": [
    "the noise: \n",
    "- the chopper in the FTS is modulating up the light signal \n",
    "- "
   ]
  },
  {
   "cell_type": "markdown",
   "metadata": {},
   "source": [
    "final output: \n",
    "- for each flux ramp, do the demodulation and get a phase value \n",
    "- ultimately, the actual phase value is the light \n",
    "\n"
   ]
  },
  {
   "cell_type": "code",
   "execution_count": null,
   "metadata": {},
   "outputs": [],
   "source": []
  }
 ],
 "metadata": {
  "kernelspec": {
   "display_name": "base",
   "language": "python",
   "name": "python3"
  },
  "language_info": {
   "codemirror_mode": {
    "name": "ipython",
    "version": 3
   },
   "file_extension": ".py",
   "mimetype": "text/x-python",
   "name": "python",
   "nbconvert_exporter": "python",
   "pygments_lexer": "ipython3",
   "version": "3.11.5"
  }
 },
 "nbformat": 4,
 "nbformat_minor": 2
}
