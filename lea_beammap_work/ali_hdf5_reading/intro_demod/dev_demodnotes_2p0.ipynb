{
 "cells": [
  {
   "cell_type": "markdown",
   "metadata": {},
   "source": [
    "## Demod Notes 2.0"
   ]
  },
  {
   "cell_type": "markdown",
   "metadata": {},
   "source": [
    "In this I will go through each step of the ```full_demod_process``` function and describe more cleanly what is happening. \n",
    "\n",
    "Doing explanations starting after the block where files are read in. "
   ]
  },
  {
   "cell_type": "code",
   "execution_count": 1,
   "metadata": {},
   "outputs": [],
   "source": [
    "# packages\n",
    "\n",
    "import numpy as np\n",
    "import matplotlib as mpl\n",
    "mpl.rcParams['axes.formatter.useoffset'] = False\n",
    "import matplotlib.pyplot as plt\n",
    "import scipy\n",
    "\n",
    "from scipy.signal import sawtooth, square, savgol_filter\n",
    "import pandas as pd\n",
    "import glob as gl\n",
    "import os\n",
    "import cmath\n",
    "\n",
    "from scipy.signal import sawtooth, square,find_peaks, savgol_filter\n",
    "from scipy import spatial\n",
    "#import lambdafit as lf\n",
    "from scipy.interpolate import CubicSpline,interp1d\n",
    "import h5py\n",
    "\n",
    "from tqdm import tqdm as tqdm_terminal\n",
    "from tqdm.notebook import trange, tqdm_notebook\n",
    "from scipy.signal.windows import hann\n",
    "\n",
    "from scipy.fft import fft, ifft, fftfreq\n",
    "from copy import deepcopy\n",
    "from scipy.interpolate import CubicSpline, interp1d\n",
    "from scipy.optimize import curve_fit"
   ]
  },
  {
   "cell_type": "markdown",
   "metadata": {},
   "source": [
    "**Files used during demodulation:**\n",
    "- Initial LO sweep \n",
    "- Targeted LO sweep \n",
    "- Frequency list\n",
    "- Timestream data \n",
    "\n",
    "Loading in an example set of them here: "
   ]
  },
  {
   "cell_type": "code",
   "execution_count": 2,
   "metadata": {},
   "outputs": [],
   "source": [
    "# doing this to try out with LO sweeps, using 4250 init file \n",
    "\n",
    "# initial_lo_sweep_path = '/Users/leayamashiro/AliCPT/alicpt_data/chopped_data/tone_initializations/fcenter_4250.0_20240216162215/lo_sweep_initial_fcenter_4250.0_20240216162224.npy'\n",
    "# targeted_lo_sweep_path = '/Users/leayamashiro/AliCPT/alicpt_data/chopped_data/tone_initializations/fcenter_4250.0_20240216162215/lo_sweep_targeted_2_fcenter_4250.0_20240216162651.npy'\n",
    "# tone_freqs_path = '/Users/leayamashiro/AliCPT/alicpt_data/chopped_data/tone_initializations/fcenter_4250.0_20240216162215/freq_list_lo_sweep_targeted_1_fcenter_4250.0_20240216162437.npy'\n",
    "# ts_file = '/Users/leayamashiro/AliCPT/alicpt_data/chopped_data/time_streams/ts_toneinit_fcenter_4250.0_20240216162215_t_20240216163432.hd5'\n",
    "\n",
    "\n",
    "\n",
    "initial_lo_sweep_path = '/Users/leayamashiro/AliCPT/alicpt_data/chopped_data/tone_initializations/fcenter_5250.0_20240216170412/lo_sweep_initial_fcenter_5250.0_20240216170434.npy'\n",
    "targeted_lo_sweep_path = '/Users/leayamashiro/AliCPT/alicpt_data/chopped_data/tone_initializations/fcenter_5250.0_20240216170412/lo_sweep_targeted_2_fcenter_5250.0_20240216171035.npy'\n",
    "tone_freqs_path = '/Users/leayamashiro/AliCPT/alicpt_data/chopped_data/tone_initializations/fcenter_5250.0_20240216170412/freq_list_lo_sweep_targeted_1_fcenter_5250.0_20240216170918.npy'\n",
    "ts_file = '/Users/leayamashiro/AliCPT/alicpt_data/chopped_data/time_streams/ts_toneinit_fcenter_5250.0_20240216170412_t_20240216173211.hd5'"
   ]
  },
  {
   "cell_type": "markdown",
   "metadata": {},
   "source": [
    "Now, reading in the files. The frequency list and sweeps are in .npy files so can just use ```numpy``` but the .hd5 file needs to be read in with its package ```h5py```. This is defined as the ```read_data``` function. \n",
    "\n",
    "In the following cell, the function is defined, and an if-statement is defined for one of the main function's arguments about how many channels. Default is 'all' and because I'm doing these examples outside of the function environment I have to define it before. \n",
    "\n",
    "The ```read_data``` function takes the timestream data and pulls out the time, I and Q values and separates them into arrays, named ```ts_fr```, ```Is_fr```, ```Qs_fr``` "
   ]
  },
  {
   "cell_type": "code",
   "execution_count": 3,
   "metadata": {},
   "outputs": [],
   "source": [
    "# function\n",
    "\n",
    "def read_data(filename,channels='all',start_channel=0,stop_channel=1000):\n",
    "    if channels == 'all':\n",
    "        file = h5py.File(filename, 'r')\n",
    "        adc_i = np.array(file['time_ordered_data']['adc_i'])\n",
    "        adc_i = np.delete(adc_i, slice(0,22), 0)\n",
    "        adc_q = file['time_ordered_data']['adc_q']\n",
    "        adc_q = np.delete(adc_q, slice(0,22), 0)\n",
    "        t = np.array(file['time_ordered_data']['timestamp'])  \n",
    "    elif channels == 'some':\n",
    "        start_channel += 23 #eliminate the first 23 empty channels in hdf5 -> makes channel numbering match resonator numbering\n",
    "        stop_channel += 23 + 1 #eliminate the first 23 empty channels in hdf5 -> makes channel numbering match resonator numbering; +1 forces python to include the stop_channel\n",
    "        file = h5py.File(filename, 'r')\n",
    "        adc_i = np.array(file['time_ordered_data']['adc_i'][start_channel:stop_channel]) \n",
    "        adc_q = np.array(file['time_ordered_data']['adc_q'][start_channel:stop_channel]) \n",
    "        t = np.array(file['time_ordered_data']['timestamp'])  \n",
    "    \n",
    "    return t, adc_i, adc_q\n",
    "\n",
    "# actually load in data\n",
    "channels='all'\n",
    "start_channel=0\n",
    "stop_channel=1000\n",
    "initial_lo_sweep=np.load(initial_lo_sweep_path) #find initial lo sweep file\n",
    "targeted_lo_sweep=np.load(targeted_lo_sweep_path) #find targeted sweep file\n",
    "tone_freqs=np.load(tone_freqs_path) #find tone freqs\n",
    "#print(tone_freqs)\n",
    "if channels == 'some':\n",
    "    tone_freqs = tone_freqs[start_channel + 23:stop_channel + 23 + 1]\n",
    "    print(tone_freqs)\n",
    "ts_fr,Is_fr,Qs_fr=read_data(ts_file,channels='all') \n"
   ]
  },
  {
   "cell_type": "code",
   "execution_count": 4,
   "metadata": {},
   "outputs": [
    {
     "data": {
      "text/plain": [
       "(1000, 500)"
      ]
     },
     "execution_count": 4,
     "metadata": {},
     "output_type": "execute_result"
    }
   ],
   "source": [
    "# Maybe need to average the LO freq response first -- \n",
    "\n",
    "initial_lo_sweep[0,:].shape"
   ]
  },
  {
   "cell_type": "code",
   "execution_count": null,
   "metadata": {},
   "outputs": [],
   "source": [
    "# chan_freqs_sub = []\n",
    "# chan_s12_sub = []\n",
    "# for i in range(len(initial_lo_sweep)): \n",
    "#     chan_tones = initial_lo_sweep[0,i,:]\n",
    "#     chan_response = initial_lo_sweep[1,i,:]\n",
    "    \n"
   ]
  },
  {
   "cell_type": "code",
   "execution_count": null,
   "metadata": {},
   "outputs": [],
   "source": [
    "freq_tones_all = np.real(initial_lo_sweep[0])\n",
    "len(freq_tones_all[0])"
   ]
  },
  {
   "cell_type": "code",
   "execution_count": null,
   "metadata": {},
   "outputs": [],
   "source": [
    "np.average(freq_tones_all[0])"
   ]
  },
  {
   "cell_type": "code",
   "execution_count": null,
   "metadata": {},
   "outputs": [],
   "source": [
    "for i in range(len(initial_lo_sweep)):\n",
    "    "
   ]
  },
  {
   "cell_type": "code",
   "execution_count": null,
   "metadata": {},
   "outputs": [],
   "source": [
    "\n",
    "initial_lo_sweep[0,:]"
   ]
  },
  {
   "cell_type": "markdown",
   "metadata": {},
   "source": [
    "Then, the sample rate is defined. There are a couple different sample rates. This on, ```fs``` has to do with the RFSoC. \n",
    "\n",
    "The RFSoC processes data through a process described as \"decimation via accumulator\". First, there are data streaming in at 512 MHz (or Msps, mega samples per second). But if all of this data was coming in that quickly, computer would crash. SO: what it does is sets an \"accumulation length\", which in our case is $2^{19} - 1$ and takes that many data points, averages them together, and calls that one point, at a rate of 512 MHz. Your effective data rate can then be calculated as \n",
    "\n",
    "$$\n",
    "\\text{fs} = \\frac{\\text{base data rate}}{\\text{accumulator number}} = \\frac{512}{2^{19}-1} \\approx 488.28 \\text{ MHz}\n",
    "$$\n",
    "\n",
    "To rearrange the time data to fix a time-chunking issue, just being agnostic about time stamps and saying it's the length of the data divided evenly by the data rate (```ts_fr```)."
   ]
  },
  {
   "cell_type": "code",
   "execution_count": null,
   "metadata": {},
   "outputs": [],
   "source": [
    " #testing fixing the time breaks before the demod -- probably don't want to keep this but we'll see\n",
    "fs=512e6/(2**20)    #this line is incredibly important; need to make sure we match the data rate at all times; add an if statement for faster data rate data\n",
    "#fs=256e6/(2**19)\n",
    "ts_fr = np.arange(Is_fr.shape[1])/fs"
   ]
  },
  {
   "cell_type": "markdown",
   "metadata": {},
   "source": [
    "Then comes calibration of the **delay**, of which there are multiple sources. First is the step of the ```find_freqs_cable_delay_subtraction``` function, defined below. What it essentially does is going through the VNA scan which is the ```lo_sweep_initial```, looking for the first frequency it can find where there isn't a big dip (i.e. a resonator) by comparing the height of the $S_{21}$ response at each frequency, and picks a place to start the delay measurement region. Then it adds however many points you want (```n_freq```) after that and gives back your frequency range as two values ```f_start```, ```f_end```. The ```target = 0.98``` and ```n_freq = 10000``` values were what the team found worked best after playing with it for a while. \n",
    "\n",
    "*Still wondering: if there are only 1000 channels, why have 10000 as n_freq?*"
   ]
  },
  {
   "cell_type": "code",
   "execution_count": null,
   "metadata": {},
   "outputs": [],
   "source": [
    "# name of function: finding the frequencies FOR the cable delay subtraction. \n",
    "\n",
    "def find_freqs_cable_delay_subtraction(initial_lo_sweep,target,n_freq):\n",
    "   \n",
    "    tests=initial_lo_sweep\n",
    "    x=[]\n",
    "    y=[]\n",
    "    for i in range(tests.shape[1]): # shape is the number of tones (or channels?) \n",
    "        test_sweep=tests[:,i,:] # do loop for each channel\n",
    "        x=np.append(x,test_sweep[0,:].real) # gets real values of frequency \n",
    "        y=np.append(y,20*np.log10(np.abs(test_sweep[1,:]))) # gets log power (response) for each frequency\n",
    "\n",
    "    finite=np.asarray(np.where(np.isfinite(y) == True)) # gets an array of index values where there are no infinite or NaN y-values\n",
    "    yfinite=y[finite].flatten() # get finite-index filtered y values (power)\n",
    "    xfinite=x[finite].flatten() # get finite-index filtered x values (frequency)\n",
    "    idmax=np.where(yfinite == np.max(yfinite)) # gets SINGLE index of the maximum response \n",
    "   \n",
    "    # idgt=index array of the (x,y) values > target*ymax (id=index, gt=greater than)\n",
    "    idgt=np.asarray(np.where(yfinite > (target*yfinite[idmax][0]))).flatten() # finds index of where the y value is greater than 0.98 times the max\n",
    "    # got 0.98 value vy playing with things and tuning \n",
    "    # frequency range for cable delay\n",
    "    f_start=xfinite[idgt[0]] # indexes that place in the frequency array for beginning freq\n",
    "    f_end=xfinite[idgt[0]+n_freq] # indexes that place in frequency array + range wanted for ending freq\n",
    "\n",
    "    #yfin_savgol = savgol_filter(yfinite, 500, 3)\n",
    "\n",
    "    # usually commented out\n",
    "    fig_test, ax_test = plt.subplots(1, figsize=(8,4))\n",
    "    ax_test.plot(xfinite,yfinite, label='all values')\n",
    "    ax_test.plot(x[idgt[0]:idgt[0]+n_freq], y[idgt[0]:idgt[0]+n_freq], label='special range')\n",
    "    ax_test.set_xlabel('freq')\n",
    "    ax_test.set_ylabel(r'$S_{21}$')\n",
    "    ax_test.set_title('cable delay calculation range')\n",
    "    ax_test.legend()\n",
    "   \n",
    "    return f_start, f_end, yfinite, y #yfinite, yfin_savgol, #ax_test"
   ]
  },
  {
   "cell_type": "code",
   "execution_count": null,
   "metadata": {},
   "outputs": [],
   "source": [
    "s, e, yfin, jy = find_freqs_cable_delay_subtraction(initial_lo_sweep, 0.2, 10000)"
   ]
  },
  {
   "cell_type": "code",
   "execution_count": null,
   "metadata": {},
   "outputs": [],
   "source": [
    "print(len(jy)/500)\n",
    "print(s,e)"
   ]
  },
  {
   "cell_type": "code",
   "execution_count": null,
   "metadata": {},
   "outputs": [],
   "source": []
  },
  {
   "cell_type": "code",
   "execution_count": 36,
   "metadata": {},
   "outputs": [
    {
     "data": {
      "text/plain": [
       "1000"
      ]
     },
     "execution_count": 36,
     "metadata": {},
     "output_type": "execute_result"
    }
   ],
   "source": [
    "initial_lo_sweep.shape[1]"
   ]
  },
  {
   "cell_type": "code",
   "execution_count": 4,
   "metadata": {},
   "outputs": [],
   "source": [
    "chan_s12_sub = []\n",
    "chan_tone_avg = []\n",
    "chan_tone = []\n",
    "chan_resp = []\n",
    "\n",
    "for i in range(initial_lo_sweep.shape[1]): \n",
    "\n",
    "    lo_test = initial_lo_sweep[:,i,:]\n",
    "    chan_tones = lo_test[0,:].real\n",
    "    chan_response = lo_test[1,:]\n",
    "\n",
    "    ch_tone_avg = np.average(chan_tones)\n",
    "    s12_sub = chan_response - np.average(chan_response)\n",
    "\n",
    "    chan_resp.append(chan_response)\n",
    "    chan_s12_sub.append(s12_sub)\n",
    "    chan_tone_avg.append(chan_tone_avg)\n",
    "    chan_tone.append(chan_tones)"
   ]
  },
  {
   "cell_type": "code",
   "execution_count": 38,
   "metadata": {},
   "outputs": [
    {
     "data": {
      "text/plain": [
       "1000"
      ]
     },
     "execution_count": 38,
     "metadata": {},
     "output_type": "execute_result"
    }
   ],
   "source": [
    "len(chan_s12_sub)"
   ]
  },
  {
   "cell_type": "code",
   "execution_count": null,
   "metadata": {},
   "outputs": [
    {
     "data": {
      "text/plain": [
       "1000"
      ]
     },
     "execution_count": 39,
     "metadata": {},
     "output_type": "execute_result"
    }
   ],
   "source": [
    "len(chan_tone_avg)"
   ]
  },
  {
   "cell_type": "code",
   "execution_count": 10,
   "metadata": {},
   "outputs": [
    {
     "data": {
      "text/plain": [
       "500"
      ]
     },
     "execution_count": 10,
     "metadata": {},
     "output_type": "execute_result"
    }
   ],
   "source": [
    "len(chan_tone[0])"
   ]
  },
  {
   "cell_type": "code",
   "execution_count": null,
   "metadata": {},
   "outputs": [],
   "source": [
    "for i in range(len(chan_tone)):\n",
    "    plt.plot(chan_tone[i], np.abs(chan_s12_sub[i])**2, label=f'channel')"
   ]
  },
  {
   "cell_type": "code",
   "execution_count": 8,
   "metadata": {},
   "outputs": [
    {
     "data": {
      "text/plain": [
       "<matplotlib.legend.Legend at 0x17fcb2050>"
      ]
     },
     "execution_count": 8,
     "metadata": {},
     "output_type": "execute_result"
    },
    {
     "data": {
      "image/png": "[encoded data removed]",
      "text/plain": [
       "<Figure size 640x480 with 1 Axes>"
      ]
     },
     "metadata": {},
     "output_type": "display_data"
    }
   ],
   "source": [
    "\n",
    "plt.plot(chan_tone[0], np.abs(chan_s12_sub[0])**2, label='0')\n",
    "plt.plot(chan_tone[10], np.abs(chan_s12_sub[10])**2, label='10')\n",
    "plt.plot(chan_tone[100], np.abs(chan_s12_sub[10])**2, label='100')\n",
    "plt.plot(chan_tone[200], np.abs(chan_s12_sub[200])**2, label='200')\n",
    "\n",
    "plt.legend()\n"
   ]
  },
  {
   "cell_type": "code",
   "execution_count": null,
   "metadata": {},
   "outputs": [],
   "source": []
  },
  {
   "cell_type": "code",
   "execution_count": 9,
   "metadata": {},
   "outputs": [
    {
     "data": {
      "text/plain": [
       "500"
      ]
     },
     "execution_count": 9,
     "metadata": {},
     "output_type": "execute_result"
    }
   ],
   "source": [
    "len(chan_tone[0])"
   ]
  },
  {
   "cell_type": "code",
   "execution_count": 12,
   "metadata": {},
   "outputs": [
    {
     "name": "stdout",
     "output_type": "stream",
     "text": [
      "\u001b[0;31mType:\u001b[0m        module\n",
      "\u001b[0;31mString form:\u001b[0m <module 'numpy.fft' from '/Users/leayamashiro/anaconda3/lib/python3.11/site-packages/numpy/fft/__init__.py'>\n",
      "\u001b[0;31mFile:\u001b[0m        ~/anaconda3/lib/python3.11/site-packages/numpy/fft/__init__.py\n",
      "\u001b[0;31mDocstring:\u001b[0m  \n",
      "Discrete Fourier Transform (:mod:`numpy.fft`)\n",
      "=============================================\n",
      "\n",
      ".. currentmodule:: numpy.fft\n",
      "\n",
      "The SciPy module `scipy.fft` is a more comprehensive superset\n",
      "of ``numpy.fft``, which includes only a basic set of routines.\n",
      "\n",
      "Standard FFTs\n",
      "-------------\n",
      "\n",
      ".. autosummary::\n",
      "   :toctree: generated/\n",
      "\n",
      "   fft       Discrete Fourier transform.\n",
      "   ifft      Inverse discrete Fourier transform.\n",
      "   fft2      Discrete Fourier transform in two dimensions.\n",
      "   ifft2     Inverse discrete Fourier transform in two dimensions.\n",
      "   fftn      Discrete Fourier transform in N-dimensions.\n",
      "   ifftn     Inverse discrete Fourier transform in N dimensions.\n",
      "\n",
      "Real FFTs\n",
      "---------\n",
      "\n",
      ".. autosummary::\n",
      "   :toctree: generated/\n",
      "\n",
      "   rfft      Real discrete Fourier transform.\n",
      "   irfft     Inverse real discrete Fourier transform.\n",
      "   rfft2     Real discrete Fourier transform in two dimensions.\n",
      "   irfft2    Inverse real discrete Fourier transform in two dimensions.\n",
      "   rfftn     Real discrete Fourier transform in N dimensions.\n",
      "   irfftn    Inverse real discrete Fourier transform in N dimensions.\n",
      "\n",
      "Hermitian FFTs\n",
      "--------------\n",
      "\n",
      ".. autosummary::\n",
      "   :toctree: generated/\n",
      "\n",
      "   hfft      Hermitian discrete Fourier transform.\n",
      "   ihfft     Inverse Hermitian discrete Fourier transform.\n",
      "\n",
      "Helper routines\n",
      "---------------\n",
      "\n",
      ".. autosummary::\n",
      "   :toctree: generated/\n",
      "\n",
      "   fftfreq   Discrete Fourier Transform sample frequencies.\n",
      "   rfftfreq  DFT sample frequencies (for usage with rfft, irfft).\n",
      "   fftshift  Shift zero-frequency component to center of spectrum.\n",
      "   ifftshift Inverse of fftshift.\n",
      "\n",
      "\n",
      "Background information\n",
      "----------------------\n",
      "\n",
      "Fourier analysis is fundamentally a method for expressing a function as a\n",
      "sum of periodic components, and for recovering the function from those\n",
      "components.  When both the function and its Fourier transform are\n",
      "replaced with discretized counterparts, it is called the discrete Fourier\n",
      "transform (DFT).  The DFT has become a mainstay of numerical computing in\n",
      "part because of a very fast algorithm for computing it, called the Fast\n",
      "Fourier Transform (FFT), which was known to Gauss (1805) and was brought\n",
      "to light in its current form by Cooley and Tukey [CT]_.  Press et al. [NR]_\n",
      "provide an accessible introduction to Fourier analysis and its\n",
      "applications.\n",
      "\n",
      "Because the discrete Fourier transform separates its input into\n",
      "components that contribute at discrete frequencies, it has a great number\n",
      "of applications in digital signal processing, e.g., for filtering, and in\n",
      "this context the discretized input to the transform is customarily\n",
      "referred to as a *signal*, which exists in the *time domain*.  The output\n",
      "is called a *spectrum* or *transform* and exists in the *frequency\n",
      "domain*.\n",
      "\n",
      "Implementation details\n",
      "----------------------\n",
      "\n",
      "There are many ways to define the DFT, varying in the sign of the\n",
      "exponent, normalization, etc.  In this implementation, the DFT is defined\n",
      "as\n",
      "\n",
      ".. math::\n",
      "   A_k =  \\sum_{m=0}^{n-1} a_m \\exp\\left\\{-2\\pi i{mk \\over n}\\right\\}\n",
      "   \\qquad k = 0,\\ldots,n-1.\n",
      "\n",
      "The DFT is in general defined for complex inputs and outputs, and a\n",
      "single-frequency component at linear frequency :math:`f` is\n",
      "represented by a complex exponential\n",
      ":math:`a_m = \\exp\\{2\\pi i\\,f m\\Delta t\\}`, where :math:`\\Delta t`\n",
      "is the sampling interval.\n",
      "\n",
      "The values in the result follow so-called \"standard\" order: If ``A =\n",
      "fft(a, n)``, then ``A[0]`` contains the zero-frequency term (the sum of\n",
      "the signal), which is always purely real for real inputs. Then ``A[1:n/2]``\n",
      "contains the positive-frequency terms, and ``A[n/2+1:]`` contains the\n",
      "negative-frequency terms, in order of decreasingly negative frequency.\n",
      "For an even number of input points, ``A[n/2]`` represents both positive and\n",
      "negative Nyquist frequency, and is also purely real for real input.  For\n",
      "an odd number of input points, ``A[(n-1)/2]`` contains the largest positive\n",
      "frequency, while ``A[(n+1)/2]`` contains the largest negative frequency.\n",
      "The routine ``np.fft.fftfreq(n)`` returns an array giving the frequencies\n",
      "of corresponding elements in the output.  The routine\n",
      "``np.fft.fftshift(A)`` shifts transforms and their frequencies to put the\n",
      "zero-frequency components in the middle, and ``np.fft.ifftshift(A)`` undoes\n",
      "that shift.\n",
      "\n",
      "When the input `a` is a time-domain signal and ``A = fft(a)``, ``np.abs(A)``\n",
      "is its amplitude spectrum and ``np.abs(A)**2`` is its power spectrum.\n",
      "The phase spectrum is obtained by ``np.angle(A)``.\n",
      "\n",
      "The inverse DFT is defined as\n",
      "\n",
      ".. math::\n",
      "   a_m = \\frac{1}{n}\\sum_{k=0}^{n-1}A_k\\exp\\left\\{2\\pi i{mk\\over n}\\right\\}\n",
      "   \\qquad m = 0,\\ldots,n-1.\n",
      "\n",
      "It differs from the forward transform by the sign of the exponential\n",
      "argument and the default normalization by :math:`1/n`.\n",
      "\n",
      "Type Promotion\n",
      "--------------\n",
      "\n",
      "`numpy.fft` promotes ``float32`` and ``complex64`` arrays to ``float64`` and\n",
      "``complex128`` arrays respectively. For an FFT implementation that does not\n",
      "promote input arrays, see `scipy.fftpack`.\n",
      "\n",
      "Normalization\n",
      "-------------\n",
      "\n",
      "The argument ``norm`` indicates which direction of the pair of direct/inverse\n",
      "transforms is scaled and with what normalization factor.\n",
      "The default normalization (``\"backward\"``) has the direct (forward) transforms\n",
      "unscaled and the inverse (backward) transforms scaled by :math:`1/n`. It is\n",
      "possible to obtain unitary transforms by setting the keyword argument ``norm``\n",
      "to ``\"ortho\"`` so that both direct and inverse transforms are scaled by\n",
      ":math:`1/\\sqrt{n}`. Finally, setting the keyword argument ``norm`` to\n",
      "``\"forward\"`` has the direct transforms scaled by :math:`1/n` and the inverse\n",
      "transforms unscaled (i.e. exactly opposite to the default ``\"backward\"``).\n",
      "`None` is an alias of the default option ``\"backward\"`` for backward\n",
      "compatibility.\n",
      "\n",
      "Real and Hermitian transforms\n",
      "-----------------------------\n",
      "\n",
      "When the input is purely real, its transform is Hermitian, i.e., the\n",
      "component at frequency :math:`f_k` is the complex conjugate of the\n",
      "component at frequency :math:`-f_k`, which means that for real\n",
      "inputs there is no information in the negative frequency components that\n",
      "is not already available from the positive frequency components.\n",
      "The family of `rfft` functions is\n",
      "designed to operate on real inputs, and exploits this symmetry by\n",
      "computing only the positive frequency components, up to and including the\n",
      "Nyquist frequency.  Thus, ``n`` input points produce ``n/2+1`` complex\n",
      "output points.  The inverses of this family assumes the same symmetry of\n",
      "its input, and for an output of ``n`` points uses ``n/2+1`` input points.\n",
      "\n",
      "Correspondingly, when the spectrum is purely real, the signal is\n",
      "Hermitian.  The `hfft` family of functions exploits this symmetry by\n",
      "using ``n/2+1`` complex points in the input (time) domain for ``n`` real\n",
      "points in the frequency domain.\n",
      "\n",
      "In higher dimensions, FFTs are used, e.g., for image analysis and\n",
      "filtering.  The computational efficiency of the FFT means that it can\n",
      "also be a faster way to compute large convolutions, using the property\n",
      "that a convolution in the time domain is equivalent to a point-by-point\n",
      "multiplication in the frequency domain.\n",
      "\n",
      "Higher dimensions\n",
      "-----------------\n",
      "\n",
      "In two dimensions, the DFT is defined as\n",
      "\n",
      ".. math::\n",
      "   A_{kl} =  \\sum_{m=0}^{M-1} \\sum_{n=0}^{N-1}\n",
      "   a_{mn}\\exp\\left\\{-2\\pi i \\left({mk\\over M}+{nl\\over N}\\right)\\right\\}\n",
      "   \\qquad k = 0, \\ldots, M-1;\\quad l = 0, \\ldots, N-1,\n",
      "\n",
      "which extends in the obvious way to higher dimensions, and the inverses\n",
      "in higher dimensions also extend in the same way.\n",
      "\n",
      "References\n",
      "----------\n",
      "\n",
      ".. [CT] Cooley, James W., and John W. Tukey, 1965, \"An algorithm for the\n",
      "        machine calculation of complex Fourier series,\" *Math. Comput.*\n",
      "        19: 297-301.\n",
      "\n",
      ".. [NR] Press, W., Teukolsky, S., Vetterline, W.T., and Flannery, B.P.,\n",
      "        2007, *Numerical Recipes: The Art of Scientific Computing*, ch.\n",
      "        12-13.  Cambridge Univ. Press, Cambridge, UK.\n",
      "\n",
      "Examples\n",
      "--------\n",
      "\n",
      "For examples, see the various functions."
     ]
    }
   ],
   "source": [
    "np.fft?"
   ]
  },
  {
   "cell_type": "code",
   "execution_count": 19,
   "metadata": {},
   "outputs": [
    {
     "name": "stderr",
     "output_type": "stream",
     "text": [
      "/Users/leayamashiro/anaconda3/lib/python3.11/site-packages/matplotlib/cbook/__init__.py:1340: ComplexWarning: Casting complex values to real discards the imaginary part\n",
      "  return np.asarray(x, float)\n"
     ]
    },
    {
     "data": {
      "text/plain": [
       "[<matplotlib.lines.Line2D at 0x305bd2d90>]"
      ]
     },
     "execution_count": 19,
     "metadata": {},
     "output_type": "execute_result"
    },
    {
     "data": {
      "image/png": "[encoded data removed]",
      "text/plain": [
       "<Figure size 640x480 with 1 Axes>"
      ]
     },
     "metadata": {},
     "output_type": "display_data"
    }
   ],
   "source": [
    "\n",
    "\n",
    "#plt.plot(chan_tone[500], fft((chan_s12_sub[500])))\n",
    "\n",
    "plt.semilogy(chan_tone[500], (fft((chan_resp[500]))))"
   ]
  },
  {
   "cell_type": "code",
   "execution_count": null,
   "metadata": {},
   "outputs": [],
   "source": [
    "plt.plot(chan_tone_avg, chan_s12_sub[0])"
   ]
  },
  {
   "cell_type": "code",
   "execution_count": null,
   "metadata": {},
   "outputs": [
    {
     "ename": "KeyboardInterrupt",
     "evalue": "",
     "output_type": "error",
     "traceback": [
      "\u001b[0;31m---------------------------------------------------------------------------\u001b[0m",
      "\u001b[0;31mKeyboardInterrupt\u001b[0m                         Traceback (most recent call last)",
      "Cell \u001b[0;32mIn[40], line 1\u001b[0m\n\u001b[0;32m----> 1\u001b[0m plt\u001b[38;5;241m.\u001b[39mplot(chan_tone_avg, chan_s12_sub)\n",
      "File \u001b[0;32m~/anaconda3/lib/python3.11/site-packages/matplotlib/pyplot.py:2812\u001b[0m, in \u001b[0;36mplot\u001b[0;34m(scalex, scaley, data, *args, **kwargs)\u001b[0m\n\u001b[1;32m   2810\u001b[0m \u001b[38;5;129m@_copy_docstring_and_deprecators\u001b[39m(Axes\u001b[38;5;241m.\u001b[39mplot)\n\u001b[1;32m   2811\u001b[0m \u001b[38;5;28;01mdef\u001b[39;00m \u001b[38;5;21mplot\u001b[39m(\u001b[38;5;241m*\u001b[39margs, scalex\u001b[38;5;241m=\u001b[39m\u001b[38;5;28;01mTrue\u001b[39;00m, scaley\u001b[38;5;241m=\u001b[39m\u001b[38;5;28;01mTrue\u001b[39;00m, data\u001b[38;5;241m=\u001b[39m\u001b[38;5;28;01mNone\u001b[39;00m, \u001b[38;5;241m*\u001b[39m\u001b[38;5;241m*\u001b[39mkwargs):\n\u001b[0;32m-> 2812\u001b[0m     \u001b[38;5;28;01mreturn\u001b[39;00m gca()\u001b[38;5;241m.\u001b[39mplot(\n\u001b[1;32m   2813\u001b[0m         \u001b[38;5;241m*\u001b[39margs, scalex\u001b[38;5;241m=\u001b[39mscalex, scaley\u001b[38;5;241m=\u001b[39mscaley,\n\u001b[1;32m   2814\u001b[0m         \u001b[38;5;241m*\u001b[39m\u001b[38;5;241m*\u001b[39m({\u001b[38;5;124m\"\u001b[39m\u001b[38;5;124mdata\u001b[39m\u001b[38;5;124m\"\u001b[39m: data} \u001b[38;5;28;01mif\u001b[39;00m data \u001b[38;5;129;01mis\u001b[39;00m \u001b[38;5;129;01mnot\u001b[39;00m \u001b[38;5;28;01mNone\u001b[39;00m \u001b[38;5;28;01melse\u001b[39;00m {}), \u001b[38;5;241m*\u001b[39m\u001b[38;5;241m*\u001b[39mkwargs)\n",
      "File \u001b[0;32m~/anaconda3/lib/python3.11/site-packages/matplotlib/axes/_axes.py:1688\u001b[0m, in \u001b[0;36mAxes.plot\u001b[0;34m(self, scalex, scaley, data, *args, **kwargs)\u001b[0m\n\u001b[1;32m   1445\u001b[0m \u001b[38;5;250m\u001b[39m\u001b[38;5;124;03m\"\"\"\u001b[39;00m\n\u001b[1;32m   1446\u001b[0m \u001b[38;5;124;03mPlot y versus x as lines and/or markers.\u001b[39;00m\n\u001b[1;32m   1447\u001b[0m \n\u001b[0;32m   (...)\u001b[0m\n\u001b[1;32m   1685\u001b[0m \u001b[38;5;124;03m(``'green'``) or hex strings (``'#008000'``).\u001b[39;00m\n\u001b[1;32m   1686\u001b[0m \u001b[38;5;124;03m\"\"\"\u001b[39;00m\n\u001b[1;32m   1687\u001b[0m kwargs \u001b[38;5;241m=\u001b[39m cbook\u001b[38;5;241m.\u001b[39mnormalize_kwargs(kwargs, mlines\u001b[38;5;241m.\u001b[39mLine2D)\n\u001b[0;32m-> 1688\u001b[0m lines \u001b[38;5;241m=\u001b[39m [\u001b[38;5;241m*\u001b[39m\u001b[38;5;28mself\u001b[39m\u001b[38;5;241m.\u001b[39m_get_lines(\u001b[38;5;241m*\u001b[39margs, data\u001b[38;5;241m=\u001b[39mdata, \u001b[38;5;241m*\u001b[39m\u001b[38;5;241m*\u001b[39mkwargs)]\n\u001b[1;32m   1689\u001b[0m \u001b[38;5;28;01mfor\u001b[39;00m line \u001b[38;5;129;01min\u001b[39;00m lines:\n\u001b[1;32m   1690\u001b[0m     \u001b[38;5;28mself\u001b[39m\u001b[38;5;241m.\u001b[39madd_line(line)\n",
      "File \u001b[0;32m~/anaconda3/lib/python3.11/site-packages/matplotlib/axes/_base.py:311\u001b[0m, in \u001b[0;36m_process_plot_var_args.__call__\u001b[0;34m(self, data, *args, **kwargs)\u001b[0m\n\u001b[1;32m    309\u001b[0m     this \u001b[38;5;241m+\u001b[39m\u001b[38;5;241m=\u001b[39m args[\u001b[38;5;241m0\u001b[39m],\n\u001b[1;32m    310\u001b[0m     args \u001b[38;5;241m=\u001b[39m args[\u001b[38;5;241m1\u001b[39m:]\n\u001b[0;32m--> 311\u001b[0m \u001b[38;5;28;01myield from\u001b[39;00m \u001b[38;5;28mself\u001b[39m\u001b[38;5;241m.\u001b[39m_plot_args(\n\u001b[1;32m    312\u001b[0m     this, kwargs, ambiguous_fmt_datakey\u001b[38;5;241m=\u001b[39mambiguous_fmt_datakey)\n",
      "File \u001b[0;32m~/anaconda3/lib/python3.11/site-packages/matplotlib/axes/_base.py:493\u001b[0m, in \u001b[0;36m_process_plot_var_args._plot_args\u001b[0;34m(self, tup, kwargs, return_kwargs, ambiguous_fmt_datakey)\u001b[0m\n\u001b[1;32m    490\u001b[0m         kw[prop_name] \u001b[38;5;241m=\u001b[39m val\n\u001b[1;32m    492\u001b[0m \u001b[38;5;28;01mif\u001b[39;00m \u001b[38;5;28mlen\u001b[39m(xy) \u001b[38;5;241m==\u001b[39m \u001b[38;5;241m2\u001b[39m:\n\u001b[0;32m--> 493\u001b[0m     x \u001b[38;5;241m=\u001b[39m _check_1d(xy[\u001b[38;5;241m0\u001b[39m])\n\u001b[1;32m    494\u001b[0m     y \u001b[38;5;241m=\u001b[39m _check_1d(xy[\u001b[38;5;241m1\u001b[39m])\n\u001b[1;32m    495\u001b[0m \u001b[38;5;28;01melse\u001b[39;00m:\n",
      "File \u001b[0;32m~/anaconda3/lib/python3.11/site-packages/matplotlib/cbook/__init__.py:1353\u001b[0m, in \u001b[0;36m_check_1d\u001b[0;34m(x)\u001b[0m\n\u001b[1;32m   1347\u001b[0m \u001b[38;5;66;03m# plot requires `shape` and `ndim`.  If passed an\u001b[39;00m\n\u001b[1;32m   1348\u001b[0m \u001b[38;5;66;03m# object that doesn't provide them, then force to numpy array.\u001b[39;00m\n\u001b[1;32m   1349\u001b[0m \u001b[38;5;66;03m# Note this will strip unit information.\u001b[39;00m\n\u001b[1;32m   1350\u001b[0m \u001b[38;5;28;01mif\u001b[39;00m (\u001b[38;5;129;01mnot\u001b[39;00m \u001b[38;5;28mhasattr\u001b[39m(x, \u001b[38;5;124m'\u001b[39m\u001b[38;5;124mshape\u001b[39m\u001b[38;5;124m'\u001b[39m) \u001b[38;5;129;01mor\u001b[39;00m\n\u001b[1;32m   1351\u001b[0m         \u001b[38;5;129;01mnot\u001b[39;00m \u001b[38;5;28mhasattr\u001b[39m(x, \u001b[38;5;124m'\u001b[39m\u001b[38;5;124mndim\u001b[39m\u001b[38;5;124m'\u001b[39m) \u001b[38;5;129;01mor\u001b[39;00m\n\u001b[1;32m   1352\u001b[0m         \u001b[38;5;28mlen\u001b[39m(x\u001b[38;5;241m.\u001b[39mshape) \u001b[38;5;241m<\u001b[39m \u001b[38;5;241m1\u001b[39m):\n\u001b[0;32m-> 1353\u001b[0m     \u001b[38;5;28;01mreturn\u001b[39;00m np\u001b[38;5;241m.\u001b[39matleast_1d(x)\n\u001b[1;32m   1354\u001b[0m \u001b[38;5;28;01melse\u001b[39;00m:\n\u001b[1;32m   1355\u001b[0m     \u001b[38;5;28;01mreturn\u001b[39;00m x\n",
      "File \u001b[0;32m~/anaconda3/lib/python3.11/site-packages/numpy/core/shape_base.py:65\u001b[0m, in \u001b[0;36matleast_1d\u001b[0;34m(*arys)\u001b[0m\n\u001b[1;32m     63\u001b[0m res \u001b[38;5;241m=\u001b[39m []\n\u001b[1;32m     64\u001b[0m \u001b[38;5;28;01mfor\u001b[39;00m ary \u001b[38;5;129;01min\u001b[39;00m arys:\n\u001b[0;32m---> 65\u001b[0m     ary \u001b[38;5;241m=\u001b[39m asanyarray(ary)\n\u001b[1;32m     66\u001b[0m     \u001b[38;5;28;01mif\u001b[39;00m ary\u001b[38;5;241m.\u001b[39mndim \u001b[38;5;241m==\u001b[39m \u001b[38;5;241m0\u001b[39m:\n\u001b[1;32m     67\u001b[0m         result \u001b[38;5;241m=\u001b[39m ary\u001b[38;5;241m.\u001b[39mreshape(\u001b[38;5;241m1\u001b[39m)\n",
      "\u001b[0;31mKeyboardInterrupt\u001b[0m: "
     ]
    },
    {
     "data": {
      "image/png": "[encoded data removed]",
      "text/plain": [
       "<Figure size 640x480 with 1 Axes>"
      ]
     },
     "metadata": {},
     "output_type": "display_data"
    }
   ],
   "source": [
    "plt.plot(chan_tone_avg, chan_s12_sub[0])"
   ]
  },
  {
   "cell_type": "code",
   "execution_count": 25,
   "metadata": {},
   "outputs": [],
   "source": [
    "for i in range(len(initial_lo_sweep)): \n",
    "\n",
    "    lo_test = initial_lo_sweep[:,i,:]\n",
    "    chan_tones = lo_test[0,:].real\n",
    "    chan_response = lo_test[1,:]"
   ]
  },
  {
   "cell_type": "code",
   "execution_count": 27,
   "metadata": {},
   "outputs": [
    {
     "data": {
      "text/plain": [
       "(500,)"
      ]
     },
     "execution_count": 27,
     "metadata": {},
     "output_type": "execute_result"
    }
   ],
   "source": [
    "chan_response.shape"
   ]
  },
  {
   "cell_type": "code",
   "execution_count": 24,
   "metadata": {},
   "outputs": [
    {
     "data": {
      "text/plain": [
       "array([-1.43996e+02, -1.10996e+02, -1.34996e+02, -1.28996e+02,\n",
       "       -7.44960e+01, -1.18996e+02, -1.33496e+02, -1.15996e+02,\n",
       "       -1.23496e+02, -1.44996e+02, -1.03496e+02, -1.06996e+02,\n",
       "       -9.09960e+01, -1.08496e+02, -1.08996e+02, -1.11496e+02,\n",
       "       -1.36996e+02, -8.09960e+01, -1.02996e+02, -1.10496e+02,\n",
       "       -1.33996e+02, -1.17496e+02, -1.12996e+02, -1.21996e+02,\n",
       "       -9.29960e+01, -7.39960e+01, -1.02496e+02, -9.14960e+01,\n",
       "       -1.20496e+02, -1.08996e+02, -9.39960e+01, -1.17996e+02,\n",
       "       -1.06496e+02, -1.13496e+02, -1.06496e+02, -1.22496e+02,\n",
       "       -1.18996e+02, -1.14996e+02, -7.84960e+01, -1.30496e+02,\n",
       "       -1.16996e+02, -1.42496e+02, -1.32496e+02, -1.07996e+02,\n",
       "       -1.05496e+02, -8.84960e+01, -9.99960e+01, -7.94960e+01,\n",
       "       -1.16496e+02, -8.24960e+01, -8.89960e+01, -1.17996e+02,\n",
       "       -9.99960e+01, -8.84960e+01, -1.17996e+02, -1.28496e+02,\n",
       "       -1.27496e+02, -1.04996e+02, -7.94960e+01, -8.54960e+01,\n",
       "       -1.29496e+02, -1.38996e+02, -8.79960e+01, -1.22496e+02,\n",
       "       -1.11496e+02, -7.99960e+01, -1.11996e+02, -1.28996e+02,\n",
       "       -1.00496e+02, -9.29960e+01, -1.09996e+02, -8.54960e+01,\n",
       "       -1.11996e+02, -1.10996e+02, -9.04960e+01, -6.59960e+01,\n",
       "       -1.02996e+02, -8.34960e+01, -9.94960e+01, -8.84960e+01,\n",
       "       -9.34960e+01, -1.31996e+02, -9.59960e+01, -9.89960e+01,\n",
       "       -1.01996e+02, -1.08996e+02, -1.16496e+02, -9.89960e+01,\n",
       "       -8.24960e+01, -7.69960e+01, -7.69960e+01, -8.04960e+01,\n",
       "       -5.99960e+01, -5.74960e+01, -5.84960e+01, -7.19960e+01,\n",
       "       -9.79960e+01, -9.14960e+01, -8.89960e+01, -9.69960e+01,\n",
       "       -9.34960e+01, -9.19960e+01, -9.34960e+01, -1.09496e+02,\n",
       "       -6.39960e+01, -7.89960e+01, -7.44960e+01, -6.04960e+01,\n",
       "       -9.14960e+01, -9.64960e+01, -8.24960e+01, -8.24960e+01,\n",
       "       -6.89960e+01, -6.99960e+01, -8.84960e+01, -9.89960e+01,\n",
       "       -6.04960e+01, -5.59960e+01, -6.09960e+01, -5.69960e+01,\n",
       "       -5.89960e+01, -5.39960e+01, -8.14960e+01, -6.74960e+01,\n",
       "       -5.79960e+01, -8.44960e+01, -7.94960e+01, -6.39960e+01,\n",
       "       -6.99960e+01, -4.39960e+01, -5.94960e+01, -6.99960e+01,\n",
       "       -5.69960e+01, -4.99960e+01, -3.89960e+01, -5.64960e+01,\n",
       "       -7.94960e+01, -5.99600e+00, -6.89960e+01, -7.74960e+01,\n",
       "       -2.79960e+01, -4.14960e+01, -4.49960e+01, -5.64960e+01,\n",
       "       -3.69960e+01, -4.59960e+01, -2.34960e+01, -2.99960e+01,\n",
       "       -5.74960e+01, -5.24960e+01, -7.44960e+01, -4.84960e+01,\n",
       "       -5.19960e+01, -3.54960e+01, -4.59960e+01, -3.19960e+01,\n",
       "        7.00400e+00, -4.09960e+01, -5.54960e+01, -1.94960e+01,\n",
       "       -4.89960e+01, -6.49960e+01, -2.94960e+01, -1.74960e+01,\n",
       "       -2.84960e+01, -2.14960e+01, -2.39960e+01, -2.89960e+01,\n",
       "       -3.04960e+01, -6.34960e+01, -4.34960e+01, -5.54960e+01,\n",
       "       -1.74960e+01, -5.29960e+01, -3.79960e+01, -1.59960e+01,\n",
       "       -3.59960e+01, -1.39960e+01, -2.54960e+01, -1.89960e+01,\n",
       "       -1.49600e+00, -4.59960e+01, -4.69960e+01, -1.49600e+00,\n",
       "       -1.74960e+01, -1.64960e+01, -2.29960e+01, -9.99600e+00,\n",
       "       -4.64960e+01, -1.29960e+01,  7.50400e+00,  4.50400e+00,\n",
       "       -3.29960e+01, -5.49600e+00, -5.74960e+01,  3.50400e+00,\n",
       "       -2.64960e+01,  1.20040e+01, -5.04960e+01, -8.99600e+00,\n",
       "       -6.44960e+01, -4.14960e+01, -1.49960e+01, -2.89960e+01,\n",
       "       -2.04960e+01, -2.29960e+01, -3.34960e+01, -5.14960e+01,\n",
       "       -2.29960e+01, -3.49960e+01, -3.59960e+01, -1.69960e+01,\n",
       "       -3.34960e+01, -1.39960e+01, -1.84960e+01, -7.49600e+00,\n",
       "       -1.04960e+01, -3.04960e+01, -1.94960e+01, -4.79960e+01,\n",
       "       -1.34960e+01, -1.84960e+01,  4.50400e+00, -2.14960e+01,\n",
       "       -4.79960e+01, -1.24960e+01, -8.99600e+00,  1.00400e+00,\n",
       "       -7.49600e+00, -1.34960e+01, -4.39960e+01,  2.40040e+01,\n",
       "       -1.59960e+01,  6.50400e+00, -1.99600e+00,  5.04000e-01,\n",
       "        2.05040e+01, -2.54960e+01,  4.60040e+01, -5.49600e+00,\n",
       "        4.00000e-03, -2.14960e+01,  5.00400e+00, -3.89960e+01,\n",
       "        1.85040e+01,  1.50400e+00, -2.44960e+01,  1.10040e+01,\n",
       "       -3.39960e+01, -9.49600e+00,  9.00400e+00,  9.50400e+00,\n",
       "       -4.49960e+01, -3.34960e+01, -1.14960e+01, -2.54960e+01,\n",
       "        2.10040e+01, -1.29960e+01, -1.39960e+01,  1.55040e+01,\n",
       "       -3.54960e+01,  1.15040e+01,  6.00400e+00,  4.50040e+01,\n",
       "        1.50040e+01,  1.50040e+01,  8.00400e+00,  6.50400e+00,\n",
       "        1.05040e+01,  1.85040e+01, -1.49600e+00,  1.95040e+01,\n",
       "        1.65040e+01,  2.00040e+01,  2.90040e+01,  1.15040e+01,\n",
       "       -8.49600e+00,  1.25040e+01,  3.15040e+01,  1.55040e+01,\n",
       "        2.70040e+01,  2.85040e+01,  1.55040e+01,  3.65040e+01,\n",
       "        3.10040e+01,  2.75040e+01,  2.65040e+01,  2.20040e+01,\n",
       "        3.00040e+01,  2.15040e+01,  2.00400e+00,  1.15040e+01,\n",
       "        1.85040e+01,  3.70040e+01,  3.30040e+01,  2.35040e+01,\n",
       "        3.20040e+01,  3.10040e+01,  4.80040e+01,  1.90040e+01,\n",
       "        1.35040e+01,  1.90040e+01,  3.90040e+01,  1.90040e+01,\n",
       "        1.65040e+01,  2.35040e+01,  4.85040e+01,  4.15040e+01,\n",
       "        3.15040e+01,  3.50040e+01,  2.55040e+01,  6.40040e+01,\n",
       "        4.05040e+01,  5.10040e+01,  5.70040e+01,  3.65040e+01,\n",
       "        2.75040e+01,  3.45040e+01,  5.00040e+01,  4.70040e+01,\n",
       "        2.75040e+01,  3.50040e+01,  1.55040e+01,  4.50040e+01,\n",
       "        5.25040e+01,  6.50040e+01,  7.50040e+01,  8.40040e+01,\n",
       "        5.25040e+01,  3.70040e+01,  6.05040e+01,  6.30040e+01,\n",
       "        5.05040e+01,  2.65040e+01,  3.15040e+01,  5.60040e+01,\n",
       "        4.50040e+01,  3.90040e+01,  7.05040e+01,  5.15040e+01,\n",
       "        6.45040e+01,  4.60040e+01,  5.60040e+01,  7.70040e+01,\n",
       "        5.60040e+01,  6.20040e+01,  3.65040e+01,  4.20040e+01,\n",
       "        4.85040e+01,  4.95040e+01,  6.05040e+01,  4.85040e+01,\n",
       "        4.10040e+01,  4.10040e+01,  3.90040e+01,  6.00040e+01,\n",
       "        5.40040e+01,  4.85040e+01,  8.45040e+01,  4.70040e+01,\n",
       "        6.55040e+01,  4.95040e+01,  9.45040e+01,  4.60040e+01,\n",
       "        7.05040e+01,  7.25040e+01,  4.95040e+01,  7.15040e+01,\n",
       "        5.75040e+01,  4.80040e+01,  7.15040e+01,  6.45040e+01,\n",
       "        7.40040e+01,  5.25040e+01,  8.80040e+01,  5.65040e+01,\n",
       "        6.55040e+01,  3.90040e+01,  7.15040e+01,  1.00004e+02,\n",
       "        4.85040e+01,  2.55040e+01,  5.00040e+01,  6.75040e+01,\n",
       "        5.95040e+01,  7.00040e+01,  3.15040e+01,  4.45040e+01,\n",
       "        6.40040e+01,  8.95040e+01,  9.70040e+01,  3.45040e+01,\n",
       "        6.65040e+01,  5.70040e+01,  7.40040e+01,  1.13504e+02,\n",
       "        5.70040e+01,  7.90040e+01,  9.45040e+01,  7.35040e+01,\n",
       "        7.50040e+01,  7.90040e+01,  5.65040e+01,  9.40040e+01,\n",
       "        5.00040e+01,  3.80040e+01,  7.75040e+01,  2.85040e+01,\n",
       "        8.75040e+01,  6.75040e+01,  9.75040e+01,  8.40040e+01,\n",
       "        7.25040e+01,  6.70040e+01,  7.50040e+01,  1.07504e+02,\n",
       "        8.20040e+01,  6.55040e+01,  9.10040e+01,  7.15040e+01,\n",
       "        5.35040e+01,  6.25040e+01,  6.70040e+01,  8.60040e+01,\n",
       "        1.12004e+02,  1.01504e+02,  1.15504e+02,  1.10504e+02,\n",
       "        8.45040e+01,  1.08504e+02,  9.20040e+01,  8.75040e+01,\n",
       "        1.06504e+02,  7.15040e+01,  6.50040e+01,  1.00004e+02,\n",
       "        1.01504e+02,  8.50040e+01,  1.00004e+02,  9.20040e+01,\n",
       "        9.00040e+01,  7.70040e+01,  6.30040e+01,  1.21004e+02,\n",
       "        8.85040e+01,  8.05040e+01,  9.55040e+01,  8.80040e+01,\n",
       "        1.12504e+02,  9.60040e+01,  1.17504e+02,  9.90040e+01,\n",
       "        9.45040e+01,  8.50040e+01,  1.12004e+02,  1.28504e+02,\n",
       "        9.90040e+01,  9.65040e+01,  1.06504e+02,  1.24004e+02,\n",
       "        1.21004e+02,  1.07004e+02,  1.28504e+02,  1.15504e+02,\n",
       "        1.11004e+02,  6.70040e+01,  9.00040e+01,  1.30504e+02,\n",
       "        1.01004e+02,  1.22504e+02,  9.35040e+01,  9.75040e+01,\n",
       "        9.95040e+01,  1.35004e+02,  1.08504e+02,  9.65040e+01,\n",
       "        1.32004e+02,  1.14004e+02,  1.30504e+02,  8.95040e+01,\n",
       "        1.12004e+02,  1.32004e+02,  1.25504e+02,  9.35040e+01,\n",
       "        1.17004e+02,  1.10004e+02,  1.13504e+02,  9.00040e+01,\n",
       "        1.55504e+02,  1.30004e+02,  1.06004e+02,  1.20504e+02,\n",
       "        9.45040e+01,  1.22504e+02,  1.12504e+02,  1.26004e+02,\n",
       "        1.40504e+02,  1.55504e+02,  1.07004e+02,  1.48504e+02])"
      ]
     },
     "execution_count": 24,
     "metadata": {},
     "output_type": "execute_result"
    }
   ],
   "source": [
    "chan_s12_sub[0]"
   ]
  },
  {
   "cell_type": "code",
   "execution_count": null,
   "metadata": {},
   "outputs": [],
   "source": [
    "chan_s12_sub.shape"
   ]
  },
  {
   "cell_type": "code",
   "execution_count": null,
   "metadata": {},
   "outputs": [],
   "source": [
    "delay_region_start, delay_region_stop = find_freqs_cable_delay_subtraction(initial_lo_sweep,0.98,10000)\n",
    "\n",
    "print('delay calculation tone region: ' + str((delay_region_start, delay_region_stop)))\n",
    "print('absolute frequency width for tone region: ' + str((delay_region_stop-delay_region_start)))"
   ]
  },
  {
   "cell_type": "markdown",
   "metadata": {},
   "source": [
    "Talk to Matt about edit to this function: "
   ]
  },
  {
   "cell_type": "code",
   "execution_count": null,
   "metadata": {},
   "outputs": [],
   "source": [
    "\n",
    "# okay now seeing that for fmin:fmax in the measure_delay_test_... function below, \n",
    "# need to have them as indices of the original 500-piece test_sweeps array\n",
    "# use this index function integrated into the region function to get fmin and fmax\n",
    "\n",
    "def find_nearest_idx(array, value):\n",
    "    array = np.asarray(array)\n",
    "    idx = (np.abs(array - value)).argmin()\n",
    "    return idx"
   ]
  },
  {
   "cell_type": "code",
   "execution_count": null,
   "metadata": {},
   "outputs": [],
   "source": []
  },
  {
   "cell_type": "code",
   "execution_count": null,
   "metadata": {},
   "outputs": [],
   "source": [
    "print(initial_lo_sweep[0,0,:])\n",
    "# print(initial_lo_sweep[0,1,:])\n",
    "# print(initial_lo_sweep[0,2,:])\n",
    "# print(initial_lo_sweep[0,10,:])\n"
   ]
  },
  {
   "cell_type": "code",
   "execution_count": null,
   "metadata": {},
   "outputs": [],
   "source": [
    "# using savitzky-golay filter to subtract out baseline\n",
    "test_y_freq_values = 20*np.log10(np.abs(initial_lo_sweep[1,0,:]))\n",
    "freq_vals = initial_lo_sweep[0,0,:]\n",
    "baseline_filter = savgol_filter(test_y_freq_values, 500, 3)"
   ]
  },
  {
   "cell_type": "code",
   "execution_count": null,
   "metadata": {},
   "outputs": [],
   "source": [
    "plt.plot(freq_vals, test_y_freq_values)\n",
    "plt.plot(freq_vals, baseline_filter)\n",
    "#plt.plot(freq_vals, np.abs(test_y_freq_values - baseline_filter)**2)"
   ]
  },
  {
   "cell_type": "code",
   "execution_count": null,
   "metadata": {},
   "outputs": [],
   "source": [
    "tests=initial_lo_sweep\n",
    "x=[]\n",
    "y=[]\n",
    "for i in range(tests.shape[1]): # shape is the number of tones (or channels?) \n",
    "    test_sweep=tests[:,i,:] # do loop for each channel\n",
    "    x=np.append(x,test_sweep[0,:].real) # gets real values of frequency \n",
    "    y=np.append(y,20*np.log10(np.abs(test_sweep[1,:]))) # gets log power (response) for each frequency\n",
    "\n",
    "finite=np.asarray(np.where(np.isfinite(y) == True)) # gets an array of index values where there are no infinite or NaN y-values\n",
    "yfinite=y[finite].flatten() # get finite-index filtered y values (power)\n",
    "xfinite=x[finite].flatten() # get finite-index filtered x values (frequency)\n",
    "print(len(yfinite))"
   ]
  },
  {
   "cell_type": "code",
   "execution_count": 20,
   "metadata": {},
   "outputs": [],
   "source": [
    "# name of function: finding the frequencies FOR the cable delay subtraction. \n",
    "# problem: only outputs exact frequency tone (f_start, f_stop), not the index of the start and stop \n",
    "# use find_nearest_idx to get it working? \n",
    "\n",
    "def find_freqs_cable_delay_subtraction_copy(initial_lo_sweep,target,n_freq):\n",
    "   \n",
    "    tests=initial_lo_sweep\n",
    "    x=[]\n",
    "    y=[]\n",
    "    for i in range(tests.shape[1]): # shape is the number of tones (or channels?) \n",
    "        test_sweep=tests[:,i,:] # do loop for each channel\n",
    "        x=np.append(x,test_sweep[0,:].real) # gets real values of frequency \n",
    "        y=np.append(y,20*np.log10(np.abs(test_sweep[1,:]))) # gets log power (response) for each frequency\n",
    "\n",
    "    finite=np.asarray(np.where(np.isfinite(y) == True)) # gets an array of index values where there are no infinite or NaN y-values\n",
    "    yfinite=y[finite].flatten() # get finite-index filtered y values (power)\n",
    "    xfinite=x[finite].flatten() # get finite-index filtered x values (frequency)\n",
    "    print(len(yfinite))\n",
    "    yfinite_filtered = savgol_filter(yfinite, len(yfinite), 3)\n",
    "    \n",
    "    \n",
    "    \n",
    "    idmax=np.where(yfinite == np.max(yfinite)) # gets SINGLE index of the maximum response\n",
    "    #print(len(yfinite), len(xfinite))\n",
    "\n",
    "    # idgt=index array of the (x,y) values > target*ymax (id=index, gt=greater than)\n",
    "    idgt=np.asarray(np.where(yfinite > (target*yfinite[idmax][0]))).flatten() # finds index of where the y value is greater than 0.98 times the max\n",
    "    # got 0.98 value vy playing with things and tuning \n",
    "    # frequency range for cable delay\n",
    "    f_start=xfinite[idgt[0]] # indexes that place in the frequency array for beginning freq\n",
    "    f_end=xfinite[idgt[0]+n_freq] # indexes that place in frequency array + range wanted for ending freq\n",
    "\n",
    "\n",
    "    \n",
    "    f_start_idx = find_nearest_idx(tests[0,0,:], f_start)\n",
    "    f_stop_idx = find_nearest_idx(tests[0,0,:], f_end)\n",
    "\n",
    "    # usually commented out\n",
    "    fig_test, ax_test = plt.subplots(1, figsize=(8,4))\n",
    "    ax_test.plot(xfinite,yfinite, label='all values')\n",
    "    ax_test.plot(x[idgt[0]:idgt[0]+n_freq], y[idgt[0]:idgt[0]+n_freq], label='special range')\n",
    "    ax_test.set_xlabel('freq')\n",
    "    ax_test.set_ylabel(r'$S_{21}$')\n",
    "    ax_test.set_title('cable delay calculation range')\n",
    "    ax_test.legend()\n",
    "\n",
    "\n",
    "   \n",
    "    return f_start, f_end, f_start_idx, f_stop_idx #ax_test"
   ]
  },
  {
   "cell_type": "code",
   "execution_count": 21,
   "metadata": {},
   "outputs": [
    {
     "name": "stderr",
     "output_type": "stream",
     "text": [
      "/var/folders/ky/hnfmqvvd74x03rjxm1q6hf580000gn/T/ipykernel_72101/292984545.py:13: RuntimeWarning: divide by zero encountered in log10\n",
      "  y=np.append(y,20*np.log10(np.abs(test_sweep[1,:]))) # gets log power (response) for each frequency\n"
     ]
    },
    {
     "name": "stdout",
     "output_type": "stream",
     "text": [
      "495000\n"
     ]
    }
   ],
   "source": [
    "%matplotlib qt\n",
    "delay_region_start, delay_region_stop = find_freqs_cable_delay_subtraction_copy(initial_lo_sweep,0.2,10000)\n",
    "#delay_region_start, delay_region_stop, delreg_idxstart, delreg_idxstop = find_freqs_cable_delay_subtraction_copy(initial_lo_sweep,0.5,10000)\n",
    "print('delay calculation tone region: ' + str((delay_region_start, delay_region_stop)))\n",
    "#print('delay calculation tone region indices: ' + str((delreg_idxstart, delreg_idxstop)))\n",
    "print('absolute frequency width for tone region: ' + str((delay_region_stop-delay_region_start)))"
   ]
  },
  {
   "cell_type": "code",
   "execution_count": null,
   "metadata": {},
   "outputs": [],
   "source": []
  },
  {
   "cell_type": "markdown",
   "metadata": {},
   "source": [
    "Now that there's a range to calculate the delay on, the delay is calculated with ```measure_delay_test_given_freq```."
   ]
  },
  {
   "cell_type": "code",
   "execution_count": null,
   "metadata": {},
   "outputs": [],
   "source": [
    "# test_sweeps object for this function is usually the initial_lo_sweep data \n",
    "# fmin, fmax define the frequency range for measuring the delay, for this point in the \n",
    "# full_demod_process function, the inputs are delay_region_start,delay_region_stop, outputs from the previous function \n",
    "# # if i give you a frequency span, measure the delay \n",
    "\n",
    "\n",
    "# okay so, this actually doesn't seem like it's operating on that frequency region, because in the np.polyfit \n",
    "# it is acting on all values of test_sweep, not the frequency range... making copy of function in cell below: \n",
    "\n",
    "def measure_delay_test_given_freq(test_sweeps,fmin,fmax,plot=False):\n",
    "    \"\"\"\n",
    "    Manually enter frequency region for cable delay measurement.\n",
    "    First 100 points currently used because of system stability issue. Might remove in the future if it gets better.\n",
    "    \"\"\"\n",
    "    delays=[] # empty delay list\n",
    "    for i in range(test_sweeps.shape[1]): # length = number of channels \n",
    "        test_sweep=test_sweeps[:,i,:] # takes each channel in sweep as i, then each item in test_sweep is two values? \n",
    "        freq_start=np.min(test_sweep[0,:].real) # freq start with range \n",
    "        freq_stop=np.max(test_sweep[0,:].real) # freq stop with range\n",
    "        if freq_start>fmin and freq_stop<fmax: # makes sure it's within bounds of the range calculated before \n",
    "            # polyfit takes x, y values\n",
    "            # x = first 100 frequency points, takes real-valued frequency from first block\n",
    "            # y = phase value using the complex value in second block\n",
    "            # fits polynomial, extracts coefficient as m\n",
    "            m,b = np.polyfit(test_sweep[0,:100].real, [cmath.phase(x) for x in test_sweep[1,:100]], 1)\n",
    "            # slope m corresponds to change in phase with respect to frequency\n",
    "            # tau takes the phase info and converts to a time delay\n",
    "            tau=-m/(2*np.pi)\n",
    "            delays.append(tau)\n",
    "    delays=np.array(delays)\n",
    "    delays_sel=delays[np.where(delays>0)] # filters for zero delays\n",
    "    if plot==True: # plot delay distribution\n",
    "        #plt.figure(figsize=(11,8))\n",
    "        plt.figure(figsize=(5,4))\n",
    "        plt.hist(delays_sel*1e9,bins=np.linspace(0,100,50))\n",
    "        plt.xlabel('Cable Delay (ns)')\n",
    "        plt.ylabel('Number of Segments')\n",
    "    return delays_sel # returns the selected delay array"
   ]
  },
  {
   "cell_type": "code",
   "execution_count": null,
   "metadata": {},
   "outputs": [],
   "source": [
    "\n",
    "\n",
    "\n",
    "def measure_delay_test_given_freq_COPY(test_sweeps,fmin,fmax,plot=False):\n",
    "    \"\"\"\n",
    "    Manually enter frequency region for cable delay measurement.\n",
    "    First 100 points currently used because of system stability issue. Might remove in the future if it gets better.\n",
    "    \"\"\"\n",
    "    delays=[] # empty delay list\n",
    "    for i in range(test_sweeps.shape[1]): # length = number of channels \n",
    "        test_sweep=test_sweeps[:,i,:] # takes each channel in sweep as i, then each item in test_sweep is two values?\n",
    "        print(test_sweep.shape) \n",
    "        freq_start=np.min(test_sweep[0,:].real) # freq start with range \n",
    "        freq_stop=np.max(test_sweep[0,:].real) # freq stop with range\n",
    "        if freq_start>fmin and freq_stop<fmax: # makes sure it's within bounds of the range calculated before \n",
    "            # polyfit takes x, y values\n",
    "            # x = first 100 frequency points, takes real-valued frequency from first block\n",
    "            # y = phase value using the complex value in second block\n",
    "            # fits polynomial, extracts coefficient as m\n",
    "            #m,b = np.polyfit(test_sweep[0,fmin:fmax].real, [cmath.phase(x) for x in test_sweep[1,fmin:fmax]], 1)\n",
    "            m,b = np.polyfit(test_sweep[0,:].real, [cmath.phase(x) for x in test_sweep[1,:]], 1)\n",
    "            # slope m corresponds to change in phase with respect to frequency\n",
    "            # tau takes the phase info and converts to a time delay\n",
    "            tau=-m/(2*np.pi)\n",
    "            delays.append(tau)\n",
    "    delays=np.array(delays)\n",
    "    delays_sel=delays[np.where(delays>0)] # filters for zero delays\n",
    "    if plot==True: # plot delay distribution\n",
    "        #plt.figure(figsize=(11,8))\n",
    "        plt.figure(figsize=(5,4))\n",
    "        plt.hist(delays_sel*1e9,bins=np.linspace(0,100,50))\n",
    "        plt.xlabel('Cable Delay (ns)')\n",
    "        plt.ylabel('Number of Segments')\n",
    "    return delays_sel # returns the selected delay array"
   ]
  },
  {
   "cell_type": "markdown",
   "metadata": {},
   "source": [
    "This function essentially takes in some frequency range, and gives a time delay. First, it starts a loop over the number of channels (same as before, using the initial LO sweep data), making sure that the range chosen to calculate the delay is inside the general frequency range of the data (confirm visually above). Then, it uses ```np.polyfit(x, y, deg)``` as a first-degree polynomial, with x equal to the frequency (```test_sweep[0,:100].real```), y equal to the phase angle of the complex response (```[cmath.phase(x) for x in test_sweep[1,:100]```). So equation is: \n",
    "$$\n",
    "\\theta= m f + b\n",
    "$$\n",
    "\n",
    "We don't care about b, only m. Because it gives a value for the slope of the phase across this range of frequency. As in, \n",
    "$$\n",
    "m \\propto \\frac{\\theta}{f}\n",
    "$$\n",
    "\n",
    "So for each channel, we look at the phase of the complex response we get out during the sweep for all of the LO steps (although here is only 100). This phase slope $m$ (a least-squares average) is then put into the equation for time delay in the function, where\n",
    "$$ \n",
    "\\tau = -\\frac{m}{2\\pi} = -\\frac{\\frac{\\theta}{f}}{2\\pi} = -\\frac{\\theta}{2\\pi f}\n",
    "$$\n",
    "\n",
    "and a list of these Taus are appended to the list ```delays```. Effectively, it averages the phase of the complex response data for each channel over the course of the sweep. NOTE the intuition of the derivaiton: \n",
    "$$\n",
    "\\text{Signal: } V(t) = e^{2\\pi i f t}\n",
    "$$\n",
    "\n",
    "$$\n",
    "\\begin{aligned} \\text{Delayed Signal: } V(t) &= e^{i2\\pi i f(t - \\tau)} \\\\ \n",
    "&= (e^{i2\\pi i ft})(e^{-i2\\pi  f\\tau}) \\\\ \n",
    "\\Delta\\phi &= - 2\\pi f \\tau \\\\\n",
    "\\tau &= -\\frac{\\Delta \\phi}{2\\pi f} \\\\ \n",
    "&= -\\frac{\\theta}{2\\pi f}\n",
    "\\end{aligned}\n",
    "$$\n",
    "\n",
    "SO -- the phase being calculated in the ```cmath.phase(x)``` line is the *change* in phase, or just the actual *angle* between the real and imaginary components of the signal. This is because the whole thing is being represented in Euler's form where $V = e^{i\\theta}$. So the phase difference is literally the difference in the two angles equal to $(2\\pi ft)$ and $(-2\\pi f\\tau)$ !! \n",
    "\n",
    "The code currently has a delay inspection tool where it selects all delays that were calculated as nonzero and then (if plot==True) plots them as a histogram to see the nanosecond delay distribution. \n",
    "\n",
    "But I was confused about what the phase information might actually look like, so I tried to inspect a few channels (in cell below)."
   ]
  },
  {
   "cell_type": "code",
   "execution_count": null,
   "metadata": {},
   "outputs": [],
   "source": [
    "test_sweeps = initial_lo_sweep\n",
    "fmin, fmax = delay_region_start, delay_region_stop\n",
    "\n",
    "delays=[] # empty delay list\n",
    "test_swept=[]\n",
    "for i in range(test_sweeps.shape[1]): # length = number of channels \n",
    "    test_sweep=test_sweeps[:,i,:] # test sweep becomes object with each channel, holding the 500 frequencies in test_sweeps[0] and 500 S_21 in test_sweeps[1]\n",
    "    freq_start=np.min(test_sweep[0,:].real) # freq start with range \n",
    "    freq_stop=np.max(test_sweep[0,:].real) # freq stop with range\n",
    "    test_swept.append(test_sweep)\n",
    "    if freq_start>fmin and freq_stop<fmax: # makes sure it's within bounds of the range calculated before \n",
    "        # polyfit takes x, y values\n",
    "        # x = first 100 frequency points, takes real-valued frequency from first block\n",
    "        # y = phase value using the complex value in second block\n",
    "        # fits polynomial, extracts coefficient as m\n",
    "        m,b = np.polyfit(test_sweep[0,:].real, [cmath.phase(x) for x in test_sweep[1,:]], 1)\n",
    "        # slope m corresponds to change in phase with ***respect to frequency*** \n",
    "        # m is not tau, m is \n",
    "        # tau takes the phase info and converts to a time delay\n",
    "        tau=-m/(2*np.pi)\n",
    "        delays.append(tau)\n",
    "\n",
    "\n",
    "fig, ax = plt.subplots(15, figsize = (5,25))\n",
    "for i in range(len(test_swept[500:515])):\n",
    "    single_channel = test_swept[500+i]\n",
    "    phases=[]\n",
    "    for x in single_channel[1,:]:\n",
    "        phase = cmath.phase(x)\n",
    "        phases.append(phase)\n",
    "\n",
    "    ax[i].scatter(single_channel[0,:].real, phases, marker='.')\n",
    "    ax[i].set_title(f'Channel {500+i} Phases')\n",
    "    ax[i].set_xlabel('frequency (tones)')\n",
    "    ax[i].set_ylabel('phase ($\\Theta$)')\n",
    "plt.tight_layout()\n",
    "\n"
   ]
  },
  {
   "cell_type": "markdown",
   "metadata": {},
   "source": [
    "Actually calculating the delays: "
   ]
  },
  {
   "cell_type": "code",
   "execution_count": null,
   "metadata": {},
   "outputs": [],
   "source": [
    "#measure cable delay\n",
    "delays = measure_delay_test_given_freq(initial_lo_sweep,delay_region_start,delay_region_stop,plot=True) \n",
    "# delay_region_start,delay_region_stop are outputs from figuring out the frequency range from previous function \n",
    "\n",
    "print(f'delay: {np.median(delays)}')"
   ]
  },
  {
   "cell_type": "markdown",
   "metadata": {},
   "source": [
    "So this is about 60 ns. Yu's paper had average cable delay on order of 100 ns..."
   ]
  },
  {
   "cell_type": "code",
   "execution_count": null,
   "metadata": {},
   "outputs": [],
   "source": [
    "# WITH NEW VERSION\n",
    "\n",
    "#measure cable delay\n",
    "delays = measure_delay_test_given_freq_COPY(initial_lo_sweep,delay_region_start,delay_region_stop,plot=True) \n",
    "# delay_region_start,delay_region_stop are outputs from figuring out the frequency range from previous function \n",
    "\n",
    "print(f'delay: {np.median(delays)}')"
   ]
  },
  {
   "cell_type": "markdown",
   "metadata": {},
   "source": [
    "delay with np.max in the function that finds the region for delay calculation:\n",
    "delay: 6.430838030860101e-08"
   ]
  },
  {
   "cell_type": "markdown",
   "metadata": {},
   "source": [
    "Now actually fixing the delays: \n",
    "\n",
    "This operation happens on a new set of data, which is the \"targeted sweep,\" and is the sweep data after the script has fixed the location of the resonators and is only sending tones out to a set number of resonators. \n",
    "\n",
    "Function ```remove_delay``` takes the targeted sweep data, makes a copy, iterates through each channel, creates a delay factor term where $\\tau$ is the median of the delays found in the previous function, and $f$ is all of the 500 frequency tones from the first data block. This factor term is equivalent to\n",
    "$$\n",
    "\\text{delay factor} =\\large e^{2 \\pi i \\tau f}\n",
    "$$\n",
    "\n",
    "in the code, the $i$ has to be written as ```j``` (also, in reference to the equation above, since the delay term has a negative exponent initially, the delay *factor* term has a positive exponent (inverse to correct). \n",
    "\n",
    "The delay factor itself is 500-item array that is multiplied item-wise to all 500 LO steps of the complex data, for each of the reduced (<1000) number of channels in the targeted sweep data, effectively removing the delay."
   ]
  },
  {
   "cell_type": "code",
   "execution_count": null,
   "metadata": {},
   "outputs": [],
   "source": [
    "# REMOVE DELAY FUNCTION WITH DELAY FACTOR EXAMPLE: \n",
    "\n",
    "def remove_delay_factor_example(target_sweeps,delay,channels='all',start_channel=0,stop_channel=1000):\n",
    "    target_sweeps_rm=target_sweeps.copy()\n",
    "    \n",
    "    # defining loop ranges\n",
    "    if channels == 'all':\n",
    "        loop_range = range(target_sweeps.shape[1]) \n",
    "    elif channels == 'some':\n",
    "        loop_range = range(stop_channel-start_channel)\n",
    "    \n",
    "    # removing the delays\n",
    "    for i in loop_range:\n",
    "        target_sweep=target_sweeps[:,i,:] # going for each channel where there's a tone\n",
    "        freqs=target_sweep[0,:] # first block, full 500 MHz bandwidth \n",
    "        delay_fac=np.exp(1j*delay*2*np.pi*freqs) # for each of the 231 channels (i), delay factor uses 500 LO steps as \"freqs\" \n",
    "        target_sweeps_rm[1,i,:]=target_sweeps[1,i,:]*delay_fac # for each channel of the second block, multiply array by the delay factor (element wise)\n",
    "            \n",
    "    return target_sweeps_rm, delay_fac "
   ]
  },
  {
   "cell_type": "code",
   "execution_count": null,
   "metadata": {},
   "outputs": [],
   "source": [
    "def remove_delay(target_sweeps,delay,channels='all',start_channel=0,stop_channel=1000):\n",
    "    target_sweeps_rm=target_sweeps.copy()\n",
    "    \n",
    "    # defining loop ranges\n",
    "    if channels == 'all':\n",
    "        loop_range = range(target_sweeps.shape[1]) \n",
    "    elif channels == 'some':\n",
    "        loop_range = range(stop_channel-start_channel)\n",
    "    \n",
    "    # removing the delays\n",
    "    for i in loop_range:\n",
    "        target_sweep=target_sweeps[:,i,:] # going for each channel where there's a tone\n",
    "        freqs=target_sweep[0,:] # first block, full 500 MHz bandwidth \n",
    "        delay_fac=np.exp(1j*delay*2*np.pi*freqs) # for each of the 231 channels (i), delay factor uses 500 LO steps as \"freqs\" \n",
    "        target_sweeps_rm[1,i,:]=target_sweeps[1,i,:]*delay_fac # for each channel of the second block, multiply array by the delay factor (element wise)\n",
    "            \n",
    "    return target_sweeps_rm"
   ]
  },
  {
   "cell_type": "markdown",
   "metadata": {},
   "source": [
    "Actually applying the function: "
   ]
  },
  {
   "cell_type": "code",
   "execution_count": null,
   "metadata": {},
   "outputs": [],
   "source": [
    "targeted_lo_sweep_rm, delay_factor_example =remove_delay_factor_example(targeted_lo_sweep,\n",
    "                                    np.median(delays),\n",
    "                                    channels=channels,\n",
    "                                    start_channel=start_channel,\n",
    "                                    stop_channel=stop_channel)"
   ]
  },
  {
   "cell_type": "markdown",
   "metadata": {},
   "source": [
    "Checking out \"delay factor\" array: "
   ]
  },
  {
   "cell_type": "code",
   "execution_count": null,
   "metadata": {},
   "outputs": [],
   "source": [
    "print('Delay factor dimensions: ' + str(delay_factor_example.shape))\n",
    "print('Delay Factor Median = ' + str(np.median(delay_factor_example)))\n",
    "print('Delay Factor Array:')\n",
    "print(delay_factor_example)"
   ]
  },
  {
   "cell_type": "markdown",
   "metadata": {},
   "source": [
    "Checking out difference between LO Sweep data before and after delay removal: "
   ]
  },
  {
   "cell_type": "code",
   "execution_count": null,
   "metadata": {},
   "outputs": [],
   "source": [
    "\n",
    "\n",
    "fig, ax = plt.subplots(3, figsize = (7, 12))\n",
    "# plt.grid(True)\n",
    "# plt.legend()\n",
    "\n",
    "ax[0].plot(np.arange(0, len(targeted_lo_sweep[1]), 1), (targeted_lo_sweep[1,0,0:231].real + 1j*targeted_lo_sweep[1,0,0:231].imag), \n",
    "            label= r'$S_{21}$ delayed')\n",
    "ax[0].plot(np.arange(0, len(targeted_lo_sweep_rm[1]), 1), (targeted_lo_sweep_rm[1,0,0:231].real + 1j*targeted_lo_sweep_rm[1,0,0:231].imag), \n",
    "            label=r'$S_{21}$ fixed')\n",
    "ax[0].plot(np.arange(0, len(targeted_lo_sweep_rm[1]), 1), np.abs(((targeted_lo_sweep_rm[1,0,0:231].real + 1j*targeted_lo_sweep_rm[1,0,0:231].imag) \n",
    "                                                            - (targeted_lo_sweep[1,0,0:231].real + 1j*targeted_lo_sweep[1,0,0:231].imag))), \n",
    "                                                            label = r'abs($\\Delta S_{12}$)', marker='.')\n",
    "ax[0].set_title('Target Sweep Delay Removal Channel 0')\n",
    "ax[0].grid(True)\n",
    "ax[0].legend()\n",
    "\n",
    "ax[1].plot(np.arange(0, len(targeted_lo_sweep[1]), 1), (targeted_lo_sweep[1,100,0:231].real + 1j*targeted_lo_sweep[1,100,0:231].imag), \n",
    "            label=r'$S_{21}$ delayed')\n",
    "ax[1].plot(np.arange(0, len(targeted_lo_sweep_rm[1]), 1), (targeted_lo_sweep_rm[1,100,0:231].real + 1j*targeted_lo_sweep_rm[1,0,0:231].imag), \n",
    "            label=r'$S_{21}$ fixed')\n",
    "ax[1].plot(np.arange(0, len(targeted_lo_sweep_rm[1]), 1), np.abs(((targeted_lo_sweep_rm[1,100,0:231].real + 1j*targeted_lo_sweep_rm[1,100,0:231].imag) \n",
    "                                                            - (targeted_lo_sweep[1,100,0:231].real + 1j*targeted_lo_sweep[1,100,0:231].imag))), \n",
    "                                                            label = r'abs($\\Delta S_{12}$)', marker='.')\n",
    "ax[1].set_title('Target Sweep Delay Removal Channel 100')\n",
    "ax[1].grid(True)\n",
    "ax[1].legend()\n",
    "\n",
    "\n",
    "ax[2].plot(np.arange(0, len(targeted_lo_sweep[1]), 1), (targeted_lo_sweep[1,200,0:231].real + 1j*targeted_lo_sweep[1,200,0:231].imag), \n",
    "            label=r'$S_{21}$ delayed')\n",
    "ax[2].plot(np.arange(0, len(targeted_lo_sweep_rm[1]), 1), (targeted_lo_sweep_rm[1,200,0:231].real + 1j*targeted_lo_sweep_rm[1,200,0:231].imag), \n",
    "            label=r'$S_{21}$ fixed')\n",
    "ax[2].plot(np.arange(0, len(targeted_lo_sweep_rm[1]), 1), np.abs(((targeted_lo_sweep_rm[1,200,0:231].real + 1j*targeted_lo_sweep_rm[1,200,0:231].imag) \n",
    "                                                            - (targeted_lo_sweep[1,200,0:231].real + 1j*targeted_lo_sweep[1,200,0:231].imag))), \n",
    "                                                            label = r'abs($\\Delta S_{12}$)', marker='.')\n",
    "ax[2].set_title('Target Sweep Delay Removal Channel 200')\n",
    "ax[2].grid(True)\n",
    "ax[2].legend()\n",
    "\n",
    "\n",
    "plt.setp(ax, xlabel='channel #', ylabel=r'$S_{21}$')\n",
    "plt.tight_layout()\n"
   ]
  },
  {
   "cell_type": "markdown",
   "metadata": {},
   "source": [
    "Now the function needs to remove the delay from the timestream data as well, using ```remove_delay_timestream```. \n",
    "\n",
    "The function just operates on each of the channels, contained by the ```f0s``` variable input in the parameters, which should be an array taken from the frequency list (```tone_freqs```) loaded in the beginning. This is based on the same equation as before, and the delay factor is calculated in the same way, except for that when removing it previously, each of the channels had to have a 500-item correction. In this case, each channel has just one tone (not 500), and one has to correct all of the items in the *time series data*, broken up into t, I, Q already. The arrays of ```I + jQ``` is input as \"stream\", and the same median delay (tau) value is used. \n",
    "\n",
    "It's a correction being applied in the time domain rather than the frequency domain, but it is the same general complex wave formula, $V(f,t)$ so the multiplied delay factor is the same: \n",
    "\n",
    "$$\n",
    "\\text{Signal: } V(t) = e^{2\\pi i f t}\n",
    "$$\n",
    "\n",
    "$$\n",
    "\\begin{aligned} \\text{Delayed Signal: } V_{del}(t) &= e^{2\\pi i f(t - \\tau)} \\\\ \n",
    "\\text {Corrected Signal: } V_{fix}(t) &= (e^{2\\pi i f(t - \\tau)})(e^{2\\pi i f \\tau}) \\\\\n",
    "&= e^{2\\pi i f(t - \\tau) + 2\\pi i f \\tau} \\\\\n",
    "&= e^{2\\pi i f (t - \\tau + \\tau)} \\\\\n",
    "&= e^{2\\pi i f t} \n",
    "\\end{aligned}\n",
    "$$\n",
    "\n",
    "And the time delay is removed from the signal! "
   ]
  },
  {
   "cell_type": "code",
   "execution_count": null,
   "metadata": {},
   "outputs": [],
   "source": [
    "# removing delay timestream function\n",
    "\n",
    "def remove_delay_timestream(stream,f0s,delay):\n",
    "    stream_rm=np.zeros((f0s.shape[0],stream.shape[1]),dtype = 'complex_') # make zeros array with shape of (tone_freqs, shape of second timestream data block)\n",
    "    for i in range(f0s.shape[0]):\n",
    "        #print(delay)\n",
    "        #print(f0s)\n",
    "        delay_fac=np.exp(1j*2*np.pi*f0s[i]*delay)\n",
    "        #print(delay_fac)\n",
    "        stream_rm[i,:]=stream[i]*delay_fac\n",
    "    return stream_rm\n",
    "\n",
    "# need to know frequency of tone you're dealing with for each i \n",
    "# each tone is modulating data at each frequency "
   ]
  },
  {
   "cell_type": "markdown",
   "metadata": {},
   "source": [
    "Remove time delay from timestream data: "
   ]
  },
  {
   "cell_type": "code",
   "execution_count": null,
   "metadata": {},
   "outputs": [],
   "source": [
    "IQ_stream_rm=remove_delay_timestream(Is_fr+1j*Qs_fr,tone_freqs,np.median(delays))"
   ]
  },
  {
   "cell_type": "code",
   "execution_count": null,
   "metadata": {},
   "outputs": [],
   "source": [
    "IQ_stream_rm.shape"
   ]
  },
  {
   "cell_type": "code",
   "execution_count": null,
   "metadata": {},
   "outputs": [],
   "source": [
    "# image from Yu paper for personal use (put in markdown cell): \n",
    "    # ![Screenshot 2025-02-13 at 4.10.04 PM.png](<attachment:Screenshot 2025-02-13 at 4.10.04 PM.png>)"
   ]
  },
  {
   "cell_type": "markdown",
   "metadata": {},
   "source": [
    "(That all had to do with cable delay. Now we calibrate the intrinsic delay.)\n",
    "\n",
    "Now actually calibrating the signal!! \n",
    "\n",
    "Copying from SMuRF paper for reference: \n",
    "\n",
    "From SMuRF: \" For µmux systems, we are typically interested in modulation of the resonance frequency due to incoming power on\n",
    "the detector. We thus seek to transform our complex digital data to an estimate of resonator frequency shifts. We transform shifts of the resonance frequency into shifts entirely in\n",
    "the phase (Q) direction of the resonator response via a rotation\n",
    "and scaling of the resonator’s complex response, allowing us\n",
    "to ignore changes in the amplitude direction (I). Equivalently,\n",
    "we rotate the resonator circle in the complex plane such that it\n",
    "is oriented as given in Figure 2, and approximate small movements near the resonance frequency as occurring along a single axis..\"\n",
    "\n",
    "The resonator has a response in the complex plane corresponding to the real and imaginary components of the $S_{21}$ response. This response may be rotated and scaled by a complex number $\\eta$ such that for small changes in resonance frequency, the change in $S_{21}$ is entirely in a single quadrature. \n",
    "\n",
    "For $(I_{\\pm}, Q_{\\pm})$, complex transmission measured at some frequency offset $\\pm \\Delta f$ from the resonance frequency, estimate $\\eta$: \n",
    "$$\n",
    "\\eta  = \\frac{2\\Delta f}{(I_+ - I_-) + i(Q_+ - Q_-)}\n",
    "$$\n",
    "\n",
    "Denominator gives angle in complex plane needed to rotate resonance circle. Magnitude set by sharpness of the resonance. $\\eta$ has effect of rotating and scaling circle such that the real and complex axes have physically meaningful units... with $S^{\\text{min}}_{21}$ rotated to be parallel to the imaginary axis. \n",
    "\n",
    "\n",
    "With this calibration, frequency shift can be estimated as \n",
    "$$\n",
    "\\Delta f \\sim \\hat \\Delta f = \\text{Im}[S_{21}(\\Delta f) \\times \\eta]\n",
    "$$\n",
    "\n",
    "(Hat = estimate.) $S_{21}(\\Delta f)$ IS the complex transmission at the shifted resonance frequency. This is the same as projecting the rotated and scaled $S_{21}$ response at the probe tone frequency onto a single axis.\n"
   ]
  },
  {
   "cell_type": "markdown",
   "metadata": {},
   "source": [
    "### **Note (after meeting with Matt 02/19/25):** \n",
    "#### Those equations from the Yu don't actually apply because Ali's detectors don't have the same tone-tracking mechanism that allowed SMuRF to do this (Matt tried this method, shown by the ```find_eta``` function somewhere in the demod scripts, but it didn't work). These equations do show the basis for what we are trying to achieve at this step of the demodulation process, which is finding the frequency shift by rotating the resonator circle into a corrected location such that we can see a small **$\\delta f$** as a phase difference projected onto the imaginary axis (in a [Re, Im] coordinate plane), but we use a different method, shown below with the matrix transformation... "
   ]
  },
  {
   "cell_type": "code",
   "execution_count": null,
   "metadata": {},
   "outputs": [],
   "source": [
    "# second image from SMuRF paper for personal use (put into markdown cell):\n",
    "    # ![Screenshot 2025-02-13 at 4.34.13 PM.png](<attachment:Screenshot 2025-02-13 at 4.34.13 PM.png>) "
   ]
  },
  {
   "cell_type": "code",
   "execution_count": null,
   "metadata": {},
   "outputs": [],
   "source": [
    "def calculate_M(target_sweep_one):\n",
    "    I=target_sweep_one[1,:].real # real components of S21 sweep data\n",
    "    Q=target_sweep_one[1,:].imag # imaginary components of S21 sweep data\n",
    "    z=I**2+Q**2 # squared magnitude of complex value for each data point\n",
    "    \n",
    "    M=np.zeros((4,4)) # 4x4 matrix to populate \n",
    "\n",
    "    # matrix encodes system of equations related to resonator geometry\n",
    "    # purpose is to capture various sums involving I and Q\n",
    "    # and their relationships... \n",
    "\n",
    "    M[0,0]=np.sum(z**2.) # sum of squared mag, weighed by squared mag. Essentially \"size\" of data points and their complex distribution\n",
    "    M[1,1]=np.sum(I**2.) # sum of squares of I values, capture relationship of in-phase component to overall system\n",
    "    M[2,2]=np.sum(Q**2.) # sum of squares of Q, relationship of quadrature component to overall system\n",
    "    M[3,3]=I.shape[0] # setting last diagonal term as number of points in data = normalization factor\n",
    "\n",
    "    M[0,1]=np.sum(I*z) # (THESE TWO) coupling between in-phase component I and squared mag of data (represent \n",
    "    M[1,0]=np.sum(I*z) # relationship of in-phase component w/ magnitude)\n",
    "    M[0,2]=np.sum(Q*z) # (THESE TWO) coupling between quadrature component and squared magnitude\n",
    "    M[2,0]=np.sum(Q*z) # how the phase information interacts with the magnitude \n",
    "\n",
    "    M[0,3]=np.sum(z) # (THESE TWO) terms introduce sum over all data points' squared magnitudes into system\n",
    "    M[3,0]=np.sum(z)\n",
    "    M[1,2]=np.sum(I*Q) # (THESE TWO) coupling between in-phase and quadrature components \n",
    "    M[2,1]=np.sum(I*Q) # and gets phase relationship between them\n",
    "\n",
    "    M[1,3]=np.sum(I) # (THESE TWO) sum of in-phase components\n",
    "    M[3,1]=np.sum(I) \n",
    "    M[2,3]=np.sum(Q) # (THESE TWO) sum of quadrature components \n",
    "    M[3,2]=np.sum(Q)\n",
    "\n",
    "    return M"
   ]
  },
  {
   "cell_type": "markdown",
   "metadata": {},
   "source": [
    "(Done copying Cyndia Yu) This was all to give context for what is happening in the next few steps of calibration. \n",
    "\n",
    "First need to measure the circle, which uses a function ```calculate_M``` to calculate on the matrix $M$ calculated in the following cell, dependent on $I$, $Q$, and $z = I^2 + Q^2$. \n",
    "$$\n",
    "M = \n",
    "\\begin{bmatrix}\n",
    "\\sum z^2 & \\sum Iz & \\sum Qz & \\sum z \\\\ %(0,0) - (0,3)\n",
    "\\sum Iz & \\sum I^2 & \\sum IQ & \\sum I \\\\ %(1,0) - (1,3)\n",
    "\\sum Qz & \\sum IQ & \\sum Q^2 & \\sum Q \\\\ %(2,0) - (2,3)\n",
    "\\sum z & \\sum I & \\sum Q & n_{\\text{channels}} %(3,0) - (3,3)\n",
    "\\end{bmatrix}\n",
    "$$\n",
    "\n",
    "But why set up this way?? \n",
    "\n",
    "(CONFIRM:) Once matrix M is formed, it can be solved in the next step as an eigenvalue problem. Matrix formulation is way of fitting circle to resonance data by minimizing the differences between expected circle and actual resonance points in the complex (I, Q) plane. \n",
    "\n",
    "Also, I and Q interact in symmetric ways, so the matrix to be solved needs to reflect that symmetry, so certain sums will appear more than once. I and Q are both part of the same vector, so the fitting problem looks for teh best circle that describes how these components are related, so the sums need to appear multiple times. "
   ]
  },
  {
   "cell_type": "markdown",
   "metadata": {},
   "source": [
    "This is because in order to get the phase information about the resonator, we need to get circle dimensions, and to do that, we solve a generalized eigenvalue problem. Recall, with standard eigenvalue problem, we have\n",
    "$$\n",
    "M \\cdot v = \\lambda \\cdot v \n",
    "$$\n",
    "such that the characteristic equation is\n",
    "$$\n",
    "(A - \\lambda I) = 0\n",
    "$$\n",
    "where $I$ is the identity matrix used to solve a system of linear equations for $v$, the nonzero *eigenvector* and $\\lambda$ the eigenvalues. There are nontrivial solutions of the eigenvector when $\\text{det}(A - \\lambda I) = 0$. (Solve this equation for lambda, get eigenvalues, substitute back in for eigenvectors.) \n",
    "\n",
    "But in the ```measure_circle``` function we have ```scipy.linalg.eig(M,B)```, which itself is solving a *generalized* eigenvalue problem. Recall: \n",
    "$$\n",
    "M \\cdot v = \\lambda \\cdot B \\cdot v \n",
    "$$\n",
    "where M and B are both square matrices. \n",
    "\n",
    "Instead of solving for one matrix, you are solving for how $M$ and $B$ work together to form a system of linear equations. Need to clarify: but it seems like the $B$ matrix is used here to capture the geometry of the resonator or the fitting model constraints: \n",
    "\n",
    "$$\n",
    "B = \\begin{bmatrix}\n",
    "0 & 0 & 0 & -2 \\\\\n",
    "0 & 1 & 0 & 0 \\\\\n",
    "0 & 0 & 1 & 0 \\\\\n",
    "-2 & 0 & 0 & 0\n",
    "\\end{bmatrix}\n",
    "$$\n",
    "\n",
    "Why might $B$ be set up this way? The second and third diagonal elements are 1, which probably corresponds to constraints on the real and imaginary components of the resonator data ($I, Q$)... suggests these values should contribute linearly to center of the circle. Also determines how the center coordinates influences the fitting process. The 0s and 2s cause a connection between first and last variables in the system, and encode the relationship between the squared I and Q terms. Negative sign suggests they are constraining fit in certain direction (controlling phase or distance between center and resonance freq affects geometry of circle. The off-diagonal -2s seem to impact geometrical fitting process where they are linearly stretching or pulling in the eigenvector directions.)\n",
    "\n",
    "**Clarify:** where did the $M$ matrix come from in terms of structure?? Where did $B$ matrix come from ?? "
   ]
  },
  {
   "cell_type": "markdown",
   "metadata": {},
   "source": [
    "Here, the function will be able to solve this system of equations, and give back eigenvalues and eigenvectors. \n",
    "- **Eigenvalues** will give the scaling factors that describe the system's behavior (vague, clarify). \n",
    "- **Eigenvectors** will give the direction in the complex plane in *which* the system behaves scaled by that eigenvalue (?) \n",
    "\n",
    "The second eigenvector ```V[:,IX[1]]``` gives the information for the center and radius of the resonator circle. \n",
    "\n",
    "On the **radius**: \n",
    "\n",
    "Based on the code, it is calculated as \n",
    "$$\n",
    "R = \\sqrt{x_{center}^2 + y_{center}^2 + \\frac{V[3]}{V[0]}}\n",
    "$$\n",
    "\n",
    "The third term under the square root seems to account or compensate for any distortion or stretch imposed by the eigenvalue solution, ensuring radius reflects the true radius of the circle. \n",
    "\n",
    "Then, after calculating these properties, the ```measure_circle``` function gives back the (x,y) position of the resonator circle in the complex plane, the radius of the circle, and the phase difference of the actual data's phase and the circle center. (???)\n",
    "\n",
    "**need clarification on $\\phi_0$ here.**"
   ]
  },
  {
   "cell_type": "code",
   "execution_count": null,
   "metadata": {},
   "outputs": [],
   "source": [
    "def find_nearest_idx(array, value):\n",
    "    array = np.asarray(array)\n",
    "    idx = (np.abs(array - value)).argmin()\n",
    "    return idx"
   ]
  },
  {
   "cell_type": "code",
   "execution_count": null,
   "metadata": {},
   "outputs": [],
   "source": [
    "# This function calculates the center, radius, and initial phase of the resonator circle \n",
    "# using the matrix M and solving an eigenvalue problem\n",
    "\n",
    "def measure_circle(target_sweep,f0):\n",
    "    \"\"\" Finds the resonator circle's center\n",
    "\n",
    "    Args:\n",
    "        target_sweep: target S21 sweep around one resonator, col0 is freq, col1 is complex S21\n",
    "        tau: cable delay in s\n",
    "\n",
    "    Returns:\n",
    "        center and radius on the complex plane, and initial phase\n",
    "    \"\"\"\n",
    "    M=calculate_M(target_sweep) # employs the matrix function on the target sweep I, Q data \n",
    "    B = np.array([[0,0,0,-2],[0,1,0,0],[0,0,1,0],[-2,0,0,0]]) # reference matrix for the eigenvalue problem. Origin? \n",
    "    VX=scipy.linalg.eig(M, B) # solves eigenvalue problem using the reference matrix B, outputs (eigenvalues, eigenvectors)\n",
    "    X=VX[0] # eigenvalues\n",
    "    V=VX[1] # eigenvectors\n",
    "    C=np.sort(X,0) \n",
    "    IX=np.argsort(X,0) # sort eigenvalues along index (IX = indexed X)\n",
    "    Values = V[:,IX[1]] # extract eigenvector corresponding to 2nd eigenvalue (representing the resonator circle’s parameters)\n",
    "    xc = -Values[1]/(2*Values[0]) # circle center's x-coordinate \n",
    "    yc = -Values[2]/(2*Values[0]) # circle center's y-coordinate\n",
    "    R = (xc**2+yc**2-Values[3]/Values[0])**0.5 # radius of the circle (all based on resonator geometry)\n",
    "    ind=find_nearest_idx(target_sweep[0,:], f0) # finds index nearest to the frequency in data closest to f0\n",
    "    phi_0=cmath.phase(target_sweep[1,ind]-xc-1j*yc) # calculates phase at that index (phase diff between the complex value and the circle’s center.)\n",
    "    return np.array([xc+1j*yc,R,phi_0]) # gives circle info in complex plane (x + iy, R, and phi_0)"
   ]
  },
  {
   "cell_type": "markdown",
   "metadata": {},
   "source": [
    "Following function just employs previous function at scale: "
   ]
  },
  {
   "cell_type": "code",
   "execution_count": null,
   "metadata": {},
   "outputs": [],
   "source": [
    "def measure_circle_allch(target_sweeps,f0s,channels='all',start_channel=0,stop_channel=1000):\n",
    "    cals=[]\n",
    "    \n",
    "    # set frequency range for LO sweep calibration\n",
    "    if channels == 'all':\n",
    "        loop_range = range(target_sweeps.shape[1])\n",
    "    elif channels == 'some':\n",
    "        loop_range = range(stop_channel - start_channel)\n",
    "    \n",
    "    # loop through, apply measure_circle function\n",
    "    for i in loop_range:\n",
    "        sweep=target_sweeps[:,i,:]\n",
    "        cal=measure_circle(sweep,f0s[i])\n",
    "        cals.append(cal)\n",
    "    # save calibration (circle info) in stacked vector\n",
    "    cals=np.vstack(cals)\n",
    "\n",
    "    print(f'shape_cals: {cals.shape}')\n",
    "    return cals  "
   ]
  },
  {
   "cell_type": "markdown",
   "metadata": {},
   "source": [
    "Actually calibrating:  "
   ]
  },
  {
   "cell_type": "code",
   "execution_count": null,
   "metadata": {},
   "outputs": [],
   "source": [
    "calibration=measure_circle_allch(targeted_lo_sweep_rm,\n",
    "                                     tone_freqs,\n",
    "                                     channels=channels,\n",
    "                                     start_channel=start_channel,\n",
    "                                     stop_channel=stop_channel) #finds circle center and initial phase for every channel\n",
    "\n",
    "print(calibration[0]) "
   ]
  },
  {
   "cell_type": "code",
   "execution_count": null,
   "metadata": {},
   "outputs": [],
   "source": [
    "calculate_M(targeted_lo_sweep)"
   ]
  },
  {
   "cell_type": "code",
   "execution_count": null,
   "metadata": {},
   "outputs": [],
   "source": [
    "def find_nearest_idx(array, value):\n",
    "    array = np.asarray(array)\n",
    "    idx = (np.abs(array - value)).argmin()\n",
    "    return idx"
   ]
  },
  {
   "cell_type": "markdown",
   "metadata": {},
   "source": [
    "Next part of function: \n",
    "\n",
    "Extracting phase information from the calibration (circle info) and the timestream. Relies on ```get_phase``` function. "
   ]
  },
  {
   "cell_type": "code",
   "execution_count": null,
   "metadata": {},
   "outputs": [],
   "source": [
    "def get_phase(timestreams,calibration):\n",
    "    \"\"\" Finds the resonator circle's center\n",
    "    \n",
    "    Args:\n",
    "        timestream : timestream data in I and Q for all resonators\n",
    "        phi_init: initial phase at f0\n",
    "        calibration: (rows = n_channels) col0 center, col1 radius, col2 initial phase\n",
    "\n",
    "    Returns:\n",
    "        phase of timestream in radian\n",
    "    \"\"\"\n",
    "    phases=[]\n",
    "    for i in range(calibration.shape[0]): # iterates through stacked circle data, each i is channel\n",
    "        timestream=timestreams[i] # gets (I + jQ) timestream data for channel i\n",
    "        center = calibration[i,0] # gets x, y circle center location in complex plane (x + jy)\n",
    "        phi_init=calibration[i,2] # gets initial phase from circle data\n",
    "        timestream_origin=timestream-center # positioning timestream data at origin of circle???? \n",
    "        timestream_rot=timestream_origin*np.exp(-1j*phi_init) # rotates timestream data from origin by negative of the initial phase\n",
    "        phase=[cmath.phase(x) for x in timestream_rot] # rotates origin-positioned data by the initial phase from circle\n",
    "        #phase-=phi_init (????)\n",
    "        phase=np.array(phase) # makes array for phase info from whole channel\n",
    "        phases.append(np.unwrap(phase.real)) # corrects phase data jumps by adding or subtracting 2pi where necessary\n",
    "    phases=np.vstack(phases) # vertically stacks phase data after loop\n",
    "    \n",
    "    return phases"
   ]
  },
  {
   "cell_type": "code",
   "execution_count": null,
   "metadata": {},
   "outputs": [],
   "source": [
    "calibration.shape"
   ]
  },
  {
   "cell_type": "code",
   "execution_count": null,
   "metadata": {},
   "outputs": [],
   "source": [
    "#calibrate time stream\n",
    "data_cal=get_phase(IQ_stream_rm,calibration)"
   ]
  },
  {
   "cell_type": "code",
   "execution_count": null,
   "metadata": {},
   "outputs": [],
   "source": [
    "data_cal.shape"
   ]
  },
  {
   "cell_type": "code",
   "execution_count": null,
   "metadata": {},
   "outputs": [],
   "source": [
    "targeted_lo_sweep.shape[0]"
   ]
  },
  {
   "cell_type": "code",
   "execution_count": null,
   "metadata": {},
   "outputs": [],
   "source": [
    "data_cal[1].shape"
   ]
  },
  {
   "cell_type": "code",
   "execution_count": null,
   "metadata": {},
   "outputs": [],
   "source": [
    "phases"
   ]
  },
  {
   "cell_type": "markdown",
   "metadata": {},
   "source": [
    "Trying to plot circle: (for first channel)... not working!"
   ]
  },
  {
   "cell_type": "code",
   "execution_count": null,
   "metadata": {},
   "outputs": [],
   "source": [
    "%matplotlib qt\n",
    "\n",
    "# Parameters for the circle\n",
    "x_center = calibration[0][0].real # real part of the center\n",
    "y_center = calibration[0][0].imag # imaginary part of the center\n",
    "radius = calibration[0][1] # radius of the circle\n",
    "phi_0_0 = calibration[0][2].real # phi_0\n",
    "\n",
    "# Array of phases in radians (example)\n",
    "phase_points = np.mod(data_cal[0,:] + phi_0_0, 2*np.pi)\n",
    "phase_points[phase_points < 0] += 2 * np.pi\n",
    "\n",
    "# Compute the points on the circle using the formula above\n",
    "real_parts = x_center + radius * np.cos(phase_points)\n",
    "imag_parts = y_center + radius * np.sin(phase_points)\n",
    "\n",
    "# Plotting\n",
    "plt.figure(figsize=(6, 6))\n",
    "plt.plot(real_parts, imag_parts, label=\"Circle points\", color=\"blue\")\n",
    "plt.scatter(real_parts, imag_parts, color=\"red\", s=10)  # plot points at each phase\n",
    "plt.axhline(0, color='black',linewidth=1)  # real axis\n",
    "plt.axvline(0, color='black',linewidth=1)  # imaginary axis\n",
    "\n",
    "# Adding center point\n",
    "plt.scatter(x_center, y_center, color='green', label=\"Center\", zorder=5)\n",
    "\n",
    "plt.title(\"Circle in the Complex Plane\")\n",
    "plt.xlabel(\"Re\")\n",
    "plt.ylabel(\"Im\")\n",
    "plt.legend()\n",
    "#plt.gca().set_aspect('equal', adjustable='box')  # Equal aspect ratio\n",
    "plt.grid(True)\n",
    "plt.show()"
   ]
  },
  {
   "cell_type": "markdown",
   "metadata": {},
   "source": [
    "Trying to graph circle. Recall equation for circl ein complex plane: \n",
    "\n",
    "$$\n",
    "z = (x + r \\cos(\\theta)) + i \\left( y + r \\sin(\\theta) \\right)\n",
    "$$ "
   ]
  },
  {
   "cell_type": "markdown",
   "metadata": {},
   "source": [
    "end result if you're flux ramping is frequency vs time (bumpss)"
   ]
  },
  {
   "cell_type": "code",
   "execution_count": null,
   "metadata": {},
   "outputs": [],
   "source": [
    "# this is incorrect -- I had wanted to try to plot the complex circle that was generated by the calibration \n",
    "# but this is not right because the phase angles are generated... \n",
    "# has to do with the scaling \n",
    "\n",
    "center = calibration[0][0]\n",
    "radius = calibration[0][1]\n",
    "#angles = data_cal[0]\n",
    "angles = np.linspace(0, 2*np.pi, 100)\n",
    "circle_points = center + radius * np.exp(1j * angles)\n",
    "\n",
    "x = [point.real for point in circle_points]\n",
    "y = [point.imag for point in circle_points]\n",
    "plt.plot(x, y)\n",
    "plt.scatter(center.real, center.imag)\n",
    "plt.axvline(center.real, ls='dashed', color='red', alpha=0.3)\n",
    "plt.axhline(center.imag, ls='dashed', color='red', alpha=0.3)\n",
    "plt.grid('True')"
   ]
  },
  {
   "cell_type": "markdown",
   "metadata": {},
   "source": [
    "Last section of function before demodulation: getting time info for flux ramping... it depends on function ```find_n_phi0```: "
   ]
  },
  {
   "cell_type": "code",
   "execution_count": null,
   "metadata": {},
   "outputs": [],
   "source": [
    "def find_n_phi0(time,data_cal,f_sawtooth,plot=True):\n",
    "    \"\"\"\n",
    "    helper function which finds n_phi0 for all channels in dataset and returns the median\n",
    "    calls mea_nphi0\n",
    "    \"\"\"\n",
    "    n_phi0_array = np.array([])\n",
    "    for i in range(len(data_cal)):\n",
    "        try:\n",
    "            n_phi0 = mea_nphi0(time,data_cal[i,:],f_sawtooth,plot=plot) # takes all times, channels \n",
    "            n_phi0_array = np.append(n_phi0_array, n_phi0)\n",
    "        except:\n",
    "            continue\n",
    "            #print ('bad channel', i)\n",
    "\n",
    "    n_phi0 = np.median(n_phi0_array)\n",
    "    print (n_phi0)\n",
    "    return n_phi0\n",
    "\n"
   ]
  },
  {
   "cell_type": "code",
   "execution_count": null,
   "metadata": {},
   "outputs": [],
   "source": [
    "# ^^^ dependent on mea_nphi0\n",
    "\n",
    "def mea_nphi0(times,delta_fs_ch,reset_freq,plot=False):\n",
    "    peaks_neg,_=find_peaks(0-delta_fs_ch, distance=10,width=2.5)\n",
    "    t_peaks=times[peaks_neg]\n",
    "    t_peaks.sort()\n",
    "    peaks_neg.sort()\n",
    "    t_diff=np.diff(t_peaks)\n",
    "    t_diff_2d=np.vstack((t_diff,np.zeros(t_diff.shape[0]))).T\n",
    "    tree = spatial.cKDTree(t_diff_2d)\n",
    "    idups_raw = tree.query_ball_tree(tree, 2./488.)\n",
    "    if plot==True:\n",
    "        plt.plot(times-times[0],delta_fs_ch)\n",
    "        plt.scatter(times[peaks_neg]-times[0],delta_fs_ch[peaks_neg],color='r')\n",
    "        plt.xlim(0,1)\n",
    "        plt.show()\n",
    "    nphi0=1/(np.median(t_diff[idups_raw[get_max_len_ind(idups_raw)]])*reset_freq)\n",
    "    return nphi0"
   ]
  },
  {
   "cell_type": "markdown",
   "metadata": {},
   "source": [
    "What's going on (poor summary) is that the SQUID operation is determined by flux quanta $\\phi_0$. There are a certain number of periods of the SQUID system that will be allowed to go in each flux ramp (depending on how high you let the current go, you get a certain number of periods within one flux ramp). \n",
    "- typical wisdom is to use 3-4 periods (called n_phi0s)\n",
    "    - SQUIDS perform best this way \n",
    "    - then we know we want to be modulation in the KHz regime, so we usually will set the flux ramp between 1-10 KHz, then you multiply n_phi0 x frequency of flux ramp = effective modulation for the flux ramp, the effective rate at which we're modulating the ______ (SQUID?)\n",
    "    - been around 15 Hz -- back at 45 hz (modulating up signal)\n",
    "    - why doing this? because of noise \n",
    "- so what is the number of flux quanta (SQUID)?? \n",
    "\n",
    "Then, the next bit of code after ```find_n_phi0``` is used goes through every channel, tries to estimate where flux ramp period started, finding what data point the flux ramp period started, and creates a new array of \"reset\" t0 values using a function called ```mea_reset_t0```. "
   ]
  },
  {
   "cell_type": "code",
   "execution_count": null,
   "metadata": {},
   "outputs": [],
   "source": [
    "np.diff?"
   ]
  },
  {
   "cell_type": "code",
   "execution_count": null,
   "metadata": {},
   "outputs": [],
   "source": [
    "t_start=0\n",
    "t_stop=10\n",
    "d = np.diff(data_cal[:,488*t_start:488*t_stop])\n",
    "d.shape\n"
   ]
  },
  {
   "cell_type": "code",
   "execution_count": null,
   "metadata": {},
   "outputs": [],
   "source": [
    "np.argmax?"
   ]
  },
  {
   "cell_type": "code",
   "execution_count": null,
   "metadata": {},
   "outputs": [],
   "source": [
    "int?"
   ]
  },
  {
   "cell_type": "markdown",
   "metadata": {},
   "source": [
    "function ```mea_reset_t0```: \n",
    "1. for all channel/timestream data (first data block in ```data_cal```) takes difference between each successive phase point from the calibration data, into array (4879, not 4880?)\n",
    "2. then takes the difference of each of those phase points, into array\n",
    "3. then finds index of the maximum of that difference of differences array, adds 2 (WHY?)\n",
    "4. then uses that index to find the true $t_0$ using the time array ```times```\n",
    "$$\n",
    "t_0 = t_{\\text{ind-max}} - t_{\\text{init}} - \\frac{int((t_{ind-max} - t_{init}) * f_s)}{f_s}\n",
    "$$\n",
    "\n",
    "where $t_{init}$ is the initial time in the times array and $f_s$ is the sawtooth (sample frequency). \n",
    "5. then the index of the initial is found with ```find_nearest_index```, by subtracting the ```times``` - ```times[0]```. \n",
    "\n",
    "\n"
   ]
  },
  {
   "cell_type": "markdown",
   "metadata": {},
   "source": []
  },
  {
   "cell_type": "code",
   "execution_count": null,
   "metadata": {},
   "outputs": [],
   "source": [
    "def mea_reset_t0(times,delta_fs_ch,reset_freq,plot=False):\n",
    "    d=np.diff(delta_fs_ch) # difference between each phase point for all channels from 488(t_start) to 488(t_stop)\n",
    "    dd=np.diff(d) # difference between phase differences ??  \n",
    "    ind=np.argmax(dd)+2 # maximum phase difference plus 2 (why plus 2?)\n",
    "    #print(f'index: {ind}')\n",
    "    #print(f'len times: {len(times)}')\n",
    "    t_init=times[ind]-times[0]-int((times[ind]-times[0])*reset_freq)/reset_freq # see markdown above\n",
    "    ind_init= find_nearest_idx(times-times[0],t_init) # nearest index of the (times) - (first value of times array) \n",
    "    if plot==True:\n",
    "        plt.plot(times-times[0],delta_fs_ch,alpha=0.05)\n",
    "        plt.scatter(times[ind_init]-times[0],delta_fs_ch[ind_init],color='r')\n",
    "        plt.xlim(0,1)\n",
    "        plt.show()\n",
    "    return t_init"
   ]
  },
  {
   "cell_type": "markdown",
   "metadata": {},
   "source": [
    "Questions: \n",
    "- why $t_{start}, t_{stop} = (0, 10)$? "
   ]
  },
  {
   "cell_type": "code",
   "execution_count": null,
   "metadata": {},
   "outputs": [],
   "source": []
  },
  {
   "cell_type": "markdown",
   "metadata": {},
   "source": [
    "coming to computer at rate of 488 "
   ]
  },
  {
   "cell_type": "code",
   "execution_count": null,
   "metadata": {},
   "outputs": [],
   "source": [
    "512e6/(2^19 - 1)"
   ]
  },
  {
   "cell_type": "code",
   "execution_count": null,
   "metadata": {},
   "outputs": [],
   "source": [
    "f_sawtooth = 15\n",
    "\n",
    "#find nphi_0\n",
    "t_start=0\n",
    "t_stop=10\n",
    "\n",
    "n_phi0 = find_n_phi0(ts_fr[488*t_start:488*t_stop],data_cal[:,488*t_start:488*t_stop],f_sawtooth,plot=False)  #discard the first few seconds\n",
    "print(f'n_phi0: {n_phi0}')\n",
    "\n",
    "#find t0\n",
    "t0_array = np.array([])\n",
    "for current_channel in range(len(data_cal)):\n",
    "    t0 = mea_reset_t0(ts_fr[488*t_start:488*t_stop],data_cal[current_channel,488*t_start:488*t_stop],f_sawtooth,plot=False)\n",
    "    #ts_freq = 1/np.nanmedian(np.diff(ts_fr))\n",
    "    #t0 = mea_reset_t0(ts_fr[ts_freq*t_start:ts_freq*t_stop],data_cal[current_channel,ts_freq*t_start:ts_freq*t_stop],f_sawtooth,plot=False)\n",
    "    t0_array = np.append(t0_array,t0)\n",
    "\n",
    "t0_med = np.nanmedian(t0_array)"
   ]
  },
  {
   "cell_type": "code",
   "execution_count": null,
   "metadata": {},
   "outputs": [],
   "source": [
    "t0_array"
   ]
  },
  {
   "cell_type": "markdown",
   "metadata": {},
   "source": [
    "NOW all relevant arrays are calibrated and ready for demodulation. \n",
    "\n",
    "There are a couple of demodulation options: \n",
    "- 'simple'\n",
    "- 'iv' \n",
    "- 'fft'\n",
    "\n",
    "Will start with 'simple' for purposes of familiarizing... **NOTE:** this is not used anymore (at least in the script. It is commented out.)\n",
    "\n",
    "Arguments: \n",
    "- ```sig``` = IQ stream for one channel with delay removed, first data block of ```data_cal``` (```data_cal[chan]```)... i.e. the signal \n",
    "- ```n_Phi0``` = initial phase (output of ```find_n_phi0```)\n",
    "- \n",
    "\n",
    "questions: \n",
    "- n_chunks? \n",
    "- n? \n",
    "- TOD? (time of data?)\n",
    "\n",
    "Okay, going to stop with this one and just look at the FFT demodulation. This is not making sense and isn't consistently utilized in the code... "
   ]
  },
  {
   "cell_type": "code",
   "execution_count": null,
   "metadata": {},
   "outputs": [],
   "source": [
    "sig = data_cal[200]\n",
    "sig.shape[0]"
   ]
  },
  {
   "cell_type": "code",
   "execution_count": null,
   "metadata": {},
   "outputs": [],
   "source": [
    "def demodulate(t, sig, n_Phi0, n, f_sawtooth, fs=512e6/(2**20),plot=False):\n",
    "    #chunksize = len(sig) / t[len(t)-1] / f_sawtooth\n",
    "    #n_chunks = int(len(t)//chunksize)\n",
    "    #fs = 488.28125#1/np.nanmedian(np.diff(t))\n",
    "    #fs=1/np.nanmedian(np.diff(t))\n",
    "\n",
    "\n",
    "    t = np.arange(sig.shape[0])/fs # make time array of N_DataPoints divided by RFSoC sample rate\n",
    "    period=1/f_sawtooth # period given effective sample rate (15 hz usually)\n",
    "    n_chunks=int(t[-1]/period) # given period, number of chunks (number of chunks of data?)\n",
    "    slow_t = [] # create slow time array\n",
    "    slow_TOD = [] # create \n",
    "    for ichunk in range(n_chunks):\n",
    "        t_start =period*ichunk+n/fs # getting actual t_start based on number of data\n",
    "        t_stop = period*(ichunk+1)-n/fs\n",
    "        sig_chunk=sig[np.where((t>t_start)&(t<t_stop))]\n",
    "        t_chunk=t[np.where((t>t_start)&(t<t_stop))]\n",
    "        t_reset=ichunk/f_sawtooth\n",
    "        if t_chunk.shape[0]==0:\n",
    "            continue\n",
    "        t_diff=np.diff(t_chunk)\n",
    "        t_diff=np.insert(t_diff, 0, 0)\n",
    "        #print (t_chunk.shape)\n",
    "        #print (t_diff.shape)\n",
    "        #t_chunk_sel=t_chunk[(t_diff >= 1./fs*0.8) & (t_diff <= 1./fs*1.2)]\n",
    "        #sig_chunk_sel=sig_chunk[(t_diff >= 1./fs*0.8) & (t_diff <=1./fs*1.2)]\n",
    "        if t_chunk.shape[0]<10:\n",
    "            continue\n",
    "        else:\n",
    "            num = np.sum(sig_chunk*np.sin(2*np.pi*n_Phi0*f_sawtooth*(t_chunk-t_reset)))\n",
    "            den = np.sum(sig_chunk*np.cos(2*np.pi*n_Phi0*f_sawtooth*(t_chunk-t_reset)))\n",
    "            slow_TOD.append(np.arctan2(num, den))\n",
    "            slow_t.append((t_start+t_stop)/2)\n",
    "    \n",
    "    \n",
    "    #slow_t = slow_t[~np.isnan(slow_TOD)]\n",
    "    #slow_TOD = np.unwrap(slow_TOD[~np.isnan(slow_TOD)])\n",
    "    slow_t=np.array(slow_t)\n",
    "    slow_TOD=np.array(slow_TOD)\n",
    "    slow_TOD /= 2*np.pi # convert to Phi0\n",
    "    #slow_TOD -= np.average(slow_TOD) # DC subtract\n",
    "    #print(np.isnan(slow_TOD))\n",
    "    \n",
    "    \n",
    "    if plot == True:\n",
    "        plt.plot(slow_t,slow_TOD,'.')\n",
    "        plt.vlines(ts_start,0,0.4)\n",
    "        print (range(ichunk))\n",
    "        plt.xlabel('Time (s)')\n",
    "        plt.ylabel('Amplitude (arb.)')\n",
    "        #plt.legend(loc='upper right')\n",
    "        plt.title('Reconstructed Signal')\n",
    "        plt.show()\n",
    "    \n",
    "        \n",
    "    return slow_t, slow_TOD \n",
    "\n",
    "# come back to this? "
   ]
  },
  {
   "cell_type": "code",
   "execution_count": null,
   "metadata": {},
   "outputs": [],
   "source": [
    "t = ts_fr\n",
    "start_idx = find_nearest_idx(ts_fr-ts_fr[0], t0_med)\n",
    "f_fr = f_sawtooth #hz \n",
    "start_index = start_idx\n",
    "\n",
    "\n",
    "t_fr_start = t[start_index:] # finds t (ts_fr) at the chosen start index for all channels from the already manually organized \n",
    "t_fr_start = t_fr_start - t_fr_start[0] # subtracts that first time index from the timestream to correct whole array\n",
    "sig_fr_start = sig[start_index:]\n",
    "\n",
    "t_final = round((t_fr_start[-1])/(1/f_fr))*(1/f_fr) #make final time the latest time that fits an integer number of flux ramps; will interpolate to here\n",
    "t_start = t_fr_start[0]\n",
    "t_elapsed = t_final - t_start\n",
    "n_reset_periods = t_elapsed * f_fr #will be replaced when we have the fr reference\n",
    "    \n",
    "\n",
    "interpolation = interp1d(t_fr_start, sig_fr_start,fill_value='extrapolate') # creates interpolation function \n",
    "t_interp = np.linspace(t_start, t_final, round(n_reset_periods)*1024) #interpolate so that every chunk has 1024 points (per flux ramp cycle); will make fft faster        \n",
    "\n",
    "sig_interp = interpolation(t_interp) # makes evenly spaced points. \n",
    "\n",
    "\n",
    "t_chunked = np.reshape(t_interp,(int(len(t_interp)/1024), 1024)) # reshapes interpolated time array into chunks of 1024 points each\n",
    "sig_chunked = np.reshape(sig_interp,(int(len(sig_interp)/1024), 1024)) # reshapes interpolated signal array into chunks of 1024 points each\n",
    "sig_average = sig_chunked.mean(axis=1, keepdims=True) # grabs average of each signal \n",
    "sig_chunked = sig_chunked - sig_average # subtracts average to center signal at zero \n",
    "\n",
    "reset_indices_interp_space = [(row+1)*sig_chunked.shape[1] for row in range(len(sig_chunked))] # makes new iterating dimension space \n",
    "\n",
    "reset_indices = [find_nearest_idx(sig, entry) for entry in reset_indices_interp_space] # find indices of points marking each beginning of flux ramp period\n",
    "\n",
    "t_increase = (t_chunked[0,-1] + np.median(np.diff(t_chunked[0])))\n",
    "t_new = t_chunked + t_increase\n",
    "t_zero_padded = np.hstack((t_chunked, t_new))\n",
    "sig_zero_padded = np.hstack((sig_chunked, np.zeros(sig_chunked.shape)))\n",
    "\n",
    "sig_fft = fft(sig_zero_padded) # compute fast fourier transform of signal with zero padding\n",
    "freq_fft = fftfreq(len(t_zero_padded[0]),np.median(np.diff(t_zero_padded[0])))  # get frequency values for signal FFT based on time array\n",
    "\n",
    "#remove dc from fft:\n",
    "sig_fft_no_dc = deepcopy(sig_fft) # DC = zero frequency elements, remove those (spike at center?)\n",
    "sig_fft_no_dc[:,0] = 0 # ?\n",
    "\n",
    "sig_fft_reduced = deepcopy(sig_fft_no_dc)\n",
    "    \n",
    "primary_bins = [np.argpartition(np.abs(row), -4)[-4:] for row in sig_fft_reduced] #identify the four greatest bins (two on each side of the fft)\n",
    "primary_bins = [np.sort(row) for row in primary_bins]\n",
    "mask = np.zeros_like(sig_fft_reduced)\n",
    "[np.put(mask[row],primary_bins[row],1) for row in range(len(mask))]\n",
    "    \n",
    "sig_fft_reduced = sig_fft_reduced * mask\n",
    "    "
   ]
  },
  {
   "cell_type": "code",
   "execution_count": null,
   "metadata": {},
   "outputs": [],
   "source": [
    "print(t_increase)\n",
    "print(len(np.diff(t_chunked[0])))\n",
    "print(np.median(np.diff(t_chunked[0])))"
   ]
  },
  {
   "cell_type": "code",
   "execution_count": null,
   "metadata": {},
   "outputs": [],
   "source": [
    "print('t_interp shape: ' + str(t_interp.shape))  "
   ]
  },
  {
   "cell_type": "code",
   "execution_count": null,
   "metadata": {},
   "outputs": [],
   "source": [
    "print('t_chunked shape: ' + str(t_chunked.shape))\n",
    "print('sig_chunked shape: ' + str(sig_chunked.shape))\n",
    "print('sig_chunked.shape[0]: ' + str(sig_chunked.shape[0]))\n",
    "print('reset_indices_interp_space length: ' + str(len(reset_indices_interp_space)))\n",
    "print('reset_indices length: ' + str(len(reset_indices)))\n",
    "print('t_increase: ' + str(t_increase))\n",
    "print('t_zero_padded shape: ' + str(t_zero_padded.shape))\n",
    "print('sig_zero_padded shape: ' + str(sig_zero_padded.shape))\n",
    "print('sig_fft length: ' + str(len(sig_fft)))\n",
    "print('freq_fft length: ' + str(len(freq_fft)))\n",
    "print('sig_fft_no_dc shape: ' + str(sig_fft_no_dc.shape))\n",
    "print('sig_fft_reduced shape: ' + str(sig_fft_reduced.shape))\n",
    "print('primary_bins length: ' + str(len(primary_bins)))\n",
    "print('primary_bins[0] shape: ' + str((primary_bins[0].shape)))\n",
    "print('primary_bins[0][0]: ' + str((primary_bins[0][0])))\n",
    "print('primary_bins[0][1]: ' + str((primary_bins[0][1])))\n",
    "print('primary_bins[0][2]: ' + str((primary_bins[0][2])))\n",
    "print('primary_bins[0][3]: ' + str((primary_bins[0][3])))"
   ]
  },
  {
   "cell_type": "code",
   "execution_count": null,
   "metadata": {},
   "outputs": [],
   "source": [
    "np.argpartition?"
   ]
  },
  {
   "cell_type": "code",
   "execution_count": null,
   "metadata": {},
   "outputs": [],
   "source": [
    "deepcopy?"
   ]
  },
  {
   "cell_type": "code",
   "execution_count": null,
   "metadata": {},
   "outputs": [],
   "source": [
    "\n",
    "def demodulate_with_fft(t,sig,start_index,f_fr,phase_units='rad',correct_phase_jumps=False,\n",
    "                        phase_jump_threshold=0,plot_demod = False,plot_demod_title=None,\n",
    "                        intermediate_plotting_limits=[None,None],plot_chunking_process = False,\n",
    "                        plot_fft = False,plot_fft_no_dc = False,plot_limited_fft = False,\n",
    "                        plot_fit = False,plot_vectors = False):\n",
    "    \n",
    "    print(f'shape sig: {sig.shape}')\n",
    "    print(f'len t: {len(t)}')\n",
    "\n",
    "\n",
    "# --------- PLOTTING SETUP ------------\n",
    "\n",
    "    # this block establishes limits for the default plotting limits\n",
    "    if intermediate_plotting_limits[0] == None: \n",
    "        intermediate_plotting_limits[0] = t[0]\n",
    "    if intermediate_plotting_limits[1] == None:\n",
    "        intermediate_plotting_limits[1] = t[-1]\n",
    "    \n",
    "    # setting up matplotlib subplot structure \n",
    "    if plot_demod == True:\n",
    "        fig_demod, ax_demod = plt.subplots(1)\n",
    "        ax_demod.set_ylim([-0.05,1])\n",
    "            \n",
    "        #establish array for storing phase\n",
    "        phase_array = np.array([])\n",
    "        \n",
    "    # why is this phase_array only established if plot_demod == True? \n",
    "    \n",
    "    if plot_chunking_process == True:\n",
    "        #print(sig[ch])\n",
    "        fig1, ax1 = plt.subplots(1)\n",
    "        ax1.plot(t,sig,'.-')\n",
    "        ax1.set_xlabel('$t$ (s)')\n",
    "        ax1.set_ylabel('Resonator Position (arb.)')\n",
    "        #ax1.set_title(f'Ch. {ch}')\n",
    "        fig1.show()\n",
    "\n",
    "\n",
    "\n",
    "# --------- FLUX RAMP SETUP ------------\n",
    "\n",
    "\n",
    "    #begin at start of first fr \n",
    "    # section removes initial part of both time (t) and signal streams (sig) \n",
    "    # arguments up to chosen start index (argument)\n",
    "    # in order to align the t_fr_start at zero\n",
    "    t_fr_start = t[start_index:] # finds t (ts_fr) at the chosen start index for all channels from the already manually organized \n",
    "    t_fr_start = t_fr_start - t_fr_start[0] # subtracts that first time index from the timestream to correct whole array\n",
    "    sig_fr_start = sig[start_index:] # starts signal at the chosen index as well\n",
    "\n",
    "    #fig_test, ax_test = plt.subplots(1)\n",
    "    #ax_test.plot(t,sig)\n",
    "    #ax_test.plot(t[start_index],sig[start_index],'*')\n",
    "\n",
    "        \n",
    "    if plot_chunking_process == True:\n",
    "        ax1.plot(t_fr_start,sig_fr_start,'.-')\n",
    "        ax1.set_xlabel('$t$ (s)')\n",
    "        ax1.set_ylabel('Resonator Position (arb.)')\n",
    "        #ax1.set_title(f'Ch. {ch}')\n",
    "\n",
    "# --------- INTERPOLATION ------------\n",
    "\n",
    "    #interpolate the data \n",
    "    print(f'len t_fr_start: {len(t_fr_start)}')\n",
    "    print(f'len sig_fr_start: {len(sig_fr_start)}')\n",
    "    # see scipy's interp1d function: \n",
    "    # takes x, y to interpolate and basically fill in values between already existing ones??\n",
    "    interpolation = interp1d(t_fr_start, sig_fr_start,fill_value='extrapolate') # creates interpolation function (STRAIGHT LINES)\n",
    "\n",
    "    # looking at full data stream -- want to chunk up the reset periods and imagine stacking them on top of each other. \n",
    "    # want all of them to be same rate \n",
    "    t_final = round((t_fr_start[-1])/(1/f_fr))*(1/f_fr) #make final time the latest time that fits an integer number of flux ramps; will interpolate to here\n",
    "    t_start = t_fr_start[0] # reasserts t_start as first point in corrected time series \n",
    "    t_elapsed = t_final - t_start # finds amount of time from t_start to t_final\n",
    "    n_reset_periods = t_elapsed * f_fr #will be replaced when we have the fr reference\n",
    "    # what's happening? taking the full integer-multiple flux ramp periodic data, \n",
    "    # multiplying by the sawtooth (15 hz) flux ramp rate \n",
    "    # t * n/t = n !\n",
    "        \n",
    "    t_interp = np.linspace(t_start, t_final, round(n_reset_periods)*1024) #interpolate so that every chunk has 1024 points (per flux ramp cycle); will make fft faster        \n",
    "    sig_interp = interpolation(t_interp) # makes evenly spaced points in signal, based on the time array t_interp. \n",
    "\n",
    "# --------- FLUX RAMP CYCLE **CHUNKING** SETUP ------------\n",
    "\n",
    "    if plot_chunking_process == True:\n",
    "        fig2, ax2 = plt.subplots(1)\n",
    "        ax2.plot(t_interp, sig_interp,'.')\n",
    "        ax2.set_xlabel('$t$ (s)')\n",
    "        ax2.set_ylabel('Resonator Position (arb.)')\n",
    "        #ax2.set_title(f'Ch. {ch}')\n",
    "        \n",
    "    t_chunked = np.reshape(t_interp,(int(len(t_interp)/1024), 1024)) # reshapes interpolated time array into chunks of 1024 points each\n",
    "    sig_chunked = np.reshape(sig_interp,(int(len(sig_interp)/1024), 1024)) # reshapes interpolated signal array into chunks of 1024 points each\n",
    "    sig_average = sig_chunked.mean(axis=1, keepdims=True) # grabs average of each signal \n",
    "    sig_chunked = sig_chunked - sig_average # subtracts average to center signal at zero \n",
    "\n",
    "\n",
    "    # okay so this is really what breaks things up into flux ramp periods (chunks)\n",
    "    reset_indices_interp_space = [(row+1)*sig_chunked.shape[1] for row in range(len(sig_chunked))] # makes new iterating dimension space \n",
    "    reset_indices = [find_nearest_idx(sig, entry) for entry in reset_indices_interp_space] # find indices of points marking each beginning of flux ramp period\n",
    "\n",
    "\n",
    "\n",
    "    if plot_chunking_process == True:\n",
    "        fig3, ax3 = plt.subplots(1)\n",
    "        for chunk in range(len(t_chunked)):\n",
    "            if np.median(t_chunked[chunk]) >= intermediate_plotting_limits[0] and np.median(t_chunked[chunk]) <= intermediate_plotting_limits[1]:\n",
    "                ax3.plot(t_chunked[chunk],sig_chunked[chunk],'.-')\n",
    "                ax3.set_xlabel('$t$ (s)')\n",
    "                ax3.set_ylabel('Resonator Position (arb.)')\n",
    "                #ax3.set_title(f'Ch. {ch}; Chunk {ch}; t_demod = {np.median(t_chunked[chunk])}')\n",
    "                \n",
    "    #reset_mask = np.append(np.zeros(50),np.ones(1024-50*2))\n",
    "    #reset_mask = np.append(reset_mask,np.zeros(50))\n",
    "      \n",
    "    #sig_chunked = np.array([row*reset_mask for row in sig_chunked])\n",
    "                \n",
    "    # --------- ZERO PADDING FOR FFT ------------\n",
    "\n",
    "    # grabs time of last period in first channel, adds the median of the difference between time chunks \n",
    "    t_increase = (t_chunked[0,-1] + np.median(np.diff(t_chunked[0]))) \n",
    "    # adds the increase (scalar) to the entire t_chunked array, shifting it in time\n",
    "    t_new = t_chunked + t_increase\n",
    "               \n",
    "    t_zero_padded = np.hstack((t_chunked, t_new)) # stacks the two time arrays together        \n",
    "    sig_zero_padded = np.hstack((sig_chunked, np.zeros(sig_chunked.shape))) # stacks sig_chunked with an array of zeros to zero-pad\n",
    "\n",
    "    # so essentially doubling the data using the existing data?? \n",
    "    # no (?), only doubling the length of the data with uniform time intervals and zeros for the signal... \n",
    "        \n",
    "    if plot_chunking_process == True and t[0] >= intermediate_plotting_limits[0] and t[0] <= intermediate_plotting_limits[1]:\n",
    "        fig4, ax4 = plt.subplots(1)\n",
    "        for chunk in range(len(t_zero_padded)):\n",
    "            #fft_fit = ifft(sig_fft) #only waste computation time on computing the fit if we actually want to plot it; otherwise we'll just use the fft above\n",
    "            ax4.plot(t_zero_padded[chunk],sig_zero_padded[chunk],'.')\n",
    "            ax4.set_xlabel('$t$ (s)')\n",
    "            ax4.set_ylabel('Resonator Position (arb.)')\n",
    "            #ax4.set_title(f'Ch. {ch}; Chunk {ch}; t_demod = {np.median(t_chunked[chunk])}')\n",
    "                        \n",
    "    # --------- COMPUTE FFT ------------\n",
    "                       \n",
    "    sig_fft = fft(sig_zero_padded) # compute fast fourier transform of signal with zero padding\n",
    "    freq_fft = fftfreq(len(t_zero_padded[0]),np.median(np.diff(t_zero_padded[0])))  # get frequency values for signal FFT based on time array\n",
    "    \n",
    "\n",
    "    if plot_fft == True:\n",
    "            \n",
    "        for chunk in range(len(t_zero_padded)):\n",
    "            if np.median(t_chunked[chunk]) >= intermediate_plotting_limits[0] and np.median(t_chunked[chunk]) <= intermediate_plotting_limits[1]:\n",
    "                fig5, ax5 = plt.subplots(1)\n",
    "                ax5.stem(freq_fft,np.abs(sig_fft[chunk]))\n",
    "                #ax5.set_title(f'Full FFT; Ch. {ch}; Chunk {chunk}; t_demod = {np.median(t_chunked[chunk])}')  \n",
    "                ax5.set_xlabel('$f$ (Hz.)')\n",
    "                ax5.set_ylabel('FFT Power (arb.)')\n",
    "                \n",
    "    # note: \n",
    "    # A deep copy constructs a new compound object and then, recursively, inserts *copies* into it of the objects found in the original.\n",
    "\n",
    "    #remove dc from fft:\n",
    "    sig_fft_no_dc = deepcopy(sig_fft) # DC = zero frequency elements, remove those (spike at center?)\n",
    "    sig_fft_no_dc[:,0] = 0 # okay so removes the zero frequencies but keeps the shape of the 2048 array ???\n",
    "        \n",
    "    if plot_fft_no_dc == True:\n",
    "            \n",
    "        for chunk in range(len(t_zero_padded)):\n",
    "            if np.median(t_chunked[chunk]) >= intermediate_plotting_limits[0] and np.median(t_chunked[chunk]) <= intermediate_plotting_limits[1]:\n",
    "                fig6, ax6 = plt.subplots(1)\n",
    "                ax6.stem(freq_fft,np.abs(sig_fft_no_dc[chunk]))\n",
    "                #ax6.set_title(f'No DC FFT; Ch. {ch}; Chunk {chunk}; t_demod = {np.median(t_chunked[chunk])}')  \n",
    "                ax6.set_xlabel('$f$ (Hz.)')\n",
    "                ax6.set_ylabel('FFT Power (arb.)')\n",
    "        \n",
    "    \n",
    "    # --------- FILTERING FFT ------------\n",
    "\n",
    "    #keep largest fourier component \n",
    "    sig_fft_reduced = deepcopy(sig_fft_no_dc) # what does deep copy do here? \n",
    "    # per chunk, identify four largest fourier components \n",
    "    primary_bins = [np.argpartition(np.abs(row), -4)[-4:] for row in sig_fft_reduced] #identify the four greatest bins (two on each side of the fft)\n",
    "    primary_bins = [np.sort(row) for row in primary_bins] # sorts component bins\n",
    "    mask = np.zeros_like(sig_fft_reduced) # creating mask shaped like the original fft object\n",
    "    [np.put(mask[row],primary_bins[row],1) for row in range(len(mask))] # for each row of the mask, enters the target integers (primary bins) \n",
    "    \n",
    "    # some of them get multiplied by 0 some by 1\n",
    "    # so mask multiplies desired by 1\n",
    "    # \n",
    "\n",
    "    # that fft bin is a complex value \n",
    "    # what this is saying: i have a sinusoid (FFT it, take it down to the highest bin. then you have have a sinusoid that's trying to follow the \n",
    "    # path of the frequency )\n",
    "                       \n",
    "    sig_fft_reduced = sig_fft_reduced * mask # multiply the mask by the signal to pull out Fourier components \n",
    "        \n",
    "    # \n",
    "    if plot_limited_fft == True:\n",
    "            \n",
    "        for chunk in range(len(t_zero_padded)):\n",
    "            if np.median(t_chunked[chunk]) >= intermediate_plotting_limits[0] and np.median(t_chunked[chunk]) <= intermediate_plotting_limits[1]:\n",
    "                fig7, ax7 = plt.subplots(1)\n",
    "                ax7.stem(freq_fft,np.abs(sig_fft_reduced[chunk]))  \n",
    "                #ax7.set_title(f'Reduced FFT; Ch. {ch}; Chunk {chunk}; t_demod = {np.median(t_chunked[chunk])}')  \n",
    "                ax7.set_xlabel('$f$ (Hz.)')\n",
    "                ax7.set_ylabel('FFT Power (arb.)')\n",
    "        \n",
    "    if plot_fit == True:\n",
    "           \n",
    "        for chunk in range(len(t_zero_padded)):\n",
    "            if np.median(t_chunked[chunk]) >= intermediate_plotting_limits[0] and np.median(t_chunked[chunk]) <= intermediate_plotting_limits[1]:\n",
    "                limited_fit = ifft(sig_fft_reduced)\n",
    "                fig8, ax8 = plt.subplots(1)\n",
    "                ax8.plot(t_zero_padded[chunk], sig_zero_padded[chunk], '.')\n",
    "                ax8.plot(t_zero_padded[chunk], limited_fit[chunk], '-')\n",
    "                ax8.set_xlabel('$t$ (s)')\n",
    "                ax8.set_ylabel('Resonator Position (arb.)')\n",
    "                #ax8.set_title(f'Ch. {ch}; Chunk {chunk}; t_demod = {np.median(t_chunked[chunk])}')\n",
    "                \n",
    "        \n",
    "    # --------- FINDING PHASE FROM FFT ------------\n",
    "         \n",
    "    # grabbing real and imaginary components of two most dominant FFT components (if-else, clarify) \n",
    "\n",
    "    #real \n",
    "    R1 = [np.real(sig_fft_reduced[row][primary_bins[row][0]]) if primary_bins[row][0] >= primary_bins[row][1] else np.real(sig_fft_reduced[row][primary_bins[row][1]]) for row in range(len(sig_fft_reduced))] \n",
    "    R2 = [np.real(sig_fft_reduced[row][primary_bins[row][1]]) if primary_bins[row][0] >= primary_bins[row][1] else np.real(sig_fft_reduced[row][primary_bins[row][0]]) for row in range(len(sig_fft_reduced))]\n",
    "    #imag \n",
    "    I1 = [np.imag(sig_fft_reduced[row][primary_bins[row][0]]) if primary_bins[row][0] >= primary_bins[row][1] else np.imag(sig_fft_reduced[row][primary_bins[row][1]]) for row in range(len(sig_fft_reduced))]\n",
    "    I2 = [np.imag(sig_fft_reduced[row][primary_bins[row][1]]) if primary_bins[row][0] >= primary_bins[row][1] else np.imag(sig_fft_reduced[row][primary_bins[row][0]]) for row in range(len(sig_fft_reduced))]\n",
    "        \n",
    "    # computes phase angle \n",
    "    #note change here from unvectorized code: sets angle1 to 0 if Re=0 and Im=0\n",
    "    angle1 = [np.angle(R1[row]+1j*I1[row]) if I1[row] > 0 else 2*np.pi + np.angle(R1[row]+1j*I1[row]) if I1[row] < 0 else 0 if I1[row] == 0 and R1[row] > 0 else np.pi if I1[row] == 0 and R1[row] < 0 else 0 for row in range(len(R1))]\n",
    "    #note change here from unvectorized code: sets angle2 to 0 if Re=0 and Im=0\n",
    "    angle2 = [np.angle(R2[row]+1j*I2[row]) if I2[row] > 0 else 2*np.pi + np.angle(R2[row]+1j*I2[row]) if I2[row] < 0 else 0 if I2[row] == 0 and R2[row] > 0 else np.pi if I2[row] == 0 and R2[row] < 0 else 0 for row in range(len(R2))]\n",
    "        \n",
    "        \n",
    "    if plot_vectors == True:\n",
    "            \n",
    "        summed_vectors = [(R1[row]+I2[row])+1j*(I1[row]-R2[row]) if R2[row] > 0 and I2[row] > 0 and I1[row] < 0 else (R1[row]-I2[row])+1j*(I1[row]+R2[row]) if angle1[row] > angle2[row] else (R1[row]+I2[row])+1j*(I1[row]-R2[row]) if angle2[row] > angle1[row] else (R1[row]+R2[row])+1j*(I1[row]+I2[row]) for row in range(len(angle1))]\n",
    "        \n",
    "            \n",
    "        for chunk in range(len(R1)):\n",
    "            if np.median(t_chunked[chunk]) >= intermediate_plotting_limits[0] and np.median(t_chunked[chunk]) <= intermediate_plotting_limits[1]:\n",
    "                fig9, ax9 = plt.subplots(1)\n",
    "                ax9.set_aspect('equal', adjustable='box')\n",
    "                vec1 = [0+1j*0, R1[chunk]+1j*I1[chunk]]\n",
    "                vec2 = [0+1j*0, R2[chunk]+1j*I2[chunk]]\n",
    "                summed = [0+1j*0, summed_vectors[chunk]]\n",
    "\n",
    "                ax9.plot(np.real(vec1), np.imag(vec1),'-',label='vec1')\n",
    "                ax9.plot(np.real(vec2), np.imag(vec2),'-',label='vec2')\n",
    "                ax9.plot(np.real(summed), np.imag(summed),'-',label='summed')\n",
    "                ax9.set_xlabel('Real')\n",
    "                ax9.set_ylabel('Imaginary')\n",
    "                #ax9.set_title(f'Ch. {ch}; Chunk {chunk}; t_demod = {np.median(t_chunked[chunk])}')\n",
    "                ax9.legend()\n",
    "        \n",
    "        \n",
    "    #note change here form unvectorized code: sets interpolated_phase to the phase of the sum of the two angles if they exactly align from the beginning\n",
    "    #^ ??\n",
    "\n",
    "    # computes interpolated phase -- handling all fo teh different quadrants the thing could be in (arctan), doing the thing it needs to do \n",
    "    interpolated_phase = [np.arctan2((I1[row]-R2[row]),(R1[row]+I2[row])) if R2[row] > 0 and I2[row] > 0 and I1[row] < 0 else np.arctan2((I1[row]+R2[row]),(R1[row]-I2[row])) if angle1[row] > angle2[row] else np.arctan2((I1[row]-R2[row]),(R1[row]+I2[row])) if angle2[row] > angle1[row] else np.arctan2((I1[row]+I2[row]),(R1[row]+R2[row])) for row in range(len(angle1))]\n",
    "    # corrects dicontinuities in the phase \n",
    "    interpolated_phase = np.unwrap(interpolated_phase) \n",
    "        \n",
    "    # establishes/converts units for the phase data \n",
    "    if phase_units == 'nPhi0':\n",
    "        interpolated_phase = [entry / (2*np.pi) for entry in interpolated_phase]\n",
    "        axis_label = 'Phase ($n_{\\\\Phi_0}$)'\n",
    "    elif phase_units == 'deg':\n",
    "        interpolated_phase = [entry * 180 / np.pi for entry in interpolated_phase]\n",
    "        axis_label = 'Phase (deg.)'\n",
    "    elif phase_units == 'rad':\n",
    "        axis_label = 'Phase (rad.)'\n",
    "    else:\n",
    "        raise('Invalid units requested. Please use \"nPhi0\", \"rad\", or \"deg\".')\n",
    "            \n",
    "    demod_t = np.array([np.median(row) for row in t_chunked]) # gets time values for the demodulated phase values (median in the sample period)\n",
    "        \n",
    "    if correct_phase_jumps == True: # correcting for phase jumps (clarify) \n",
    "        phase_array_diff = np.diff(interpolated_phase)\n",
    "        discontinuity_index = np.argwhere(phase_array_diff > phase_jump_threshold)\n",
    "        discontinuity_index = discontinuity_index.reshape(1,len(discontinuity_index))[0]\n",
    "               \n",
    "        def linear_model(x,m,b):\n",
    "            return m*x+b\n",
    "            \n",
    "        if len(discontinuity_index) != 0:\n",
    "                \n",
    "                           \n",
    "            phase_split = np.split(interpolated_phase, discontinuity_index+1)\n",
    "            t_split = np.split(demod_t, discontinuity_index+1)\n",
    "\n",
    "                \n",
    "            phase_split_corrected = np.array([])\n",
    "            t_split_corrected = np.array([])\n",
    "            for i in range(len(phase_split)):\n",
    "                    \n",
    "                if len(phase_split[i]) >= 4:\n",
    "                        \n",
    "\n",
    "                    t_drop_final = t_split[i]\n",
    "                        \n",
    "                    phase_drop_final = phase_split[i]        \n",
    "                    \n",
    "                        \n",
    "\n",
    "                    linear_fit = curve_fit(linear_model, t_drop_final, phase_drop_final, check_finite=False)\n",
    "\n",
    "                    fitted_line = linear_model(t_drop_final,linear_fit[0][0],linear_fit[0][1])\n",
    "\n",
    "                    phase_remove_accumulation = phase_drop_final - fitted_line\n",
    "                        \n",
    "                else:\n",
    "                    t_drop_final = t_split[i]\n",
    "                    phase_drop_final = phase_split[i]\n",
    "                    phase_remove_accumulation = phase_split[i]\n",
    "                        \n",
    "                phase_split_corrected = np.append(phase_split_corrected, phase_remove_accumulation)\n",
    "                t_split_corrected = np.append(t_split_corrected, t_drop_final)\n",
    "                    \n",
    "            demod_t = t_split_corrected\n",
    "            interpolated_phase = phase_split_corrected\n",
    "  \n",
    "    #if chunk_count == 0:\n",
    "    #    demod_data = np.array(interpolated_phase)            \n",
    "    #else:\n",
    "    #    demod_data = np.vstack([demod_data, np.array(interpolated_phase)])\n",
    "            \n",
    "      \n",
    "                \n",
    "    def linear_model(x,m,b):\n",
    "        return m*x+b                    \n",
    "   \n",
    "    # why not np.polyfit ?? \n",
    "        \n",
    "\n",
    "    linear_fit = curve_fit(linear_model, demod_t, interpolated_phase, check_finite=False) # fits a curve to ?? \n",
    "\n",
    "    fitted_line = linear_model(demod_t,linear_fit[0][0],linear_fit[0][1])\n",
    "\n",
    "    phase_remove_accumulation = interpolated_phase - fitted_line # removes linear trend\n",
    "    \n",
    "    \n",
    "    \n",
    "    if plot_demod == True:\n",
    "        ax_demod.plot(demod_t, interpolated_phase-np.average(interpolated_phase)+0.1*chunk_count,'-')\n",
    "        ax_demod.set_ylabel(axis_label)\n",
    "        ax_demod.set_xlabel('$t$ (s)')            \n",
    "        \n",
    "    #chunk_count += 1\n",
    "    \n",
    "    return demod_t, phase_remove_accumulation, reset_indices#demod_data\n"
   ]
  },
  {
   "cell_type": "code",
   "execution_count": null,
   "metadata": {},
   "outputs": [],
   "source": [
    "demod_time, phases, idx_reset = demodulate_with_fft(t=ts_fr,\n",
    "        sig=data_cal[0],\n",
    "        start_index=start_idx,                                                                      \n",
    "        f_fr=f_sawtooth,\n",
    "        phase_units='nPhi0',\n",
    "        plot_demod = False,\n",
    "        plot_demod_title=None,\n",
    "        intermediate_plotting_limits=[None,None],\n",
    "        plot_chunking_process = False,\n",
    "        plot_fft = False,\n",
    "        plot_fft_no_dc = False,\n",
    "        plot_limited_fft = False,\n",
    "        plot_fit = False,\n",
    "        plot_vectors = False)"
   ]
  },
  {
   "cell_type": "code",
   "execution_count": null,
   "metadata": {},
   "outputs": [],
   "source": [
    "plt.plot(demod_time, phases)"
   ]
  },
  {
   "cell_type": "code",
   "execution_count": null,
   "metadata": {},
   "outputs": [],
   "source": [
    "\n",
    "\n",
    "def full_demod_process(ts_file, f_sawtooth, method = 'fft', correct_phase_jumps = False, phase_jump_threshold = 0.4, n=0, channels='all',start_channel=0,stop_channel=1000, display_mode = 'terminal'):\n",
    "    #n is number of points blanked before and after fr reset; only used when method='simple'\n",
    "    #unpack data -> eventually change so that you give the ts data path and the function finds the associated tone initialization files\n",
    "\n",
    "    print('using full_demod_process')\n",
    "\n",
    "    init_freq = ts_file.split('_')[3]\n",
    "    print(init_freq)\n",
    "    init_time = ts_file.split('_')[4]\n",
    "    print(init_time)\n",
    "    init_directory = f'{tone_init_path}/fcenter_{init_freq}_{init_time}/'\n",
    "    print(init_directory)\n",
    "    \n",
    "    initial_lo_sweep_path = find_file(init_directory, 'lo_sweep_initial')\n",
    "    targeted_lo_sweep_path = find_file(init_directory, 'lo_sweep_targeted_2')\n",
    "    tone_freqs_path = find_file(init_directory, 'freq_list_lo_sweep_targeted_1')\n",
    "    ts_path = f'{ts_path}/{ts_file}'    \n",
    "    \n",
    "    initial_lo_sweep=np.load(initial_lo_sweep_path) #find initial lo sweep file\n",
    "    targeted_lo_sweep=np.load(targeted_lo_sweep_path) #find targeted sweep file\n",
    "    tone_freqs=np.load(tone_freqs_path) #find tone freqs\n",
    "    #print(tone_freqs)\n",
    "    if channels == 'some':\n",
    "        tone_freqs = tone_freqs[start_channel + 23:stop_channel + 23 + 1]\n",
    "        print(tone_freqs)\n",
    "    ts_fr,Is_fr,Qs_fr=read_data(ts_file,channels=channels,start_channel=start_channel,stop_channel=stop_channel)    #note to self: limit tone_freqs to actively called channels; need to figure out channel numbering first\n",
    "    \n",
    "    #testing fixing the time breaks before the demod -- probably don't want to keep this but we'll see\n",
    "    fs=512e6/(2**20)    #this line is incredibly important; need to make sure we match the data rate at all times; add an if statement for faster data rate data\n",
    "    #fs=256e6/(2**19)\n",
    "    ts_fr = np.arange(Is_fr.shape[1])/fs\n",
    "    \n",
    "    \n",
    "    print(f'num of channels: {len(Is_fr)}')\n",
    "    print(f'num of tones: {len(tone_freqs)}')\n",
    "    \n",
    "    \"\"\"\n",
    "    #depricated code for finding delay region\n",
    "    #look at initial sweep\n",
    "    plot_s21([initial_lo_sweep])\n",
    "    \n",
    "    \n",
    "    #choose delay region - should automate finding an area without peaks later\n",
    "    delay_region_start = float(input('Delay Region Start (GHz): '))*1e9\n",
    "    delay_region_stop = float(input('Delay Region Stop (GHz): '))*1e9\n",
    "    \"\"\"\n",
    "    #compute delay region\n",
    "    print('looking for delay region')\n",
    "    delay_region_start, delay_region_stop = find_freqs_cable_delay_subtraction(initial_lo_sweep,0.98,10000)\n",
    "    print(f'start = {delay_region_start}')\n",
    "    print(f'stop = {delay_region_stop}')\n",
    "    \n",
    "    #measure cable delay\n",
    "    delays = measure_delay_test_given_freq(initial_lo_sweep,delay_region_start,delay_region_stop,plot=False)\n",
    "    \n",
    "    print(f'delay: {np.median(delays)}')\n",
    "\n",
    "    #remove cable delay\n",
    "    targeted_lo_sweep_rm=remove_delay(targeted_lo_sweep,\n",
    "                                      np.median(delays),\n",
    "                                      channels=channels,\n",
    "                                      start_channel=start_channel,\n",
    "                                      stop_channel=stop_channel)\n",
    "    \n",
    "    IQ_stream_rm=remove_delay_timestream(Is_fr+1j*Qs_fr,tone_freqs,np.median(delays))\n",
    "    \n",
    "    #measure circle parameters\n",
    "    calibration=measure_circle_allch(targeted_lo_sweep_rm,\n",
    "                                     tone_freqs,\n",
    "                                     channels=channels,\n",
    "                                     start_channel=start_channel,\n",
    "                                     stop_channel=stop_channel) #finds circle center and initial phase for every channel\n",
    "    \n",
    "    print(calibration[0])\n",
    "    #calibrate time stream\n",
    "    data_cal=get_phase(IQ_stream_rm,calibration)\n",
    "\n",
    "    #fig_testing, ax_testing = plt.subplots(1)\n",
    "    #for i in [1]:\n",
    "    #    ax_testing.plot(data_cal[i])\n",
    "    \n",
    "    #find nphi_0\n",
    "    t_start=0\n",
    "    t_stop=10\n",
    "\n",
    "    n_phi0 = find_n_phi0(ts_fr[488*t_start:488*t_stop],data_cal[:,488*t_start:488*t_stop],f_sawtooth,plot=False)  #discard the first few seconds\n",
    "    print(f'n_phi0: {n_phi0}')\n",
    "    \n",
    "    #find t0\n",
    "    t0_array = np.array([])\n",
    "    for current_channel in range(len(data_cal)):\n",
    "        t0 = mea_reset_t0(ts_fr[488*t_start:488*t_stop],data_cal[current_channel,488*t_start:488*t_stop],f_sawtooth,plot=False)\n",
    "        #ts_freq = 1/np.nanmedian(np.diff(ts_fr))\n",
    "        #t0 = mea_reset_t0(ts_fr[ts_freq*t_start:ts_freq*t_stop],data_cal[current_channel,ts_freq*t_start:ts_freq*t_stop],f_sawtooth,plot=False)\n",
    "        t0_array = np.append(t0_array,t0)\n",
    "\n",
    "    t0_med = np.nanmedian(t0_array)\n",
    "    \n",
    "    #demod\n",
    "    \n",
    "    if method == 'simple' or method =='iv':\n",
    "        t_demods=[]\n",
    "        data_demods=[]\n",
    "    elif method == 'fft':\n",
    "        t_demods=np.array([])\n",
    "        data_demods=np.array([])\n",
    "        ch_count = 0\n",
    "    start_idx = find_nearest_idx(ts_fr-ts_fr[0], t0_med)\n",
    "    print(f'start index: {start_idx}')\n",
    "    if display_mode == 'notebook':\n",
    "        for chan in tqdm_notebook(range(data_cal.shape[0])):#np.arange(225,230,1):#range(data_cal.shape[0]):\n",
    "            if method == 'iv':\n",
    "                t_demod, data_demod = demodulate_for_iv(ts_fr[start_idx:]-ts_fr[start_idx], data_cal[chan, start_idx:], n_phi0, 3,f_sawtooth)\n",
    "            \n",
    "                t_demods.append(t_demod)\n",
    "                data_demod_unwrap=np.unwrap(data_demod,period=1)\n",
    "                data_demods.append(data_demod_unwrap)\n",
    "            if method == 'simple':\n",
    "                t_demod, data_demod, reset_indices = demodulate(ts_fr[start_idx:]-ts_fr[start_idx],\n",
    "                                                                data_cal[chan, start_idx:],\n",
    "                                                                n_phi0,\n",
    "                                                                n,\n",
    "                                                                f_sawtooth)\n",
    "                t_demods.append(t_demod)\n",
    "                data_demod_unwrap=np.unwrap(data_demod,period=1)\n",
    "                data_demods.append(data_demod_unwrap)\n",
    "            if method == 'fft':\n",
    "                t_demod, data_demod, reset_indices = demodulate_with_fft(t=ts_fr,\n",
    "                                                                        sig=data_cal[chan],\n",
    "                                                                        start_index=start_idx,                                                                      \n",
    "                                                                        f_fr=f_sawtooth,\n",
    "                                                                        phase_units='nPhi0',\n",
    "                                                                        correct_phase_jumps=correct_phase_jumps,\n",
    "                                                                        phase_jump_threshold=phase_jump_threshold,\n",
    "                                                                        plot_demod = False,\n",
    "                                                                        plot_demod_title=None,\n",
    "                                                                        intermediate_plotting_limits=[None,None],\n",
    "                                                                        plot_chunking_process = False,\n",
    "                                                                        plot_fft = False,\n",
    "                                                                        plot_fft_no_dc = False,\n",
    "                                                                        plot_limited_fft = False,\n",
    "                                                                        plot_fit = False,\n",
    "                                                                        plot_vectors = False)\n",
    "                \n",
    "                #print(t_demod)\n",
    "                if ch_count == 0:\n",
    "                    data_demods = data_demod\n",
    "                else:\n",
    "                    #t_demods = np.append(t_demods, np.array(t_demod))\n",
    "                    data_demods = np.vstack([data_demods, np.array(data_demod)])\n",
    "                t_demods = t_demod\n",
    "                ch_count += 1\n",
    "    elif display_mode == 'terminal':\n",
    "        \n",
    "        for chan in tqdm_terminal(range(data_cal.shape[0])):#np.arange(225,230,1):#range(data_cal.shape[0]):\n",
    "            if method == 'simple':\n",
    "                t_demod, data_demod, reset_indices = demodulate(ts_fr[start_idx:]-ts_fr[start_idx],\n",
    "                                                                data_cal[chan, start_idx:],\n",
    "                                                                n_phi0,\n",
    "                                                                n,\n",
    "                                                                f_sawtooth)\n",
    "                t_demods.append(t_demod)\n",
    "                data_demod_unwrap=np.unwrap(data_demod,period=1)\n",
    "                data_demods.append(data_demod_unwrap)\n",
    "            if method == 'fft':\n",
    "                t_demod, data_demod, reset_indices = demodulate_with_fft(t=ts_fr,\n",
    "                                                                        sig=data_cal[chan],\n",
    "                                                                        start_index=start_idx,                                                                      \n",
    "                                                                        f_fr=f_sawtooth,\n",
    "                                                                        phase_units='nPhi0',\n",
    "                                                                        correct_phase_jumps=False,\n",
    "                                                                        phase_jump_threshold=0,\n",
    "                                                                        plot_demod = False,\n",
    "                                                                        plot_demod_title=None,\n",
    "                                                                        intermediate_plotting_limits=[None,None],\n",
    "                                                                        plot_chunking_process = False,\n",
    "                                                                        plot_fft = False,\n",
    "                                                                        plot_fft_no_dc = False,\n",
    "                                                                        plot_limited_fft = False,\n",
    "                                                                        plot_fit = False,\n",
    "                                                                        plot_vectors = False)\n",
    "                \n",
    "                #print(t_demod)\n",
    "                if ch_count == 0:\n",
    "                    data_demods = data_demod\n",
    "                else:\n",
    "                    #t_demods = np.append(t_demods, np.array(t_demod))\n",
    "                    data_demods = np.vstack([data_demods, np.array(data_demod)])\n",
    "                t_demods = t_demod\n",
    "                ch_count += 1\n",
    "    \n",
    "\n",
    "    data_demods=np.vstack(data_demods)\n",
    "    if method == 'simple':\n",
    "        t_demods=np.vstack(t_demods)\n",
    "    \n",
    "        data_dict = {'fr t': ts_fr, \n",
    "                    'fr data': data_cal, \n",
    "                    'nphi': n_phi0, \n",
    "                    't0': t0_med,\n",
    "                    'start index': start_idx,\n",
    "                    'demod t': t_demods[1], \n",
    "                    'demod data': data_demods, \n",
    "                    'channel freqs': tone_freqs, \n",
    "                    'fsawtooth': f_sawtooth,\n",
    "                    'reset indices': reset_indices}\n",
    "    elif method == 'fft':\n",
    "        data_dict = {'fr t': ts_fr, \n",
    "                    'fr data': data_cal, \n",
    "                    'nphi': n_phi0, \n",
    "                    't0': t0_med,\n",
    "                    'start index': start_idx,\n",
    "                    'demod t': t_demods, \n",
    "                    'demod data': data_demods, \n",
    "                    'channel freqs': tone_freqs, \n",
    "                    'fsawtooth': f_sawtooth,\n",
    "                    'reset indices': reset_indices,\n",
    "                    'raw i':Is_fr,\n",
    "                    'raw q':Qs_fr}\n",
    "\n",
    "    return data_dict"
   ]
  },
  {
   "cell_type": "code",
   "execution_count": null,
   "metadata": {},
   "outputs": [],
   "source": []
  },
  {
   "cell_type": "code",
   "execution_count": null,
   "metadata": {},
   "outputs": [],
   "source": [
    "trying = full_demod_process(ts_file, f_sawtooth, method='fft', \n",
    "                            correct_phase_jumps=True,  phase_jump_threshold = 0.4, n=0, \n",
    "                            channels='all',start_channel=0,stop_channel=1000, display_mode = 'notebook')\n",
    "\n",
    "\n",
    "t_demodulated = trying['demod t']\n",
    "data_demodulated = trying['demod data']"
   ]
  },
  {
   "cell_type": "code",
   "execution_count": null,
   "metadata": {},
   "outputs": [],
   "source": [
    "t_demodulated = trying['demod t']\n",
    "data_demodulated = trying['demod data']"
   ]
  },
  {
   "cell_type": "code",
   "execution_count": null,
   "metadata": {},
   "outputs": [],
   "source": [
    "t_demodulated.shape"
   ]
  },
  {
   "cell_type": "code",
   "execution_count": null,
   "metadata": {},
   "outputs": [],
   "source": []
  },
  {
   "cell_type": "code",
   "execution_count": null,
   "metadata": {},
   "outputs": [],
   "source": [
    "len(data_demodulated)"
   ]
  },
  {
   "cell_type": "code",
   "execution_count": null,
   "metadata": {},
   "outputs": [],
   "source": [
    "fig, ax = plt.subplots(20, figsize = (10,45))\n",
    "for i in range(len(data_demodulated[0:20])):\n",
    "    single_channel_stream = data_demodulated[0+i]\n",
    "    ax[i].plot(t_demodulated[0:140], single_channel_stream[0:140], marker='.')\n",
    "    ax[i].set_title(f'Channel {0+i}')\n",
    "    ax[i].set_xlabel('time')\n",
    "    ax[i].set_ylabel('phase data')\n",
    "plt.tight_layout()"
   ]
  },
  {
   "cell_type": "code",
   "execution_count": null,
   "metadata": {},
   "outputs": [],
   "source": [
    "plt.plot(t_demodulated, data_demodulated[0])"
   ]
  },
  {
   "cell_type": "code",
   "execution_count": null,
   "metadata": {},
   "outputs": [],
   "source": [
    "interp1d?"
   ]
  },
  {
   "cell_type": "markdown",
   "metadata": {},
   "source": []
  },
  {
   "cell_type": "code",
   "execution_count": null,
   "metadata": {},
   "outputs": [],
   "source": []
  },
  {
   "cell_type": "code",
   "execution_count": null,
   "metadata": {},
   "outputs": [],
   "source": []
  },
  {
   "cell_type": "code",
   "execution_count": null,
   "metadata": {},
   "outputs": [],
   "source": []
  }
 ],
 "metadata": {
  "kernelspec": {
   "display_name": "base",
   "language": "python",
   "name": "python3"
  },
  "language_info": {
   "codemirror_mode": {
    "name": "ipython",
    "version": 3
   },
   "file_extension": ".py",
   "mimetype": "text/x-python",
   "name": "python",
   "nbconvert_exporter": "python",
   "pygments_lexer": "ipython3",
   "version": "3.11.5"
  }
 },
 "nbformat": 4,
 "nbformat_minor": 2
}
