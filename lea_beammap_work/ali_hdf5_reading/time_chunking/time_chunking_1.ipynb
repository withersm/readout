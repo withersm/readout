{
 "cells": [
  {
   "cell_type": "code",
   "execution_count": 85,
   "metadata": {},
   "outputs": [],
   "source": [
    "# packages\n",
    "\n",
    "import numpy as np\n",
    "import matplotlib as mpl\n",
    "mpl.rcParams['axes.formatter.useoffset'] = False\n",
    "import matplotlib.pyplot as plt\n",
    "import scipy\n",
    "\n",
    "from scipy.signal import sawtooth, square, savgol_filter\n",
    "import pandas as pd\n",
    "import glob as gl\n",
    "import os\n",
    "import cmath\n",
    "\n",
    "from scipy.signal import sawtooth, square,find_peaks, savgol_filter\n",
    "from scipy import spatial\n",
    "#import lambdafit as lf\n",
    "from scipy.interpolate import CubicSpline,interp1d\n",
    "import h5py\n",
    "\n",
    "from tqdm import tqdm as tqdm_terminal\n",
    "from tqdm.notebook import trange, tqdm_notebook\n",
    "from scipy.signal.windows import hann\n",
    "\n",
    "from scipy.fft import fft, ifft, fftfreq\n",
    "from copy import deepcopy\n",
    "from scipy.interpolate import CubicSpline, interp1d\n",
    "from scipy.optimize import curve_fit\n",
    "\n",
    "\n",
    "# for pandas visual number display \n",
    "\n",
    "pd.set_option('display.precision', 6)\n",
    "pd.set_option('display.float_format', '{:.10f}'.format)"
   ]
  },
  {
   "cell_type": "code",
   "execution_count": 3,
   "metadata": {},
   "outputs": [],
   "source": [
    "\n",
    "#Functions for reading, processing, and demodulating real data\n",
    "def read_data(filename, chunk='all', chunk_start=None, chunk_stop=None, single_channel=None):\n",
    "    # read in file\n",
    "    file = h5py.File(filename, 'r') \n",
    "    # pre-setting range for the for-loop iterating to fix the 0-22 rows of resonator buffer \n",
    "    buffer_range_fixed = range(22, (file['time_ordered_data']['adc_i'].shape[0])) \n",
    "    # iterate depending on chunk argument \n",
    "    if chunk == 'all':\n",
    "        ch = np.array([channel - 22 for channel in buffer_range_fixed])\n",
    "        t = np.array(file['time_ordered_data']['timestamp'])\n",
    "        adc_i = np.array([file['time_ordered_data']['adc_i'][channel] for channel in buffer_range_fixed])\n",
    "        adc_q = np.array([file['time_ordered_data']['adc_q'][channel] for channel in buffer_range_fixed])\n",
    "        \n",
    "    elif chunk == 'some': \n",
    "        ch = np.array([channel - 22 for channel in buffer_range_fixed[chunk_start:chunk_stop]])\n",
    "        t = np.array(file['time_ordered_data']['timestamp'])\n",
    "        adc_i = np.array([file['time_ordered_data']['adc_i'][channel] for channel in buffer_range_fixed[chunk_start:chunk_stop]])\n",
    "        adc_q = np.array([file['time_ordered_data']['adc_q'][channel] for channel in buffer_range_fixed[chunk_start:chunk_stop]])\n",
    "        \n",
    "    elif chunk == 'single':\n",
    "        ch = np.array(buffer_range_fixed[single_channel] - 22)\n",
    "        t = np.array(file['time_ordered_data']['timestamp'])\n",
    "        adc_i = np.array(file['time_ordered_data']['adc_i'][buffer_range_fixed[single_channel]])\n",
    "        adc_q = np.array(file['time_ordered_data']['adc_q'][buffer_range_fixed[single_channel]])\n",
    "                              \n",
    "    return t, adc_i, adc_q, ch, file # this function will now have 4 outputs instead of 3"
   ]
  },
  {
   "cell_type": "code",
   "execution_count": 88,
   "metadata": {},
   "outputs": [],
   "source": [
    "ts_f = '/home/matt/ali_drive_mnt/beam_map_data/toneinit_fcenter_4250.0_20240308061355_t_20240308062133/ts_toneinit_fcenter_4250.0_20240308061355_t_20240308062147.hd5'\n",
    "times_xy = '/home/matt/ali_drive_mnt/beam_map_data/toneinit_fcenter_4250.0_20240308061355_t_20240308062133/beam_map_data_20240308062147.txt'"
   ]
  },
  {
   "cell_type": "code",
   "execution_count": 89,
   "metadata": {},
   "outputs": [],
   "source": [
    "t_xy = pd.read_csv(times_xy, sep=',')"
   ]
  },
  {
   "cell_type": "code",
   "execution_count": 90,
   "metadata": {},
   "outputs": [
    {
     "data": {
      "text/html": [
       "<div>\n",
       "<style scoped>\n",
       "    .dataframe tbody tr th:only-of-type {\n",
       "        vertical-align: middle;\n",
       "    }\n",
       "\n",
       "    .dataframe tbody tr th {\n",
       "        vertical-align: top;\n",
       "    }\n",
       "\n",
       "    .dataframe thead th {\n",
       "        text-align: right;\n",
       "    }\n",
       "</style>\n",
       "<table border=\"1\" class=\"dataframe\">\n",
       "  <thead>\n",
       "    <tr style=\"text-align: right;\">\n",
       "      <th></th>\n",
       "      <th>start</th>\n",
       "      <th>end</th>\n",
       "      <th>x</th>\n",
       "      <th>y</th>\n",
       "    </tr>\n",
       "  </thead>\n",
       "  <tbody>\n",
       "    <tr>\n",
       "      <th>0</th>\n",
       "      <td>1709907709.2978785038</td>\n",
       "      <td>1709907959.6177837849</td>\n",
       "      <td>0</td>\n",
       "      <td>0</td>\n",
       "    </tr>\n",
       "    <tr>\n",
       "      <th>1</th>\n",
       "      <td>1709907961.6202144623</td>\n",
       "      <td>1709907965.1014409065</td>\n",
       "      <td>10</td>\n",
       "      <td>0</td>\n",
       "    </tr>\n",
       "    <tr>\n",
       "      <th>2</th>\n",
       "      <td>1709907967.1036620140</td>\n",
       "      <td>1709907970.5852940083</td>\n",
       "      <td>20</td>\n",
       "      <td>0</td>\n",
       "    </tr>\n",
       "    <tr>\n",
       "      <th>3</th>\n",
       "      <td>1709907972.5858492851</td>\n",
       "      <td>1709907976.0646548271</td>\n",
       "      <td>30</td>\n",
       "      <td>0</td>\n",
       "    </tr>\n",
       "    <tr>\n",
       "      <th>4</th>\n",
       "      <td>1709907978.0658402443</td>\n",
       "      <td>1709907981.5459232330</td>\n",
       "      <td>40</td>\n",
       "      <td>0</td>\n",
       "    </tr>\n",
       "    <tr>\n",
       "      <th>...</th>\n",
       "      <td>...</td>\n",
       "      <td>...</td>\n",
       "      <td>...</td>\n",
       "      <td>...</td>\n",
       "    </tr>\n",
       "    <tr>\n",
       "      <th>5771</th>\n",
       "      <td>1709939586.7333009243</td>\n",
       "      <td>1709939590.2120680809</td>\n",
       "      <td>40</td>\n",
       "      <td>750</td>\n",
       "    </tr>\n",
       "    <tr>\n",
       "      <th>5772</th>\n",
       "      <td>1709939592.2142755985</td>\n",
       "      <td>1709939595.6955122948</td>\n",
       "      <td>30</td>\n",
       "      <td>750</td>\n",
       "    </tr>\n",
       "    <tr>\n",
       "      <th>5773</th>\n",
       "      <td>1709939597.6966049671</td>\n",
       "      <td>1709939601.1780261993</td>\n",
       "      <td>20</td>\n",
       "      <td>750</td>\n",
       "    </tr>\n",
       "    <tr>\n",
       "      <th>5774</th>\n",
       "      <td>1709939603.1804363728</td>\n",
       "      <td>1709939606.6595745087</td>\n",
       "      <td>10</td>\n",
       "      <td>750</td>\n",
       "    </tr>\n",
       "    <tr>\n",
       "      <th>5775</th>\n",
       "      <td>1709939608.6617915630</td>\n",
       "      <td>1709939612.1427226067</td>\n",
       "      <td>0</td>\n",
       "      <td>750</td>\n",
       "    </tr>\n",
       "  </tbody>\n",
       "</table>\n",
       "<p>5776 rows × 4 columns</p>\n",
       "</div>"
      ],
      "text/plain": [
       "                     start                   end   x    y\n",
       "0    1709907709.2978785038 1709907959.6177837849   0    0\n",
       "1    1709907961.6202144623 1709907965.1014409065  10    0\n",
       "2    1709907967.1036620140 1709907970.5852940083  20    0\n",
       "3    1709907972.5858492851 1709907976.0646548271  30    0\n",
       "4    1709907978.0658402443 1709907981.5459232330  40    0\n",
       "...                    ...                   ...  ..  ...\n",
       "5771 1709939586.7333009243 1709939590.2120680809  40  750\n",
       "5772 1709939592.2142755985 1709939595.6955122948  30  750\n",
       "5773 1709939597.6966049671 1709939601.1780261993  20  750\n",
       "5774 1709939603.1804363728 1709939606.6595745087  10  750\n",
       "5775 1709939608.6617915630 1709939612.1427226067   0  750\n",
       "\n",
       "[5776 rows x 4 columns]"
      ]
     },
     "execution_count": 90,
     "metadata": {},
     "output_type": "execute_result"
    }
   ],
   "source": [
    "t_xy"
   ]
  },
  {
   "cell_type": "code",
   "execution_count": 7,
   "metadata": {},
   "outputs": [],
   "source": [
    "# for now, just going to separate them out, later on might be better to have it return a dictionary\n",
    "\n",
    "t, i, q, ch, file = read_data(ts_f,chunk='some', chunk_start=10, chunk_stop=12)"
   ]
  },
  {
   "cell_type": "code",
   "execution_count": 8,
   "metadata": {},
   "outputs": [
    {
     "data": {
      "text/plain": [
       "<KeysViewHDF5 ['attenuator_settings', 'baseband_freqs', 'chan_number', 'chanmask', 'detector_beam_ampl', 'detector_delta_x', 'detector_delta_y', 'detector_dx_dy_elevation_angle', 'detector_pol', 'dfoverf_per_mK', 'ifslice_number', 'lo_freq', 'rfsoc_number', 'sample_rate', 'tile_number', 'tone_powers']>"
      ]
     },
     "execution_count": 8,
     "metadata": {},
     "output_type": "execute_result"
    }
   ],
   "source": [
    "# trying to find bias line to match up with my channel searching but can't find it... \n",
    "file['global_data'].keys()"
   ]
  },
  {
   "cell_type": "code",
   "execution_count": 9,
   "metadata": {},
   "outputs": [
    {
     "name": "stdout",
     "output_type": "stream",
     "text": [
      "15578912 2 2 2\n"
     ]
    }
   ],
   "source": [
    "# look at properties \n",
    "print(len(t), len(i), len(q), len(ch))"
   ]
  },
  {
   "cell_type": "code",
   "execution_count": 10,
   "metadata": {},
   "outputs": [],
   "source": [
    "stream = i[0] + 1j*q[0]"
   ]
  },
  {
   "cell_type": "code",
   "execution_count": 11,
   "metadata": {},
   "outputs": [
    {
     "name": "stderr",
     "output_type": "stream",
     "text": [
      "/home/matt/.local/readout/lib/python3.10/site-packages/matplotlib/cbook/__init__.py:1298: ComplexWarning: Casting complex values to real discards the imaginary part\n",
      "  return np.asarray(x, float)\n"
     ]
    },
    {
     "data": {
      "text/plain": [
       "[<matplotlib.lines.Line2D at 0x7f1ea25b8d30>]"
      ]
     },
     "execution_count": 11,
     "metadata": {},
     "output_type": "execute_result"
    },
    {
     "data": {
      "image/png": "[encoded data removed]",
      "text/plain": [
       "<Figure size 432x288 with 1 Axes>"
      ]
     },
     "metadata": {
      "needs_background": "light"
     },
     "output_type": "display_data"
    }
   ],
   "source": [
    "plt.plot(stream)"
   ]
  },
  {
   "cell_type": "code",
   "execution_count": 12,
   "metadata": {},
   "outputs": [],
   "source": [
    "# array of (t, i, q) for both channels\n",
    "ch_10 = np.asarray((t, (i[0] + 1j*q[0])))\n",
    "ch_11 = np.asarray((t, (i[1] + 1j*q[1])))"
   ]
  },
  {
   "cell_type": "code",
   "execution_count": 68,
   "metadata": {},
   "outputs": [
    {
     "data": {
      "text/plain": [
       "array([ 874.-1174.j, 1004. -300.j, 2125. +641.j, ...,  845.-1215.j,\n",
       "        976. -345.j, 2099. +675.j])"
      ]
     },
     "execution_count": 68,
     "metadata": {},
     "output_type": "execute_result"
    }
   ],
   "source": [
    "ch_10[1]"
   ]
  },
  {
   "cell_type": "code",
   "execution_count": 23,
   "metadata": {},
   "outputs": [
    {
     "data": {
      "text/plain": [
       "5842092"
      ]
     },
     "execution_count": 23,
     "metadata": {},
     "output_type": "execute_result"
    }
   ],
   "source": [
    "int(3*len(ch_10[0])/8)"
   ]
  },
  {
   "cell_type": "code",
   "execution_count": 40,
   "metadata": {},
   "outputs": [
    {
     "name": "stderr",
     "output_type": "stream",
     "text": [
      "/tmp/ipykernel_1599515/3190745606.py:2: VisibleDeprecationWarning: Creating an ndarray from ragged nested sequences (which is a list-or-tuple of lists-or-tuples-or ndarrays with different lengths or shapes) is deprecated. If you meant to do this, you must specify 'dtype=object' when creating the ndarray.\n",
      "  ch10_tchunks = np.asarray(((ch_10[0:int(len(ch_10[0])/4), 0:int(len(ch_10[0])/4)]),\n"
     ]
    }
   ],
   "source": [
    "# breaking into smaller time chunks, just in order to look at smaller bits?\n",
    "ch10_tchunks = np.asarray(((ch_10[0:int(len(ch_10[0])/4), 0:int(len(ch_10[0])/4)]), \n",
    "                          (ch_10[int(len(ch_10[0])/4):int(len(ch_10[0])/2), int(len(ch_10[0])/4):int(len(ch_10[0])/2)]),\n",
    "                          (ch_10[int(len(ch_10[0])/2):int(3*len(ch_10[0])/4), int(len(ch_10[0])/2):int(3*len(ch_10[0])/4)]),\n",
    "                          (ch_10[int(3*(len(ch_10[0])/4)):int(len(ch_10[0])), int(3*(len(ch_10[0])/4)):int(len(ch_10[0]))])\n",
    "                          ))"
   ]
  },
  {
   "cell_type": "code",
   "execution_count": 51,
   "metadata": {},
   "outputs": [
    {
     "data": {
      "text/plain": [
       "True"
      ]
     },
     "execution_count": 51,
     "metadata": {},
     "output_type": "execute_result"
    }
   ],
   "source": [
    "len(ch_10[0]) == len(ch10_tchunks[0][0])*4"
   ]
  },
  {
   "cell_type": "code",
   "execution_count": null,
   "metadata": {},
   "outputs": [],
   "source": []
  },
  {
   "cell_type": "code",
   "execution_count": 53,
   "metadata": {},
   "outputs": [
    {
     "name": "stderr",
     "output_type": "stream",
     "text": [
      "/home/matt/.local/readout/lib/python3.10/site-packages/matplotlib/cbook/__init__.py:1298: ComplexWarning: Casting complex values to real discards the imaginary part\n",
      "  return np.asarray(x, float)\n"
     ]
    },
    {
     "data": {
      "text/plain": [
       "[<matplotlib.lines.Line2D at 0x7f1e675059c0>]"
      ]
     },
     "execution_count": 53,
     "metadata": {},
     "output_type": "execute_result"
    }
   ],
   "source": [
    "%matplotlib qt\n",
    "\n",
    "ch10_chunk1 = ch10_tchunks[0]\n",
    "\n",
    "plt.plot(ch10_chunk1[0], ch10_chunk1[1])"
   ]
  },
  {
   "cell_type": "markdown",
   "metadata": {},
   "source": [
    "Just playing around with options for time chunking to graph and not break kernel. Now going to work on getting the time table corrected..."
   ]
  },
  {
   "cell_type": "code",
   "execution_count": 91,
   "metadata": {},
   "outputs": [],
   "source": [
    "t_xy = t_xy.rename(columns={' end':'end'})"
   ]
  },
  {
   "cell_type": "code",
   "execution_count": null,
   "metadata": {},
   "outputs": [],
   "source": []
  },
  {
   "cell_type": "code",
   "execution_count": 92,
   "metadata": {},
   "outputs": [
    {
     "name": "stdout",
     "output_type": "stream",
     "text": [
      "[1.70990771e+09 1.70990796e+09 1.70990797e+09]\n",
      "[1.70990796e+09 1.70990797e+09 1.70990797e+09]\n",
      "True\n"
     ]
    }
   ],
   "source": [
    "#rearranging\n",
    "\n",
    "# pull out arrays\n",
    "start_1 = np.array(t_xy['start'])\n",
    "stop_1 = np.array(t_xy['end'])\n",
    "# delete first \n",
    "start_1_new = np.delete(start_1, 0)\n",
    "start_1_new = np.pad(start_1_new, (0, 1)) # keep lengths the same\n",
    "# confirm\n",
    "print(start_1[0:3])\n",
    "print(start_1_new[0:3])\n",
    "print(start_1[1]==start_1_new[0])\n",
    "\n"
   ]
  },
  {
   "cell_type": "code",
   "execution_count": 95,
   "metadata": {},
   "outputs": [
    {
     "name": "stdout",
     "output_type": "stream",
     "text": [
      "                     start                   end   x    y\n",
      "0    1709907709.2978785038 1709907959.6177837849   0    0\n",
      "1    1709907961.6202144623 1709907965.1014409065  10    0\n",
      "2    1709907967.1036620140 1709907970.5852940083  20    0\n",
      "3    1709907972.5858492851 1709907976.0646548271  30    0\n",
      "4    1709907978.0658402443 1709907981.5459232330  40    0\n",
      "...                    ...                   ...  ..  ...\n",
      "5771 1709939586.7333009243 1709939590.2120680809  40  750\n",
      "5772 1709939592.2142755985 1709939595.6955122948  30  750\n",
      "5773 1709939597.6966049671 1709939601.1780261993  20  750\n",
      "5774 1709939603.1804363728 1709939606.6595745087  10  750\n",
      "5775 1709939608.6617915630 1709939612.1427226067   0  750\n",
      "\n",
      "[5776 rows x 4 columns]                      start                   end   x    y\n",
      "0    1709907959.6177837849 1709907961.6202144623   0    0\n",
      "1    1709907965.1014409065 1709907967.1036620140  10    0\n",
      "2    1709907970.5852940083 1709907972.5858492851  20    0\n",
      "3    1709907976.0646548271 1709907978.0658402443  30    0\n",
      "4    1709907981.5459232330 1709907983.5482964516  40    0\n",
      "...                    ...                   ...  ..  ...\n",
      "5771 1709939590.2120680809 1709939592.2142755985  40  750\n",
      "5772 1709939595.6955122948 1709939597.6966049671  30  750\n",
      "5773 1709939601.1780261993 1709939603.1804363728  20  750\n",
      "5774 1709939606.6595745087 1709939608.6617915630  10  750\n",
      "5775 1709939612.1427226067          0.0000000000   0  750\n",
      "\n",
      "[5776 rows x 4 columns]\n"
     ]
    }
   ],
   "source": [
    "# set new columns (switch em)\n",
    "\n",
    "start_new = stop_1\n",
    "stop_new = start_1_new \n",
    "\n",
    "t_xy_new = t_xy.copy()\n",
    "t_xy_new['start'] = start_new\n",
    "t_xy_new['end'] = stop_new\n",
    "\n",
    "print(t_xy, t_xy_new)\n"
   ]
  },
  {
   "cell_type": "code",
   "execution_count": 97,
   "metadata": {},
   "outputs": [],
   "source": [
    "for i in range(len(t_xy)):\n",
    "    if t_xy_new['start'][i] != t_xy['end'][i]:\n",
    "        print(False)\n"
   ]
  },
  {
   "cell_type": "code",
   "execution_count": 101,
   "metadata": {},
   "outputs": [
    {
     "data": {
      "text/plain": [
       "2.0024306774139404"
      ]
     },
     "execution_count": 101,
     "metadata": {},
     "output_type": "execute_result"
    }
   ],
   "source": [
    "t_xy_new['end'][0]-t_xy_new['start'][0]"
   ]
  },
  {
   "cell_type": "code",
   "execution_count": 102,
   "metadata": {},
   "outputs": [
    {
     "data": {
      "text/plain": [
       "array([1.70990796e+09, 1.70990797e+09, 1.70990797e+09, ...,\n",
       "       1.70993960e+09, 1.70993961e+09, 0.00000000e+00])"
      ]
     },
     "execution_count": 102,
     "metadata": {},
     "output_type": "execute_result"
    }
   ],
   "source": [
    "times = np.hstack([t_xy_new['start'], t_xy_new['end']])\n",
    "times"
   ]
  },
  {
   "cell_type": "code",
   "execution_count": 106,
   "metadata": {},
   "outputs": [],
   "source": [
    "diffs = []\n",
    "\n",
    "for i in range(len(t_xy_new)):\n",
    "    diffs.append(t_xy_new['end'][i] - t_xy_new['start'][i])\n"
   ]
  },
  {
   "cell_type": "code",
   "execution_count": 113,
   "metadata": {},
   "outputs": [
    {
     "name": "stdout",
     "output_type": "stream",
     "text": [
      "average measurement time: 2.0021414247735754\n",
      "stdev of measurement time: 0.00042056351601956295\n",
      "median measurement time: 2.002235174179077\n"
     ]
    }
   ],
   "source": [
    "print('average measurement time: ' + str(np.average(diffs[:-1])))\n",
    "print('stdev of measurement time: ' + str(np.std(diffs[:-1])))\n",
    "print('median measurement time: ' + str(np.median(diffs[:-1])))"
   ]
  },
  {
   "cell_type": "code",
   "execution_count": 114,
   "metadata": {},
   "outputs": [
    {
     "data": {
      "text/plain": [
       "[<matplotlib.lines.Line2D at 0x7f1de48088b0>]"
      ]
     },
     "execution_count": 114,
     "metadata": {},
     "output_type": "execute_result"
    }
   ],
   "source": [
    "plt.plot(diffs[:-1])"
   ]
  },
  {
   "cell_type": "code",
   "execution_count": null,
   "metadata": {},
   "outputs": [],
   "source": []
  },
  {
   "cell_type": "code",
   "execution_count": 115,
   "metadata": {},
   "outputs": [],
   "source": [
    "orig_diffs = []\n",
    "\n",
    "for i in range(len(t_xy)):\n",
    "    orig_diffs.append(t_xy['end'][i] - t_xy['start'][i])\n"
   ]
  },
  {
   "cell_type": "code",
   "execution_count": 116,
   "metadata": {},
   "outputs": [
    {
     "name": "stdout",
     "output_type": "stream",
     "text": [
      "average measurement time: 3.5215579541111404\n",
      "stdev of measurement time: 3.2479096743820297\n",
      "median measurement time: 3.4783599376678467\n"
     ]
    }
   ],
   "source": [
    "print('average measurement time: ' + str(np.average(orig_diffs[:-1])))\n",
    "print('stdev of measurement time: ' + str(np.std(orig_diffs[:-1])))\n",
    "print('median measurement time: ' + str(np.median(orig_diffs[:-1])))"
   ]
  },
  {
   "cell_type": "code",
   "execution_count": null,
   "metadata": {},
   "outputs": [],
   "source": []
  }
 ],
 "metadata": {
  "kernelspec": {
   "display_name": "readout",
   "language": "python",
   "name": "python3"
  },
  "language_info": {
   "codemirror_mode": {
    "name": "ipython",
    "version": 3
   },
   "file_extension": ".py",
   "mimetype": "text/x-python",
   "name": "python",
   "nbconvert_exporter": "python",
   "pygments_lexer": "ipython3",
   "version": "3.10.5"
  }
 },
 "nbformat": 4,
 "nbformat_minor": 2
}
